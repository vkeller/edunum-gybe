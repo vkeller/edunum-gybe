{
 "cells": [
  {
   "cell_type": "markdown",
   "id": "da510da0-6165-4f70-a5c3-ad39964f9ef1",
   "metadata": {},
   "source": [
    "![error](images/error.png \"Erreur\")\n",
    "\n",
    "# C2-STRAT-01 : Gestion des erreurs"
   ]
  },
  {
   "cell_type": "code",
   "execution_count": null,
   "id": "1b1d96bf-687a-4b35-9f2a-39dade29833d",
   "metadata": {},
   "outputs": [],
   "source": []
  }
 ],
 "metadata": {
  "kernelspec": {
   "display_name": "Python 3 (ipykernel)",
   "language": "python",
   "name": "python3"
  },
  "language_info": {
   "codemirror_mode": {
    "name": "ipython",
    "version": 3
   },
   "file_extension": ".py",
   "mimetype": "text/x-python",
   "name": "python",
   "nbconvert_exporter": "python",
   "pygments_lexer": "ipython3",
   "version": "3.9.2"
  }
 },
 "nbformat": 4,
 "nbformat_minor": 5
}
