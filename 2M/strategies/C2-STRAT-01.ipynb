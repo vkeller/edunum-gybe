{
 "cells": [
  {
   "cell_type": "markdown",
   "id": "ea161bad-f1f1-42a7-b3f5-70fd71684d8d",
   "metadata": {
    "tags": []
   },
   "source": [
    "![etapes](images/etapes.jpg \"Etapes de résolution de problèmes\")\n",
    "\n",
    "# Stratégies de résolution de problèmes"
   ]
  },
  {
   "cell_type": "markdown",
   "id": "b76370b9-64ea-42b2-a60a-a6e4a6ff4822",
   "metadata": {},
   "source": [
    "## Objectifs pédagogiques \n",
    "\n",
    "- acquérir des éléments de stratégie de résolution de problèmes\n",
    "- appliquer sur un problème informatique"
   ]
  },
  {
   "cell_type": "markdown",
   "id": "7ebb2e97-05f3-4ac8-95bc-fc8a8f959f3a",
   "metadata": {},
   "source": [
    "## Méthodes de résolution (observée)\n",
    "\n",
    "On part d'un problème informatique posé et on établi une stratégie de résolution"
   ]
  },
  {
   "cell_type": "markdown",
   "id": "40b8d0d5-f2d6-40d1-93fd-960a37b233da",
   "metadata": {},
   "source": [
    "### Exemple de problème en informatique\n",
    "\n",
    "**Consigne**\n",
    "\n",
    "Vous avez 45 minutes pour écrire un programme informatique qui vérifie si une chaîne de caractère est un palindrome.\n",
    "\n",
    "**Entrée du programme** : une chaîne de caractères\n",
    "**Sortie du programme** : Afficher `C'est un palindrome` si la chaîne en entrée en est un. `Ce n'est pas un palindrome` si la chaîne en entrée n'en est pas un\n",
    "\n",
    "**Exemples de palindromes** : `SUGUS`, `ELLE`, `RADAR`, `KAYAK`\n",
    "Il en existe [de bien plus longs](https://fr.wikipedia.org/wiki/Palindrome) et dans toutes les langues"
   ]
  },
  {
   "cell_type": "markdown",
   "id": "f1977596-f1f0-4397-b515-c609c9ee88cc",
   "metadata": {},
   "source": [
    "### 1ère méthode\n",
    "\n",
    "- regarder la question pendant 40 minutes\n",
    "- Ecire un programme parfait en 5 minutes"
   ]
  },
  {
   "cell_type": "markdown",
   "id": "a8ed65fc-f9b1-4a5d-8738-a6d6358ad00e",
   "metadata": {},
   "source": [
    "### 2ème méthode\n",
    "\n",
    "- Ne pas lire la question\n",
    "- Ouvrir Thonny\n",
    "- Ecrire un `for` peut-être un `if` \n",
    "- Importer le module tortue : `from turtle import *`\n",
    "- Remarquer que rien ne se passe lorsqu'on appuie sur la flèche verte\n",
    "- Persister"
   ]
  },
  {
   "cell_type": "markdown",
   "id": "e5588d95-c438-4a18-9e88-6e328d03e5d1",
   "metadata": {},
   "source": [
    "## Proposition d'une méthode efficace"
   ]
  },
  {
   "cell_type": "code",
   "execution_count": null,
   "id": "e7fa8062-e95b-414a-a02e-52c2fc50face",
   "metadata": {},
   "outputs": [],
   "source": []
  }
 ],
 "metadata": {
  "kernelspec": {
   "display_name": "Python 3 (ipykernel)",
   "language": "python",
   "name": "python3"
  },
  "language_info": {
   "codemirror_mode": {
    "name": "ipython",
    "version": 3
   },
   "file_extension": ".py",
   "mimetype": "text/x-python",
   "name": "python",
   "nbconvert_exporter": "python",
   "pygments_lexer": "ipython3",
   "version": "3.9.2"
  }
 },
 "nbformat": 4,
 "nbformat_minor": 5
}
