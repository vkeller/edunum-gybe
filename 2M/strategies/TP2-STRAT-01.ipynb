{
 "cells": [
  {
   "cell_type": "markdown",
   "id": "91f32089-ffb9-4ed3-a3f8-22bc1e12cca5",
   "metadata": {},
   "source": [
    "![gomme](images/roulette.jpg \"Roulette casino\")\n",
    "\n",
    "# TP2-STRAT-01 : Gestion des erreurs et Monte-Carlo"
   ]
  },
  {
   "cell_type": "markdown",
   "id": "c8e215a7-1603-4c3a-9667-172c91fbe8e2",
   "metadata": {},
   "source": [
    "## Objectifs pédagogiques\n",
    "\n",
    "- Connaître une nouvelle classe d'algorithmes : les méthodes de Monte-Carlo\n",
    "- Comprendre un code informatique écrit par quelqu'un d'autre\n",
    "- Corriger un code informatique en analysant les erreurs de types algorithmique, programmatique et syntaxique"
   ]
  },
  {
   "cell_type": "markdown",
   "id": "5503248a-d3ff-4cca-a272-9109bb453fe3",
   "metadata": {},
   "source": [
    "## Méthodes de Monte-Carlo \n",
    "\n",
    "La classe d'algorithmes dont font partie les **méthodes de Monte-Carlo** sont une classe d'algorithmes *probabilistes et statistiques*. Elle font intervenir les nombres aléatoires. On les utilise dans la résolution de **problèmes très difficiles** dont il est souvent impossible de trouver une solution. Citons par exemple :\n",
    "\n",
    "- de problème du voyageur de commerce (TSP)\n",
    "- des problèmes en physique des particules\n",
    "- le problème du risque dans une décision financière\n",
    "\n",
    "Elles tirent leur nom du célèbre Casino de Monte-Carlo à Monaco. \n",
    "\n",
    "![casino](images/casino.jpg \"Casino de Monte-Carlo, Monaco\")\n",
    "\n",
    "### Historique\n",
    "\n",
    "La classe d'algorithmes Monte-Carlo est née dans le cadre du [Projet Manhattan](https://fr.wikipedia.org/wiki/Projet_Manhattan) (développement de la première bombe atomique américaine pendant la seconde guerre mondiale). On en attribue la paternité à Stanisław Ulam, un collègue de John Von Neuman,\n",
    "\n",
    "### Fonctionnement de l'algorithme\n",
    "\n",
    "Les méthodes de Monte-Carlo (ou algorithme de Monte-Carlo) est une méthode visant à calculer une valeur numérique en utilisant des procédés **aléatoires**, c'est-à-dire des techniques probabilistes. \n",
    "\n",
    "Sur la base de la connaissance des propriétés de ces valeurs numériques, il s'agit de tirer des nombres aléatoires et vérifier qu'ils remplissent ces propriétés. Deux cas se présentent : \n",
    "\n",
    "1. Le nombre aléatoire remplit ces propriétés, alors on le conserve\n",
    "1. Le nombre aléatoire ne remplit pas ces propriétés, on le supprime.\n",
    "\n",
    "Finalement, avec un très grand nombre de tirs de nombres aléatoires, il est possible de calculer un ratio (un rapport) entre le nombre de tirs conservés et le nombre de tirs global afin d'obtenir une approximation de la valeur numérique recherchée."
   ]
  },
  {
   "cell_type": "markdown",
   "id": "0291866d-947e-4c3a-9783-479c5a8c7541",
   "metadata": {},
   "source": [
    "## Exercice 1 \n",
    "\n",
    "Problème : Estimation de $ \\pi $ en utilisant la méthode de Monte-Carlo. \n",
    "\n",
    "![pi](images/pi2.png \"Approximation de Pi avec Monte-Carlo\")\n",
    "\n",
    "([source](https://media.eduscol.education.fr/ftp_eduscol/2019/Ressources/Mathematiques/RA19_Lycee_G_1_MATH_Algorithmique_et_Programmation_activite_11.html))\n",
    "\n",
    "Voici un code qui implémente l'algorithme de Monte-Carlo pour approximer $ \\pi $\n",
    "\n",
    "Identifiez toutes les erreurs et donnez le type d'erreur (syntaxe, programme, algorithme). Corrigez le code.\n",
    "\n",
    "```\n",
    "import randomm\n",
    "nb_exp = 10000\n",
    "succes == 0\n",
    "for i in range(nb_exp):\n",
    "    x = random.random()\n",
    "   y = random.random()\n",
    "    if x * x + y * y <= 1:\n",
    "        succes = succes + 1\n",
    "nb_succes = 4 * succes / nb_exp\n",
    "print(nb_succes)\n",
    "```\n"
   ]
  },
  {
   "cell_type": "markdown",
   "id": "90ff184e-b25d-4453-a651-ab9e4f0e83e0",
   "metadata": {},
   "source": [
    "## Exercice 2\n",
    "\n",
    "Voici un algorigramme qui contient des erreurs. Identifiez-les avec leur type.\n",
    "\n",
    "![MonteCarloPi](graphs/MonteCarloPi_Faux.png \"Algorigramme incorrect\")"
   ]
  },
  {
   "cell_type": "markdown",
   "id": "ccacc68b-f5bc-48bc-8e2f-9406bbfde90b",
   "metadata": {},
   "source": [
    "## Exercice 3 : lancement d'un dé à jouer\n",
    "\n",
    "Lorsqu'on lance un dé, on a $\\frac{1}{6}$ chance de tirer n'importe quel numéro entre `1` et `6`, soit `16.66 %`. \n",
    "\n",
    "Utilisez un algorithme Monte-Carlo pour simuler le lancement d'un dé et approximer les **probabilités** pour chaque nombre. "
   ]
  },
  {
   "cell_type": "markdown",
   "id": "b28166e6-d015-422a-bacd-17a3cc92397b",
   "metadata": {},
   "source": [
    "## Exercice 4 (pour aller plus loin) : Somme de deux dés à jouer\n",
    "\n",
    "Beaucoup de jeux de stratégie, de rôle ou de hasard demandent de tirer deux dés et de **calculer la somme des deux dés**. La probabilité de chaque combinaison est identique : c'est le hasard. Par contre il existe, pour chaque somme possible (de `2` à `12`), une ou plusieurs combinaisons possibles et donc des probabilités différentes. \n",
    "\n",
    "Dans cet exercice, nous allons simuler cette somme pour approximer les probabilités de chaque combinaison. \n",
    "\n",
    "### Exercice 4.1 : les combinaisons et leurs probabilités \n",
    "\n",
    "Sur une feuille de papier, écrivez toutes les combinaisons possibles du jet de deux dés. Il y en a 36 au total avec les permutations possibles. Complétez le tableau suivant :\n",
    "\n",
    "| Somme | Combinaisons possibles  | probabilité  |\n",
    "| :--- | :--- | :--- |\n",
    "| **2**  | ![de1](images/de1.png \"1\")+![de1](images/de1.png \"1\") | $\\frac{1}{36}$ soit `2.77 %`  |\n",
    "| **3**  | ![de1](images/de1.png \"1\")+![de2](images/de2.png \"2\") et ![de2](images/de2.png \"2\")+![de1](images/de1.png \"1\") | $\\frac{2}{36}$ soit `5.55 %`  |\n",
    "| **4**  | ![de1](images/de1.png \"1\")+![de3](images/de3.png \"3\") et ![de3](images/de3.png \"3\")+![de2](images/de1.png \"1\") et ![de1](images/de2.png \"2\")+![de2](images/de2.png \"2\") | $\\frac{3}{6}$ soit `8.33 %`  |\n",
    "| **5**  |   |   |\n",
    "| **6**  |   |   |\n",
    "| **7**  |   |   |\n",
    "| **8**  |   |   |\n",
    "| **9**  |   |   |\n",
    "| **10**  |   |   |\n",
    "| **11**  |   |   |\n",
    "| **12**  |   |   |\n",
    "\n",
    "### Exercice 4.2 : Simulation Monte-Carlo en Python\n",
    "\n",
    "- Ecrivez un programme qui simule la somme de deux dés lancés. L'entrée de l'algorithme est le **nombre d'expériences** (`nbExps`). Vous devez utiliser la fonction du module `random.randint(1,6)` pour tirer des nombres aléatoires entre `1` et `6`.\n",
    "- Modifiez la valeur du nombre d'expériences pour affiner vos prédictions.\n",
    "- Comparez les approximations avec les calculs formels de l'exercice 4.1."
   ]
  },
  {
   "cell_type": "markdown",
   "id": "64a6825b-d922-41dc-9fba-1e8736b97745",
   "metadata": {},
   "source": [
    "## Exercice 5 (pour aller vraiment plus loin) : Roulette française\n",
    "\n",
    "Le jeu de la roulette au casino est un jeu de hasard consistant en en appareil où une bille, lancée par un croupier, termine sa course sur un numéro compris entre 0 et 36 (soit 37 numéros)\n",
    "\n",
    "![tapis](images/tapis_roulette.png \"Tapis de roulette\")\n",
    "\n",
    "Les [règles de mise](https://fr.wikipedia.org/wiki/Roulette_(jeu_de_hasard)) sont assez complexes. Nous en retiendrons deux :\n",
    "\n",
    "- On peut miser sur la couleur :\n",
    "    - rouge ou noir\n",
    "- On peut mise sur un numéro :\n",
    "\n",
    "Votre travail : à l'ade d'un programme, simulez les chances de gain pour ces deux règles en sachant que le 0 appartient à la banque"
   ]
  },
  {
   "cell_type": "code",
   "execution_count": null,
   "id": "effff798-8640-40ae-ba9d-0af4ea228b66",
   "metadata": {},
   "outputs": [],
   "source": []
  }
 ],
 "metadata": {
  "kernelspec": {
   "display_name": "Python 3 (ipykernel)",
   "language": "python",
   "name": "python3"
  },
  "language_info": {
   "codemirror_mode": {
    "name": "ipython",
    "version": 3
   },
   "file_extension": ".py",
   "mimetype": "text/x-python",
   "name": "python",
   "nbconvert_exporter": "python",
   "pygments_lexer": "ipython3",
   "version": "3.9.2"
  }
 },
 "nbformat": 4,
 "nbformat_minor": 5
}
