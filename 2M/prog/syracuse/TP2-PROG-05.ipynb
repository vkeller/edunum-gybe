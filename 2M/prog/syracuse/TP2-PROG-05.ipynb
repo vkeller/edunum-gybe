{
 "cells": [
  {
   "cell_type": "markdown",
   "id": "c9632d28-4db8-49b8-8f8c-574eaed0da6f",
   "metadata": {},
   "source": [
    "![collatz](images/collatz.jpg \"Lothar Collatz\")\n",
    "\n",
    "# TP2-PROG-05 : Conjecture de Collatz\n",
    "\n",
    "Programmer la suite de Syracuse en Python.\n",
    "\n",
    "- avec un programme standard\n",
    "- (si temps) avec un programme récursif\n",
    "\n",
    "## Algorithme de la suite de Syracuse\n",
    "\n",
    "1. ENTREE : n\n",
    "2. SI n est PAIR, alors n = n / 2\n",
    "3. SINON n = 3 * n + 1\n",
    "4. La suite se termine lorsqu'on a atteint n == 1 et boucle sur la suite (1,4,2,1,4,2,...)"
   ]
  },
  {
   "cell_type": "markdown",
   "id": "23563e28-317b-45de-949b-654e0bd7832c",
   "metadata": {},
   "source": [
    "## Définition : Conjecture\n",
    "\n",
    "En mathématique, une **conjecture** est une assertion dont on ne connaît pas encore de démonstration mathématique\n",
    "\n",
    "## Conjecture de Collatz\n",
    "\n",
    "La **conjecture de Collatz** (Lothar Collatz, né le 6.07.1910 en Allemagne et mort le 26.09.1990 en Bulgarie. Conjecture énoncée en 1937) est l'une des conjectures les plus célèbres puisqu'en dépit de sa simplicité, elle défie les mathématiciens depuis de très nombreuses années. Elle dit que la **suite de Syracuse** (ou problème `3x + 1`), lorsqu'elle atteint `1` se répète indéfiniment sur la suite `4,2,1,4,2,1,...`"
   ]
  },
  {
   "cell_type": "markdown",
   "id": "f416d6aa-fa7d-4b97-a7f9-4b7700222155",
   "metadata": {},
   "source": [
    "## Exercice 1 : Suite de Syracuse pour un `n`\n",
    "\n",
    "Programmez la suite de Syracuse en `Python 3` . Ce programme prend en entrée `n` et affiche la suite de Syracuse jusqu'à atteindre `4`."
   ]
  },
  {
   "cell_type": "markdown",
   "id": "8753bdbd-067c-4dd8-80d6-6bed47c24a8c",
   "metadata": {},
   "source": [
    "## Exercice 2 : Suite de Syracuse pour un *range*\n",
    "\n",
    "Ecrivez un nouveau programme qui affiche la suite de Syracuse pour les entiers de `5` à `1000`."
   ]
  },
  {
   "cell_type": "markdown",
   "id": "c8c54257-d2f2-4668-b615-988d6b2cfc49",
   "metadata": {},
   "source": [
    "## Exercice 3 : Le vol\n",
    "\n",
    "### Définition : le vol\n",
    "\n",
    "On appelle **vol** le nombre d'étapes de la suite de Syracuse avant d'arriver sur la valeur `4`. Ainsi : pour `n = 10`, la suite de Syracuse vaut : `10, 5, 16, 8, 4, 2, 1, 4, 2, 1, ...`. La longueur du vol pour `n = 10` vaut `4`.\n",
    "\n",
    "### Calcul du vol\n",
    "\n",
    "Pour tout entier `n` entre `5` et `1000`, Ecrivez un programme qui calcule son vol. \n",
    "\n",
    "### Résultat sous forme de graphique Excel\n",
    "\n",
    "Il est possible de copier des valeurs produites par Thonny et de les injecter dans un tableur Excel. Pour cela, il faut que les valeurs soient **formatées** en CSV (*Comma-Separeted Values* ou valeurs séparées par des virgules). Pour ce faire, il faut formatter les valeurs en utilisant l'artefact suivant :\n",
    "\n",
    "```\n",
    "print(n,\"\\t\",vol)\n",
    "```\n",
    "\n",
    "Ce qui produira une suite de valeurs injectables dans Excel et desquelles il sera possible de créer un graphique\n"
   ]
  },
  {
   "cell_type": "markdown",
   "id": "99736da9-9f7e-42cd-95e8-6c8b87c8407e",
   "metadata": {},
   "source": [
    "## Exercice 4 : l'altitude maximale\n",
    "\n",
    "### Définition : Altitude maximale\n",
    "\n",
    "On appelle **altitude maximale** pour un vol donné la valeur la plus élevèe que prendra la suite de Syracuse avant d'arriver sur `4` Par exemple pour `n = 10`, l'altitude maximale vaut `16`\n",
    "\n",
    "### Calcul de l'altitude\n",
    "\n",
    "Pour tout entier `n` entre `5` et `1000`, Ecrivez un programme qui calcule son vol. \n",
    "\n",
    "### Résultat sous forme de graphique Excel\n",
    "\n",
    "En suivant les mêmes consignes qu'à l'exercice 4, injectez les valeurs dans une feuille Excel et produisez un graphique. Qu'observez-vous ?"
   ]
  },
  {
   "cell_type": "markdown",
   "id": "cfbd1bbc-8b4a-41d1-936f-1935824bb4a9",
   "metadata": {},
   "source": [
    "## Exercice 5 (pour aller plus loin que 1000)\n",
    "\n",
    "Thonny n'affiche que 1000 lignes dans la console (donc les 1000 premiers résultats). C'est un problème pour créer des graphiques de vol ou d'altitude maximum entre `5` et `1000000` (par exemple).\n",
    "\n",
    "Vol :\n",
    "\n",
    "![vol](images/vol.png \"Vol entre 5 et 100000\")\n",
    "\n",
    "Altitude :\n",
    "\n",
    "![altitude](images/altitude.png \"Vol entre 5 et 100000\")\n",
    "\n",
    "La solution (qui est utilisée dans toutes les applications professionnelles) passe par l'écriture, depuis l'application, des données dans un **fichier**. On importe ensuite ce fichier depuis Excel.\n",
    "\n",
    "On utilise toujours le format CSV en important un module permettant de créer, écrire, lire ou sauvegarder dans un fichier csv:\n",
    "\n",
    "```\n",
    "# importation du module csv\n",
    "import csv\n",
    "# ouverture d'un fichier en mode écriture (\"w\" = write)\n",
    "f = open(\"fichier_vol.csv\", \"w\")\n",
    "# création d'un objet d'écriture qui permettra d'écrire chaque ligne du fichier csv\n",
    "writer = csv.writer(f)\n",
    "\n",
    "...\n",
    "# écriture d'une ligne (row). La ligne doit être mise sous le format d'une liste (ici data)\n",
    "data = [n, altitude_max]\n",
    "writer.write(data)\n",
    "\n",
    "...\n",
    "\n",
    "# en toute fin de programme, il faut fermer le fichier avec\n",
    "f.close()\n",
    "\n",
    "```\n",
    "\n",
    "Modifiez votre programme pour qu'il enregistre un fichier des vol et des altitudes maximum et importez le depuis Excel"
   ]
  },
  {
   "cell_type": "markdown",
   "id": "4152a448-f7b9-4451-9625-0883131e5065",
   "metadata": {},
   "source": [
    "## Exercice 6 (pour aller plus loin avec des fonctions)\n",
    "\n",
    "- Reprenez votre code de l'exercice 1. Transformez le coeur de l'algorithme en une **fonction**. Cette fonction aura un argument (`n`) et aucun retour. \n",
    "- Réécrivez le code de l'exercice 2 en utilisant votre nouvelle fonction"
   ]
  },
  {
   "cell_type": "markdown",
   "id": "e4062766-6851-4f48-8076-9428cea626c3",
   "metadata": {},
   "source": [
    "## Exercice 7 (pour aller vraiment très loin et résoudre la conjecture)\n",
    "\n",
    "Pour démontrer la conjecture de Collatz, il suffit de démontrer qu'il existe un seul `n` qui ne se termine pas sur la suite `...4,2,1`. Ce faisant, vous gagnez beaucoup de gloire (et probablement d'argent).\n",
    "\n",
    "Ecrivez une nouvelle fonction qui **renvoie** la valeur **True** si `n` se termine par `4,2,1` et **False** sinon. Vous pouvez ensuite modifier votre programme de l'exercice 5 et le faire tourner jusqu'à ce qu'il vous donne ce `n`cherché (s'il existe). "
   ]
  },
  {
   "cell_type": "code",
   "execution_count": null,
   "id": "e74f98ef-bc10-4ee2-9c73-04f1b9d3b32c",
   "metadata": {},
   "outputs": [],
   "source": []
  }
 ],
 "metadata": {
  "kernelspec": {
   "display_name": "Python 3 (ipykernel)",
   "language": "python",
   "name": "python3"
  },
  "language_info": {
   "codemirror_mode": {
    "name": "ipython",
    "version": 3
   },
   "file_extension": ".py",
   "mimetype": "text/x-python",
   "name": "python",
   "nbconvert_exporter": "python",
   "pygments_lexer": "ipython3",
   "version": "3.9.2"
  }
 },
 "nbformat": 4,
 "nbformat_minor": 5
}
