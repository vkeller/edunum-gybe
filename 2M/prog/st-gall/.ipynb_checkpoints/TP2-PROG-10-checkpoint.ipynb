{
 "cells": [
  {
   "cell_type": "markdown",
   "id": "3b15bf05-4c45-4c05-89c1-5a1fc88c64c4",
   "metadata": {},
   "source": [
    "![st-gall](images/horloge.png \"Simulation St-gall\")\n",
    "\n",
    "# TP2-PROG-10 : Simuler l'horloge de la gare de St-Gall"
   ]
  },
  {
   "cell_type": "markdown",
   "id": "86bd4373-22b0-4871-8403-d5ef6e1fdd08",
   "metadata": {},
   "source": [
    "## Objectifs pédagogiques\n",
    "\n",
    "- comprendre un problème\n",
    "- être capable de traduire un algorigramme vers un programme\n",
    "- introduire le temps dans un programme informatique\n",
    "- dissocier le coeur du programme de son interface graphique\n",
    "- conduire un projet complet de sa conception à sa réalisation"
   ]
  },
  {
   "cell_type": "markdown",
   "id": "0fd2b5a5-3059-482a-ba9b-b2f8db0885e7",
   "metadata": {},
   "source": [
    "## Rappels : l'horloge de la gare de St-Gall\n",
    "\n",
    "L'[horloge de la gare de St-Gall](https://www.bahnhofsuhrsg.ch/) est un projet artistique de [Norbert Möslang](https://www.moeslang.com/), un musicien expérimental, luthier, photographe, mais aussi créateur d'art contemporain. Elle a été installée en 2019 sur le fronton de la gare de St-Gall.\n",
    "\n",
    "Son [principe](https://vkeller.github.io/modulo-gybe/1M/algo/cours/C1-ALGO-09.html) est simple : elle affiche trois lignes qu'il faut lire de gauche à droite en additionnant les puissances de `2`. Les cercles pour les heures, les croix pour les minutes et les carrés pour les secondes. "
   ]
  },
  {
   "cell_type": "markdown",
   "id": "285ccb3d-9a27-477d-9814-a6027059fc84",
   "metadata": {},
   "source": [
    "## Exercice 1 : Conversion décimal binaire\n",
    "\n",
    "A partir de l'algorigramme suivant, implémentez un convertisseur de décimal à binaire. La **sortie** de cet algorithme doit être une **liste** de longueur `5` pour les heures et `6` pour les minutes et les secondes. Chaque élément de la liste est un booléen initialement affecté à `False`. Votre programme prendra en **entrée** la valeur décimale des heures, minutes et secondes. \n",
    "\n",
    "Ainsi, la valeur binaire `101110` sera représentée sous la forme de la liste :\n",
    "\n",
    "```\n",
    "minutes = [True, False, True, True, True, False]\n",
    "```"
   ]
  },
  {
   "cell_type": "markdown",
   "id": "b1cb5904-f541-4529-9538-0c58e62801fe",
   "metadata": {},
   "source": [
    "## Exercice 2 : récupérer l'heure actuelle\n",
    "\n",
    "Un ordinateur possède une horloge interne (elle est contenue dans le processeur) qui permet de *simuler* le temps qui passe depuis le 1 janvier 1970 (date dénommée **L'époque**). On peut y accéder depuis un programme Python à l'aide d'un module : le module `datetime`\n",
    "\n",
    "```\n",
    "from datetime import datetime\n",
    "```\n",
    "\n",
    "Trois fonctions de ce module permettent de récupérer l'heure, les minutes et les secondes actuelles :\n",
    "\n",
    "```\n",
    "heures = horloge.hour\n",
    "minutes = horloge.minute\n",
    "secondes = horloge.second\n",
    "```\n",
    "\n",
    "Modifiez votre programme pour qu'il affiche les trois listes `heures`, `minutes` et `secondes` avec l'heure actuelle"
   ]
  },
  {
   "cell_type": "code",
   "execution_count": null,
   "id": "5d53937c-a882-42cf-956c-65cdd1c8f3b4",
   "metadata": {},
   "outputs": [],
   "source": []
  }
 ],
 "metadata": {
  "kernelspec": {
   "display_name": "Python 3 (ipykernel)",
   "language": "python",
   "name": "python3"
  },
  "language_info": {
   "codemirror_mode": {
    "name": "ipython",
    "version": 3
   },
   "file_extension": ".py",
   "mimetype": "text/x-python",
   "name": "python",
   "nbconvert_exporter": "python",
   "pygments_lexer": "ipython3",
   "version": "3.9.2"
  }
 },
 "nbformat": 4,
 "nbformat_minor": 5
}
