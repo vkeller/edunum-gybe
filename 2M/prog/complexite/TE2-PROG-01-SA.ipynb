{
 "cells": [
  {
   "cell_type": "markdown",
   "id": "077b8b74-97cf-4aa5-975e-c2f765add39f",
   "metadata": {},
   "source": [
    "# TE2-PROG-01.T : TP noté (Série A)"
   ]
  },
  {
   "cell_type": "markdown",
   "id": "5e20e859-e8b9-4bc6-978b-0bccf113fa83",
   "metadata": {},
   "source": [
    "## Prénom :\n",
    "\n",
    "## Nom :\n",
    "\n",
    "## Classe :\n",
    "\n",
    "## **NOTE** :"
   ]
  },
  {
   "cell_type": "markdown",
   "id": "9da55e07-e22e-41b2-994f-9422d6c3a206",
   "metadata": {},
   "source": [
    "## Consignes\n",
    "\n",
    "- Un exercice à résoudre\n",
    "- Un code Python à rendre (sur Moodle)\n",
    "- Un classeur Excel à rendre (sur Moodle)\n",
    "- Cette feuille remplie"
   ]
  },
  {
   "cell_type": "markdown",
   "id": "e56f5633-d980-453f-810f-1587832e1e03",
   "metadata": {},
   "source": [
    "## Exercice 1\n",
    "\n",
    "- Enregistrer le code suivant sous le nom `fibonacci.py`"
   ]
  },
  {
   "cell_type": "code",
   "execution_count": 11,
   "id": "cecda354-084e-4d6d-9efc-1d10da093e00",
   "metadata": {},
   "outputs": [
    {
     "name": "stdout",
     "output_type": "stream",
     "text": [
      "[0, 1, 1, 2, 3, 5, 8, 13, 21, 34]\n"
     ]
    }
   ],
   "source": [
    "# Suite de Fibonacci\n",
    "# Vincent Keller, 2023\n",
    "\n",
    "taille = 10\n",
    "\n",
    "# Nombre d'opérations ou d'instructions\n",
    "N = 0\n",
    "\n",
    "fib = []\n",
    "fib.append(0)\n",
    "fib.append(1)\n",
    "\n",
    "for i in range(2,taille,1):\n",
    "    fib.append(0)\n",
    "\n",
    "for i in range(2,taille,1):\n",
    "    fib[i] = fib[i-1] + fib[i-2]\n",
    "\n",
    "print(fib)"
   ]
  },
  {
   "cell_type": "markdown",
   "id": "99499b82-0e69-4b1b-8288-52c5d7ea6591",
   "metadata": {},
   "source": [
    "- Ajoutez une instruction permettant de détruire la liste après l'avoir remplie : `fib.clear()` et supprimez l'affichage de la liste `print(fib)`\n",
    "- Modifier le code afin de faire varier la **taille** du problème (`taille`) de `10` à `8000000`\n",
    "- Calculez le nombre d'opérations ou d'instructions `N`\n",
    "- affichez à chaque itérations avec l'instruction `print(taille,\"\\t\",N)`\n",
    "- Produisez un graphique du nombre d'opérations en fonction de la taille de l'entrée avec Excel\n",
    "- Donnez la courbe de tendance (et donc l'équation de `N` en fonction de la `taille`"
   ]
  },
  {
   "cell_type": "markdown",
   "id": "245de446-5555-43e0-bd40-ef680a17369e",
   "metadata": {},
   "source": [
    "## Exercice 2\n",
    "\n",
    "### Quelle est la classe de complexité de cet algorithme :"
   ]
  }
 ],
 "metadata": {
  "kernelspec": {
   "display_name": "Python 3 (ipykernel)",
   "language": "python",
   "name": "python3"
  },
  "language_info": {
   "codemirror_mode": {
    "name": "ipython",
    "version": 3
   },
   "file_extension": ".py",
   "mimetype": "text/x-python",
   "name": "python",
   "nbconvert_exporter": "python",
   "pygments_lexer": "ipython3",
   "version": "3.9.2"
  }
 },
 "nbformat": 4,
 "nbformat_minor": 5
}
