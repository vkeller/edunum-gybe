{
 "cells": [
  {
   "cell_type": "markdown",
   "id": "076e33f6-edf6-4545-ad54-8b2b702c8fc8",
   "metadata": {},
   "source": [
    "![complexite](images/complexite.jpg \"Complexite\")\n",
    "\n",
    "# TP2-PROG-02 : Approche pratique de la complexité : Recherche"
   ]
  },
  {
   "cell_type": "markdown",
   "id": "61baa787-d7a8-4a99-9fc9-4d05bb218cea",
   "metadata": {},
   "source": [
    "## Objectifs pédagogiques\n",
    "\n",
    "- Comprendre et implémenter la boucle **tant qu'une condition est vraie** (boucle `while`)\n",
    "- Découvrir la bibliothèque de fonctions `random` pour les nombres aléatoires\n",
    "- être capable de mesurer le temps d'un bloc d'instructions dans un code informatique\n",
    "- déduire la complexité temporelle d'un algorithme\n"
   ]
  },
  {
   "cell_type": "markdown",
   "id": "2ae48406-0808-4d9d-9f8e-a7183ecad517",
   "metadata": {},
   "source": [
    "## Algorithmes de recherche\n",
    "\n",
    "Les quatre algorithmes de recherche étudiés répondent tous au même problème à résoudre : trouver un nombre **aléatoire** dans des nombres triés entre une borne inférieure **borneInf** et une borne supérieure **borneSup**\n",
    "\n",
    "**Afin de les comparer, nous calculons le nombre de comparaisons qu'il faut effectuer**. Cette grandeur est nommée `N` tout au long du TP. C'est ce `N` que nous allons comparer.\n",
    "\n",
    "\n",
    "### Recherche linéaire\n",
    "\n",
    "L'algorithme est le plus simple : \n",
    "\n",
    "1. On choisi un nombre aléatoire qu'il faut rechercher: `atrouve`\n",
    "1. On initialise une variable `nombre = borneInf` :\n",
    "    - si `nombre == atrouve`, alors on arrête\n",
    "    - sinon, on passe au nombre suivant\n",
    "    - tout cela est fait `tant que nombre != borneSup`\n",
    "\n",
    "L'algorigramme est le suivant :\n",
    "\n",
    "![RechercheLineaire](algorigrammes/RechercheLineaire.png \"Algorigramme de la recherche linéaire\")\n",
    "\n",
    "### Recherche aléatoire avec remise\n",
    "\n",
    "L'algorithme est le suivant : \n",
    "\n",
    "1. On choisi un nombre aléatoire qu'il faut rechercher: `atrouve`\n",
    "1. On choisi un nombre aléatoire : `nombre`\n",
    "1. tant que `nombre != atrouve` :\n",
    "    - si `nombre == atrouve`, alors on arrête\n",
    "    - sinon, choisi un nouveau nombre aléatoire : `nombre`\n",
    "\n",
    "On note que cet algorithme peut faire ressortir plusieurs fois le même nombre aléatoire. C'est pourqoi il s'appelle **recherche aléatoire avec remise**.\n",
    "\n",
    "L'algorigramme est le suivant :\n",
    "\n",
    "![RechercheAleatoireAvecRemise](algorigrammes/RechercheAleatoireAvecRemise.png \"Algorigramme de la recherche aleatoire avec remise\")\n",
    "\n",
    "### Recherche aléatoire sans remise\n",
    "\n",
    "L'algorithme est proche du précédent mais l'algorithme ne tire pas deux fois le même nombre\n",
    "\n",
    "### Recherche dichotomique\n",
    "\n",
    "L'algorithme est le suivant :\n",
    "\n",
    "1. On choisi un nombre aléatoire qu'il faut rechercher: `atrouve`\n",
    "1. On initialise une variable booléenne `trouve = False`\n",
    "1. On initialise une variable `bmax = borneSup`\n",
    "1. On initialise une variable `bmin = borneInf`\n",
    "1. Tant que `trouve != True` :\n",
    "    - on calcule la moitié des nombres : `moitie = int((bmax+bmin)/2)`\n",
    "    - si `moitie == atrouve`, alors on arrête : `trouve = True`\n",
    "    - sinon si `moitie > atrouver`, alors `bmax = moitie`\n",
    "    - sinon si `moitie < atrouver`, alors `bmin = moitie`\n",
    "\n",
    "L'algorigramme est le suivant :\n",
    "\n",
    "![RechercheDichotomique](algorigrammes/RechercheDichotomique.png \"Algorigramme de la recherche dichotomique\")\n"
   ]
  },
  {
   "cell_type": "markdown",
   "id": "3d475173-7c6f-431c-b4c7-87d05826f646",
   "metadata": {},
   "source": [
    "## Exercice 3 : Recherche linéaire\n",
    "\n",
    "Le programme suivant exécute une recherche linéaire entre `borneInf` et `borneSup` du nombre aléatoire `aleatoire` à l'aide d'une boucle `while`. \n",
    "\n",
    "- modifiez les bornes\n",
    "- exécutez le code et observez les résulats\n",
    "- enregistrez votre programme sous le nom `recherche_lineaire.py`"
   ]
  },
  {
   "cell_type": "code",
   "execution_count": 2,
   "id": "53393c42-1250-4393-9403-01514faa1863",
   "metadata": {},
   "outputs": [
    {
     "name": "stdout",
     "output_type": "stream",
     "text": [
      "Nombre d'opérations pour trouver 52 : 53\n"
     ]
    }
   ],
   "source": [
    "# Importation de la bibliothèque random (nombres aléatoires)\n",
    "import random\n",
    "# Input borneInf\n",
    "borneInf = 0\n",
    "# Input borneSup\n",
    "borneSup = 100\n",
    "# variable atrouver : nombre aléatoire de type entier compris entre borneInf et borneSup (compris)\n",
    "atrouver = random.randint(borneInf,borneSup)\n",
    "# N est la variable qui contiendra le nombre de comparaisons\n",
    "N = 0\n",
    "# nombre est la variable qui contient l'itérateur entre borneInf et borneSup\n",
    "nombre = 0\n",
    "# trouve est une variable de type booléen.\n",
    "trouve = False\n",
    "# Boucle \"tant que la variable trouve n'est pas égale à True)\n",
    "while (trouve!=True):\n",
    "    # Si le nombre est égal à celui à trouver (atrouver), alors la variable trouve devient True\n",
    "    if (nombre==atrouver):\n",
    "        trouve=True\n",
    "    # on incrémente l'itérateur\n",
    "    nombre = nombre + 1\n",
    "    # On incrémente le nombre de comparaisons\n",
    "    N = N + 1\n",
    "# Output : affichage du nombre à trouver et du nombre de comparaisons\n",
    "print(\"Nombre d'opérations pour trouver \"+str(atrouver)+\" : \"+str(N))"
   ]
  },
  {
   "cell_type": "markdown",
   "id": "29aad8da-4a35-4b38-9f5d-41fd625804cd",
   "metadata": {},
   "source": [
    "## Exercice 4 : Recherche aléatoire sans remise \n",
    "\n",
    "Le programme suivant exécute une recherche aléatoire sans remise entre `borneInf` et `borneSup` du nombre aléatoire `aleatoire` à l'aide d'une boucle `while`. Il est basé sur la mise en mémoire (dans une liste) des nombres choisis au hasard afin de ne pas les retirer.\n",
    "\n",
    "- Enregistrez votre programme sous le nom `recherche_aleatoire_sans_remise.py`"
   ]
  },
  {
   "cell_type": "code",
   "execution_count": 4,
   "id": "b505e96a-6666-4754-a33f-b07ff4bed89b",
   "metadata": {},
   "outputs": [
    {
     "name": "stdout",
     "output_type": "stream",
     "text": [
      "Nombre d'opérations pour trouver 20 : 12\n"
     ]
    }
   ],
   "source": [
    "# importation de la bibliothèque random (nombres aléatoires)\n",
    "import random\n",
    "\n",
    "# Fonction random_non_tire qui a trois arguments :\n",
    "# already : une liste qui contient tous les nombres aléatoires DEJA TIRES\n",
    "# bmin    : la borne inférieure\n",
    "# bmax    : la borne supérieure\n",
    "# RETOURNE : un nombre aléatoire qui n'a pas déjà été tiré\n",
    "# Remarque : vous n'avez pas à comprendre l'entier du code de la fonction\n",
    "def random_non_tire(already,bmin,bmax):\n",
    "    ret = 0\n",
    "    nontire = False\n",
    "    while nontire != True :\n",
    "        aleat = random.randint(bmin,bmax)\n",
    "        tire = False\n",
    "        for i in range(len(already)):\n",
    "            if already[i] == aleat :\n",
    "                tire = True\n",
    "        if tire == False:\n",
    "            nontire = True\n",
    "    return aleat\n",
    "\n",
    "# input : borne inférieure\n",
    "borneInf = 0\n",
    "# input : borne supérieure\n",
    "borneSup = 100\n",
    "# input : nombre aléatoire à trouver\n",
    "atrouver = random.randint(borneInf,borneSup)\n",
    "# N est une variable qui contient le nombre de comparaisons\n",
    "N = 0\n",
    "# trouve est une variable booléenne qui est initialisée à False\n",
    "trouve = False\n",
    "# liste qui contient tous les aléatoires qui ont déjà été tirés\n",
    "deja_tire = []\n",
    "# Boucle \"Tant que la variable trouve n'est pas égale à True)\n",
    "while (trouve!=True):\n",
    "    # aleatoire contient un nombre aléatoire qui n'a pas été tiré\n",
    "    aleatoire = random_non_tire(deja_tire,borneInf,borneSup)\n",
    "    # si ce nombre aléatoire est celui qu'il faut trouver, alors trouve devient True (et on sort de la boucle while)\n",
    "    if (aleatoire == atrouver) :\n",
    "        trouve=True\n",
    "    # on incérmente le nombre de comparaisons\n",
    "    N = N + 1\n",
    "    # on ajoute l'aléatoire à la liste des nombres déjà triés\n",
    "    deja_tire.append(aleatoire)\n",
    "# on affiche le nombre à chercher et le nombre de comparaisons\n",
    "print(\"Nombre d'opérations pour trouver \"+str(atrouver)+\" : \"+str(N))\n",
    "\n"
   ]
  },
  {
   "cell_type": "markdown",
   "id": "28936856-1698-4e3d-a728-db7e9761c177",
   "metadata": {},
   "source": [
    "## Exercice 5 : Recherche aléatoire avec remise\n",
    "\n",
    "- modifiez votre programme pour qu'il effectue une recherche aléatoire avec remise sur la base du code de la recherche aléatoire sans remise.\n",
    "- Sauvez votre programme sous le nom `recherche_aleatoire_avec_remise.py`"
   ]
  },
  {
   "cell_type": "markdown",
   "id": "0e233141-7972-429c-9d06-c897fdcf7fd5",
   "metadata": {},
   "source": [
    "## Exercice 6 : Recherche dichotomique\n",
    "\n",
    "- Ecrivez un programme qui recherche un nombre aléatoire entre deux bornes `borneInf` et `borneSup` en utilisant l'algorithme de recherche dichotomique\n",
    "- entregistrez votre programme sous le nom `recherche_dichotomique.py`"
   ]
  },
  {
   "cell_type": "markdown",
   "id": "192fe0f1-8a0e-49f2-99a4-5bb238fc1fcd",
   "metadata": {},
   "source": [
    "## Exercice 7 : Création d'un code de comparaison (refactoring)\n",
    "\n",
    "Afin de comparer les différents algorithmes, nous avons besoin de les regrouper dans un seul code informatique. Pour cela, nous allons utiliser la méthode de la **factorisation** : chaque code implémentant un algorithme sera écrit comme une fonction.\n",
    "\n",
    "Vous disposez des 4 codes permettant de rechercher un nombre aléatoire dans une liste triée :\n",
    "\n",
    "- `recherche_lineaire.py`\n",
    "- `recherche_aleatoire_sans_remise.py`\n",
    "- `recherche_aleatoire_avec_remise.py`\n",
    "- `recherche_dichotomique.py`\n",
    "\n",
    "Ces 4 codes deviendront 4 **fonctions** dans un nouveau code source nommé `recherche.py`.\n",
    "\n",
    "- Observez dans chaque code ce qui se répète. \n",
    "- Copiez-collez dans une nouvelle fonction ce qui ne se répète pas.\n",
    "- Faites cette opération pour les 4 codes de recherche\n",
    "\n",
    "Voici un exemple pour la recherche linéaire :"
   ]
  },
  {
   "cell_type": "code",
   "execution_count": 1,
   "id": "5a6caf87-3f3e-4c4a-83dc-45e0dcc14cdf",
   "metadata": {},
   "outputs": [
    {
     "name": "stdout",
     "output_type": "stream",
     "text": [
      "Nombre d'opérations pour trouver 57 : 58\n"
     ]
    }
   ],
   "source": [
    "import random\n",
    "borneInf = 0\n",
    "borneSup = 100\n",
    "atrouver = random.randint(borneInf,borneSup)\n",
    "N = 0\n",
    "nombre = 0\n",
    "trouve = False\n",
    "while (trouve!=True):\n",
    "    if (nombre==atrouver):\n",
    "        trouve=True\n",
    "    nombre = nombre + 1\n",
    "    N = N + 1\n",
    "print(\"Nombre d'opérations pour trouver \"+str(atrouver)+\" : \"+str(N))"
   ]
  },
  {
   "cell_type": "markdown",
   "id": "64044e81-e6dc-4b7a-a2ff-730acadfaff9",
   "metadata": {},
   "source": [
    "devient, une fois factorisé en une fonction :"
   ]
  },
  {
   "cell_type": "code",
   "execution_count": 5,
   "id": "7f544d35-f1b8-4057-ad0f-7e7991e89db8",
   "metadata": {},
   "outputs": [
    {
     "name": "stdout",
     "output_type": "stream",
     "text": [
      "Nombre d'opérations pour trouver 89 : 90\n"
     ]
    }
   ],
   "source": [
    "import random\n",
    "def recherche_lineaire(_atrouver):\n",
    "    N = 0\n",
    "    nombre = 0\n",
    "    trouve = False\n",
    "    while (trouve!=True):\n",
    "        if (nombre==_atrouver):\n",
    "            trouve=True\n",
    "        nombre = nombre + 1\n",
    "        N = N + 1\n",
    "    return N\n",
    "borneInf = 0\n",
    "borneSup = 100\n",
    "atrouver = random.randint(borneInf,borneSup)\n",
    "print(\"Nombre d'opérations pour trouver \"+str(atrouver)+\" : \"+str(recherche_lineaire(atrouver)))\n"
   ]
  },
  {
   "cell_type": "markdown",
   "id": "d4b3c5df-572e-40c4-9cb3-6175378b0839",
   "metadata": {},
   "source": [
    "## Exercice 8 : Moyenne caractéristique\n",
    "\n",
    "Afin d'obtenir des grandeurs caractéristiques, il est utile d'obtenir différentes valeurs dont on prendra la moyenne.\n",
    "\n",
    "- Pour chaque algorithme, écrivez une boucle qui calcule une moyenne de 10 nombres aléatoires à trouver\n",
    "- Testez pour chacun des 4 algorithmes\n",
    "\n",
    "Par exemple :"
   ]
  },
  {
   "cell_type": "code",
   "execution_count": 7,
   "id": "8bd5f8bb-b35d-4fd8-aa77-cc3adb89ccb8",
   "metadata": {},
   "outputs": [
    {
     "name": "stdout",
     "output_type": "stream",
     "text": [
      "Nombre moyen pour la recherche linéaire : 59.2\n"
     ]
    }
   ],
   "source": [
    "somme = 0\n",
    "for i in range(10):\n",
    "    atrouver = random.randint(borneInf, borneSup)\n",
    "    somme = somme + recherche_lineaire(atrouver)\n",
    "print(\"Nombre moyen pour la recherche linéaire : \"+str(somme/10))"
   ]
  },
  {
   "cell_type": "markdown",
   "id": "14b0fe10-3dd1-4046-8d9b-dfb6a9288c0a",
   "metadata": {},
   "source": [
    "## Exercice 9 : Comparaison des algorithmes\n",
    "\n",
    "Le code `recherche.py` implémente les 4 algorithmes de recherche. Il est maintenant possible de les comparer avec les mêmes bornes `borneInf`, `borneSup` et le nombre aléatoire à trouver `atrouver`\n",
    "\n",
    "- Modifiez votre code afin de mesurer les valeurs de `N` entre `borneInf = 0` et différentes valeurs de `borneSup` :\n",
    "    - `100` à `100000` avec un pas de 200\n",
    "- Dans un graphique Excel, notez toutes les valeurs sur 5 colonnes : `borneSup`, et les 4 `N` retournés pour chaque algorithme"
   ]
  },
  {
   "cell_type": "markdown",
   "id": "1b9a3cb6-f30c-487f-9996-d02e0e2cf8eb",
   "metadata": {},
   "source": [
    "## Exercice 10 : Comportement asymptotique de la complexité des 4 algorithmes\n",
    "\n",
    "Le **comportement asymptotique** représente le comportement de la fonction mathématique décrivant la complexité d'un algorithme. Dans le pire des cas, c'est celui qui est décrit par la notation *Big O* ou $\\mathcal{O}$. \n",
    "\n",
    "Par exemple : $\\mathcal{O}(n)$ est un comportement linéaire, $\\mathcal{O}(n^2)$ est quadratique, $\\mathcal{O}(n\\log{}n)$ est linéarithmique, etc..\n",
    "\n",
    "- A l'aide de votre graphique Excel, êtes-vous capable d'estimer une fonction qui passerait par les points mesurés ?\n",
    "- Si oui, lesquelles ?\n",
    "- Sinon pourquoi ?\n"
   ]
  }
 ],
 "metadata": {
  "kernelspec": {
   "display_name": "Python 3 (ipykernel)",
   "language": "python",
   "name": "python3"
  },
  "language_info": {
   "codemirror_mode": {
    "name": "ipython",
    "version": 3
   },
   "file_extension": ".py",
   "mimetype": "text/x-python",
   "name": "python",
   "nbconvert_exporter": "python",
   "pygments_lexer": "ipython3",
   "version": "3.9.2"
  }
 },
 "nbformat": 4,
 "nbformat_minor": 5
}
