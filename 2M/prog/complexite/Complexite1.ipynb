{
 "cells": [
  {
   "cell_type": "markdown",
   "id": "fe37631b-0250-4efb-8358-6e5ae96caa6b",
   "metadata": {},
   "source": [
    "![complexite](images/complexite.jpg \"Complexite\")\n",
    "\n",
    "# TP2-PROG-01 : Approche pratique de la complexité"
   ]
  },
  {
   "cell_type": "markdown",
   "id": "931139ad-243b-4f59-9654-b5fd445314ad",
   "metadata": {},
   "source": [
    "## Objectifs pédagogiques\n",
    "\n",
    "- Comprendre et implémenter la boucle **tant qu'une condition est vraie** (boucle `while`)\n",
    "- être capable de programmer plusieurs algorithmes différents pour le problème de la recherche d'un élément dans une liste\n",
    "    1. recherche linéaire\n",
    "    1. recherche aléatoire sans remise\n",
    "    1. recherche aléatoire avec remise\n",
    "    1. recherche dichotomique\n",
    "- mesurer la performance des algorithmes\n",
    "- déduire le comportement asymptotique et la complexité"
   ]
  },
  {
   "cell_type": "markdown",
   "id": "1936f0d0-9624-4a05-a287-7e5de4084a77",
   "metadata": {},
   "source": [
    "## Algorithmes de recherche\n",
    "\n",
    "Les quatre algorithmes de recherche étudiés répondent tous au même problème à résoudre : trouver un nombre **aléatoire** dans des nombres triés entre une borne inférieure **borneInf** et une borne supérieure **borneSup**\n",
    "\n",
    "**Afin de les comparer, nous calculons le nombre de comparaisons qu'il faut effectuer**. Cette grandeur est nommée `N` tout au long du TP. C'est ce `N` que nous allons comparer.\n",
    "\n",
    "\n",
    "### Recherche linéaire\n",
    "\n",
    "L'algorithme est le plus simple : \n",
    "\n",
    "1. On choisi un nombre aléatoire qu'il faut rechercher: `atrouve`\n",
    "1. On initialise une variable `nombre = borneInf` :\n",
    "    - si `nombre == atrouve`, alors on arrête\n",
    "    - sinon, on passe au nombre suivant\n",
    "    - tout cela est fait `tant que nombre != borneSup`\n",
    "\n",
    "L'algorigramme est le suivant :\n",
    "\n",
    "![RechercheLineaire](algorigrammes/RechercheLineaire.png \"Algorigramme de la recherche linéaire\")\n",
    "\n",
    "### Recherche aléatoire avec remise\n",
    "\n",
    "L'algorithme est le suivant : \n",
    "\n",
    "1. On choisi un nombre aléatoire qu'il faut rechercher: `atrouve`\n",
    "1. On choisi un nombre aléatoire : `nombre`\n",
    "1. tant que `nombre != atrouve` :\n",
    "    - si `nombre == atrouve`, alors on arrête\n",
    "    - sinon, choisi un nouveau nombre aléatoire : `nombre`\n",
    "\n",
    "On note que cet algorithme peut faire ressortir plusieurs fois le même nombre aléatoire. C'est pourqoi il s'appelle **recherche aléatoire avec remise**.\n",
    "\n",
    "L'algorigramme est le suivant :\n",
    "\n",
    "![RechercheAleatoireAvecRemise](algorigrammes/RechercheAleatoireAvecRemise.png \"Algorigramme de la recherche aleatoire avec remise\")\n",
    "\n",
    "### Recherche aléatoire sans remise\n",
    "\n",
    "L'algorithme est proche du précédent mais l'algorithme ne tire pas deux fois le même nombre\n",
    "\n",
    "### Recherche dichotomique\n",
    "\n",
    "L'algorithme est le suivant :\n",
    "\n",
    "1. On choisi un nombre aléatoire qu'il faut rechercher: `atrouve`\n",
    "1. On initialise une variable booléenne `trouve = False`\n",
    "1. On initialise une variable `bmax = borneSup`\n",
    "1. On initialise une variable `bmin = borneInf`\n",
    "1. Tant que `trouve != True` :\n",
    "    - on calcule la moitié des nombres : `moitie = int((bmax+bmin)/2)`\n",
    "    - si `moitie == atrouve`, alors on arrête : `trouve = True`\n",
    "    - sinon si `moitie > atrouver`, alors `bmax = moitie`\n",
    "    - sinon si `moitie < atrouver`, alors `bmin = moitie`\n",
    "\n",
    "L'algorigramme est le suivant :\n",
    "\n",
    "![RechercheDichotomique](algorigrammes/RechercheDichotomique.png \"Algorigramme de la recherche dichotomique\")\n"
   ]
  },
  {
   "cell_type": "markdown",
   "id": "2c76f440-c73b-4ae1-87c7-269eddafad9a",
   "metadata": {},
   "source": [
    "## Exercice 1 : la boucle while\n",
    "\n",
    "La boucle `tant que` se déclare en python avec le mot clef `while`:\n",
    "\n",
    "```\n",
    "while condition :\n",
    "    instruction 1\n",
    "    instruction 2\n",
    "    etc..\n",
    "```\n",
    "\n",
    "Exemple : Tant que la variable N n'est pas égale à 10, exécuter `N = N + 1`"
   ]
  },
  {
   "cell_type": "code",
   "execution_count": 2,
   "id": "d4d77b2a-b59f-4efa-954c-1557328ed6ce",
   "metadata": {},
   "outputs": [
    {
     "name": "stdout",
     "output_type": "stream",
     "text": [
      "10\n"
     ]
    }
   ],
   "source": [
    "N = 0\n",
    "while (N != 10):\n",
    "    N = N + 1\n",
    "print(N)"
   ]
  },
  {
   "cell_type": "markdown",
   "id": "09811fb2-638a-45bf-ab23-2357697d565a",
   "metadata": {},
   "source": [
    "Ecrivez un code python qui :\n",
    "\n",
    "1. demande à l'utilisateur une valeur minimum\n",
    "1. demande à l'utilisateur une valeur maximum\n",
    "1. initialise une variable `carre = 0`\n",
    "1. Calcule le carré des nombres entiers compris entre les valeurs minimum et maximum\n",
    "\n",
    "(bien qu'il soit possible d'écrire ce programme avec une boucle `for`, l'écrire avec une boucle `while`"
   ]
  },
  {
   "cell_type": "markdown",
   "id": "3f6579a0-e204-46b6-a652-729ca912c73a",
   "metadata": {},
   "source": [
    "## Exercice 2 : Nombres aléatoires\n",
    "\n",
    "La bilbiothèque de fonction `random` permet, via la fonction `randint(borneInf, borneSup)` d'obtenir un nombre aléatoire compris entre `borneInf` et `borneSup`. "
   ]
  },
  {
   "cell_type": "code",
   "execution_count": 3,
   "id": "4dbc624d-cedf-4345-94f6-a9d55a94e36f",
   "metadata": {},
   "outputs": [
    {
     "name": "stdout",
     "output_type": "stream",
     "text": [
      "6\n"
     ]
    }
   ],
   "source": [
    "import random\n",
    "borneInf = 2\n",
    "borneSup = 10\n",
    "aleatoire = random.randint(borneInf, borneSup)\n",
    "print(aleatoire)"
   ]
  },
  {
   "cell_type": "markdown",
   "id": "e959703e-9db0-4076-8feb-f8bd018ee54e",
   "metadata": {},
   "source": [
    "- modifiez les bornes `borneInf` et `borneSup`\n",
    "- observez que votre programme donne effectivement un nombre aléatoire compris entre ces bornes"
   ]
  },
  {
   "cell_type": "markdown",
   "id": "de14ee89-4e6b-44c6-a079-08f45907e294",
   "metadata": {},
   "source": [
    "## Exercice 2.2 : Pile ou face ?\n",
    "\n",
    "Lorsqu'on lance une pièce de monnaie en l'air, elle a une chance sur deux de retomber sur face, une chance sur deux sur pile.\n",
    "\n",
    "Vérifions que la bibliothèque `random` nous donne bien les bonnes valeurs.\n",
    "\n",
    "- Ecrivez un programme qui tire 10000, 100000, 10000000 un nombre aléatoire entier entre 0 (pile) et 1 (face) à l'aode d'une boucle\n",
    "- comptez le nombre de piles et de face (en stockant la valeur intermédiaire dans deux variables `nbrPile` et `nbrFace`\n",
    "- Vérifiez que le résultat est le bon"
   ]
  },
  {
   "cell_type": "markdown",
   "id": "2ee5c8d7-2c8a-4fe1-82bd-229e6b213c4d",
   "metadata": {},
   "source": [
    "## Exercice 3 : Recherche linéaire\n",
    "\n",
    "Le programme suivant exécute une recherche linéaire entre `borneInf` et `borneSup` du nombre aléatoire `aleatoire` à l'aide d'une boucle `while`. \n",
    "\n",
    "- modifiez les bornes\n",
    "- exécutez le code et observez les résulats\n",
    "- enregistrez votre programme sous le nom `recherche_lineaire.py`"
   ]
  },
  {
   "cell_type": "code",
   "execution_count": 2,
   "id": "cd92a1e6-c29e-4046-a081-25e82950fcd6",
   "metadata": {},
   "outputs": [
    {
     "name": "stdout",
     "output_type": "stream",
     "text": [
      "Nombre d'opérations pour trouver 52 : 53\n"
     ]
    }
   ],
   "source": [
    "# Importation de la bibliothèque random (nombres aléatoires)\n",
    "import random\n",
    "# Input borneInf\n",
    "borneInf = 0\n",
    "# Input borneSup\n",
    "borneSup = 100\n",
    "# variable atrouver : nombre aléatoire de type entier compris entre borneInf et borneSup (compris)\n",
    "atrouver = random.randint(borneInf,borneSup)\n",
    "# N est la variable qui contiendra le nombre de comparaisons\n",
    "N = 0\n",
    "# nombre est la variable qui contient l'itérateur entre borneInf et borneSup\n",
    "nombre = 0\n",
    "# trouve est une variable de type booléen.\n",
    "trouve = False\n",
    "# Boucle \"tant que la variable trouve n'est pas égale à True)\n",
    "while (trouve!=True):\n",
    "    # Si le nombre est égal à celui à trouver (atrouver), alors la variable trouve devient True\n",
    "    if (nombre==atrouver):\n",
    "        trouve=True\n",
    "    # on incrémente l'itérateur\n",
    "    nombre = nombre + 1\n",
    "    # On incrémente le nombre de comparaisons\n",
    "    N = N + 1\n",
    "# Output : affichage du nombre à trouver et du nombre de comparaisons\n",
    "print(\"Nombre d'opérations pour trouver \"+str(atrouver)+\" : \"+str(N))"
   ]
  },
  {
   "cell_type": "markdown",
   "id": "80e46a6a-e0fe-47bf-9c57-23aff4a94946",
   "metadata": {},
   "source": [
    "## Exercice 4 : Recherche aléatoire sans remise \n",
    "\n",
    "Le programme suivant exécute une recherche aléatoire sans remise entre `borneInf` et `borneSup` du nombre aléatoire `aleatoire` à l'aide d'une boucle `while`. Il est basé sur la mise en mémoire (dans une liste) des nombres choisis au hasard afin de ne pas les retirer.\n",
    "\n",
    "- Enregistrez votre programme sous le nom `recherche_aleatoire_sans_remise.py`"
   ]
  },
  {
   "cell_type": "code",
   "execution_count": 4,
   "id": "4887f905-657b-4cc6-93be-a705c508b512",
   "metadata": {},
   "outputs": [
    {
     "name": "stdout",
     "output_type": "stream",
     "text": [
      "Nombre d'opérations pour trouver 20 : 12\n"
     ]
    }
   ],
   "source": [
    "# importation de la bibliothèque random (nombres aléatoires)\n",
    "import random\n",
    "\n",
    "# Fonction random_non_tire qui a trois arguments :\n",
    "# already : une liste qui contient tous les nombres aléatoires DEJA TIRES\n",
    "# bmin    : la borne inférieure\n",
    "# bmax    : la borne supérieure\n",
    "# RETOURNE : un nombre aléatoire qui n'a pas déjà été tiré\n",
    "# Remarque : vous n'avez pas à comprendre l'entier du code de la fonction\n",
    "def random_non_tire(already,bmin,bmax):\n",
    "    ret = 0\n",
    "    nontire = False\n",
    "    while nontire != True :\n",
    "        aleat = random.randint(bmin,bmax)\n",
    "        tire = False\n",
    "        for i in range(len(already)):\n",
    "            if already[i] == aleat :\n",
    "                tire = True\n",
    "        if tire == False:\n",
    "            nontire = True\n",
    "    return aleat\n",
    "\n",
    "# input : borne inférieure\n",
    "borneInf = 0\n",
    "# input : borne supérieure\n",
    "borneSup = 100\n",
    "# input : nombre aléatoire à trouver\n",
    "atrouver = random.randint(borneInf,borneSup)\n",
    "# N est une variable qui contient le nombre de comparaisons\n",
    "N = 0\n",
    "# trouve est une variable booléenne qui est initialisée à False\n",
    "trouve = False\n",
    "# liste qui contient tous les aléatoires qui ont déjà été tirés\n",
    "deja_tire = []\n",
    "# Boucle \"Tant que la variable trouve n'est pas égale à True)\n",
    "while (trouve!=True):\n",
    "    # aleatoire contient un nombre aléatoire qui n'a pas été tiré\n",
    "    aleatoire = random_non_tire(deja_tire,borneInf,borneSup)\n",
    "    # si ce nombre aléatoire est celui qu'il faut trouver, alors trouve devient True (et on sort de la boucle while)\n",
    "    if (aleatoire == atrouver) :\n",
    "        trouve=True\n",
    "    # on incérmente le nombre de comparaisons\n",
    "    N = N + 1\n",
    "    # on ajoute l'aléatoire à la liste des nombres déjà triés\n",
    "    deja_tire.append(aleatoire)\n",
    "# on affiche le nombre à chercher et le nombre de comparaisons\n",
    "print(\"Nombre d'opérations pour trouver \"+str(atrouver)+\" : \"+str(N))\n",
    "\n"
   ]
  },
  {
   "cell_type": "markdown",
   "id": "603c777b-beaa-440a-b3df-a120551047f2",
   "metadata": {},
   "source": [
    "## Exercice 5 : Recherche aléatoire avec remise\n",
    "\n",
    "- modifiez votre programme pour qu'il effectue une recherche aléatoire avec remise sur la base du code de la recherche aléatoire sans remise.\n",
    "- Sauvez votre programme sous le nom `recherche_aleatoire_avec_remise.py`"
   ]
  },
  {
   "cell_type": "markdown",
   "id": "38983a07-3b59-443a-a944-c8481ed5af38",
   "metadata": {},
   "source": [
    "## Exercice 6 : Recherche dichotomique\n",
    "\n",
    "- Ecrivez un programme qui recherche un nombre aléatoire entre deux bornes `borneInf` et `borneSup` en utilisant l'algorithme de recherche dichotomique\n",
    "- entregistrez votre programme sous le nom `recherche_dichotomique.py`"
   ]
  },
  {
   "cell_type": "markdown",
   "id": "7cac1f9d-2028-4428-aace-91673ba7c2ed",
   "metadata": {},
   "source": [
    "## Exercice 7 : Création d'un code de comparaison (refactoring)\n",
    "\n",
    "Afin de comparer les différents algorithmes, nous avons besoin de les regrouper dans un seul code informatique. Pour cela, nous allons utiliser la méthode de la **factorisation** : chaque code implémentant un algorithme sera écrit comme une fonction.\n",
    "\n",
    "Vous disposez des 4 codes permettant de rechercher un nombre aléatoire dans une liste triée :\n",
    "\n",
    "- `recherche_lineaire.py`\n",
    "- `recherche_aleatoire_sans_remise.py`\n",
    "- `recherche_aleatoire_avec_remise.py`\n",
    "- `recherche_dichotomique.py`\n",
    "\n",
    "Ces 4 codes deviendront 4 **fonctions** dans un nouveau code source nommé `recherche.py`.\n",
    "\n",
    "- Observez dans chaque code ce qui se répète. \n",
    "- Copiez-collez dans une nouvelle fonction ce qui ne se répète pas.\n",
    "- Faites cette opération pour les 4 codes de recherche\n",
    "\n",
    "Voici un exemple pour la recherche linéaire :"
   ]
  },
  {
   "cell_type": "code",
   "execution_count": 1,
   "id": "5bcd7c44-9887-4588-8ec9-654a99abb189",
   "metadata": {},
   "outputs": [
    {
     "name": "stdout",
     "output_type": "stream",
     "text": [
      "Nombre d'opérations pour trouver 57 : 58\n"
     ]
    }
   ],
   "source": [
    "import random\n",
    "borneInf = 0\n",
    "borneSup = 100\n",
    "atrouver = random.randint(borneInf,borneSup)\n",
    "N = 0\n",
    "nombre = 0\n",
    "trouve = False\n",
    "while (trouve!=True):\n",
    "    if (nombre==atrouver):\n",
    "        trouve=True\n",
    "    nombre = nombre + 1\n",
    "    N = N + 1\n",
    "print(\"Nombre d'opérations pour trouver \"+str(atrouver)+\" : \"+str(N))"
   ]
  },
  {
   "cell_type": "markdown",
   "id": "10613188-f67e-4d16-8413-97298751c5cd",
   "metadata": {},
   "source": [
    "devient, une fois factorisé en une fonction :"
   ]
  },
  {
   "cell_type": "code",
   "execution_count": 5,
   "id": "fd419e78-50d7-4b1c-a64f-4916e5f01638",
   "metadata": {},
   "outputs": [
    {
     "name": "stdout",
     "output_type": "stream",
     "text": [
      "Nombre d'opérations pour trouver 89 : 90\n"
     ]
    }
   ],
   "source": [
    "import random\n",
    "def recherche_lineaire(_atrouver):\n",
    "    N = 0\n",
    "    nombre = 0\n",
    "    trouve = False\n",
    "    while (trouve!=True):\n",
    "        if (nombre==_atrouver):\n",
    "            trouve=True\n",
    "        nombre = nombre + 1\n",
    "        N = N + 1\n",
    "    return N\n",
    "borneInf = 0\n",
    "borneSup = 100\n",
    "atrouver = random.randint(borneInf,borneSup)\n",
    "print(\"Nombre d'opérations pour trouver \"+str(atrouver)+\" : \"+str(recherche_lineaire(atrouver)))\n"
   ]
  },
  {
   "cell_type": "markdown",
   "id": "22481f68-8e18-4124-9b38-b181a78888f9",
   "metadata": {},
   "source": [
    "## Exercice 8 : Moyenne caractéristique\n",
    "\n",
    "Afin d'obtenir des grandeurs caractéristiques, il est utile d'obtenir différentes valeurs dont on prendra la moyenne.\n",
    "\n",
    "- Pour chaque algorithme, écrivez une boucle qui calcule une moyenne de 10 nombres aléatoires à trouver\n",
    "- Testez pour chacun des 4 algorithmes\n",
    "\n",
    "Par exemple :"
   ]
  },
  {
   "cell_type": "code",
   "execution_count": 7,
   "id": "c7f77ca8-b241-44f2-ae6d-623b2b9a2c5f",
   "metadata": {},
   "outputs": [
    {
     "name": "stdout",
     "output_type": "stream",
     "text": [
      "Nombre moyen pour la recherche linéaire : 59.2\n"
     ]
    }
   ],
   "source": [
    "somme = 0\n",
    "for i in range(10):\n",
    "    atrouver = random.randint(borneInf, borneSup)\n",
    "    somme = somme + recherche_lineaire(atrouver)\n",
    "print(\"Nombre moyen pour la recherche linéaire : \"+str(somme/10))"
   ]
  },
  {
   "cell_type": "markdown",
   "id": "0c0aa1a0-4794-46d7-adcf-290bd5c62fe9",
   "metadata": {},
   "source": [
    "## Exercice 9 : Comparaison des algorithmes\n",
    "\n",
    "Le code `recherche.py` implémente les 4 algorithmes de recherche. Il est maintenant possible de les comparer avec les mêmes bornes `borneInf`, `borneSup` et le nombre aléatoire à trouver `atrouver`\n",
    "\n",
    "- Modifiez votre code afin de mesurer les valeurs de `N` entre `borneInf = 0` et différentes valeurs de `borneSup` :\n",
    "    - `100` à `100000` avec un pas de 200\n",
    "- Dans un graphique Excel, notez toutes les valeurs sur 5 colonnes : `borneSup`, et les 4 `N` retournés pour chaque algorithme"
   ]
  },
  {
   "cell_type": "markdown",
   "id": "b5683594-b73a-4db3-b446-ca5c27da9056",
   "metadata": {},
   "source": [
    "## Exercice 10 : Comportement asymptotique de la complexité des 4 algorithmes\n",
    "\n",
    "Le **comportement asymptotique** représente le comportement de la fonction mathématique décrivant la complexité d'un algorithme. Dans le pire des cas, c'est celui qui est décrit par la notation *Big O* ou $\\mathcal{O}$. \n",
    "\n",
    "Par exemple : $\\mathcal{O}(n)$ est un comportement linéaire, $\\mathcal{O}(n^2)$ est quadratique, $\\mathcal{O}(n\\log{}n)$ est linéarithmique, etc..\n",
    "\n",
    "- A l'aide de votre graphique Excel, êtes-vous capable d'estimer une fonction qui passerait par les points mesurés ?\n",
    "- Si oui, lesquelles ?\n",
    "- Sinon pourquoi ?\n"
   ]
  },
  {
   "cell_type": "code",
   "execution_count": null,
   "id": "282f819c-b77d-4eb6-980d-e831aa1cd823",
   "metadata": {},
   "outputs": [],
   "source": []
  }
 ],
 "metadata": {
  "kernelspec": {
   "display_name": "Python 3 (ipykernel)",
   "language": "python",
   "name": "python3"
  },
  "language_info": {
   "codemirror_mode": {
    "name": "ipython",
    "version": 3
   },
   "file_extension": ".py",
   "mimetype": "text/x-python",
   "name": "python",
   "nbconvert_exporter": "python",
   "pygments_lexer": "ipython3",
   "version": "3.9.2"
  }
 },
 "nbformat": 4,
 "nbformat_minor": 5
}
