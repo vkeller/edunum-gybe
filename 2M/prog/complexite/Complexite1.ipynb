{
 "cells": [
  {
   "cell_type": "markdown",
   "id": "fe37631b-0250-4efb-8358-6e5ae96caa6b",
   "metadata": {},
   "source": [
    "![complexite](images/complexite.jpg \"Complexite\")\n",
    "\n",
    "# TP2-PROG-01 : Approche pratique de la complexité"
   ]
  },
  {
   "cell_type": "markdown",
   "id": "931139ad-243b-4f59-9654-b5fd445314ad",
   "metadata": {},
   "source": [
    "## Objectifs pédagogiques\n",
    "\n",
    "- être capable de programmer plusieurs algorithmes pour le problème de la recherche d'un élément dans une liste\n",
    "- mesurer la performance des algorithmes\n",
    "- déduire le comportement asymptotique et la complexité"
   ]
  },
  {
   "cell_type": "code",
   "execution_count": null,
   "id": "f7ddd03f-87e8-48d2-b8c8-5c1d9f57745e",
   "metadata": {},
   "outputs": [],
   "source": []
  }
 ],
 "metadata": {
  "kernelspec": {
   "display_name": "Python 3 (ipykernel)",
   "language": "python",
   "name": "python3"
  },
  "language_info": {
   "codemirror_mode": {
    "name": "ipython",
    "version": 3
   },
   "file_extension": ".py",
   "mimetype": "text/x-python",
   "name": "python",
   "nbconvert_exporter": "python",
   "pygments_lexer": "ipython3",
   "version": "3.9.2"
  }
 },
 "nbformat": 4,
 "nbformat_minor": 5
}
