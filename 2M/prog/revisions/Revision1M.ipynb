{
 "cells": [
  {
   "cell_type": "markdown",
   "id": "a84f6b30-2f7c-438c-9347-66b683b2fa18",
   "metadata": {},
   "source": [
    "![important](images/important.jpg \"Important sign\")"
   ]
  },
  {
   "cell_type": "markdown",
   "id": "906307d5-2f8b-4bbe-8312-3c5b096c5f37",
   "metadata": {},
   "source": [
    "# R-PROG-01 : Rappels programmation 1M"
   ]
  },
  {
   "cell_type": "markdown",
   "id": "3fa5979d-df5c-4bdf-81f0-b00a5d72e497",
   "metadata": {},
   "source": [
    "## Objectifs\n",
    "\n",
    "- réviser les éléments importants du thème **programmation** de 1M pour bien aborder la programmation en 2M\n",
    "    - créer, enregistrer, sauvegarder, envoyer un fichier source Python\n",
    "    - connaître les principaux types de variables\n",
    "    - être capable de faire test conditionnel\n",
    "    - connaître les différents types de boucles\n",
    "    - construire une structure de données avec un tableau\n",
    "    - construire des fonctions simples"
   ]
  },
  {
   "cell_type": "markdown",
   "id": "1f019a15-f1a2-4915-9dc1-51f4eaa4430e",
   "metadata": {},
   "source": [
    "## L'IDE Thonny, les entrées et les sorties\n",
    "\n",
    "L'environnement de développement intégré (IDE) utilisé est **Thonny**\n",
    "\n",
    "### Exercice 1 (sortie)\n",
    "\n",
    "- ouvrir thonny\n",
    "- créer un nouveau fichier code source Python `entree.py`\n",
    "- créer un programme qui écrit `Hello World !` (*Hint : utiliser la fonction `print()`*)\n",
    "- enregistrer le fichier sur son volume du réseau pédagogique\n",
    "- envoyer le fichier sur le Moodle\n",
    "\n",
    "### Exercice 2 (entrées)\n",
    "\n",
    "- créez un nouveau fichier code source Python `sortie.py`\n",
    "- écrivez un programme qui demande un prénom (*hint : utilisez la fonction `input()`*) et l'affiche (*hint : utilisez la fonction `print()`*)"
   ]
  },
  {
   "cell_type": "markdown",
   "id": "85848bfe-dd1a-41ff-8ff3-36ca956119d0",
   "metadata": {},
   "source": [
    "## Variables et types\n",
    "\n",
    "Les variables sont utilisées pour stocker de l'information dans un code informatique. Elles sont décrites par :\n",
    "\n",
    "1. leur type \n",
    "1. leur contenu (leur valeur)\n",
    "1. leur adresse\n",
    "\n",
    "### Exercice 2\n",
    "\n",
    "- sous thonny, créer un nouveau fichier source Python\n",
    "- écrire un programme qui déclare :\n",
    "   - en entier (`int`)\n",
    "   - une chaîne de caractères (`str`)\n",
    "   - un booléen (`bool`)\n",
    "- modifiez les valeurs assignées "
   ]
  },
  {
   "cell_type": "code",
   "execution_count": 3,
   "id": "6fa9e5db-8d2d-41f0-b03c-60b4601a8772",
   "metadata": {},
   "outputs": [
    {
     "name": "stdout",
     "output_type": "stream",
     "text": [
      "10 Bonjour le monde True 3.14\n"
     ]
    }
   ],
   "source": [
    "entier = 10\n",
    "chaine = \"Bonjour le monde\"\n",
    "booleen = True\n",
    "flottant = 3.14\n",
    "print(entier, chaine, booleen, flottant)"
   ]
  },
  {
   "cell_type": "markdown",
   "id": "543895b1-e901-4b8c-9894-e630e9be0250",
   "metadata": {},
   "source": [
    "## Les tests conditionnels"
   ]
  },
  {
   "cell_type": "markdown",
   "id": "15bcac78-eff8-4cc9-9a78-8fb7571ade51",
   "metadata": {},
   "source": [
    "## Les boucles"
   ]
  },
  {
   "cell_type": "markdown",
   "id": "d4300953-310f-4ccc-a0e5-4826ded6e8b2",
   "metadata": {},
   "source": [
    "## Les tableaux"
   ]
  },
  {
   "cell_type": "markdown",
   "id": "ad988d7a-d575-43c5-b70a-c312941cd3e3",
   "metadata": {},
   "source": [
    "## Les fonctions"
   ]
  },
  {
   "cell_type": "code",
   "execution_count": null,
   "id": "e8cc625a-1785-4148-80b2-024c54a991ce",
   "metadata": {},
   "outputs": [],
   "source": []
  }
 ],
 "metadata": {
  "kernelspec": {
   "display_name": "Python 3 (ipykernel)",
   "language": "python",
   "name": "python3"
  },
  "language_info": {
   "codemirror_mode": {
    "name": "ipython",
    "version": 3
   },
   "file_extension": ".py",
   "mimetype": "text/x-python",
   "name": "python",
   "nbconvert_exporter": "python",
   "pygments_lexer": "ipython3",
   "version": "3.9.2"
  }
 },
 "nbformat": 4,
 "nbformat_minor": 5
}
