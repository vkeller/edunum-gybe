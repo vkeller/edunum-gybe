{
 "cells": [
  {
   "cell_type": "markdown",
   "id": "32aa2d14-fca7-4f34-b9e3-9aa74c283845",
   "metadata": {},
   "source": [
    "![cartebancaire](images/carte.jpg \"Cartes de crédit\")\n",
    "\n",
    "# TP2-PROG-03 : Algorithme de Luhn"
   ]
  },
  {
   "cell_type": "markdown",
   "id": "018c8067-8011-4bd0-b94d-12de3ebe6930",
   "metadata": {},
   "source": [
    "## Objectifs pédagogiques\n",
    "\n",
    "- comprendre le système de codage des numéros de carte de crédit\n",
    "- mettre en oeuvre un système de somme de contrôle (*checksum*) $ l'aide de l'algorithme de Luhn\n",
    "- implémenter l'algorithme de Luhn en Python\n",
    "- vérifier la validité de sa carte de crédit"
   ]
  },
  {
   "cell_type": "markdown",
   "id": "f5637fc0-a73f-46ae-83db-87745276a772",
   "metadata": {},
   "source": [
    "## Somme de contrôle (checksum)"
   ]
  },
  {
   "cell_type": "markdown",
   "id": "0d74a130-6a8e-460f-8bc0-07e316969b76",
   "metadata": {},
   "source": [
    "## Numéro d'une carte de crédit\n",
    "\n"
   ]
  },
  {
   "cell_type": "code",
   "execution_count": null,
   "id": "fd201fa7-12bf-4317-a8a9-9ec4fcc1e582",
   "metadata": {},
   "outputs": [],
   "source": []
  }
 ],
 "metadata": {
  "kernelspec": {
   "display_name": "Python 3 (ipykernel)",
   "language": "python",
   "name": "python3"
  },
  "language_info": {
   "codemirror_mode": {
    "name": "ipython",
    "version": 3
   },
   "file_extension": ".py",
   "mimetype": "text/x-python",
   "name": "python",
   "nbconvert_exporter": "python",
   "pygments_lexer": "ipython3",
   "version": "3.9.2"
  }
 },
 "nbformat": 4,
 "nbformat_minor": 5
}
