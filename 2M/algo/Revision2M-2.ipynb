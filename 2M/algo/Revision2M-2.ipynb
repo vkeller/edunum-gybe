{
 "cells": [
  {
   "cell_type": "markdown",
   "id": "6ca33841-2ae1-4984-8369-54ff3ae829d5",
   "metadata": {},
   "source": [
    "![tresor](images/tresor.jpg \"Carte au trésor\")\n",
    "\n",
    "# R2-ALGO-02 : Révision algorithmes "
   ]
  },
  {
   "cell_type": "markdown",
   "id": "a8807969-3df8-433d-911b-e5d847a8f55d",
   "metadata": {},
   "source": [
    "## Objectifs pédagogiques\n",
    "\n",
    "- "
   ]
  },
  {
   "cell_type": "code",
   "execution_count": null,
   "id": "123d16c9-8357-4a79-8f3e-cb579164b5e0",
   "metadata": {},
   "outputs": [],
   "source": []
  }
 ],
 "metadata": {
  "kernelspec": {
   "display_name": "Python 3 (ipykernel)",
   "language": "python",
   "name": "python3"
  },
  "language_info": {
   "codemirror_mode": {
    "name": "ipython",
    "version": 3
   },
   "file_extension": ".py",
   "mimetype": "text/x-python",
   "name": "python",
   "nbconvert_exporter": "python",
   "pygments_lexer": "ipython3",
   "version": "3.9.2"
  }
 },
 "nbformat": 4,
 "nbformat_minor": 5
}
