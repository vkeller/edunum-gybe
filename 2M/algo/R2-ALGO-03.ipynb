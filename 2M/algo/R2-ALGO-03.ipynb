{
 "cells": [
  {
   "cell_type": "markdown",
   "id": "a02b2835-0afd-489f-b805-59b2c9d63687",
   "metadata": {},
   "source": [
    "# R1-ALGO-03 : Révision"
   ]
  },
  {
   "cell_type": "markdown",
   "id": "4dac267e-c50b-4f97-9f25-35d98c52580a",
   "metadata": {},
   "source": [
    "## Objectifs du test\n",
    "\n",
    "- Complexité\n",
    "    - Taille du problème\n",
    "    - Classes de complexité d'algorithmes\n",
    "- Graphes\n",
    "    - Algorithme de Dijkstra\n",
    "    - Algorithme glouton sur le voyageur de commerce\n",
    "    - Matrice d'adjacence"
   ]
  },
  {
   "cell_type": "markdown",
   "id": "b6299eb1-e097-48d5-9ba1-628382d88e84",
   "metadata": {},
   "source": [
    "## Complexité (algorigramme)\n",
    "\n",
    "Voici un algorigramme \n",
    "\n",
    "![taille](graphs/taille_image.png \"Algo taille\")\n",
    "\n",
    "### Que fait cet algorithme ?\n",
    "\n",
    "Décrivez à quel type de problèmes cet algorithme peut répondre (en français)\n",
    "\n",
    "### Quelles sont les entrées de l'algorithme ?\n",
    "\n",
    "Décrivez chacune des entrées. Lesquelles de ces entrées sont dominantes pour calculer la classe de complexité de l'algorithme\n",
    "\n",
    "### Quelle est la classe de complexité de l'algorithme ?\n",
    "\n",
    "Quelle est la classe de complexité de l'algorithme en notation *Big O*. Si `nbrLignes = 100`, `nbrColonnes = 200` et `nbrBitsParPixel = 24`, quelle sera la valeur de sortie de l'algorithme ?"
   ]
  },
  {
   "cell_type": "markdown",
   "id": "ee1e6e15-87c4-421b-b304-5d1ed582ee79",
   "metadata": {},
   "source": [
    "## Complexité (programme Python)\n",
    "\n",
    "Voici un programme Python :"
   ]
  },
  {
   "cell_type": "code",
   "execution_count": 1,
   "id": "c6286945-5318-43b7-82d9-ea4748f6eb01",
   "metadata": {},
   "outputs": [
    {
     "name": "stdout",
     "output_type": "stream",
     "text": [
      "3 4 5 respectent la règle\n",
      "5 12 13 respectent la règle\n",
      "6 8 10 respectent la règle\n",
      "8 15 17 respectent la règle\n",
      "9 12 15 respectent la règle\n"
     ]
    }
   ],
   "source": [
    "n = 20  # Limite supérieure pour a, b, c\n",
    "\n",
    "for a in range(1, n):\n",
    "    for b in range(a, n):  # b >= a pour éviter les doublons\n",
    "        for c in range(b, n):  # c >= b\n",
    "            if a**2 + b**2 == c**2:\n",
    "                print(a,b,c,\"respectent la règle\")"
   ]
  },
  {
   "cell_type": "markdown",
   "id": "ed337633-f2ad-4491-9510-5e4fdb23b0cd",
   "metadata": {},
   "source": [
    "### Que calcule ce programme ?\n",
    "\n",
    "Décrivez de quel type de problème set algorithme peut répondre (en français)\n",
    "\n",
    "### Quelles sont les entrées de l'algorithme ?\n",
    "\n",
    "Décrivez chacune des entrées. Lesquelles de ces entrées sont dominantes pour calculer la classe de complexité de l'algorithme\n",
    "\n",
    "### Quelle est la classe de complexité de l'algorithme ?\n",
    "\n",
    "Quelle est la classe de complexité de l'algorithme en notation *Big O*. Si `n = 100`, quelle sera la valeur de sortie de l'algorithme ?"
   ]
  },
  {
   "cell_type": "markdown",
   "id": "32218c06-9493-46de-ae5d-1d4a492a3ebd",
   "metadata": {},
   "source": [
    "## Graphes\n",
    "\n",
    "Voici un graphe :\n",
    "\n",
    "![graphe](graphs/graphe.png)\n",
    "\n",
    "### Calculez la matrice d'adjacence\n",
    "\n",
    "Donnez la matrice d'adjacence du graphe\n",
    "\n",
    "### Calculez l'arbre couvrant depuis le sommet 2 et celui du sommet 4\n",
    "\n",
    "A l'aide d'un stylo gras, dessinez les abres couvrants"
   ]
  }
 ],
 "metadata": {
  "kernelspec": {
   "display_name": "Python 3 (ipykernel)",
   "language": "python",
   "name": "python3"
  },
  "language_info": {
   "codemirror_mode": {
    "name": "ipython",
    "version": 3
   },
   "file_extension": ".py",
   "mimetype": "text/x-python",
   "name": "python",
   "nbconvert_exporter": "python",
   "pygments_lexer": "ipython3",
   "version": "3.9.2"
  }
 },
 "nbformat": 4,
 "nbformat_minor": 5
}
