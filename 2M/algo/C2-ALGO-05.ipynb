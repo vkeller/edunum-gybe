{
 "cells": [
  {
   "cell_type": "markdown",
   "id": "c05253d8-68a6-4c8c-9026-8ce10268f5bf",
   "metadata": {},
   "source": [
    "\n",
    "\n",
    "# C2-ALGO-05 : Introduction à la théorie des graphes"
   ]
  },
  {
   "cell_type": "markdown",
   "id": "485a58fe-6b91-45c5-af66-fccaecb61759",
   "metadata": {},
   "source": [
    "## Objectifs pédagogiques"
   ]
  },
  {
   "cell_type": "markdown",
   "id": "00494ff2-bdbc-4a2e-8489-3ca57d157643",
   "metadata": {},
   "source": [
    "## Exemple introductif\n",
    "\n",
    "Il est d'usage d'introduire la théorie des graphes en présentant le célèbre problème dit **des sept ponts de Königsberg**. \n",
    "\n",
    "![konigsberg](images/konigsberg.jpg \"les 7 ponts de Königsberg\")\n",
    "\n",
    "Le problème est le suivant : La ville de Königsberg (aujourd'hui [Kaliningrad](https://fr.wikipedia.org/wiki/K%C3%B6nigsberg)), du temps de [Leonhard Euler](https://fr.wikipedia.org/wiki/Leonhard_Euler) le célèbre mathématicien et physicien suisse qui l'a résolu, est construite dans l'estuaire du fleuve Pregolia sur 5 îles reliées par des ponts. Ces ponts étaient au nombre de 7 du temps d'Euler. Le problème consiste à partir d'un point de départ au choix, de passer **une et une seule fois** sur chacun des sept ponts et à revenir au point de départ."
   ]
  },
  {
   "cell_type": "code",
   "execution_count": null,
   "id": "bc521cdc-d864-4c3f-bb11-2630f0b37dce",
   "metadata": {},
   "outputs": [],
   "source": []
  }
 ],
 "metadata": {
  "kernelspec": {
   "display_name": "Python 3 (ipykernel)",
   "language": "python",
   "name": "python3"
  },
  "language_info": {
   "codemirror_mode": {
    "name": "ipython",
    "version": 3
   },
   "file_extension": ".py",
   "mimetype": "text/x-python",
   "name": "python",
   "nbconvert_exporter": "python",
   "pygments_lexer": "ipython3",
   "version": "3.9.2"
  }
 },
 "nbformat": 4,
 "nbformat_minor": 5
}
