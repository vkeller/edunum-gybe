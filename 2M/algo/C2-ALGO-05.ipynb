{
 "cells": [
  {
   "cell_type": "markdown",
   "id": "c05253d8-68a6-4c8c-9026-8ce10268f5bf",
   "metadata": {},
   "source": [
    "\n",
    "\n",
    "# C2-ALGO-05 : Introduction aux graphs"
   ]
  },
  {
   "cell_type": "markdown",
   "id": "485a58fe-6b91-45c5-af66-fccaecb61759",
   "metadata": {},
   "source": [
    "## Objectifs pédagogiques"
   ]
  },
  {
   "cell_type": "code",
   "execution_count": null,
   "id": "ef0a8e90-2e76-48d6-86af-10b930ed364e",
   "metadata": {},
   "outputs": [],
   "source": []
  }
 ],
 "metadata": {
  "kernelspec": {
   "display_name": "Python 3 (ipykernel)",
   "language": "python",
   "name": "python3"
  },
  "language_info": {
   "name": ""
  }
 },
 "nbformat": 4,
 "nbformat_minor": 5
}
