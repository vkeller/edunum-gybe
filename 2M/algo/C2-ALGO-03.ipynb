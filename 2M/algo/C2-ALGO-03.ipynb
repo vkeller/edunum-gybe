{
 "cells": [
  {
   "cell_type": "markdown",
   "id": "3948d4f8-2d4e-4621-ae6a-58d266918882",
   "metadata": {},
   "source": [
    "![exercer](images/exercer.jpg \"Exercer la complexité\")\n",
    "\n",
    "# C2-ALGO-03 : Complexité des algorithmes"
   ]
  },
  {
   "cell_type": "markdown",
   "id": "8aad67bb-382c-4281-85dd-3ed4cedc2186",
   "metadata": {},
   "source": [
    "## Objectifs pédagogiques\n",
    "\n",
    "- déduire la complexité temporelle de quelques algorithmes classiques"
   ]
  },
  {
   "cell_type": "markdown",
   "id": "9606c6de-91e0-4133-9fa6-e035a568363d",
   "metadata": {},
   "source": [
    "## Méthode\n",
    "\n",
    "- On calcule toujours la complexité **dans le pire des cas**\n",
    "- la complexité d'un algorithme est **indépendante** d'une implémentation quelconque et d'une machine quelconque\n",
    "- On utilise la notation *Big O* ( $f(n) = \\mathcal O (g(n))$. On s'intéresse au comportement asymptotique de la complexité. Soit le **terme dominant**\n",
    "    - Exemple : si le temps varie comme $f(n) = n^2 + 6n -3 = 0$ alors le comportement asymptotique de l'algorithme est $\\mathcal O (n^3)$\n",
    "- Chaque **opération** ou **instruction** vaut $1$ unité de temps :\n",
    "    - affectation d'une variable\n",
    "    - une entrée\n",
    "    - une sortie\n",
    "    - une comparaison (un test)\n",
    "    - etc..\n",
    "- Chaque **boucle** rajoute le nombre d'unité de temps correspondant à toutes les unités de temps consommées dans le corps de la boucle entre chaque bornes.\n",
    "- Chaque **fonction** rajoute le nombre d'unité de temps correspondant à toutes les unités de temps consommées dans la fonction\n",
    "- On fait varier la **taille** des entrées et on estime le nombre d'unités de temps."
   ]
  },
  {
   "cell_type": "markdown",
   "id": "127fd147-fafd-475a-bf07-5a413fb1712c",
   "metadata": {},
   "source": [
    "## Exercice 1 : Comportement asymptotique $\\mathcal O$\n",
    "\n",
    "Pour chaque fonction suivante, donnez la **classe de complexité** correspondante :\n",
    "\n",
    "- $f(n) = n^2 - 2n -56$\n",
    "- $f(n) = n - \\sqrt{n} +3$\n",
    "- $f(n) = n^4 - 3n^2 + log_2(n)$\n",
    "- $f(n) = n^{100} + 2^n - 4$\n",
    "- $f(n) = 3n~log_2(n) - 34$\n",
    "- $f(n) = n - 2n~log_2(n)$\n",
    "- $f(n) = 193000 - n!$"
   ]
  },
  {
   "cell_type": "markdown",
   "id": "3d47e7b1-6ab7-4294-9483-2bc6c1f90ecc",
   "metadata": {},
   "source": []
  }
 ],
 "metadata": {
  "kernelspec": {
   "display_name": "Python 3 (ipykernel)",
   "language": "python",
   "name": "python3"
  },
  "language_info": {
   "codemirror_mode": {
    "name": "ipython",
    "version": 3
   },
   "file_extension": ".py",
   "mimetype": "text/x-python",
   "name": "python",
   "nbconvert_exporter": "python",
   "pygments_lexer": "ipython3",
   "version": "3.9.2"
  }
 },
 "nbformat": 4,
 "nbformat_minor": 5
}
