{
 "cells": [
  {
   "cell_type": "markdown",
   "id": "ab5996b1-e83c-4897-9219-d7f8cce20019",
   "metadata": {},
   "source": [
    "![revision algos - progr](images/revision.jpg \"Révision R2\")\n",
    "\n",
    "# R2-ALGO-01 : Révision Algorithmes 1M"
   ]
  },
  {
   "cell_type": "markdown",
   "id": "2a6b7971-6102-468f-a5e8-35f96c88fc12",
   "metadata": {},
   "source": [
    "## Objectifs pédagogiques\n",
    "\n",
    "- consolider les concepts algorithmiques nécessaires à la 2M\n",
    "    - début et fin\n",
    "    - liaison\n",
    "    - instruction\n",
    "    - condition\n",
    "    - sous-programme\n",
    "    - entrées\n",
    "    - sorties"
   ]
  },
  {
   "cell_type": "markdown",
   "id": "ed2fe922-1f64-4fe5-a661-215fa4b96a5b",
   "metadata": {},
   "source": [
    "## Caractéristiques des algorithmes\n",
    "\n",
    "Un algorithme est une succession d’instructions permettant d’aboutir à un résultat souhaité. Il possède les caractéristiques (proriétés) suivantes :\n",
    "\n",
    "1. il doit toujours se terminer après un **nombre fini** d’étapes (finitude)\n",
    "1. chaque étape d’un algorithme doit être définie précisément, les actions à mener doivent être spécifiées rigoureusement et sans ambigüité pour chaque cas\n",
    "1. un algorithme a des entrées, zéro ou plus, quantités qui lui sont données avant ou pendant son exécution\n",
    "1. un algorithme a une ou plusieurs sorties, quantités qui ont une relation spécifiée avec les entrées\n",
    "1. les instructions doivent être suffisament basiques pour pouvoir être en principe exécutées de manière exacte, en **un temps fini** par une personne utilisant un papier et un crayon.\n"
   ]
  },
  {
   "cell_type": "markdown",
   "id": "21ee8cbf-52e6-4875-9ab1-ee0257e18ca2",
   "metadata": {},
   "source": [
    "## Formalisme : algorigrammes\n",
    "\n",
    "Dans ce cours nous utilisons le formalisme des **algorigrammes**.\n",
    "\n",
    "![algorigrammes](images/structures.png \"algorigrammes\")"
   ]
  },
  {
   "cell_type": "markdown",
   "id": "25d6642d-5387-49b9-a593-9e46e28d5843",
   "metadata": {},
   "source": [
    "## Règles de construction\n",
    "\n",
    "- Il faut **centrer** l’algorigramme au centre de la feuille ou du programme informatique pour le créer\n",
    "- Il faut que la lecture de l’algorigramme puisse se faire **verticalement**\n",
    "- Les lignes de **liaisons** entre les symboles **ne doivent pas se couper**.\n",
    "- Une ligne de liaison doit toujours arriver sur le haut et au centre d’un symbole.\n",
    "- Les commentaires sont à placer de préférence à droite et les renvois de branchement à gauche.\n",
    "\n",
    "A cela on ajoute :\n",
    "\n",
    "- aucune liaison **orpheline** (qui part d'un symbole et qui arrive nulle part)"
   ]
  },
  {
   "cell_type": "markdown",
   "id": "c6ec50a8-fa57-4289-9f51-48125d5facd8",
   "metadata": {},
   "source": [
    "## Exercice 1 : Un algorithme simple\n",
    "\n",
    "Sur une feuille de papier et avec un crayon, dessinez l'algorigramme correspondant à l'algorithme suivant :\n",
    "\n",
    "- demander un entier `A`\n",
    "- demander un entier `B`\n",
    "- calculer la somme `C  = A + B` en calculant:\n",
    "    - tant que `A != 0` faire :\n",
    "        - `A = A + 1`\n",
    "        - `B = B - 1`\n"
   ]
  },
  {
   "cell_type": "markdown",
   "id": "a45fd537-bf47-4501-b667-870f849be8c9",
   "metadata": {},
   "source": [
    "## Exercice 2\n",
    "\n",
    "Modifiez votre algorigramme pour qu'il calcule la différence `C = A - B`\n",
    "\n",
    "(Vous pouvez vous restreindre aux nombre non négatifs)"
   ]
  },
  {
   "cell_type": "markdown",
   "id": "ec5fc97b-7241-45a9-80a4-d82ba2d52ae6",
   "metadata": {},
   "source": [
    "## Exercice 3 (Si vous avez du temps)\n",
    "\n",
    "Il existe un algorithme simple appelé **méthode de la bissection** qui permet de calculer une **racine carrée** simplement.\n",
    "\n",
    "Méthode pour calculer $\\sqrt{x}$:\n",
    "\n",
    "1. Choisir un intervalle entre `1` et `x`\n",
    "    1. Calculer la moitié de l'intervalle : $m = \\frac{1 + x}{2}$\n",
    "    1. Calculer $m^2$\n",
    "    1. Si $m^2 > x$ alors $m^2$ devient la borne supérieure\n",
    "    1. Sinon $m^2$ devient la borne inférieure\n",
    "    1. Recommencer\n",
    "   \n",
    "Dessinez l'algorigramme correspondant"
   ]
  },
  {
   "cell_type": "code",
   "execution_count": null,
   "id": "cad234f7-f01e-4b5c-b083-81fb83b88733",
   "metadata": {},
   "outputs": [],
   "source": []
  }
 ],
 "metadata": {
  "kernelspec": {
   "display_name": "Python 3 (ipykernel)",
   "language": "python",
   "name": "python3"
  },
  "language_info": {
   "codemirror_mode": {
    "name": "ipython",
    "version": 3
   },
   "file_extension": ".py",
   "mimetype": "text/x-python",
   "name": "python",
   "nbconvert_exporter": "python",
   "pygments_lexer": "ipython3",
   "version": "3.9.2"
  }
 },
 "nbformat": 4,
 "nbformat_minor": 5
}
