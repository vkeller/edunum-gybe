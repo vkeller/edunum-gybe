{
 "cells": [
  {
   "cell_type": "markdown",
   "id": "d3af3efb-9f74-43a8-ae1e-10bdd033f62a",
   "metadata": {},
   "source": [
    "![taille](images/tailles.png \"Tailles XS to XXL\")\n",
    "\n",
    "# C2-ALGO-04 : Taille du problème"
   ]
  },
  {
   "cell_type": "markdown",
   "id": "37c9d600-dc14-4be9-a0ce-ca797233111b",
   "metadata": {},
   "source": [
    "## Objectifs pédagogiques\n",
    "\n",
    "- Identifier la ou les variables qui représentent la variation de taille d'entrée de l'algorithme sur quelques algorithmes classiques"
   ]
  },
  {
   "cell_type": "code",
   "execution_count": null,
   "id": "1154c35f-8fed-47a5-8997-08f2c7627c78",
   "metadata": {},
   "outputs": [],
   "source": []
  }
 ],
 "metadata": {
  "kernelspec": {
   "display_name": "Python 3 (ipykernel)",
   "language": "python",
   "name": "python3"
  },
  "language_info": {
   "codemirror_mode": {
    "name": "ipython",
    "version": 3
   },
   "file_extension": ".py",
   "mimetype": "text/x-python",
   "name": "python",
   "nbconvert_exporter": "python",
   "pygments_lexer": "ipython3",
   "version": "3.9.2"
  }
 },
 "nbformat": 4,
 "nbformat_minor": 5
}
