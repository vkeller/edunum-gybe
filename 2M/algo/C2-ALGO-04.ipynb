{
 "cells": [
  {
   "cell_type": "markdown",
   "id": "d3af3efb-9f74-43a8-ae1e-10bdd033f62a",
   "metadata": {},
   "source": [
    "![taille](images/tailles.png \"Tailles XS to XXL\")\n",
    "\n",
    "# C2-ALGO-04 : Taille du problème"
   ]
  },
  {
   "cell_type": "markdown",
   "id": "37c9d600-dc14-4be9-a0ce-ca797233111b",
   "metadata": {},
   "source": [
    "## Objectifs pédagogiques\n",
    "\n",
    "- Identifier la ou les variables qui représentent la variation de taille d'entrée de l'algorithme sur quelques algorithmes classiques\n",
    "- déduire la complexité temporelle de l'algorithme"
   ]
  },
  {
   "cell_type": "markdown",
   "id": "2134eb5e-563b-4178-a0a1-540e73cb7ce6",
   "metadata": {},
   "source": [
    "## Taille d'entrée d'un algorithme\n",
    "\n",
    "Parmi [les différentes caractéristiques d'un algorithme](../../1M/algo/cours/Cours1), on rappelle qu'un algorithme a:\n",
    "\n",
    "3. un algorithme a des entrées, zéro ou plus, quantités qui lui sont données avant ou pendant son exécution\n",
    "\n",
    "S'il y a **une entrée ou plus**, cela signifie que la taille peut être connue avant l'exécution de l'algorithme. \n",
    "\n",
    "Quelques exemples d'entrées :\n",
    "\n",
    "- une liste de taille `len(maListe)` : par exemple dans le cas d'un algorithme de recherche ou de tri\n",
    "- un périmètre (`range`) entre une borne inférieure `borneInf` et une borne supérieure `borneSup` : par exemple dans le cas d'un algorithme du type Fibonacci où l'on calcule explicitement une suite de nombres en fonction d'un paramètre de boucle\n"
   ]
  },
  {
   "cell_type": "markdown",
   "id": "bb6f6b0c-7a79-49d9-ae58-0795320e9284",
   "metadata": {},
   "source": [
    "## Analyse de la taille\n",
    "\n",
    "Une fois l'entrée ou les entrées de l'algorithme identifiées, il s'agit d'analyser comment celles-ci font varier le nombre d'opérations ou d'instructions `N`.\n",
    "\n",
    "Formellement, on ajoute une boucle externe dont l'itérateur (la variable itérateur) de la boucle devient la variable d'entrée. Cette boucle permet de **monitorer** le code : **mesurer le nombre d'opérations `N` en fonction de la taille de l'entrée** \n",
    "\n",
    "Voici comment on le représente avec un algorigramme :\n",
    "\n",
    "![monitoring](graphs/monitoring.png \"Monitoring algorigram\")\n",
    "\n",
    "Cela permet, lorsqu'on analyse `N` en fonction de la `taille` de déduire quelle est la complexité. Cela se fait avec un tableau qui liste la taille de l'entrée et le nombre d'opérations ou d'instructions :\n",
    "\n",
    "| `taille`  | `N` |\n",
    "|---|---|\n",
    "| 0  | 0  |\n",
    "| 500  | 64  |\n",
    "| 1000  | 128  |\n",
    "| 1500  | 256  |\n",
    "| 2000  | 512  |\n",
    "| 2500  | 1024  |\n",
    "| 3000  | 2048  |\n",
    "| 3500  | 4096  |\n",
    "| 4000  | 8192  |\n"
   ]
  },
  {
   "cell_type": "markdown",
   "id": "74ce7e7f-31eb-44ca-87ff-ea4f9ebd290f",
   "metadata": {},
   "source": [
    "## Exercice 1\n",
    "\n",
    "- quelle taille de l'entrée avant exécution ?\n",
    "- peut-elle varier ?\n",
    "- quelle est la complexité de l'algorithme ?\n",
    "\n",
    "![age](../../1M/algo/cours/images/algo-exemple.png \"Exemple\")"
   ]
  },
  {
   "cell_type": "markdown",
   "id": "ae375725-86f9-4d48-abab-4b0c85ecaf19",
   "metadata": {},
   "source": [
    "## Exercice 2\n",
    "\n",
    "- quelle taille de l'entrée avant exécution ?\n",
    "- peut-elle varier ?\n",
    "- quelle est la complexité de l'algorithme ?"
   ]
  },
  {
   "cell_type": "code",
   "execution_count": 3,
   "id": "091277ec-d2fb-471d-94bd-d1635c7fb217",
   "metadata": {},
   "outputs": [
    {
     "name": "stdout",
     "output_type": "stream",
     "text": [
      "[1, 3, 3, 10, 5, 2, 7, 3, 5, 3]\n",
      "[1, 2, 3, 3, 3, 3, 5, 5, 7, 10]\n"
     ]
    }
   ],
   "source": [
    "## Insertion sort example\n",
    "import random\n",
    "nombres = []\n",
    "longueur = 10\n",
    "## Remplissage de la liste\n",
    "for i in range(longueur):\n",
    "    aleat = random.randint(0,longueur)\n",
    "    nombres.append(aleat)\n",
    "print(nombres)\n",
    "## Insertion sort itself\n",
    "j = 1\n",
    "while j <= longueur-1:\n",
    "    i = j - 1\n",
    "    k = nombres[j]\n",
    "    while i >= 0 and nombres[i] > k:\n",
    "        nombres[i+1] = nombres[i]\n",
    "        i = i - 1\n",
    "    nombres[i+1] = k\n",
    "    j = j + 1\n",
    "print(nombres)"
   ]
  },
  {
   "cell_type": "markdown",
   "id": "75b93d1a-2edc-4392-bcb4-b8aefb3db20d",
   "metadata": {},
   "source": [
    "## Exercice 3\n",
    "\n",
    "- quelle taille de l'entrée avant exécution ?\n",
    "- peut-elle varier ?\n",
    "- quelle est la complexité de l'algorithme ?"
   ]
  },
  {
   "cell_type": "code",
   "execution_count": 4,
   "id": "9cf5a25a-3b58-4958-aa75-47fc142be659",
   "metadata": {},
   "outputs": [
    {
     "name": "stdout",
     "output_type": "stream",
     "text": [
      "Nombre d'opérations pour trouver 47 : 25\n"
     ]
    }
   ],
   "source": [
    "# Recherche aléatoire avec remise dans une liste triée commentée \n",
    "# Vincent Keller, 2023\n",
    "# Importation de la bibliothèque random (nombres aléatoires)\n",
    "import random\n",
    "# Input borneInf\n",
    "borneInf = 0\n",
    "# Input borneSup\n",
    "borneSup = 100\n",
    "# variable atrouver : nombre aléatoire de type entier compris entre borneInf et borneSup (compris)\n",
    "atrouver = random.randint(borneInf,borneSup)\n",
    "# N est la variable qui contiendra le nombre de comparaisons\n",
    "N = 0\n",
    "# trouve est une variable de type booléen.\n",
    "trouve = False\n",
    "# Boucle \"tant que la variable trouve n'est pas égale à True)\n",
    "while (trouve!=True):\n",
    "    # On tire un nombre que l'on assigne à la variable aleatoire\n",
    "    aleatoire = random.randint(borneInf,borneSup)\n",
    "    # Si le nombre à trouver est égal au nombre aléatoire tiré, alors on sort de la boucle\n",
    "    if (aleatoire == atrouver) :\n",
    "        trouve=True\n",
    "    # On incrémente le nombre de comparaisons\n",
    "    N = N + 1\n",
    "# Output : affichage du nombre à trouver et du nombre de comparaisons\n",
    "print(\"Nombre d'opérations pour trouver \"+str(atrouver)+\" : \"+str(N))"
   ]
  },
  {
   "cell_type": "markdown",
   "id": "8d24586e-38e6-44e7-942a-3999ae6ad655",
   "metadata": {},
   "source": [
    "## Exercice 4\n",
    "\n",
    "- quelle taille de l'entrée avant exécution ?\n",
    "- peut-elle varier ?\n",
    "- quelle est la complexité de l'algorithme ?"
   ]
  },
  {
   "cell_type": "code",
   "execution_count": 6,
   "id": "61f87cab-a766-4717-8c13-01c364cc6ae4",
   "metadata": {},
   "outputs": [
    {
     "name": "stdout",
     "output_type": "stream",
     "text": [
      "2023 n'est pas une année bisextile\n"
     ]
    }
   ],
   "source": [
    "annee = 2023\n",
    "\n",
    "if (annee%4 != 0) :\n",
    "    print(str(annee)+\" n'est pas une année bisextile\")\n",
    "else:\n",
    "    if (annee%100 != 0) :\n",
    "        if (annee%400 != 0) :\n",
    "            print(str(annee)+\" est une année bisextile\")\n",
    "        else:\n",
    "            print(str(annee)+\" n'est pas une année bisextile\")\n",
    "    else:\n",
    "        print(str(annee)+\" est une année bisextile\")"
   ]
  },
  {
   "cell_type": "markdown",
   "id": "908ccc94-4fb2-4a91-8ba4-114c9b2a1b8e",
   "metadata": {},
   "source": [
    "## Exercice 5\n",
    "\n",
    "- quelle taille de l'entrée avant exécution ?\n",
    "- peut-elle varier ?\n",
    "- quelle est la complexité de l'algorithme ?\n",
    "\n",
    "![chiffrement](../../1M/prog/cryptographie/diags/chiffrement3.jpg \"Chiffrement Scytale\")"
   ]
  },
  {
   "cell_type": "markdown",
   "id": "11dca0f4-e8df-4a82-bf93-5f1722efa417",
   "metadata": {},
   "source": [
    "## Correction des exercices"
   ]
  },
  {
   "cell_type": "markdown",
   "id": "bef4f64a-f528-4a24-8efd-2b72e2a7f242",
   "metadata": {},
   "source": [
    "### Exercice 1\n",
    "\n",
    "Vérification de l'âge d'un client dans une piscine\n",
    "\n",
    "#### Quelle taille de l'entrée avant exécution ?\n",
    "\n",
    "La taille de l'entrée est constante : l'âge demandé\n",
    "\n",
    "#### Peut-elle varier ?\n",
    "\n",
    "Non, elle ne varie pas\n",
    "\n",
    "#### Quelle est la complexité de l'algorithme ?\n",
    "\n",
    "C'est un algorithme de classe de complexité constante : $\\mathcal O (1)$"
   ]
  },
  {
   "cell_type": "markdown",
   "id": "1484eacb-9eaf-427b-b983-c273875b2b44",
   "metadata": {},
   "source": [
    "### Exercice 2\n",
    "\n",
    "Tri d'une liste de nombres aléatoires avec le **tri par insertion**\n",
    "\n",
    "#### Quelle taille de l'entrée avant exécution ?\n",
    "\n",
    "C'est la longueur de la liste de nombres à trier : `longueur`. Ici la valeur est `10`\n",
    "\n",
    "#### Peut-elle varier ?\n",
    "\n",
    "Oui elle peut varier.\n",
    "\n",
    "#### Quelle est la complexité de l'algorithme ?\n",
    "\n",
    "Deux boucles imbriquées signifie que c'est une classe de complexité quadratique : $\\mathcal O (N^2)$\n"
   ]
  },
  {
   "cell_type": "markdown",
   "id": "86073738-485b-4ca7-8d99-251e8fc877d4",
   "metadata": {},
   "source": [
    "### Exercice 3\n",
    "\n",
    "Recherche d'un élément dans une liste triée en utilisant l'algorithme de recherche aléatoire avec remise du nombre tiré : l'algorithme est susceptible de reprendre le même nombre trié autant de fois qu'il le souhaite.\n",
    "\n",
    "#### Quelle taille de l'entrée avant exécution ?\n",
    "\n",
    "C'est la longueur de la liste triée : `borneSup - borneInf`. Ici la valeur est `100`\n",
    "\n",
    "#### Peut-elle varier ?\n",
    "\n",
    "Oui elle peut varier\n",
    "\n",
    "#### Quelle est la complexité de l'algorithme ?\n",
    "\n",
    "Si la liste est formée de nombres vraiment aléatoires, alors la complexité algorithmique **dans le pire des cas** n'est pas définie. Ce programme n'implémente pas un algorithme puisque, **par définition**, un algorithme doit avoir une fin."
   ]
  },
  {
   "cell_type": "markdown",
   "id": "ee329bc6-fab5-46c9-ace5-2dd37a28a44f",
   "metadata": {},
   "source": [
    "### Exercice 4\n",
    "\n",
    "Une année entrée en paramètre est-elle bissextile ou pas ?\n",
    "\n",
    "#### Quelle taille de l'entrée avant exécution ?\n",
    "\n",
    "La taille de l'entrée est constante : c'est la valeur de l'année entrée par l'utilisateur. \n",
    "\n",
    "#### Peut-elle varier ?\n",
    "\n",
    "Non, il s'agit toujours d'un entier qui représente une année.\n",
    "\n",
    "#### Quelle est la complexité de l'algorithme ?\n",
    "\n",
    "C'est un algorithme de classe de complexité constante : $\\mathcal O (1)$"
   ]
  },
  {
   "cell_type": "markdown",
   "id": "0f2c1910-fda5-4bcf-9b76-953096914261",
   "metadata": {},
   "source": [
    "### Exercice 5\n",
    "\n",
    "Chiffrement d'un texte clair en utilisant l'algorithme par décalage (algorithme de Jules César)\n",
    "\n",
    "#### Quelle taille de l'entrée avant exécution ?\n",
    "\n",
    "Il s'agit de la longueur du texte clair à chiffrer : `l = len(texte_clair)`\n",
    "\n",
    "#### Peut-elle varier ?\n",
    "\n",
    "Oui elle peut varier.\n",
    "\n",
    "#### Quelle est la complexité de l'algorithme ?\n",
    "\n",
    "Pour chaque lettre du texte clair, l'algorithme calcule la lettre chiffrée. Il s'agit donc d'une boucle simple. La classe de complexité algorithmique est donc linéraire : $\\mathcal O (N)$"
   ]
  },
  {
   "cell_type": "code",
   "execution_count": null,
   "id": "3665a12c-8114-4d7f-aff6-0caec7df47a5",
   "metadata": {},
   "outputs": [],
   "source": []
  }
 ],
 "metadata": {
  "kernelspec": {
   "display_name": "Python 3 (ipykernel)",
   "language": "python",
   "name": "python3"
  },
  "language_info": {
   "codemirror_mode": {
    "name": "ipython",
    "version": 3
   },
   "file_extension": ".py",
   "mimetype": "text/x-python",
   "name": "python",
   "nbconvert_exporter": "python",
   "pygments_lexer": "ipython3",
   "version": "3.9.2"
  }
 },
 "nbformat": 4,
 "nbformat_minor": 5
}
