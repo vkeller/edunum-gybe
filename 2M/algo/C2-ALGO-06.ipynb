{
 "cells": [
  {
   "cell_type": "markdown",
   "id": "1a2c6279-d49d-42fe-9c41-25a020971ecd",
   "metadata": {},
   "source": [
    "![businessman](images/businessman.jpg \"Businessman walking\")\n",
    "\n",
    "# C2-ALGO-06 : Théorie des graphes, le voyageur de commerce"
   ]
  },
  {
   "cell_type": "markdown",
   "id": "1e85c677-fd6d-4715-a23c-b98304852c7f",
   "metadata": {},
   "source": [
    "## Objectifs pédagogiques\n",
    "\n",
    "- connaître le problème du voyageur de commerce (TSP)\n",
    "- appliquer un algorithme glouton sur un graphe exemple du TSP"
   ]
  },
  {
   "cell_type": "markdown",
   "id": "f1772afd-c757-44a5-bbf0-a3d8f265a183",
   "metadata": {},
   "source": [
    "## Le problème du Voyageur de commerce\n",
    "\n",
    "![TSP](images/TSP.png \"Traveling Salesman Problem\")\n",
    "\n",
    "Le problème du voyageur de commerce se définit de la façon suivante. Etant donné un ensemble de villes, un voyageur de commerce (ou un commis voyageur) doit trouver le chemin le plus court passant par toutes les villes une seule fois. \n",
    "\n",
    "En terme de graphes, chaque ville est un sommet du graphe, chaque arête étant un chemin entre deux villes. Le graphe n'est pas forcément **totalement connecté**, c'est-à-dire que tous les sommets sont reliés à tous les sommets. "
   ]
  },
  {
   "cell_type": "markdown",
   "id": "2487256e-1e2f-4d11-88ff-9ea81a49617e",
   "metadata": {},
   "source": [
    "## Exercice 1 : Le voyageur de commerce (TSP)\n",
    "\n",
    "Depuis `Lausanne`, quel est le **meilleur itinéraire** qui passe par : `Neuchâtel`, `Bâle`, `Zürich` et `Sion` ?\n",
    "\n",
    "![exo7](images/exercicegraphe7.png \"Exo 6\")"
   ]
  },
  {
   "cell_type": "markdown",
   "id": "f3ba3afe-b61a-4b94-b742-b4e633fa7053",
   "metadata": {},
   "source": [
    "### Comment procéder ?\n",
    "\n",
    "Voici la matrice d'adjacence :\n",
    "\n",
    "|   | **Lausanne**  | **Nauchâtel**  | **Zürich**  | **Sion**  | **Bâle**  |\n",
    "|---|---|---|---|---|---|\n",
    "| **Lausanne**  | 0  | 73  | 233  | 96 | 200  |\n",
    "| **Neuchâtel**  | 73  | 0  | 171  | 169 | 142  |\n",
    "| **Zürich**  | 233  | 171  | 0  | 261 | 87  |\n",
    "| **Sion**  | 96  | 169  | 261  | 0 | 215  |\n",
    "| **Bâle**  | 200  | 142  |  87 | 215 |  0 |\n",
    "\n",
    "Si on calcule tous les itinéraires possibles :\n",
    "\n",
    "- Avec `4` candidates comme première étape, `3` comme seconde, `2` comme troisième et une dernière : $4! = 24$ possibilités\n",
    "- Mais tout est à double : donc `12`\n",
    "- Avec `12` villes : $\\frac{12 !}{2} = 239500800$ : 240 millions !\n",
    "- Complexité du TSP : $\\mathcal O (N!)$\n",
    "- Pas d'autre solution\n",
    "\n",
    "### Approche glouton : \"Greedy algorithms\"\n",
    "\n",
    "1. Appliquer une solution localement valable\n",
    "1. Mesurer le résultat\n",
    "\n",
    "### Changer d'approche\n",
    "\n",
    "![glouton](images/exercicegraphe8.png \"Exo 8\")\n",
    "\n",
    "- Proposition : prendre le prochain plus court chemin vers une ville non visitée\n",
    "- Lausanne-Neuchâtel-Bâle-Zurich-Sion-Lausanne = 659km\n",
    "- C’est bien ?\n",
    "- Accessoirement ce chemin emprunte les 4 chemins les plus courts possibles entre 2 villes...\n",
    "\n",
    "![tab](images/graphetab.png \"Liste exhaustive\")\n",
    "\n",
    "**Gagnant improbable**\n",
    "\n",
    "1. Lausanne-Sion\n",
    "1. Sion-Bâle\n",
    "1. Bâle-Zurich\n",
    "1. Zurich-Neuchâtel\n",
    "1. Neuchâtel-Lausanne\n",
    "\n",
    "**Est-ce une bonne solution ?**\n",
    "\n",
    "- 2e meilleur\n",
    "- 17km de plus que le meilleur\n",
    "- 346 de moins que le pire !\n",
    "- En fait, oui c’est pas mal, mais c’était pas évident de le savoir"
   ]
  },
  {
   "cell_type": "markdown",
   "id": "b40288a8-677e-49df-ad62-e71398144b2a",
   "metadata": {},
   "source": [
    "## Exercice 2 : Simulateur TSP online\n",
    "\n",
    "Vous pouvez simuler le TSP sur le [site suivant](https://algorithms.discrete.ma.tum.de/graph-games/tsp-game/index_en.html)"
   ]
  },
  {
   "cell_type": "code",
   "execution_count": null,
   "id": "eb680d87-3a75-49f4-8ec2-174c33a010dc",
   "metadata": {},
   "outputs": [],
   "source": []
  }
 ],
 "metadata": {
  "kernelspec": {
   "display_name": "Python 3 (ipykernel)",
   "language": "python",
   "name": "python3"
  },
  "language_info": {
   "codemirror_mode": {
    "name": "ipython",
    "version": 3
   },
   "file_extension": ".py",
   "mimetype": "text/x-python",
   "name": "python",
   "nbconvert_exporter": "python",
   "pygments_lexer": "ipython3",
   "version": "3.9.2"
  }
 },
 "nbformat": 4,
 "nbformat_minor": 5
}
