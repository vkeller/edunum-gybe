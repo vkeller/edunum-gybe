{
 "cells": [
  {
   "cell_type": "markdown",
   "id": "611f2a9f-c6dc-4c48-aae2-4ba429342493",
   "metadata": {},
   "source": [
    "![board](images/board.jpg \"Carte mère\")\n",
    "\n",
    "# C2-ARCH-01 : Architecture des ordinateurs"
   ]
  },
  {
   "cell_type": "markdown",
   "id": "37be96e6-6ec7-4918-ada1-c09d41bf8e13",
   "metadata": {},
   "source": [
    "## Objectifs pédagogiques\n",
    "\n",
    "- connaître l'ensemble des éléments composants un ordinateur et leur rôle\n",
    "- Comprendre l'architecture de Von Neumann"
   ]
  },
  {
   "cell_type": "code",
   "execution_count": null,
   "id": "f0eb1f83-5658-4052-b931-5fe2f85a33ff",
   "metadata": {},
   "outputs": [],
   "source": []
  }
 ],
 "metadata": {
  "kernelspec": {
   "display_name": "Python 3 (ipykernel)",
   "language": "python",
   "name": "python3"
  },
  "language_info": {
   "codemirror_mode": {
    "name": "ipython",
    "version": 3
   },
   "file_extension": ".py",
   "mimetype": "text/x-python",
   "name": "python",
   "nbconvert_exporter": "python",
   "pygments_lexer": "ipython3",
   "version": "3.9.2"
  }
 },
 "nbformat": 4,
 "nbformat_minor": 5
}
