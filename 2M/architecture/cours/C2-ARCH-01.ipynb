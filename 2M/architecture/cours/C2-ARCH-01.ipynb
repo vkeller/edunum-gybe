{
 "cells": [
  {
   "cell_type": "markdown",
   "id": "611f2a9f-c6dc-4c48-aae2-4ba429342493",
   "metadata": {},
   "source": [
    "![board](images/board.jpg \"Portes logiques\")\n",
    "\n",
    "# C2-ARCH-01 : Architecture de Von Neumann"
   ]
  },
  {
   "cell_type": "markdown",
   "id": "37be96e6-6ec7-4918-ada1-c09d41bf8e13",
   "metadata": {},
   "source": [
    "## Objectifs pédagogiques\n",
    "\n",
    "- Connaître les composants de l'architecture de Von Neumann"
   ]
  },
  {
   "cell_type": "markdown",
   "id": "a6481976-013a-4c8f-82ff-e8b859e10c7e",
   "metadata": {},
   "source": []
  }
 ],
 "metadata": {
  "kernelspec": {
   "display_name": "Python 3 (ipykernel)",
   "language": "python",
   "name": "python3"
  },
  "language_info": {
   "codemirror_mode": {
    "name": "ipython",
    "version": 3
   },
   "file_extension": ".py",
   "mimetype": "text/x-python",
   "name": "python",
   "nbconvert_exporter": "python",
   "pygments_lexer": "ipython3",
   "version": "3.9.2"
  }
 },
 "nbformat": 4,
 "nbformat_minor": 5
}
