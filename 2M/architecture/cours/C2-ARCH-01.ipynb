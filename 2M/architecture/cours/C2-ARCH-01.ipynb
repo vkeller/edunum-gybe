{
 "cells": [
  {
   "cell_type": "markdown",
   "id": "6f3e9660-4620-41d8-8cc7-0386fe200050",
   "metadata": {},
   "source": [
    "![magics](images/magics.png \"Un peu de magie\")\n",
    "\n",
    "# C2-ARCH-01 : Compilation : du Python au langage machine"
   ]
  },
  {
   "cell_type": "markdown",
   "id": "ac6ad47b-0d65-4425-b3ee-a1149e699d1b",
   "metadata": {},
   "source": [
    "## Objectifs pédagogiques\n",
    "\n",
    "- savoir nommer les différentes étapes pour passer d'un code source écrit par un humain à un code binaire compris par un micro-processeur\n",
    "- appliquer sur des codes sources Python au papier et avec un crayon"
   ]
  },
  {
   "cell_type": "markdown",
   "id": "c6d352cb-20ed-45d8-b907-ca884df6cb23",
   "metadata": {},
   "source": [
    "## Compilation, kézako ?\n",
    "\n",
    "Lorsqu'on écrit un programme, on choisit un **langage de programmation**. Dans l'introduction de ce cours, nous avons vu qu'il en existait des centaines (voir des milliers) :\n",
    "\n",
    "- Python\n",
    "- Fortran\n",
    "- C\n",
    "- C++\n",
    "- etc..\n",
    "\n",
    "La grande question est de comprendre comment on passe de :"
   ]
  },
  {
   "cell_type": "code",
   "execution_count": 1,
   "id": "1e840a1e-b34a-43d6-947f-9df6170c449a",
   "metadata": {},
   "outputs": [
    {
     "name": "stdout",
     "output_type": "stream",
     "text": [
      "7\n"
     ]
    }
   ],
   "source": [
    "a = 3\n",
    "b = 4\n",
    "c = a + b\n",
    "print(c)"
   ]
  },
  {
   "cell_type": "markdown",
   "id": "5ea8b4f7-e819-4bea-8308-7c11e6dbb8f4",
   "metadata": {},
   "source": [
    "à une suite de `1` (du courant) et de `0` (pas de courant) compréhensible par **l'électronique** de l'ordinateur (la **màmoire**, le **processeur** et tous les autres **composants**) :\n",
    "\n",
    "```\n",
    "01101001 01101110 01110100 00100000\n",
    "01101101 01100001 01101001 01101110\n",
    "00101000 00101001 01111011 00001101\n",
    "00001010 00100000 00100000 00100000\n",
    "\n",
    "00100000 01110000 01110010 01101001\n",
    "01101110 01110100 01100110 00101000\n",
    "00100010 01001000 01100101 01101100\n",
    "01101100 01101111 00100000 01010111\n",
    "\n",
    "01101111 01110010 01101100 01100100\n",
    "00100010 00101001 00111011 00001101\n",
    "00001010 00100000 00100000 00100000\n",
    "00100000 01110010 01100101 01110100\n",
    "\n",
    "01110101 01110010 01101110 00100000\n",
    "00110000 00111011 00001101 00001010\n",
    "01111101\n",
    "```\n",
    "\n",
    "Ce processus est appelé **compilation**. Il est exécuté par un programme spécial appelé **compilateur**. \n",
    "\n",
    "![compiler](images/compiler.png \"Compilateur\")"
   ]
  },
  {
   "cell_type": "markdown",
   "id": "7e35b330-9614-456c-a242-2907bd84143c",
   "metadata": {},
   "source": [
    "## Observations\n",
    "\n",
    "Nous pouvons faire trois observations initiales.\n",
    "\n",
    "### L'ordinateur comprend une langue formée de `0` et de `1` : **le langage machine**\n",
    "\n",
    "Le **langage machine** est une suite de bits qui est interprété par le processeur. C'est le seul qu'il puisse traiter. Cette suite de bits est une représentation binaire d'une **instruction** de très bas niveau que le processeur comprend. \n",
    "\n",
    "Les tous premiers ordinateurs construits dans les années 1940 étaient programmables uniquement en langage machine. C'est la raison pour laquelle on dit que le langage machine est un langage de programmation de **première génération** (ou **L1G**). \n",
    "\n",
    "Aujourd'hui, il est **impossible** de programmer en langage machine. On lui préférera un langage presque aussi proche du processeur, mais un tout petit peu plus compréhensible par un humain : **le langage assembleur** que l'on dit langage de programmation de **seconde génération** (ou **L2G**.\n",
    "\n",
    "### L'utilisateur (le programmeur) comprend une autre langue : **le langage de programmation**\n",
    "\n",
    "Un langage de programmation tel que **Python** est compréhensible par un humain. Il est assez éloigné de l'électronique du processeur. On le dit de **troisième génération** (ou **L3G**) ou de **haut niveau**. \n",
    "\n",
    "Un programme écrit dans un langage de programmation de haut niveau est **indépendant** du processeur. Il peut aussi bien être exécuté sur une architecture Intel x86 qu'une architecture ARM par exemple. \n",
    "\n",
    "### Un compilateur permet de traduire un langage L3G vers L1G\n",
    "\n",
    "Le compilateur est un **traducteur**. Le processus de compilation est une **traduction** d'un langage de haut niveau L3G de haut niveau vers un langage de bas niveau (machine) L1G. \n",
    "\n",
    "Si on a deux ordinateurs avec des processeurs différents `Processeur_A` et `Processeur_B`, alors le résultat de cette traduction sera **différente** selon que l'on traduit pour l'un ou pour l'autre processeur. Ce qui fait la différence entre les deux processeurs est **le jeu d'instructions** (en anglais *instruction set*) qu'il est capable d'exécuter."
   ]
  },
  {
   "cell_type": "markdown",
   "id": "bb24e4f4-19b6-4b1c-be54-8b6f4dc2d365",
   "metadata": {},
   "source": [
    "## Analogie : traduire du français vers l'anglais\n",
    "\n",
    "Pour comprendre les différentes phases de la compilation, on peut faire une analogie avec la traduction d'une phrase écrite en français vers la langue anglaise.\n",
    "\n",
    "Imaginons que nous souhaitions traduire la phrase suivante :\n",
    "\n",
    "```\n",
    "Pour vous rendre à Milan depuis Lausanne, vous devez aller jusqu'à Martigny, puis par le col du Grand Saint-Bernard à Aoste et enfin l'autoroute A26 depuis Ivrea.\n",
    "```\n",
    "\n",
    "Quelles sont les étapes que vous allez suivre ?\n",
    "\n",
    "### Version `Processeur_A` (British English)\n",
    "\n",
    "```\n",
    "To get to Milan from Lausanne, you need to go to Martigny, then through the Great St. Bernard Pass to Aosta, and finally take the A26 motorway from Ivrea.\n",
    "```\n",
    "\n",
    "### Version `Processeur_B` (American English)\n",
    "\n",
    "```\n",
    "To get to Milan from Lausanne, you need to drive to Martigny, then through the Great St. Bernard Pass to Aosta, and finally take the A26 highway from Ivrea.\n",
    "```\n",
    "\n",
    "### Version `Processeur_C` (Australian English)\n",
    "\n",
    "```\n",
    "To get to Milan from Lausanne, you need to head to Martigny, then through the Great St. Bernard Pass to Aosta, and finally take the A26 motorway from Ivrea.\n",
    "```"
   ]
  },
  {
   "cell_type": "code",
   "execution_count": null,
   "id": "6f013e44-2f91-4e99-9054-0b00875f1a54",
   "metadata": {},
   "outputs": [],
   "source": []
  }
 ],
 "metadata": {
  "kernelspec": {
   "display_name": "Python 3 (ipykernel)",
   "language": "python",
   "name": "python3"
  },
  "language_info": {
   "codemirror_mode": {
    "name": "ipython",
    "version": 3
   },
   "file_extension": ".py",
   "mimetype": "text/x-python",
   "name": "python",
   "nbconvert_exporter": "python",
   "pygments_lexer": "ipython3",
   "version": "3.9.2"
  }
 },
 "nbformat": 4,
 "nbformat_minor": 5
}
