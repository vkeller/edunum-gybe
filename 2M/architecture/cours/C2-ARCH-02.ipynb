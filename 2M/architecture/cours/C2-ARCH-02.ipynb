{
 "cells": [
  {
   "cell_type": "markdown",
   "id": "611f2a9f-c6dc-4c48-aae2-4ba429342493",
   "metadata": {},
   "source": [
    "![board](images/board.jpg \"Portes logiques\")\n",
    "\n",
    "# C2-ARCH-02 : Architecture de Von Neumann"
   ]
  },
  {
   "cell_type": "markdown",
   "id": "37be96e6-6ec7-4918-ada1-c09d41bf8e13",
   "metadata": {},
   "source": [
    "## Objectifs pédagogiques\n",
    "\n",
    "- Connaître les composants de l'architecture de Von Neumann\n",
    "- savoir dessiner l'architecture de Von Neumann\n",
    "- connaître les limites de ce type d'architecture"
   ]
  },
  {
   "cell_type": "markdown",
   "id": "09114093-d911-497b-aa70-62d0dd76220d",
   "metadata": {},
   "source": [
    "## John Von Neumann et J. Presper Eckert\n",
    "\n",
    "John Von Neumann est né en 1903 à Budapest et est mort en 1957. C'est un mathématicien, physicien et logicien qui a apporté une pierre importante à l'édifice de l'informatique, notamment. \n",
    "\n",
    "![vonneum](images/johnvonneumann.jpg \"John Von Neumann\")\n",
    "\n",
    "Ses principales contributions à l'informatique sont les suivantes :\n",
    "\n",
    "- Architecture d'un ordinateur moderne (dite *architecture de Von Neumann*)\n",
    "- Automates cellulaires (algorithmique) qui peuvent être décrits comme un modèle de calcul.\n",
    "- Concept dit *de la singularitué technologique* ou simplement *La Singularité* qui pose l'hypothèse que l'invention de l'intelligence artificielle déclanchera une croissance technologique sans précédent.\n",
    "\n",
    "L'architecture principal de l'ENIAC (premier ordinateur électronique programmable du monde) J. Presper Eckert a remis en cause le nom de Von Neumann pour nommer l'architecture puisque ce dernier n'était pas encore en poste lorsque l'EDVAC a été designé. \n",
    "\n",
    "![eckert](images/eckert.png \"J. Presper Eckert\")"
   ]
  },
  {
   "cell_type": "markdown",
   "id": "3be8b12b-cf97-4c1b-83d6-bb2f17040b1f",
   "metadata": {},
   "source": [
    "## Contexte historique\n",
    "\n",
    "A la fin de la guerre, le premier ordinateur électronique, programmable et générique (*Harvard Mark 1* développé à l'université de Harvard avec IBM) fonctionnait en séparant physiquement\n",
    "\n",
    "1. les **instructions** du programme\n",
    "1. les **données** du programme\n",
    "\n",
    "On dit que les deux éléments (l'**unité de calcul** et la **mémoire**) possèdent des connections (des **bus** séparés). Cette architecture est communément appelée **architecture Harvard*. \n",
    "\n",
    "![harvard](images/harvard.png \"Architecture de Harvard\")\n",
    "\n",
    "L'architecture de Harvard est toujours utilisée aujourd'hui dans certains types de processeurs spécialisés (processeurs de traitement du signal, certains micro-contrôleurs) mais plus du tout dans les processeurs des ordinateurs modernes.\n",
    "\n",
    "John Von Neumann a travaillé sur le Harvard Mark 1 : c'est même lui qui a écrit et exécuté l'un des premiers programmes sur cet ordinateur.\n",
    "\n",
    "Parallèlement au Harvard Mark 1, John Von Neumann travaillait à la [Moore School of Electrical Engineering de l'Université de Pennsylvanie](https://www.seas.upenn.edu/) là où était installé l'ordinateur militaire [ENIAC](https://www.universalis.fr/encyclopedie/e-n-i-a-c/) et son successeur [EDVAC](https://en.wikipedia.org/wiki/EDVAC). C'est dans ce contexte qu'il y développé une **nouvelle architecture** dans un rapport resté célèbre *First Draft of a Report on the EDVAC* {cite}`firstdraft` . C'est de ce modèle conceptuel que sont décliné tous les processeurs génériques modernes."
   ]
  },
  {
   "cell_type": "markdown",
   "id": "d27367da-2892-4d86-bf02-c2839fbf2178",
   "metadata": {},
   "source": [
    "## *First Draft of a Report on the EDVAC*\n",
    "\n",
    "Il s'agit du premier rapport technique post-fonctionnement de l'EDVAC (*Electronic Discrete Variable Automatic Computer*), successeur à tube de l'ENIAC. C'est un document de 101 pages resté incomplet à ce jour. \n",
    "\n",
    "Dans ce rapport technique, John Von Neumann décrit six composants qui sont la base de son modèle :\n",
    "\n",
    "1. la **CA** pour l'unité de calcul arithmétique\n",
    "1. la **CC** pour l'unité de contrôle\n",
    "1. la **M** pour décrire les mémoires :\n",
    "1. le **R** pour un média externe d'enregistrement composé de **I** et de **O**\n",
    "1. les **I** pour les entrées \n",
    "1. les **O** pour les sorties\n",
    "\n",
    "Chaque composant est relié à l'autre par un **BUS de données**. \n",
    "\n",
    "Tout cela mis ensemble conduit au schéma suivant :\n",
    "\n",
    "![archvoneum](images/archVonNeumann.png \"Architecture de von Neumann\")\n",
    "\n",
    "d'autre part, il définit clairement que le processeur (construit avec des tubes à vide plutôt que des relais téléphoniques car environ 1000 fois plus rapides) devra fonctionner en binaire et non en décimel. "
   ]
  },
  {
   "cell_type": "markdown",
   "id": "111c7f87-342a-44ae-9fcd-837c4117886f",
   "metadata": {},
   "source": [
    "## La *CA* : unité de calcul arithmétique et logique\n",
    "\n",
    "Von Neumann précise qu'elle doit pouvoir :\n",
    "\n",
    "- exécuter les 4 opérations mathématques de base : `+`, `-`, `*` et `/`\n",
    "- ces opéreations peuvent être étendues à d'autres comme : $\\sqrt{ }$, `signe`, $log_{2}$, $log_{10}$, $\\sin$, $\\cos$. etc..\n",
    "- calculer des fonctions logiques pures (qui ne sont pas du fait de l'unité de contrôle\n",
    "- opérer des instructions plus complexes qui seraients *câblées* dans l'unité (Von Neumann décrit ici les instructions étendues)"
   ]
  },
  {
   "cell_type": "markdown",
   "id": "4b142366-6c86-4369-accb-9f612c084fb4",
   "metadata": {},
   "source": [
    "## Le *CC* : unité de contrôle\n",
    "\n",
    "Cette unité est ce qu'il appelle *le contrôle logique de l'ordinateur*. Cette unité doit :\n",
    "\n",
    "- pourvoir discriminer une **instruction** (ou opération) et les **données** : cela signifie l'accès à une mémoire que Von Neumann considère qu'elle doit être grande."
   ]
  },
  {
   "cell_type": "markdown",
   "id": "2fa7e7b0-84e4-42e6-9952-c9a9b83fb7c4",
   "metadata": {},
   "source": [
    "## La *M* : la mémoire\n",
    "\n",
    "Von Neumann décrit quatre phases successives qui nécessitent une grande quantité de mémoire :\n",
    "\n",
    "1. pour une instruction (opéreation) donnée, il peut y avoir une série de résultats intermédiaires ou partiels.\n",
    "1. les intructions pour un algorithme complexe (le *programme*) prennent de la place\n",
    "1. certaines fonctions mathématiques sont efficaces lorsqu'elles sont utilisées sous la forme de tables fixes. \n",
    "1. pour certaines fonctions mathématiques (équations différentielles), les conditions initiales constituent beaucoup de données\n",
    "\n",
    "Il précise finalement que ces différentes phases doivent mener à la création d'une mémoire unique.\n",
    "\n",
    "John Von Neumann considère que les trois unités **CA**, **CC** et **M** correspondent aux neurones associatifs du système nerveux central humain. Il précise encore que pour avoir une analogie complète, il faut des stimulis exterieurs : les **neurones afférents**, c'est le rôle des entrées et des sorties.correspondent"
   ]
  },
  {
   "cell_type": "markdown",
   "id": "33fb7e3e-a089-4ee7-99e4-5a976ec1f9f8",
   "metadata": {},
   "source": [
    "## Les unités d'entrées et de sorties *I* et *O* : le système *R*\n",
    "\n",
    "Von Neumann construit les communications avec l'extérieur de son modèle avec ce qu'il appelle les **entrées** (unité *I*) et les **sorties** (unité *O*). Il précise que ces entrées et sorties doivent être réduites à des nombres et des instructions. "
   ]
  },
  {
   "cell_type": "markdown",
   "id": "e024f74a-451f-4ca3-a08e-6b2cf71f7b24",
   "metadata": {},
   "source": [
    "## Fonctionnement\n",
    "\n",
    "Le cycle de calcul de l'architecture de Von Neumann comprend donc plusieurs étapes que l'on peut résumer ici :\n",
    "\n",
    "1. récupération l'instruction depuis la mémoire\n",
    "1. décodage de l'instruction\n",
    "1. récupération des opérandes de l'instruction\n",
    "1. exécution de l'instruction\n",
    "1. écriture du résultat en mémoire\n",
    "\n",
    "Ce cycle est parfaitement **séquentiel** : chaque opération est exécutée dans un ordre linéaire"
   ]
  },
  {
   "cell_type": "markdown",
   "id": "a6481976-013a-4c8f-82ff-e8b859e10c7e",
   "metadata": {},
   "source": [
    "## Caractéristiques et avantages de l'architecture de Von Neumann\n",
    "\n",
    "Comparativement à l'architecture Harvard (où le bus des données est séparé du bus des instructions), l'architecture de Von Neumann est :\n",
    "\n",
    "- simple en terme de conception d'un ordinateur physique\n",
    "- simple en terme de programmation d'algorithmes\n",
    "\n",
    "par contre :\n",
    "\n",
    "- limitations en terme de performance des applications (goulets d'étranglement de la mémoire)"
   ]
  },
  {
   "cell_type": "markdown",
   "id": "c60665b0-afb6-441f-bd8f-faca4b649990",
   "metadata": {},
   "source": [
    "## Références\n",
    "\n",
    "- {cite}`firstdraft`"
   ]
  },
  {
   "cell_type": "code",
   "execution_count": null,
   "id": "8bed2123-fd8f-4a59-8f6e-827208dc0b85",
   "metadata": {},
   "outputs": [],
   "source": []
  }
 ],
 "metadata": {
  "kernelspec": {
   "display_name": "Python 3 (ipykernel)",
   "language": "python",
   "name": "python3"
  },
  "language_info": {
   "codemirror_mode": {
    "name": "ipython",
    "version": 3
   },
   "file_extension": ".py",
   "mimetype": "text/x-python",
   "name": "python",
   "nbconvert_exporter": "python",
   "pygments_lexer": "ipython3",
   "version": "3.9.2"
  }
 },
 "nbformat": 4,
 "nbformat_minor": 5
}
