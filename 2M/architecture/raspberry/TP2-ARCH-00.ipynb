{
 "cells": [
  {
   "cell_type": "markdown",
   "id": "d1c690dc-9148-4a27-beea-b8d73729120b",
   "metadata": {},
   "source": [
    "![microbit](images/microbit.png \"Microbit\")\n",
    "\n",
    "# TP2-ARCH-00 : Introduction avec un micro:bit"
   ]
  },
  {
   "cell_type": "markdown",
   "id": "17cae8bf-a2f9-4c2a-a597-1d422e4b8878",
   "metadata": {},
   "source": [
    "## Objectifs pédagogiques\n",
    "\n",
    "- connaaître les différentes entrées et sorties du nano-ordinateur BBC micro:bit\n",
    "- être capable de le programmer (en blocs ou en Python)"
   ]
  },
  {
   "cell_type": "markdown",
   "id": "693cacd3-9f91-43ca-8a15-bb3b4afa9263",
   "metadata": {},
   "source": [
    "## BBC micro:bit\n",
    "\n",
    "C'est un projet de la [BBC](https://microbit.org/fr/) qui vise à promouvoir l'apprentissage et la maîtrise des sciences informatiques au travers d'un nano-ordinateur simple. \n",
    "\n",
    "Un micro:bit est une carte (un micro-contrôleur) programmable et qui interragit avec l'environnement réel au travers de différents capteurs. L'environnement de développement (IDE) se trouve online. Elle est se prend facilement en main.\n",
    "\n",
    "## Spécifications\n",
    "\n",
    "Le micro:bit contient les pièces suivantes :\n",
    "\n",
    "- un micro-processeur ARM 32 bits\n",
    "- un \"écran\" de `5 x 5` pixels formé par des diodes\n",
    "- deux boutons\n",
    "- une interface de communications Bluetooth\n",
    "- un capteur de mouvements\n",
    "- un capteur de température\n",
    "- un haut-parleur\n",
    "- un microphone\n",
    "\n",
    "D'autre part, il existe un certain nombre de *pin* sur l'appareil pour commander (ou recevoir des commandes) un appareil extérieur."
   ]
  },
  {
   "cell_type": "markdown",
   "id": "d63a4460-25e5-498b-bced-a9cc19487d08",
   "metadata": {},
   "source": [
    "## Environnement de développement\n",
    "\n",
    "L'environnement de développement se trouve à l'adresse [micro:bit](https://makecode.microbit.org/)"
   ]
  },
  {
   "cell_type": "markdown",
   "id": "ad2ec607-fb35-4a56-8bf3-dea01075b3a0",
   "metadata": {},
   "source": [
    "## Exercices\n",
    "\n",
    "Lancez-vous dans le premier tutoriel (un coeur clignotant), puis dans les différents projets. Inventez-vous un projet en utilisant les divers capteurs et senseurs dont vous disposez"
   ]
  },
  {
   "cell_type": "code",
   "execution_count": null,
   "id": "b693ec52-cf3f-4db9-9c6f-9e9baf214d6b",
   "metadata": {},
   "outputs": [],
   "source": []
  }
 ],
 "metadata": {
  "kernelspec": {
   "display_name": "Python 3 (ipykernel)",
   "language": "python",
   "name": "python3"
  },
  "language_info": {
   "codemirror_mode": {
    "name": "ipython",
    "version": 3
   },
   "file_extension": ".py",
   "mimetype": "text/x-python",
   "name": "python",
   "nbconvert_exporter": "python",
   "pygments_lexer": "ipython3",
   "version": "3.9.2"
  }
 },
 "nbformat": 4,
 "nbformat_minor": 5
}
