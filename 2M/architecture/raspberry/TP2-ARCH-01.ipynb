{
 "cells": [
  {
   "cell_type": "markdown",
   "id": "9c9872cd-f12d-4830-9ef5-b67fb7f60891",
   "metadata": {},
   "source": [
    "![raspbian](images/raspbian.png \"Raspbian logo\")\n",
    "\n",
    "# TP2-ARCH-01 : Le nano-ordinateur RPi"
   ]
  },
  {
   "cell_type": "markdown",
   "id": "e0df7d78-363a-41c2-8227-b8d3d2665d37",
   "metadata": {},
   "source": [
    "## Objectifs pédagogiques\n",
    "\n",
    "- Prise en main d'un Raspberry Pi 4\n",
    "- Explorer le système d'exploitation Linux\n",
    "- Connaître le système de fichier UNIX\n",
    "- Acquérir les bases d'un language de scripting avec BASH\n",
    "- Connaître les différents outils de développement à disposition"
   ]
  },
  {
   "cell_type": "markdown",
   "id": "543ce6bc-0cab-4f51-9d5d-3678e68efe99",
   "metadata": {},
   "source": [
    "## Qu'est-ce qu'un Raspberry Pi (RPi)\n",
    "\n",
    "Le Raspberry Pi est un projet développé à l'origine par l'Université de Cambridge en Angleterre. L'objectif principal du projet était de démocratiser l'accès aux ordinateurs. Les contraintes liées étaient donc : \n",
    "\n",
    "1. Utilisation de matériel à bas coût (notamment le processeur)\n",
    "1. Design extrêmement compact : taille d'une carte de crédit\n",
    "1. Système d'exploitation et logiciels provenant du monde des logiciels libres\n",
    "\n",
    "Le résultat est le suivant (ici la version 4 que nous allons utiliser dans ce TP)\n",
    "\n",
    "![rpi4](images/raspberrypi4.png \"RPi4\")\n",
    "\n",
    "Son prix à l'unité est de quelques dizaines de francs suisses auxquels il faut ajouter un écran (HDMI), un clavier et une souris."
   ]
  },
  {
   "cell_type": "markdown",
   "id": "e0785551-b195-4c56-b8d1-8f9ccef975c9",
   "metadata": {},
   "source": [
    "## Composants du Raspberry Pi\n",
    "\n",
    "### Processeur\n",
    "\n",
    "Le processeur, appelé aussi Unité Centrale de Calcul, est le composant électronique qui traite l'ensemble des instructions en utilisant les données localisées (1) dans ses mémoires cache ou (2) dans la mémoire centrale (RAM).\n",
    "\n",
    "Sur un Raspberry Pi, c'est l'architecture ARM qui a été choisie. "
   ]
  },
  {
   "cell_type": "code",
   "execution_count": null,
   "id": "ed8bcae1-1558-4541-af0c-6e3737d26cdd",
   "metadata": {},
   "outputs": [],
   "source": []
  }
 ],
 "metadata": {
  "kernelspec": {
   "display_name": "Python 3 (ipykernel)",
   "language": "python",
   "name": "python3"
  },
  "language_info": {
   "codemirror_mode": {
    "name": "ipython",
    "version": 3
   },
   "file_extension": ".py",
   "mimetype": "text/x-python",
   "name": "python",
   "nbconvert_exporter": "python",
   "pygments_lexer": "ipython3",
   "version": "3.9.2"
  }
 },
 "nbformat": 4,
 "nbformat_minor": 5
}
