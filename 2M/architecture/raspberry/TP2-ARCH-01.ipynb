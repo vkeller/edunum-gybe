{
 "cells": [
  {
   "cell_type": "markdown",
   "id": "9c9872cd-f12d-4830-9ef5-b67fb7f60891",
   "metadata": {},
   "source": [
    "![raspbian](images/raspbian.png \"Raspbian logo\")\n",
    "\n",
    "# TP2-ARCH-01 : Le nano-ordinateur RPi"
   ]
  },
  {
   "cell_type": "markdown",
   "id": "e0df7d78-363a-41c2-8227-b8d3d2665d37",
   "metadata": {},
   "source": [
    "## Objectifs pédagogiques\n",
    "\n",
    "- Prise en main d'un Raspberry Pi 4\n",
    "- Explorer le système d'exploitation Linux\n",
    "- Connaître le système de fichier UNIX\n",
    "- Acquérir les bases d'un language de scripting avec BASH\n",
    "- Connaître les différents outils de développement à disposition"
   ]
  },
  {
   "cell_type": "markdown",
   "id": "543ce6bc-0cab-4f51-9d5d-3678e68efe99",
   "metadata": {},
   "source": [
    "## Qu'est-ce qu'un Raspberry Pi (RPi)\n",
    "\n",
    "Le Raspberry Pi est un projet développé à l'origine par l'Université de Cambridge en Angleterre. L'objectif principal du projet était de démocratiser l'accès aux ordinateurs. Les contraintes liées étaient donc : \n",
    "\n",
    "1. Utilisation de matériel à bas coût (notamment le processeur)\n",
    "1. Design extrêmement compact : taille d'une carte de crédit\n",
    "1. Système d'exploitation et logiciels provenant du monde des logiciels libres\n",
    "\n",
    "Le résultat est le suivant (ici la version 4 que nous allons utiliser dans ce TP)\n",
    "\n",
    "![rpi4](images/raspberrypi4.png \"RPi4\")\n",
    "\n",
    "Son prix à l'unité est de quelques dizaines de francs suisses auxquels il faut ajouter un écran (HDMI), un clavier et une souris."
   ]
  },
  {
   "cell_type": "markdown",
   "id": "e0785551-b195-4c56-b8d1-8f9ccef975c9",
   "metadata": {},
   "source": [
    "## Composants MATÉRIELS du Raspberry Pi\n",
    "\n",
    "L'architecture du RPi suit celle de tous les ordinateurs classiques actuels : les laptops, les ordinateurs de bureau, les smartphones, etc.. Cette architecture est nommée **Architecture de Von Neumann**. \n",
    "\n",
    "![von Neumann](images/vonneumannarch.png \"Schema de l'architecture de Von Neumann\")\n",
    "\n",
    "Elle décompose l'ordinateur en 4 parties distinctes :\n",
    "\n",
    "1. Unité Arithmétique et Logique (*Arithmetic and Logical Unit* ALU en anglais). Effectue les opérations du programme\n",
    "1. Unité de contrôle. Se charge du séquençage des opérations\n",
    "1. Mémoire. Elle contient à la fois les opérations du programme et les données\n",
    "1. Des entrées et sorties."
   ]
  },
  {
   "cell_type": "markdown",
   "id": "470b35d8-07b8-42ca-9f6a-e41bfcf08ecc",
   "metadata": {},
   "source": [
    "### Processeur\n",
    "\n",
    "Le processeur, appelé aussi Unité Centrale de Calcul, est le composant électronique qui traite l'ensemble des instructions en utilisant les données localisées (1) dans ses mémoires cache ou (2) dans la mémoire centrale (RAM).\n",
    "\n",
    "Sur un Raspberry Pi, c'est l'architecture ARM qui a été choisie.\n",
    "\n",
    "Le processeur est composé de :\n",
    "\n",
    "1. Une **horloge**. Elle est responsable de la **synchronisation** des flux de calculs et de données\n",
    "1. Des **Unité Arithmétique et Logique**. Ces ALU permettent de traiter les instructions du programme\n",
    "1. Des **registres**. Ce sont des mémoires de très petite taille servant à stocker les variables du programme.\n",
    "1. De trois **BUS**. Un bus permet de transmettre des données :\n",
    "    1. Le bus de données. Permet de transmettre les donnée de et vers le processeur\n",
    "    1. Le bus d'adresses. Permet de connaître la position d'une donnée (dans les registres ou la mémoire)\n",
    "    1. Le bus de contrôle. Permet de gérer les différentes interruptions qui pourraient arriver lors de l'exécution d'un programme\n",
    "\n",
    "Le processeur du RPi 4 est un [ARM Cortex-A72](https://www.arm.com/products/silicon-ip-cpu/cortex-a/cortex-a72). Il a les caractéristiques suivantes :\n",
    "\n",
    "1. L'horloge tourne à `1.5 GHz`\n",
    "1. `4` coeurs (qui contiennent chacun des ALU)\n",
    "1. La largeurde ses registres est de `64 bits`"
   ]
  },
  {
   "cell_type": "markdown",
   "id": "a07753c7-e841-4741-9860-a2239634e451",
   "metadata": {},
   "source": [
    "### Mémoire(s)\n",
    "\n",
    "Le Raspberry Pi possède deux types de mémoire :\n",
    "\n",
    "1. La **mémoire vive** (ou mémoire volatile). On y stocke les programmes et les données lorsque l'ordinateur est allumé. Une fois éteint, toutes les données qui y sont contenues sont perdues.\n",
    "1. La **mémoire de stockage** (ou mémoire de masse ou encore mémoire non-volatile). On y stocke les programme et les données qui seront conservées à l'extinction de l'ordinateur.\n",
    "\n",
    "Il est d'usage de représenter les différents types de mémoires dans un schéma hiérarchique qui met en évidence la **capacité** (ou taille), la **vitesse** et le **coût** :\n",
    "\n",
    "![memoire](images/memory.png \"Memory pyramid\")\n",
    "\n",
    "Les mémoires du RPi 4 ont les caractéristiques suivantes :\n",
    "\n",
    "1. `4 GB` de mémoire vive\n",
    "1. Une `carte micro-SD` de `16 GB`"
   ]
  },
  {
   "cell_type": "markdown",
   "id": "5d779dd7-fd78-48bb-8b56-860571d0061c",
   "metadata": {},
   "source": [
    "### Ports matériels\n",
    "\n",
    "Les **ports** (externes) d'un ordinateur sont les différentes \"prises\" sur lesquels on peut brancher des **périphériques** tels qu'un clavier, une souris, un écran ou un câble réseau.\n",
    "\n",
    "Sur le RPi, les ports sont les suivants :\n",
    "\n",
    "1. `2x` ports `USB 2.0`\n",
    "1. `2x` ports `USB 3.0` (plus rapides)\n",
    "1. `1x` port `GigaEthernet` pour la connexion à un réseau filaire\n",
    "1. `2x` ports `micro-HDMI` pour connecter des écrans\n",
    "\n",
    "A noter que le port `USB-C` ne sert qu'à l'alimentation du RPi, on ne peut l'utiliser comme entrée-sortie"
   ]
  },
  {
   "cell_type": "markdown",
   "id": "69fce64b-dd62-4205-b5c1-072093b98ec6",
   "metadata": {},
   "source": [
    "## Composants LOGICIELS du Raspberry Pi\n",
    "\n",
    "Pour que l'ensemble des composants matériels fonctionnent ensembles et correctement, un ordinateur a besoin d'un logiciel très important : **le système d'exploitation** (*Operating System* ou OS en anglais). Sans lui, aucun programme ne pourrait s'exécuter.\n",
    "\n",
    "![os](images/os.png \"Operating system\")\n",
    "\n",
    "Il existe beaucoup de systèmes d'exploitation. Chacun possède ses propres spécificités et est prévu pour différents matériels ou usage. Parmi les principaux on peut citer :\n",
    "\n",
    "- ![apple](images/apple.png \"Apple logo\")[Mac OS](https://fr.wikipedia.org/wiki/MacOS) qui est installé sur les ordinateurs de la marque Apple\n",
    "- ![windows](images/windows.png \"Windows logo\") [Microsoft Windows](https://fr.wikipedia.org/wiki/Microsoft_Windows) principalement installé sur les ordinateurs de bureau dans l'industrie\n",
    "- ![android](images/android.png \"Android logo\") [Android](https://fr.wikipedia.org/wiki/Android) qui gère la plupart des smartphone du monde. Android est une variante de Linux\n",
    "- ![linux](images/linux.png \"Linux logo\") [Linux](https://fr.wikipedia.org/wiki/Linux) qui est un projet open source basé sur l'un des tout premiers systèmes d'exploitation : UNIX\n",
    "\n",
    "Voir [Statcounter](https://gs.statcounter.com/os-market-share) pour une distribution mondiale des principaux systèmes d'exploitation.\n",
    "\n",
    "### Système d'exploitation\n",
    "\n",
    "Le système d'exploitation du RPi est **Linux**. \n",
    "\n",
    "### Applications \n",
    "\n",
    "Le RPi dispose en outre de beaucoup d'applications telles que :\n",
    "\n",
    "- Suite de bureautique Libreoffice\n",
    "- Programmes de développement (Thonny, etc..)\n",
    "- Logiciels éducatifs\n",
    "- Jeux\n",
    "- Etc..\n",
    "\n",
    "On peut en installer autant que l'on veut jusqu'à concurrence de la taille de la mémoire de masse.\n",
    "\n",
    "### Licences\n",
    "\n",
    "L'ensemble logiciel (système d'exploitation et applications) est en licence **Open Source**"
   ]
  },
  {
   "cell_type": "markdown",
   "id": "475571ee-7c57-4007-ba9e-0c91c8c6801f",
   "metadata": {
    "jp-MarkdownHeadingCollapsed": true,
    "tags": []
   },
   "source": [
    "## Exercice 1 : Mise en place\n",
    "\n",
    "Le matériel à disposition se trouve sur le chariot. Par **groupe**, vous devez monter votre ordinateur :\n",
    "\n",
    "1. clavier USB-2\n",
    "1. souris USB-2\n",
    "1. câble micro-HDMI vers HDMI de l'écran\n",
    "1. câble USB-C pour l'alimentation (**ne pas le brancher au secteur tout de suite**)\n"
   ]
  },
  {
   "cell_type": "markdown",
   "id": "cb2d95dc-bf31-4a9e-8bfa-d70b2798b63f",
   "metadata": {},
   "source": [
    "## Exercice 2 : Installation d'un système d'exploitation\n",
    "\n",
    "Nous allons travailler avec [Raspberry Pi OS](https://fr.wikipedia.org/wiki/Raspberry_Pi_OS) qui est le système d'exploitation officiel des RPi. Il s'agit de l'installer sur la carte micro-SD :\n",
    "\n",
    "1. Insérer la carte SD dans le lecteur de cartes\n",
    "1. Insérer le lecteur de carte dans un port USB libre sur votre ordinateur Mac\n",
    "1. lancer le programme \"Raspberry Pi Imager\"\n",
    "1. Choisir le bon système d'exploitation (version pour RPi 4, 64 bits)\n",
    "1. Configurer un nom d'utilisateur (nous y reviendrons)\n",
    "1. Lancer l'installation\n",
    "\n",
    "Une fois l'installation terminée, vous pouvez retirer la carte SD du lecteur et l'insérer dans le RPi et **brancher le câble d'alimentation au secteur**.\n",
    "\n",
    "Votre ordinateur devrait démarrer"
   ]
  },
  {
   "cell_type": "markdown",
   "id": "ea12a5d9-20e3-4ba1-b7c7-5dc7fc0ab12a",
   "metadata": {},
   "source": [
    "## Exercice 3 : Explorer le bureau\n",
    "\n",
    "Voilà, vous êtes normalent connecté.e avec l'identifiant que vous avez choisi lors de l'exercice précédent. Vous remarquez que vous n'avez pas dû donner le mot de passe choisi. La raison : il n'y a actuellement **qu'un seul utilisateur** enregistré sur l'ordinateur, et cet utilisateur n'a pas tous les droits. Il est par contre possible de lui **upgrader** ses droits en **superutilisateur** avec le mot de passe. Nous y reviendrons.\n",
    "\n",
    "![desktop](images/rpidesktop.png \"Bureau RPi OS\")\n",
    "\n",
    "L'icône **framboise** dans le coin supérieur gauche donne accès aux différentes applications :\n",
    "\n",
    "- Programmation\n",
    "- Internet\n",
    "- Sound&Video\n",
    "- Graphics\n",
    "- Accessories\n",
    "- etc..\n",
    "\n",
    "Lancez Thonny et programmez un `helloworld.py`"
   ]
  },
  {
   "cell_type": "markdown",
   "id": "11d68c94-625c-47ba-94a4-9916ee98600c",
   "metadata": {},
   "source": [
    "## Exercice 4 : Le système de fichiers\n",
    "\n",
    "Dans le coin supérieur gauche, à côté de l'icône framboise se trouve le **File Manager**. Il permet d'accéder au système de fichier du RPi.\n",
    "\n",
    "Un système de fichiers Linux est un système hiérarchisé en arbre. La racine est symbolisée par `/` :\n",
    "\n",
    "![FS](images/filesystem.jpg \"File system\").\n",
    "\n",
    "Trouvez le contenu du fichier :\n",
    "\n",
    "- /etc/firefox/firefox.js\n",
    "- /home/votre_nom_utilisateur/.bashrc\n",
    "- /var/log/boot.log\n",
    "\n",
    "Certains ne sont pas visibles, d'autres sont interdits. Pourquoi ?"
   ]
  },
  {
   "cell_type": "markdown",
   "id": "d5f0dafb-f65d-48c1-82c4-35c50a8c0e34",
   "metadata": {},
   "source": [
    "## Exercice 5 : Le terminal et le langage BASH\n",
    "\n",
    "Lorsqu'on travaille avec un ordinateur sous Linux, il est assez rare de n'utiliser que la souris. L'interaction avec l'ordinateur se fait au travers d'un **terminal**.\n",
    "\n",
    "- Ouvrez un terminal\n",
    "\n",
    "Voici quelques commandes qui permettent de naviguer dans le système de fichier :\n",
    "\n",
    "- `pwd` : affiche la position courante\n",
    "- `cd` : permet de changer de dossier\n",
    "- `ls -la` : permet de lister les fichiers présents dans un dossier\n",
    "- `cat nom_de_fichier` : permet d'afficher le contenu du fichier `nom_de_fichier`\n",
    "\n",
    "Il existe deux faux répertoires très important et qui sont présents dans tous les dossiers (à l'exception de `/`) : \n",
    "- le dossier courant : `.`\n",
    "- le dossier parent : `..`"
   ]
  },
  {
   "cell_type": "markdown",
   "id": "307e8801-334b-4f82-9cc6-ea83bbd82f70",
   "metadata": {},
   "source": [
    "## Exercice 6 : Afficher des contenus protégés ou cachés\n",
    "\n",
    "A l'exercice 4, on a vu que `/var/log/boot.log` était interdit d'accès et que `/home/votre_nom_utilisateur/.bashrc` était invisible.\n",
    "\n",
    "Dans le terminal, essayez d'upgrader vos permissions en devenant **superutilisateur**. Cela se fait avec la commande `sudo`:\n",
    "\n",
    "`sudo cat /var/log/boot.log`\n",
    "\n",
    "**!!! ATTENTION : le mode superutilisateur permet de tout faire, y compris de tout casser !!!**"
   ]
  },
  {
   "cell_type": "code",
   "execution_count": null,
   "id": "4baf1006-e8b0-4469-9b42-391e1d1526d8",
   "metadata": {},
   "outputs": [],
   "source": []
  }
 ],
 "metadata": {
  "kernelspec": {
   "display_name": "Python 3 (ipykernel)",
   "language": "python",
   "name": "python3"
  },
  "language_info": {
   "codemirror_mode": {
    "name": "ipython",
    "version": 3
   },
   "file_extension": ".py",
   "mimetype": "text/x-python",
   "name": "python",
   "nbconvert_exporter": "python",
   "pygments_lexer": "ipython3",
   "version": "3.9.2"
  }
 },
 "nbformat": 4,
 "nbformat_minor": 5
}
