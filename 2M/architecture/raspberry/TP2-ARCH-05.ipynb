{
 "cells": [
  {
   "cell_type": "markdown",
   "id": "39c9b819-9121-4387-b96a-f69cf4deb55c",
   "metadata": {},
   "source": [
    "![atc_radar](images/radar.jpg \"Radar\")\n",
    "\n",
    "# TP2-ARCH-05 : Aviation : comprendre la transmission des aéronefs"
   ]
  },
  {
   "cell_type": "markdown",
   "id": "6fc47e82-2456-4607-940e-f4cd87506ae2",
   "metadata": {},
   "source": [
    "## Objectifs pédagogiques\n",
    "\n",
    "- comprendre ce qu'est un protocole *on demand* ou *broadcast*\n",
    "- déduire l'architecture du système de surveillance du traffic aérien\n",
    "- Construire un récepteur ADS-B avec un Raspberry Pi\n",
    "- Afficher les différents aéronefs équipés ADS-B autour du gymnase"
   ]
  },
  {
   "cell_type": "markdown",
   "id": "fe4a40a3-5175-47d0-bb7d-1015e94a1d35",
   "metadata": {},
   "source": [
    "## Navigation aérienne\n",
    "\n",
    "L'**aviation** est un système complexe : énormément de facteurs entrent en ligne de compte pour amener un aéronef d'un point A à un point B. Citons les conditions météorologiques, a présence de vent, l'état de l'aéronef, la présence d'autres aéronefs et bien évidemment le ou la pilote elle-même.\n",
    "\n",
    "Il existe deux types de navigation autorisées aujourd'hui chacune dans un périmètre tri-dimensionnel défini. La navigation à vue ou *VFR* (pour *Visual Flight Rules*) et la navigation aux instruments ou radionavigation ou *IFR* (pour *Instruments Flight Rules*). "
   ]
  },
  {
   "cell_type": "markdown",
   "id": "0ba6e438-73c3-4276-9d71-b8edaad2da0d",
   "metadata": {},
   "source": [
    "## Protocole ADS-B\n",
    "\n",
    "Le protocole ADS-B (pour *Automatic dependent surveillance-broadcast*) permet de contrôler l'espace aérien. C'est l'un des outils (parmi plusieurs redondants) utilisés pour un aéronef d'avoir une idée de sa position dans l'espace. \n",
    "\n",
    "L'aéronef est équipé d'un grand nombre de capteurs (vitesse, direction, altitude, position, etc..) qui sont enregistrés à intervalles réguliers. Ce sont ces informations qui sont ensuite transmises en un message ADS-B sur le mode **broadcast**, c'est-à-dire diffusion. Le grand avantage de ce système de communication est qu''il n'y a pas besoin de radar, le désavantage, l'avion doit être équipé d'un **transpondeur**, un appareil qui permet d'identifier de manière unique n'importe quel aéronef sur une bande radio donnée.\n",
    "\n",
    "Les stations au sol peuvent ensuite capter ces messages et reconstruire la trajectoire d'un aéronef donné."
   ]
  },
  {
   "cell_type": "markdown",
   "id": "20f01712-a721-494e-91f3-1aa4b80091dc",
   "metadata": {},
   "source": [
    "## Messages ACARS\n",
    "\n",
    "Le système ACARS (pour *Aircraft Communication Addressing and Reporting System*)\n"
   ]
  },
  {
   "cell_type": "markdown",
   "id": "ace6d152-c069-4896-95d4-f320d23ec3a8",
   "metadata": {},
   "source": [
    "## Utilisation des messages ADS-B et ACARS\n",
    "\n",
    "### Elon Musk private jet\n",
    "\n",
    "### Taylor Swift "
   ]
  },
  {
   "cell_type": "markdown",
   "id": "491af10a-c983-4030-9ba3-13f0129c4ce8",
   "metadata": {},
   "source": [
    "## Sources\n",
    "\n",
    "- SPHAiR ([site web](https://lernprogramm.sphair.ch/fr/luftraeume/classification-de-lespace-a%C3%A9rien-suisse))\n",
    "- Cartes geo.admin ICAO ([site web](https://map.geo.admin.ch/#/map?lang=de&center=2478190.86,1113421.7&z=3.407&bgLayer=ch.swisstopo.pixelkarte-farbe&topic=ech&layers=ch.bazl.luftfahrtkarten-icao&catalogNodes=687,702))\n",
    "- VFR Manual Skyguide ([télécharger](https://www.skybriefing.com/documents/10156/645440/eVFR_eGEN_fr_09_2024.pdf/517b354e-2420-2c9b-de8d-4aee95c31498?t=1724226017039))\n",
    "- Taylor Swift private jets tracker ([sur X (ex-Twitter)](https://x.com/SwiftJetNextDay))\n",
    "- Elon Musk jet tracker ([sur X (ex-Twitter)](https://x.com/ElonJetNextDay))"
   ]
  },
  {
   "cell_type": "code",
   "execution_count": null,
   "id": "40fadf8e-0348-4371-b18d-1005e6510ba4",
   "metadata": {},
   "outputs": [],
   "source": []
  }
 ],
 "metadata": {
  "kernelspec": {
   "display_name": "Python 3 (ipykernel)",
   "language": "python",
   "name": "python3"
  },
  "language_info": {
   "codemirror_mode": {
    "name": "ipython",
    "version": 3
   },
   "file_extension": ".py",
   "mimetype": "text/x-python",
   "name": "python",
   "nbconvert_exporter": "python",
   "pygments_lexer": "ipython3",
   "version": "3.9.2"
  }
 },
 "nbformat": 4,
 "nbformat_minor": 5
}
