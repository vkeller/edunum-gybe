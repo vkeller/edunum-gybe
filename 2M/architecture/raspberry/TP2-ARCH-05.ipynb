{
 "cells": [
  {
   "cell_type": "markdown",
   "id": "39c9b819-9121-4387-b96a-f69cf4deb55c",
   "metadata": {},
   "source": [
    "![atc_radar](images/radar.jpg \"Radar\")\n",
    "\n",
    "# TP2-ARCH-05 : Récepteur ADS-B local"
   ]
  },
  {
   "cell_type": "markdown",
   "id": "6fc47e82-2456-4607-940e-f4cd87506ae2",
   "metadata": {},
   "source": [
    "## Objectifs pédagogiques\n",
    "\n",
    "- comprendre ce qu'est un protocole *on demand* ou *broadcast*\n",
    "- déduire l'architecture du système de surveillance du traffic aérien\n",
    "- Construire un récepteur ADS-B avec un Raspberry Pi"
   ]
  },
  {
   "cell_type": "code",
   "execution_count": null,
   "id": "a7c4c22a-9538-489f-9170-eac33b5ef187",
   "metadata": {},
   "outputs": [],
   "source": []
  }
 ],
 "metadata": {
  "kernelspec": {
   "display_name": "Python 3 (ipykernel)",
   "language": "python",
   "name": "python3"
  },
  "language_info": {
   "codemirror_mode": {
    "name": "ipython",
    "version": 3
   },
   "file_extension": ".py",
   "mimetype": "text/x-python",
   "name": "python",
   "nbconvert_exporter": "python",
   "pygments_lexer": "ipython3",
   "version": "3.9.2"
  }
 },
 "nbformat": 4,
 "nbformat_minor": 5
}
