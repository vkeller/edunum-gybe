{
 "cells": [
  {
   "cell_type": "markdown",
   "id": "a351832d-e8c3-41ee-a51b-50f442e0c83e",
   "metadata": {},
   "source": [
    "# TP2-ARCH-04 : Services réseau"
   ]
  },
  {
   "cell_type": "code",
   "execution_count": null,
   "id": "c3df3833-6a3e-4f93-a010-4f699c4445f2",
   "metadata": {},
   "outputs": [],
   "source": []
  }
 ],
 "metadata": {
  "kernelspec": {
   "display_name": "Python 3 (ipykernel)",
   "language": "python",
   "name": "python3"
  },
  "language_info": {
   "codemirror_mode": {
    "name": "ipython",
    "version": 3
   },
   "file_extension": ".py",
   "mimetype": "text/x-python",
   "name": "python",
   "nbconvert_exporter": "python",
   "pygments_lexer": "ipython3",
   "version": "3.9.2"
  }
 },
 "nbformat": 4,
 "nbformat_minor": 5
}
