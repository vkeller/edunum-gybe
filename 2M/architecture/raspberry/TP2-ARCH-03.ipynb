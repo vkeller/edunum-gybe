{
 "cells": [
  {
   "cell_type": "markdown",
   "id": "d9cf19eb-a26a-467f-9c40-f737abf24100",
   "metadata": {},
   "source": [
    "![network](images/network.jpg \"Mise en réseau\")\n",
    "\n",
    "# TP2-ARCH-03 : Mise en réseau"
   ]
  },
  {
   "cell_type": "markdown",
   "id": "53c935a6-1ee6-4aea-85bc-9600ecb51255",
   "metadata": {},
   "source": [
    "## Objectifs pédagogiques\n",
    "\n",
    "- Connaître les éléments matériels d'un réseau local (LAN)\n",
    "- Configurer un réseau IPv4 sur des RPi"
   ]
  },
  {
   "cell_type": "markdown",
   "id": "7d1007c2-032a-4a8b-b88e-74533bff17c1",
   "metadata": {},
   "source": [
    "## Exercice 1 - Installation\n",
    "\n",
    "Par groupe, vous installez votre Raspberry PI\n",
    "\n",
    "- Raspberry Pi\n",
    "- Ecran connecté en HDMI - microHDMI\n",
    "- Clavier + Souris USB (sur le Raspberry)\n",
    "\n",
    "Ce TP requiert le réseau, vous devez donc ajouter à votre installation :\n",
    "\n",
    "- un câble Ethernet RJ45 entre le Raspberry Pi et le switch fourni par l'enseignant\n",
    "\n",
    "![rpi_net](schemas/rpi_net.png \"réseau final\")\n",
    "\n",
    "Démarrez votre raspberry et configurez les différentes parties (si elles ne le sont pas déjà) :\n",
    "\n",
    "- clavier fr_CH\n",
    "- interface en français\n",
    "- compte et mot de passe admin"
   ]
  },
  {
   "cell_type": "markdown",
   "id": "6617dfbe-28d9-40c9-98c0-e5b70c9b6c61",
   "metadata": {},
   "source": [
    "## Exercice 2 : mise en réseau\n",
    "\n",
    "- A quoi avons-nous accès avec ce réseau local (LAN)\n",
    "- la commande `ifconfig` permet de donner des détails de la configuration réseau\n",
    "    - **notez les détails que vous y trouvez (TOUS !)**\n",
    "    - concentrez-vous sur l'interface réseau filaire : `eth0`\n",
    "- la commande `ping` suivie d'une adresse réseau permet de savoir si l'appareil avec cette adresse réseau est online. \n",
    "    - il est aussi possible de faire un ping vers une adresse internet : Essayez google ou facebook\n",
    "    - lancez un ping sur un raspberry d'une ou d'un camarade\n",
    "    - qu'observez-vous ?\n",
    "- Comment fonctionne la commande `ping` ?"
   ]
  },
  {
   "cell_type": "markdown",
   "id": "3dac233b-821d-4992-bf05-f0d5855c7d19",
   "metadata": {},
   "source": [
    "## Exercice 3 : Suppression de la connexion\n",
    "\n",
    "**Le raspberry de l'enseignant (qui gère le routeur vers Internet) est éteint**\n",
    "\n",
    "Notez donc tous les paramètres que vous avez avec ifconfig !\n",
    "\n",
    "Il nous faudra \n",
    "\n",
    "- Une adresse IP (obtenue avec ifconfig, peut-on remettre la même ?)\n",
    "- Un masque de sous-réseau (idem)\n",
    "- Une passerelle (quelle est l'adresse de la passerelle ? ça se dit \"gateway\" ou parfois \"router\" en anglais)\n",
    "- Un serveur DNS (on peut les voir avec la commande \"cat /etc/resolv.conf\""
   ]
  },
  {
   "cell_type": "markdown",
   "id": "1b5463fd-0cc5-49f9-beed-15eb8c8f3a12",
   "metadata": {},
   "source": [
    "## Exercice 4 : Adresse statique\n",
    "\n",
    "Il n'y a plus de serveur DHCP (celui qui nous donnait une adresse ip et une configuration). Comment faire ?\n",
    "\n",
    "Pour se simplifier la vie, on va utiliser l'interface graphique du système, c'est les flèche en haut à droite de l'écran\n",
    "\n",
    "Il nous faut \n",
    "- Une adresse IP\n",
    "- Un masque de sous-réseau\n",
    "- Une passerelle\n",
    "- Un serveur DNS\n",
    "Une fois tous ces paramètres entrés, est-ce que ça fonctionne ? (ça devrait) Pour vérifier : lancez un ping vers la passerelle, puis vers Internet."
   ]
  },
  {
   "cell_type": "markdown",
   "id": "6b6e2fde-ec5f-4a13-bf29-09bae61e0a07",
   "metadata": {},
   "source": [
    "## Exercice 5 : Que se passe-t-il ?\n",
    "\n",
    "Faites un schéma sur papier de ce que vous comprenez qui se passe quand le raspberry de l'enseignant fournit la configuration réseau, puis quand le raspberry de l'enseignant ne la fournit plus. Situez votre Raspberry Pi, ceux des autres, les différents éléments, maintenus ou retirés, par rapport au réseau du gymnase, puis par rapport à Internet."
   ]
  },
  {
   "cell_type": "markdown",
   "id": "d60b0d2f-57da-410d-a5c0-9fee1cf8befd",
   "metadata": {},
   "source": [
    "## Exercice 6 : Contrôle à distance (pour aller plus loin)\n",
    "\n",
    "On aimerait pouvoir contrôler notre Rapsberry Pi à distance. Pour cela, on va installer SSH et VNC.\n",
    "\n",
    "Installation : `sudo apt install ssh sshd`\n",
    "\n",
    "### Configuration de SSH\n",
    "\n",
    "Pour configurer SSH, utilisez la commande raspi-config, puis allez dans interface et activez ssh. On peut ensuite contacter (ET CONTROLER !) votre Raspberry Pi avec la commande \"ssh username@adresseIP\"\n",
    "\n",
    "### Configuration de VNC\n",
    "\n",
    "Pour installer VNC, la commande est `sudo apt install tightvncserver`. Ensuite, utilisez la commande `tightvncpasswd` pour définir un mot de passe.\n",
    "\n",
    "Pour accéder à un autre poste en VNC, il faut installer un client VNC, on peut le faire avec la commande `sudo apt install tigervnc-viewer`. Pour l'ouvrir, il suffit ensuite de faire `/usr/bin/vncviewer`. L'application demande une adresse IP, puis demandera un nom d'utilisateur et un mot de passe. Prenez le contrôler du Raspberry Pi d'un de vos camarades !"
   ]
  },
  {
   "cell_type": "code",
   "execution_count": null,
   "id": "a5d1a0ef-1c49-47c2-a62e-d2d228193743",
   "metadata": {},
   "outputs": [],
   "source": []
  }
 ],
 "metadata": {
  "kernelspec": {
   "display_name": "Python 3 (ipykernel)",
   "language": "python",
   "name": "python3"
  },
  "language_info": {
   "codemirror_mode": {
    "name": "ipython",
    "version": 3
   },
   "file_extension": ".py",
   "mimetype": "text/x-python",
   "name": "python",
   "nbconvert_exporter": "python",
   "pygments_lexer": "ipython3",
   "version": "3.9.2"
  }
 },
 "nbformat": 4,
 "nbformat_minor": 5
}
