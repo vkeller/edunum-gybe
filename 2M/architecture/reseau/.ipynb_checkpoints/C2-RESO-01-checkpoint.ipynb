{
 "cells": [
  {
   "cell_type": "markdown",
   "id": "0c2bb117-d4c4-441b-a310-5eaa63e2b65a",
   "metadata": {},
   "source": [
    "![reseau](images/reseau2.png)\n",
    "\n",
    "# C2-RESO-01 : Introduction aux réseaux informatiques"
   ]
  },
  {
   "cell_type": "markdown",
   "id": "6e58d1da-d6f0-4cff-a1aa-09f54e72518c",
   "metadata": {},
   "source": [
    "## Objectifs pédagogiques\n",
    "\n",
    "- Nommer les différents composants d'un réseau informatique\n",
    "- Connaître les modèles en couche (TCP/IP et OSI)\n",
    "- Connaître les topologies principales"
   ]
  },
  {
   "cell_type": "markdown",
   "id": "053610c9-f908-4539-91de-75ae561779e8",
   "metadata": {},
   "source": [
    "## Communication entre appareils\n",
    "\n",
    "Il est possible de faire communiquer deux ordinateurs en les reliant par un simple câble\n",
    "\n",
    "![network1](images/net1.png \"deux ordis branchés\")\n",
    "\n",
    "La **technologie** utilisée est le **câble ethernet** avec un connecteur RJ45 **mâle** :\n",
    "\n",
    "![rj45](images/rj45.jpg \"câble RJ45\")\n",
    "\n",
    "L'appareil (l'ordinateur) doit avoir un connecteur RJ45 **femelle**. \n",
    "\n",
    "C'est le cas de tous les ordinateurs de bureau. Il faut parfois utiliser un **convertisseur**\n",
    "\n",
    "![rj45femelle](images/rj45femelle.jpg \"Carte ethernet\")\n",
    "\n",
    "Relier deux ordinateurs peut avoir de l'intérêt, mais dans la plupart des cas, un **réseau** sera constitué d'un plus grand nombre d'ordinateurs. Dans ce cas, il est nécessaire d'utiliser un **commutateur de réseau** (un **switch** en anglais):\n",
    "\n",
    "![switch](images/switch.jpg \"commutateur\")\n",
    "\n",
    "Un **switch** est une sorte de *multiprise intelligente* qui permet de relier entre eux tous les ordinateurs appartenant à un même réseau. Il existe des switchs qui possèdent 8 **connecteurs RJ45**, d'autres peuvent en possèder 16, 24, 48 ou même plus. \n",
    "\n",
    "Chaque ordinateur doit être relié au switch par l'intermédiaire d'un câble ethernet. Dans l'exemple ci-dessous, les ordinateurs A, B, C, et D sont en réseau local (on appelle cela un **LAN** ou **Local Area Network**). Chaque ordinateur peut communiquer avec les trois autres. \n",
    "\n",
    "![reseau3](images/switch3.jpg \"Réseau local\")\n",
    "\n",
    "Les switchs ayant un nombre limité de connecteurs RJ45, il peut être nécessaire d'utiliser plusieurs switchs dans un même résau. Les câbles eux-mêmes ont une longueur maximale.\n",
    "\n",
    "![reseau4](images/switch4.jpg \"switch ensembles\")\n",
    "\n",
    "Un **routeur** (*router* en anglais) permet de relier ensembles plusieurs réseaux locaux de type **LAN**. Les routeurs les plus simples que l'on peut rencontrer permettent de relier ensemble deux réseaux. Dans ce cas, ils sont appelés simplement **passerelles**.\n",
    "\n",
    "![routeur](images/router.jpg \"Routeur\")\n",
    "\n",
    "Une **borne wifi** peut jouer le rôle de routeur en connectant des appareils sans fils (ordinateurs portables par exemple ou téléphones mobiles) au réseau local ou à Internet. \n",
    "\n",
    "![wifi](images/wifi.jpg \"borne internet\")"
   ]
  },
  {
   "cell_type": "markdown",
   "id": "f440329b-e821-414c-8353-860125222be9",
   "metadata": {},
   "source": [
    "### Vitesse, débit et portée\n",
    "\n",
    "|  | **Vitesse** | **Débit** | **Portée** |\n",
    "|:---|:---:|:---:|:---:|\n",
    "| Wifi | 75 % de `c` | 10 GB/s | 35 mètres |\n",
    "| RJ45 | 75 % de `c` | 1GB/s | 100 mètres |\n",
    "| Fibre optique | 75 % de `c` | 1 TB/s | 50 kilomètres |\n",
    "| 4G | 75 % de `c` | 600 MB/s | 5 kilomètres |\n",
    "| 5G | 75 % de `c` | 3 GB/s | 500 mètres |\n",
    "\n"
   ]
  },
  {
   "cell_type": "markdown",
   "id": "7a489f15-c65a-4f2d-972e-ee9eb6730938",
   "metadata": {},
   "source": [
    "## Modèle de réseau\n",
    "\n",
    "Un **modèle** est une représentation d'une réalité complexe. \n",
    "\n",
    "Il existe deux **modèles de réseaux** utilisés dans le monde de l'informatique :\n",
    "\n",
    "1. Le modèle OSI\n",
    "1. Le modèle TCP/IP\n",
    "\n",
    "### Modèle OSI\n",
    "\n",
    "Voici le modèle OSI pour **Open System Interconnection**\n",
    "\n",
    "![osi](images/osi.jpg \"Le modèle OSI\")\n",
    "\n",
    "### Modèle TCP/IP\n",
    "\n",
    "Les deux protocoles principaux des réseaux sont :\n",
    "\n",
    "- TCP : **Transfer Control Protocl**\n",
    "- IP : **Internet Protocol**\n",
    "\n",
    "Ce qui mis en parallèle avec le modèle OSI :\n",
    "\n",
    "![tcp](images/tcp.jpg \"Le modèle TCP/IP\")\n",
    "\n",
    "Ce qu'il est important de remarquer, c'est que chaque **couleur** représente un **niveau d'abstraction** des protocoles. Ainsi, un émetteur et un récepteur doivent *simplement* se mettre d'accord sur le **protocole** qui régit son niveau d'abstraction. Par exemple, si l'on regarde la partie verte (la couche **application**), il n'est pas nécessaire à l'application - un serveur web par exemple - de connaître les détails des couches inférieures. L'application se doit juste de connaître l'interface entre la couche verte et la couche vert clair (**transport**). \n",
    "\n",
    "Cela permet à des marques différentes, des applications différentes, des matériels différents de **pouvoir communiquer**."
   ]
  },
  {
   "cell_type": "markdown",
   "id": "8108ceea-fdff-4d76-bfa0-907f52a99d13",
   "metadata": {},
   "source": [
    "## Adresse MAC\n",
    "\n",
    "Chaque appareil susceptible d'être connecté à un réseau (local ou internet) possède une adresse **unique au monde**. C'est l'adresse MAC (pour **Media Access Control**). Un téléphone portable, un ordinateur, un switch, un frigo connecté, une borne wifi ont tous une adresse MAC unique.\n",
    "\n",
    "- un **identifiant physique** stocké dans l'électronique\n",
    "- une adresse MAC unique\n",
    "- constituée de **48 bits** (donc **6 octets**)\n",
    "- représentée normalement sous forme **hexadécimale**\n",
    "- chaque octet est séparé par un double point `:`\n",
    "\n",
    "![mac](images/mac2.jpeg \"device MAC address\")\n",
    "\n",
    "![mac2](images/mac3.jpg \"Mac address\")\n",
    "\n",
    "Avec 48 bits, on peut avoir $2^48 = 281 474 976 710 656$ appareils différents. Cela représente environ **35'000 adresses MAC par être humain**."
   ]
  },
  {
   "cell_type": "code",
   "execution_count": null,
   "id": "c830305a-92ec-4efa-8337-3c278bdb1561",
   "metadata": {},
   "outputs": [],
   "source": []
  }
 ],
 "metadata": {
  "kernelspec": {
   "display_name": "Python 3 (ipykernel)",
   "language": "python",
   "name": "python3"
  },
  "language_info": {
   "codemirror_mode": {
    "name": "ipython",
    "version": 3
   },
   "file_extension": ".py",
   "mimetype": "text/x-python",
   "name": "python",
   "nbconvert_exporter": "python",
   "pygments_lexer": "ipython3",
   "version": "3.9.2"
  }
 },
 "nbformat": 4,
 "nbformat_minor": 5
}
