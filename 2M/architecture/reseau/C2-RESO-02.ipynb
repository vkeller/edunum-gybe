{
 "cells": [
  {
   "cell_type": "markdown",
   "id": "a9ac82e6-d1a8-44af-8787-4ca9a770b29f",
   "metadata": {},
   "source": [
    "![network2](images/network2.png \"Woman in a datacenter\")\n",
    "\n",
    "# C2-RESO-02 : L'adresse IP"
   ]
  },
  {
   "cell_type": "markdown",
   "id": "50c2ee62-3caa-4cfb-a9ad-2259ff8802a4",
   "metadata": {},
   "source": [
    "## Objectifs pédagogiques\n",
    "\n",
    "- comprendre comment fonctionne les adresse IP\n",
    "- "
   ]
  },
  {
   "cell_type": "markdown",
   "id": "be8aa4ca-e479-4a72-889b-0a911adc04c2",
   "metadata": {},
   "source": [
    "## Rappel : modèle TCP/IP\n",
    "\n",
    "![tcpip](images/modeletcpip.png \"Modèle TCP/IP\")\n",
    "\n",
    "- **TCP** : *Transfer Control Protocol*\n",
    "- **IP** : *Internet Protocol*\n",
    "\n",
    "### Définition : Protocole (de communication)\n",
    "\n",
    "Un **Protocole** de communication est un ensemble de règles qui doivent être respectées par un émetteur et un récepteur pour mener à bien une communication. "
   ]
  },
  {
   "cell_type": "markdown",
   "id": "caa00abb-613c-4bf4-a0cd-f50d6b01c93e",
   "metadata": {},
   "source": [
    "## Protocole IP\n",
    "\n",
    "- **IP** = **I**nternet **P**rotocol\n",
    "- Ensemble de protocoles de communication de réseaux informatiques\n",
    "- conçus pour être utilisés sur Internet\n",
    "- service d'adressage unique pour l'ensemble des appareils connectés\n",
    "- le protocole IP assure **l'acheminement** des **paquets de données**\n",
    "- Le protocole IP ne s'occupe pas du contenu du paquet\n",
    "- deux versions : \n",
    "    - **IPv4** (version 4 octets donc 32 bits)\n",
    "    - **IPv6** (version 6 octets donc 128 bits)"
   ]
  },
  {
   "cell_type": "markdown",
   "id": "d481aad3-7472-46ac-8484-16fe82a7e4ce",
   "metadata": {},
   "source": [
    "## Versions des protocoles\n",
    "\n",
    "En détails, les deux versions ont les caractéristiques suivantes :\n",
    "\n",
    "### Adresse IPv4\n",
    "\n",
    "- une adresse IPv4 est de la forme `a.b.c.d`\n",
    "- les valeurs `a`, `b`, `c` et `d` sont écrit en **décimal**. Leur valeur varie entre `0` et `255` ($2^8 = 256$ valeurs possibles\n",
    "- on a donc a disposition $2^{32}$ adresses IPv4 différentes (`4'294'967'296`) soit environ une adresse IP par être humain.\n",
    "\n",
    "### Adresse IPv6\n",
    "\n",
    "Un phénomène, connu sous le nom d'**épuisement des adresses IPv4**, a été observé en 2011. Cette année, l'entier des adresses IPv4 avaient été attribuées dans le monde. Mais du fait de l'explosion du nombre d'appareils connectés, les ingénieurs et les différentes autorités qui gèrent ces adresses avaient pensé à un nouveau protocole d'adressage : **IPv6**. \n",
    "\n",
    "- une adresse IPv6 est de la forme `a:b:c:d:e:f:g:h`\n",
    "- les valeurs `a`, `b`, `c`, `d`, `e`, `f`, `g` et `h` sont écrit en **hexadécimal**. Chaque valeur représente deux octets (16 bits).\n",
    "- on a donc $8 x 2$ octets donc $8 x 16 = 128$ bits par adresse. A disposition cela représente $2^{128}$ adresses possibles différentes (`340'282'366'920'938'463'463'374'607'431'768'211'456`) soit largement suffisant pour les besoins des prochains millénaires."
   ]
  },
  {
   "cell_type": "markdown",
   "id": "3cb01ebe-c3ba-4d37-a7e9-3c5f3ac8adcc",
   "metadata": {
    "tags": []
   },
   "source": [
    "## Adresse publique et privée\n",
    "\n",
    "Il existe un autre moyen d'attribuer **plus d'adresses IPv4** qu'il n'en existe en réalité. Cela se passe par le truchement d'un **routeur** et donc d'un **réseau privé**. Le routeur est donc un composant réseau actif qui se charge de **traduire l'acheminement des paquets** entre ceux qui proviennent du réseau **privé** vers le réseau **public**\n",
    "\n",
    "### Adresse publique\n",
    "\n",
    "C'est une adresse IP directement accessible sur Internet. Elle est attribuée, par exemple, à votre routeur à la maison par le fournisseur d'accès internet (**FAI**).\n",
    "\n",
    "Cela ressemble à une boîte postale\n",
    "\n",
    "### Adresse privée\n",
    "\n",
    "C'est l'adresse que le routeur attribue à l'appareil à l'intérieur du réseau privé. Chaque appareil se voit attribuer une adresse privée différente au sein du même réseau privé : un smartphone, un laptop, un ordinateur, une imprimante, la TV box. \n",
    "\n",
    "Une adresse privée permet de communiquer avec tous les appareils connectés dans la même réseau privé sans passer par Internet."
   ]
  },
  {
   "cell_type": "markdown",
   "id": "ddf1704e-3806-49bf-9c00-223c1bf25995",
   "metadata": {},
   "source": [
    "## Adresse statique et dynamique\n",
    "\n",
    "Il existe deux type d'adresses attribuées à un appareil connecté. Cela est valable pour adresse publique ou une adresse privée.\n",
    "\n",
    "### Adresse statique\n",
    "\n",
    "- une adresse IP **statique** est allouée de manière statique (elle ne change jamais)\n",
    "- l'appareil aura toujours la même adresse à chaque redémarrage\n",
    "- c'est la machine qui annonce au réseau son adresse IP\n",
    "- la machine est **atteignable en tout temps** à cette même adresse : c'est un **serveur**\n",
    "\n",
    "### Adresse dynamique\n",
    "\n",
    "- une adresse IP **dynamique** est allouée *à la demande*.\n",
    "- lorsqu'un appareil se connecte à un réseu, il demande une adresse IP\n",
    "- cette adresse change à chaque redémarrage\n",
    "- il est possible d'avoir plus de machine que d'adresse pour autant que toutes les machines ne soient pas connectées en même temps sur le réseau.\n",
    "- c'est un **poste client**"
   ]
  },
  {
   "cell_type": "markdown",
   "id": "2e15677b-8d95-4bd7-8cad-9fcf89901cf4",
   "metadata": {},
   "source": [
    "## DHCP\n",
    "\n",
    "Pour allouer des adresses IP **dynamiques**, il faut un nouveau protocole : DHCP pour **Dynamic Host Configuration Protocol**. C'est un **serveur DHCP** qui fourni ce service dans un réseau privé.\n",
    "\n",
    "![dhcp](images/dhcp.png \"DHCP protocol\")"
   ]
  },
  {
   "cell_type": "code",
   "execution_count": null,
   "id": "430d59db-7d34-4f4d-a9b6-04ff8bdf5873",
   "metadata": {},
   "outputs": [],
   "source": []
  }
 ],
 "metadata": {
  "kernelspec": {
   "display_name": "Python 3 (ipykernel)",
   "language": "python",
   "name": "python3"
  },
  "language_info": {
   "codemirror_mode": {
    "name": "ipython",
    "version": 3
   },
   "file_extension": ".py",
   "mimetype": "text/x-python",
   "name": "python",
   "nbconvert_exporter": "python",
   "pygments_lexer": "ipython3",
   "version": "3.9.2"
  }
 },
 "nbformat": 4,
 "nbformat_minor": 5
}
