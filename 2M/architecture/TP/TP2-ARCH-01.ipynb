{
 "cells": [
  {
   "cell_type": "markdown",
   "id": "5b2a8f48-d4b3-4800-9348-5f6428302593",
   "metadata": {},
   "source": [
    "![board](images/logicalgates.jpg \"Portes logiques\")\n",
    "\n",
    "# TP2-ARCH-01 : Les portes logiques"
   ]
  },
  {
   "cell_type": "markdown",
   "id": "7c1a453e-eda0-476e-96bb-891aadf30451",
   "metadata": {},
   "source": [
    "## Objectifs pédagogiques\n",
    "\n",
    "- Connaître les portes logiques\n",
    "- être capable de penser, dessiner et tester des circuits logiques simples"
   ]
  },
  {
   "cell_type": "markdown",
   "id": "f22c7f9c-8641-4992-a7e7-f0299be58139",
   "metadata": {},
   "source": [
    "## Outil à disposition\n",
    "\n",
    "Ce TP sera effectué sur le [logiciel de simulation logic](https://logic.modulo-info.ch/). Les premiers exercices vous permettent de prendre en main le logiciel.\n",
    "\n",
    "Il est toujours possible de **sauvegarder son travail** sous la forme d'un fichier `json`. Ce fichier peut ensuite être rechargé dans le même logiciel de simulation. "
   ]
  },
  {
   "cell_type": "markdown",
   "id": "e98211f4-132d-4c8a-aca1-70de1232083d",
   "metadata": {},
   "source": [
    "## Couches d'abstractions architecturales\n",
    "\n",
    "Un ordinateur moderne fonctionne en binaire. Il ne connaît que deux valeurs définies : `1` pour vrai et `0` pour faux. Physiquement, les deux valeurs `0` (`False`), `1` (ou `True`) sont représentées par deux tensions électriques différentes : `V0` et `V1`. \n",
    "\n",
    "![abstraction](images/abstraction.png \"Couches d'abstractions\")\n",
    "\n",
    "Ce TP se concentre sur des couches de plus **bas niveau** : à celui des **circuits électroniques**"
   ]
  },
  {
   "cell_type": "markdown",
   "id": "87ea50a7-a49f-4545-8a50-d4056551f138",
   "metadata": {},
   "source": [
    "## Définition : une porte logique\n",
    "\n",
    "Une **porte logique** est un composant électronique qui réalise des opérations logiques (algèbre de Boole). Une porte logique est désignée par l'opération logique qu'elle accomplit. \n",
    "\n",
    "Elle possède une ou des **entrées** et des **sorties** et on les classe en fonction du nombre d'entrées.\n",
    "\n",
    "Physiquement, une porte logique est un semi-conducteur piloté par une horloge. "
   ]
  },
  {
   "cell_type": "markdown",
   "id": "4f304beb-86df-4175-bda9-e63e82a0fc6c",
   "metadata": {},
   "source": [
    "## Table de vérité\n",
    "\n",
    "Chaque porte logique est associée à une table de vérité. En fonction de l'entrée ou des entrées, on calcule la sortie avec l'opération logique qu'elle accomplit.\n",
    "\n",
    "Par exemple : la fonction `OR` possède la table de vérité suivante :\n",
    "\n",
    "| **a**  | **b**  | **a `OR` b**  |\n",
    "|:---:|:---:|:---:|\n",
    "| 0  | 0  | 0  |\n",
    "| 0  | 1  | 1  |\n",
    "| 1  | 0  | 1  |\n",
    "| 1  | 1  | 1  |\n"
   ]
  },
  {
   "cell_type": "markdown",
   "id": "6a753c33-4a06-4702-ad82-7a662eeb73b3",
   "metadata": {},
   "source": [
    "## Portes à une entrée"
   ]
  },
  {
   "cell_type": "markdown",
   "id": "40a80d08-1c91-43e6-a5cc-84da644911bb",
   "metadata": {},
   "source": [
    "### `NOT`\n",
    "\n",
    "#### Symbole :\n",
    "\n",
    "![not](gates/not.png \"not\")\n",
    "\n",
    "#### Table de vérité\n",
    "\n",
    "| **a**  |**`NOT` a**  |\n",
    "|:---:|:---:|\n",
    "| 0  | 1  |\n",
    "| 1  | 0  |"
   ]
  },
  {
   "cell_type": "markdown",
   "id": "7f30c795-13a0-4e7c-89e3-35ead1dd23c2",
   "metadata": {},
   "source": [
    "### `BUFFER`\n",
    "\n",
    "#### Symbole :\n",
    "\n",
    "![buffer](gates/buffer.png \"buffer\")\n",
    "\n",
    "#### Table de vérité\n",
    "\n",
    "| **a**  |**`BUFFER` a**  |\n",
    "|:---:|:---:|\n",
    "| 0  | 0  |\n",
    "| 1  | 1  |"
   ]
  },
  {
   "cell_type": "markdown",
   "id": "a4b94420-e53c-498d-bb1a-1cf036922272",
   "metadata": {},
   "source": [
    "## Portes à deux entrées"
   ]
  },
  {
   "cell_type": "markdown",
   "id": "792b6bea-c780-4aa6-8dd5-154d26aadb80",
   "metadata": {},
   "source": [
    "### `AND`\n",
    "\n",
    "#### Symbole :\n",
    "\n",
    "![and](gates/and.png \"and\")\n",
    "\n",
    "#### Table de vérité\n",
    "\n",
    "| **a**  | **b**  | **a `AND` b**  |\n",
    "|:---:|:---:|:---:|\n",
    "| 0  | 0  | 0  |\n",
    "| 0  | 1  | 0  |\n",
    "| 1  | 0  | 0  |\n",
    "| 1  | 1  | 1  |"
   ]
  },
  {
   "cell_type": "markdown",
   "id": "9d293443-c063-47b7-a926-0a4c3a4328dd",
   "metadata": {},
   "source": [
    "### `NAND`\n",
    "\n",
    "#### Symbole :\n",
    "\n",
    "![nand](gates/nand.png \"nand\")\n",
    "\n",
    "#### Table de vérité\n",
    "\n",
    "| **a**  | **b**  | **a `NAND` b**  |\n",
    "|:---:|:---:|:---:|\n",
    "| 0  | 0  | 1  |\n",
    "| 0  | 1  | 1  |\n",
    "| 1  | 0  | 1  |\n",
    "| 1  | 1  | 0  |"
   ]
  },
  {
   "cell_type": "markdown",
   "id": "b0da494a-4e46-4668-b173-739d0daa4c42",
   "metadata": {},
   "source": [
    "### `OR`\n",
    "\n",
    "#### Symbole :\n",
    "\n",
    "![or](gates/or.png \"or\")\n",
    "\n",
    "#### Table de vérité\n",
    "\n",
    "| **a**  | **b**  | **a `OR` b**  |\n",
    "|:---:|:---:|:---:|\n",
    "| 0  | 0  | 0  |\n",
    "| 0  | 1  | 1  |\n",
    "| 1  | 0  | 1  |\n",
    "| 1  | 1  | 1  |"
   ]
  },
  {
   "cell_type": "markdown",
   "id": "8ea84f41-b919-45c0-8320-6cf41440eee8",
   "metadata": {},
   "source": [
    "### `NOR`\n",
    "\n",
    "#### Symbole :\n",
    "\n",
    "![nor](gates/nor.png \"nor\")\n",
    "\n",
    "#### Table de vérité\n",
    "\n",
    "| **a**  | **b**  | **a `NOR` b**  |\n",
    "|:---:|:---:|:---:|\n",
    "| 0  | 0  | 1  |\n",
    "| 0  | 1  | 0  |\n",
    "| 1  | 0  | 0  |\n",
    "| 1  | 1  | 0  |"
   ]
  },
  {
   "cell_type": "markdown",
   "id": "307934ee-c79a-4dbb-b5fd-196e3675bf84",
   "metadata": {},
   "source": [
    "### `XOR`\n",
    "\n",
    "#### Symbole :\n",
    "\n",
    "![xor](gates/xor.png \"xor\")\n",
    "\n",
    "#### Table de vérité\n",
    "\n",
    "| **a**  | **b**  | **a `XOR` b**  |\n",
    "|:---:|:---:|:---:|\n",
    "| 0  | 0  | 0  |\n",
    "| 0  | 1  | 1  |\n",
    "| 1  | 0  | 1  |\n",
    "| 1  | 1  | 0  |"
   ]
  },
  {
   "cell_type": "markdown",
   "id": "31e28d59-0271-4bc6-8f5b-6d768ac61574",
   "metadata": {},
   "source": [
    "### `XNOR`\n",
    "\n",
    "#### Symbole :\n",
    "\n",
    "![xnor](gates/xnor.png \"xnor\")\n",
    "\n",
    "#### Table de vérité\n",
    "\n",
    "| **a**  | **b**  | **a `XNOR` b**  |\n",
    "|:---:|:---:|:---:|\n",
    "| 0  | 0  | 1  |\n",
    "| 0  | 1  | 0  |\n",
    "| 1  | 0  | 0  |\n",
    "| 1  | 1  | 1  |"
   ]
  },
  {
   "cell_type": "markdown",
   "id": "c3849830-3ad3-41ba-9ec9-5ff5dc35f384",
   "metadata": {},
   "source": [
    "## Exercice 1 : Prise en main de l'outil\n",
    "\n",
    "- Observez l'ensemble des éléments à disposition :\n",
    "    - entrées et sorties\n",
    "    - segments et afficheurs\n",
    "    - horloge\n",
    "    - portes logiques\n",
    "    - composants logiques\n",
    "- Vérifiez la table de vérité d'une porte `AND` en créant :\n",
    "    - deux entrées\n",
    "    - une sortie\n",
    "    - des câbles de transmission\n",
    "- Modifiez à l'aide du **menu contextuel** (clic droit) la **vitesse de transmission** du signal dans le fil"
   ]
  },
  {
   "cell_type": "markdown",
   "id": "ad0326f8-f843-43d1-b36a-ac89ccff3299",
   "metadata": {},
   "source": [
    "![chiens](images/chiens.png \"Chiens\")\n",
    "\n",
    "## Exercice 2 : Un sélecteur de chiens\n",
    "\n",
    "La famille Dupont a décidé d'accueillir un chien à la maison et se rend dans un refuge SPA afin d'en choisir un.\n",
    "\n",
    "Chaque chien a des caractéristiques propres. Afin de ne pas perdre trop de temps au refuge, la famille Dupont a décidé d'amener un petit circuit électronique qui sera capable d'identifier immédiatement si un chien convient à ses exigences, en fonction de ses caractéristiques.\n",
    "\n",
    "Réfléchissez à la manière de construire ce circuit électronique.\n",
    "\n",
    "### Ex 2.1 : Petit et gentil\n",
    "\n",
    "Toute la famille est d'accord : le chien devra être **petit et gentil** .\n",
    "\n",
    "- Ecrivez la table de vérité du circuit que vous voulez implémenter\n",
    "- A l'aide du simulateur, développez un circuit qui répond à cette question. \n",
    "    - deux entrées : **gentil** et **petit**\n",
    "    - une sortie : **OK**\n",
    "\n",
    "### Ex 2.2 : Et s'il bave tout le temps ?\n",
    "\n",
    "La famille Dupont est unanimement d'accord, si le chien **bave tout le temps** c'est rédhibitoire et le chien ne peut pas être accepté.\n",
    "\n",
    "- Ecrivez la table de vérité du circuit que vous voulez implémenter\n",
    "- Sur le circuit 2.2, ajoutez :\n",
    "    - une entrée : **bave tout le temps** \n",
    "- vérifiez la validité du circuit\n",
    "\n",
    "**Truc** : vous devrez utiliser une seconde porte logique à une seule entrée\n",
    "\n",
    "### Ex 2.3 : *Papa, Maman, ... j'veux un Labrador !!*\n",
    "\n",
    "La petite dernière de la famille Dupont aime particulièrement les Labrador. Or les Labrador ne sont pas des petits chiens. La famille se met d'accord pour une exception : le chien doit être petit **sauf si c'est un Labrador**. \n",
    "\n",
    "- Ecrivez la table de vérité du circuit que vous voulez implémenter (16 entrées !!!)\n",
    "- Sur le circuit 2.2, ajoutez :\n",
    "    - une entrée **Labrador**\n",
    "- vérifiez la validité du circuit (il n'y a pas qu'une seule solution)\n",
    "\n",
    "**Attention** : si c'est un Labrador, alors le chien n'est pas OK ! \n",
    "\n",
    "- Un gentil Chihuahua qui ne bave pas est-il un candidat ?\n",
    "- Un gentil Saint-Bernard qui bave est-il un candidat ?"
   ]
  },
  {
   "cell_type": "markdown",
   "id": "7ce102a3-524a-4582-a684-76492eab2424",
   "metadata": {},
   "source": [
    "## Exercice 3 : Le refuge de la SPA\n",
    "\n",
    "![spa](images/spa.png \"Plan du refuge\")\n",
    "\n",
    "Le refuge de la SPA est divisé en 4 secteurs qui abritent 4 races de chiens. Chaque secteur a droit à une promenade à un moment différent de la journée. Le refuge de la SPA souhaite créer un système électronique pour ouvrir les portes au bon moment de la journée à partir du numéro du secteur.\n",
    "\n",
    "### Ex 3.1 Combien de bits ?\n",
    "\n",
    "- combien de bits sont nécessaire pour coder les 4 secteurs ?\n",
    "\n",
    "### Ex 3.2 Un décodeur électronique\n",
    "\n",
    "Voici les 4 races de chiens correspondant aux 4 secteurs :\n",
    "\n",
    "| **Secteur**  | **Race** |\n",
    "|:---:|:---:|\n",
    "| 1  | Pittbulls  |\n",
    "| 2  | Pyrénées  |\n",
    "| 3  | Dalmatiens  |\n",
    "| 4  | Labradors  |\n",
    "\n",
    "- Codez le numéro des secteurs\n",
    "- Construisez un **décodeur** avec le nombre d'entrées correspondant au nombre de bits nécessaires et qui active une seule des 4 sorties (le numéro du secteur) à la fois.\n",
    "- vous pouvez vous aider d'une table de vérité"
   ]
  },
  {
   "cell_type": "markdown",
   "id": "4183a095-ff8c-4a42-8d19-d2d254ca783e",
   "metadata": {},
   "source": [
    "## Exercice 4 : Et la famille Rochat ?\n",
    "\n",
    "La famille Rochat a construit un circuit similaire pour le choix de son chien. Le voici :\n",
    "\n",
    "![dubuis](images/dubuis.png \"Rochat\")\n",
    "\n",
    "- Quels sont les critères de la famille Rochat ?\n",
    "- Testez avec le simulateur logique\n",
    "- Ressemble-t-il à une porte vue en début de TP ?"
   ]
  },
  {
   "cell_type": "code",
   "execution_count": null,
   "id": "7f14dce6-149e-4f1e-88b6-a45b8d0eb3d7",
   "metadata": {},
   "outputs": [],
   "source": []
  },
  {
   "cell_type": "markdown",
   "id": "dbd3a210-66ce-4797-994d-73a1a119226a",
   "metadata": {},
   "source": [
    "## (Pour aller plus loin) Portes logiques universelles\n",
    "\n",
    "On peut montrer qu'en utilisant **uniquement** des portes logiques `AND`, `OR` et `NOT` on peut construire l'entier des portes logiques existantes :\n",
    "\n",
    "![universalgates](gates/universalgate.png \"Universal gates\")"
   ]
  },
  {
   "cell_type": "code",
   "execution_count": null,
   "id": "bc0e17ee-cc65-415f-a5f1-59fe6393b583",
   "metadata": {},
   "outputs": [],
   "source": []
  }
 ],
 "metadata": {
  "kernelspec": {
   "display_name": "Python 3 (ipykernel)",
   "language": "python",
   "name": "python3"
  },
  "language_info": {
   "codemirror_mode": {
    "name": "ipython",
    "version": 3
   },
   "file_extension": ".py",
   "mimetype": "text/x-python",
   "name": "python",
   "nbconvert_exporter": "python",
   "pygments_lexer": "ipython3",
   "version": "3.9.2"
  }
 },
 "nbformat": 4,
 "nbformat_minor": 5
}
