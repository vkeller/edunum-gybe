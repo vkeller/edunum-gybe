{
 "cells": [
  {
   "cell_type": "markdown",
   "id": "5b2a8f48-d4b3-4800-9348-5f6428302593",
   "metadata": {},
   "source": [
    "![board](images/logicalgates.jpg \"Portes logiques\")\n",
    "\n",
    "# TP2-ARCH-01 : Les portes logiques"
   ]
  },
  {
   "cell_type": "markdown",
   "id": "7c1a453e-eda0-476e-96bb-891aadf30451",
   "metadata": {},
   "source": [
    "## Objectifs pédagogiques\n",
    "\n",
    "- Connaître les portes logiques\n",
    "- être capable de penser, dessiner et tester des circuits logiques simples"
   ]
  },
  {
   "cell_type": "markdown",
   "id": "87ea50a7-a49f-4545-8a50-d4056551f138",
   "metadata": {},
   "source": [
    "## Définition : une porte logique\n",
    "\n",
    "Une **porte logique** est un composant électronique qui raélise des opérations logiques (algèbre de Boole). Une porte logique est désignée par l'opération logique qu'elle accomplit. \n",
    "\n",
    "Elle possède une ou des **entrées** et des **sorties** et on les classe en fonction du nombre d'entrées.\n",
    "\n",
    "Physiquement, une porte logique est un semi-conducteur piloté par une horloge."
   ]
  },
  {
   "cell_type": "markdown",
   "id": "4f304beb-86df-4175-bda9-e63e82a0fc6c",
   "metadata": {},
   "source": [
    "## Table de vérité\n",
    "\n",
    "Chaque porte logique est associée à une table de vérité. En fonction de l'entrée ou des entrées, on calcule la sortie avec l'opération logique qu'elle accomplit.\n",
    "\n",
    "Par exemple : la fonction `OR` possède la table de vérité suivante :\n",
    "\n",
    "| **a**  | **b**  | **a `OR` b**  |\n",
    "|:---:|:---:|:---:|\n",
    "| 0  | 0  | 0  |\n",
    "| 0  | 1  | 1  |\n",
    "| 1  | 0  | 1  |\n",
    "| 1  | 1  | 1  |\n"
   ]
  },
  {
   "cell_type": "markdown",
   "id": "6a753c33-4a06-4702-ad82-7a662eeb73b3",
   "metadata": {},
   "source": [
    "## Portes à une entrée"
   ]
  },
  {
   "cell_type": "markdown",
   "id": "40a80d08-1c91-43e6-a5cc-84da644911bb",
   "metadata": {},
   "source": [
    "### `NOT`\n",
    "\n",
    "#### Symbole :\n",
    "\n",
    "![not](gates/not.png \"not\")\n",
    "\n",
    "#### Table de vérité\n",
    "\n",
    "| **a**  |**`NOT` a**  |\n",
    "|:---:|:---:|\n",
    "| 0  | 1  |\n",
    "| 1  | 0  |"
   ]
  },
  {
   "cell_type": "markdown",
   "id": "7f30c795-13a0-4e7c-89e3-35ead1dd23c2",
   "metadata": {},
   "source": [
    "### `BUFFER`\n",
    "\n",
    "#### Symbole :\n",
    "\n",
    "![buffer](gates/buffer.png \"buffer\")\n",
    "\n",
    "#### Table de vérité\n",
    "\n",
    "| **a**  |**`BUFFER` a**  |\n",
    "|:---:|:---:|\n",
    "| 0  | 0  |\n",
    "| 1  | 1  |"
   ]
  },
  {
   "cell_type": "markdown",
   "id": "a4b94420-e53c-498d-bb1a-1cf036922272",
   "metadata": {},
   "source": [
    "## Portes à deux entrées"
   ]
  },
  {
   "cell_type": "markdown",
   "id": "792b6bea-c780-4aa6-8dd5-154d26aadb80",
   "metadata": {},
   "source": [
    "### `AND`\n",
    "\n",
    "#### Symbole :\n",
    "\n",
    "![and](gates/and.png \"and\")\n",
    "\n",
    "#### Table de vérité\n",
    "\n",
    "| **a**  | **b**  | **a `AND` b**  |\n",
    "|:---:|:---:|:---:|\n",
    "| 0  | 0  | 0  |\n",
    "| 0  | 1  | 0  |\n",
    "| 1  | 0  | 0  |\n",
    "| 1  | 1  | 1  |"
   ]
  },
  {
   "cell_type": "markdown",
   "id": "b0da494a-4e46-4668-b173-739d0daa4c42",
   "metadata": {},
   "source": [
    "### `OR`\n",
    "\n",
    "#### Symbole :\n",
    "\n",
    "![or](gates/or.png \"or\")\n",
    "\n",
    "#### Table de vérité\n",
    "\n",
    "| **a**  | **b**  | **a `OR` b**  |\n",
    "|:---:|:---:|:---:|\n",
    "| 0  | 0  | 0  |\n",
    "| 0  | 1  | 1  |\n",
    "| 1  | 0  | 1  |\n",
    "| 1  | 1  | 1  |"
   ]
  },
  {
   "cell_type": "markdown",
   "id": "9d293443-c063-47b7-a926-0a4c3a4328dd",
   "metadata": {},
   "source": [
    "### `NAND`\n",
    "\n",
    "#### Symbole :\n",
    "\n",
    "![nand](gates/nand.png \"nand\")\n",
    "\n",
    "#### Table de vérité\n",
    "\n",
    "| **a**  | **b**  | **a `NAND` b**  |\n",
    "|:---:|:---:|:---:|\n",
    "| 0  | 0  | 1  |\n",
    "| 0  | 1  | 1  |\n",
    "| 1  | 0  | 1  |\n",
    "| 1  | 1  | 0  |"
   ]
  },
  {
   "cell_type": "markdown",
   "id": "8ea84f41-b919-45c0-8320-6cf41440eee8",
   "metadata": {},
   "source": [
    "### `NOR`\n",
    "\n",
    "#### Symbole :\n",
    "\n",
    "![nor](gates/nor.png \"nor\")\n",
    "\n",
    "#### Table de vérité\n",
    "\n",
    "| **a**  | **b**  | **a `NOR` b**  |\n",
    "|:---:|:---:|:---:|\n",
    "| 0  | 0  | 1  |\n",
    "| 0  | 1  | 0  |\n",
    "| 1  | 0  | 0  |\n",
    "| 1  | 1  | 0  |"
   ]
  },
  {
   "cell_type": "markdown",
   "id": "307934ee-c79a-4dbb-b5fd-196e3675bf84",
   "metadata": {},
   "source": [
    "### `XOR`\n",
    "\n",
    "#### Symbole :\n",
    "\n",
    "![xor](gates/xor.png \"xor\")\n",
    "\n",
    "#### Table de vérité\n",
    "\n",
    "| **a**  | **b**  | **a `XOR` b**  |\n",
    "|:---:|:---:|:---:|\n",
    "| 0  | 0  | 0  |\n",
    "| 0  | 1  | 1  |\n",
    "| 1  | 0  | 1  |\n",
    "| 1  | 1  | 0  |"
   ]
  },
  {
   "cell_type": "markdown",
   "id": "31e28d59-0271-4bc6-8f5b-6d768ac61574",
   "metadata": {},
   "source": [
    "### `XNOR`\n",
    "\n",
    "#### Symbole :\n",
    "\n",
    "![xnor](gates/xnor.png \"xnor\")\n",
    "\n",
    "#### Table de vérité\n",
    "\n",
    "| **a**  | **b**  | **a `XNOR` b**  |\n",
    "|:---:|:---:|:---:|\n",
    "| 0  | 0  | 1  |\n",
    "| 0  | 1  | 0  |\n",
    "| 1  | 0  | 0  |\n",
    "| 1  | 1  | 1  |"
   ]
  },
  {
   "cell_type": "code",
   "execution_count": null,
   "id": "a40e6e15-0010-4c57-96ee-bcc374a76e85",
   "metadata": {},
   "outputs": [],
   "source": []
  }
 ],
 "metadata": {
  "kernelspec": {
   "display_name": "Python 3 (ipykernel)",
   "language": "python",
   "name": "python3"
  },
  "language_info": {
   "codemirror_mode": {
    "name": "ipython",
    "version": 3
   },
   "file_extension": ".py",
   "mimetype": "text/x-python",
   "name": "python",
   "nbconvert_exporter": "python",
   "pygments_lexer": "ipython3",
   "version": "3.9.2"
  }
 },
 "nbformat": 4,
 "nbformat_minor": 5
}
