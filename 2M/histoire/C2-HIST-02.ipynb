{
 "cells": [
  {
   "cell_type": "markdown",
   "id": "9dcd469e-7afb-41f2-86d0-8fbd7cd43589",
   "metadata": {},
   "source": [
    "# C2-HIST-02 : Histoire de l'informatique"
   ]
  },
  {
   "cell_type": "markdown",
   "id": "b6fd87e4-6666-4cb9-ad48-f83b27b6dc2e",
   "metadata": {},
   "source": [
    "## Introduction à l'histoire de l'informatique\n",
    "\n",
    "    Définition de l'informatique\n",
    "    Importance de l'informatique dans la société moderne\n",
    "\n",
    "## L'avènement des premiers calculs mécaniques\n",
    "\n",
    "    Les origines de l'informatique\n",
    "        La machine de Babbage et son impact sur le développement des premiers concepts informatiques\n",
    "        Le rôle d'Ada Lovelace dans la programmation des premiers calculateurs mécaniques\n",
    "\n",
    "    Les premiers ordinateurs électroniques\n",
    "        L'ENIAC : les débuts des ordinateurs électroniques et son impact sur la technologie informatique\n",
    "\n",
    "## L'ère des semi-conducteurs et des micro-ordinateurs\n",
    "\n",
    "    La révolution des semi-conducteurs\n",
    "        L'importance des transistors et des circuits intégrés dans le développement des ordinateurs modernes\n",
    "        L'essor des microprocesseurs et leur impact sur la miniaturisation des ordinateurs\n",
    "\n",
    "    L'avènement des micro-ordinateurs\n",
    "        L'Altair 8800 et le micro-ordinateur Apple I : l'impact des premiers micro-ordinateurs sur la démocratisation de l'informatique\n",
    "\n",
    "## L'essor de l'informatique personnelle et d'Internet\n",
    "\n",
    "    L'explosion de la puissance de calcul\n",
    "        L'introduction des disques durs et des interfaces utilisateur graphiques\n",
    "        L'impact des ordinateurs personnels sur la vie quotidienne\n",
    "\n",
    "    La révolution d'Internet\n",
    "        L'avènement d'Internet et son impact sur les communications et l'accès à l'information\n",
    "        L'importance de la connectivité dans la société moderne\n",
    "\n",
    "## Conclusion\n",
    "    Récapitulation des étapes clés de l'histoire de l'informatique\n",
    "    Discussion sur l'impact de l'évolution de l'informatique sur la société et les technologies modernes\n"
   ]
  },
  {
   "cell_type": "code",
   "execution_count": null,
   "id": "a8bbc09a-ca43-4124-82a2-888bd4b92af5",
   "metadata": {},
   "outputs": [],
   "source": []
  }
 ],
 "metadata": {
  "kernelspec": {
   "display_name": "Python 3 (ipykernel)",
   "language": "python",
   "name": "python3"
  },
  "language_info": {
   "codemirror_mode": {
    "name": "ipython",
    "version": 3
   },
   "file_extension": ".py",
   "mimetype": "text/x-python",
   "name": "python",
   "nbconvert_exporter": "python",
   "pygments_lexer": "ipython3",
   "version": "3.9.2"
  }
 },
 "nbformat": 4,
 "nbformat_minor": 5
}
