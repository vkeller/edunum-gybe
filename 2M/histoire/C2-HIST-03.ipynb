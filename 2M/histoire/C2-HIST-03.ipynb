{
 "cells": [
  {
   "cell_type": "markdown",
   "id": "5cdff331-3769-40af-8472-4a7cb78effda",
   "metadata": {},
   "source": [
    "![applications](images/application.png \"Applications\")\n",
    "\n",
    "# C2-HIST-03 : Histoire de l'informatique : le logiciel"
   ]
  },
  {
   "cell_type": "markdown",
   "id": "0432fe20-73f3-438f-929a-c0122ad59c90",
   "metadata": {},
   "source": [
    "## Objectifs pédagogiques\n",
    "\n",
    "- comprendre les rôles des différents logiciels qui s'exécutent sur un ordinateur\n",
    "- connaître les principaux systèmes d'exploitation\n",
    "- connaître les principaux langages de programmation\n",
    "- mettre en perspective les modèles de licences des logiciels"
   ]
  },
  {
   "cell_type": "markdown",
   "id": "c0899cdf-cd54-4cf1-bcb8-9eeca6e7e8a0",
   "metadata": {},
   "source": [
    "## *Application stack*"
   ]
  },
  {
   "cell_type": "markdown",
   "id": "4327dc2a-a71d-470d-a14c-3be450468ff2",
   "metadata": {},
   "source": [
    "## Système d'exploitation"
   ]
  },
  {
   "cell_type": "markdown",
   "id": "2d351f3a-50b5-4381-a450-9151665cfda6",
   "metadata": {},
   "source": [
    "## Langages de programmation"
   ]
  },
  {
   "cell_type": "markdown",
   "id": "56f3e59d-20e3-441c-b10e-2b0c2d4289ef",
   "metadata": {},
   "source": [
    "## Logiciels"
   ]
  },
  {
   "cell_type": "code",
   "execution_count": null,
   "id": "ea2eeff3-71eb-4f37-b38f-4513cd0a6c39",
   "metadata": {},
   "outputs": [],
   "source": []
  }
 ],
 "metadata": {
  "kernelspec": {
   "display_name": "Python 3 (ipykernel)",
   "language": "python",
   "name": "python3"
  },
  "language_info": {
   "codemirror_mode": {
    "name": "ipython",
    "version": 3
   },
   "file_extension": ".py",
   "mimetype": "text/x-python",
   "name": "python",
   "nbconvert_exporter": "python",
   "pygments_lexer": "ipython3",
   "version": "3.9.2"
  }
 },
 "nbformat": 4,
 "nbformat_minor": 5
}
