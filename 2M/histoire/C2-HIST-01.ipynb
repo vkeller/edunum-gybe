{
 "cells": [
  {
   "cell_type": "markdown",
   "id": "a536c4f7-3022-4d3d-8c50-6195a714dff3",
   "metadata": {},
   "source": [
    "# C2-HIST-01 : Préhistoire de l'informatique"
   ]
  },
  {
   "cell_type": "markdown",
   "id": "206e206f-e3ee-45b6-9e32-e409a3837ea3",
   "metadata": {},
   "source": [
    "## Les machines à tisser Jacquard\n",
    "\n",
    "    L'innovation apportée par les cartes perforées de Jacquard dans l'automatisation des tâches de tissage\n",
    "    L'impact des machines à tisser Jacquard sur le développement ultérieur des concepts de programmation et de traitement automatique de l'information\n",
    "\n",
    "\n",
    "\n",
    "## Les prémices de l'informatique\n",
    "\n",
    "    Les ancêtres des ordinateurs\n",
    "        L'abacus et son rôle dans le calcul et la manipulation des données\n",
    "        Les premiers dispositifs de calcul mécaniques tels que l'astrolabe et le calculateur d'Anticythère\n",
    "\n",
    "    La machine analytique de Charles Babbage\n",
    "        Biographie et contributions de Charles Babbage à l'histoire de l'informatique\n",
    "        Les principes fondamentaux de la machine analytique et son influence sur les ordinateurs modernes\n",
    "\n",
    "    Le rôle d'Ada Lovelace\n",
    "        La contribution d'Ada Lovelace à la programmation de la machine analytique\n",
    "        L'importance de son travail dans le développement des premiers concepts de programmation informatique\n",
    "\n",
    "## Les précurseurs de l'informatique moderne\n",
    "\n",
    "    Les avancées dans la théorie de l'information\n",
    "        Les contributions de George Boole à la logique mathématique et son impact sur les fondements théoriques de l'informatique\n",
    "        L'importance des travaux de Claude Shannon sur la théorie de l'information\n",
    "\n",
    "    Les premiers calculateurs électroniques\n",
    "        Les réalisations de Konrad Zuse et son \"Z3\", considéré comme le premier ordinateur programmable fonctionnel\n",
    "        L'impact des premiers calculateurs électroniques sur le développement ultérieur de l'informatique\n",
    "\n",
    "## Conclusion\n",
    "\n",
    "    Récapitulation des éléments clés de l'histoire de l'informatique avant 1937\n",
    "    Discussion sur l'impact de ces premières innovations sur l'évolution ultérieure de l'informatique\n"
   ]
  },
  {
   "cell_type": "code",
   "execution_count": null,
   "id": "acc90810-33be-4a1d-bab3-487e8524949f",
   "metadata": {},
   "outputs": [],
   "source": []
  }
 ],
 "metadata": {
  "kernelspec": {
   "display_name": "Python 3 (ipykernel)",
   "language": "python",
   "name": "python3"
  },
  "language_info": {
   "codemirror_mode": {
    "name": "ipython",
    "version": 3
   },
   "file_extension": ".py",
   "mimetype": "text/x-python",
   "name": "python",
   "nbconvert_exporter": "python",
   "pygments_lexer": "ipython3",
   "version": "3.9.2"
  }
 },
 "nbformat": 4,
 "nbformat_minor": 5
}
