{
 "cells": [
  {
   "cell_type": "markdown",
   "id": "36c4a982-a7b6-447a-84c0-ca8b7a8e4472",
   "metadata": {},
   "source": [
    "![vieux2](images/vieux2.png \"test to image\")\n",
    "\n",
    "# TP2-ESDN-02 : L'Art et le Numérique"
   ]
  },
  {
   "cell_type": "markdown",
   "id": "82287aa2-2823-4b64-9965-bbcf2de61bed",
   "metadata": {},
   "source": [
    "## Objectifs pédagogiques\n",
    "\n",
    "- Connaître les principales et principaux artistes du *digital art*\n",
    "- Connaître les principales techniques utilisées\n",
    "- Créer une oeuvre d'art numérique et la présenter \n",
    "- illustrer quelques enjeux sociaux de l'art numérique"
   ]
  },
  {
   "cell_type": "markdown",
   "id": "1410216d-8925-4887-98f7-9d2db4633052",
   "metadata": {},
   "source": [
    "## Introduction - Matthieu Gafsou\n",
    "\n",
    "![chimere03](images/chimere03.png \"Matthieu Gafsou - Chimère 03\")\n",
    "\n",
    "### Artiste\n",
    "\n",
    "Matthieu Gafsou (CH/F, né en 1981) est un photographe romand, qui vit et travaille à Lausanne. Après avoir obtenu un Master ès Lettres à l’Université de Lausanne, il a étudié la photographie à l’École d’arts appliqués de Vevey. Il a participé à de nombreuses expositions collectives et individuelles, et a publié sept livres. En 2018, l’exposition H+ est l’un des temps forts des Rencontres de la Photographie d’Arles qui fait ensuite le tour du monde (Chine, Australie, Italie, Irlande, Espagne, Suisse, etc.). En 2022, le projet Vivants est présenté in extenso au musée de Pully ainsi qu’à Paris Photo où il gagne le prix de la maison Ruinart. Matthieu Gafsou enseigne depuis plusieurs années à l’École cantonale d’art de Lausanne (ECAL).\n",
    "\n",
    "### Oeuvre\n",
    "\n",
    "Il s'agit de *Chimères n°03*, de la série *Chimères*, 2023\n",
    "\n",
    "#### Description\n",
    "\n",
    "- portrait d’homme en buste\n",
    "- moitié du visage dans l’ombre\n",
    "- fort contraste clair-obscur\n",
    "- regard au loin, hors cadre\n",
    "- quelle expression ?\n",
    "- front porte large cicatrice\n",
    "- arrière-plan indéfini, plongé dans le noir\n",
    "\n",
    "#### Analyse\n",
    "\n",
    "- visage fermé, dans ses pensées\n",
    "- homme d’âge mur qui semble souffrir, marques visibles et étranges sur son front\n",
    "- réalisme du rendu renvoie à portrait photographique\n",
    "\n",
    "#### Questions\n",
    "\n",
    "- Que vous évoque le titre **Chimère 03**\n",
    "\n",
    "#### Réponses\n",
    "\n",
    "- Chimère : monstre fantastique // rêve, songe, imaginaire, illusion\n",
    "- Comment comprendre la numérotation (ici n°3) ?\n",
    "    - Évoque la série\n",
    "    - Œuvre qui s’inscrit donc dans un ensemble plus large\n",
    "    - Numérotation apporte élément impersonnel\n",
    "    - On pourrait s’attendre à un titre qui donne une information sur la personne portraiturée. Ici, aucune information sur l’homme.\n",
    "\n",
    "### Conclusion générale\n",
    "\n",
    "- L’homme n’existe pas, il ne s’agit pas d’une photographie, mais d’une image générée avec dall-e, soit une image construite avec une intelligence artificielle à partir de lots d’images que le système a traité dans son apprentissage\n",
    "- Aspect photoréaliste ou hyperréaliste\n",
    "    - Trompe le-la spectateur-rice\n",
    "    - Illusion de réel\n",
    "    - Mais titre indique que le monde représenté dans la série de l’artiste relève de la fiction\n",
    "    - Chimère, comme une illusion, a tous les effets du réel, invite à y croire\n",
    "- L’image a été générée, mais l’œuvre finale est bien matérielle : il s’agit d’une impression numérique de 25 x 25 cm (très petit format) qui exige des spectateurs de s’approcher\n",
    "\n",
    "### Contexte\n",
    "\n",
    "L’œuvre Chimères n°03 fait partie de la série Chimères, 2023 que Mathtieu Gafsou a produite pour l’exposition « Techno-mondes » qui a été présentée en plein air, dans un champ devant la bibliothèque cantonale et universitaire à l’UNIL.\n",
    "\n",
    "![chimeres](images/chimeres.png \"Ensemble de l'oeuvre Chimères de Matthieu Gafsou en 2023 devant la BCU de Lausanne\")\n",
    "\n",
    "#### Question 2\n",
    "\n",
    "Que souhaite montrer Matthieu Gafsou avec son installation *Chimères* ? \n",
    "\n",
    "![chimeres02](images/chimeres02.png \"Ensemble de l'oeuvre Chimères de Matthieu Gafsou en 2023 devant la BCU de Lausanne\")\n",
    "\n",
    "![chimeres03](images/chimeres03.png \"Ensemble de l'oeuvre Chimères de Matthieu Gafsou en 2023 devant la BCU de Lausanne\")\n",
    "\n",
    "- Urgence écologique\n",
    "- Quel monde laisse-t-on aux générations futures ?\n",
    "- Futur hyper-technologique possible sans considérer l’impact écologique des machines ?\n",
    "- La série Chimères est un récit formé d’œuvres de petits formats (25 x 25 cm) et de eux œuvres de dimensions monumentales (2 x 2m)\n",
    "- Les spectateurs sont ainsi contraints de s’approcher de certaines images et de reculer face à d’autres, de modifier leur regard en fonction des dimensions matérielles des œuvres."
   ]
  },
  {
   "cell_type": "markdown",
   "id": "2a6b4c03-0a8e-41b8-9bad-1283da8ea6b8",
   "metadata": {},
   "source": [
    "## Historique\n",
    "\n",
    "Un petit aperçu historique du **digital art** (ou *art numérique*) est présenté dans cette section. \n",
    "\n",
    "Les historiens de l'art numérique citent quatre étapes qui ont conduit à l'art génératif que nous connaissons aujourd'hui.\n",
    "\n",
    "1. 1950 - 1960 : les machines de Tinguely\n",
    "1. 1960 - 1990 : le *computer art*\n",
    "1. 1990 - 2015 : l'essort du *net art* avec la démocratisation de l'Internet\n",
    "1. 2015 - aujourd'hui : l'intelligence artificielle, l'apprentissage automatique et l'art génératif"
   ]
  },
  {
   "cell_type": "markdown",
   "id": "aff48b03-4e8c-4e49-93f2-204a0157d12b",
   "metadata": {},
   "source": [
    "### 1950 - 1960 : Les machines mécaniques\n",
    "\n",
    "Les années 1950, c'est l'essor des **machines de Tinguely**.\n",
    "\n",
    "![tinguely](images/tinguely.png \"Meta-Matic N° 10\") \n",
    "\n",
    "L'image représente la machine *Meta-Matic N° 10* de Jean Tinguely, artiste suisse né en 1925 et mort en 1991. C'est une sculpture mécanique animée. Elle est conservée au Musée Tinguely de Bâle. "
   ]
  },
  {
   "cell_type": "markdown",
   "id": "67438afa-285b-412c-8a47-38f4747c870f",
   "metadata": {},
   "source": [
    "Sites internet :\n",
    "\n",
    "- this person does not exist : https://thispersondoesnotexist.com/\n",
    "- outil Duffision bee : https://diffusionbee.com/\n",
    "- pour les prompts : https://lexica.art/\n",
    "- gimp : https://www.gimp.org\n",
    "- traduction fra-eng : https://translate.google.ch \n",
    "- oeuvre Chimère de Matthieu Gafsou : https://wp.unil.ch/techno-mondes"
   ]
  },
  {
   "cell_type": "code",
   "execution_count": null,
   "id": "624c94af-e9ce-4056-a599-567950f58916",
   "metadata": {},
   "outputs": [],
   "source": []
  }
 ],
 "metadata": {
  "kernelspec": {
   "display_name": "Python 3 (ipykernel)",
   "language": "python",
   "name": "python3"
  },
  "language_info": {
   "codemirror_mode": {
    "name": "ipython",
    "version": 3
   },
   "file_extension": ".py",
   "mimetype": "text/x-python",
   "name": "python",
   "nbconvert_exporter": "python",
   "pygments_lexer": "ipython3",
   "version": "3.9.2"
  }
 },
 "nbformat": 4,
 "nbformat_minor": 5
}
