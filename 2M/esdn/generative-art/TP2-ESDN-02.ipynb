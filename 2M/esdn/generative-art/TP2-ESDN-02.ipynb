{
 "cells": [
  {
   "cell_type": "markdown",
   "id": "36c4a982-a7b6-447a-84c0-ca8b7a8e4472",
   "metadata": {},
   "source": [
    "![vieux2](images/vieux2.png \"test to image\")\n",
    "\n",
    "# TP2-ESDN-02 : L'Art et le Numérique"
   ]
  },
  {
   "cell_type": "markdown",
   "id": "67438afa-285b-412c-8a47-38f4747c870f",
   "metadata": {},
   "source": [
    "Sites internet :\n",
    "\n",
    "- outil Duffision bee : https://diffusionbee.com/\n",
    "- pour les prompts : https://lexica.art/\n",
    "- gimp : https://www.gimp.org\n",
    "- traduction fra-eng : https://translate.google.ch "
   ]
  },
  {
   "cell_type": "code",
   "execution_count": null,
   "id": "624c94af-e9ce-4056-a599-567950f58916",
   "metadata": {},
   "outputs": [],
   "source": []
  }
 ],
 "metadata": {
  "kernelspec": {
   "display_name": "Python 3 (ipykernel)",
   "language": "python",
   "name": "python3"
  },
  "language_info": {
   "codemirror_mode": {
    "name": "ipython",
    "version": 3
   },
   "file_extension": ".py",
   "mimetype": "text/x-python",
   "name": "python",
   "nbconvert_exporter": "python",
   "pygments_lexer": "ipython3",
   "version": "3.9.2"
  }
 },
 "nbformat": 4,
 "nbformat_minor": 5
}
