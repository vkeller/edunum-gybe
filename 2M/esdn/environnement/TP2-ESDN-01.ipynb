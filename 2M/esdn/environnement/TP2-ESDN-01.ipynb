{
 "cells": [
  {
   "cell_type": "markdown",
   "id": "33bbd543-c1d3-4f61-9b23-c46d8a6169cc",
   "metadata": {},
   "source": [
    "![environnement](images/environnement.jpg \"Environnement\")\n",
    "\n",
    "# TP2-ESDN-01 : L'environnement et le numérique"
   ]
  },
  {
   "cell_type": "markdown",
   "id": "6ce08c43-66c6-48d5-9bdd-922427a16208",
   "metadata": {},
   "source": [
    "## Objectifs pédagogiques\n",
    "\n",
    "- Prendre conscience de la matérialité du numérique et de ses conséquences"
   ]
  },
  {
   "cell_type": "markdown",
   "id": "ee062fbb-4a85-4c92-a389-e29dfb2b1663",
   "metadata": {},
   "source": [
    "## Impact environnemental du numérique"
   ]
  },
  {
   "cell_type": "markdown",
   "id": "a3d70f90-5877-4a67-89c9-be2594975281",
   "metadata": {},
   "source": [
    "### Définition : Impact environnemental\n",
    "\n",
    "L'**impact environnemental** est l'ensemble des changements fonctionnels de l'environnement engendrés par l'activité humaine ou non. On peut citer cinq grands éléments :\n",
    "\n",
    "- les émissions de gazs à effet de serre (GES)\n",
    "- les atteintes à la biodiversité\n",
    "- les diverses pollutions (des eaux, de la terre, etc..)\n",
    "- l'utilisation de l'eau douce\n",
    "- la déforestation"
   ]
  },
  {
   "cell_type": "markdown",
   "id": "93248310-6a12-442e-b42e-81b797b2afbb",
   "metadata": {},
   "source": [
    "### Quels sont les principaux secteurs à impact environnemental ?\n",
    "\n",
    "- l'alimentation\n",
    "- le transport motorisé (voitures, bus, trains, bateaux)\n",
    "- le transport aérien\n",
    "- le logement : de sa construction à sa rénovation en passant par son chauffage\n",
    "- les investissements financiers\n",
    "- la production de vêtements"
   ]
  },
  {
   "cell_type": "markdown",
   "id": "67843f55-02f2-4a88-a9f1-122089689654",
   "metadata": {},
   "source": [
    "## Exercice 1\n",
    "\n",
    "Question : A votre avis, le numérique a-t-il un impact FAIBLE ou FORT sur l'environnement ?"
   ]
  },
  {
   "cell_type": "markdown",
   "id": "16b20ca8-fc0d-44cc-a419-412e2a76deef",
   "metadata": {},
   "source": [
    "## Omniprésence du numérique\n",
    "\n",
    "Pour appréhender l'omniprésence du numérique, il peut être intéressant de s'interroger sur son usage personnel du smartphone. Tenter de répondre à un certain nombre de questions permet de focaliser sur cette utilisation"
   ]
  },
  {
   "cell_type": "markdown",
   "id": "00b25c3c-fdfe-4143-8745-bf2b9449ea14",
   "metadata": {},
   "source": [
    "### Exercice 2 \n",
    "\n",
    "Avec un regard réflexif sur votre propre usage du smartphone, répondez - honnêtement - aux questions suivantes :\n",
    "\n",
    "- Combien de temps par jour ?\n",
    "- Pour faire quoi ? Jouer ?, Réseaux sociaux ? Autres ?"
   ]
  },
  {
   "cell_type": "markdown",
   "id": "6d791a50-19a3-4130-b254-8242bf747b4c",
   "metadata": {},
   "source": [
    "### Ce qu'en disent les jeunes (étude JAMES 2021)\n",
    "\n",
    "![james](images/james.png \"Etude James\")\n",
    "\n",
    "Il est tout à fait possible de vérifier le temps réel passé sur son smartphone par jour :\n",
    "\n",
    "- iOS (récent) : `Réglages -> Temps d'écran`\n",
    "- Android (récent) : `Paramètres -> Bien être numérique et contrôle parental`"
   ]
  },
  {
   "cell_type": "markdown",
   "id": "9ebaf09e-543d-4230-b81b-0c15ecebdc01",
   "metadata": {},
   "source": [
    "## Quantité d'objets connectés\n",
    "\n",
    "La quantité d'objets connectés ne cesse d'augmenter. Le modèle `IoT` (*Internet of Things*) permet d'apprenhender - et de chiffrer - cette explosion d'objets connectés. Ce ne sont plus que des ordinateurs mais d'autres appareils qui ne l'étaient pas auparavent."
   ]
  },
  {
   "cell_type": "markdown",
   "id": "da9db481-b8e7-4081-a17c-09a0b2e6fac1",
   "metadata": {},
   "source": [
    "### Exercice 3\n",
    "\n",
    "Interrogez-vous sur la quantité d'objets connectés auxquels vous avez accès à la maison, au gymnase, dans vos loisirs\n",
    "\n",
    "- télévisions\n",
    "- ordinateurs\n",
    "- laptops\n",
    "- consoles de jeux\n",
    "- domotique\n",
    "- électro-ménager connecté (exemple : frigo)\n",
    "- etc.."
   ]
  },
  {
   "cell_type": "markdown",
   "id": "23ce2cd5-f518-488f-8fdd-3b5f0c663b0a",
   "metadata": {},
   "source": [
    "### A côté de mes objets connectés\n",
    "\n",
    "Qui dit objets connectés dit aussi réseau. Un réseau demande une infrastructure permettant de gérer d'importantes quantités d'objets connectés, d'utilisateurs différents et de services. Cela a un impact environnemental aussi.\n",
    "\n",
    "#### Infrastructure\n",
    "\n",
    "![datacenter](images/datacenter.png \"image d'un datacenter de Meta\")\n",
    "\n",
    "Un réseau requiert des **serveurs** dont la consommation électrique demande parfois l'équivalent d'une petite ville. Il faut aussi prendre en compte l'énergie grise, soit celle nécessaire à la construction et au remplacement des différents ordinateurs qui forment les serveurs.\n",
    "\n",
    "#### Câbles sous-marins\n",
    "\n",
    "![cables](images/cables.png \"Cables sous-marin\")\n",
    "\n",
    "Pour interconnecter les différents réseaux (internet = *réseau des réseaux*), notamment entre les différents continents, on recourt à un maillage de câbles sous-marins. Ces câbles sous-marins sont construits en fibre de verre et en cuivre.\n",
    "\n",
    "#### Satellites\n",
    "\n",
    "![satellites](images/satellites.png \"Poubelles à satellites\")\n",
    "\n",
    "Lorsque la connection n'est pas possible par **réseau filaire**, alors on recourt à une connection par satellites. Il existe des milliers de satellites (civils et militaires), géostationnaires ou non, qui ont été envoyés par l'homme depuis le premier Sputnik. L'impact environnemental du lancement d'un satellite, de sa maintenance et de sa destruction si possible est énorme."
   ]
  },
  {
   "cell_type": "markdown",
   "id": "9efd9d49-deab-4de7-9533-fc579fc08706",
   "metadata": {},
   "source": [
    "## Matériaux rares nécessaires\n",
    "\n",
    "![tpe](images/tpe.png \"Tableau Périodique des éléments\")\n",
    "\n",
    "Pour construire les composants électronique d'un appareil numérique comme un ordinateur ou un smartphone, il faut beaucoup de matériaux rares qui proviennent de mines. "
   ]
  },
  {
   "cell_type": "markdown",
   "id": "9c6b00d8-e4b7-4291-8bd2-fe42d37e55f3",
   "metadata": {},
   "source": [
    "### Composants d'un smartphone\n",
    "\n",
    "Le graphique présente les éléments nécessaires à la construction d'un smartphone en séparant les composants principaux :\n",
    "\n",
    "- dalle tactile + vitre\n",
    "- écran\n",
    "- batterie\n",
    "- boîtier\n",
    "- carte mère et composants électroniques\n",
    "\n",
    "![composants](images/composants.png \"Composants d'un smartphone\")\n",
    "\n",
    "Le graphique suivant présente le pourcentage de chaque élément dans un smartphone\n",
    "\n",
    "![matieres](images/matieres.png \"Matières premières pour un smartphone\")"
   ]
  },
  {
   "cell_type": "markdown",
   "id": "01ad93f8-b774-4547-a773-044ef38ecd11",
   "metadata": {},
   "source": [
    "### Où ce trouvent les éléments nécessaires ?\n",
    "\n",
    "Ces différents éléments se trouvent dans la croûte terrestre mais ils sont inégalement répartis sur la surface de la Terre.\n",
    "\n",
    "#### Le cuivre (15 % d'un smartphone)\n",
    "\n",
    "Voici la mine de Palabora en Afrique du Sud. Elle produit a produit 4.1 millions de tonnes de cuivre en 25 ans. La profondeur du \"pit* (la mine à ciel ouvert) est de 800 mètres. La Tour Eiffel est représentée à l'échelle\n",
    "\n",
    "![cuivre](images/cuivre.png \"Mine de Palabora\")\n",
    "\n",
    "#### Le fer (3 % d'un smartphone)\n",
    "\n",
    "Voici la mine de Kiruna en Suède. Il s'agit de la plus grande mine d'extraction de fer du monde. On y excave 29 millions de tonne de minerai chaque année. Pour pouvoir suivre le filon, il a fallu déplacer la ville de Kiruna de près de 4 kilomètres. La ville de Kiruna représente environ 20'000 personnes, pour la plupart des employés de la mine.\n",
    "\n",
    "![fer](images/fer.png \"Mine de Kiruna\")"
   ]
  },
  {
   "cell_type": "markdown",
   "id": "0ca2022d-8c15-4c7d-a684-d63738b10272",
   "metadata": {},
   "source": [
    "## Enjeux écologiques\n",
    "\n",
    "L'extraction de ces éléments nécessaires à la création de toutes les parties du numérique mondial ont un très fort impact sur les systèmes écologiques là où elle se fait. \n",
    "\n",
    "### Exploitation des fonds marins\n",
    "\n",
    "![fonds](images/fondsmarins.png \"Exploitation des fonds marins\")\n",
    "\n",
    "### Rupture du barrage de Bento Rodriguez\n",
    "\n",
    "En 2015, le barrage de Bento Rodriguez au Brésil s'est rompu. Il y eu 20 morts et 20 disparus directs. Le déversement des boues d'extraction de la mine de Bento dans le fleuve a tué immédiatement ou conséquemment des millions de poissons. Les habitants qui vivaient sur ses rives l'appellent aujourd'hui *Rio Morto* (Rivière Morte) : plus aucun poisson ne remontent dans les filets. \n",
    "\n",
    "Voici le déversement des boues d'extraction dans l'Océan Atlantique :\n",
    "\n",
    "![Bento](images/bento.png \"Rupture du barrage de Bento Rodriguez au Brésil\")\n",
    "\n",
    "### Rupture du barrage de Brumadhino \n",
    "\n",
    "En 2019, une catastrophe similaire à Bento Rodriguez eut lieu à Brumadhino au Brésil. 115 personnes trouvèrent la mort et on compta 248 disaprus. \n",
    "\n",
    "![Brumadhino](images/brumadhino.png \"Rupture du barrage de Brumadhino au Brésil\")\n",
    "\n",
    "### Rivière et nappes détruite à Meiganga\n",
    "\n",
    "Une entreprise minière étrangère est venue exploiter un filon d'or à Meiganga au Cameroun. L'exploitation a duré une vingtaine d'années. Lorsque l'entreprise s'est retirée, elle a inondé l'entier des puits et fosses de forage avec les boues polluées. La rivière qui amenait l'eau a été obstruée la rendant morte en terme de biodiversité. \n",
    "\n",
    "![Meiganga](images/meiganga.png \"Mine de Meiganga au Cameroun\")"
   ]
  },
  {
   "cell_type": "markdown",
   "id": "94bf1844-5e07-4cb5-b765-18b7365cc359",
   "metadata": {},
   "source": [
    "## Réponses personnelles et sociétales\n",
    "\n",
    "Quelles sont les réponses que l'on peut amener au niveau personnel ? Et au niveau sociétal ?\n",
    "\n",
    "### Au niveau personnel\n",
    "\n",
    "Il est possible de réduire sa consommation en suivant quelques directions simples :\n",
    "\n",
    "- Internet fixe plutôt que la 4G/5G\n",
    "- Limiter la consommation énergétique des objets connectés\n",
    "- Prolonger la durée de vie des objets connectés\n",
    "- Connaître l'empreinte environnementale des services internet"
   ]
  },
  {
   "cell_type": "markdown",
   "id": "5e8575d7-79e1-4a22-9426-e7fadb1b78e0",
   "metadata": {},
   "source": [
    "### Empreinte environnementale des services internet\n",
    "\n",
    "1. Résolution des vidéos (4K n'apporte strictement rien sur un smartphone)\n",
    "1. Désinstallation des applications non utilisées\n",
    "1. Communication par texte et audio plutôt que par vidéo\n",
    "1. Prise de conscience du temps d'écran\n",
    "\n",
    "![utilisation](images/utilisation.png \"Utilisation du smartphone responsable\")"
   ]
  },
  {
   "cell_type": "code",
   "execution_count": null,
   "id": "59f2a475-142b-44bb-9980-55a830a62bd6",
   "metadata": {},
   "outputs": [],
   "source": []
  }
 ],
 "metadata": {
  "kernelspec": {
   "display_name": "Python 3 (ipykernel)",
   "language": "python",
   "name": "python3"
  },
  "language_info": {
   "codemirror_mode": {
    "name": "ipython",
    "version": 3
   },
   "file_extension": ".py",
   "mimetype": "text/x-python",
   "name": "python",
   "nbconvert_exporter": "python",
   "pygments_lexer": "ipython3",
   "version": "3.9.2"
  }
 },
 "nbformat": 4,
 "nbformat_minor": 5
}
