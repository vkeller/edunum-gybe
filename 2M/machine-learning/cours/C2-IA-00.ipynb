{
 "cells": [
  {
   "cell_type": "markdown",
   "id": "e2ba3992-6216-4419-9cde-5f498fd922da",
   "metadata": {},
   "source": [
    "![brain](images/brain.jpg \"Cerveau - intelligence\")\n",
    "\n",
    "# C2-IA-00 : Introduction à l'intelligence artificielle"
   ]
  },
  {
   "cell_type": "markdown",
   "id": "5472ebf7-a6d9-489f-8c31-f35716c33b96",
   "metadata": {},
   "source": [
    "## Objectifs pédagogiques\n",
    "\n",
    "- comprendre les étapes basiques de l'intelligence\n",
    "    - avec l'exemple de la classification"
   ]
  },
  {
   "cell_type": "markdown",
   "id": "ef38a8cf-e764-40ab-a327-39b721da0e39",
   "metadata": {},
   "source": [
    "## Exemple introductif\n",
    "\n",
    "Voici un ensemble de chiens :\n",
    "\n",
    "| Chien 1 | Chien 2 | Chien 3 | Chien 4 |\n",
    "|---|---|---|---|\n",
    "| ![chien1](chiens/chien1.png \"ch1\") | ![chien2](chiens/chien2.png \"ch2\") | ![chien3](chiens/chien3.png \"ch3\") | ![chien4](chiens/chien4.png \"ch4\") |\n",
    "\n",
    "Voici un ensemble de chats :\n",
    "\n",
    "| Chat 1 | Chat 2 | Chat 3 | Chat 4 |\n",
    "|---|---|---|---|\n",
    "| ![chat1](chats/chat1.png \"ch1\") | ![chat2](chats/chat2.png \"ch2\") | ![chat3](chats/chat3.png \"ch3\") | ![chat4](chats/chat4.png \"ch4\") |\n",
    "\n",
    "### Questions\n",
    "\n",
    "- Comment pouvez-vous dire à coup sûr de quoi on parle (un **chien** ou un **chat**) ?\n",
    "    - quelles sont les caractéristiques que vous utilisez ?\n",
    "    - quelles sont les indices de certitude que vous avez ?\n",
    "- Comment fonctionne votre cerveau pour distinguer un chat d'un chien ?\n",
    "\n",
    "### Ensemble de test\n",
    "\n",
    "De quel animal s'agit-il ?\n",
    "\n",
    "| ? | ? | ? | ? |\n",
    "|---|---|---|---|\n",
    "| ![animal1](tests/animal1.png \"an1\")  | ![animal2](tests/animal2.png \"an2\")  | ![animal3](tests/animal3.png \"an3\")  | ![animal4](tests/animal4.png \"an4\")  |\n",
    "\n",
    "### Conclusion\n",
    "\n",
    "- Les deux premiers ensembles de chiens et de chats avaient été préalablement étiquetés (labelisés)\n",
    "- L'ensemble de test contient des animaux qui ne sont pas connus du système d'intelligence : un chien qui se rapproche d'un renard, un fennec, un bébé chat et un oiseau."
   ]
  },
  {
   "cell_type": "markdown",
   "id": "e8993b84-4456-45f5-8ecb-987afe178dd4",
   "metadata": {},
   "source": [
    "## Google Teachable machine\n",
    "\n",
    "On peut essayer de faire apprendre une machine à reconnaître (classifier) des animaux : c'est la [Google Teachable Machine](https://teachablemachine.withgoogle.com/)"
   ]
  },
  {
   "cell_type": "code",
   "execution_count": null,
   "id": "76a20d59-ace5-4d6f-9f8e-def3153c1cb6",
   "metadata": {},
   "outputs": [],
   "source": []
  }
 ],
 "metadata": {
  "kernelspec": {
   "display_name": "Python 3 (ipykernel)",
   "language": "python",
   "name": "python3"
  },
  "language_info": {
   "codemirror_mode": {
    "name": "ipython",
    "version": 3
   },
   "file_extension": ".py",
   "mimetype": "text/x-python",
   "name": "python",
   "nbconvert_exporter": "python",
   "pygments_lexer": "ipython3",
   "version": "3.9.2"
  }
 },
 "nbformat": 4,
 "nbformat_minor": 5
}
