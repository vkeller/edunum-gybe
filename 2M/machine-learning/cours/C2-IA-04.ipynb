{
 "cells": [
  {
   "cell_type": "markdown",
   "id": "0825803b-8543-4015-8f19-b3eba70f2486",
   "metadata": {},
   "source": [
    "![RNN](images/rnn.png \"Neural Network\")\n",
    "\n",
    "# C2-IA-04 : Réseau de neurones artificiels"
   ]
  },
  {
   "cell_type": "markdown",
   "id": "62e7a85c-1116-4f07-a406-d9ad92a784f3",
   "metadata": {},
   "source": [
    "## Objectifs pédagogiques\n",
    "\n",
    "- connaître les bases du modèle de neurone artificiel\n",
    "- savoir citer les constitutifs d'un neurone artificiel\n",
    "- connaître les constitutifs d'un réseau de neurones artificiels"
   ]
  },
  {
   "cell_type": "markdown",
   "id": "1221302b-119f-48e7-93f6-3636f83ba9d6",
   "metadata": {},
   "source": [
    "## Neurone biologique\n",
    "\n",
    "Le point de départ des travaux sur le Perceptron de McCulloch et Pitts sont le **neurone biologique**, soit la brique fondamentale, l'unité fonctionnelle de base constitutive du **système nerveux central**.\n",
    "\n",
    "![neuronebiologique1](images/neuronebiologique1.png \"Schéma d'un neurone biologique\")\n",
    "\n",
    "Celui-ci est constitué principalement de :\n",
    "\n",
    "1. un noyau cellulaire\n",
    "1. un axone (émetteur) : c'est lui qui conduit le signal électrique vers les synapses\n",
    "1. des synapses : c'est le lien entre deux neurones\n",
    "1. des dentrites (récepteurs) : c'est eux qui conduisent le signal reçu vers le noyau du neurone\n",
    "\n",
    "Un système nerveux central (un cerveau) n'est donc rien de plus qu'un ensemble de neurones interconnectés entre eux.\n",
    "\n",
    "(pour plus de détails, voyez votre cours de biologie)"
   ]
  },
  {
   "cell_type": "markdown",
   "id": "e2fc4fd9-e6fd-45cf-8309-46f337589f33",
   "metadata": {},
   "source": [
    "## Modèle de neurone biologique\n",
    "\n",
    "Un **modèle** d'un objet, d'un phénomène ou d'un concept est une **représentation mathématique qui l'imite**. Le modèle doit imiter les traits les plus importants de l'objet que l'on souhaite modéliser. Les détails de fonctionnement sont laissés de côté.\n",
    "\n",
    "Un **neurone biologique** est constitué d'un noyau, de synapses, axone et dentrites, eux-même constitués de membranes, de matériel génétique (ADN), et des éléments constitutifs des **cellules**. Chaque élément constitutif des cellules et constitué de molécules (**biomolécules**) comme les lipides, glucides, protéines et acide nucléique. Toutes ces molécules sont constituées d'**atomes**, eux-même constitués de **protons**, de **neutrons** et d'**électrons**, eux-mêmes constitués de **quarks**. \n",
    "\n",
    "Si l'on veut représenter le fonctionnement macroscopique d'un neurone, alors il est impossible de modéliser l'entier du fonctionnement. On se concentre donc sur le **fonctionnement** du neurone. \n",
    "\n",
    "C'est ce que l'on appelle un **modèle de neurone biologique**.\n",
    "\n",
    "![neuronebiologique2](images/neuronebiologique2.png \"Schéma d'un modèle de neurone biologique\")\n",
    "\n",
    "Le modèle de neurone biologique le plus simple est le **neurone formel** (ou neurone de McCulloch et Pitts). Il est constitué de 5 éléments :\n",
    "\n",
    "1. $m$ entrées $x_1, ..., x_m$\n",
    "1. $m$ poids synaptiques $\\omega_1, ..., \\omega_m$ associés aux $m$ entrées et compris entre $[0 \\leq \\omega_i < 1]$ \n",
    "1. une fonction de somme $\\sum_{i = 1}^m \\omega_i x_i$\n",
    "1. un seuil $\\omega_0$ fixé à une valeur arbitraire généralement de $1$.\n",
    "1. une fonction d'activation du neurone $\\Phi$\n",
    "1. une valeur de sortie $y$\n",
    " \n",
    "Les mathématiques nécessaires pour expliquer l'entier du neurone dépassent largement le cadre de ce cours d'informatique. \n",
    "\n",
    "![neuroneformel](images/neuroneformel.png \"Neurone formel de McCulloch et Pitts\")\n",
    "\n",
    "C'est ce modèle que l'on appelle **neurone artificiel** qui est utilisé dans les algorithmes d'apprentissage automatique."
   ]
  },
  {
   "cell_type": "markdown",
   "id": "27028a45-9195-4330-8607-f4c9e7dbf14d",
   "metadata": {},
   "source": [
    "## Réseau de neurones artificiels\n",
    "\n",
    "Une fois que le neurone est modélisé, on peut en connecter plusieurs ensembles. Les **sorties** des neurones deviennent les **entrées** d'autres neurones.\n",
    "\n",
    "C'est ce que l'on appelle un **réseau de neurones artificiels** (*Artifical Neural Network* ou *ANN* en anglais).\n",
    "\n",
    "![ANN](images/ANN.png \"Réseau de neurones artificiels\")\n",
    "\n",
    "Un réseau de neurones artificiels est constitué de :\n",
    "\n",
    "1. entrées $x_i$\n",
    "1. neurones cachés et interconnectés\n",
    "1. sorties $y_i$"
   ]
  },
  {
   "cell_type": "markdown",
   "id": "710657e1-4682-4718-a9bf-5ec00498976e",
   "metadata": {},
   "source": [
    "## Apprentissage profond\n",
    "\n",
    "L'apprentissage profond (*Deep Learning*) est un sous-domaine de l'intelligence artificielle. L'apprentissage profond est apparu à la fin des années 2000 lorsque:\n",
    "\n",
    "1. la puissance des ordinateurs a atteint ce qui était nécessaire pour exécuter des algorithmes complexes\n",
    "1. les ensembles de données suffisamment représentatifs ont été collectés (de façon légale ou non)\n",
    "1. ces mêmes ensembles de données étiquetés et leurs caractéristiques extraites.\n",
    "\n",
    "On peut dire que l'équation `Big Data + Large ANN + High Performance Computing = Deep learning` représente bien l'apprentissage profond.\n",
    "\n",
    "L'apprentissage profond utilise des réseaux de neurones artificiels étendus : le nombre de couches cachées est important.\n",
    "\n",
    "![ANN-DL](images/ANN-DL2.jpg \"Deep learning network\")"
   ]
  }
 ],
 "metadata": {
  "kernelspec": {
   "display_name": "Python 3 (ipykernel)",
   "language": "python",
   "name": "python3"
  },
  "language_info": {
   "codemirror_mode": {
    "name": "ipython",
    "version": 3
   },
   "file_extension": ".py",
   "mimetype": "text/x-python",
   "name": "python",
   "nbconvert_exporter": "python",
   "pygments_lexer": "ipython3",
   "version": "3.9.2"
  }
 },
 "nbformat": 4,
 "nbformat_minor": 5
}
