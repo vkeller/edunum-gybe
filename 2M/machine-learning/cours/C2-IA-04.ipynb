{
 "cells": [
  {
   "cell_type": "markdown",
   "id": "0825803b-8543-4015-8f19-b3eba70f2486",
   "metadata": {},
   "source": [
    "![RNN](images/rnn.png \"Neural Network\")\n",
    "\n",
    "# C2-IA-04 : Apprentissage profond"
   ]
  },
  {
   "cell_type": "markdown",
   "id": "62e7a85c-1116-4f07-a406-d9ad92a784f3",
   "metadata": {},
   "source": [
    "## Objectifs pédagogiques\n",
    "\n",
    "- connaître les éléments entrant en jeu dans le développement d'un algorithme d'apprentissage profond\n",
    "- conaître les réseaux de neurones artificiels"
   ]
  },
  {
   "cell_type": "markdown",
   "id": "1221302b-119f-48e7-93f6-3636f83ba9d6",
   "metadata": {},
   "source": [
    "## Neurone "
   ]
  },
  {
   "cell_type": "code",
   "execution_count": null,
   "id": "c1aab309-3d7c-4525-aa47-b59ce724d2d0",
   "metadata": {},
   "outputs": [],
   "source": []
  }
 ],
 "metadata": {
  "kernelspec": {
   "display_name": "Python 3 (ipykernel)",
   "language": "python",
   "name": "python3"
  },
  "language_info": {
   "codemirror_mode": {
    "name": "ipython",
    "version": 3
   },
   "file_extension": ".py",
   "mimetype": "text/x-python",
   "name": "python",
   "nbconvert_exporter": "python",
   "pygments_lexer": "ipython3",
   "version": "3.9.2"
  }
 },
 "nbformat": 4,
 "nbformat_minor": 5
}
