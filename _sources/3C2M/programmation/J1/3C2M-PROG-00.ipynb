{
 "cells": [
  {
   "cell_type": "markdown",
   "id": "42653624-35c2-490f-961a-25c01ffe9ac9",
   "metadata": {},
   "source": [
    "# 3C2M-00 : Introduction"
   ]
  },
  {
   "cell_type": "markdown",
   "id": "979bdc9f-5110-487d-b125-9f528bf02b44",
   "metadata": {},
   "source": [
    "## Objectifs\n",
    "\n",
    "- Mise à niveau pour le cours d'informatique en 2ème année d'école de maturité"
   ]
  },
  {
   "cell_type": "markdown",
   "id": "1f0d1960-382c-420c-a6aa-1abc2d095021",
   "metadata": {},
   "source": [
    "[![Jupyter Video](http://img.youtube.com/vi/i40d8-Hu4vM/0.jpg)](http://www.youtube.com/watch?v=i40d8-Hu4vM)"
   ]
  },
  {
   "cell_type": "code",
   "execution_count": null,
   "id": "478301b8-0aba-4886-ae06-c508b162beed",
   "metadata": {},
   "outputs": [],
   "source": []
  }
 ],
 "metadata": {
  "kernelspec": {
   "display_name": "Python 3 (ipykernel)",
   "language": "python",
   "name": "python3"
  },
  "language_info": {
   "codemirror_mode": {
    "name": "ipython",
    "version": 3
   },
   "file_extension": ".py",
   "mimetype": "text/x-python",
   "name": "python",
   "nbconvert_exporter": "python",
   "pygments_lexer": "ipython3",
   "version": "3.9.2"
  }
 },
 "nbformat": 4,
 "nbformat_minor": 5
}
