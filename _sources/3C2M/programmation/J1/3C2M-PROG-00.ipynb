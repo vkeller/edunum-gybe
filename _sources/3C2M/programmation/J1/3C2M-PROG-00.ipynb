{
 "cells": [
  {
   "cell_type": "markdown",
   "id": "42653624-35c2-490f-961a-25c01ffe9ac9",
   "metadata": {},
   "source": [
    "# 3C2M-PROG-00 : Introduction"
   ]
  },
  {
   "cell_type": "markdown",
   "id": "979bdc9f-5110-487d-b125-9f528bf02b44",
   "metadata": {},
   "source": [
    "## Objectifs\n",
    "\n",
    "- Mise à niveau pour le cours d'informatique en 2ème année d'école de maturité\n",
    "\n",
    "Le language de programmation pour ce cours sera le `Python3` . L'environnement de développement [Thonny](https://thonny.org/)"
   ]
  },
  {
   "cell_type": "markdown",
   "id": "2196a966-0817-4843-8ee7-8511dabb3a79",
   "metadata": {},
   "source": [
    "## Exercice 1 : Entrées - sorties\n",
    "\n",
    "Ecrivez un programme en qui :\n",
    "\n",
    "- demande le prénom de l'utilisateur\n",
    "- demande l'âge de l'utilisateur\n",
    "- Calcule l'année de naissance (année actuelle - âge)\n",
    "- écrit \"Bonjour Caroline, vous êtes né en 1975\""
   ]
  },
  {
   "cell_type": "markdown",
   "id": "1e4fb817-43f3-4929-9b6b-cb9302d5d2f3",
   "metadata": {},
   "source": [
    "## Exercice 2 : les tests conditionnels\n",
    "\n",
    "Reprendre le code de l'exercice 1 et le modifier en suivant la consigne suivante :\n",
    "\n",
    "- demande le genre de la personne (après le prénom et l'âge)\n",
    "- modifie la sortie en fonction du genre :\n",
    "    - si `f` : \"Bonjour Caroline, vous êtes née en 1975\"\n",
    "    - si `m` : \"Bonjour Frédéric, vous êtes né en 1975\"\n",
    "    - sinon : \"Bonjour Hamed, vous êtes né.e.x.s en 1975\""
   ]
  },
  {
   "cell_type": "markdown",
   "id": "efaf2fde-3826-458e-90fe-49337ef47836",
   "metadata": {},
   "source": [
    "## Exercice 3 : la boucle while\n",
    "\n",
    "Ecrivez le jeu du pendu avec des nombres :\n",
    "\n",
    "- choisir un nombre à trouver\n",
    "- initialiser une variable `trouve = False`\n",
    "- tant que le nombre n'est pas trouvé, demander à l'utilisateur d'en donner un.\n",
    "    - si le nombre est trouvé, afficher \"Bravo, vous avez trouvé !\" et changer la valeur de la variable `trouve = True`\n",
    "    - sinon, recommencer"
   ]
  },
  {
   "cell_type": "markdown",
   "id": "d5ca247a-3647-4228-a47e-62c2c36c4c2d",
   "metadata": {},
   "source": [
    "## Exercice 4 : le boucle for\n",
    "\n",
    "Reproduire l'image suivante à l'aide de la tortue. \n",
    "\n",
    "![fleur](images/fleur.png)\n",
    "\n",
    "Chacune des 40 pétales de la fleur est un parallèlogramme dont les angles sont 30° et 150°\n",
    "\n",
    "![parallelogramme](images/parallelogramme.png)\n",
    "\n",
    "Le stylo est de couleur verte et l'épaisseur vaut `3`"
   ]
  },
  {
   "cell_type": "markdown",
   "id": "81f4cfbd-f3f6-4dc5-b5b6-7443d1ed6143",
   "metadata": {},
   "source": [
    "## Exercice 5 : les fonctions\n",
    "\n",
    "Reprenez le programme de l'exercice 1 (ou son corrigé). Modifiez-le en suivant la consigne suivante :\n",
    "\n",
    "- définir une fonction `afficher(prenom, age)` où les arguments `prenom` et `age` sont ceux qui ont été donné par l'utilisateur\n",
    "- définir une fonction `calculeAnnee(age)` où l'argument `age` est l'âge de l'utilisateur. Cette fonction doit retourner l'année de naissance\n",
    "\n",
    "```\n",
    "prenom = input(\"Quel est votre prénom : \")\n",
    "age = int(input(\"Quel est votre âge : \"))\n",
    "naissance = 2024 - age\n",
    "print(\"Bonjour\",prenom,\"vous êtes née en\",naissance)\n",
    "```"
   ]
  },
  {
   "cell_type": "code",
   "execution_count": null,
   "id": "ba923031-2e4b-4c9e-ac3d-bec5a6472063",
   "metadata": {},
   "outputs": [],
   "source": []
  }
 ],
 "metadata": {
  "kernelspec": {
   "display_name": "Python 3 (ipykernel)",
   "language": "python",
   "name": "python3"
  },
  "language_info": {
   "codemirror_mode": {
    "name": "ipython",
    "version": 3
   },
   "file_extension": ".py",
   "mimetype": "text/x-python",
   "name": "python",
   "nbconvert_exporter": "python",
   "pygments_lexer": "ipython3",
   "version": "3.9.2"
  }
 },
 "nbformat": 4,
 "nbformat_minor": 5
}
