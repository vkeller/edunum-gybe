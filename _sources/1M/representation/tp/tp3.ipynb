{
 "cells": [
  {
   "cell_type": "markdown",
   "id": "070975bc-c2d5-4440-81a0-ea2ed9b7679b",
   "metadata": {},
   "source": [
    "# TP 3 : Tailles et compression\n",
    "\n",
    "## Objectifs pédagogiques\n",
    "\n",
    "1. Être capable d'estimer la taille d'un fichier en fonction de son type et de son codage\n",
    "1. Comprendre le processus de compression avec et sans perte"
   ]
  },
  {
   "cell_type": "markdown",
   "id": "1c31f3f6-e8fa-465a-b518-ae3674af21ac",
   "metadata": {},
   "source": [
    "## Définition : Taille d'un fichier\n",
    "\n",
    "La taille d'un fichier mesure la quantité de données du fichier. Elle se mesure en **octets** (à laquelle on peut ajouter un suffixe). Alternativement, elle donne une idée de la quantité de stockage requise pour le stocker."
   ]
  },
  {
   "cell_type": "markdown",
   "id": "b6f9b04b-131d-44f5-af73-fbc46467d7d7",
   "metadata": {},
   "source": [
    "### Suffixes pour les grandes valeurs\n",
    "\n",
    "Dans le [Système international d'unités](https://www.bipm.org/documents/20126/41483022/SI-Brochure-9.pdf/fcf090b2-04e6-88cc-1149-c3e029ad8232), il est d'usage d'utiliser des préfixes que l'on ajoute avant l'unité.\n",
    "\n",
    "Ainsi :\n",
    "\n",
    "| Nom | Symbole (fr/en) | Valeur |\n",
    "| :-----: | :-----: | :-----: |\n",
    "| Kilooctet | ko (kB) | $10^{3}$ octets = 8 kb |\n",
    "| mégaoctet | Mo (MB) | $10^{6}$ octets = 8 Mb |\n",
    "| gigaoctet | Go (GB) | $10^{9}$ octets = 8 Gb |\n",
    "| téraoctet | To (TB) | $10^{12}$ octets = 8 Tb |\n",
    "| pétaoctet | Po (PB) | $10^{15}$ octets = 8 Pb |\n",
    "| exaoctet | Eo (EB) | $10^{18}$ octets = 8 Eb |\n",
    "| zettaoctet | Zo (ZB) | $10^{21}$ octets = 8 Zb |\n",
    "| yottaoctet | Yo (YB) | $10^{24}$ octets = 8 Yb |\n",
    "\n",
    "**Attention : lorsqu'on parle de capacité, on préférera le terme français \"octet\" plutôt que byte qui est phonétiquement trop proche de bit**"
   ]
  },
  {
   "cell_type": "markdown",
   "id": "1f93ceab-66d2-467b-b7e8-d8ce7748bbe0",
   "metadata": {},
   "source": [
    "## Estimation de la taille d'un fichier\n",
    "\n",
    "### Fichier texte ASCII\n",
    "\n",
    "On sait que chaque caractère ASCII est codé sur 7 bits. Mais un ordinateur **ne travaille qu'avec des octets**. Ainsi, en comptant le nombre de caractères d'un fichier, on peut estimer sa taille.\n",
    "\n",
    "*Terminal* : dans un terminal, on peut utilisé la fonciton `wc` qui donne le nombre exact de caractères d'un fichier. Par exemple : `wc -c < AuClairDeLaLune.txt`\n",
    "\n",
    "### Fichier image PPM et PGM\n",
    "\n",
    "Sur un fichier en niveaux de gris (PGM) et en couleurs (PGM), la taille du fichier peut être estimée avec la taille de l'image ainsi que le mode de codage des couleurs ($[0,1]$ pour $P1$ donc 1 octet, $[0,...,255]$ pour $P2$ donc 1 octet, $[0,...,255;0,...,255;0,...,255]$ pour $P3$ donc 3 octets,\n",
    "\n",
    "### Fichier son\n",
    "\n",
    "Un fichier son non-compressé aura une taille multiple par la fréquence d'échantillonnage, la durée du morceau ainsi et le nombre de bits de la quantification."
   ]
  },
  {
   "cell_type": "markdown",
   "id": "27bd273b-6861-4e10-a56c-dd8789c70230",
   "metadata": {},
   "source": [
    "## Exercice 1\n",
    "\n",
    "1. Téléchargez les fichiers texte, image et son sur votre ordinateur. Pour chacun d'eux, "
   ]
  },
  {
   "cell_type": "markdown",
   "id": "b5223bb9-4a3a-42ac-b5c6-c4b0851f3d6c",
   "metadata": {},
   "source": [
    "## Définition : compression de donnée\n",
    "\n",
    "La **compression de données** est l'opération informatique $C()$ qui consiste à faire passer une suite de bits $b_1$ en en suite de bits $b_2$ :\n",
    "\n",
    "$$\n",
    "b_2 <- C(b_1)\n",
    "$$\n",
    "\n",
    "L'opération inverse $C^{-1}()$ est appelée **décompression de données**:\n",
    "\n",
    "$$\n",
    "b_1 <- C^{-1}(b_2) = C(C^{-1}(b_1))\n",
    "$$\n",
    "\n",
    "\n",
    "Il existe deux types de compressions de données :\n",
    "\n",
    "1. La **compression sans perte d'information** qui permet de retrouver, après décompression, l'entier de la suite de bits non-compressée\n",
    "1. La **compression avec perte d'information** qui ne permet pas de retrouver, après décompression, la suite de bits non-compressée"
   ]
  },
  {
   "cell_type": "code",
   "execution_count": null,
   "id": "df7bb15d-e169-49a9-97cd-1972110c65c9",
   "metadata": {},
   "outputs": [],
   "source": []
  }
 ],
 "metadata": {
  "kernelspec": {
   "display_name": "Python 3 (ipykernel)",
   "language": "python",
   "name": "python3"
  },
  "language_info": {
   "codemirror_mode": {
    "name": "ipython",
    "version": 3
   },
   "file_extension": ".py",
   "mimetype": "text/x-python",
   "name": "python",
   "nbconvert_exporter": "python",
   "pygments_lexer": "ipython3",
   "version": "3.9.2"
  }
 },
 "nbformat": 4,
 "nbformat_minor": 5
}
