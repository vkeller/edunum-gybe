{
 "cells": [
  {
   "cell_type": "markdown",
   "id": "070975bc-c2d5-4440-81a0-ea2ed9b7679b",
   "metadata": {},
   "source": [
    "# TP 3 : Tailles et compression\n",
    "\n",
    "## Objectifs pédagogiques\n",
    "\n",
    "1. Être capable d'estimer la taille d'un fichier en fonction de son type et de son codage\n",
    "1. Comprendre le processus de compression avec et sans perte"
   ]
  },
  {
   "cell_type": "markdown",
   "id": "1c31f3f6-e8fa-465a-b518-ae3674af21ac",
   "metadata": {},
   "source": [
    "## Taille d'un fichier\n",
    "\n",
    "La taille d'un fichier se mesure en **octets**. "
   ]
  },
  {
   "cell_type": "code",
   "execution_count": null,
   "id": "92b9e6c7-121a-4f74-b962-084c2b85bcd2",
   "metadata": {},
   "outputs": [],
   "source": []
  }
 ],
 "metadata": {
  "kernelspec": {
   "display_name": "Python 3 (ipykernel)",
   "language": "python",
   "name": "python3"
  },
  "language_info": {
   "codemirror_mode": {
    "name": "ipython",
    "version": 3
   },
   "file_extension": ".py",
   "mimetype": "text/x-python",
   "name": "python",
   "nbconvert_exporter": "python",
   "pygments_lexer": "ipython3",
   "version": "3.9.2"
  }
 },
 "nbformat": 4,
 "nbformat_minor": 5
}
