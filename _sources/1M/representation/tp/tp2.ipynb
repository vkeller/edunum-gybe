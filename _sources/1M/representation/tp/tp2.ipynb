{
 "cells": [
  {
   "cell_type": "markdown",
   "id": "c01bd436",
   "metadata": {},
   "source": [
    "# TP 2 : Le son"
   ]
  },
  {
   "cell_type": "markdown",
   "id": "fc603690",
   "metadata": {},
   "source": [
    "## Objectifs pédagogique\n",
    "\n",
    "1. appliquer la représentation de l'information numérique au son\n",
    "1. comprendre les étapes de la numérisation d'un son\n",
    "1. appliquer ces étapes dans le logiciel Andacity"
   ]
  },
  {
   "cell_type": "markdown",
   "id": "815c703c",
   "metadata": {},
   "source": [
    "## Définition : le son\n",
    "\n",
    "Le **son** est la vibration d'un fluide et qui se propage sous la forme d'onde longitudinales grâce à la déformation du fluide. "
   ]
  },
  {
   "cell_type": "markdown",
   "id": "29932416",
   "metadata": {},
   "source": [
    "## Propriétés du son"
   ]
  },
  {
   "cell_type": "code",
   "execution_count": null,
   "id": "db7c667f",
   "metadata": {},
   "outputs": [],
   "source": []
  }
 ],
 "metadata": {
  "kernelspec": {
   "display_name": "Python 3 (ipykernel)",
   "language": "python",
   "name": "python3"
  },
  "language_info": {
   "codemirror_mode": {
    "name": "ipython",
    "version": 3
   },
   "file_extension": ".py",
   "mimetype": "text/x-python",
   "name": "python",
   "nbconvert_exporter": "python",
   "pygments_lexer": "ipython3",
   "version": "3.9.2"
  }
 },
 "nbformat": 4,
 "nbformat_minor": 5
}
