{
 "cells": [
  {
   "cell_type": "markdown",
   "id": "03e43ca3",
   "metadata": {},
   "source": [
    "# Cours 2  codage de caractères\n",
    "\n",
    "Objectifs:\n",
    "\n",
    "1. comprendre le codage ASCII\n",
    "1. comprendre le codage Unicode \n",
    "1. appliquer sur des textes simples"
   ]
  },
  {
   "cell_type": "markdown",
   "id": "ddc8bb6f",
   "metadata": {},
   "source": [
    "## Introduction\n",
    "\n",
    "Un fichier informatique n'est finalement rien d'autre qu'une suite d'octets. Historiquement, il a fallu trouver une convention afin que les différents ordinateurs qui ont commencé à communiquer puissent s'entendre."
   ]
  },
  {
   "cell_type": "markdown",
   "id": "52b25f95",
   "metadata": {},
   "source": [
    "### Exemple introductif : alphabet de l'aviation\n",
    "\n",
    "L'alphabet radiophonique international est utilisé pour transmettre des messages quelque soit les possibles interférences, incompréhensions entre locuteurs ou mode de transmission.\n",
    "\n",
    "Il consiste à transmettre un mot *acrophonique*, c'est-à-dire dont la première lettre représente la lettre transmise.\n",
    "\n",
    "Voici le code de l'OACI (Organisation de l'Aviation Civile Internationale) :\n",
    "\n",
    "| Lettre | Code |\n",
    "|:---:|:---:|\n",
    "| A | Alpha |\n",
    "| B | Bravo |\n",
    "| C | Charlie |\n",
    "| D | Delta |\n",
    "| E | Echo |\n",
    "| F | Foxtrot |\n",
    "| G | Golf |\n",
    "| H | Hotel |\n",
    "| I | India |\n",
    "| J | Juliette |\n",
    "| K | Kilo |\n",
    "| L | Lima |\n",
    "| M | Mike |\n",
    "| N | November |\n",
    "| O | Oscar |\n",
    "| P | Papa |\n",
    "| Q | Quebec |\n",
    "| R | Romeo |\n",
    "| S | Sierra |\n",
    "| T | Tango |\n",
    "| U | Uniform |\n",
    "| V | Victor |\n",
    "| W | Whisky |\n",
    "| X | X-ray |\n",
    "| Y | Yankee |\n",
    "| Z | Zulu |\n",
    "\n",
    "Chaque code a été réfléchi afin qu'une partie de celui-ci transmise permette de comprendre l'entier du message"
   ]
  },
  {
   "cell_type": "markdown",
   "id": "6d57f4f0",
   "metadata": {},
   "source": [
    "### Exercice : transmettre un message\n",
    "\n",
    "- Transmettez par oral votre prénom en utilisant l'alphabet de l'OACI\n",
    "\n",
    "### Exercice : transmettre un message partiellement\n",
    "\n",
    "- Simulez un problème de communication et transmettez votre prénom par oral en utilisant que la moitié du mot de l'alphabet de l'OACI"
   ]
  },
  {
   "cell_type": "markdown",
   "id": "cd8f0807",
   "metadata": {},
   "source": [
    "## Le codage ASCII\n",
    "\n",
    "Le code ASCII pour **American Standard Code for Information Interchange** est né dans les années 1960 aux USA. La table est basée sur un encodage sur 7 bits.\n",
    "\n",
    "![table codage ASCII](images/ASCII.png \"Table ASCII\")"
   ]
  },
  {
   "cell_type": "markdown",
   "id": "c9f06e07",
   "metadata": {},
   "source": [
    "## Exercice 1\n",
    "\n",
    "Ecrivez le code binaire pour les caractères suivants :\n",
    "\n",
    "- A\n",
    "- a\n",
    "- 0"
   ]
  },
  {
   "cell_type": "markdown",
   "id": "f7251096",
   "metadata": {},
   "source": [
    "## Exercice 2\n",
    "\n",
    "Quel est le texte encodé par les caractères suivants :\n",
    "\n",
    "- $42_{16}, 6F_{16}, 6E_{16}, 6A_{16}, 6F_{16}, 75_{16}, 72_{16}$\n",
    "- $1000010_{2}, 1001001_{2}, 1100101_{2}, 1101110_{2}, 1110110_{2}, 1100101_{2}, 1101110_{2}, 1110101_{2}, 1100101_{2}$\n",
    "- $49_{10}, 57_{10}, 55_{10}, 53_{10}$"
   ]
  },
  {
   "cell_type": "markdown",
   "id": "9a91200f",
   "metadata": {},
   "source": [
    "## Exercice 3 (pour aller plus loin)\n",
    "\n",
    "Comment faire la différence entre un octet qui représente un nombre entier et un octet qui représente un encodage en ASCII (pour autant que le bit de poid le plus fort soit mis à 0) ?"
   ]
  },
  {
   "cell_type": "markdown",
   "id": "e80e2295",
   "metadata": {},
   "source": [
    "## Le codage Unicode\n",
    "\n",
    "Le codage ASCII ne permet pas d'écrire des caractères accentués ou des symboles provenant d'autres langues. C'est par exemple le cas du chinois, de l'arabe ou du grec mais aussi les hiéroglyphes égyptiens ou les émojis par exemple.\n",
    "\n",
    "Pour ce faire, il a fallu étendre le codage à plus de bits. Unicode est le standard le plus accepté. Il est possible de coder des caractères en utilisant 32 bits au maximum. \n",
    "\n",
    "Cela signifie qu'il est possible de coder $2^{32}$ caractères différents, soit plus de 4 milliards (4'294'967'296) ce qui devrait suffir pour les besoins actuels et futurs de l'ensemble des codages de la planète."
   ]
  },
  {
   "cell_type": "markdown",
   "id": "b101844e",
   "metadata": {},
   "source": [
    "## Outils externes\n",
    "\n",
    "- [convertisseur base 2, 10 et 16 online](https://www.rapidtables.org/fr/convert/number/hex-to-binary.html)"
   ]
  },
  {
   "cell_type": "code",
   "execution_count": null,
   "id": "79ed1671",
   "metadata": {},
   "outputs": [],
   "source": []
  }
 ],
 "metadata": {
  "kernelspec": {
   "display_name": "Python 3 (ipykernel)",
   "language": "python",
   "name": "python3"
  },
  "language_info": {
   "codemirror_mode": {
    "name": "ipython",
    "version": 3
   },
   "file_extension": ".py",
   "mimetype": "text/x-python",
   "name": "python",
   "nbconvert_exporter": "python",
   "pygments_lexer": "ipython3",
   "version": "3.9.2"
  }
 },
 "nbformat": 4,
 "nbformat_minor": 5
}
