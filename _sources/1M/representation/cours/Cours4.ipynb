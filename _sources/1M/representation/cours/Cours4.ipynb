{
 "cells": [
  {
   "cell_type": "markdown",
   "id": "378b800d-95d9-48e1-b90e-8bf066996b17",
   "metadata": {},
   "source": [
    "# Cours 4 : Opérations en binaire et en hexadécimal"
   ]
  },
  {
   "cell_type": "markdown",
   "id": "e2e58b96-379d-483d-863d-5af5a45aafc7",
   "metadata": {},
   "source": [
    "## Objectifs pédagogiques\n",
    "\n",
    "- être capable d'exécuter les opérations suivantes en binaire et en héxadécimal:\n",
    "    - addition\n",
    "    - soustraction\n",
    "    - multiplication\n",
    "    - division"
   ]
  },
  {
   "cell_type": "markdown",
   "id": "944c6ab0-e6ad-47a1-aa5d-1b761c971fbf",
   "metadata": {},
   "source": [
    "## Convention : les bases en indices\n",
    "\n",
    "Par convention, nous plaçons la base du nombre entier en **indice** de celui-ci :\n",
    "\n",
    "- $100_{10}$ signifie le nombre 100 en base 10\n",
    "- $100_{2}$ signfie le nombre 100 en base 2\n",
    "- $100_{16}$ signifie le nombre 100 en base 16\n",
    "\n"
   ]
  },
  {
   "cell_type": "markdown",
   "id": "f8f8bf55-7494-49b6-b7c6-cf82c230ce74",
   "metadata": {},
   "source": [
    "| Valeur décimale | Valeur binaire  | valeur héxadécimale  |\n",
    "|---|---|---|\n",
    "| $100_{10}$ | $1100100_{2}$  | $64_{16}$  |\n",
    "| $4_{10}$ | $100_{2}$  | $4_{16}$ |\n",
    "| $256_{10}$ | $100000000_{2}$ | $100_{16}$  |"
   ]
  },
  {
   "cell_type": "markdown",
   "id": "62b946f4-3014-47ac-9b6f-49f714eaa0cf",
   "metadata": {},
   "source": [
    "## Rappel : Notation de droite à gauche\n",
    "\n",
    "La position du chiffre correspond à la **puissance de la base**.\n",
    "\n",
    "### Base 10 (décimal)\n",
    "\n",
    "En décimal, il existe 10 symboles pour écrire les nombres entiers : $[0,1,2,3,4,5,6,7,8,9]$. Ainsi :\n",
    "\n",
    "| position | 7 | 6 | 5 | 4 | 3 | 2 | 1 | 0 |\n",
    "|:---:|:---:|:---:|:---:|:---:|:---:|:---:|:---:|:---:|\n",
    "| puissance | $10^7$ | $10^6$ | $10^5$| $10^4$ | $10^3$ | $10^2$ | $10^1$ | $10^0$ |\n",
    "| décimal | $10000000_{10}$ | $1000000_{10}$ | $100000_{10}$| $10000_{10}$ | $1000_{10}$ | $100_{10}$ | $10_{10}$ | $1_{10}$ |\n",
    "\n",
    "Ainsi, le nombre $2017$ lu de droite à gauche se calcule : $7*10^{0} + 1*10^{1} + 0*10^{2} + 2*10^{3} = 7 + 10 + 0 + 2000 = 2017$\n",
    "\n",
    "### Base 2 (binaire)\n",
    "\n",
    "En décimal, il existe 10 symboles pour écrire les nombres entiers : $[0,1,2,3,4,5,6,7,8,9]$. Ainsi :\n",
    "\n",
    "| position | 7 | 6 | 5 | 4 | 3 | 2 | 1 | 0 |\n",
    "|:---:|:---:|:---:|:---:|:---:|:---:|:---:|:---:|:---:|\n",
    "| puissance | $2^7$ | $2^6$ | $2^5$| $2^4$ | $2^3$ | $2^2$ | $2^1$ | $2^0$ |\n",
    "| binaire | $10000000_{2}$ | $1000000_{2}$ | $100000_{2}$| $10000_{2}$ | $1000_{2}$ | $100_{2}$ | $10_{2}$ | $1_{2}$ |\n",
    "| décimal | $128_{10}$ | $64_{10}$ | $32_{10}$| $16_{10}$ | $8_{10}$ | $4_{10}$ | $2_{10}$ | $1_{10}$ |\n",
    "\n",
    "Ainsi, le nombre $10101101$ lu de droite à gauche se calcule en base 10 : $1_{2}*2_{10}^{0} + 0_{2}*2_{10}^{1} + 1_{2}*2_{10}^{2} + 1_{2}*2_{10}^{3} + 0_{2}*2_{10}^{4} + 1_{2}*2_{10}^{5} + 0_{2}*2_{10}^{6} + 1_{2}*2_{10}^{7} = 1_{10} + 0_{10} + 4_{10} + 8_{10} + 0_{10} + 32_{10} + 0_{10} + 128_{10} = 173_{10}$\n",
    "\n",
    "### Base 16 (hexadécimal)\n",
    "\n",
    "En héxadécimal, il existe 16 symboles pour écrires les nombres entiers : $[0,1,2,3,4,5,6,7,8,9, A, B, C, D, E, F]$. Puisque $16_{10} = 2_{10}^{4}$ il faut **quatre** bits pour convertir un nombre héxadécimal en binaire. \n",
    "\n",
    "| Valeur décimale | Valeur binaire  | valeur héxadécimale  |\n",
    "|---|---|---|\n",
    "| $0_{10}$ | $0000_{2}$  | $0_{16}$  |\n",
    "| $1_{10}$ | $0001_{2}$  | $1_{16}$  |\n",
    "| $2_{10}$ | $0010_{2}$  | $2_{16}$  |\n",
    "| $3_{10}$ | $0011_{2}$  | $3_{16}$  |\n",
    "| $4_{10}$ | $0100_{2}$  | $4_{16}$  |\n",
    "| $5_{10}$ | $0101_{2}$  | $5_{16}$  |\n",
    "| $6_{10}$ | $0110_{2}$  | $6_{16}$  |\n",
    "| $7_{10}$ | $0111_{2}$  | $7_{16}$  |\n",
    "| $8_{10}$ | $1000_{2}$  | $8_{16}$  |\n",
    "| $9_{10}$ | $1001_{2}$  | $9_{16}$  |\n",
    "| $10_{10}$ | $1010_{2}$  | $A_{16}$  |\n",
    "| $11_{10}$ | $1011_{2}$  | $B_{16}$  |\n",
    "| $12_{10}$ | $1100_{2}$  | $C_{16}$  |\n",
    "| $13_{10}$ | $1101_{2}$  | $D_{16}$  |\n",
    "| $14_{10}$ | $1110_{2}$  | $E_{16}$  |\n",
    "| $15_{10}$ | $1111_{2}$  | $F_{16}$  |"
   ]
  },
  {
   "cell_type": "markdown",
   "id": "34df61bf-1875-4854-8b94-1163f16c5030",
   "metadata": {},
   "source": [
    "## Exercice 1 : Conversion binaire - décimal - héxadécimal\n",
    "\n",
    "Complétez le tableau suivant. Lorsque le nombre de bits n'est pas divisible par 4 en binaire, ajoutez des $0$ sur les bits de poid le plus fort (à gauche) pour complèter au multiple.\n",
    "\n",
    "| Valeur binaire | Valeur décimale | valeur héxadécimale |\n",
    "|:---:|:---:|:---:|\n",
    "| $11010101_{2}$ | | |\n",
    "| | $1984_{10}$ | |\n",
    "| | | $BEEF_{16}$ |\n",
    "| $51966_{10}$ | | |"
   ]
  },
  {
   "cell_type": "markdown",
   "id": "40acf25f-e213-4202-bbf1-d0f52e51b937",
   "metadata": {},
   "source": [
    "## Opérations algébriques en binaire\n",
    "\n",
    "Les 4 opérations de base en algèbre sont :\n",
    "\n",
    "- l'addition (signe $+$)\n",
    "- la soustration (signe $-$)\n",
    "- la multiplication (signe $*$)\n",
    "- la division (signe $/$)\n",
    "\n",
    "### Addition\n",
    "\n",
    "Tout comme l'addition décimale, l'addition en binaire se fait en colonne et en utilisant les retenues (binaires !).\n",
    "\n",
    "En binaire : $01_{2} + 01_{2} = 10_{2}$. Si la retenue requiert un bit de poid plus fort (à gauche), alors il faut en ajouter un.\n",
    "\n",
    "Exemple : $1010_{2} + 0011_{2}$\n",
    "\n",
    "|   | 1 |   |   |\n",
    "| ---: |---: |---: |---: |\n",
    "|  1 | 0  | 1  | 0  |\n",
    "| 0  |  0 | 1  | 1  |\n",
    "| --- | --- | --- | --- |\n",
    "|  1 | 1  | 0  | 1  |\n",
    "\n",
    "### Soustraction\n",
    "\n",
    "Dans la soustraction binaire, on procède comme en décimal. Lorsque la quantité à soustraire est supérieure à la quantité dont on soustrait, on emprunte 1 au voisin de gauche. \n",
    "\n",
    "Exemple : $0_{2} - 0_{2} = 0_{2}$, $1_{2} - 0_{2}  = 1_{2}$, $1_{2} - 1_{2} = 0_{2}$ et $10_{2} - 1_{2} = 1_{2}$\n",
    "\n",
    "### Multiplication\n",
    "\n",
    "La multiplication en binaire peut rapidement devenir complexe et dépasse le cadre de ce cours. Nous nous concentrons sur la multiplication par 2 puiqu'elle ne requiert qu'un déplacement (*shift* en anglais) à droite en direction du bit de poid le plus fort.\n",
    "\n",
    "Exemple : $1011_{2}$ multiplié par $10_{2}$ ($= 2_{10}$) vaut $10110_{2}$\n",
    "\n",
    "### Division\n",
    "\n",
    "Tout comme la multiplication, la division binaire peut devenir complet et dépasse le cadre de ce cours. Nous nous concentrons sur la division par 2 qui ne requiert qu'un déplacement (*shift* en anglais) à gauche en direction du bit de poids le plus faible. Attention, cela ne fonctionne qu'avec les nombres pair.\n",
    "\n",
    "Exemple : $0100_{2}$ divisé par $10_{2}$ ($= 2_{10}$) vaut $0010_{2}$"
   ]
  },
  {
   "cell_type": "markdown",
   "id": "579b80fb-4ef9-4b70-9651-fe3480590edb",
   "metadata": {},
   "source": [
    "## Exercice 2 : opérations\n",
    "\n",
    "Résolvez les calculs binaires suivants :\n",
    "\n",
    "- $11010101_{2}$ + $00001111_{2}$\n",
    "- $01101010_{2}$ - $00011010_{2}$\n",
    "- $11010010_{2}$ divisé par $10_{2}$\n",
    "- $01011110_{2}$ multiplié par $10_{2}$"
   ]
  },
  {
   "cell_type": "code",
   "execution_count": null,
   "id": "acdbc951-0003-4ad5-8a80-17ed0bb5885a",
   "metadata": {},
   "outputs": [],
   "source": []
  }
 ],
 "metadata": {
  "kernelspec": {
   "display_name": "Python 3 (ipykernel)",
   "language": "python",
   "name": "python3"
  },
  "language_info": {
   "codemirror_mode": {
    "name": "ipython",
    "version": 3
   },
   "file_extension": ".py",
   "mimetype": "text/x-python",
   "name": "python",
   "nbconvert_exporter": "python",
   "pygments_lexer": "ipython3",
   "version": "3.9.2"
  }
 },
 "nbformat": 4,
 "nbformat_minor": 5
}
