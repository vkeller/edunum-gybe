{
 "cells": [
  {
   "cell_type": "markdown",
   "id": "efa43a6d-84cb-4272-b64a-943b06ba6792",
   "metadata": {},
   "source": [
    "# Cours 3 : Du monde physique au monde numérique\n",
    "\n",
    "![binaryWorld](images/binary.jpg \"A world of bits\")"
   ]
  },
  {
   "cell_type": "markdown",
   "id": "107c20b5-a3ee-4dcf-a60f-29423cd8714e",
   "metadata": {},
   "source": [
    "## Objectifs pédagogiques\n",
    "\n",
    "1. Comprendre le concept de discrétisation\n",
    "1. Comprendre les étapes de la numérisation\n",
    "1. Appliquer sur un exemple concret"
   ]
  },
  {
   "cell_type": "markdown",
   "id": "1e202070-9de4-450b-b78d-47dc3f61fecd",
   "metadata": {},
   "source": [
    "## Définition : Physique ou la science physique\n",
    "\n",
    "Selon [wikipedia](https://fr.wikipedia.org/wiki/Physique) : \"la **Physique** (ou **la science physique**) est la science qui essaie de comprendre, de modéliser, et d'expliquer les phénomènes naturels de l'Univers. Elle correspond à l'étude du monde qui nous entoure sous toutes ses formes, des lois de ses variations et de leur évolution.\" "
   ]
  },
  {
   "cell_type": "markdown",
   "id": "774c791b-80ad-41fb-8dd4-c591eee14430",
   "metadata": {},
   "source": [
    "## Le monde tel que nous le percevons\n",
    "\n",
    "Nous percevons le monde au travers de **nos sens** (ouïe, vue, goût, etc..). Nos sens sont malheureusement **très approximatifs** et **subjectifs** puisqu'ils sont conditionnés par notre propre histoire depuis le moment où ces sens sont suffisamment développés pour enregistrer quelque chose. Ce *moment* est toujours en discussion parmi la communauté scientifique (médicale et philosophique)"
   ]
  },
  {
   "cell_type": "markdown",
   "id": "895ecd4b-0860-4d7f-acdb-962961749b13",
   "metadata": {},
   "source": [
    "## Le monde tel que nous le comprenons (ou essayons de le comprendre)\n",
    "\n",
    "La science physique "
   ]
  },
  {
   "cell_type": "markdown",
   "id": "e116b629-c1d1-4d6c-ae5e-85f0478ae2e6",
   "metadata": {},
   "source": [
    "## Définition : représentation continue d'une grandeur\n",
    "\n"
   ]
  },
  {
   "cell_type": "code",
   "execution_count": null,
   "id": "2b81b012-31b8-4f48-ae50-11c4b97a2c58",
   "metadata": {},
   "outputs": [],
   "source": []
  },
  {
   "cell_type": "markdown",
   "id": "3e471fdc-f300-4295-adba-acef30b597a5",
   "metadata": {},
   "source": [
    "## DISCLAIMER 2 : l'espace et le temps : des grandeurs discrètes ou continues ?\n",
    "\n",
    "Cette question est toujours ouverte aujourd'hui. La physique Newtonienne (dite *classique*) considère que ces deux grandeurs sont continues, la physique d'Einstein (dite *relativiste*) considère que les deux grandeurs sont liées, la physique quantique considère qu'elles sont discrètes. D'autres enfin, dans des tentatives de réponses qui relève plus de la philosophie métaphysique : l'espace et le temps ne sont peut-être finalement que des manifestations d'un concept plus profond et encore inconnu. \n",
    "\n",
    "Dans la suite de ce cours, **nous considérerons que les signaux du monde réel que nous voulons numériser sont continus**.\n",
    "\n",
    "Il ne fait pas le moindre doute que la représentation numérique de n'importe quel signal est **discret**. "
   ]
  },
  {
   "cell_type": "code",
   "execution_count": null,
   "id": "130fb6f0-e98e-4148-bbc9-5dce468c6c82",
   "metadata": {},
   "outputs": [],
   "source": []
  },
  {
   "cell_type": "code",
   "execution_count": null,
   "id": "14190de7-f721-4a4a-bc54-43e8b5579f47",
   "metadata": {},
   "outputs": [],
   "source": []
  },
  {
   "cell_type": "markdown",
   "id": "08759ea7-98a9-4b43-b0f0-8442350e9b37",
   "metadata": {},
   "source": [
    "## Paradoxe de l'archer\n",
    "\n",
    "Lorsqu'un archer tire une flèche, on peut "
   ]
  }
 ],
 "metadata": {
  "kernelspec": {
   "display_name": "Python 3 (ipykernel)",
   "language": "python",
   "name": "python3"
  },
  "language_info": {
   "codemirror_mode": {
    "name": "ipython",
    "version": 3
   },
   "file_extension": ".py",
   "mimetype": "text/x-python",
   "name": "python",
   "nbconvert_exporter": "python",
   "pygments_lexer": "ipython3",
   "version": "3.9.2"
  }
 },
 "nbformat": 4,
 "nbformat_minor": 5
}
