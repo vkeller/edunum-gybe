{
 "cells": [
  {
   "cell_type": "markdown",
   "id": "ecfb22a1",
   "metadata": {},
   "source": [
    "# Cours 1 binaire"
   ]
  },
  {
   "cell_type": "markdown",
   "id": "023b8e43",
   "metadata": {},
   "source": [
    "## Objectifs\n",
    "\n",
    "La représentation binaire est la base dans un ordinateur. Ce cours traverse les objets suivants :\n",
    "\n",
    "- construire des nombres entiers en base 2, 10 et 16\n",
    "- convertir des nombres entre les différentes bases\n",
    "- comprendre la notation en bytes\n",
    "- introduire les ordres de grandeurs KB, MB, GB, etc.."
   ]
  },
  {
   "cell_type": "markdown",
   "id": "a10c379f",
   "metadata": {},
   "source": [
    "## Tour de magie introductif\n",
    "\n",
    "Dans le tour de magie appelé \"L'ordinateur magique\", le binaire est approché."
   ]
  },
  {
   "cell_type": "markdown",
   "id": "3c40c9d7",
   "metadata": {},
   "source": [
    "### Règles du tour\n",
    "\n",
    "- Le magicien demande à une personne de choisir un nombre entre 1 et 63\n",
    "- Le magicien présente les cartes et demande de répondre à la question pour chacune des 6 cartes : \"Le nombre se trouve-t-il sur la carte ?\"\n",
    "- Le magicien trouve le nombre"
   ]
  },
  {
   "cell_type": "markdown",
   "id": "122d883e",
   "metadata": {},
   "source": [
    "### Les cartes\n",
    "\n",
    "![Ordinateur magique](images/cartes.png \"Les cartes\")"
   ]
  },
  {
   "cell_type": "markdown",
   "id": "a17cd421",
   "metadata": {},
   "source": [
    "### Explications du tour\n",
    "\n",
    "Observez le premier chiffre qui se trouve en haut à gauche de chaque carte.\n",
    "\n",
    "| carte 1 | carte 2 | carte 3 | carte 4 | carte 5 | carte 6 |\n",
    "| :---------: | :---------: | :---------: | :---------: | :---------: | :---------: |\n",
    "| 1 | 2 | 4 | 8 | 16 | 32 |\n",
    "| 2<sup>0 | 2<sup>1 | 2<sup>2 | 2<sup>3 | 2<sup>4 | 2<sup>5 |\n",
    "    \n",
    "Tous les nombres d'une carte *x* ont un *1* à la position *x* depuis la droite (l'exposant de la puissance de 2) \n"
   ]
  },
  {
   "cell_type": "markdown",
   "id": "f640931e",
   "metadata": {},
   "source": [
    "## Conversion d'un nombre décimal en binaire\n",
    "\n",
    "Il existe deux algorithmes (techniques) pour convertir un nombre entier de la base 10 à la base 2. Par souci de simplification, on adopte la nommenclature $_{10}$ pour un entier en base 10 et $_{2}$ pour un entier en binaire.\n",
    "\n",
    "### Par division\n",
    "\n",
    "1. Diviser le nombre entier en base 10 par 2 successivement\n",
    "1. En conservant les restes, on obtient le résultat en lisant de gauche à droite\n",
    "\n",
    "**Exemple**\n",
    "\n",
    "58 en base 10\n",
    "\n",
    "1. $\\frac{58}{2} = 29$, reste $0$\n",
    "1. $\\frac{29}{2} = 14$, reste $1$\n",
    "1. $\\frac{14}{2} = 7$, reste $0$\n",
    "1. $\\frac{7}{2} = 3$, reste $1$\n",
    "1. $\\frac{3}{2} = 1$, reste $1$\n",
    "1. $\\frac{1}{2} = 0$, reste $1$\n",
    "\n",
    "le nombre 58 s'écrit donc en binaire en lisant de bas en haut les restes : **111010**\n",
    "\n",
    "### Par soustraction\n",
    "\n",
    "1. Retrancher successivement le nombre de la plus grande puissance de 2 possible\n",
    "\n",
    "**Exemple**\n",
    "\n",
    "1. $58_{10} - 1 \\times 2^5 = 58_{10} - 32_{10} = 26_{10}$ donc **1**\n",
    "1. $26_{10} - 1 \\times 2^4 = 10_{10}$ donc **1**\n",
    "1. $10_{10} - 1 \\times 2^3 = 2_{10}$ donc **1**\n",
    "1. $2_{10} - 0 \\times 2^2 = 2_{10}$ donc **0**\n",
    "1. $2_{10} - 1 \\times 2^1 = 0_{10}$ donc **1**\n",
    "1. $0_{10} - 0 \\times 2^0 = 0_{10}$ donc **0**\n",
    "\n",
    "Le nombre 58 s'écrit donc en binaire en lisant de haut en bas : **111010**"
   ]
  },
  {
   "cell_type": "markdown",
   "id": "d813f0e3",
   "metadata": {},
   "source": [
    "## Définition : little et big endian, poids des bits\n",
    "\n",
    "Lorsqu'on écrit un nombre en binaire, il s'agit de savoir comment le lire.\n",
    "\n",
    "- Si on lit de droite à gauche (notation dite **little endian**), alors le bit de poids le plus faible (celui qui représente la puissance la plus faible donc $2^0$ se trouve à **droite**\n",
    "- Si on lit de gauche à droite (notation dite **big endian**), alors le bit de poids le plus faible (celui qui représente la puissance la plus faible donc $2^0$ se trouve à **gauche**\n",
    "\n",
    "**NOUS UTILISERONS TOUJOURS LA NOTATION LITTLE ENDIAN DANS CE COURS**"
   ]
  },
  {
   "cell_type": "markdown",
   "id": "b0c4efc0",
   "metadata": {},
   "source": [
    "## Exercice 1\n",
    "\n",
    "Essayez de convertir en binaire les nombres suivants avec une écriture sur 6 bits :\n",
    "\n",
    "- 0\n",
    "- 23\n",
    "- 45\n",
    "- 63\n",
    "- 19"
   ]
  },
  {
   "cell_type": "markdown",
   "id": "7bf92056",
   "metadata": {},
   "source": [
    "## Exercice 2\n",
    "\n",
    "Combien de bits faudrait-il pour coder le nombre 64 ? Et le nombre 128 ?"
   ]
  },
  {
   "cell_type": "markdown",
   "id": "29057d71",
   "metadata": {},
   "source": [
    "## Exercice 3 (pour aller plus loin)\n",
    "\n",
    "Vous souhaitez créer un tour pour votre petite soeur ou votre petit frère avec uniquement 4 cartes. Combien de nombre différents peut-on représenter avec 4 bits ?\n",
    "\n",
    "*Conseil : les nombres vont de 0000 à 1111*"
   ]
  },
  {
   "cell_type": "markdown",
   "id": "c58a4b2f",
   "metadata": {},
   "source": [
    "## Conversion de binaire en décimal (base 2 à base 10)\n",
    "\n",
    "L'opération inverse se fait par addition. \n",
    "\n",
    "- Additionner les différentes puissances de deux pour obtenir le nombre en base 10\n",
    "\n",
    "Exemple :\n",
    "\n",
    "11010010 donne :\n",
    "\n",
    "1. $0 \\times 2^0 = 0$\n",
    "1. $1 \\times 2^1 = 2$\n",
    "1. $0 \\times 2^2 = 0$\n",
    "1. $0 \\times 2^3 = 0$\n",
    "1. $1 \\times 2^4 = 16$\n",
    "1. $0 \\times 2^5 = 0$\n",
    "1. $1 \\times 2^6 = 64$\n",
    "1. $1 \\times 2^7 = 128$\n",
    "\n",
    "donc $11010010_{2}$ vaut $2+16+64+128$ donc $210_{10}$\n",
    "\n",
    "*Conseil : c'est l'explication algorithmique du tour de magie*"
   ]
  },
  {
   "cell_type": "markdown",
   "id": "b166d45e",
   "metadata": {},
   "source": [
    "## Exercice 4\n",
    "\n",
    "Convertir les nombres suivants en décimal :\n",
    "\n",
    "- 1001\n",
    "- 110110110\n",
    "- 100000001\n",
    "- 101010101010101010"
   ]
  }
 ],
 "metadata": {
  "kernelspec": {
   "display_name": "Python 3 (ipykernel)",
   "language": "python",
   "name": "python3"
  },
  "language_info": {
   "codemirror_mode": {
    "name": "ipython",
    "version": 3
   },
   "file_extension": ".py",
   "mimetype": "text/x-python",
   "name": "python",
   "nbconvert_exporter": "python",
   "pygments_lexer": "ipython3",
   "version": "3.9.2"
  }
 },
 "nbformat": 4,
 "nbformat_minor": 5
}
