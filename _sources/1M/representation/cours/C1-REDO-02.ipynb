{
 "cells": [
  {
   "cell_type": "markdown",
   "id": "ecfb22a1",
   "metadata": {},
   "source": [
    "![binary code](images/binary-code.jpg \"code binaire\")\n",
    "\n",
    "# C1-REDO-02 binaire"
   ]
  },
  {
   "cell_type": "markdown",
   "id": "023b8e43",
   "metadata": {},
   "source": [
    "## Objectifs\n",
    "\n",
    "La représentation binaire est la base dans un ordinateur. Ce cours traverse les objets suivants :\n",
    "\n",
    "- construire des nombres entiers en base 2, 10 et 16\n",
    "- convertir des nombres entre les différentes bases\n",
    "- comprendre la notation en bytes\n",
    "- introduire les ordres de grandeurs KB, MB, GB, etc.."
   ]
  },
  {
   "cell_type": "markdown",
   "id": "a10c379f",
   "metadata": {},
   "source": [
    "## Tour de magie introductif\n",
    "\n",
    "Dans le tour de magie appelé \"L'ordinateur magique\", le binaire est approché."
   ]
  },
  {
   "cell_type": "markdown",
   "id": "3c40c9d7",
   "metadata": {},
   "source": [
    "### Règles du tour\n",
    "\n",
    "- Le magicien demande à une personne de choisir un nombre entre 1 et 63\n",
    "- Le magicien présente les cartes et demande de répondre à la question pour chacune des 6 cartes : \"Le nombre se trouve-t-il sur la carte ?\"\n",
    "- Le magicien trouve le nombre"
   ]
  },
  {
   "cell_type": "markdown",
   "id": "122d883e",
   "metadata": {},
   "source": [
    "### Les cartes\n",
    "\n",
    "![Ordinateur magique](images/cartes.png \"Les cartes\")"
   ]
  },
  {
   "cell_type": "markdown",
   "id": "a17cd421",
   "metadata": {},
   "source": [
    "### Explications du tour\n",
    "\n",
    "Observez le premier chiffre qui se trouve en haut à gauche de chaque carte.\n",
    "\n",
    "| carte 6 | carte 5 | carte 4 | carte 3 | carte 2 | carte 1 |\n",
    "| :---------: | :---------: | :---------: | :---------: | :---------: | :---------: |\n",
    "| 32 | 16 | 8 | 4 | 2 | 1 |\n",
    "| 2<sup>5 | 2<sup>4 | 2<sup>3 | 2<sup>2 | 2<sup>1 | 2<sup>0 |\n",
    "    \n",
    "Tous les nombres d'une carte *x* ont un *1* à la position *x* depuis la droite (l'exposant de la puissance de 2) \n"
   ]
  },
  {
   "cell_type": "markdown",
   "id": "49590cc6",
   "metadata": {},
   "source": [
    "## Définition : nombre entier binaire\n",
    "\n",
    "Un nombre entier binaire est un nombre qui s'écrit uniquement avec les **deux** symboles **0** et **1**."
   ]
  },
  {
   "cell_type": "markdown",
   "id": "abe3b545",
   "metadata": {},
   "source": [
    "## Définition : nombre entier décimal\n",
    "\n",
    "Un nombre décimal est un nombre qui s'écrit uniquement avec les **dix** symboles **0, 1, 2, 3, 4, 5, 6, 7, 8** et **9**"
   ]
  },
  {
   "cell_type": "markdown",
   "id": "f88471e4",
   "metadata": {},
   "source": [
    "## Définition : un bit\n",
    "\n",
    "un **bit** est l'unité la plus simple dans le système binaire. Il peut prendre la valeur **0** ou **1**\n",
    "\n",
    "L'abbréviation du bit est le **b** minuscule"
   ]
  },
  {
   "cell_type": "markdown",
   "id": "25892e0f",
   "metadata": {},
   "source": [
    "## Définition : un octet (en anglais un byte)\n",
    "\n",
    "un **octet** (en anglais un byte) est formé de **huit** bits. \n",
    "\n",
    "Attention : il est d'usage d'utiliser l'abbréviation **B** (majuscule) pour noter un byte pour éviter la confusion avec le b (minuscule) du bit\n",
    "\n",
    "*Exemple : 00111010 est un byte (qui représente la valeur 58 en décimal) "
   ]
  },
  {
   "cell_type": "markdown",
   "id": "d813f0e3",
   "metadata": {},
   "source": [
    "## Définition : little et big endian, poids des bits\n",
    "\n",
    "Lorsqu'on écrit un nombre en binaire, il s'agit de savoir comment le lire.\n",
    "\n",
    "- Si on lit de droite à gauche (notation dite **little endian**), alors le bit de poids le plus faible (celui qui représente la puissance la plus faible donc $2^0$ se trouve à **droite**\n",
    "- Si on lit de gauche à droite (notation dite **big endian**), alors le bit de poids le plus faible (celui qui représente la puissance la plus faible donc $2^0$ se trouve à **gauche**\n",
    "\n",
    "**NOUS UTILISERONS TOUJOURS LA NOTATION LITTLE ENDIAN DANS CE COURS**"
   ]
  },
  {
   "cell_type": "markdown",
   "id": "f640931e",
   "metadata": {},
   "source": [
    "## Conversion d'un nombre décimal en binaire\n",
    "\n",
    "Il existe deux algorithmes (techniques) pour convertir un nombre entier de la base 10 à la base 2. Par souci de simplification, on adopte la nommenclature $_{10}$ pour un entier en base 10 et $_{2}$ pour un entier en binaire.\n",
    "\n",
    "### Par division\n",
    "\n",
    "1. Diviser le nombre entier en base 10 par 2 successivement\n",
    "1. En conservant les restes, on obtient le résultat en lisant de gauche à droite\n",
    "\n",
    "**Exemple**\n",
    "\n",
    "58 en base 10\n",
    "\n",
    "1. $\\frac{58}{2} = 29$, reste $0$\n",
    "1. $\\frac{29}{2} = 14$, reste $1$\n",
    "1. $\\frac{14}{2} = 7$, reste $0$\n",
    "1. $\\frac{7}{2} = 3$, reste $1$\n",
    "1. $\\frac{3}{2} = 1$, reste $1$\n",
    "1. $\\frac{1}{2} = 0$, reste $1$\n",
    "\n",
    "le nombre 58 s'écrit donc en binaire en lisant de bas en haut les restes : **111010**\n",
    "\n",
    "### Par soustraction\n",
    "\n",
    "1. Retrancher successivement le nombre de la plus grande puissance de 2 possible\n",
    "\n",
    "**Exemple**\n",
    "\n",
    "1. $58_{10} - 1 \\times 2^5 = 58_{10} - 32_{10} = 26_{10}$ donc **1**\n",
    "1. $26_{10} - 1 \\times 2^4 = 10_{10}$ donc **1**\n",
    "1. $10_{10} - 1 \\times 2^3 = 2_{10}$ donc **1**\n",
    "1. $2_{10} - 0 \\times 2^2 = 2_{10}$ donc **0**\n",
    "1. $2_{10} - 1 \\times 2^1 = 0_{10}$ donc **1**\n",
    "1. $0_{10} - 0 \\times 2^0 = 0_{10}$ donc **0**\n",
    "\n",
    "Le nombre 58 s'écrit donc en binaire en lisant de haut en bas : **111010**"
   ]
  },
  {
   "cell_type": "markdown",
   "id": "b0c4efc0",
   "metadata": {},
   "source": [
    "## Exercice 1\n",
    "\n",
    "Essayez de convertir en binaire les nombres suivants avec une écriture sur 6 bits :\n",
    "\n",
    "- 0\n",
    "- 23\n",
    "- 45\n",
    "- 63"
   ]
  },
  {
   "cell_type": "markdown",
   "id": "7bf92056",
   "metadata": {},
   "source": [
    "## Exercice 2\n",
    "\n",
    "Combien de bits faudrait-il pour coder le nombre 64 ? Et le nombre 128 ?"
   ]
  },
  {
   "cell_type": "markdown",
   "id": "29057d71",
   "metadata": {},
   "source": [
    "## Exercice 3 (pour aller plus loin)\n",
    "\n",
    "Vous souhaitez créer un tour pour votre petite soeur ou votre petit frère avec uniquement 4 cartes. Combien de nombre différents peut-on représenter avec 4 bits ?\n",
    "\n",
    "*Conseil : les nombres vont de 0000 à 1111*"
   ]
  },
  {
   "cell_type": "markdown",
   "id": "c58a4b2f",
   "metadata": {},
   "source": [
    "## Conversion d'un nombre binaire en décimal (base 2 à base 10)\n",
    "\n",
    "L'opération inverse se fait par addition. \n",
    "\n",
    "- Additionner les différentes puissances de deux pour obtenir le nombre en base 10\n",
    "\n",
    "Exemple :\n",
    "\n",
    "11010010 donne :\n",
    "\n",
    "1. $0 \\times 2^0 = 0$\n",
    "1. $1 \\times 2^1 = 2$\n",
    "1. $0 \\times 2^2 = 0$\n",
    "1. $0 \\times 2^3 = 0$\n",
    "1. $1 \\times 2^4 = 16$\n",
    "1. $0 \\times 2^5 = 0$\n",
    "1. $1 \\times 2^6 = 64$\n",
    "1. $1 \\times 2^7 = 128$\n",
    "\n",
    "donc $11010010_{2}$ vaut $2+16+64+128$ donc $210_{10}$\n",
    "\n",
    "*Remarque : c'est l'explication algorithmique du tour de magie*"
   ]
  },
  {
   "cell_type": "markdown",
   "id": "b166d45e",
   "metadata": {},
   "source": [
    "## Exercice 4\n",
    "\n",
    "Convertir les nombres suivants en décimal :\n",
    "\n",
    "- 1001\n",
    "- 110110110\n",
    "- 100000001\n",
    "- 101010101010101010"
   ]
  },
  {
   "cell_type": "markdown",
   "id": "fd95cdd0",
   "metadata": {},
   "source": [
    "## Définition : nombre entier hexadécimal\n",
    "\n",
    "Un nombre entier hexadécimal est un nombre entier qui s'écrit uniquement avec les **seize** symboles **0, 1, 2, 3, 4, 5, 6, 7, 8, 9, A, B, C, D, E** et **F** "
   ]
  },
  {
   "cell_type": "markdown",
   "id": "9c058d98",
   "metadata": {},
   "source": [
    "## Conversion d'un nombre entier binaire en hexadécimal (base 2 à base 16)\n",
    "\n",
    "Il suffit de regrouper les bits par paquets de 4, quitte à rajouter des 0 sur les bits de poids fort (à gauche)\n",
    "\n",
    "Exemple : \n",
    "\n",
    "1. $101001000011_{2}$ en base 2\n",
    "1. $1010_{2} , 0100_{2}, 0011_{2}$ toujours en base 2\n",
    "1. $1010_{2} = A_{16}$, $0100_{2} = 4_{16}$, $0011_{2} = 3_{16}$\n",
    "1. En base 16 : A43"
   ]
  },
  {
   "cell_type": "markdown",
   "id": "a049b46c",
   "metadata": {},
   "source": [
    "## Exercice 5\n",
    "\n",
    "Convertissez le nombres binaires suivants en base 16:\n",
    "\n",
    "- 010010\n",
    "- 1000\n",
    "- 1111\n",
    "- 01001010101011\n",
    "- 11100101010011010 (combien de bytes pour ce nombre binaire ?)"
   ]
  },
  {
   "cell_type": "markdown",
   "id": "ec852d14",
   "metadata": {},
   "source": [
    "## suffixes pour les grandes valeurs\n",
    "\n",
    "Dans le [Système international d'unités](https://www.bipm.org/documents/20126/41483022/SI-Brochure-9.pdf/fcf090b2-04e6-88cc-1149-c3e029ad8232), il est d'usage d'utiliser des préfixes que l'on ajoute avant l'unité.\n",
    "\n",
    "Ainsi :\n",
    "\n",
    "| Nom | Symbole (fr/en) | Valeur |\n",
    "| :-----: | :-----: | :-----: |\n",
    "| Kilooctet | ko (kB) | $10^{3}$ octets = 8 kb |\n",
    "| mégaoctet | Mo (MB) | $10^{6}$ octets = 8 Mb |\n",
    "| gigaoctet | Go (GB) | $10^{9}$ octets = 8 Gb |\n",
    "| téraoctet | To (TB) | $10^{12}$ octets = 8 Tb |\n",
    "| pétaoctet | Po (PB) | $10^{15}$ octets = 8 Pb |\n",
    "| exaoctet | Eo (EB) | $10^{18}$ octets = 8 Eb |\n",
    "| zettaoctet | Zo (ZB) | $10^{21}$ octets = 8 Zb |\n",
    "| yottaoctet | Yo (YB) | $10^{24}$ octets = 8 Yb |\n",
    "\n",
    "**Attention : lorsqu'on parle de capacité, on préférera le terme français \"octet\" plutôt que byte qui est phonétiquement trop proche de bit**"
   ]
  },
  {
   "cell_type": "code",
   "execution_count": null,
   "id": "03681941-7d03-4218-9457-3ad15d696283",
   "metadata": {},
   "outputs": [],
   "source": []
  }
 ],
 "metadata": {
  "kernelspec": {
   "display_name": "Python 3 (ipykernel)",
   "language": "python",
   "name": "python3"
  },
  "language_info": {
   "codemirror_mode": {
    "name": "ipython",
    "version": 3
   },
   "file_extension": ".py",
   "mimetype": "text/x-python",
   "name": "python",
   "nbconvert_exporter": "python",
   "pygments_lexer": "ipython3",
   "version": "3.9.2"
  }
 },
 "nbformat": 4,
 "nbformat_minor": 5
}
