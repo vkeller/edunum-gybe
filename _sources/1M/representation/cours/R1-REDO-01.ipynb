{
 "cells": [
  {
   "cell_type": "markdown",
   "id": "3ab05839-860b-4e86-95c1-f6994a7e2551",
   "metadata": {},
   "source": [
    "![revision](images/revision.jpg \"Révision\")\n",
    "\n",
    "# R1-REDO-01 Révision"
   ]
  },
  {
   "cell_type": "markdown",
   "id": "6bff0ef4-168f-491f-9c0b-55b07af1c764",
   "metadata": {},
   "source": [
    "## Objectifs pédagogiques\n",
    "\n",
    "1. Réviser les objets d'apprentissages sur la représentation de l'information en vue du test\n",
    "    1. représentation des nombres entiers\n",
    "    1. représentation des caractères\n",
    "    1. représentation des images\n",
    "    1. représentation du son"
   ]
  },
  {
   "cell_type": "markdown",
   "id": "73bc4958-0297-4d84-b658-73c99c38a7f8",
   "metadata": {},
   "source": [
    "## Représentations des nombres entiers"
   ]
  },
  {
   "cell_type": "markdown",
   "id": "2b608527-d7f7-41b0-bad1-cf4f69a14b0d",
   "metadata": {},
   "source": [
    "### Notation binaire\n",
    "\n",
    "Le binaire (base 2) s'écrit avec deux symboles : $[0,1]$.\n",
    "\n",
    "### Notation décimale\n",
    "\n",
    "En décimal (base 10), on utilise 10 symboles : $[0, 1, 2, 3, 4, 5, 6, 7, 8, 9]$\n",
    "\n",
    "### Notation hexadécimale\n",
    "\n",
    "En hexadécimal (base 16), on utilise 16 symboles : $[0,1,2,3,4,5,6,7,8,A,B,C,D,E,F]$\n",
    "\n",
    "### Convention d'écriture\n",
    "\n",
    "Pour distinguer la base d'un nombre (puisque les bases se partagent des symboles), on utilise la notation par indice :\n",
    "\n",
    "- $100_2$ est le nombre $100$ en base $2$\n",
    "- $300_{10}$ est le nombre $300$ en base $10$\n",
    "- $F8_{16}$ est le nombre $F8$ en base $16$\n",
    "\n",
    "### Conversion binaire vers décimal\n",
    "\n",
    "on additionne les puissances de 2 en fonction de leur position:\n",
    "\n",
    "| position | 7 | 6 | 5 | 4 | 3 | 2 | 1 | 0 |\n",
    "|:---:|:---:|:---:|:---:|:---:|:---:|:---:|:---:|:---:|\n",
    "| puissance | $2^7$ | $2^6$ | $2^5$| $2^4$ | $2^3$ | $2^2$ | $2^1$ | $2^0$ |\n",
    "| binaire | $10000000_{2}$ | $1000000_{2}$ | $100000_{2}$| $10000_{2}$ | $1000_{2}$ | $100_{2}$ | $10_{2}$ | $1_{2}$ |\n",
    "| décimal | $128_{10}$ | $64_{10}$ | $32_{10}$| $16_{10}$ | $8_{10}$ | $4_{10}$ | $2_{10}$ | $1_{10}$ |\n",
    "\n",
    "### Conversion de décimal vers binaire\n",
    "\n",
    "On soustrait la plus grande puissance de 2 contenue dans le nombre en décimal et on place un $1$ dans la puissance correspondante.\n",
    "\n",
    "**Exemple**\n",
    "\n",
    "1. $59_{10} - 1 \\times 2^5 = 59_{10} - 32_{10} = 27_{10}$ donc **1**\n",
    "1. $27_{10} - 1 \\times 2^4 =27_{10} - 16_{10} = 11_{10}$ donc **1**\n",
    "1. $11_{10} - 1 \\times 2^3 = 11_{10} - 8_{10} = 3_{10}$ donc **1**\n",
    "1. $3_{10} - 0 \\times 2^2 = 3_{10}$ donc **0**\n",
    "1. $3_{10} - 1 \\times 2^1 = 3_{10} - 2_{10} = 1_{10}$ donc **1**\n",
    "1. $1_{10} - 1 \\times 2^0 = 1_{10} - 1_{10} = 0_{10}$ donc **1**\n",
    "\n",
    "Le nombre 58 s'écrit donc en binaire en lisant de haut en bas : **111011**\n",
    "\n",
    "### Conversion de binaire en hexadécimal\n",
    "\n",
    "Il suffit de construire la table de correspondance entre la base 2 et la base 16 et de convertir le binaire par blocs de 4 bits en commençant à droite. Si le nombre de bits n'est pas divisible par 4, alors on ajoute des 0 à gauche jusqu'à obtenir un nombre de bits divisibles par 4.\n",
    "\n",
    "| Valeur binaire  | valeur héxadécimale  |\n",
    "|---|---|\n",
    "| $0000_{2}$  | $0_{16}$  |\n",
    "| $0001_{2}$  | $1_{16}$  |\n",
    "| $0010_{2}$  | $2_{16}$  |\n",
    "| $0011_{2}$  | $3_{16}$  |\n",
    "| $0100_{2}$  | $4_{16}$  |\n",
    "| $0101_{2}$  | $5_{16}$  |\n",
    "| $0110_{2}$  | $6_{16}$  |\n",
    "| $0111_{2}$  | $7_{16}$  |\n",
    "| $1000_{2}$  | $8_{16}$  |\n",
    "| $1001_{2}$  | $9_{16}$  |\n",
    "| $1010_{2}$  | $A_{16}$  |\n",
    "| $1011_{2}$  | $B_{16}$  |\n",
    "| $1100_{2}$  | $C_{16}$  |\n",
    "| $1101_{2}$  | $D_{16}$  |\n",
    "| $1110_{2}$  | $E_{16}$  |\n",
    "| $1111_{2}$  | $F_{16}$  |\n",
    "\n",
    "**Exemples**\n",
    "\n",
    "- $10101000_2$ ($[1010,1000]_2$) s'écrit $A8_{16}$\n",
    "- $0111011111_2$ (en blocs de 4 : $[01,1101,1111]_2$) n'a pas un nombre de bits divisibles par 4, on ajoute 2 zéros à gauche : $000111011111_2$ (en blocs de 4 : $[0001,1101,1111]_2$) s'écrit $1DF_{16}$\n",
    "\n",
    "### Conversion héxadécimal en binaire\n",
    "\n",
    "Il s'agit de faire l'opération inverse en utilisant la même table. On supprime les zéros qui se trouvent à gauche\n",
    "\n",
    "**Exemples**\n",
    "\n",
    "- $BC_{16}$ s'écrit $10111100_{2}$\n",
    "- $3B_{16}$ s'écrit $00111011_{2}$ donc $111011_{2}$ "
   ]
  },
  {
   "cell_type": "markdown",
   "id": "eadb9047-023b-4a74-a149-df662df38796",
   "metadata": {},
   "source": [
    "## Exercice 1\n",
    "\n",
    "Complétez le tableau suivant \n",
    "\n",
    "| Valeur binaire | Valeur décimale | valeur héxadécimale |\n",
    "|:---:|:---:|:---:|\n",
    "| $00110110_{2}$ | | |\n",
    "| | $1975_{10}$ | |\n",
    "| | | $F43B_{16}$ |\n",
    "|  | $1000_{10}$ | |\n"
   ]
  },
  {
   "cell_type": "markdown",
   "id": "0ca39e8f-38eb-4063-800a-9a50768ce0d1",
   "metadata": {},
   "source": [
    "## Représentation des caractères"
   ]
  },
  {
   "cell_type": "markdown",
   "id": "26b7e14e-65ac-4b19-8189-7a1b2819b94c",
   "metadata": {},
   "source": [
    "### Le codage ASCII\n",
    "\n",
    "Dans ce cours nous nous limitons au codage ASCII pour les caractères. Le codage ASCII permet de coder 127 caractères différents. Il faut donc 7 bits pour coder l'entier des caractères.\n",
    "\n",
    "La table de conversion décimal (colonne violette) - hexadécimal (colonne rouge) - caractère (colonne turquoise) se décline ainsi :\n",
    "\n",
    "![ASCIITable](https://vkeller.github.io/modulo-gybe/_images/ASCII.png \"Table ASCII\")"
   ]
  },
  {
   "cell_type": "markdown",
   "id": "4b63db20-fb23-42be-b6f7-01d0202424ea",
   "metadata": {},
   "source": [
    "### Exercice 2\n",
    "\n",
    "1. Quelle est la valeur en ASCII de la suite $71_{10}, 121_{10}, 109_{10}, 110_{10}, 97_{10}, 115_{10}, 101_{10}$ ?\n",
    "1. Quelle est la valeur en ASCII de la suite $1000010_2, 1100101_2, 1100001_2, 1110101_2, 1101100_2, 1101001_2, 1100101_2, 1110101_2$ ?\n",
    "1. Quelle est la valeur en ASCII de la suite $62_{16}, 69_{16}, 6E_{16}, 61_{16}, 69_{16}, 72_{16}, 65_{16}$ ?"
   ]
  },
  {
   "cell_type": "markdown",
   "id": "52118805-fe63-4d6b-b904-d7f61395e261",
   "metadata": {},
   "source": [
    "## Les images matricielles\n",
    "\n",
    "Une image matricielle est définie par un tableau de pixels (éléments d'image). Les formats PGM/PPM décrit ce tableau en commençant en haut à gauche de l'image et termine en bas à droite, ligne par ligne. \n",
    "\n",
    "![PIXELS](https://vkeller.github.io/modulo-gybe/_images/bitmap.png \"Pixelization\")\n",
    "\n",
    "Chaque pixel est codé avec le codage RGB (Red-Green-Blue) qui permet de coder $(2^8)^3$ couleurs différentes : du blanc $000000_{16}$ au noir $FFFFFF_{16}$.\n",
    "\n",
    "![RGB](https://vkeller.github.io/modulo-gybe/_images/RGB.png \"RGB\")\n",
    "\n",
    "\n",
    "| Valeur du <span style=\"color:red\">ROUGE</span> | Valeur du <span style=\"color:green\">VERT</span> | Valeur du <span style=\"color:blue\">BLEU</span> | Résultat |\n",
    "| :-----: | :-----: | :-----: | :-----: |\n",
    "| ```255``` | ```0``` | ```0``` | rouge |\n",
    "| ```0``` | ```255``` | ```0``` | vert |\n",
    "| ```0``` | ```0``` | ```255``` | bleu |\n",
    "| ```255``` | ```255``` | ```0``` | jaune |\n",
    "| ```0``` | ```0``` | ```0``` | noir |\n",
    "| ```255``` | ```255``` | ```255``` | blanc |\n",
    "| ```125``` | ```125``` | ```125``` | gris intermédiaire |\n",
    "\n",
    "La valeur décimale (par exemple $255$) peut se convertir en hexadécimal avec ce qui a été vu plus haut\n"
   ]
  },
  {
   "cell_type": "markdown",
   "id": "02f82c08-671e-4b36-8cdb-954504127c81",
   "metadata": {},
   "source": [
    "### Exercice 3\n",
    "\n",
    "1. Quel est le nombre maximum de niveaux de gris peut-on coder avec le système RGB ?\n",
    "1. Sans utiliser de logiciel externe, quelle est la couleur composante dominante de la couleur $(100_{10},240_{10},10_{10})$ ?\n",
    "1. Quelle est la valeur en décimal de la couleur $(8F_{16}, 0F_{16}, 22_{16})$ et quelle est la couleur composante dominante ?\n",
    "1. Quelle est la valeur en décimal de la couleur $(10001111_2, 00001111_2, 00100010_2)$"
   ]
  },
  {
   "cell_type": "markdown",
   "id": "6373f965-6399-4727-8a45-659e281a002f",
   "metadata": {},
   "source": [
    "## Le son\n",
    "\n",
    "Numériser un son se déroule en 3 étapes :\n",
    "\n",
    "1. Echantillonnage\n",
    "1. Quantification\n",
    "1. Encodage\n",
    "\n"
   ]
  },
  {
   "cell_type": "markdown",
   "id": "b484e0d7-7553-42fe-9fde-14c97fd94791",
   "metadata": {},
   "source": [
    "### Exercice 4\n",
    "\n",
    "1. Quelle est la plage de fréquences par l'oreille humaine ?\n",
    "1. Si la fréquence maximum audible est de $20$ KHz, quelle est la fréquence d'échantillonnage idéale ?\n",
    "1. Que se passe-t-il si la fréquence d'échantillonnage est trop basse, quelles sont les fréquences qui ne sont pas codées ?"
   ]
  },
  {
   "cell_type": "markdown",
   "id": "fb0c9948-ed46-495e-aa0b-784973a3e3e0",
   "metadata": {},
   "source": [
    "## Généralités\n",
    "\n",
    "Afin qu'un **système d'exploitation** reconnaisse une suite de bits, qu'il puisse discriminer entre un caractère, un entier, une image ou un son, il faut ajouter au fichier un **en-tête** et qui contient des méta-données sur le format du fichier. "
   ]
  },
  {
   "cell_type": "markdown",
   "id": "922713ec-b7b2-4fbf-bf76-cf8c2bbe5f6b",
   "metadata": {},
   "source": [
    "## Réponses aux Exercices\n",
    "\n",
    "### Exercice 1\n",
    "\n",
    "| Valeur binaire | Valeur décimale | valeur héxadécimale |\n",
    "| :---: | :---: | :---: |\n",
    "| $00110110_{2}$ | $54_{10}$ | $36_{10}$ |\n",
    "| $11110110111_{2}$ | $1975_{10}$ | $7B7_{10}$ |\n",
    "| $1111010000111011_{2}$ | $62523_{10}$ | $F43B_{16}$ |\n",
    "| $1111101000_{2}$ | $1000_{10}$ | $3E8_{16}$ |\n",
    "\n",
    "### Exercice 2\n",
    "\n",
    "1. G y m n a s e\n",
    "1. B e a u l i e u\n",
    "1. b i n a i r e\n",
    "\n",
    "### Exercice 3\n",
    "\n",
    "1. 256\n",
    "1. Verte\n",
    "1. (143, 15, 34) et la dominante est rouge\n",
    "1. (143, 15, 34)\n",
    "\n",
    "### Exercice 4\n",
    "\n",
    "1. 20 Hz - 20 KHz\n",
    "1. 40 KHz ou plus (attention au sur-échantillonnage\n",
    "1. Si la fréquence d'échantillonnage est trop faible, les fréquences hautes ne seront pas codées et seules les fréquences basses seront présentes"
   ]
  },
  {
   "cell_type": "code",
   "execution_count": null,
   "id": "90efd9a5-c682-433c-941f-40dd4cedd90b",
   "metadata": {},
   "outputs": [],
   "source": []
  }
 ],
 "metadata": {
  "kernelspec": {
   "display_name": "Python 3 (ipykernel)",
   "language": "python",
   "name": "python3"
  },
  "language_info": {
   "codemirror_mode": {
    "name": "ipython",
    "version": 3
   },
   "file_extension": ".py",
   "mimetype": "text/x-python",
   "name": "python",
   "nbconvert_exporter": "python",
   "pygments_lexer": "ipython3",
   "version": "3.9.2"
  }
 },
 "nbformat": 4,
 "nbformat_minor": 5
}
