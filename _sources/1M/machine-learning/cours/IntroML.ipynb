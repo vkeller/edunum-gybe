{
 "cells": [
  {
   "cell_type": "markdown",
   "id": "3c4e5363-c640-498c-bff0-a2ba31caac5b",
   "metadata": {},
   "source": [
    "![AI](images/AI.jpg \"Intelligence artificielle\")\n",
    "\n",
    "# Introduction à l'Intelligence Artificielle"
   ]
  },
  {
   "cell_type": "markdown",
   "id": "1f6cc11c-e24a-40b4-a34b-9ea7749e52b5",
   "metadata": {},
   "source": [
    "## Objectifs pédagogiques\n",
    "\n",
    "Séquence pédagogique étalée sur plusieurs périodes\n",
    "\n",
    "- comprendre le concept d'apprentissage automatique\n",
    "- connaître quelques éléments d'histoire de l'apprentissage automatique\n",
    "- expliquer ce qu'est un automate cellulaire et développer le jeu de la vie en TP\n",
    "- comparer les apprentissages supervisés et développer un réseau neuronal simple (MINST) en TP"
   ]
  },
  {
   "cell_type": "markdown",
   "id": "39170017-e3e5-4666-9f91-a151adab6d49",
   "metadata": {},
   "source": [
    "## C'est quoi l'intelligence Artificielle ?"
   ]
  },
  {
   "cell_type": "markdown",
   "id": "40ae1299-8cb2-43e0-9b62-a144cfb56160",
   "metadata": {},
   "source": [
    "## Exemple introductif déconnecté\n",
    "\n",
    "La machine qui apprend toute seule\n",
    "\n",
    "Source : https://projet.liris.cnrs.fr/lirismed/index.php?id=la-machine-qui-apprend-a-jouer-toute-seule"
   ]
  },
  {
   "cell_type": "markdown",
   "id": "121447cb-fa20-4a1a-8977-7bb17f40f396",
   "metadata": {},
   "source": [
    "## Réseau neuronal\n",
    "\n",
    "- Apprentissage supervisé (MINST chiffres manuscrits)\n",
    "- Apprentissage non-supervisé \n",
    "- Introduction avec Scikit-learn en TP"
   ]
  },
  {
   "cell_type": "markdown",
   "id": "92653b97-4bfe-4518-a45e-8a3e539f45b0",
   "metadata": {},
   "source": [
    "## Application au monde des Jeux (théorie des jeux)"
   ]
  },
  {
   "cell_type": "code",
   "execution_count": null,
   "id": "ed21938c-14de-4b37-982c-dd43027f1b74",
   "metadata": {},
   "outputs": [],
   "source": []
  }
 ],
 "metadata": {
  "kernelspec": {
   "display_name": "Python 3 (ipykernel)",
   "language": "python",
   "name": "python3"
  },
  "language_info": {
   "codemirror_mode": {
    "name": "ipython",
    "version": 3
   },
   "file_extension": ".py",
   "mimetype": "text/x-python",
   "name": "python",
   "nbconvert_exporter": "python",
   "pygments_lexer": "ipython3",
   "version": "3.9.2"
  }
 },
 "nbformat": 4,
 "nbformat_minor": 5
}
