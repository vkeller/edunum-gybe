{
 "cells": [
  {
   "cell_type": "markdown",
   "id": "0825803b-8543-4015-8f19-b3eba70f2486",
   "metadata": {},
   "source": [
    "![RNN](images/rnn.png \"Neural Network\")\n",
    "\n",
    "# Réseaux Neuronaux Récurrents (RNN)\n",
    "\n",
    "## Objectifs pédagogiques\n",
    "\n",
    "- comprendre les différentes étapes de construction d'un réseau neuronal\n",
    "- appliquer un réseau neuronal avec `scikit-learn` en Python3 en TP"
   ]
  },
  {
   "cell_type": "code",
   "execution_count": null,
   "id": "3d2291e9-1f3a-4fbc-9040-efca2f70bef4",
   "metadata": {},
   "outputs": [],
   "source": []
  }
 ],
 "metadata": {
  "kernelspec": {
   "display_name": "Python 3 (ipykernel)",
   "language": "python",
   "name": "python3"
  },
  "language_info": {
   "codemirror_mode": {
    "name": "ipython",
    "version": 3
   },
   "file_extension": ".py",
   "mimetype": "text/x-python",
   "name": "python",
   "nbconvert_exporter": "python",
   "pygments_lexer": "ipython3",
   "version": "3.9.2"
  }
 },
 "nbformat": 4,
 "nbformat_minor": 5
}
