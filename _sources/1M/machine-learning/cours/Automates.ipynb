{
 "cells": [
  {
   "cell_type": "markdown",
   "id": "387b60f4-c99d-47fd-91c9-207807378d7d",
   "metadata": {},
   "source": [
    "![conway](images/conway2.jpg \"Jeu de la vie\")\n",
    "\n",
    "Biowall au [Musée Bolo de l'EPFL](https://www.museebolo.ch/)\n",
    "\n",
    "# Automates cellulaires"
   ]
  },
  {
   "cell_type": "code",
   "execution_count": null,
   "id": "773e388b-2e86-4423-a97d-77a6d4e29e88",
   "metadata": {},
   "outputs": [],
   "source": []
  }
 ],
 "metadata": {
  "kernelspec": {
   "display_name": "Python 3 (ipykernel)",
   "language": "python",
   "name": "python3"
  },
  "language_info": {
   "codemirror_mode": {
    "name": "ipython",
    "version": 3
   },
   "file_extension": ".py",
   "mimetype": "text/x-python",
   "name": "python",
   "nbconvert_exporter": "python",
   "pygments_lexer": "ipython3",
   "version": "3.9.2"
  }
 },
 "nbformat": 4,
 "nbformat_minor": 5
}
