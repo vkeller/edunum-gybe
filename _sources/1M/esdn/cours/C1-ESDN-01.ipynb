{
 "cells": [
  {
   "cell_type": "markdown",
   "id": "7cb417b1-7c93-487e-8ea7-bb0e8e137d50",
   "metadata": {},
   "source": [
    "![DigitalCitizenship](images/digitalcitizenship.png \"Citoyenneté numérique\")\n",
    "\n",
    "# C1-ESDN-01 : Enjeux sociaux du Numérique"
   ]
  },
  {
   "cell_type": "markdown",
   "id": "30743a9a-e54c-44b7-b2a8-bd49ed2fb082",
   "metadata": {},
   "source": [
    "## Objectifs pédagogiques\n",
    "\n",
    "- connaître les contenus théoriques abordés dans le cours ;\n",
    "- acquérir un vocabulaire informatique ;\n",
    "- mener une réflexion en s’appuyant sur les concepts informatiques étudiés ;\n",
    "- développer une pensée critique argumentative ;\n",
    "- prendre de la distance par rapport à un certain nombre d’idées reçues ;\n",
    "- différencier ce qui relève d’une science informatique d’une informatique non scientifique ou populaire (« pensée magique »);;\n",
    "- examiner le vécu quotidien en se référant aux éléments théoriques abordés lors des cours"
   ]
  },
  {
   "cell_type": "markdown",
   "id": "907fd1a1-2189-4c41-b1c1-e7c7d210b042",
   "metadata": {},
   "source": [
    "## De quoi parle-t-on ?\n",
    "\n",
    "La numérisation croissante de la société nécessite la compréhension des enjeux sociaux, politiques et économiques que les transformations dues au numérique soulèvent.\n",
    "\n",
    "### Former les citoyens de demain\n",
    "\n",
    "- prise en main de l'univers numérique de manière **sécuritaire**, **responsable**\n",
    "- développer un esprit critique\n",
    "- s'engager activement avec **respect** dans l'univers numérique\n",
    "- **droits** et **devoirs**, **vie privée** (la sienne et celle des autres)\n",
    "\n",
    "### Lutter contre la fracture numérique\n",
    "\n",
    "- disparités sociales\n",
    "- accès à l'univers numérique\n",
    "- inégalités dans les connaissances"
   ]
  },
  {
   "cell_type": "markdown",
   "id": "81051de1-ded0-48db-9e01-a716703eab17",
   "metadata": {},
   "source": [
    "## Méthodologie\n",
    "\n",
    "Comprendre l'influence du numérique sur le fonctionnement de la société. Notamment (sans ordre prédéfini)\n",
    "\n",
    "- les rapports sociaux\n",
    "- la politique\n",
    "- l'économie\n",
    "- l'écologie\n",
    "- la culture\n",
    "- l'éthique\n",
    "\n",
    "dépasse très largement les attributions horaires d'un cours d'introduction à la science informatique. \n",
    "\n",
    "Ce cours n'est pas un cours de sociologie. Sur des bases théoriques, technologiques et scientifiques, nous analyserons des textes, des articles, des situations qui mettent en jeu la sociologie du numérique.\n",
    "\n",
    "Un **choix de sujets** a été opéré. "
   ]
  },
  {
   "cell_type": "markdown",
   "id": "a51f23b9-e22a-4831-a014-8451e02bc8f4",
   "metadata": {},
   "source": [
    "## Evaluation\n",
    "\n",
    "L'évaluation notée le sera sous la forme d'un exposé sur un sujet (article) imposé. Cet article devra être explicité, critiqué, argumenté en mobilisant les concepts théoriques et techniques du cours et des travaux pratiques. "
   ]
  },
  {
   "cell_type": "markdown",
   "id": "0d7b27d1-e42f-401b-8a25-a6e4c3925348",
   "metadata": {},
   "source": [
    "## Références\n",
    "\n",
    "- Adel Ben Youssef, *Les quatre dimensions de la fracture numérique* {cite}`benyoussef`"
   ]
  },
  {
   "cell_type": "code",
   "execution_count": null,
   "id": "b4d258f1-7c94-41cb-acc7-a937777c8e39",
   "metadata": {},
   "outputs": [],
   "source": []
  }
 ],
 "metadata": {
  "kernelspec": {
   "display_name": "Python 3 (ipykernel)",
   "language": "python",
   "name": "python3"
  },
  "language_info": {
   "codemirror_mode": {
    "name": "ipython",
    "version": 3
   },
   "file_extension": ".py",
   "mimetype": "text/x-python",
   "name": "python",
   "nbconvert_exporter": "python",
   "pygments_lexer": "ipython3",
   "version": "3.9.2"
  }
 },
 "nbformat": 4,
 "nbformat_minor": 5
}
