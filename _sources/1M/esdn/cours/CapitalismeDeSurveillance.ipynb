{
 "cells": [
  {
   "cell_type": "markdown",
   "id": "4e8f6058-8738-4483-b8e8-26ef538cc726",
   "metadata": {},
   "source": [
    "![Zuboff](images/zuboff.jpg \"Shoshana Zuboff\")\n",
    "\n",
    "**Shoshona Zuboff** née en 1951, est universitaire, professeure émérite à Harvard, sociologue et femme de lettres américaine. Elle est l'auteur du livre [L'âge du capitalisme de surveillance](https://www.monde-diplomatique.fr/2019/01/ZUBOFF/59443) où elle y décrit l'impact du Big Data dans le capitalisme et qui vise à prédire et modifier le comportement humain dans le but de générer des revenus pour les entreprises qui mettent en place cette surveillance\n",
    "\n",
    "\n",
    "# Cours 2 : Le capitalisme de surveillance"
   ]
  },
  {
   "cell_type": "code",
   "execution_count": null,
   "id": "b8de23af-f73e-4ed7-be4c-5d28d7e039c0",
   "metadata": {},
   "outputs": [],
   "source": []
  }
 ],
 "metadata": {
  "kernelspec": {
   "display_name": "Python 3 (ipykernel)",
   "language": "python",
   "name": "python3"
  },
  "language_info": {
   "codemirror_mode": {
    "name": "ipython",
    "version": 3
   },
   "file_extension": ".py",
   "mimetype": "text/x-python",
   "name": "python",
   "nbconvert_exporter": "python",
   "pygments_lexer": "ipython3",
   "version": "3.9.2"
  }
 },
 "nbformat": 4,
 "nbformat_minor": 5
}
