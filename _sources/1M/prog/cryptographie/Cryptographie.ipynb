{
 "cells": [
  {
   "cell_type": "markdown",
   "id": "8011b187-ee26-4d32-b91e-26dca9c2020b",
   "metadata": {},
   "source": [
    "![clef](images/clef.jpg \"Clef de cryptage\")\n",
    "\n",
    "# TP CRYP01 : Introduction à la cryptographie\n",
    "\n",
    "## Objectifs\n",
    "\n",
    "- implémenter les algorithmes vus au cours :\n",
    "    - Scytale (Baton de Plutarque)\n",
    "    - attaque par force brute\n",
    "    - élagage des solutions"
   ]
  },
  {
   "cell_type": "code",
   "execution_count": null,
   "id": "e2f3392f-1c96-48a7-8d9e-870f668e9bc6",
   "metadata": {},
   "outputs": [],
   "source": []
  }
 ],
 "metadata": {
  "kernelspec": {
   "display_name": "Python 3 (ipykernel)",
   "language": "python",
   "name": "python3"
  },
  "language_info": {
   "codemirror_mode": {
    "name": "ipython",
    "version": 3
   },
   "file_extension": ".py",
   "mimetype": "text/x-python",
   "name": "python",
   "nbconvert_exporter": "python",
   "pygments_lexer": "ipython3",
   "version": "3.9.2"
  }
 },
 "nbformat": 4,
 "nbformat_minor": 5
}
