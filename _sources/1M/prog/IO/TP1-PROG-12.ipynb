{
 "cells": [
  {
   "cell_type": "markdown",
   "id": "8e5576fa-7875-4ba1-a9d3-616183182caf",
   "metadata": {},
   "source": [
    "![io](images/io.png \"Entrées-Sorties\")\n",
    "\n",
    "# TP1-PROG-12: Les entrées-sorties"
   ]
  },
  {
   "cell_type": "markdown",
   "id": "5410ff39-b5e7-445c-92f9-a6f372d36cd3",
   "metadata": {},
   "source": [
    "## Objectifs pédagogiques:\n",
    "\n",
    "- approfondir les entrées sorties en Python\n",
    "- appliquer sur des problèmes simples"
   ]
  },
  {
   "cell_type": "markdown",
   "id": "5abc1080-8554-4bc6-8c1b-3a90bd20ebeb",
   "metadata": {},
   "source": [
    "## Entrées et sorties dans un algorithme\n",
    "\n",
    "Un algorithme possède des entrées et des sorties. \n",
    "\n",
    "### Entrées\n",
    "\n",
    "Une entrée d'un algorithme est une donnée qui sera utilisée durant l'exécution de l'algorithme. \n",
    "\n",
    "### Sorties\n",
    "\n",
    "Une sortie d'un algorithme est un résultat donné par l'algorithme\n",
    "\n",
    "### Les entrées et sorties dans un algorigramme\n",
    "\n",
    "Une entrée ou une sortie est symbolisée dans un algorigramme par :\n",
    "\n",
    "![io2](images/io-algo.png \"algorigramme io\")"
   ]
  },
  {
   "cell_type": "markdown",
   "id": "3666e1dc-aeb1-46ca-9a39-9baa8579e72e",
   "metadata": {},
   "source": [
    "## Entrées et sorties dans un ordinateur\n",
    "\n",
    "Il existe deux principaux dispositifs permettant de fournir des données à l'ordinateur : **le clavier** et **la souris**. On dit que ce sont des *input devices*. \n",
    "\n",
    "Il existe un principal dispositif permettant à l'ordinateur de fournir un résultat : **l'écran**\n",
    "\n",
    "On remarquera que les trois dispositifs sont regroupés dans un seul sur un smartphone : **l'écran tactile** "
   ]
  },
  {
   "cell_type": "markdown",
   "id": "71bc3ad6-7630-489c-8cff-f644c52831c8",
   "metadata": {},
   "source": [
    "## Programme Python\n",
    "\n",
    "Le shéma d'entrées-sorties dans un programme Python peut être vu comme :\n",
    "\n",
    "![io-ico](images/io-icone.png \"Schema\")\n",
    "\n",
    "### Les sorties Python \n",
    "\n",
    "On utilise la fonction `print()` dont l'argument ou les arguments sont décrits dans la parenthèse:\n",
    "\n",
    "```\n",
    "print(\"Bonjour\")\n",
    "```\n",
    "\n",
    "### Les entrées Python\n",
    "\n",
    "On utilise la fonction `input()`. Cette fonction **retourne une valeur** qui doit être assignée à une variable.\n",
    "\n",
    "```\n",
    "N = input()\n",
    "```\n",
    "\n",
    "**Attention** : le type retourné par la fonction `input()` est une **chaîne de caractères** !!! Cela signifie que la variable `N` est de type `str`(chaîne de caractères)\n",
    "\n",
    "### Type de variable\n",
    "\n",
    "Dans ce TP, nous allons travailler avec deux types de variables :\n",
    "\n",
    "1. les **chaînes de caractères** ou `str`(qui signifie *string*)\n",
    "1. les **nombres entiers** ou `int` (qui signifie *integer*)\n",
    "\n",
    "#### Passage d'un type à l'autre (casting)\n",
    "\n",
    "Il est possible de changer le type d'une variable. C'est le **casting**. Par exemple :\n",
    "\n",
    "```\n",
    "N = input(\"Entrez le nombre de places disponibles : \")\n",
    "N = int(N)\n",
    "```\n"
   ]
  },
  {
   "cell_type": "markdown",
   "id": "fc40cf4b-8d14-4a45-91d2-4b52935632d0",
   "metadata": {},
   "source": [
    "## Exercice 1\n",
    "\n",
    "Ecrivez un programme qui demande un prénom, stocke l'entrée dans la variable `prenom` et affiche des salutations (du type *Bonjour Caroline*\n",
    "\n",
    "## Exercice 2\n",
    "\n",
    "Ecrivez un programme qui demande un chiffre, le double, puis affiche le résultat"
   ]
  },
  {
   "cell_type": "markdown",
   "id": "12fac6b3-a366-48fa-abba-d973dd17f663",
   "metadata": {},
   "source": [
    "## Exercice 3\n",
    "\n",
    "Ecrivez un programme qui demande le prénom et l'âge de l'utilisateur et affiche `Bonjour Caroline, vous êtes née en 1974`"
   ]
  },
  {
   "cell_type": "code",
   "execution_count": null,
   "id": "32543f38-cd60-4038-a7f6-0955c918d10a",
   "metadata": {},
   "outputs": [],
   "source": []
  }
 ],
 "metadata": {
  "kernelspec": {
   "display_name": "Python 3 (ipykernel)",
   "language": "python",
   "name": "python3"
  },
  "language_info": {
   "codemirror_mode": {
    "name": "ipython",
    "version": 3
   },
   "file_extension": ".py",
   "mimetype": "text/x-python",
   "name": "python",
   "nbconvert_exporter": "python",
   "pygments_lexer": "ipython3",
   "version": "3.9.2"
  }
 },
 "nbformat": 4,
 "nbformat_minor": 5
}
