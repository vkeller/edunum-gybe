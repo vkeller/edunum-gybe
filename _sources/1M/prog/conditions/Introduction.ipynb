{
 "cells": [
  {
   "cell_type": "markdown",
   "id": "7d78dfc8-4c6b-416e-b14b-3c974638f3fc",
   "metadata": {},
   "source": [
    "# Les tests conditionnels"
   ]
  },
  {
   "cell_type": "markdown",
   "id": "c0be75ce-df2d-4d32-bd58-f8f3dc38e3f2",
   "metadata": {},
   "source": [
    "## Instruction conditionnelle\n",
    "\n",
    "la structure est la suivante : SI ... ALORS ... SINON\n",
    "\n",
    "En python :\n",
    "\n",
    "```\n",
    "if condition :\n",
    "   instruction1\n",
    "else:\n",
    "   instruction2\n",
    "```\n",
    "La condition est un test. Un test compare deux valeurs et retourne VRAI ou FAUX. Par exemple :\n",
    "\n",
    "- si la variable a est plus grand que 4 alors ...\n",
    "- si la chaîne de caractères prenom est égal à 'Caroline' alors...\n",
    "\n",
    "Que l'on traduit en Python par :\n",
    "\n",
    "```\n",
    "if a > 4 :\n",
    "```\n",
    "et\n",
    "```\n",
    "if prenom == 'Caroline':\n",
    "```\n",
    "Attention à la notation, le mot en français \"ALORS\" se traduit par les deux points.\n",
    "\n",
    "Si un test est vrai, alors il existe son opposé qui est faux. Et vice-versa !\n",
    "\n",
    "- le test \"si la variable a est plus grand que 4\" est vrai, alors l'opposé est \"la variable a est plus petite ou égale à 4\"\n",
    "- le test \"si la chaîne de caractères prenom est égal à 'Caroline'\" est vrai, alors l'opposé est \"la chaîne de caractères prenom n'est pas égal à 'Caroline'\"\n",
    "\n",
    "En python cela se traduit par le mot-clef `else`.\n",
    "\n",
    "```\n",
    "if prenom == 'Caroline':\n",
    "   instruction...\n",
    "else:\n",
    "   autre instruction\n",
    "```\n",
    "Il est possible d'imbriquer plusieurs tests\n"
   ]
  },
  {
   "cell_type": "markdown",
   "id": "08bbdb88-946e-45d9-bf78-577ed1246aad",
   "metadata": {},
   "source": [
    "### Exercice 1 (math-physique et biol-chimie)\n",
    "\n",
    "Ecrire un programme qui vérifie qu'un nombre est pair (ou impair)\n",
    "\n",
    "### Exercice 1 (autres OS)\n",
    "\n",
    "- Ajoutez une question de type philosophie: \"La grande question sur la vie, l'univers et le reste\" dont la réponse est : A vous de trouver \n",
    "- Ajoutez une nouvelle catégorie de question de type psychologie en implémentant une nouvelle fonction quizz_psycho() sur le même modèle que les 2 autres. \n",
    "\n",
    "En modifiant le code suivant "
   ]
  },
  {
   "cell_type": "code",
   "execution_count": null,
   "id": "449478a6-3a77-453a-acbf-01054fa38227",
   "metadata": {},
   "outputs": [],
   "source": [
    "def quizz_info():\n",
    "    r = input(\"Qui est le meilleur prof: \\n 1 : M. Keller \\n 2: un autre ... \\n Votre réponse:\")\n",
    "    if r == '1':\n",
    "        print(\"Bonne réponse\")\n",
    "    else:\n",
    "        print(\"Mauvaise réponse\")\n",
    "\n",
    "def quizz_philo():\n",
    "    r = input(\"quizz philo\")\n",
    "    \n",
    "\n",
    "print(\"Quizz simple\")\n",
    "print(\"Jouons ? C'est parti...\")\n",
    "reponse = ''\n",
    "while reponse != 'q':\n",
    "    reponse = input(\"Choisissez votre question: \\n 1: informatique \\n 2: philo \\n Votre réponse ('q' pour quitter):\")\n",
    "    if (reponse == '1'):\n",
    "        quizz_info()\n",
    "    elif (reponse == '2'):\n",
    "        quizz_philo()\n",
    "    elif (reponse == 'q'):\n",
    "        print(\"Vous avez décidé de quitter\")\n",
    "    else:\n",
    "        print(reponse,\"invalide. Tapez 1 ou 2 ou q pour quitter\")\n"
   ]
  },
  {
   "cell_type": "markdown",
   "id": "f60a050b-61e9-4a7d-9999-291889b964d3",
   "metadata": {},
   "source": [
    "### Exercice 2 (math-physique et biol-chimie)\n",
    "\n",
    "Ecrire un programme qui vérifie qu'un nombre est divisible par 3 et par 7"
   ]
  },
  {
   "cell_type": "markdown",
   "id": "e2d54db2-d03c-4739-ac88-8f9f6510e3bc",
   "metadata": {},
   "source": [
    "### Exercice 3 La Piscine (tiré du concours Castor Informatique)\n",
    "\n",
    "![castor piscine](piscine.jpg \"Piscine\")\n",
    "\n",
    "Analysons les conditions d'entrée:\n",
    "\n",
    "- Si la personne est âgée de 8 ans ou plus\n",
    "- Si la personne a moins de 8 ans, alors elle doit être accompagnée par une personne de 10 ans ou plus\n",
    "\n",
    "Il s'agit donc de définir trois fonctions :\n",
    "\n",
    "- une fonction entree(age) qui renvoie vrai (True) ou faux (False) si la personne a le droit d'entrer\n",
    "- une fonction accompagne qui renvoie vrai (True) ou faux (False) si la personne est accompagnée\n",
    "- une fonction verification() qui utilise les deux fonctions entree() et accompagne()\n",
    "\n",
    "Et ensuite tester toutes les possibilités avec les données de base.\n",
    "Exercice\n",
    "\n",
    "Implémenter en Python un programme qui répond à la question du Castor. Le code aura la structure suivante :\n",
    "\n",
    "```\n",
    "def entree(age):\n",
    "   ....\n",
    "\n",
    "\n",
    "def accompagne(grand):\n",
    "   ....\n",
    "\n",
    "\n",
    "def verification(enfant1, age1, enfant2, age2):\n",
    "   ....\n",
    "\n",
    "age_anita = 12\n",
    "age_jean = 6\n",
    "\n",
    "verification(\"Anita\",age_anita,\"Jean\",age_jean)\n",
    "```\n",
    "\n",
    "Le programme doit fonctionner quelque soit l'ordre des enfants donnés en paramètre à la fonction verification()"
   ]
  },
  {
   "cell_type": "code",
   "execution_count": null,
   "id": "22d3f41f-49d7-40c8-9acd-7553856af719",
   "metadata": {},
   "outputs": [],
   "source": []
  }
 ],
 "metadata": {
  "kernelspec": {
   "display_name": "Python 3",
   "language": "python",
   "name": "python3"
  },
  "language_info": {
   "codemirror_mode": {
    "name": "ipython",
    "version": 3
   },
   "file_extension": ".py",
   "mimetype": "text/x-python",
   "name": "python",
   "nbconvert_exporter": "python",
   "pygments_lexer": "ipython3",
   "version": "3.7.3"
  }
 },
 "nbformat": 4,
 "nbformat_minor": 5
}
