{
 "cells": [
  {
   "cell_type": "markdown",
   "id": "obvious-elite",
   "metadata": {},
   "source": [
    "# Le système de fichiers\n",
    "\n",
    "On appelle **système de fichier** l'organisation hierarchique des fichiers au sein d'un **système d'exploitation**.\n",
    "\n",
    "![](https://upload.wikimedia.org/wikipedia/commons/thumb/0/09/Baobab_and_elephant%2C_Tanzania.jpg/640px-Baobab_and_elephant%2C_Tanzania.jpg)\n",
    "\n",
    "Télécharger: {download}`dosser-a-cracker.zip <dossier-a-cracker.zip>`"
   ]
  },
  {
   "cell_type": "markdown",
   "id": "american-youth",
   "metadata": {},
   "source": [
    "## Objectifs\n",
    "\n",
    "- Comprendre le système de fichiers UNIX (MacOS X)\n",
    "- Se déplacer dans un système de fichiers\n",
    "- Créer et supprimer des dossiers"
   ]
  },
  {
   "cell_type": "markdown",
   "id": "indoor-concern",
   "metadata": {},
   "source": [
    "## Fichier informatique\n",
    "\n",
    "Un fichier informatique est un ensemble de données numériques réunies sous un même nom, enregistrées sur un support de stockage permanent. On peut distinguer différents types de fichies tel que:\n",
    "\n",
    "- programmes\n",
    "- textes\n",
    "- images"
   ]
  },
  {
   "cell_type": "markdown",
   "id": "south-diagram",
   "metadata": {},
   "source": [
    "## Dossiers\n",
    "\n",
    "Dans un ordinateur on a vite des milliers de fichiers. Nous utilisons des dossiers pour les organiser.\n",
    "Un **dossier** est un contenant de fichiers et de sous-dossiers."
   ]
  },
  {
   "cell_type": "markdown",
   "id": "stunning-legislature",
   "metadata": {},
   "source": [
    "## Structure en arbre\n",
    "\n",
    "Les ordinateurs organisent les dossiers et fichiers sous forme d'**arbre**, où\n",
    "\n",
    "- un dossier est un **noeud**\n",
    "- un fichier est une **feuille**\n",
    "\n",
    "On appelle cette structure une **arborescence**.  \n",
    "La **racine** de cet arbre est désigné par le symbole `/`.\n",
    "\n",
    "![](https://pixees.fr/informatiquelycee/n_site/img/nsi_prem_base_linux_2.png)\n",
    "\n",
    "Vous pouvez retrouver cette arborescence dans l'**interface graphique** de votre système d'exploitation.  \n",
    "Voici une fenêtre du **gestionnaire des fichiers**.\n",
    "\n",
    "![](https://osxdaily.com/wp-content/uploads/2010/02/mac-os-x-finder-column-view.JPG)\n",
    "\n",
    "Chaque colonne représente un niveau dans la structure hiérarchique du système des fichiers."
   ]
  },
  {
   "cell_type": "markdown",
   "id": "binary-palmer",
   "metadata": {},
   "source": [
    "## Se déplacer\n",
    "La commande `pwd` (print working directory) affiche le chemin du répertoire où nous nous trouvons."
   ]
  },
  {
   "cell_type": "code",
   "execution_count": null,
   "id": "printable-wells",
   "metadata": {},
   "outputs": [],
   "source": [
    "pwd"
   ]
  },
  {
   "cell_type": "markdown",
   "id": "warming-winning",
   "metadata": {},
   "source": [
    "La commande `cd` (change directory) change de répertoire. Si vous l'utilisez sans argument vous changez vers votre dossier personnel (home)."
   ]
  },
  {
   "cell_type": "code",
   "execution_count": null,
   "id": "artificial-rhythm",
   "metadata": {},
   "outputs": [],
   "source": [
    "cd"
   ]
  },
  {
   "cell_type": "markdown",
   "id": "eligible-ministry",
   "metadata": {},
   "source": [
    "La commande `cd dossier` permet de se déplacer vers un autre dossier."
   ]
  },
  {
   "cell_type": "code",
   "execution_count": null,
   "id": "romantic-replication",
   "metadata": {},
   "outputs": [],
   "source": [
    "cd Downloads"
   ]
  },
  {
   "cell_type": "markdown",
   "id": "genetic-aurora",
   "metadata": {},
   "source": [
    "Et on peut encore aller vers un sous-dossier."
   ]
  },
  {
   "cell_type": "code",
   "execution_count": null,
   "id": "innocent-shirt",
   "metadata": {},
   "outputs": [],
   "source": [
    "cd dossier-a-cracker"
   ]
  },
  {
   "cell_type": "markdown",
   "id": "outer-strain",
   "metadata": {},
   "source": [
    "La commande `ls` (list) affiche le contenu du dossier actuel. Sur certains systèmes les dossiers sont affichés dans une autre couleur."
   ]
  },
  {
   "cell_type": "code",
   "execution_count": null,
   "id": "olive-lotus",
   "metadata": {},
   "outputs": [],
   "source": [
    "ls /"
   ]
  },
  {
   "cell_type": "markdown",
   "id": "based-coating",
   "metadata": {},
   "source": [
    "La commande `ls dossier` affiche le contenu du dossier indiqué."
   ]
  },
  {
   "cell_type": "code",
   "execution_count": null,
   "id": "eligible-harbor",
   "metadata": {},
   "outputs": [],
   "source": [
    "ls confidentiel"
   ]
  },
  {
   "cell_type": "markdown",
   "id": "retained-packet",
   "metadata": {},
   "source": [
    "**Exercice**   \n",
    "Utilisez `ls` pour afficher le contenue de `business`."
   ]
  },
  {
   "cell_type": "markdown",
   "id": "critical-norwegian",
   "metadata": {},
   "source": [
    "## Créer des dossier\n",
    "La commande `mkdir` (make directory) créé un nouveau dossier. Ici on va créer un nouveau dossier appelé `informatique`."
   ]
  },
  {
   "cell_type": "code",
   "execution_count": null,
   "id": "accepting-passport",
   "metadata": {},
   "outputs": [],
   "source": [
    "mkdir informatique"
   ]
  },
  {
   "cell_type": "markdown",
   "id": "invalid-characterization",
   "metadata": {},
   "source": [
    "Avec la commande `ls` nous pouvons vérifier que le dossier `informatique` a été créé."
   ]
  },
  {
   "cell_type": "markdown",
   "id": "ecological-vegetarian",
   "metadata": {},
   "source": [
    "La commande `rmdir` (remove directory) supprime un dossier."
   ]
  },
  {
   "cell_type": "code",
   "execution_count": null,
   "id": "incorporate-termination",
   "metadata": {},
   "outputs": [],
   "source": [
    "rmdir informatique"
   ]
  },
  {
   "cell_type": "markdown",
   "id": "egyptian-sensitivity",
   "metadata": {},
   "source": [
    "Le dossier `informatique` a été supprimé."
   ]
  },
  {
   "cell_type": "markdown",
   "id": "funny-sequence",
   "metadata": {},
   "source": [
    "## Dossiers spéciaux\n",
    "\n",
    "Des symboles spéciaux sont utilisées pour designer des dossiers spéciaux:\n",
    "\n",
    "- `/` racine (root)\n",
    "- `.` dossier actuel\n",
    "- `..` dossier parent\n",
    "- `~` (alt+n) dossier personnel (home)\n",
    "\n",
    "Avec `ls /` vous pouvez afficher le contenue de la racine du système des fichiers:"
   ]
  },
  {
   "cell_type": "code",
   "execution_count": null,
   "id": "rough-shoulder",
   "metadata": {},
   "outputs": [],
   "source": [
    "ls /"
   ]
  },
  {
   "cell_type": "markdown",
   "id": "integrated-enforcement",
   "metadata": {},
   "source": [
    "Avec `ls /bin` vous pouvez afficher le dossier bin (=binary) qui contient le code pour les commande UNIX. Vous y trouvez les commandes `pwd` et `ls`."
   ]
  },
  {
   "cell_type": "code",
   "execution_count": null,
   "id": "younger-gabriel",
   "metadata": {},
   "outputs": [],
   "source": [
    "ls /bin"
   ]
  },
  {
   "cell_type": "markdown",
   "id": "united-earth",
   "metadata": {},
   "source": [
    "Le symbole `.` desinge le dossier actuel."
   ]
  },
  {
   "cell_type": "markdown",
   "id": "driving-petersburg",
   "metadata": {},
   "source": [
    "Le symbole `..` désigne le dossier parent."
   ]
  },
  {
   "cell_type": "code",
   "execution_count": null,
   "id": "molecular-stevens",
   "metadata": {},
   "outputs": [],
   "source": [
    "ls .."
   ]
  },
  {
   "cell_type": "markdown",
   "id": "deadly-boating",
   "metadata": {},
   "source": [
    "Avec la commande `cd ..` on peut retourner au dossier parent"
   ]
  },
  {
   "cell_type": "code",
   "execution_count": null,
   "id": "wrapped-membership",
   "metadata": {},
   "outputs": [],
   "source": [
    "cd .."
   ]
  },
  {
   "cell_type": "markdown",
   "id": "worldwide-bradford",
   "metadata": {},
   "source": [
    "Le symbole `~` (alt+n) désigne le dossier personnel (home). Vous pouvez l'utiliser en combinaison pour des commandes:\n",
    "- `ls ~` lister le contenu du dossier personnel\n",
    "- `cd ~` aller vers le dossier personnel"
   ]
  },
  {
   "cell_type": "markdown",
   "id": "early-gateway",
   "metadata": {},
   "source": [
    "## Afficher le contenu d'un fichier\n",
    "\n",
    "La commande ```cat``` suivie du nom d'un fichier affiche son contenu. On va \n",
    "- aller dans le dossier `dossier-à-cracker`\n",
    "- lister son contenu\n",
    "- afficher le contenu du fichier ```README.txt```"
   ]
  },
  {
   "cell_type": "code",
   "execution_count": null,
   "id": "complex-conservative",
   "metadata": {},
   "outputs": [],
   "source": [
    "pwd"
   ]
  },
  {
   "cell_type": "code",
   "execution_count": null,
   "id": "reduced-knitting",
   "metadata": {},
   "outputs": [],
   "source": [
    "cd dossier-a-cracker"
   ]
  },
  {
   "cell_type": "code",
   "execution_count": null,
   "id": "theoretical-mentor",
   "metadata": {},
   "outputs": [],
   "source": [
    "ls"
   ]
  },
  {
   "cell_type": "code",
   "execution_count": null,
   "id": "floral-feelings",
   "metadata": {},
   "outputs": [],
   "source": [
    "cat README.txt"
   ]
  },
  {
   "cell_type": "markdown",
   "id": "micro-amber",
   "metadata": {},
   "source": [
    "## Exercices\n",
    "\n",
    "Pour cet exercice, n'utilisez pas l'interface graphique de votre ordinateur, mais seulement les commandes `cd`, `ls`, `cat`."
   ]
  },
  {
   "cell_type": "markdown",
   "id": "challenging-rolling",
   "metadata": {},
   "source": [
    "**Afficher le contenu d'un fichier**   \n",
    "Un fichier appelé `ctf.txt` se trouve dans le dossier `dossier-a-cracker/confidentiel/business/Avril`. Quel est son contenu ?"
   ]
  },
  {
   "cell_type": "markdown",
   "id": "protecting-skill",
   "metadata": {},
   "source": [
    "**Créer un dossier**  \n",
    "Créez un dossier `math` dans le répertoire `dossier-a-cracker/confidentiel`."
   ]
  },
  {
   "cell_type": "code",
   "execution_count": null,
   "id": "running-french",
   "metadata": {},
   "outputs": [],
   "source": []
  }
 ],
 "metadata": {
  "kernelspec": {
   "display_name": "Python 3",
   "language": "python",
   "name": "python3"
  },
  "language_info": {
   "codemirror_mode": {
    "name": "ipython",
    "version": 3
   },
   "file_extension": ".py",
   "mimetype": "text/x-python",
   "name": "python",
   "nbconvert_exporter": "python",
   "pygments_lexer": "ipython3",
   "version": "3.7.3"
  }
 },
 "nbformat": 4,
 "nbformat_minor": 5
}
