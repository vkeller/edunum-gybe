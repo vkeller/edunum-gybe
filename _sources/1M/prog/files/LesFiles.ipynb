{
 "cells": [
  {
   "cell_type": "markdown",
   "id": "important-embassy",
   "metadata": {},
   "source": [
    "![](img/poste.jpeg)\n",
    "\n",
    "# TP1-PROG-09 - Les Files\n",
    "\n",
    "Les **files** sont des structures de données proches des listes. Elles permettent de gérer l'arrivé et le départ de ses éléments."
   ]
  },
  {
   "cell_type": "markdown",
   "id": "hollywood-mumbai",
   "metadata": {},
   "source": [
    "## La file d'attente\n",
    "\n",
    "La file d'attente est une structure de données qui permet de gérer les arrivées et les départs. \n",
    "\n",
    "Les opérations d'une file sont :\n",
    "\n",
    "* créer une nouvelle file vide\n",
    "* ajouter un nouvel élément à la file\n",
    "* supprimer un élément de la file\n",
    "\n",
    "Dans une file, **le premier élément ajouté est le dernier que l'on peut enlever**\n",
    "\n",
    "En anglais une file d'attente est connu sous le nom **FIFO** (First In First Out)."
   ]
  },
  {
   "cell_type": "markdown",
   "id": "political-windsor",
   "metadata": {},
   "source": [
    "## Ajouter un élément\n",
    "\n",
    "Nous ajoutons un élément dans la file avec la fonction `append()`\n",
    "\n",
    "Simulons une file d'attente à la caféteria. \n",
    "\n",
    "Nous commençons avec une file vide."
   ]
  },
  {
   "cell_type": "code",
   "execution_count": 11,
   "id": "integral-holly",
   "metadata": {},
   "outputs": [],
   "source": [
    "file = []"
   ]
  },
  {
   "cell_type": "markdown",
   "id": "massive-encyclopedia",
   "metadata": {},
   "source": [
    "C'est midi et les personnes commençent à arriver.  \n",
    "\n",
    "La fonction `append()` permet de les ajouter à la liste `file`."
   ]
  },
  {
   "cell_type": "code",
   "execution_count": 12,
   "id": "neither-funeral",
   "metadata": {},
   "outputs": [],
   "source": [
    "file.append('Anna')\n",
    "file.append('Tom')\n",
    "file.append('Léa')"
   ]
  },
  {
   "cell_type": "markdown",
   "id": "metallic-indianapolis",
   "metadata": {},
   "source": [
    "Nous avons maintenant les personnes suivantes dans la file d'attente."
   ]
  },
  {
   "cell_type": "code",
   "execution_count": 13,
   "id": "genuine-british",
   "metadata": {},
   "outputs": [
    {
     "data": {
      "text/plain": [
       "['Anna', 'Tom', 'Léa']"
      ]
     },
     "execution_count": 13,
     "metadata": {},
     "output_type": "execute_result"
    }
   ],
   "source": [
    "file"
   ]
  },
  {
   "cell_type": "markdown",
   "id": "beneficial-richardson",
   "metadata": {},
   "source": [
    "## Enlever un élément\n",
    "\n",
    "La première personne à être servie, est enlevée de la liste avec la fonction `pop(0)`"
   ]
  },
  {
   "cell_type": "code",
   "execution_count": 14,
   "id": "surgical-liechtenstein",
   "metadata": {},
   "outputs": [
    {
     "data": {
      "text/plain": [
       "'Anna'"
      ]
     },
     "execution_count": 14,
     "metadata": {},
     "output_type": "execute_result"
    }
   ],
   "source": [
    "file.pop(0)"
   ]
  },
  {
   "cell_type": "markdown",
   "id": "novel-diameter",
   "metadata": {},
   "source": [
    "La file est devenu plus petite."
   ]
  },
  {
   "cell_type": "code",
   "execution_count": 15,
   "id": "endangered-staff",
   "metadata": {},
   "outputs": [
    {
     "data": {
      "text/plain": [
       "['Tom', 'Léa']"
      ]
     },
     "execution_count": 15,
     "metadata": {},
     "output_type": "execute_result"
    }
   ],
   "source": [
    "file"
   ]
  },
  {
   "cell_type": "markdown",
   "id": "intense-brunswick",
   "metadata": {},
   "source": [
    "Des nouvelles personnes arrivent."
   ]
  },
  {
   "cell_type": "code",
   "execution_count": 16,
   "id": "dense-mambo",
   "metadata": {},
   "outputs": [],
   "source": [
    "file.append('Jim')\n",
    "file.append('Noa')\n",
    "file.append('Elsa')"
   ]
  },
  {
   "cell_type": "markdown",
   "id": "sunset-teddy",
   "metadata": {},
   "source": [
    "Une nouvelle personne est servie."
   ]
  },
  {
   "cell_type": "code",
   "execution_count": 17,
   "id": "small-registrar",
   "metadata": {},
   "outputs": [
    {
     "data": {
      "text/plain": [
       "'Tom'"
      ]
     },
     "execution_count": 17,
     "metadata": {},
     "output_type": "execute_result"
    }
   ],
   "source": [
    "file.pop(0)"
   ]
  },
  {
   "cell_type": "markdown",
   "id": "trained-reference",
   "metadata": {},
   "source": [
    "Combient de personne sont en attente ?"
   ]
  },
  {
   "cell_type": "code",
   "execution_count": 18,
   "id": "revised-shift",
   "metadata": {},
   "outputs": [
    {
     "data": {
      "text/plain": [
       "4"
      ]
     },
     "execution_count": 18,
     "metadata": {},
     "output_type": "execute_result"
    }
   ],
   "source": [
    "len(file)"
   ]
  },
  {
   "cell_type": "markdown",
   "id": "occupational-evans",
   "metadata": {},
   "source": [
    "Qui est dans la file d'attente"
   ]
  },
  {
   "cell_type": "code",
   "execution_count": 19,
   "id": "hearing-midwest",
   "metadata": {},
   "outputs": [
    {
     "data": {
      "text/plain": [
       "['Léa', 'Jim', 'Noa', 'Elsa']"
      ]
     },
     "execution_count": 19,
     "metadata": {},
     "output_type": "execute_result"
    }
   ],
   "source": [
    "file"
   ]
  },
  {
   "cell_type": "markdown",
   "id": "accessory-stockholm",
   "metadata": {},
   "source": [
    "**Exercice**   \n",
    "Utilisez la fonction `pop()` pour enlever les personnes dans le bon ordre."
   ]
  },
  {
   "cell_type": "markdown",
   "id": "willing-alarm",
   "metadata": {},
   "source": [
    "## A la poste\n",
    "\n",
    "Nous sommes à la Poste de Renens et il est 14h. Trois guichets sont ouverts et deux personnes attendent dans la file. La machine à tickets indique que le prochain ticket délivré sera le 544."
   ]
  },
  {
   "cell_type": "code",
   "execution_count": 20,
   "id": "cutting-canada",
   "metadata": {},
   "outputs": [],
   "source": [
    "file = [542, 543]"
   ]
  },
  {
   "cell_type": "markdown",
   "id": "computational-needle",
   "metadata": {},
   "source": [
    "L'indice du dernier numéro (`543`) est `[-1]`. En ajoutant `1` à la valeur contenue dans `file[-1]`, on trouve `544`\n",
    "\n",
    "Le prochain numéro sera donc"
   ]
  },
  {
   "cell_type": "code",
   "execution_count": 21,
   "id": "light-isolation",
   "metadata": {},
   "outputs": [
    {
     "data": {
      "text/plain": [
       "544"
      ]
     },
     "execution_count": 21,
     "metadata": {},
     "output_type": "execute_result"
    }
   ],
   "source": [
    "file[-1] + 1"
   ]
  },
  {
   "cell_type": "markdown",
   "id": "ongoing-typing",
   "metadata": {},
   "source": [
    "Si une personne entre, elle prend son numéro et elle s'insére dans la liste d'attente."
   ]
  },
  {
   "cell_type": "code",
   "execution_count": 22,
   "id": "impressed-scratch",
   "metadata": {},
   "outputs": [],
   "source": [
    "suivant = file[-1] + 1\n",
    "file.append(suivant)"
   ]
  },
  {
   "cell_type": "markdown",
   "id": "golden-administrator",
   "metadata": {},
   "source": [
    "La file d'attente comprend maintenant:"
   ]
  },
  {
   "cell_type": "code",
   "execution_count": 23,
   "id": "drawn-tokyo",
   "metadata": {},
   "outputs": [
    {
     "data": {
      "text/plain": [
       "[542, 543, 544]"
      ]
     },
     "execution_count": 23,
     "metadata": {},
     "output_type": "execute_result"
    }
   ],
   "source": [
    "file"
   ]
  },
  {
   "cell_type": "markdown",
   "id": "composite-kenya",
   "metadata": {},
   "source": [
    "Ensuite deux personnes entrent."
   ]
  },
  {
   "cell_type": "code",
   "execution_count": 24,
   "id": "rational-wheel",
   "metadata": {},
   "outputs": [
    {
     "data": {
      "text/plain": [
       "[542, 543, 544, 545, 546]"
      ]
     },
     "execution_count": 24,
     "metadata": {},
     "output_type": "execute_result"
    }
   ],
   "source": [
    "file.append(file[-1] + 1)\n",
    "file.append(file[-1] + 1)\n",
    "file"
   ]
  },
  {
   "cell_type": "markdown",
   "id": "premier-immunology",
   "metadata": {},
   "source": [
    "## Le guichet\n",
    "\n",
    "Il y a trois guichets A, B, et C, qui vont se libérer de façon alétoire.\n",
    "\n",
    "Nous importons le module `random` et utilisons la fonction `choice()` pour choisir un des trois guichets de façon aléatoire."
   ]
  },
  {
   "cell_type": "code",
   "execution_count": 25,
   "id": "insured-split",
   "metadata": {},
   "outputs": [
    {
     "data": {
      "text/plain": [
       "'B'"
      ]
     },
     "execution_count": 25,
     "metadata": {},
     "output_type": "execute_result"
    }
   ],
   "source": [
    "import random\n",
    "random.choice('ABC')"
   ]
  },
  {
   "cell_type": "markdown",
   "id": "formal-jamaica",
   "metadata": {},
   "source": [
    "Le prochain guichet qui se libère"
   ]
  },
  {
   "cell_type": "code",
   "execution_count": 26,
   "id": "severe-brown",
   "metadata": {},
   "outputs": [
    {
     "data": {
      "text/plain": [
       "'C'"
      ]
     },
     "execution_count": 26,
     "metadata": {},
     "output_type": "execute_result"
    }
   ],
   "source": [
    "random.choice('ABC')"
   ]
  },
  {
   "cell_type": "markdown",
   "id": "comic-audience",
   "metadata": {},
   "source": [
    "C'est la personne entrée en premier qui peut se diriger vers le guichet qui se libère"
   ]
  },
  {
   "cell_type": "code",
   "execution_count": 27,
   "id": "widespread-league",
   "metadata": {},
   "outputs": [
    {
     "name": "stdout",
     "output_type": "stream",
     "text": [
      "542 A\n"
     ]
    }
   ],
   "source": [
    "suivant = file.pop(0)\n",
    "guichet = random.choice('ABC')\n",
    "print(suivant, guichet)"
   ]
  },
  {
   "cell_type": "markdown",
   "id": "ignored-interval",
   "metadata": {},
   "source": [
    "## Exercice\n",
    "\n",
    "Traduisez en python les étapes suivantes :\n",
    "\n",
    "1. Une femme entre dans la poste, elle va chercher son ticket. \n",
    "1. Le guichet 1 et le guichet 3 se libèrent. Deux personnes de la file les occupent ensuite\n",
    "1. Une femme suivie d'un homme pressé entrent dans la poste et vont chercher leurs ticket.\n",
    "1. Le guichet 2 se libère\n",
    "1. L'homme pressé quitte la poste, il en a marre d'attendre\n"
   ]
  },
  {
   "cell_type": "markdown",
   "id": "alleged-spouse",
   "metadata": {},
   "source": [
    "Après les étapes, quel est l'état des de la file ? Quel est le prochain numéro délivré par la machine à tickets ?"
   ]
  },
  {
   "cell_type": "code",
   "execution_count": null,
   "id": "innocent-novel",
   "metadata": {},
   "outputs": [],
   "source": []
  }
 ],
 "metadata": {
  "kernelspec": {
   "display_name": "Python 3 (ipykernel)",
   "language": "python",
   "name": "python3"
  },
  "language_info": {
   "codemirror_mode": {
    "name": "ipython",
    "version": 3
   },
   "file_extension": ".py",
   "mimetype": "text/x-python",
   "name": "python",
   "nbconvert_exporter": "python",
   "pygments_lexer": "ipython3",
   "version": "3.9.2"
  }
 },
 "nbformat": 4,
 "nbformat_minor": 5
}
