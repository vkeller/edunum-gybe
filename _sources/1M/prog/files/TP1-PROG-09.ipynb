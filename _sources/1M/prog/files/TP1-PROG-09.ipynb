{
 "cells": [
  {
   "cell_type": "markdown",
   "id": "important-embassy",
   "metadata": {},
   "source": [
    "![fileattente](img/fileattente.jpg \"File d'attente musée\")\n",
    "\n",
    "# TP1-PROG-09 - Les Files\n",
    "\n",
    "Les **files** sont des structures de données proches des listes. Elles permettent de gérer l'arrivé et le départ de ses éléments."
   ]
  },
  {
   "cell_type": "markdown",
   "id": "hollywood-mumbai",
   "metadata": {},
   "source": [
    "## La file d'attente\n",
    "\n",
    "La file d'attente est une structure de donnée qui permet de gérer des entrées et des sorties dans un ordre précis : **le premier élément ajouté est le dernier que l'on peut enlever**. En anglais une file est connue sous le nom **FIFO** (First In First Out).\n",
    "\n",
    "Les opérations d'une file sont :\n",
    "\n",
    "* créer une nouvelle file vide\n",
    "* ajouter un nouvel élément à la file\n",
    "* supprimer un élément de la file"
   ]
  },
  {
   "cell_type": "markdown",
   "id": "political-windsor",
   "metadata": {},
   "source": [
    "## Ajouter un élément\n",
    "\n",
    "Nous ajoutons un élément dans la file avec la fonction `append()`\n",
    "\n",
    "Simulons une file d'attente à la caféteria. \n",
    "\n",
    "Nous commençons avec une file vide."
   ]
  },
  {
   "cell_type": "code",
   "execution_count": 1,
   "id": "integral-holly",
   "metadata": {},
   "outputs": [],
   "source": [
    "file = []"
   ]
  },
  {
   "cell_type": "markdown",
   "id": "massive-encyclopedia",
   "metadata": {},
   "source": [
    "C'est midi et les personnes commençent à arriver.  \n",
    "\n",
    "La fonction `append()` permet de les ajouter à la liste `file`."
   ]
  },
  {
   "cell_type": "code",
   "execution_count": 2,
   "id": "neither-funeral",
   "metadata": {},
   "outputs": [],
   "source": [
    "file.append('Anna')\n",
    "file.append('Tom')\n",
    "file.append('Léa')"
   ]
  },
  {
   "cell_type": "markdown",
   "id": "metallic-indianapolis",
   "metadata": {},
   "source": [
    "Nous avons maintenant les personnes suivantes dans la file d'attente."
   ]
  },
  {
   "cell_type": "code",
   "execution_count": 3,
   "id": "genuine-british",
   "metadata": {},
   "outputs": [
    {
     "name": "stdout",
     "output_type": "stream",
     "text": [
      "['Anna', 'Tom', 'Léa']\n"
     ]
    }
   ],
   "source": [
    "print(file)"
   ]
  },
  {
   "cell_type": "markdown",
   "id": "beneficial-richardson",
   "metadata": {},
   "source": [
    "## Enlever un élément\n",
    "\n",
    "La première personne à être servie, est enlevée de la liste avec la fonction `pop(0)`.\n",
    "\n",
    "En d'autres termes, les éléments sont \n",
    "\n",
    "1. **ajoutés** à droite de la file (la liste)\n",
    "1. **supprimés** à gauche : c'est le premier élément (d'index 0) qui est supprimé"
   ]
  },
  {
   "cell_type": "code",
   "execution_count": 4,
   "id": "surgical-liechtenstein",
   "metadata": {},
   "outputs": [
    {
     "data": {
      "text/plain": [
       "'Anna'"
      ]
     },
     "execution_count": 4,
     "metadata": {},
     "output_type": "execute_result"
    }
   ],
   "source": [
    "file.pop(0)"
   ]
  },
  {
   "cell_type": "markdown",
   "id": "novel-diameter",
   "metadata": {},
   "source": [
    "La file est devenu plus petite."
   ]
  },
  {
   "cell_type": "code",
   "execution_count": 5,
   "id": "endangered-staff",
   "metadata": {},
   "outputs": [
    {
     "name": "stdout",
     "output_type": "stream",
     "text": [
      "['Tom', 'Léa']\n"
     ]
    }
   ],
   "source": [
    "print(file)"
   ]
  },
  {
   "cell_type": "markdown",
   "id": "intense-brunswick",
   "metadata": {},
   "source": [
    "Des nouvelles personnes arrivent."
   ]
  },
  {
   "cell_type": "code",
   "execution_count": 6,
   "id": "dense-mambo",
   "metadata": {},
   "outputs": [],
   "source": [
    "file.append('Jim')\n",
    "file.append('Noa')\n",
    "file.append('Elsa')"
   ]
  },
  {
   "cell_type": "markdown",
   "id": "sunset-teddy",
   "metadata": {},
   "source": [
    "Une nouvelle personne est servie."
   ]
  },
  {
   "cell_type": "code",
   "execution_count": 7,
   "id": "small-registrar",
   "metadata": {},
   "outputs": [
    {
     "data": {
      "text/plain": [
       "'Tom'"
      ]
     },
     "execution_count": 7,
     "metadata": {},
     "output_type": "execute_result"
    }
   ],
   "source": [
    "file.pop(0)"
   ]
  },
  {
   "cell_type": "markdown",
   "id": "trained-reference",
   "metadata": {},
   "source": [
    "Combient de personne sont en attente ?"
   ]
  },
  {
   "cell_type": "code",
   "execution_count": 8,
   "id": "revised-shift",
   "metadata": {},
   "outputs": [
    {
     "data": {
      "text/plain": [
       "4"
      ]
     },
     "execution_count": 8,
     "metadata": {},
     "output_type": "execute_result"
    }
   ],
   "source": [
    "len(file)"
   ]
  },
  {
   "cell_type": "markdown",
   "id": "occupational-evans",
   "metadata": {},
   "source": [
    "Qui est dans la file d'attente"
   ]
  },
  {
   "cell_type": "code",
   "execution_count": 9,
   "id": "hearing-midwest",
   "metadata": {},
   "outputs": [
    {
     "name": "stdout",
     "output_type": "stream",
     "text": [
      "['Léa', 'Jim', 'Noa', 'Elsa']\n"
     ]
    }
   ],
   "source": [
    "print(file)"
   ]
  },
  {
   "cell_type": "markdown",
   "id": "accessory-stockholm",
   "metadata": {},
   "source": [
    "### Exercice 1\n",
    "\n",
    "Utilisez la fonction `pop()` pour enlever les personnes dans le bon ordre."
   ]
  },
  {
   "cell_type": "markdown",
   "id": "47844d56-6b76-4ecc-b417-34cc4d511d16",
   "metadata": {},
   "source": [
    "## Exercice 2 : fonctions\n",
    "\n",
    "Il est possible de simplifier les deux **primitives** \n",
    "\n",
    "1. ajouter un élément\n",
    "1. enlever un élément\n",
    "\n",
    "à l'aide d'une fonction (un sous-programme). Chaque fonction prendra comme **argument** une file. Cela permet de pouvoir gérer plusieurs files en même temps\n",
    "\n",
    "A vous de définir les deux fonctions ayant les signatures suivantes :"
   ]
  },
  {
   "cell_type": "code",
   "execution_count": 10,
   "id": "b38d9970-55be-4c72-aed5-33651d98ea90",
   "metadata": {},
   "outputs": [],
   "source": [
    "def ajouter(file,element):\n",
    "    file.append(element)"
   ]
  },
  {
   "cell_type": "code",
   "execution_count": 11,
   "id": "86481038-d1e0-43e6-9c44-01d447d91c28",
   "metadata": {},
   "outputs": [],
   "source": [
    "def supprimer(file):\n",
    "    element = file[len(file)]\n",
    "    print(\"Element supprimé : \",element)\n",
    "    file.pop(0)"
   ]
  },
  {
   "cell_type": "markdown",
   "id": "e83ad896-5cc7-4128-90c4-8a7afbd36c7d",
   "metadata": {},
   "source": [
    "Que se passe-t-il si vous tentez de supprimer un élément dans une file vide ?\n",
    "\n",
    "Modifiez la fonction `supprimer(file)` pour qu'il gère une file vide"
   ]
  },
  {
   "cell_type": "markdown",
   "id": "48966afc-251a-4d45-9a12-0da7db93dc57",
   "metadata": {},
   "source": [
    "![migros](img/caisse.jpg \"Caisse file\")"
   ]
  },
  {
   "cell_type": "markdown",
   "id": "5d265257-fd3f-42db-b2e0-ca3ef9851626",
   "metadata": {},
   "source": [
    "## Exercice 3 : A la Migros\n",
    "\n",
    "Vous êtes maintenant capable de gérer plusieurs files indépendemment. Dans cet exercice, nous imaginons que nous voulons simuler le comportement des clients dans un magasin Migros où trois caisses sont ouvertes (et qu'il n'existe pas de système de *self checking*).\n",
    "\n",
    "1. Déclarez trois files distinctes : `caisse1`, `caisse2`, `caisse3`\n",
    "1. Testez vos fonctions `ajouter(file, element)` et `supprimer(file` sur vos trois files avec des clients (à vous de choisir les prénoms)\n",
    "\n",
    "Question subsidiaire : est-il possible de compter l'ensemble des clients qui sont passés ce jour-là dans votre magasin Migros ?"
   ]
  },
  {
   "cell_type": "markdown",
   "id": "a2cd6251-9740-49c4-9b04-1899be46a85b",
   "metadata": {},
   "source": [
    "![poste](img/poste.jpeg \"File à la poste\")"
   ]
  },
  {
   "cell_type": "markdown",
   "id": "willing-alarm",
   "metadata": {},
   "source": [
    "## A la poste\n",
    "\n",
    "Nous allons maintenant **simuler** le système informatique de gestion de l'attente dans une poste.\n",
    "\n",
    "1. Le client entre dans la poste\n",
    "1. Il se dirige vers un distributeur de tickets\n",
    "1. Le distributeur imprime un numéro\n",
    "1. Lorsqu'un guichet est libre, l'employé se déclare **libre** et le système affiche la lettre du guichet au premier client de la file (en position 0)\n",
    "\n",
    "Nous sommes à la Poste de Renens et il est 14h. Trois guichets sont ouverts `A`, `B` et `C`, deux personnes attendent dans la file. La machine à tickets indique que le prochain ticket délivré sera le 544."
   ]
  },
  {
   "cell_type": "code",
   "execution_count": 12,
   "id": "cutting-canada",
   "metadata": {},
   "outputs": [],
   "source": [
    "file = [542, 543]"
   ]
  },
  {
   "cell_type": "markdown",
   "id": "ongoing-typing",
   "metadata": {},
   "source": [
    "Si une personne entre, elle prend son numéro et elle s'insére dans la liste d'attente. Le numéro suivant est le `544`"
   ]
  },
  {
   "cell_type": "code",
   "execution_count": 13,
   "id": "impressed-scratch",
   "metadata": {},
   "outputs": [],
   "source": [
    "file.append(544)"
   ]
  },
  {
   "cell_type": "markdown",
   "id": "golden-administrator",
   "metadata": {},
   "source": [
    "La file d'attente comprend maintenant:"
   ]
  },
  {
   "cell_type": "code",
   "execution_count": 14,
   "id": "drawn-tokyo",
   "metadata": {},
   "outputs": [
    {
     "name": "stdout",
     "output_type": "stream",
     "text": [
      "[542, 543, 544]\n"
     ]
    }
   ],
   "source": [
    "print(file)"
   ]
  },
  {
   "cell_type": "markdown",
   "id": "composite-kenya",
   "metadata": {},
   "source": [
    "Deux nouveaux clients entrent et prennent un ticket."
   ]
  },
  {
   "cell_type": "code",
   "execution_count": 15,
   "id": "rational-wheel",
   "metadata": {},
   "outputs": [
    {
     "name": "stdout",
     "output_type": "stream",
     "text": [
      "[542, 543, 544, 545, 546]\n"
     ]
    }
   ],
   "source": [
    "file.append(545)\n",
    "file.append(546)\n",
    "print(file)"
   ]
  },
  {
   "cell_type": "markdown",
   "id": "premier-immunology",
   "metadata": {},
   "source": [
    "### Simulation des guichets\n",
    "\n",
    "Il y a trois guichets A, B, et C, qui vont se libérer de façon alétoire. Le temps de libération dépend de l'opération postale du client.\n",
    "\n",
    "Nous importons le module `random` et utilisons la fonction `choice()` pour choisir un des trois guichets de façon aléatoire."
   ]
  },
  {
   "cell_type": "code",
   "execution_count": 16,
   "id": "insured-split",
   "metadata": {},
   "outputs": [
    {
     "data": {
      "text/plain": [
       "'C'"
      ]
     },
     "execution_count": 16,
     "metadata": {},
     "output_type": "execute_result"
    }
   ],
   "source": [
    "import random\n",
    "random.choice('ABC')"
   ]
  },
  {
   "cell_type": "markdown",
   "id": "formal-jamaica",
   "metadata": {},
   "source": [
    "Le prochain guichet qui se libère"
   ]
  },
  {
   "cell_type": "code",
   "execution_count": 17,
   "id": "severe-brown",
   "metadata": {},
   "outputs": [
    {
     "data": {
      "text/plain": [
       "'C'"
      ]
     },
     "execution_count": 17,
     "metadata": {},
     "output_type": "execute_result"
    }
   ],
   "source": [
    "random.choice('ABC')"
   ]
  },
  {
   "cell_type": "markdown",
   "id": "comic-audience",
   "metadata": {},
   "source": [
    "C'est la personne entrée en premier qui peut se diriger vers le guichet qui se libère"
   ]
  },
  {
   "cell_type": "code",
   "execution_count": 18,
   "id": "widespread-league",
   "metadata": {},
   "outputs": [
    {
     "name": "stdout",
     "output_type": "stream",
     "text": [
      "542 A\n"
     ]
    }
   ],
   "source": [
    "suivant = file.pop(0)\n",
    "guichet = random.choice('ABC')\n",
    "print(suivant, guichet)"
   ]
  },
  {
   "cell_type": "markdown",
   "id": "ignored-interval",
   "metadata": {},
   "source": [
    "### Exercice 4\n",
    "\n",
    "Traduisez en python les étapes suivantes :\n",
    "\n",
    "1. Une femme entre dans la poste, elle va chercher son ticket. \n",
    "1. Deux guichets se libèrent. \n",
    "1. Deux clients de la file les occupent.\n",
    "1. Trois nouveaux clients entrent dans la poste et vont chercher leurs ticket.\n",
    "1. Un guichet se libère\n",
    "1. L'homme pressé quitte la poste, il en a marre d'attendre\n",
    "\n",
    "Après ces étapes, quel est l'état de la file ?\n",
    "\n",
    "Quel est le prochain numéro délivré par le distributeur ?\n",
    "\n",
    "**Conseil :** utilisez les fonction `ajouter(file, element)`et `supprimer(file)` que vous avez défini à l'exercice 2"
   ]
  }
 ],
 "metadata": {
  "kernelspec": {
   "display_name": "Python 3 (ipykernel)",
   "language": "python",
   "name": "python3"
  },
  "language_info": {
   "codemirror_mode": {
    "name": "ipython",
    "version": 3
   },
   "file_extension": ".py",
   "mimetype": "text/x-python",
   "name": "python",
   "nbconvert_exporter": "python",
   "pygments_lexer": "ipython3",
   "version": "3.9.2"
  }
 },
 "nbformat": 4,
 "nbformat_minor": 5
}
