{
 "cells": [
  {
   "cell_type": "markdown",
   "id": "ca62e889",
   "metadata": {},
   "source": [
    "# Boucles\n",
    "\n",
    "**Objectif** Introduction du concept de boucles dans un programme"
   ]
  },
  {
   "cell_type": "markdown",
   "id": "c9ccd14a",
   "metadata": {},
   "source": [
    "## Définition\n",
    "\n",
    "Lorsque nous devons répéter plusieurs fois la ou les mêmes opérations, il est utile de le dire à l’ordinateur. C’est le concept de boucle."
   ]
  },
  {
   "cell_type": "markdown",
   "id": "bf2d0aff",
   "metadata": {},
   "source": [
    "## Example : dessiner un triangle équilatéral\n",
    "\n",
    "La fonction pour dessiner un triangle équilatéral peut s'écrire ainsi :"
   ]
  },
  {
   "cell_type": "code",
   "execution_count": 3,
   "id": "5602cc3e",
   "metadata": {},
   "outputs": [],
   "source": [
    "def triangle():\n",
    "    t.forward(100)\n",
    "    t.left(120)\n",
    "    t.forward(100)\n",
    "    t.left(120)\n",
    "    t.forward(100)\n",
    "    t.left(120)"
   ]
  },
  {
   "cell_type": "markdown",
   "id": "cf324b93",
   "metadata": {},
   "source": [
    "fonction que l'on peut ensuite appeler dans le programme principal :"
   ]
  },
  {
   "cell_type": "code",
   "execution_count": 4,
   "id": "b1501994",
   "metadata": {},
   "outputs": [],
   "source": [
    "from turtle import *\n",
    "t = Turtle()\n",
    "triangle()"
   ]
  },
  {
   "cell_type": "markdown",
   "id": "2725fd47",
   "metadata": {},
   "source": [
    "On observe qu’on a 3 fois deux instructions identiques :\n",
    "\n",
    "```\n",
    "\tt.forward(100)\n",
    "\tt.left(120)\n",
    "```"
   ]
  },
  {
   "cell_type": "markdown",
   "id": "cb5b37cd",
   "metadata": {},
   "source": [
    "On peut transformer ces trois instructions identiques en une boucle qui les appelerait les trois à la suite :\n",
    "\n",
    "```\n",
    "pour i = 1, 2, 3 faire:\n",
    "   t.forward(100)\n",
    "   t.left(120)\n",
    "```\n",
    "\n",
    "En Python, une boucle s'écrit en utilisant le mot-clef `for`, suivi d'une variable nommée **itérateur**, par convention on la nomme `i`, puis des deux mot-clefs `in range(x)` où la valeur de `x` est la portée de l'intervalle.\n",
    "\n",
    "Ainsi la fonction pour dessiner un triangle devient :"
   ]
  },
  {
   "cell_type": "code",
   "execution_count": 5,
   "id": "83c00814",
   "metadata": {},
   "outputs": [],
   "source": [
    "def triangle2():\n",
    "    for i in range(3):\n",
    "        t.forward(100)\n",
    "        t.left(120)"
   ]
  },
  {
   "cell_type": "markdown",
   "id": "bed5ddf4",
   "metadata": {},
   "source": [
    "que l'on peut ensuite appeler dans le programme principal :"
   ]
  },
  {
   "cell_type": "code",
   "execution_count": 7,
   "id": "fda66f4c",
   "metadata": {},
   "outputs": [],
   "source": [
    "triangle2()"
   ]
  },
  {
   "cell_type": "markdown",
   "id": "79949b88",
   "metadata": {},
   "source": [
    "## Exercice 1\n",
    "\n",
    "Ecrivez deux fonctions `triangle()` qui dessine un triangle équilatéral de côté 100 et `carre()` qui dessine un carré de côté 100"
   ]
  },
  {
   "cell_type": "markdown",
   "id": "027c6acf",
   "metadata": {},
   "source": [
    "## Observation\n",
    "\n",
    "On observe que :\n",
    "\n",
    "- Triangle : 3 fois avancer et tourner de 120° (3 x 90° = 360°)\n",
    "- Carré : 4 fois avancer et tourner de 90° (4 x 90° = 360°)\n",
    "\n",
    "Est-il possible de généraliser la fonction pour dessiner n'importe quel polygone de côté 100 avec une boucle ?"
   ]
  },
  {
   "cell_type": "markdown",
   "id": "7138fe06",
   "metadata": {},
   "source": [
    "## Exercice 2\n",
    "\n",
    "Ecrivez une fonction `polygone` qui prend en paramètre le nombre de côté du polygone et qui le génère"
   ]
  }
 ],
 "metadata": {
  "kernelspec": {
   "display_name": "Python 3 (ipykernel)",
   "language": "python",
   "name": "python3"
  },
  "language_info": {
   "codemirror_mode": {
    "name": "ipython",
    "version": 3
   },
   "file_extension": ".py",
   "mimetype": "text/x-python",
   "name": "python",
   "nbconvert_exporter": "python",
   "pygments_lexer": "ipython3",
   "version": "3.9.2"
  }
 },
 "nbformat": 4,
 "nbformat_minor": 5
}
