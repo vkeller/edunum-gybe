{
 "cells": [
  {
   "cell_type": "markdown",
   "id": "c9632d28-4db8-49b8-8f8c-574eaed0da6f",
   "metadata": {},
   "source": [
    "# Suite de Syracuse et conjecture de Collatz\n",
    "\n",
    "Programmer la suite de Syracuse en Python.\n",
    "\n",
    "- avec un programme standard\n",
    "- (si temps) avec un programme récursif\n",
    "\n",
    "## Algorithme de la suite de Syracuse\n",
    "\n",
    "1. ENTREE : n\n",
    "2. SI n est PAIR, alors n = n / 2\n",
    "3. SINON n = 3 * n + 1\n",
    "4. La suite se termine lorsqu'on a atteint n == 1 et boucle sur la suite (1,4,2,1,4,2,...)"
   ]
  },
  {
   "cell_type": "markdown",
   "id": "23563e28-317b-45de-949b-654e0bd7832c",
   "metadata": {},
   "source": [
    "## Définition : Conjecture\n",
    "\n",
    "En mathématique, une **conjecture** est une assertion dont on ne connaît pas encore de démonstration mathématique\n",
    "\n",
    "## Conjecture de Collatz\n",
    "\n",
    "La **conjecture de Collatz** (né le 6.07.1910 en Allemagne et mort le 26.09.1990 en Bulgarie. Conjecture énoncée en 1937) est l'une des conjectures les plus célèbres puisqu'en dépit de sa simplicité, elle défie les mathématiciens depuis de très nombreuses années. Elle dit que la **suite de Syracuse** (ou problème `3x + 1`), lorsqu'elle atteint `1` se répète indéfiniment sur la suite `1,4,2,1,4,2,...`"
   ]
  },
  {
   "cell_type": "markdown",
   "id": "f416d6aa-fa7d-4b97-a7f9-4b7700222155",
   "metadata": {},
   "source": [
    "## Exercice 1\n",
    "\n",
    "Programmez la suite de Syracuse en Python 3\n",
    "\n",
    "Testez la **Conjecture de Collatz** pour les nombres entiers de `2` à `1000`"
   ]
  },
  {
   "cell_type": "markdown",
   "id": "c8c54257-d2f2-4668-b615-988d6b2cfc49",
   "metadata": {},
   "source": [
    "## Exercice 2\n",
    "\n",
    "Pour chaque entier `n` donné, calculez l'entier le plus élevé du **vol** (le nombre d'étapes de la suite de Syracuse avant d'arriver sur `1`)"
   ]
  },
  {
   "cell_type": "markdown",
   "id": "99736da9-9f7e-42cd-95e8-6c8b87c8407e",
   "metadata": {},
   "source": [
    "## Exercice 3\n",
    "\n",
    "Pour chaque entier `n`, donnez la longueur du vol. \n",
    "\n",
    "Donnez la valeur du plus long vol pour les nombres entre `5` et `10000`"
   ]
  },
  {
   "cell_type": "code",
   "execution_count": null,
   "id": "a3ca0029-c795-4cb1-a7d6-810c1d7777cb",
   "metadata": {},
   "outputs": [],
   "source": []
  }
 ],
 "metadata": {
  "kernelspec": {
   "display_name": "Python 3 (ipykernel)",
   "language": "python",
   "name": "python3"
  },
  "language_info": {
   "codemirror_mode": {
    "name": "ipython",
    "version": 3
   },
   "file_extension": ".py",
   "mimetype": "text/x-python",
   "name": "python",
   "nbconvert_exporter": "python",
   "pygments_lexer": "ipython3",
   "version": "3.9.2"
  }
 },
 "nbformat": 4,
 "nbformat_minor": 5
}
