{
 "cells": [
  {
   "cell_type": "markdown",
   "id": "894e9aab",
   "metadata": {},
   "source": [
    "## Introduction : La tortue\n",
    "\n",
    "Nous utilisons le module `turtle` de Python pour cette introduction\n",
    "\n",
    "**Objectifs**\n",
    "\n",
    "1. Développement de mon premier programme en Python"
   ]
  },
  {
   "cell_type": "markdown",
   "id": "561607c3",
   "metadata": {},
   "source": [
    "### Importation du module turtle"
   ]
  },
  {
   "cell_type": "code",
   "execution_count": 1,
   "id": "2bddeddd",
   "metadata": {},
   "outputs": [],
   "source": [
    "from turtle import *"
   ]
  },
  {
   "cell_type": "markdown",
   "id": "a6b80075",
   "metadata": {},
   "source": [
    "Créer une nouvelle tortue que nous nommons `t`\n",
    "\n",
    "(Cette opération ouvre une nouvelle fenêtre)"
   ]
  },
  {
   "cell_type": "code",
   "execution_count": 2,
   "id": "c3ddd559",
   "metadata": {},
   "outputs": [],
   "source": [
    "t = Turtle()"
   ]
  },
  {
   "cell_type": "markdown",
   "id": "2869c77b",
   "metadata": {},
   "source": [
    "La tortue est capable de faire plusieurs mouvements. Chaque mouvement est un appel à une fonction :\n",
    "\n",
    "- aller en avant de `x`  pixels : `t.forward(x)`\n",
    "- aller en arrière de `x` pixels : `t.back(x)`\n",
    "- tourner à droite de `x` degrés : `t.right(x)`\n",
    "- tourner à gauche de `x` degrés : `t.left(x)`\n",
    "\n",
    "On peut changer les caractéristiques du stylo :\n",
    "\n",
    "- sa couleur : `t.pencolor('couleur')` par exemple `t.pencolor('red')` en rouge\n",
    "- son épaisseur de `e` pixels : `t.pensize(e)`\n",
    "\n",
    "Finalement on peut effacer ce que l’on a dessiné avec la fonction `t.clear()`"
   ]
  },
  {
   "cell_type": "markdown",
   "id": "3245251a",
   "metadata": {},
   "source": [
    "## Dessiner des formes géometriques"
   ]
  },
  {
   "cell_type": "markdown",
   "id": "5b8f295e",
   "metadata": {},
   "source": [
    "### Example 1 : Dessiner un triangle\n",
    "\n",
    "Le code suivant dessine un triangle équilatéral de côté 100 pixels en bleu avec une épaisseur de 4 pixels"
   ]
  },
  {
   "cell_type": "code",
   "execution_count": 6,
   "id": "e46c487c",
   "metadata": {},
   "outputs": [],
   "source": [
    "t.clear()\n",
    "t.pencolor('blue')\n",
    "t.pensize(4)\n",
    "t.forward(100)\n",
    "t.left(120)\n",
    "t.forward(100)\n",
    "t.left(120)\n",
    "t.forward(100)\n",
    "t.left(120)"
   ]
  },
  {
   "cell_type": "markdown",
   "id": "2670e674",
   "metadata": {},
   "source": [
    "### Exercice 1\n",
    "\n",
    "En utilisant les diverses fonctions de la tortue, dessinez :\n",
    "\n",
    "- un carré de 150 pixels de côté en rouge avec une épaisseur de 2\n",
    "- un losange vert d’épaisseur 3 avec des angles de 30° et 120°"
   ]
  },
  {
   "cell_type": "markdown",
   "id": "4261557a",
   "metadata": {},
   "source": [
    "## Nouvelles fonctions de la tortue\n",
    "\n",
    "Deux nouvelles fonctions sont ajoutées :\n",
    "\n",
    "- lever le stylo : `t.penup()`\n",
    "- abaisser le stylo : `t.pendown()`\n",
    "\n",
    "Ces deux nouvelles fonctions nous permettent de créer des formes séparées"
   ]
  },
  {
   "cell_type": "markdown",
   "id": "7a08f0a2",
   "metadata": {},
   "source": [
    "### Example 2\n",
    "\n",
    "Dessiner deux triangles équilatéraux de 100 pixels de côté et séparés de 50 pixels :"
   ]
  },
  {
   "cell_type": "code",
   "execution_count": null,
   "id": "9d661c7e",
   "metadata": {},
   "outputs": [],
   "source": [
    "t.clear()\n",
    "t.pencolor('blue')\n",
    "t.pensize(4)\n",
    "\n",
    "t.forward(100)\n",
    "t.left(120)\n",
    "t.forward(100)\n",
    "t.left(120)\n",
    "t.forward(100)\n",
    "t.left(120)\n",
    "\n",
    "t.penup()\n",
    "t.forward(150)\n",
    "t.pendown()\n",
    "\n",
    "t.forward(100)\n",
    "t.left(120)\n",
    "t.forward(100)\n",
    "t.left(120)\n",
    "t.forward(100)\n",
    "t.left(120)"
   ]
  },
  {
   "cell_type": "markdown",
   "id": "cab4371b",
   "metadata": {},
   "source": [
    "## Exercice 2\n",
    "\n",
    "- Dessinez un carré de 100 pixels de côté et un triangle isocèle de 100 pixels de côté séparés de 30 pixels\n",
    "- Dessinez un carré rouge d’épaisseur 3 pixels de 100 pixels de côté et un carré vert d’épaisseur 4 pixels et de 300 pixels de côté séparés par 40 pixels\n"
   ]
  },
  {
   "cell_type": "code",
   "execution_count": null,
   "id": "da128996",
   "metadata": {},
   "outputs": [],
   "source": []
  }
 ],
 "metadata": {
  "kernelspec": {
   "display_name": "Python 3",
   "language": "python",
   "name": "python3"
  },
  "language_info": {
   "codemirror_mode": {
    "name": "ipython",
    "version": 3
   },
   "file_extension": ".py",
   "mimetype": "text/x-python",
   "name": "python",
   "nbconvert_exporter": "python",
   "pygments_lexer": "ipython3",
   "version": "3.7.3"
  }
 },
 "nbformat": 4,
 "nbformat_minor": 5
}
