{
 "cells": [
  {
   "cell_type": "markdown",
   "id": "6a1ba1c2",
   "metadata": {},
   "source": [
    "![maison](maison.png \"maison turtle\")\n",
    "\n",
    "# TP1-PROG-01 - Introduction à la programmation"
   ]
  },
  {
   "cell_type": "markdown",
   "id": "7655e6fd-ccfa-4935-9011-fe75830acf1e",
   "metadata": {},
   "source": [
    "## Objectifs\n",
    "\n",
    "1. Développement de mon premier programme en Python"
   ]
  },
  {
   "cell_type": "markdown",
   "id": "118beb96",
   "metadata": {},
   "source": [
    "## Importation du module turtle\n",
    "\n",
    "Nous utilisons le module `turtle` de Python pour cette introduction"
   ]
  },
  {
   "cell_type": "code",
   "execution_count": 1,
   "id": "a02de69f",
   "metadata": {},
   "outputs": [],
   "source": [
    "from turtle import *"
   ]
  },
  {
   "cell_type": "markdown",
   "id": "f3234c8f",
   "metadata": {},
   "source": [
    "Créer une nouvelle tortue que nous nommons `t`\n",
    "\n",
    "(Cette opération ouvre une nouvelle fenêtre)"
   ]
  },
  {
   "cell_type": "code",
   "execution_count": 2,
   "id": "71d26c21",
   "metadata": {},
   "outputs": [],
   "source": [
    "t = Turtle()"
   ]
  },
  {
   "cell_type": "markdown",
   "id": "1a07644f",
   "metadata": {},
   "source": [
    "La tortue est capable de faire plusieurs mouvements. Chaque mouvement est un appel à une fonction :\n",
    "\n",
    "- aller en avant de `x`  pixels : `t.forward(x)`\n",
    "- aller en arrière de `x` pixels : `t.back(x)`\n",
    "- tourner à droite de `x` degrés : `t.right(x)`\n",
    "- tourner à gauche de `x` degrés : `t.left(x)`\n",
    "\n",
    "On peut changer les caractéristiques du stylo :\n",
    "\n",
    "- sa couleur : `t.pencolor('couleur')` par exemple `t.pencolor('red')` en rouge\n",
    "- son épaisseur de `e` pixels : `t.pensize(e)`\n",
    "\n",
    "Finalement on peut effacer ce que l’on a dessiné avec la fonction `t.clear()`"
   ]
  },
  {
   "cell_type": "markdown",
   "id": "4a5816b3",
   "metadata": {},
   "source": [
    "## Dessiner des formes géometriques"
   ]
  },
  {
   "cell_type": "markdown",
   "id": "b1fd7a0b",
   "metadata": {},
   "source": [
    "### Example 1 : Dessiner un triangle\n",
    "\n",
    "Le code suivant dessine un triangle équilatéral de côté 100 pixels en bleu avec une épaisseur de 4 pixels"
   ]
  },
  {
   "cell_type": "code",
   "execution_count": 6,
   "id": "21018f4b",
   "metadata": {},
   "outputs": [],
   "source": [
    "t.clear()\n",
    "t.pencolor('blue')\n",
    "t.pensize(4)\n",
    "t.forward(100)\n",
    "t.left(120)\n",
    "t.forward(100)\n",
    "t.left(120)\n",
    "t.forward(100)\n",
    "t.left(120)"
   ]
  },
  {
   "cell_type": "markdown",
   "id": "ba6be2ee",
   "metadata": {},
   "source": [
    "## Exercice 1\n",
    "\n",
    "En utilisant les diverses fonctions de la tortue, dessinez :\n",
    "\n",
    "- un carré de 150 pixels de côté en rouge avec une épaisseur de 2\n",
    "- un losange vert d’épaisseur 3 avec des angles de 30° et 150°"
   ]
  },
  {
   "cell_type": "markdown",
   "id": "6592dcd7",
   "metadata": {},
   "source": [
    "## Nouvelles fonctions de la tortue\n",
    "\n",
    "Deux nouvelles fonctions sont ajoutées :\n",
    "\n",
    "- lever le stylo : `t.penup()`\n",
    "- abaisser le stylo : `t.pendown()`\n",
    "\n",
    "Ces deux nouvelles fonctions nous permettent de créer des formes séparées"
   ]
  },
  {
   "cell_type": "markdown",
   "id": "9e81e812",
   "metadata": {},
   "source": [
    "## Example 2\n",
    "\n",
    "Dessiner deux triangles équilatéraux de 100 pixels de côté et séparés de 50 pixels :"
   ]
  },
  {
   "cell_type": "code",
   "execution_count": null,
   "id": "507fa308",
   "metadata": {},
   "outputs": [],
   "source": [
    "t.pencolor('blue')\n",
    "t.pensize(4)\n",
    "\n",
    "t.forward(100)\n",
    "t.left(120)\n",
    "t.forward(100)\n",
    "t.left(120)\n",
    "t.forward(100)\n",
    "t.left(120)\n",
    "\n",
    "t.penup()\n",
    "t.forward(150)\n",
    "t.pendown()\n",
    "\n",
    "t.forward(100)\n",
    "t.left(120)\n",
    "t.forward(100)\n",
    "t.left(120)\n",
    "t.forward(100)\n",
    "t.left(120)"
   ]
  },
  {
   "cell_type": "markdown",
   "id": "cab4371b",
   "metadata": {},
   "source": [
    "## Exercice 2\n",
    "\n",
    "- Dessinez un carré de 100 pixels de côté et un triangle équilatéral de 100 pixels de côté séparés de 30 pixels\n",
    "- Dessinez un carré rouge d’épaisseur 3 pixels de 100 pixels de côté et un carré vert d’épaisseur 4 pixels et de 300 pixels de côté séparés par 40 pixels\n"
   ]
  },
  {
   "cell_type": "markdown",
   "id": "08ca9e9e-9037-4c6f-bdae-670a30c8aff0",
   "metadata": {},
   "source": [
    "## Exercice 3\n",
    "\n",
    "- Reproduisez le dessin de la maison et de l'arbre au sommet de cette page en utilisant les blocs vus aux derniers exercices : \n",
    "    - un carré\n",
    "    - un rectangle (carré)\n",
    "\n",
    "**Hint** pour dessiner un cercle, utilisez la fonction `circle` :\n",
    "\n",
    "```\n",
    "# dessine un cercle de rayon 50 pixels\n",
    "t.circle(50)\n",
    "```"
   ]
  },
  {
   "cell_type": "code",
   "execution_count": null,
   "id": "e9925094-9a4e-4404-972c-40bbbdadecc9",
   "metadata": {},
   "outputs": [],
   "source": []
  }
 ],
 "metadata": {
  "kernelspec": {
   "display_name": "Python 3 (ipykernel)",
   "language": "python",
   "name": "python3"
  },
  "language_info": {
   "codemirror_mode": {
    "name": "ipython",
    "version": 3
   },
   "file_extension": ".py",
   "mimetype": "text/x-python",
   "name": "python",
   "nbconvert_exporter": "python",
   "pygments_lexer": "ipython3",
   "version": "3.9.2"
  }
 },
 "nbformat": 4,
 "nbformat_minor": 5
}
