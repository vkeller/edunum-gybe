{
 "cells": [
  {
   "cell_type": "markdown",
   "id": "afbd4fb2-101c-4c2b-87e4-904d55e68ae7",
   "metadata": {},
   "source": [
    "![datatypes](datatypes.png \"Types en Python\")\n",
    "\n",
    "# TP-PROG-07 - Notions de types"
   ]
  },
  {
   "cell_type": "markdown",
   "id": "5e9f5b20-7a81-43cf-89b5-4c1aa96eac21",
   "metadata": {},
   "source": [
    "## Introduction\n",
    "\n",
    "Jusqu'à présent, nous avons écrit des programmes que l'on exécutait. Pour modifier la valeur d'une variable, nous la changions dans le programme, et nous exécutions à nouveau le programme.\n",
    "Exemple 1\n",
    "\n",
    "Concaténer de la variable a qui vaut \"Bonjour\" par la variable b qui vaut \" Caroline\" et affichage du résultat dans la variable c:\n",
    "\n",
    "```\n",
    "a = \"Bonjour\"\n",
    "b = \" Caroline\"\n",
    "c = a + b\n",
    "print(c)\n",
    "```\n",
    "\n",
    "Pour modifier ce programme avec b = \" Jean\", il fallait modifier le programme :\n",
    "\n",
    "```\n",
    "a = \"Bonjour\"\n",
    "b = \" Jean\"\n",
    "c = a + b\n",
    "print(c)\n",
    "```\n",
    "\n",
    "Ce n'est pas très interactif !\n",
    "\n",
    "Mais l'ordinateur sait nous parler avec la fonction `print()`."
   ]
  },
  {
   "cell_type": "markdown",
   "id": "4fd58553-caf4-45c5-afac-5c864d8a8b06",
   "metadata": {},
   "source": [
    "## Communiquer avec l'ordinateur\n",
    "\n",
    "Pour communiquer avec l'ordinateur, on utilise la fonction input() . Cette fonction place la valeur entrée par l'utilisateur du programme (vous !) dans une variable de type chaîne de caractères:\n",
    "\n",
    "```\n",
    "a = input()\n",
    "b = input()\n",
    "c = a + b\n",
    "print(c)\n",
    "```\n",
    "\n",
    "Déjà plus interactif ! Mais pas très causant. On peut donc placer un texte avant :\n",
    "\n",
    "```\n",
    "a = \"Bonjour\"\n",
    "b = input(\"Entrez votre prénom \")\n",
    "c = a + b\n",
    "print(c)\n",
    "```\n",
    "\n",
    "Ici on travaille avec des variable de type chaînes de caractères (des STRINGS) comme \"Bonjour\" entre guillemets.\n",
    "\n",
    "Il est possible de simplifier le programme puisque la variable c ne sert à rien :\n",
    "\n",
    "```\n",
    "a = \"Bonjour\"\n",
    "b = input(\"Entrez votre prénom \")\n",
    "print(a+b)\n",
    "```\n"
   ]
  },
  {
   "cell_type": "markdown",
   "id": "efcf6b6c-57e9-44ab-aeee-5cb5c8187804",
   "metadata": {},
   "source": [
    "## Exercice 1\n",
    "\n",
    "Est-ce que le programme suivant fonctionne (calcule votre âge dans 10 ans) :\n",
    "\n",
    "```\n",
    "age = input(\"Entrez votre âge \")\n",
    "age10 = age * 10\n",
    "print(\"En 2032 vous aurez \"+age10)\n",
    "```"
   ]
  },
  {
   "cell_type": "markdown",
   "id": "882c3501-28b6-4031-865b-e63b80fe3c75",
   "metadata": {},
   "source": [
    "### Réponse\n",
    "\n",
    "On essaie de concaténer un nombre (age10) avec une chaîne de caractères (\"En 2032 vous aurez\")\n",
    "\n",
    "On peut vérifier le type de donnée dans thonny avec l'onglet Inspecteur d'objets  ou avec la fonction type() dans la console"
   ]
  },
  {
   "cell_type": "markdown",
   "id": "7c0afaba-6649-4601-8a5d-c2d8a8a61ac4",
   "metadata": {},
   "source": [
    "## Exercice 2\n",
    "\n",
    "Quel est le type de :\n",
    "\n",
    "```\n",
    "a = 10\n",
    "b = 1.234\n",
    "c = True\n",
    "d = \"Hello\"\n",
    "e = '1'\n",
    "couleurs = ['red','blue','green']\n",
    "f = 2 + 3j\n",
    "```\n"
   ]
  },
  {
   "cell_type": "markdown",
   "id": "724a53df-72e2-420b-a96c-0ee8d83b9d6c",
   "metadata": {},
   "source": [
    "## Passer d'un type à l'autre : le casting\n",
    "\n",
    "Python interdit de manipuler des données de type différentes.\n",
    "Passer d'un type à l'autre : Casting\n",
    "\n",
    "Il est possible de manipuler des données d'un type vers un autre. C'est le casting :\n",
    "\n",
    "- la fonction `str()` transforme n'importe quelle variable en type chaîne de caractères (string)\n",
    "- la fonction `int()` transforme n'importe quelle variable en type entier (int)\n",
    "- la fonction `float()` transforme n'importe quelle variable en type à virgule flottante (float)\n"
   ]
  },
  {
   "cell_type": "markdown",
   "id": "98ec7208-cc09-4347-b30e-002d05263668",
   "metadata": {},
   "source": [
    "## Exercice 3\n",
    "\n",
    "Transformer le code de l'âge pour qu'il fonctionne :\n",
    "\n",
    "```\n",
    "age = input(\"Entrez votre âge \")\n",
    "age10 = age * 10\n",
    "print(\"En 2032 vous aurez \"+age10)\n",
    "```"
   ]
  },
  {
   "cell_type": "markdown",
   "id": "1e1ae096-47d7-4ad8-84cd-2b8952c3dff3",
   "metadata": {},
   "source": [
    "## Exercice 4\n",
    "\n",
    "Programmez une calculette qui multiplie deux nombres entrés par l'utilisateur avec la fonction input()"
   ]
  },
  {
   "cell_type": "markdown",
   "id": "2cfff263-6370-4401-9d3e-5da4c659112f",
   "metadata": {},
   "source": [
    "## Exercice 5\n",
    "\n",
    "Est-ce que votre calculette fonctionne avec des chiffres à virgule (float) ? Que faut-il modifier au programme pour qu'il accepte les nombres à virgule ?"
   ]
  },
  {
   "cell_type": "code",
   "execution_count": null,
   "id": "944735c3-c6c4-407c-8cd5-8743e08ad668",
   "metadata": {},
   "outputs": [],
   "source": []
  }
 ],
 "metadata": {
  "kernelspec": {
   "display_name": "Python 3 (ipykernel)",
   "language": "python",
   "name": "python3"
  },
  "language_info": {
   "codemirror_mode": {
    "name": "ipython",
    "version": 3
   },
   "file_extension": ".py",
   "mimetype": "text/x-python",
   "name": "python",
   "nbconvert_exporter": "python",
   "pygments_lexer": "ipython3",
   "version": "3.9.2"
  }
 },
 "nbformat": 4,
 "nbformat_minor": 5
}
