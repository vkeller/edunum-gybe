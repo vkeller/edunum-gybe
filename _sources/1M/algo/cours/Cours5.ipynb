{
 "cells": [
  {
   "cell_type": "markdown",
   "id": "8f7cc974-910f-4606-844b-22ccb385e3e7",
   "metadata": {},
   "source": [
    "![BCU](images/BCU.jpg \"Bibliothèque\")\n",
    "\n",
    "# Cours 5 : Algorithmes classiques\n",
    "\n",
    "## Objectifs pédagogiques\n",
    "\n",
    "- connaître quelques classes d'algorithmes classiques:\n",
    "    - algorithmes de recherche\n",
    "    - algorithmes de recherche"
   ]
  },
  {
   "cell_type": "markdown",
   "id": "b2c71fd3-9d48-4a88-8687-429c3f1cc820",
   "metadata": {},
   "source": [
    "## Algorithmes de recherche\n",
    "\n",
    "Un **algorithme de recherche** consiste à trouver une **cible** parmi une liste d'éléments. Par exemple : la liste est : `[1,4,67,34,109,69,23]` et la cible `69`. \n",
    "\n",
    "Les algorithmes de recherche peuvent se classer en deux catégories:\n",
    "\n",
    "1. Recherche dans des problèmes classiques\n",
    "1. Recherche dans des problèmes complexes\n",
    "\n",
    "S'agissant des **problèmes complexes**, les solutions dépassent le cadre de ce cours"
   ]
  },
  {
   "cell_type": "markdown",
   "id": "e74c845a-ee93-49cc-95a8-256bf78b8518",
   "metadata": {},
   "source": [
    "### Recherche séquentielle\n",
    "\n",
    "La recherche linéaire consiste à parcourir chaque élément de la liste et le comparer à la cible."
   ]
  },
  {
   "cell_type": "markdown",
   "id": "622a18eb-f4d4-49d8-96da-76ffe3ba1515",
   "metadata": {},
   "source": [
    "### Recherche dichotomique\n",
    "\n",
    "La recherche dichotomique consiste à rechercher la cible dans la liste **triée** en divisant la liste par deux et en comparant la cible avec les deux éléments bornes des sous-listes. Si la cible est égale, l'algorithme s'arrête, sinon la recherche continue sur les moitiés de sous-listes."
   ]
  },
  {
   "cell_type": "markdown",
   "id": "fa05116e-86d3-4459-a266-bc3e1efa9d68",
   "metadata": {},
   "source": [
    "## Algorithmes de tri\n",
    "\n",
    "Un **algorithme de tri** permet d'organiser une liste d'éléments selon une relation d'ordre déterminée. Par exemple, on aimerait trier la liste `[1,4,67,34,109,69,23]` du plus petit élément au plus grand : `[1,4,23,34,67,69,109]`"
   ]
  },
  {
   "cell_type": "code",
   "execution_count": null,
   "id": "cc0f8faa-81e1-4d5e-bab9-38ba7b9a9ae4",
   "metadata": {},
   "outputs": [],
   "source": []
  }
 ],
 "metadata": {
  "kernelspec": {
   "display_name": "Python 3 (ipykernel)",
   "language": "python",
   "name": "python3"
  },
  "language_info": {
   "codemirror_mode": {
    "name": "ipython",
    "version": 3
   },
   "file_extension": ".py",
   "mimetype": "text/x-python",
   "name": "python",
   "nbconvert_exporter": "python",
   "pygments_lexer": "ipython3",
   "version": "3.9.2"
  }
 },
 "nbformat": 4,
 "nbformat_minor": 5
}
