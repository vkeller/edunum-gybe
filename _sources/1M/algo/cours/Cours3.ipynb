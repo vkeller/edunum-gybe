{
 "cells": [
  {
   "cell_type": "markdown",
   "id": "ff84ad63-ce9b-4df8-847f-a89cfc6c1412",
   "metadata": {},
   "source": [
    "![turing](images/turing.jpg \"Alan Turing\")\n",
    "\n",
    "# Cours 3 : La machine de Turing"
   ]
  },
  {
   "cell_type": "markdown",
   "id": "d0ce4980-736e-4396-9630-4ad9361f157c",
   "metadata": {},
   "source": [
    "## Objectifs\n",
    "\n",
    "- comprendre le concept de machine de Turing\n",
    "- appliquer la machine de Turing à quelques algorithmes simples"
   ]
  },
  {
   "cell_type": "code",
   "execution_count": null,
   "id": "d87c4969-a4cb-4102-b3c6-70b5009d3acf",
   "metadata": {},
   "outputs": [],
   "source": []
  }
 ],
 "metadata": {
  "kernelspec": {
   "display_name": "Python 3 (ipykernel)",
   "language": "python",
   "name": "python3"
  },
  "language_info": {
   "codemirror_mode": {
    "name": "ipython",
    "version": 3
   },
   "file_extension": ".py",
   "mimetype": "text/x-python",
   "name": "python",
   "nbconvert_exporter": "python",
   "pygments_lexer": "ipython3",
   "version": "3.9.2"
  }
 },
 "nbformat": 4,
 "nbformat_minor": 5
}
