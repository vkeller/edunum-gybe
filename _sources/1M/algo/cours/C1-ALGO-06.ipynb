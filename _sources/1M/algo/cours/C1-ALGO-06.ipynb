{
 "cells": [
  {
   "cell_type": "markdown",
   "id": "94a9783c-0c69-4cd5-9a1f-632797b2cf81",
   "metadata": {},
   "source": [
    "![darwin](images/darwin.jpg \"Charles Darwin\")\n",
    "\n",
    "# C1-ALGO-06 : Algorithmes évolutionnistes"
   ]
  },
  {
   "cell_type": "markdown",
   "id": "4a966233-cc55-4b1b-b86e-4ce63beb406a",
   "metadata": {},
   "source": [
    "## Objectifs pédagogiques\n",
    "\n",
    "- Appréhender certains algorithmes évolutionnistes\n",
    "- Appliquer un algorithme génétique à un problème"
   ]
  },
  {
   "cell_type": "markdown",
   "id": "82bc9b31-e721-4494-90d9-f3521b5914fa",
   "metadata": {},
   "source": [
    "## Définition \n",
    "\n",
    "Les algorithmes évolutionnistes sont une classe d'algorithmes qui s'inspirent de la **théorie de l'évolution** de Charles Darwin."
   ]
  },
  {
   "cell_type": "markdown",
   "id": "e8ebae5f-2929-4b39-8c86-9ba5546284fb",
   "metadata": {},
   "source": [
    "## Références\n",
    "\n",
    "- Sur l'origine des espèces, Charles Darwin : {cite}`darwin1859`"
   ]
  },
  {
   "cell_type": "code",
   "execution_count": null,
   "id": "f213f437-c75a-44bf-8319-84c695f33a7a",
   "metadata": {},
   "outputs": [],
   "source": []
  }
 ],
 "metadata": {
  "kernelspec": {
   "display_name": "Python 3 (ipykernel)",
   "language": "python",
   "name": "python3"
  },
  "language_info": {
   "codemirror_mode": {
    "name": "ipython",
    "version": 3
   },
   "file_extension": ".py",
   "mimetype": "text/x-python",
   "name": "python",
   "nbconvert_exporter": "python",
   "pygments_lexer": "ipython3",
   "version": "3.9.2"
  }
 },
 "nbformat": 4,
 "nbformat_minor": 5
}
