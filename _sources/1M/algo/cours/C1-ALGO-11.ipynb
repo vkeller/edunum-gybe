{
 "cells": [
  {
   "cell_type": "markdown",
   "id": "66204db2-2e7c-4723-85b3-88f0be4eeebc",
   "metadata": {},
   "source": [
    "![ifthenelse](images/ifthenelse.png \"tests conditionnels\")\n",
    "\n",
    "# C1-ALGO-11 : Les tests conditionnels"
   ]
  },
  {
   "cell_type": "markdown",
   "id": "52d59711-773b-42a9-b3d6-506530842bb5",
   "metadata": {},
   "source": [
    "## Introduction aux tests conditionnels en algorithmique\n",
    "\n",
    "### Définition des tests conditionnels\n",
    "\n",
    "Un **test conditionnel** ou **une condition** est une expression qui peut prendre l'une des deux valeurs `True` ou `False`. On dit également que c'est une valeur de type logique ou **booléen**. \n",
    "\n",
    "![condition](images/condition.jpg \"true false\")\n",
    "\n",
    "### Importance des tests conditionnels dans la résolution de problèmes informatiques\n",
    "\n",
    "- L'objectif des tests conditionnels est de permettre à un programme de prendre des décisions en fonction de l'évaluation de conditions spécifiques.\n",
    "- Leur utilité réside dans la capacité à automatiser la prise de décisions, ce qui est essentiel dans le développement de logiciels et la résolution de problèmes.\n",
    "\n",
    "### Exemples d'applications courantes des tests conditionnels dans la vie quotidienne et en informatique\n",
    "\n",
    "- Test de parité : est-ce qu'un nombre est pair ou impair\n",
    "- Test de l'âge : a-t-on l'âge requis pour entrer au cinéma\n",
    "- Test du nombre de places disponibles : y a-t-il encore des places disponibles pour le concert de Kaaris ?\n",
    "- Test du mot de passe : le mot de passe \"1234\" est-il le bon mot de passe ?"
   ]
  },
  {
   "cell_type": "markdown",
   "id": "e0f374ba-e3ee-40ce-837b-dc16822c61e2",
   "metadata": {},
   "source": [
    "## Concepts fondamentaux des tests conditionnels\n",
    "\n",
    "### La structure `if`\n",
    "\n",
    "La structure `if` est fondamentale en algorithmique. Elle permet d'aiguiller, de choisir un chemin dans un algorigramme en fonction d'une condition vraie ou fausse. \n",
    "\n",
    "En programmation, la structure `if` permet d'exécuter un bloc d'instructions si la **condition** (le test conditionnel) est vraie. \n",
    "\n",
    "```\n",
    "if (condition est vraie) alors\n",
    "    exécuter un bloc\n",
    "```\n",
    "\n",
    "### La structure `if ... else`\n",
    "\n",
    "Il est possible d'ajouter à la condition `if` la condition opposée `else` et d'exécuter un autre bloc d'instructions si la condition est fausse:\n",
    "\n",
    "```\n",
    "if (condition est vraie) alors\n",
    "    exécuter un bloc\n",
    "else:\n",
    "    exécuter un autre bloc\n",
    "```"
   ]
  },
  {
   "cell_type": "markdown",
   "id": "4fd53f6b-65eb-4552-81ff-86fa25471f10",
   "metadata": {},
   "source": [
    "## Structures de contrôle conditionnelles avancées\n",
    "\n",
    "### Tests multiples `if ... else if .... else`\n",
    "\n",
    "Il est possible de tester **plusieurs conditions** dans une structure de contrôle et ainsi exécuter **autant de blocs différents** qu'il y a de **conditions vraies** :\n",
    "\n",
    "```\n",
    "if (condition est vraie) alors\n",
    "    exécuter un bloc\n",
    "else (une autre condition est vraie) alors :\n",
    "    exécuter un autre bloc\n",
    "else (toutes les conditions sont fausses) alors :\n",
    "    exécuter encore un autre bloc\n",
    "```\n",
    "\n",
    "### Tests imbriqués\n",
    "\n",
    "Lorsqu'une condition est vérifiée, alors il est possible de tester une autre condition dans le bloc d'instructions:\n",
    "\n",
    "```\n",
    "if (condition est vraie) alors\n",
    "    if (une autre condition) alors :\n",
    "        exécuter un bloc\n",
    "    else:\n",
    "        exécuter un autre bloc\n",
    "else:\n",
    "    exécuter encore un autre bloc si la première condition est fausse\n",
    "```\n",
    "\n",
    "En **Python** : attention à **l'indentation** des instructions"
   ]
  },
  {
   "cell_type": "markdown",
   "id": "45cc52cf-1627-43b7-bb3b-5fd8f379f4cb",
   "metadata": {},
   "source": [
    "## Opérateurs de comparaison\n",
    "\n",
    "### Valeurs (variables) comparées\n",
    "\n",
    "Lorsqu'on souhaite comparer (tester) **deux variables** (une variable est une valeur), alors il faut **IMPERATIVEMENT** qu'elles soient :\n",
    "\n",
    "1. **déclarée avant le test** : soit comme entrée, soit comme une instruction\n",
    "1. **du même type**\n",
    "\n",
    "Le **type d'une variable** est une caractéristique d'une grandeur qui en décrit sa nature. Par exemple (non exhaustifs) :\n",
    "\n",
    "- un **entier** (par exemple `1`, `6000`, etc..)\n",
    "- une **chaîne de caractères** (par exemple `Caroline`, `année`, ...)\n",
    "\n",
    "On ne peut pas comparer une châine de caractères avec un entier tout comme on *ne compare pas des pommes avec des poires*\n",
    "\n",
    "### Les 6 opérateurs de comparaison\n",
    "\n",
    "| Opérateur logique  | Python  | Comparaison  |\n",
    "|---|---|---|\n",
    "| $a < b$  | `a < b`  | `a`est strictement plus petit que `b`  |\n",
    "| $a \\leq b$  | `a <= b`  | `a`est plus petit ou égal à `b`  |\n",
    "| $a > b$  | `a > b`  | `a`est strictement plus grand que `b`  |\n",
    "| $a \\geq b$  | `a >= b`  | `a`est plus grand ou égal à `b`  |\n",
    "| $a = b$  | `a == b`  | `a`est identique à `b`  |\n",
    "| $a \\neq b$  | `a != b`  | `a`est différent `b`  |\n",
    "\n",
    "Il n'en existe pas d'autre !"
   ]
  },
  {
   "cell_type": "markdown",
   "id": "cc247f27-d8d7-4849-a476-3970e877cf04",
   "metadata": {},
   "source": [
    "## Exercice1\n",
    "\n",
    "Dessinez l'algorigramme d'un test vérifiant la disponibilité des places au concert de Kaaris "
   ]
  },
  {
   "cell_type": "markdown",
   "id": "903d6ec6-b0f5-49e3-b5a2-146f6ce9d46d",
   "metadata": {},
   "source": [
    "## Exercice 2\n",
    "\n",
    "Dessinez l'algorigramme d'un test vérifiant qu'un mot de passe entré est correct ou pas.\n",
    "\n",
    "- entrée : un mot de passe \n",
    "- sortie : un message indiquant que le mot de passe est correct ou non"
   ]
  },
  {
   "cell_type": "markdown",
   "id": "b55a2889-a0d4-46c2-8711-7baa78ab2ba4",
   "metadata": {},
   "source": [
    "## Exercice 3 (plus difficile)\n",
    "\n",
    "Dessinez l'algorigramme décrivant un appareil permettant de sélectionner la satisfaction du client :\n",
    "\n",
    "- Entrée : valeur du bouton\n",
    "- sortie : degré de satisfaction\n",
    "\n",
    "![satisfaction](images/satisfaction.jpg \"satisf\")"
   ]
  },
  {
   "cell_type": "code",
   "execution_count": null,
   "id": "6bc58c86-3719-4ec5-9046-e1f9407e9b3c",
   "metadata": {},
   "outputs": [],
   "source": []
  }
 ],
 "metadata": {
  "kernelspec": {
   "display_name": "Python 3 (ipykernel)",
   "language": "python",
   "name": "python3"
  },
  "language_info": {
   "codemirror_mode": {
    "name": "ipython",
    "version": 3
   },
   "file_extension": ".py",
   "mimetype": "text/x-python",
   "name": "python",
   "nbconvert_exporter": "python",
   "pygments_lexer": "ipython3",
   "version": "3.9.2"
  }
 },
 "nbformat": 4,
 "nbformat_minor": 5
}
