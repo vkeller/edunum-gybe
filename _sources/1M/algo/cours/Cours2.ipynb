{
 "cells": [
  {
   "cell_type": "markdown",
   "id": "7b76ba90-e8ee-48f0-ad25-e651ee2aa816",
   "metadata": {},
   "source": [
    "# Cours 2 : Des algorigrammes aux algorithmes"
   ]
  },
  {
   "cell_type": "markdown",
   "id": "e70ce9c7-fe65-4af1-9856-06e3b4572720",
   "metadata": {},
   "source": [
    "## Objectifs pédagogiques\n",
    "\n",
    "- déchiffrer un algorigramme et en déduire l'algorithme\n",
    "- dessiner un algorigramme à partir d'un algorithme simple"
   ]
  },
  {
   "cell_type": "markdown",
   "id": "187c8a1d-8005-469f-94d1-107515dfbbe9",
   "metadata": {},
   "source": [
    "## Définition : algorithme récursif\n",
    "\n",
    "Un **algorithme récursif** est un algorithme qui fait appel à lui-même. En d'autres termes, l'algorithme résoud un problème en calculant des problèmes plus petits du même problème."
   ]
  },
  {
   "cell_type": "markdown",
   "id": "31c1e175-704b-4070-a4af-6bc6e2884c28",
   "metadata": {},
   "source": [
    "## Conjecture de Syracuse\n",
    "\n",
    "En mathématiques, une **conjecture** est un énoncé dont il n'existe pas de **démonstration**. Celle de Syracuse a fait beaucoup parler d'elle tant elle est **simplissime** dans sa formulation mais que personne n'a pu la démontrer depuis sa formulation en 1928.\n",
    "\n",
    "La conjecture de Syracuse fait appel à la récursivité\n",
    "\n",
    "![syracuse](images/syracuse.png \"Conjecture de Syracuse\")"
   ]
  },
  {
   "cell_type": "code",
   "execution_count": null,
   "id": "190d0423-4284-42df-a439-c596fb223583",
   "metadata": {},
   "outputs": [],
   "source": []
  }
 ],
 "metadata": {
  "kernelspec": {
   "display_name": "Python 3 (ipykernel)",
   "language": "python",
   "name": "python3"
  },
  "language_info": {
   "codemirror_mode": {
    "name": "ipython",
    "version": 3
   },
   "file_extension": ".py",
   "mimetype": "text/x-python",
   "name": "python",
   "nbconvert_exporter": "python",
   "pygments_lexer": "ipython3",
   "version": "3.9.2"
  }
 },
 "nbformat": 4,
 "nbformat_minor": 5
}
