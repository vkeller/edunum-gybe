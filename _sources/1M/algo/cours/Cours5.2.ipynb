{
 "cells": [
  {
   "cell_type": "markdown",
   "id": "f7018a73-1875-4b4f-af33-ecfc661a34fd",
   "metadata": {},
   "source": [
    "![sort](images/tri.jpg \"sorting\")\n",
    "\n",
    "# Cours 5.2 Algorithmes classiques (Tri)\n",
    "\n",
    "## Objectifs pédagogiques :\n",
    "\n",
    "- comprendre ce qu'est le tri en algorithmique\n",
    "- connaître quelques algorithmes de tri classiques"
   ]
  },
  {
   "cell_type": "markdown",
   "id": "7f536310-5c11-41a9-b3d5-a4b2aef8f5e5",
   "metadata": {},
   "source": [
    "## Introduction\n",
    "\n",
    "L'une des classes d'algorithmes les plus courants sont ceux qui permettent de trier des objets. On utilise généralement un ordre **numérique** (du plus petit au plus grand) ou **lexicographique** (de la lettre A à la lettre Z)\n",
    "\n",
    "Les deux principales caractéristiques qui permettent de distinguer les différents algorithmes de tri sont **la complexité temporelle** (*combien de temps faut-il pour trier une liste ?*) et la **complexité spatiale** (*combien de mémoire ai-je besoin pour trier une liste ?*)"
   ]
  },
  {
   "cell_type": "markdown",
   "id": "fbafd950-c5a8-4bc8-980d-2b5feab17e7e",
   "metadata": {},
   "source": [
    "## Exemple introductif\n",
    "\n",
    "Voici une liste de nombres entier qu'il faut trier du plus petit au plus grand :\n",
    "\n",
    "`[23,45,14,9,245,56,81,11,6]`\n",
    "\n",
    "Décrivez votre méthode (votre algorithme) à l'aide d'un algorigramme"
   ]
  },
  {
   "cell_type": "markdown",
   "id": "889bf6cc-cf14-4a2c-9f9b-6408c46bc026",
   "metadata": {},
   "source": [
    "## Exemple introductif 2\n",
    "\n",
    "Voici une liste de mot qu'il s'agit de trier comme un dictionnaire:\n",
    "\n",
    "```\n",
    "zoologie\n",
    "alphabet\n",
    "romain\n",
    "fusain\n",
    "wagon\n",
    "locomotive\n",
    "largeur\n",
    "romantique\n",
    "Rome\n",
    "Antique\n",
    "fusée\n",
    "```\n",
    "\n",
    "Décrivez votre méthode (votre algorithme) à l'aide d'un algorigramme"
   ]
  },
  {
   "cell_type": "markdown",
   "id": "44e0a67d-04c5-4b31-83ba-0427fa90671e",
   "metadata": {
    "jp-MarkdownHeadingCollapsed": true,
    "tags": []
   },
   "source": [
    "## Tri par sélection (Selection Sort)\n",
    "\n",
    "C'est la méthode la plus naïve. On parcourt la liste de `n` élément, on cible **le plus grand** que l'on place en dernière position. Puis on parcourt la liste de `n-1` éléments, on cible **le plus grand restant** que l'on place en avant-dernière position et ainsi de suite.\n",
    "\n",
    "C'est un algorithme lent"
   ]
  },
  {
   "cell_type": "markdown",
   "id": "9fdc7d47-f42b-4fe4-90cb-b336d788f666",
   "metadata": {},
   "source": [
    "## Tri à bulles (Bubble Sort)\n",
    "\n",
    "Le tri à bulles consiste à parcourir la liste de `n` éléments et de comparer chaque élément consécutif et à les permuter s'ils ne sont pas triés correctement.\n",
    "\n",
    "C'est un algorithme lent."
   ]
  },
  {
   "cell_type": "markdown",
   "id": "795d9664-9326-467c-92a0-e0fc5c934cb2",
   "metadata": {},
   "source": [
    "## Tri par insertion (Insertion Sort)\n",
    "\n",
    "C'est la méthode de tri utilisée généralement pour classer ses cartes à jouer. \n",
    "\n",
    "Le tri par insertion considère chaque élément du tableau de `n` éléments et l'insère à la bonne place dans les éléments déjà triés. Ainsi, au moment de l'insertion, on considère que tous les éléments plus petits sont correctement triés. \n",
    "\n",
    "C'est un algorithme lent"
   ]
  },
  {
   "cell_type": "markdown",
   "id": "79c6d51b-5883-4ad1-ae9f-6185a86aa862",
   "metadata": {},
   "source": [
    "## Tri rapide (Quick Sort)\n",
    "\n",
    "La méthode consiste à placer un élément du tableau (**le pivot**) à sa place définitive, en permutant tous les éléments de telle sorte que tous ceux qui sont inférieurs au pivot soient à sa gauche et que tous ceux qui sont supérieurs au pivot soient à sa droite. Le pivot est choisi **aléatoirement** (au hasard)\n",
    "\n",
    "Cette opération s'appelle **partitionnement**. Pour chacun des sous-tableaux, on définit un nouveau pivot et on répète l'opération de partitionnement. Ce processus est répété récursivement, jusqu'à ce que l'ensemble des éléments soit trié.\n",
    "\n",
    "Concrètement, pour partitionner un sous-tableau :\n",
    "\n",
    "- le pivot est placé à la fin (arbitrairement), en l'échangeant avec le dernier élément du sous-tableau ;\n",
    "- tous les éléments inférieurs au pivot sont placés en début du sous-tableau ;\n",
    "- le pivot est déplacé à la fin des éléments déplacés.\n",
    "\n",
    "C'est un algorithme rapide (et qui peut être exécuté en parallèle)"
   ]
  },
  {
   "cell_type": "markdown",
   "id": "d44870f6-33bd-4172-8406-33cbc65421a9",
   "metadata": {},
   "source": [
    "## Tri Fusion (Merge Sort)\n",
    "\n",
    "C'est un tri dichotomique. On peut le décrire par :\n",
    "\n",
    "L'algorithme est naturellement décrit de façon récursive.\n",
    "\n",
    "1. Si le tableau n'a qu'un élément, il est déjà trié.\n",
    "2. Sinon, séparer le tableau en deux parties à peu près égales.\n",
    "3. Trier récursivement les deux parties avec l'algorithme du tri fusion.\n",
    "4. Fusionner les deux tableaux triés en un seul tableau trié.\n",
    "\n",
    "C'est un algorithme rapide"
   ]
  },
  {
   "cell_type": "markdown",
   "id": "1e365de2-c4f9-4d24-952c-b3a31db52d17",
   "metadata": {},
   "source": [
    "## Comparaison des complexités temporelles des méthodes de tri\n",
    "\n",
    "Dans le tableau suivant, sont listées les complexités computationnelles des différentes méthodes de tri. Il s'agit là du nombre d'opérations nécessaires pour effectuer un tri dans le cas optimal, le cas moyen et le pire des cas.\n",
    "\n",
    "| Méthode de tri |  Cas optimal |  Cas moyen | Pire des cas  |\n",
    "| :------------- | :-----------: | :---------: | :--------- |\n",
    "| Tri par sélection  | $n^2$  | $n^2$ | $n^2$ |\n",
    "| Tri par insertion  | $n$  | $n^2$ | $n^2$ |\n",
    "| Tri à bulle  | $n$  | $n^2$ | $n^2$ |\n",
    "| Tri Fusion  | $n~log(n)$ | $n~log(n)$ | $n~log(n)$ |\n",
    "| Tri Rapide  | $n~log(n)$ | $n~log(n)$ | $n^2$  |\n"
   ]
  },
  {
   "cell_type": "markdown",
   "id": "422e17aa-3bd6-4f90-8770-a48b3276cc9f",
   "metadata": {},
   "source": [
    "## Classification des algorithmes de tri\n",
    "\n",
    "Suivant le problème à résoudre, il s'agit de choisir un algorithme de tri. Ce choix est basé sur les différentes caractéristiques des algorithmes de tri et des besoins du problème (ou de son résultat)\n",
    "\n",
    "- **complexité temporelle**\n",
    "- **complexité spatiale**\n",
    "- **stabilité** : est-ce que l'ordre d'entrée est respecté à la sortie de l'algorithme ?\n",
    "\n",
    "Il existe d'autres caractéristiques qui n'entrent pas dans le cadre de ce cours d'introduction. "
   ]
  },
  {
   "cell_type": "code",
   "execution_count": null,
   "id": "a724a23e-dc5a-4b7e-85b7-8537db52634a",
   "metadata": {},
   "outputs": [],
   "source": []
  }
 ],
 "metadata": {
  "kernelspec": {
   "display_name": "Python 3 (ipykernel)",
   "language": "python",
   "name": "python3"
  },
  "language_info": {
   "codemirror_mode": {
    "name": "ipython",
    "version": 3
   },
   "file_extension": ".py",
   "mimetype": "text/x-python",
   "name": "python",
   "nbconvert_exporter": "python",
   "pygments_lexer": "ipython3",
   "version": "3.9.2"
  }
 },
 "nbformat": 4,
 "nbformat_minor": 5
}
