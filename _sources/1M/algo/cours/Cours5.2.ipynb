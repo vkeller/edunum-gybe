{
 "cells": [
  {
   "cell_type": "markdown",
   "id": "f7018a73-1875-4b4f-af33-ecfc661a34fd",
   "metadata": {},
   "source": [
    "![sort](images/tri.jpg \"sorting\")\n",
    "\n",
    "# Cours 5.2 Algorithmes classiques (Tri)"
   ]
  },
  {
   "cell_type": "code",
   "execution_count": null,
   "id": "750d7fd3-fd3a-4a65-829f-559f66a9e5a3",
   "metadata": {},
   "outputs": [],
   "source": []
  }
 ],
 "metadata": {
  "kernelspec": {
   "display_name": "Python 3 (ipykernel)",
   "language": "python",
   "name": "python3"
  },
  "language_info": {
   "codemirror_mode": {
    "name": "ipython",
    "version": 3
   },
   "file_extension": ".py",
   "mimetype": "text/x-python",
   "name": "python",
   "nbconvert_exporter": "python",
   "pygments_lexer": "ipython3",
   "version": "3.9.2"
  }
 },
 "nbformat": 4,
 "nbformat_minor": 5
}
