{
 "cells": [
  {
   "cell_type": "markdown",
   "id": "10b6cb7d-d0ae-4d1e-a1ee-57f51cd52fa5",
   "metadata": {},
   "source": [
    "# C1-ALGO-12 : Les boucles"
   ]
  },
  {
   "cell_type": "code",
   "execution_count": null,
   "id": "d6127a54-4ffc-4b77-bc4d-16da887c3057",
   "metadata": {},
   "outputs": [],
   "source": []
  }
 ],
 "metadata": {
  "kernelspec": {
   "display_name": "Python 3 (ipykernel)",
   "language": "python",
   "name": "python3"
  },
  "language_info": {
   "codemirror_mode": {
    "name": "ipython",
    "version": 3
   },
   "file_extension": ".py",
   "mimetype": "text/x-python",
   "name": "python",
   "nbconvert_exporter": "python",
   "pygments_lexer": "ipython3",
   "version": "3.9.2"
  }
 },
 "nbformat": 4,
 "nbformat_minor": 5
}
