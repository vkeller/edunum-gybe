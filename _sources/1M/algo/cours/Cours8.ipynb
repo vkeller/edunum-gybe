{
 "cells": [
  {
   "cell_type": "markdown",
   "id": "d6d9d192-9197-4dea-83db-4cdd3060d7ac",
   "metadata": {},
   "source": [
    "![doomsday](images/doomsday.jpg \"Sixtine Michel Angelo\")\n",
    "\n",
    "# Cours 8 : algorithme du jugement dernier (Doomsday algorithm)\n",
    "\n",
    "## Objectifs pédagogiques\n",
    "\n",
    "1. Appliquer un algorithme décrit par un algorigramme\n",
    "1. Dessiner un algorigramme sur la base d'un algorithme écrit en français"
   ]
  },
  {
   "cell_type": "markdown",
   "id": "fb9d3d07-53bb-4c78-affe-068c46ac2831",
   "metadata": {},
   "source": [
    "## Historique\n",
    "\n",
    "L'algorithme du jour du Jugement dernier, ou méthode des jours-pivots, ou méthode du clavedi, ou méthode de Conway (en anglais : Doomsday rule ou Doomsday algorithm), est une méthode de calcul du jour de la semaine correspondant à une date précise. Cet algorithme fut élaboré à l'origine par John Horton Conway (1937-2020), célèbre mathématicien britannique connu notamment pour être l'inventeur du Jeu de la vie."
   ]
  },
  {
   "cell_type": "markdown",
   "id": "f1a75ac4-ef8f-461d-ac4d-499603dbd0c7",
   "metadata": {},
   "source": [
    "## Algorithme du Jour du Jugement dernier\n",
    "\n",
    "Il se déroule en trois étapes :\n",
    "\n",
    "1. **Etape 1 :** Déterminer la balise du siècle\n",
    "1. **Etape 2 :** Calculer le jour-clé de l'année\n",
    "1. **Etape 3 :** Choisir le jour-pivot\n",
    "\n",
    "Pour la troisième étape, il s'agit d'avoir un sous-algorithme qui renvoie **Vrai** si l'année considérée est **bisextile**"
   ]
  },
  {
   "cell_type": "markdown",
   "id": "ae1ffe3b-2f32-4da3-87ea-61e9f4f3b3f6",
   "metadata": {},
   "source": [
    "## Algorithme : année bisextile\n",
    "\n",
    "- SI l'année est un multiple de 4 alors elle est bisextile\n",
    "    - SAUF si l'année est divisible par 100 MAIS pas par 400\n",
    "- SINON elle n'est pas bisextile\n",
    "\n",
    "![bisextile](images/bisextile.jpg \"Anne bisextile\")"
   ]
  },
  {
   "cell_type": "code",
   "execution_count": 5,
   "id": "41a9adc9-5a7d-4df6-bd14-aba8de8ab927",
   "metadata": {},
   "outputs": [
    {
     "name": "stdout",
     "output_type": "stream",
     "text": [
      "1964 est une année bisextile\n"
     ]
    }
   ],
   "source": [
    "annee = 1964\n",
    "\n",
    "if (annee%4 != 0) :\n",
    "    print(str(annee)+\" n'est pas une année bisextile\")\n",
    "else:\n",
    "    if (annee%100 != 0) :\n",
    "        if (annee%400 != 0) :\n",
    "            print(str(annee)+\" est une année bisextile\")\n",
    "        else:\n",
    "            print(str(annee)+\" n'est pas une année bisextile\")\n",
    "    else:\n",
    "        print(str(annee)+\" est une année bisextile\")"
   ]
  },
  {
   "cell_type": "markdown",
   "id": "f8487c65-dc4f-4ad0-9296-87cccfbd0d9d",
   "metadata": {},
   "source": [
    "## Etape 1 : Déterminer la balise du siècle"
   ]
  },
  {
   "cell_type": "code",
   "execution_count": null,
   "id": "c63185dc-d14c-4c94-81f1-b9def2f55877",
   "metadata": {},
   "outputs": [],
   "source": []
  }
 ],
 "metadata": {
  "kernelspec": {
   "display_name": "Python 3 (ipykernel)",
   "language": "python",
   "name": "python3"
  },
  "language_info": {
   "codemirror_mode": {
    "name": "ipython",
    "version": 3
   },
   "file_extension": ".py",
   "mimetype": "text/x-python",
   "name": "python",
   "nbconvert_exporter": "python",
   "pygments_lexer": "ipython3",
   "version": "3.9.2"
  }
 },
 "nbformat": 4,
 "nbformat_minor": 5
}
