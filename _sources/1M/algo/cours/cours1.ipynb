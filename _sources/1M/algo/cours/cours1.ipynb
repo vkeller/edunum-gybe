{
 "cells": [
  {
   "cell_type": "markdown",
   "id": "8b3a35fa-7585-4740-8fb4-d0fb87b8e5aa",
   "metadata": {},
   "source": [
    "# Introduction à l'algorithmique"
   ]
  },
  {
   "cell_type": "code",
   "execution_count": null,
   "id": "4ae046e9-fa4b-4e78-9690-ff0541053996",
   "metadata": {},
   "outputs": [],
   "source": []
  }
 ],
 "metadata": {
  "kernelspec": {
   "display_name": "Python 3 (ipykernel)",
   "language": "python",
   "name": "python3"
  },
  "language_info": {
   "codemirror_mode": {
    "name": "ipython",
    "version": 3
   },
   "file_extension": ".py",
   "mimetype": "text/x-python",
   "name": "python",
   "nbconvert_exporter": "python",
   "pygments_lexer": "ipython3",
   "version": "3.9.2"
  }
 },
 "nbformat": 4,
 "nbformat_minor": 5
}
