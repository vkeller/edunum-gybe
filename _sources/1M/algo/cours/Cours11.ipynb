{
 "cells": [
  {
   "cell_type": "markdown",
   "id": "44bf1bd8-c04a-4e34-ad50-052f15b078d5",
   "metadata": {},
   "source": [
    "![devops](images/devops.jpg \"Cycle développement\")\n",
    "\n",
    "# Cours 11 - révision TEST 2\n",
    "\n",
    "## Objectifs\n",
    "\n",
    "- être capable de:\n",
    "    - lire et comprendre un problème simple\n",
    "    - développer l'algorigramme en utilisant le formalisme des algorigrammes\n",
    "    - implémenter l'algorithme en Python"
   ]
  },
  {
   "cell_type": "markdown",
   "id": "49cfb1c3-d36b-4e63-a130-cd3c0048cac7",
   "metadata": {},
   "source": [
    "## Consignes\n",
    "\n",
    "Pour chaque problème: \n",
    "\n",
    "1. dessinez **l'algorigramme** qui décrit **un** algorithme permettant de résoudre le problème.\n",
    "1. écrivez **un programme Python** qui implémente l'algorigramme que vous avez dessiné\n",
    "\n",
    "**Faites ce travail dans l'ordre !!**. D'abord l'analyse algorithmique, puis la programmation"
   ]
  },
  {
   "cell_type": "markdown",
   "id": "c3f64294-7957-4094-9288-b4172ef5ffcd",
   "metadata": {},
   "source": [
    "## Problème 1 : les cookies au chocolat\n",
    "\n",
    "Pour 6 personnes : \n",
    "\n",
    "- 1 oeuf\n",
    "- 85g de beurre doux\n",
    "- 85g de sucre\n",
    "- 150g de farine\n",
    "- 1 sachet de sucre vanillé\n",
    "- 350g de pépites de chocolat\n",
    "- 1 cc de levure sèche\n",
    "- 0.5 cc de sel\n",
    "\n",
    "1. Laissez ramollir le beurre à température ambiante. Dans un saladier, malaxez-le avec le sucre. \n",
    "1. Ajoutez l'oeuf et éventuellement le sucre vanillé. \n",
    "1. Versez progressivement la farine, la levure chimique, le sel et les pépites de chocolat. Mélangez bien. \n",
    "1. Beurrez une plaque allant au four ou recouvrez-la d'une plaque de silicone. À l'aide de deux cuillères à soupe ou simplement avec les mains, formez des noix de pâte en les espaçant car elles s'étaleront à la cuisson. \n",
    "1. Faites cuire 8 à 10 minutes à 180°C soit thermostat 6. Il faut les sortir dès que les contours commencent à brunir. \n",
    "\n",
    "**Attention : votre algorithme doit fonctionner quelque soit le nombre de personnes**"
   ]
  },
  {
   "cell_type": "markdown",
   "id": "a5229a8b-0f1c-4151-9bc5-27648f7f4220",
   "metadata": {},
   "source": [
    "## Exercice 2 : Promotion en 2M\n",
    "\n",
    "Pour être promu en deuxième année de l'école de maturité (2M), le bulletin doit remplir les conditions suivantes :\n",
    "\n",
    "- obtenir un total des notes égal à au moins autant de fois 4 points qu'il y a de notes ;\n",
    "- obtenir au moins 16 points dans un groupe constitué du français, de la moyenne des moyennes des notes de la deuxième langue nationale et de la troisième langue, arrondie au demi-point, des mathématiques et de l'option spécifique ;\n",
    "- ne pas avoir plus de quatre notes inférieures à 4.\n",
    "\n",
    "(Article 81 du [réglement des gymnases vaudois](http://www.publidoc.vd.ch/guestDownload/direct/Texte%20adopt%C3%A9%20par%20CE.pdf?path=/Company%20Home/VD/CHANC/SIEL/antilope/objet/CE/R%C3%A8glement/2016/06/574749_Texte%20adopt%C3%A9%20par%20CE_20160707_1268031.pdf \"Reglemenet 000 Etat de Vaud\") )"
   ]
  },
  {
   "cell_type": "markdown",
   "id": "1d5b5afb-7d72-45aa-9acc-92e4de52025d",
   "metadata": {},
   "source": [
    "## Exercice 3 : Les racines d'Héron d'Alexandrie\n",
    "\n",
    "Heron d'Alexandrie est un mathématicien, ingénieur et mécanicien du 1er siècle ap JC. Il est un contemporain de [Pline l'Ancien](https://fr.wikipedia.org/wiki/Pline_l%27Ancien \"pline l'ancien\"), célèbre écrivain et naturaliste de la Rome Antique.\n",
    "\n",
    "Heron a développé une méthode très simple pour calculer une valeur approchée **de la racine carrée** de n'importe quel nombre `n`:\n",
    "\n",
    "1. Entrez la valeur de `n`\n",
    "1. Entrez la limite supérieure de la fonction récursive\n",
    "1. Calculer $u_1 = n$\n",
    "1. Calculer $u_{n+1} = \\frac{1}{2}(u_n + \\frac{n}{u_n})$"
   ]
  },
  {
   "cell_type": "markdown",
   "id": "ff50bc9d-41e1-4951-bca5-25c2076ec48b",
   "metadata": {},
   "source": [
    "## Solutions"
   ]
  },
  {
   "cell_type": "markdown",
   "id": "29f86a7a-d838-465a-8399-1213f1c43c29",
   "metadata": {},
   "source": [
    "### Ex1"
   ]
  },
  {
   "cell_type": "markdown",
   "id": "b9ac1d98-2f1a-4965-ac46-925f7740a8b1",
   "metadata": {},
   "source": [
    "![cookies](images/cookies.jpg \"Recette des cookies\")"
   ]
  },
  {
   "cell_type": "code",
   "execution_count": 4,
   "id": "e8f66360-e195-46cd-8f26-b004f5b10293",
   "metadata": {},
   "outputs": [
    {
     "name": "stdin",
     "output_type": "stream",
     "text": [
      "Entrez le nombre de personnes :  4\n"
     ]
    },
    {
     "name": "stdout",
     "output_type": "stream",
     "text": [
      "Recette pour 4 personnes\n",
      "1. Laissez ramollir 56.666666666666664g. de beurre à température ambiante. Dans un saladier, malaxez-le avec 56.666666666666664g. de sucre. \n",
      "2. Ajoutez 0.6666666666666666oeuf et éventuellement 0.6666666666666666 sachets de sucre vanillé. \n",
      "3. Versez progressivement 100.0g. de farine, 0.6666666666666666 sachets de levure chimique, 0.3333333333333333cc. de sel et 233.33333333333331g. de pépites de chocolat. Mélangez bien. \n",
      "4. Beurrez une plaque allant au four ou recouvrez-la d'une plaque de silicone. À l'aide de deux cuillères à soupe ou simplement avec les mains, formez des noix de pâte en les espaçant car elles s'étaleront à la cuisson. \n",
      "5. Faites cuire 8 à 10 minutes à 180°C soit thermostat 6. Il faut les sortir dès que les contours commencent à brunir.\n"
     ]
    }
   ],
   "source": [
    "oeufs = 1\n",
    "beurre = 85\n",
    "sucre = 85\n",
    "farine = 150\n",
    "sucre_vanille = 1\n",
    "levure = 1\n",
    "sel = 0.5\n",
    "chocolat = 350\n",
    "\n",
    "ingredients = [oeufs,beurre,sucre,farine,sucre_vanille,levure,sel, chocolat]\n",
    "\n",
    "nbr_personnes = int(input(\"Entrez le nombre de personnes : \"))\n",
    "\n",
    "for i in range(len(ingredients)):\n",
    "    ingredients[i] = (nbr_personnes/6)*ingredients[i]\n",
    "\n",
    "print(\"Recette pour \"+str(nbr_personnes)+\" personnes\")\n",
    "print(\"1. Laissez ramollir \"+str(ingredients[1])+\"g. de beurre à température ambiante. Dans un saladier, malaxez-le avec \"+str(ingredients[2])+\"g. de sucre. \")\n",
    "print(\"2. Ajoutez \"+str(ingredients[0])+\"oeuf et éventuellement \"+str(ingredients[4])+\" sachets de sucre vanillé. \")\n",
    "print(\"3. Versez progressivement \"+str(ingredients[3])+\"g. de farine, \"+str(ingredients[5])+\" sachets de levure chimique, \"+str(ingredients[6])+\"cc. de sel et \"+str(ingredients[7])+\"g. de pépites de chocolat. Mélangez bien. \")\n",
    "print(\"4. Beurrez une plaque allant au four ou recouvrez-la d'une plaque de silicone. À l'aide de deux cuillères à soupe ou simplement avec les mains, formez des noix de pâte en les espaçant car elles s'étaleront à la cuisson. \")\n",
    "print(\"5. Faites cuire 8 à 10 minutes à 180°C soit thermostat 6. Il faut les sortir dès que les contours commencent à brunir.\")"
   ]
  },
  {
   "cell_type": "markdown",
   "id": "df54d18b-691a-4b66-a443-e0004230be19",
   "metadata": {},
   "source": [
    "### Ex2"
   ]
  },
  {
   "cell_type": "markdown",
   "id": "8bc2bb85-3568-4c8b-bc6c-19af7eacc864",
   "metadata": {},
   "source": [
    "![promotion](images/promotion.jpg \"Promotion en 2M\")"
   ]
  },
  {
   "cell_type": "code",
   "execution_count": null,
   "id": "e7be64ca-b575-4cf8-a2bd-538378f41400",
   "metadata": {},
   "outputs": [
    {
     "name": "stdout",
     "output_type": "stream",
     "text": [
      "Vous êtes promu.e en 2ème\n"
     ]
    }
   ],
   "source": [
    "francais = 4\n",
    "langue2 = 4\n",
    "langue3 = 4\n",
    "maths = 4\n",
    "informatique = 4\n",
    "chimie = 4\n",
    "physique = 4\n",
    "histoire = 4\n",
    "ecodroit = 4\n",
    "artsvisusmusique = 4\n",
    "os = 4\n",
    "\n",
    "notes = [francais,langue2,langue3,maths,informatique,chimie,physique,histoire,ecodroit,artsvisusmusique,os]\n",
    "\n",
    "promu = False\n",
    "\n",
    "# Règle 1 : obtenir un total des notes égal à au moins autant de fois 4 points qu'il y a de notes ;\n",
    "regle1 = 0\n",
    "for i in range(len(notes)):\n",
    "    regle1 = regle1 + notes[i]\n",
    "\n",
    "# Règle 2 : obtenir au moins 16 points dans un groupe constitué du français, de la moyenne des moyennes des notes de la deuxième langue nationale et de la troisième langue, arrondie au demi-point, des mathématiques et de l'option spécifique ;\n",
    "regle2 = francais + (langue2 + langue3)/2 + maths + os\n",
    "\n",
    "# Règle 3 : ne pas avoir plus de quatre notes inférieures à 4.\n",
    "regle3 = 0\n",
    "for i in range(len(notes)):\n",
    "    if notes[i] < 4:\n",
    "        regle3 = regle3 + 1\n",
    "\n",
    "# Calcul de la promotion\n",
    "if regle1 >= len(notes)*4:\n",
    "    if regle2 >=16:\n",
    "        if regle3 < 4:\n",
    "            promu = True\n",
    "else:\n",
    "    promu = False\n",
    "\n",
    "if promu:\n",
    "    print(\"Vous êtes promu.e en 2ème\")\n",
    "else:\n",
    "    print(\"Vous n'êtes pas promu.e en 2ềme\")"
   ]
  },
  {
   "cell_type": "markdown",
   "id": "6f372e36-af1d-4abf-9d1f-fb9cfb96d9be",
   "metadata": {
    "tags": []
   },
   "source": [
    "### Ex3 \n",
    "\n"
   ]
  },
  {
   "cell_type": "markdown",
   "id": "69510dc3-4f3f-44a4-8d27-cbbbefb79e24",
   "metadata": {},
   "source": [
    "![Heron](images/HeronAlexandrie.jpg \"Algorigramme \")"
   ]
  },
  {
   "cell_type": "code",
   "execution_count": null,
   "id": "1f0eba31-ed0d-4b31-8d0a-fd99133339e3",
   "metadata": {},
   "outputs": [
    {
     "name": "stdin",
     "output_type": "stream",
     "text": [
      "Entrez la valeur de a :  4\n",
      "Entrez la limite      :  100\n"
     ]
    },
    {
     "name": "stdout",
     "output_type": "stream",
     "text": [
      "Racine de 4.0 = 2.0\n"
     ]
    }
   ],
   "source": [
    "a = float(input(\"Entrez la valeur de a : \"))\n",
    "lim = int(input(\"Entrez la limite      : \"))\n",
    "xn = a\n",
    "for i in range(lim):\n",
    "    xnp1 = 0.5 * (xn + a/xn)\n",
    "    xn = xnp1\n",
    "print(\"Racine de \"+str(a)+\" = \"+str(xnp1))"
   ]
  },
  {
   "cell_type": "code",
   "execution_count": null,
   "id": "677a4488-9388-4892-b3e8-f5eec249aa62",
   "metadata": {},
   "outputs": [],
   "source": []
  }
 ],
 "metadata": {
  "kernelspec": {
   "display_name": "Python 3 (ipykernel)",
   "language": "python",
   "name": "python3"
  },
  "language_info": {
   "codemirror_mode": {
    "name": "ipython",
    "version": 3
   },
   "file_extension": ".py",
   "mimetype": "text/x-python",
   "name": "python",
   "nbconvert_exporter": "python",
   "pygments_lexer": "ipython3",
   "version": "3.9.2"
  }
 },
 "nbformat": 4,
 "nbformat_minor": 5
}
