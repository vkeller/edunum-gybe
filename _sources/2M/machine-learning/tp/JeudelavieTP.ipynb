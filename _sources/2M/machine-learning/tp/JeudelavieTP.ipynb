{
 "cells": [
  {
   "cell_type": "markdown",
   "id": "7fba873f-16b9-40ae-aa77-9aafd9fadd20",
   "metadata": {},
   "source": [
    "![gameoflife](images/conway.jpg \"Game of Life of John Conway\")\n",
    "\n",
    "# TP-IA-01 : Le jeu de la vie"
   ]
  },
  {
   "cell_type": "markdown",
   "id": "a96e0030-2061-4f42-bdb6-a3dad06d9ffd",
   "metadata": {},
   "source": [
    "## Objectifs pédagogique\n",
    "\n",
    "- développer le jeu de la vie de John Conway en Python3"
   ]
  },
  {
   "cell_type": "code",
   "execution_count": null,
   "id": "8e6f68d8-5103-4359-9562-515e8393b399",
   "metadata": {},
   "outputs": [],
   "source": []
  }
 ],
 "metadata": {
  "kernelspec": {
   "display_name": "Python 3 (ipykernel)",
   "language": "python",
   "name": "python3"
  },
  "language_info": {
   "codemirror_mode": {
    "name": "ipython",
    "version": 3
   },
   "file_extension": ".py",
   "mimetype": "text/x-python",
   "name": "python",
   "nbconvert_exporter": "python",
   "pygments_lexer": "ipython3",
   "version": "3.9.2"
  }
 },
 "nbformat": 4,
 "nbformat_minor": 5
}
