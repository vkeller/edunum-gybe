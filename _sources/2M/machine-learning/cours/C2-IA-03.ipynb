{
 "cells": [
  {
   "cell_type": "markdown",
   "id": "7a1e4b2f-ade3-4fd5-a714-de9f7e2f7b13",
   "metadata": {},
   "source": [
    "![machinelearning](images/machine.jpg \"Apprentissage automatique\")\n",
    "\n",
    "# C2-IA-03 : Apprentissage automatique"
   ]
  },
  {
   "cell_type": "markdown",
   "id": "8a8fe20e-ee15-4557-86a7-080d5de6c083",
   "metadata": {},
   "source": [
    "## Objectifs pédagogiques\n",
    "\n",
    "- connaître les bases de l'apprentissage automatique\n",
    "    - données et caractéristiques\n",
    "    - apprentissage supervisé et non supervisé\n",
    "    - validation et tests"
   ]
  },
  {
   "cell_type": "markdown",
   "id": "301f7b75-3dd4-4183-8d68-fd86a10cf1fc",
   "metadata": {},
   "source": [
    "## Définition : Apprentissage automatique\n",
    "\n",
    "L'apprentissage automatique (*Machine learning* en anglais) est une branche de l'intelligence artificielle qui se concentre sur le développement de techniques permettant aux ordinateurs d'apprendre à partir de données indexées et d'améliorer leurs performances au fil du temps sans être explicitement reprogrammés. \n",
    "\n",
    "Les algorithmes d'apprentissage automatique utilisent des données pour apprendre des nouvelles règles de manière autonome."
   ]
  },
  {
   "cell_type": "markdown",
   "id": "53a48329-9b60-4fc5-bf86-53ca96356b13",
   "metadata": {},
   "source": [
    "## Exemple introductif : MNIST\n",
    "\n",
    "La base de données **MNIST** (*Mixed National Institute of Standards and Technology* en anglais) est une base de données de 60'000 chiffres écrits à la main. Chaque image contient une méta-donnée, une **étiquette** (*label* en anglais) : le chiffre écrit.\n",
    "\n",
    "![minst](images/mnist2.png \"Ensemble MINST\")\n",
    "\n",
    "C'est un jeu de donnée qui est utilisé pour tester les algorithmes d'apprentissage automatique.\n",
    "\n",
    "Nicholas Wolff, collègue du gymnase de Beaulieu, a développé une application permettant de tester la **reconnaissance de texte** en utilisant la base de donnée MNIST : [lien sur le site](https://nwolff.github.io/cours-RN/predict/)"
   ]
  },
  {
   "cell_type": "markdown",
   "id": "7d048793-7e2e-4fea-9cd4-c917cb4871ca",
   "metadata": {},
   "source": [
    "## Données et caractéristiques\n",
    "\n",
    "L'apprentissage automatique repose sur l'utilisation de données pour entraîner des modèles. Ce données peuvent être structurées (comme des tableaux de données) ou non-structurés (comme des images, des sons ou du texte).\n",
    "\n",
    "![classification](images/classification.png \"Classification chiens-chats\")\n",
    "\n",
    "Les caractéristiques (*features* en anglais) sont des propriétés mesurables des données utilisées par les modèles pour effectuer des prédictions ou prendre une décision. Par exemple, dans un problème de **classification d'images**, les caractéristiques pourraient être les pixels de l'image. \n",
    "\n",
    "### Etiquette d'une donnée\n",
    "\n",
    "Pour pouvoir être utilisées dans une phase d'entraînement, une donnée (image, son, etc..) doit contenir une **meta-donnée** qui caractérise la donnée. On appelle cette méta-donnée **étiquette** (*label* en anglais). \n",
    "\n",
    "![label](images/label.png \"labeled data\")"
   ]
  },
  {
   "cell_type": "markdown",
   "id": "c26f8593-4cc5-4e8a-a04e-7a6c5614ee2f",
   "metadata": {},
   "source": [
    "## Apprentissage supervisé\n",
    "\n",
    "L'apprentissage supervisé consiste à **entraîner un modèle** à partir de paires de données d'entrée et de sortie de l'algorithme. Le modèle apprend à partir d'exemples **étiquetés** afin de faire des prédictions sur de nouvelles données\n",
    "\n",
    "Les deux types principaux de tâches en apprentissage supervisé sont :\n",
    "\n",
    "1. La **classification** : prédire une catégorie ou une classe\n",
    "1. La **régression** : prédire une valeur numérique\n",
    "\n",
    "![superviserd](images/supervised.png \"Supervised machine learning\")\n",
    "\n",
    "### Processus d'apprentissage\n",
    "\n",
    "L'apprentissage supervisé implique deux phases :\n",
    "\n",
    "1. Phase **d'entraînement** : le modèle (l'algorithme) est exposé à un ensemble de données étiquetées. Le modèle ajuste ses paramètres internes pour **minimiser une fonction d'erreur** (*fitness function* en anglais). Cette fonction d'erreur décrit la justesse du résultat d'apprentissage.\n",
    "1. Phase **de test** : le modèle est évalué sur un ensemble de données distinct pour estimer sa capacité à généraliser à de nouvelles données non utilisées pendant la phase d'entraînement. "
   ]
  },
  {
   "cell_type": "markdown",
   "id": "22f264b3-c8f9-4d79-8534-066840324b29",
   "metadata": {},
   "source": [
    "## Apprentissage non-supervisé\n",
    "\n",
    "L'apprentissage **non supervisé** implique l'utilisation de données sans étiquette pour apprendre la structure ou les modèles des données. Contrairement à l'apprentissage supervisé, il n'y a pas de variable à prédire en sortie d'algorithme. L'objectif de ce type d'apprentissage est de découvrir des structures, des motifs ou des relations dans les données.\n",
    "\n",
    "### Types de tâches\n",
    "\n",
    "Il existe trois types de tâche dans l'apprentissage non-supervisé :\n",
    "\n",
    "- le regroupement (*clustering* en anglais) qui consiste à regrouper des données en fonction de leurs similitudes\n",
    "\n",
    "![clustering](images/clustering.jpg \"Clustering\")\n",
    "\n",
    "- la réduction de dimensionnalité (*dimensionality reduction* en anglais) qui consiste à supprimer des dimensions dans les données pour ne conserver que celles qui sont les plus **discriminantes**.\n",
    "\n",
    "![dimension](images/dimension.jpg \"Dimension reduction\")\n",
    "\n",
    "- La détection d'anomalies (*anomaly detection* en anglais) qui consiste à découvrir et supprimer des données extrêmes qui perturbent un modèle.\n",
    "\n",
    "![anomaly](images/anomaly.png \"Anomaly detection\")"
   ]
  },
  {
   "cell_type": "markdown",
   "id": "4442ee1b-72c9-44cb-8f28-a54bf6d56db3",
   "metadata": {},
   "source": [
    "## Entraînement, validation et test\n",
    "\n",
    "L'**entraînement** est la première étape de l'apprentissage automatique. On dispose d'un ensemble de données étiquetées que l'on soumet à l'algorithme (au modèle). Cette phase permet de régler les paramètres de l'algorithme. \n",
    "\n",
    "La **validation** est la seconde étape du processus de développement de modèles d'apprentissage automatique. Son objectif est d'évaluer la performance du modèle sur des données distinctes de celles utilisées par l'entraînement. \n",
    "\n",
    "L'ensemble de validation est utilisé pour ajuster les paramètres de l'algorithme (du modèle). Ces paramètres sont :\n",
    "\n",
    "1. le taux d'apprentissage : un facteur  qui mesure la fréquence de modification des paramètres de l'algorithme. Plus il est élevé, plus le modèle \"oublie\" ce qu'il a appris. Si le taux est trop élevé, alors on observe une divergence lors de l'entraînement.\n",
    "1. le nombre d'itérations : mesure le temps nécessaire à l'algorithme pour donner une réponse\n",
    "1. la taille de l'ensemble de données\n",
    "\n",
    "Le **test** est la phase finale du processus de développement du modèle : on utilise des données non étiquetées sur un algorithme entraîné. \n",
    "\n",
    "On évalue finalement la **performance** de l'algorithme en comparant les sorties de l'ensemble de test avec la réalité. Il existe différentes mesures pour ce faire : on les appelle des **métriques**.\n",
    "\n",
    "![training](images/trainingset.png \"Training et Test sets\")"
   ]
  },
  {
   "cell_type": "markdown",
   "id": "a3728d42-a6b4-4f88-bcba-a7243486cfc7",
   "metadata": {},
   "source": [
    "## Evaluation des modèles\n",
    "\n",
    "Une fois qu'un modèle est entraîné, on peut le comparer avec d'autres modèles (algorithmes) qui résolvent le même problème. "
   ]
  },
  {
   "cell_type": "code",
   "execution_count": null,
   "id": "8c01b15b-4c90-417d-a6ef-7fd0d539ddef",
   "metadata": {},
   "outputs": [],
   "source": []
  }
 ],
 "metadata": {
  "kernelspec": {
   "display_name": "Python 3 (ipykernel)",
   "language": "python",
   "name": "python3"
  },
  "language_info": {
   "codemirror_mode": {
    "name": "ipython",
    "version": 3
   },
   "file_extension": ".py",
   "mimetype": "text/x-python",
   "name": "python",
   "nbconvert_exporter": "python",
   "pygments_lexer": "ipython3",
   "version": "3.9.2"
  }
 },
 "nbformat": 4,
 "nbformat_minor": 5
}
