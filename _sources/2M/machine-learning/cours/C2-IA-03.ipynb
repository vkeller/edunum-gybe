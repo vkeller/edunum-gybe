{
 "cells": [
  {
   "cell_type": "markdown",
   "id": "7a1e4b2f-ade3-4fd5-a714-de9f7e2f7b13",
   "metadata": {},
   "source": [
    "![machinelearning](images/machine.jpg \"Apprentissage automatique\")\n",
    "\n",
    "# C2-IA-03 : Apprentissage automatique"
   ]
  },
  {
   "cell_type": "markdown",
   "id": "8a8fe20e-ee15-4557-86a7-080d5de6c083",
   "metadata": {},
   "source": [
    "## Objectifs pédagogiques\n",
    "\n",
    "- connaître les bases de l'apprentissage automatique\n",
    "    - données et caractéristiques\n",
    "    - apprentissage supervisé et non supervisé\n",
    "    - validation et tests"
   ]
  },
  {
   "cell_type": "markdown",
   "id": "301f7b75-3dd4-4183-8d68-fd86a10cf1fc",
   "metadata": {},
   "source": [
    "## Définition : Apprentissage automatique\n",
    "\n",
    "L'apprentissage automatique (*Machine learning* en anglais) est une branche de l'intelligence artificielle qui se concentre sur le développement de techniques permettant aux ordinateurs d'apprendre à partir de données indexées et d'améliorer leurs performances au fil du temps sans être explicitement reprogrammés. \n",
    "\n",
    "Les algorithmes d'apprentissage automatique utilisent des données pour apprendre des nouvelles règles de manière autonome."
   ]
  },
  {
   "cell_type": "markdown",
   "id": "53a48329-9b60-4fc5-bf86-53ca96356b13",
   "metadata": {},
   "source": [
    "## Exemple introductif : MNIST\n",
    "\n",
    "La base de données **MNIST** (*Mixed National Institute of Standards and Technology* en anglais) est une base de données de 60'000 chiffres écrits à la main. Chaque image contient une méta-donnée (le chiffre écrit).\n",
    "\n",
    "![minst](images/minst.png \"Ensemble MINST\")\n",
    "\n",
    "C'est un jeu de donnée qui est utilisé pour tester les algorithmes d'apprentissage automatique.\n",
    "\n",
    "Nicholas Wolff, collègue du gymnase de Beaulieu, a développé une application permettant de tester la **reconnaissance de texte** en utilisant la base de donnée MNIST : [lien sur le site](https://nwolff.github.io/cours-RN/predict/)"
   ]
  },
  {
   "cell_type": "markdown",
   "id": "7d048793-7e2e-4fea-9cd4-c917cb4871ca",
   "metadata": {},
   "source": [
    "## Données et caractéristiques\n",
    "\n"
   ]
  },
  {
   "cell_type": "markdown",
   "id": "c26f8593-4cc5-4e8a-a04e-7a6c5614ee2f",
   "metadata": {},
   "source": [
    "## Apprentissage supervisé"
   ]
  },
  {
   "cell_type": "markdown",
   "id": "22f264b3-c8f9-4d79-8534-066840324b29",
   "metadata": {},
   "source": [
    "## Apprentissage non-supervisé"
   ]
  },
  {
   "cell_type": "markdown",
   "id": "4442ee1b-72c9-44cb-8f28-a54bf6d56db3",
   "metadata": {},
   "source": [
    "## Validation et test"
   ]
  },
  {
   "cell_type": "markdown",
   "id": "a3728d42-a6b4-4f88-bcba-a7243486cfc7",
   "metadata": {},
   "source": [
    "## Evaluation des modèles"
   ]
  },
  {
   "cell_type": "code",
   "execution_count": null,
   "id": "8c01b15b-4c90-417d-a6ef-7fd0d539ddef",
   "metadata": {},
   "outputs": [],
   "source": []
  }
 ],
 "metadata": {
  "kernelspec": {
   "display_name": "Python 3 (ipykernel)",
   "language": "python",
   "name": "python3"
  },
  "language_info": {
   "codemirror_mode": {
    "name": "ipython",
    "version": 3
   },
   "file_extension": ".py",
   "mimetype": "text/x-python",
   "name": "python",
   "nbconvert_exporter": "python",
   "pygments_lexer": "ipython3",
   "version": "3.9.2"
  }
 },
 "nbformat": 4,
 "nbformat_minor": 5
}
