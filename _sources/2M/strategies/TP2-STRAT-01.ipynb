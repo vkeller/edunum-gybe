{
 "cells": [
  {
   "cell_type": "markdown",
   "id": "91f32089-ffb9-4ed3-a3f8-22bc1e12cca5",
   "metadata": {},
   "source": [
    "![gomme](images/gomme.jpg \"Correction d'erreurs\")\n",
    "\n",
    "# TP2-STRAT-01 : Gestion des erreurs"
   ]
  },
  {
   "cell_type": "markdown",
   "id": "c8e215a7-1603-4c3a-9667-172c91fbe8e2",
   "metadata": {},
   "source": [
    "## Objectifs pédagogiques\n",
    "\n",
    "- Comprendre un code informatique qui n'est pas écrit par l'élève\n",
    "- Comprendre et corriger différentes erreurs de types algorithmique, programmatique et syntaxique"
   ]
  },
  {
   "cell_type": "code",
   "execution_count": null,
   "id": "dd5b88b1-a285-48fa-8dd9-d4d8a0b77765",
   "metadata": {},
   "outputs": [],
   "source": []
  }
 ],
 "metadata": {
  "kernelspec": {
   "display_name": "Python 3 (ipykernel)",
   "language": "python",
   "name": "python3"
  },
  "language_info": {
   "codemirror_mode": {
    "name": "ipython",
    "version": 3
   },
   "file_extension": ".py",
   "mimetype": "text/x-python",
   "name": "python",
   "nbconvert_exporter": "python",
   "pygments_lexer": "ipython3",
   "version": "3.9.2"
  }
 },
 "nbformat": 4,
 "nbformat_minor": 5
}
