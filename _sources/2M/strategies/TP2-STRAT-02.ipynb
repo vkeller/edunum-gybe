{
 "cells": [
  {
   "cell_type": "markdown",
   "id": "2024bd30-558c-4b07-a2a1-12b5fc883ee9",
   "metadata": {},
   "source": [
    "![doomsday](images/doomsday.jpg \"Doomsday\")\n",
    "(Creative commons : [Rodrigo Katrakas](https://www.deviantart.com/rodrigokatrakas/art/Doomsday-850621687))\n",
    "\n",
    "# TP2-STRAT-02 : Implémentation de l'algorithme du Doomsday"
   ]
  },
  {
   "cell_type": "markdown",
   "id": "3bf348d3-87ac-4309-8eaa-b076c743f3d0",
   "metadata": {},
   "source": [
    "## Objectifs pédagogiques\n",
    "\n",
    "- appliquer l'ensemble des concepts de programmation à un problème complexe\n",
    "- factoriser les différentes étapes\n",
    "- tester, corriger et valider la solution applicative"
   ]
  },
  {
   "cell_type": "markdown",
   "id": "9dca62f7-4b3c-4dd7-a174-994c0efdcf80",
   "metadata": {},
   "source": [
    "## Introduction : algorithme de Doomsday\n",
    "\n",
    "L'algorithme du jour dernier a été vu [en première année](https://vkeller.github.io/modulo-gybe/1M/algo/cours/C1-ALGO-08.html). Cet algorithme permet de trouver le jour (lundi, mardi, etc..) de n'importe quelle date du calendrier grégorien. \n",
    "\n",
    "- **Entrées** : le numéro du `jj`, le numéro du mois `mm` et l'année en 4 chiffres `aaaa`\n",
    "- **Sortie** : `nom du jour` \n",
    "\n",
    "Cet algorithme se déroule en trois étapes :\n",
    "\n",
    "1. recherche de la balise du siècle\n",
    "1. identification du jour clé\n",
    "1. choix du jour pivot et détermination du jour"
   ]
  },
  {
   "cell_type": "markdown",
   "id": "f482a046-3777-4656-a9fb-7680973fe243",
   "metadata": {},
   "source": [
    "## Exercice 1 : recherche de la balise du siècle\n",
    "\n",
    "Ecrivez un programme qui permet de retrouver la balise du siècle. L'entrée de ce programme est l'année écrite sous la forme `aaaa`.\n",
    "\n",
    "### Rappel : balise du siècle\n",
    "\n",
    "| Siècles  | 1600<br>2000<br>2400<br>...<br> | 1700<br>2100<br>2500<br>...<br> | 1800<br>2200<br>2600<br>...<br> | 1900<br>2300<br>2700<br>...<br> |\n",
    "| :-----: | :-----: | :-----: | :-----: | :-----: |\n",
    "|  **Balise du siècle** | **2**  | **0**  | **5**  | **3**  |"
   ]
  },
  {
   "cell_type": "markdown",
   "id": "6fe0b2be-b8b7-4aa0-af7b-2592b5efa629",
   "metadata": {},
   "source": [
    "## Exercice 2 : identification du jour clé\n",
    "\n",
    "Ecrivez un programme qui identifie le jour clé de l'année `aaaa` considérée. L'algorithme est le suivant :\n",
    "\n",
    "![doomsday](images/doomsday_2.png \"Doomsday\")\n",
    "\n",
    "Le chiffre obtenu à la fin de l'algorithme est un jour de semaine\n",
    "\n",
    "| Chiffre  | Jour  |\n",
    "|:--- | :--- |\n",
    "| 0  | Dimanche  |\n",
    "| 1  | Lundi  |\n",
    "| 2  | Mardi  |\n",
    "| 3  | Mercredi  |\n",
    "| 4  | Jeudi  |\n",
    "| 5  | Vendredi  |\n",
    "| 6  | Samedi  |"
   ]
  },
  {
   "cell_type": "markdown",
   "id": "a4bc604a-08b2-4de2-8c1f-5a0b42b9589d",
   "metadata": {},
   "source": [
    "## Exercice 3 : Choix du jour pivot\n",
    "\n"
   ]
  },
  {
   "cell_type": "markdown",
   "id": "d15cfe55-3a17-48d1-915a-b583c699c329",
   "metadata": {},
   "source": [
    "## Exercice 4 : Factorisation"
   ]
  },
  {
   "cell_type": "markdown",
   "id": "f4e33cab-4dec-405e-b2f8-9a3a4ac287c9",
   "metadata": {},
   "source": [
    "## Exercice 5 : Tout ensemble"
   ]
  },
  {
   "cell_type": "code",
   "execution_count": null,
   "id": "744b0cfb-3e6b-491c-9a4d-b8a0ea141496",
   "metadata": {},
   "outputs": [],
   "source": []
  }
 ],
 "metadata": {
  "kernelspec": {
   "display_name": "Python 3 (ipykernel)",
   "language": "python",
   "name": "python3"
  },
  "language_info": {
   "codemirror_mode": {
    "name": "ipython",
    "version": 3
   },
   "file_extension": ".py",
   "mimetype": "text/x-python",
   "name": "python",
   "nbconvert_exporter": "python",
   "pygments_lexer": "ipython3",
   "version": "3.9.2"
  }
 },
 "nbformat": 4,
 "nbformat_minor": 5
}
