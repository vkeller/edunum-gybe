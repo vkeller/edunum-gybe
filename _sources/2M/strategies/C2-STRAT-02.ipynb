{
 "cells": [
  {
   "cell_type": "markdown",
   "id": "da510da0-6165-4f70-a5c3-ad39964f9ef1",
   "metadata": {},
   "source": [
    "![error](images/error.png \"Erreur\")\n",
    "\n",
    "# C2-STRAT-01 : Gestion des erreurs"
   ]
  },
  {
   "cell_type": "markdown",
   "id": "2a2d8ded-0a32-4b5d-8c31-63451dfa636c",
   "metadata": {},
   "source": [
    "## Objectifs pédagogiques\n",
    "\n",
    "1. Connaître la définition d'une erreur \n",
    "1. Savoir identifier le type d'une erreur :\n",
    "    1. algorithmique\n",
    "    1. erreur de programmation\n",
    "    1. syntaxique"
   ]
  },
  {
   "cell_type": "markdown",
   "id": "31a7b402-261c-42c9-bba2-cd1c5bf12fb8",
   "metadata": {},
   "source": [
    "## Définition : erreur algorithmique\n",
    "\n"
   ]
  },
  {
   "cell_type": "markdown",
   "id": "92b88590-51f4-41cf-83a8-ea46b478bb0c",
   "metadata": {},
   "source": [
    "## Définition : erreur de programmation\n"
   ]
  },
  {
   "cell_type": "markdown",
   "id": "b781bf10-39f7-4838-9a01-b67c4f4dd7a5",
   "metadata": {},
   "source": [
    "## Définition : erreur de syntaxe en Python\n",
    "\n",
    "Ce sont généralement les erreurs les plus simples à corriger. Le compilateur indique généralement la ligne sur laquelle s'est produite l'erreur et la raison. Elles sont de deux sous-types :\n",
    "\n",
    "1. Les erreurs de syntaxe pures\n",
    "1. Les exceptions\n",
    "\n",
    "A noter que pour les exceptions, il est possible d'écrire un programme qui les traite au moment de l'exécution. "
   ]
  },
  {
   "cell_type": "markdown",
   "id": "305da232-10e3-4b83-8895-725f5098ec06",
   "metadata": {},
   "source": [
    "### Exemples d'erreurs de syntaxe pure"
   ]
  },
  {
   "cell_type": "markdown",
   "id": "e46635a3-8db8-4a29-a51b-11b48b8272c0",
   "metadata": {},
   "source": [
    "#### Mauvais nom de module : ModuleNotFoundError\n",
    "\n",
    "Code :\n",
    "\n",
    "```\n",
    "from turtles import *\n",
    "```\n",
    "\n",
    "L'erreur indique :\n",
    "\n",
    "```\n",
    "ModuleNotFoundError: No module named 'turtles'\n",
    "```\n",
    "\n",
    "La syntaxe correct est `from turtle import *` (sans `s`)"
   ]
  },
  {
   "cell_type": "markdown",
   "id": "ac84e6b0-c69d-4619-a7a9-32628fcc1125",
   "metadata": {},
   "source": [
    "#### Syntaxe incorrecte\n",
    "\n",
    "Code :\n",
    "\n",
    "```\n",
    "i = 0\n",
    "while (i < 10) print(\"Bonjour\")\n",
    "    i = i + 1\n",
    "```\n",
    "\n",
    "L'erreur indique :\n",
    "\n",
    "```\n",
    "SyntaxError: invalid syntax\n",
    "```\n",
    "\n",
    "La syntaxe correcte est l'utilisation de `:` après l'instruction while :\n",
    "\n",
    "```\n",
    "i = 0\n",
    "while (i < 10) :\n",
    "    print(\"Bonjour\")\n",
    "    i = i + 1\n",
    "```\n",
    "Il est à noter que cette erreur est levée dans 3 cas possibles:\n",
    "\n",
    "1. Un mot-clef du langage est **mal écrit**\n",
    "1. Un mot-clef du langage **manque**\n",
    "1. Un mot-clef du langage est **mal utilisé** (ou utilisé dans un mauvais contexte)"
   ]
  },
  {
   "cell_type": "markdown",
   "id": "d77140e1-c59d-4b85-b6ab-9a69180c901f",
   "metadata": {},
   "source": [
    "#### Erreur d'indentation\n",
    "\n",
    "Code :\n",
    "\n",
    "```\n",
    "i = 0\n",
    "while (i < 10) :\n",
    "     print(\"Bonjour\")\n",
    "    i = i + 1\n",
    "```\n",
    "\n",
    "L'erreur indique :\n",
    "\n",
    "```\n",
    "IndentationError: unindent does not match any outer indentation level\n",
    "```\n",
    "L'indentation (les 4 espaces qui précèdent les instructions d'un bloc) doivent être précisémment écrits. La syntaxe correcte est :\n",
    "\n",
    "```\n",
    "i = 0\n",
    "while (i < 10) :\n",
    "    print(\"Bonjour\")\n",
    "    i = i + 1\n",
    "```\n"
   ]
  },
  {
   "cell_type": "markdown",
   "id": "0c374d6e-51a5-40af-bf24-06012c03d456",
   "metadata": {},
   "source": [
    "#### Mauvaise utilisation de l'opérateur d'assignation (`=`)\n",
    "\n",
    "Code :\n",
    "\n",
    "```\n",
    "len('hello') = 5\n",
    "```\n",
    "\n",
    "Cette erreur est levée lorsqu'un programme essaie d'assigner un élément à un autre de type différent.\n",
    "\n",
    "```\n",
    "SyntaxError: cannot assign to function call\n",
    "```\n",
    "\n",
    "Dans ce cas, il faut assigner la valeur de retour de la fonction `len()` à une variable (de type entier):\n",
    "\n",
    "```\n",
    "longueur = len('hello')\n",
    "```"
   ]
  },
  {
   "cell_type": "markdown",
   "id": "0776afb0-7284-4e95-a1c5-15fadea8edb2",
   "metadata": {},
   "source": [
    "Mauvais type:\n",
    "\n",
    "Code :\n",
    "\n",
    "```\n",
    "'foo' = 1\n",
    "```\n",
    "\n",
    "L'erreur indique :\n",
    "\n",
    "```\n",
    "SyntaxError: cannot assign to literal\n",
    "```\n",
    "\n",
    "La syntaxe correcte serait l'utilisation de plusieurs variables de types différents :\n",
    "\n",
    "```\n",
    "variable1 = 'foo'\n",
    "variable2 = 1\n",
    "```"
   ]
  },
  {
   "cell_type": "markdown",
   "id": "378a645b-9562-48cb-b7a0-01c3cacfec3f",
   "metadata": {},
   "source": [
    "Mais il est clair que l'on peut tester la validité d'une proposition à l'aide de l'opérateur d'égalité `==`:"
   ]
  },
  {
   "cell_type": "code",
   "execution_count": 8,
   "id": "b0c3f985-3b30-4ae1-93c6-8de4330e3612",
   "metadata": {},
   "outputs": [
    {
     "data": {
      "text/plain": [
       "True"
      ]
     },
     "execution_count": 8,
     "metadata": {},
     "output_type": "execute_result"
    }
   ],
   "source": [
    "len('hello') == 5"
   ]
  },
  {
   "cell_type": "markdown",
   "id": "248e85bf-76d8-42db-b637-75144cc16c32",
   "metadata": {},
   "source": [
    "#### Parenthèses manquantes\n",
    "\n",
    "Code :\n",
    "\n",
    "```\n",
    "prenom = \"Caroline\"\n",
    "print (\"Bonjour \" + prenom + \". Comment allez-vous ?\"\n",
    "```\n",
    "\n",
    "Cette erreur est généralement indiquée par du code *grisé* dans Thonny. \n",
    "\n",
    "```\n",
    "SyntaxError: unexpected EOF while parsing\n",
    "```\n",
    "\n",
    "Dans le cas concret, la syntaxe correcte est :\n",
    "\n",
    "```\n",
    "prenom = \"Caroline\"\n",
    "print (\"Bonjour \" + prenom + \". Comment allez-vous ?\")\n",
    "```"
   ]
  },
  {
   "cell_type": "markdown",
   "id": "39ebf422-ccd3-4222-b2c6-a6d9a7a06a7c",
   "metadata": {},
   "source": [
    "#### Mauvais appel de fonctions (internes ou déclarées)\n",
    "\n",
    "Code :\n",
    "\n",
    "```\n",
    "def maFonction(a,b):\n",
    "    return a + b\n",
    "x = maFonction(3,4,5)\n",
    "```\n",
    "\n",
    "Dans ce cas, l'erreur qui se produit est la suivante :\n",
    "\n",
    "```\n",
    "TypeError: maFonction() takes 2 positional arguments but 3 were given\n",
    "```\n",
    "\n",
    "La syntaxe correcte est:\n",
    "\n",
    "```\n",
    "def maFonction(a,b):\n",
    "    return a + b\n",
    "x = maFonction(3,4)\n",
    "```"
   ]
  },
  {
   "cell_type": "code",
   "execution_count": null,
   "id": "8085c3ac-af11-4730-8095-bfee5d205c42",
   "metadata": {},
   "outputs": [],
   "source": []
  }
 ],
 "metadata": {
  "kernelspec": {
   "display_name": "Python 3 (ipykernel)",
   "language": "python",
   "name": "python3"
  },
  "language_info": {
   "codemirror_mode": {
    "name": "ipython",
    "version": 3
   },
   "file_extension": ".py",
   "mimetype": "text/x-python",
   "name": "python",
   "nbconvert_exporter": "python",
   "pygments_lexer": "ipython3",
   "version": "3.9.2"
  }
 },
 "nbformat": 4,
 "nbformat_minor": 5
}
