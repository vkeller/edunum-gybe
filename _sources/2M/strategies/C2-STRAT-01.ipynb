{
 "cells": [
  {
   "cell_type": "markdown",
   "id": "ea161bad-f1f1-42a7-b3f5-70fd71684d8d",
   "metadata": {
    "tags": []
   },
   "source": [
    "![etapes](images/etapes.jpg \"Etapes de résolution de problèmes\")\n",
    "\n",
    "# C2-STRAT-01 : Stratégies de résolution de problèmes"
   ]
  },
  {
   "cell_type": "markdown",
   "id": "b76370b9-64ea-42b2-a60a-a6e4a6ff4822",
   "metadata": {},
   "source": [
    "## Objectifs pédagogiques \n",
    "\n",
    "- acquérir des éléments de stratégie de résolution de problèmes\n",
    "- appliquer sur un problème informatique"
   ]
  },
  {
   "cell_type": "markdown",
   "id": "7ebb2e97-05f3-4ac8-95bc-fc8a8f959f3a",
   "metadata": {},
   "source": [
    "## Méthodes de résolution (observées)\n",
    "\n",
    "On part d'un problème informatique posé et on établi une stratégie de résolution"
   ]
  },
  {
   "cell_type": "markdown",
   "id": "40b8d0d5-f2d6-40d1-93fd-960a37b233da",
   "metadata": {},
   "source": [
    "### Exemple de problème en informatique\n",
    "\n",
    "**Consigne**\n",
    "\n",
    "Vous avez 45 minutes pour écrire un programme informatique qui vérifie si une chaîne de caractère est un palindrome.\n",
    "\n",
    "**Entrée du programme** : une chaîne de caractères\n",
    "**Sortie du programme** : Afficher `C'est un palindrome` si la chaîne en entrée en est un. `Ce n'est pas un palindrome` si la chaîne en entrée n'en est pas un\n",
    "\n",
    "**Exemples de palindromes** : `SUGUS`, `ELLE`, `RADAR`, `KAYAK`\n",
    "Il en existe [de bien plus longs](https://fr.wikipedia.org/wiki/Palindrome) et dans toutes les langues"
   ]
  },
  {
   "cell_type": "markdown",
   "id": "f1977596-f1f0-4397-b515-c609c9ee88cc",
   "metadata": {},
   "source": [
    "### 1ère méthode\n",
    "\n",
    "- regarder la question pendant 40 minutes\n",
    "- Ecire un programme parfait en 5 minutes"
   ]
  },
  {
   "cell_type": "markdown",
   "id": "a8ed65fc-f9b1-4a5d-8738-a6d6358ad00e",
   "metadata": {},
   "source": [
    "### 2ème méthode\n",
    "\n",
    "- Ne pas lire la question\n",
    "- Ouvrir Thonny\n",
    "- Ecrire un `for` peut-être un `if` \n",
    "- Importer le module tortue : `from turtle import *`\n",
    "- Remarquer que rien ne se passe lorsqu'on appuie sur la flèche verte\n",
    "- Persister"
   ]
  },
  {
   "cell_type": "markdown",
   "id": "e5588d95-c438-4a18-9e88-6e328d03e5d1",
   "metadata": {},
   "source": [
    "## Proposition d'une méthode efficace"
   ]
  },
  {
   "cell_type": "markdown",
   "id": "42f46797-81ef-45be-913a-737b8a9650e6",
   "metadata": {},
   "source": [
    "En suivant cette stratégie, il est devient plus facile de résoudre efficacement un **problème** (ou une **classe de problèmes** : un ensemble de problèmes similaires). \n",
    "\n",
    "La méthode est divisée en deux parties : \n",
    "\n",
    "- l'analyse algorithmique du problème\n",
    "- la programmation"
   ]
  },
  {
   "cell_type": "markdown",
   "id": "4f7f5fab-d98a-49f9-be1e-9993bc8965b6",
   "metadata": {},
   "source": [
    "### Analyse algorithmique du problème\n",
    "\n",
    "1. **lire la donnée**. Prendre le temps de lire chaque mot de la consigne ou du problème posé. *Sans comprendre le problème, les chances d'écrire un programme qui le résoud sont nulles*\n",
    "1. **inventer des petits exemples sur une feuille de papier**. *Si vous ne savez pas résoudre les petits exemples à la main sur une feuille de papier, les chances de retranscrire les étapes sont nulles*\n",
    "1. **décomposer le problème en petites étapes**. Chacune de ces étapes pourront être programmées. *Un ordinateur n'a pas d'intelligence ni de bon sens : il faut tout détailler*\n",
    "1. **identifier les informations dont on a besoin**. Ces informations sont les variables, les entrées, les sorties, les éléments à calculer, les éléments à collecter, etc..\n",
    "1. **écrire un algorigramme du problème**. Ce formalisme permet de tester les différents exemples et de vérifier si l'algorithme est correctement décrit. \n",
    "1. **connaître les bases de la programmation**. Variables, structures de contrôle, syntaxe, indentation, etc.. *Sans une maîtrise de ces bases, les chances d'arriver à écrire un programme sont nulles*\n",
    "1. **connaître les structures de données de base**. Les variables, les listes, et d'autres structures plus complexes afin de modéliser le problème\n",
    "1. **relier les éléments de l'algorithme (algorigramme) avec les éléments Python**. \n"
   ]
  },
  {
   "cell_type": "markdown",
   "id": "8f6a673a-83b7-42a4-b03e-a29d457f0f18",
   "metadata": {},
   "source": [
    "### Programmation\n",
    "\n",
    "1. Ecrire le programme graduellement\n",
    "1. Commencer par le coeur du problème. \n",
    "1. Obtenir de la visibilité dans le programme en affichant certains éléments (variables, listes, etc..) au fur et à mesure du développement\n",
    "    1. Commencer par utiliser des `print()`\n",
    "    1. Utiliser le *debugger* (à voir durant les TP)"
   ]
  },
  {
   "cell_type": "markdown",
   "id": "29874e37-9569-42c0-aacd-a90cfcb9bd1b",
   "metadata": {},
   "source": [
    "## Exercice 1 : Les palindromes\n",
    "\n",
    "Résoudre le problème des palindromes en appliquant la méthode décrite dans ce chapitre\n",
    "\n",
    "**Consigne**\n",
    "\n",
    "Vous avez 45 minutes pour écrire un programme informatique qui vérifie si une chaîne de caractère est un palindrome.\n",
    "\n",
    "**Entrée du programme** : une chaîne de caractères\n",
    "\n",
    "**Sortie du programme** : Afficher `C'est un palindrome` si la chaîne en entrée en est un. `Ce n'est pas un palindrome` si la chaîne en entrée n'en est pas un\n",
    "\n",
    "**Exemples de palindromes** : `SUGUS`, `ELLE`, `RADAR`, `KAYAK`\n",
    "Il en existe [de bien plus longs](https://fr.wikipedia.org/wiki/Palindrome) et dans toutes les langues"
   ]
  },
  {
   "cell_type": "markdown",
   "id": "7bf9eeed-ff18-4868-b798-e69e001cec7b",
   "metadata": {},
   "source": [
    "## Exercice 2 : Le jeu du pendu (pour aller plus loin)\n",
    "\n",
    "En appliquant la méthode décrite dans ce chapitre, développez le jeu du pendu en Python.\n",
    "\n",
    "**Règles du jeu**\n",
    "\n",
    "- Le jeu demande un mot à trouver\n",
    "- le joueur doit choisir une lettre\n",
    "- si la lettre se trouve dans le mot à trouver, alors le joueur ne perd pas d'essai\n",
    "- si la lettre ne se trouve pas dans le mot, alors le joueur perd un essai\n",
    "- Pour trouver le mot, le joueur dispose de 10 essais possibles. \n",
    "\n",
    "Le jeu doit fonctionner quelque soit le mot et le nombre de lettres identiques dans le jeu"
   ]
  }
 ],
 "metadata": {
  "kernelspec": {
   "display_name": "Python 3 (ipykernel)",
   "language": "python",
   "name": "python3"
  },
  "language_info": {
   "codemirror_mode": {
    "name": "ipython",
    "version": 3
   },
   "file_extension": ".py",
   "mimetype": "text/x-python",
   "name": "python",
   "nbconvert_exporter": "python",
   "pygments_lexer": "ipython3",
   "version": "3.9.2"
  }
 },
 "nbformat": 4,
 "nbformat_minor": 5
}
