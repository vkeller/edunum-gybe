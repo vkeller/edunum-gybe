{
 "cells": [
  {
   "cell_type": "markdown",
   "id": "a84f6b30-2f7c-438c-9347-66b683b2fa18",
   "metadata": {},
   "source": [
    "![important](images/important.jpg \"Important sign\")"
   ]
  },
  {
   "cell_type": "markdown",
   "id": "906307d5-2f8b-4bbe-8312-3c5b096c5f37",
   "metadata": {},
   "source": [
    "# R-PROG-01 : Rappels programmation 1M"
   ]
  },
  {
   "cell_type": "markdown",
   "id": "3fa5979d-df5c-4bdf-81f0-b00a5d72e497",
   "metadata": {},
   "source": [
    "## Objectifs\n",
    "\n",
    "- réviser les éléments importants du thème **programmation** de 1M pour bien aborder la programmation en 2M"
   ]
  },
  {
   "cell_type": "code",
   "execution_count": null,
   "id": "501d7d2d-284b-4905-bd07-7e2b0e183dbc",
   "metadata": {},
   "outputs": [],
   "source": []
  }
 ],
 "metadata": {
  "kernelspec": {
   "display_name": "Python 3 (ipykernel)",
   "language": "python",
   "name": "python3"
  },
  "language_info": {
   "codemirror_mode": {
    "name": "ipython",
    "version": 3
   },
   "file_extension": ".py",
   "mimetype": "text/x-python",
   "name": "python",
   "nbconvert_exporter": "python",
   "pygments_lexer": "ipython3",
   "version": "3.9.2"
  }
 },
 "nbformat": 4,
 "nbformat_minor": 5
}
