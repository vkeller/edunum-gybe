{
 "cells": [
  {
   "cell_type": "markdown",
   "id": "cf084723-227e-4b70-8dcd-d9b2c63d63bd",
   "metadata": {},
   "source": [
    "# TE2-PROG-01.T : TP noté (Série B)"
   ]
  },
  {
   "cell_type": "markdown",
   "id": "0ccedf13-02a4-4a40-8742-32a5add945d4",
   "metadata": {},
   "source": [
    "## Prénom :\n",
    "\n",
    "## Nom :\n",
    "\n",
    "## Classe :\n",
    "\n",
    "## **NOTE** :"
   ]
  },
  {
   "cell_type": "markdown",
   "id": "f878d9c0-87d6-4412-8bc5-69975c5597d6",
   "metadata": {},
   "source": [
    "## Consignes\n",
    "\n",
    "- Un exercice à résoudre\n",
    "- Un code Python à rendre (sur Moodle)\n",
    "- Un classeur Excel à rendre (sur Moodle)\n",
    "- Cette feuille remplie"
   ]
  },
  {
   "cell_type": "markdown",
   "id": "775b54e8-e094-4812-bae3-378a77de0cb1",
   "metadata": {},
   "source": [
    "## Exercice 1 : \n",
    "\n",
    "- Enregistrez le code suivant sous le nom `multiplication.py`"
   ]
  },
  {
   "cell_type": "code",
   "execution_count": 4,
   "id": "6d6c120f-4f2b-4c76-9e2b-cf52bfe498cd",
   "metadata": {},
   "outputs": [
    {
     "name": "stdout",
     "output_type": "stream",
     "text": [
      "81\n"
     ]
    }
   ],
   "source": [
    "# Calcul de la table de la multiplication des entiers\n",
    "# Vincent Keller, 2023\n",
    "import time\n",
    "\n",
    "taille = 10\n",
    "\n",
    "# Nombre d'opérations ou d'instructions\n",
    "N = 0\n",
    "\n",
    "for i in range(taille):\n",
    "    for j in range(taille):\n",
    "        multiplication = i * j\n",
    "\n",
    "print(multiplication)\n",
    "\n"
   ]
  },
  {
   "cell_type": "markdown",
   "id": "51def226-6066-4c95-98e0-4e1fc59ba2a9",
   "metadata": {},
   "source": [
    "- supprimez l'affichage de la multiplication `print(multiplication`)\n",
    "- Modifier le code afin de faire varier la **taille** du problème (`taille`) de `10` à `5000`\n",
    "- Calculez le nombre d'opérations ou d'instructions `N`\n",
    "- affichez à chaque itérations avec l'instruction `print(taille,\"\\t\",N)`\n",
    "- Produisez un graphique du nombre d'opérations en fonction de la taille de l'entrée avec Excel\n",
    "- Donnez la courbe de tendance (et donc l'équation de `N` en fonction de la `taille`"
   ]
  },
  {
   "cell_type": "markdown",
   "id": "6e8c9661-fa55-443f-a835-a3330bf67d61",
   "metadata": {},
   "source": [
    "## Exercice 2\n",
    "\n",
    "### Quelle est la classe de complexité de cet algorithme :"
   ]
  }
 ],
 "metadata": {
  "kernelspec": {
   "display_name": "Python 3 (ipykernel)",
   "language": "python",
   "name": "python3"
  },
  "language_info": {
   "codemirror_mode": {
    "name": "ipython",
    "version": 3
   },
   "file_extension": ".py",
   "mimetype": "text/x-python",
   "name": "python",
   "nbconvert_exporter": "python",
   "pygments_lexer": "ipython3",
   "version": "3.9.2"
  }
 },
 "nbformat": 4,
 "nbformat_minor": 5
}
