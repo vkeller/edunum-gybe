{
 "cells": [
  {
   "cell_type": "markdown",
   "id": "fe37631b-0250-4efb-8358-6e5ae96caa6b",
   "metadata": {},
   "source": [
    "![complexite](images/pile_ou_face.png \"Pile Ou Face\")\n",
    "\n",
    "# TP2-PROG-01 : Approche pratique de la complexité : Pile ou face"
   ]
  },
  {
   "cell_type": "markdown",
   "id": "931139ad-243b-4f59-9654-b5fd445314ad",
   "metadata": {},
   "source": [
    "## Objectifs pédagogiques\n",
    "\n",
    "- Comprendre et implémenter la boucle **tant qu'une condition est vraie** (boucle `while`)\n",
    "- Découvrir la bibliothèque de fonctions `random` pour les nombres aléatoires\n",
    "- être capable de mesurer le temps d'un bloc d'instructions dans un code informatique\n",
    "- déduire la complexité temporelle d'un algorithme\n"
   ]
  },
  {
   "cell_type": "markdown",
   "id": "c352b551-92e4-4be6-86dc-06c8b8a76f37",
   "metadata": {},
   "source": [
    "## La boucle While\n",
    "\n",
    "Une boucle while est une boucle Python qui se fait **tant que** une condition est vraie. On peut la considérer comme une généralisation du test conditionnel `if` qui se ferait tant que la condition est remplie\n",
    "\n",
    "```\n",
    "if condition :\n",
    "    instruction 1\n",
    "    instruction 2\n",
    "```\n",
    "\n",
    "devient :\n",
    "\n",
    "```\n",
    "while condition :\n",
    "    instruction 1\n",
    "    instruction 2\n",
    "```\n",
    "\n",
    "ce qui signifie qu'il est obligatoire d'avoir une possibilité de rendre la condition fausse dans la boucle `while`. Sinon, on se retrouve devant une boucle toujours vraie : c'est la **boucle infinie**"
   ]
  },
  {
   "cell_type": "markdown",
   "id": "2c76f440-c73b-4ae1-87c7-269eddafad9a",
   "metadata": {},
   "source": [
    "## Exercice 1 : la boucle while\n",
    "\n",
    "La boucle `tant que` se déclare en python avec le mot clef `while`:\n",
    "\n",
    "```\n",
    "while condition :\n",
    "    instruction 1\n",
    "    instruction 2\n",
    "    etc..\n",
    "```\n",
    "\n",
    "Exemple : Tant que la variable N n'est pas égale à 10, exécuter `N = N + 1`"
   ]
  },
  {
   "cell_type": "code",
   "execution_count": 2,
   "id": "d4d77b2a-b59f-4efa-954c-1557328ed6ce",
   "metadata": {},
   "outputs": [
    {
     "name": "stdout",
     "output_type": "stream",
     "text": [
      "10\n"
     ]
    }
   ],
   "source": [
    "N = 0\n",
    "while (N != 10):\n",
    "    N = N + 1\n",
    "print(N)"
   ]
  },
  {
   "cell_type": "markdown",
   "id": "09811fb2-638a-45bf-ab23-2357697d565a",
   "metadata": {},
   "source": [
    "Ecrivez un code python qui :\n",
    "\n",
    "1. demande à l'utilisateur une valeur minimum\n",
    "1. demande à l'utilisateur une valeur maximum\n",
    "1. initialise une variable `carre = 0`\n",
    "1. Calcule le carré des nombres entiers compris entre les valeurs minimum et maximum\n",
    "\n",
    "(bien qu'il soit possible d'écrire ce programme avec une boucle `for`, l'écrire avec une boucle `while`"
   ]
  },
  {
   "cell_type": "markdown",
   "id": "e97c5eaf-da04-4828-bef9-7bcfb274d679",
   "metadata": {},
   "source": [
    "## Les nombres aléatoires\n",
    "\n",
    "Un **nombre aléatoire** est un nombre quelconque tiré au hasard entre deux bornes. \n",
    "\n",
    "Il est difficile pour un ordinateur de produire des nombres aléatoires. Il existe toutefois une bibliothèque de fonctions dans Python qui nous permet de le faire. Cette bibliothèque s'appelle `random`. Elle contient notamment une fonction qui permet de tirer un **nombre aléatoire entier** entre deux bornes :\n",
    "\n",
    "```\n",
    "import random\n",
    "borneInf = 0\n",
    "borneSup = 10\n",
    "aleatoire = random.randint(borneInf, borneSup)\n",
    "```\n",
    "\n",
    "Ce programme tirera à chaque exécution un nombre aléatoire compris entre `0` et `10`"
   ]
  },
  {
   "cell_type": "markdown",
   "id": "3f6579a0-e204-46b6-a652-729ca912c73a",
   "metadata": {},
   "source": [
    "## Exercice 2 : Nombres aléatoires\n",
    "\n",
    "Voici un programme qui permet de tirer un nombre aléatoire et de l'afficher:"
   ]
  },
  {
   "cell_type": "code",
   "execution_count": 3,
   "id": "4dbc624d-cedf-4345-94f6-a9d55a94e36f",
   "metadata": {},
   "outputs": [
    {
     "name": "stdout",
     "output_type": "stream",
     "text": [
      "6\n"
     ]
    }
   ],
   "source": [
    "import random\n",
    "borneInf = 2\n",
    "borneSup = 10\n",
    "aleatoire = random.randint(borneInf, borneSup)\n",
    "print(aleatoire)"
   ]
  },
  {
   "cell_type": "markdown",
   "id": "e959703e-9db0-4076-8feb-f8bd018ee54e",
   "metadata": {},
   "source": [
    "- modifiez les bornes `borneInf` et `borneSup`\n",
    "- observez que votre programme donne effectivement un nombre aléatoire compris entre ces bornes"
   ]
  },
  {
   "cell_type": "markdown",
   "id": "de14ee89-4e6b-44c6-a079-08f45907e294",
   "metadata": {},
   "source": [
    "## Exercice 2.2 : Pile ou face ?\n",
    "\n",
    "Lorsqu'on lance une pièce de monnaie en l'air, elle a une chance sur deux de retomber sur face, une chance sur deux sur pile.\n",
    "\n",
    "Vérifions que la bibliothèque `random` nous donne bien les bonnes valeurs.\n",
    "\n",
    "- Ecrivez un programme qui tire 10000, 100000, 10000000 un nombre aléatoire entier entre 0 (pile) et 1 (face) à l'aode d'une boucle\n",
    "- comptez le nombre de piles et de face (en stockant la valeur intermédiaire dans deux variables `nbrPile` et `nbrFace`\n",
    "- Vérifiez que le résultat est le bon"
   ]
  },
  {
   "cell_type": "markdown",
   "id": "e3103f23-0a42-4717-a15c-ffeeafecde3d",
   "metadata": {},
   "source": [
    "## Mesure du temps dans un code\n",
    "\n",
    "Dans Python, il est possible de mesurer le **nombre de secondes** entre deux lignes d'un programme. Cela se fait en important la bibliothèque `time` et en appelant une fonction de timing (qui retourne le **temps**) : `time.time()`. \n",
    "\n",
    "```\n",
    "import time\n",
    "\n",
    "start = time.time()\n",
    "\n",
    "# block de code à mesurer\n",
    "\n",
    "end = time.time()\n",
    "\n",
    "print(\"Temps passé dans le bloc de code à mesurer : \",(end-start))\n",
    "\n",
    "```"
   ]
  },
  {
   "cell_type": "markdown",
   "id": "cc3453ba-9d67-414e-96f0-580760eeced8",
   "metadata": {},
   "source": [
    "## Exercice 2.3 : Mesurer le temps\n",
    "\n",
    "Modifiez votre code de pile ou face pour qu'il mesure le temps entre le début et la fin du code. Ce temps permettra d'être utilisé pour la mesure de la complexité"
   ]
  },
  {
   "cell_type": "markdown",
   "id": "7d578fb8-7253-4199-9121-f6a2aadba3c8",
   "metadata": {},
   "source": [
    "## Exercice 2.4 : Complexité de Pile ou Face \n",
    "\n",
    "Dans un tableau Excel, placez les valeurs de $N$ (nombre de tirs) et le temps ($f(N)$). Quelle est la classe de complexité de cet algorithme ?"
   ]
  },
  {
   "cell_type": "code",
   "execution_count": null,
   "id": "282f819c-b77d-4eb6-980d-e831aa1cd823",
   "metadata": {},
   "outputs": [],
   "source": []
  }
 ],
 "metadata": {
  "kernelspec": {
   "display_name": "Python 3 (ipykernel)",
   "language": "python",
   "name": "python3"
  },
  "language_info": {
   "codemirror_mode": {
    "name": "ipython",
    "version": 3
   },
   "file_extension": ".py",
   "mimetype": "text/x-python",
   "name": "python",
   "nbconvert_exporter": "python",
   "pygments_lexer": "ipython3",
   "version": "3.9.2"
  }
 },
 "nbformat": 4,
 "nbformat_minor": 5
}
