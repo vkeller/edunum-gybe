{
 "cells": [
  {
   "cell_type": "markdown",
   "id": "077b8b74-97cf-4aa5-975e-c2f765add39f",
   "metadata": {},
   "source": [
    "# TP2-PROG-01.T"
   ]
  },
  {
   "cell_type": "markdown",
   "id": "e56f5633-d980-453f-810f-1587832e1e03",
   "metadata": {},
   "source": [
    "## Exercice 1\n",
    "\n"
   ]
  },
  {
   "cell_type": "code",
   "execution_count": null,
   "id": "cecda354-084e-4d6d-9efc-1d10da093e00",
   "metadata": {},
   "outputs": [],
   "source": []
  }
 ],
 "metadata": {
  "kernelspec": {
   "display_name": "Python 3 (ipykernel)",
   "language": "python",
   "name": "python3"
  },
  "language_info": {
   "codemirror_mode": {
    "name": "ipython",
    "version": 3
   },
   "file_extension": ".py",
   "mimetype": "text/x-python",
   "name": "python",
   "nbconvert_exporter": "python",
   "pygments_lexer": "ipython3",
   "version": "3.9.2"
  }
 },
 "nbformat": 4,
 "nbformat_minor": 5
}
