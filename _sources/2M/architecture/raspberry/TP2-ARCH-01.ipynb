{
 "cells": [
  {
   "cell_type": "markdown",
   "id": "9c9872cd-f12d-4830-9ef5-b67fb7f60891",
   "metadata": {},
   "source": [
    "![raspbian](images/raspbian.png \"Raspbian logo\")\n",
    "\n",
    "# TP2-ARCH-01 : Le nano-ordinateur RPi"
   ]
  },
  {
   "cell_type": "markdown",
   "id": "e0df7d78-363a-41c2-8227-b8d3d2665d37",
   "metadata": {},
   "source": [
    "## Objectifs pédagogiques\n",
    "\n",
    "- Prise en main d'un Raspberry Pi 4\n",
    "- Explorer le système d'exploitation Linux\n",
    "- Connaître le système de fichier UNIX\n",
    "- Acquérir les bases d'un language de scripting avec BASH\n",
    "- Connaître les différents outils de développement à disposition"
   ]
  },
  {
   "cell_type": "markdown",
   "id": "543ce6bc-0cab-4f51-9d5d-3678e68efe99",
   "metadata": {},
   "source": [
    "## Qu'est-ce qu'un Raspberry Pi (RPi)\n",
    "\n",
    "Le Raspberry Pi est un projet développé à l'origine par l'Université de Cambridge en Angleterre. L'objectif principal du projet était de démocratiser l'accès aux ordinateurs. Les contraintes liées étaient donc : \n",
    "\n",
    "1. Utilisation de matériel à bas coût (notamment le processeur)\n",
    "1. Design extrêmement compact : taille d'une carte de crédit\n",
    "1. Système d'exploitation et logiciels provenant du monde des logiciels libres\n",
    "\n",
    "Le résultat est le suivant (ici la version 4 que nous allons utiliser dans ce TP)\n",
    "\n",
    "![rpi4](images/raspberrypi4.png \"RPi4\")\n",
    "\n",
    "Son prix à l'unité est de quelques dizaines de francs suisses auxquels il faut ajouter un écran (HDMI), un clavier et une souris."
   ]
  },
  {
   "cell_type": "markdown",
   "id": "e0785551-b195-4c56-b8d1-8f9ccef975c9",
   "metadata": {},
   "source": [
    "## Composants MATÉRIELS du Raspberry Pi\n",
    "\n",
    "L'architecture du RPi suit celle de tous les ordinateurs classiques actuels : les laptops, les ordinateurs de bureau, les smartphones, etc.. Cette architecture est nommée **Architecture de Von Neumann**. \n",
    "\n",
    "![von Neumann](images/vonneumannarch.png \"Schema de l'architecture de Von Neumann\")\n",
    "\n",
    "Elle décompose l'ordinateur en 4 parties distinctes :\n",
    "\n",
    "1. Unité Arithmétique et Logique (*Arithmetic and Logical Unit* ALU en anglais). Effectue les opérations du programme\n",
    "1. Unité de contrôle. Se charge du séquençage des opérations\n",
    "1. Mémoire. Elle contient à la fois les opérations du programme et les données\n",
    "1. Des entrées et sorties."
   ]
  },
  {
   "cell_type": "markdown",
   "id": "470b35d8-07b8-42ca-9f6a-e41bfcf08ecc",
   "metadata": {},
   "source": [
    "### Processeur\n",
    "\n",
    "Le processeur, appelé aussi Unité Centrale de Calcul, est le composant électronique qui traite l'ensemble des instructions en utilisant les données localisées (1) dans ses mémoires cache ou (2) dans la mémoire centrale (RAM).\n",
    "\n",
    "Sur un Raspberry Pi, c'est l'architecture ARM qui a été choisie.\n",
    "\n",
    "Le processeur est composé de :\n",
    "\n",
    "1. Une **horloge**. Elle est responsable de la **synchronisation** des flux de calculs et de données\n",
    "1. Des **Unité Arithmétique et Logique**. Ces ALU permettent de traiter les instructions du programme\n",
    "1. Des **registres**. Ce sont des mémoires de très petite taille servant à stocker les variables du programme.\n",
    "1. De trois **BUS**. Un bus permet de transmettre des données :\n",
    "    1. Le bus de données. Permet de transmettre les donnée de et vers le processeur\n",
    "    1. Le bus d'adresses. Permet de connaître la position d'une donnée (dans les registres ou la mémoire)\n",
    "    1. Le bus de contrôle. Permet de gérer les différentes interruptions qui pourraient arriver lors de l'exécution d'un programme\n",
    "\n",
    "Le processeur du RPi 4 est un [ARM Cortex-A72](https://www.arm.com/products/silicon-ip-cpu/cortex-a/cortex-a72). Il a les caractéristiques suivantes :\n",
    "\n",
    "1. L'horloge tourne à `1.5 GHz`\n",
    "1. `4` coeurs (qui contiennent chacun des ALU)\n",
    "1. La largeurde ses registres est de `64 bits`"
   ]
  },
  {
   "cell_type": "markdown",
   "id": "a07753c7-e841-4741-9860-a2239634e451",
   "metadata": {},
   "source": [
    "### Mémoire(s)\n",
    "\n",
    "Le Raspberry Pi possède deux types de mémoire :\n",
    "\n",
    "1. La **mémoire vive** (ou mémoire volatile). On y stocke les programmes et les données lorsque l'ordinateur est allumé. Une fois éteint, toutes les données qui y sont contenues sont perdues.\n",
    "1. La **mémoire de stockage** (ou mémoire de masse ou encore mémoire non-volatile). On y stocke les programme et les données qui seront conservées à l'extinction de l'ordinateur.\n",
    "\n",
    "Il est d'usage de représenter les différents types de mémoires dans un schéma hiérarchique qui met en évidence la **capacité** (ou taille), la **vitesse** et le **coût** :\n",
    "\n",
    "![memoire](images/memory.png \"Memory pyramid\")\n",
    "\n",
    "Les mémoires du RPi 4 ont les caractéristiques suivantes :\n",
    "\n",
    "1. `4 GB` de mémoire vive\n",
    "1. Une `carte micro-SD` de `16 GB`"
   ]
  },
  {
   "cell_type": "markdown",
   "id": "5d779dd7-fd78-48bb-8b56-860571d0061c",
   "metadata": {},
   "source": [
    "### Ports matériels\n",
    "\n",
    "Les **ports** (externes) d'un ordinateur sont les différentes \"prises\" sur lesquels on peut brancher des **périphériques** tels qu'un clavier, une souris, un écran ou un câble réseau.\n",
    "\n",
    "Sur le RPi, les ports sont les suivants :\n",
    "\n",
    "1. `2` ports`USB 2.0`\n",
    "1. `2` ports`USB 3.0` (plus rapides)\n",
    "1. `1` port `GigaEthernet` pour la connexion à un réseau filaire\n",
    "1. `2` ports`micro-HDMI` pour connecter des écrans\n",
    "\n",
    "A noter que le port `USB-C` ne sert qu'à l'alimentation du RPi, on ne peut l'utiliser comme entrée-sortie"
   ]
  },
  {
   "cell_type": "markdown",
   "id": "69fce64b-dd62-4205-b5c1-072093b98ec6",
   "metadata": {},
   "source": [
    "## Composants LOGICIELS du Raspberry Pi\n",
    "\n",
    "Pour que l'ensemble des composants matériels fonctionnent ensembles et correctement, un ordinateur a besoin d'un logiciel très important : **le système d'exploitation** (*Operating System* ou OS en anglais). Sans lui, aucun programme ne pourrait s'exécuter.\n",
    "\n",
    "![os](images/os.png \"Operating system\")\n",
    "\n",
    "Il existe beaucoup de systèmes d'exploitation. Chacun possède ses propres spécificités et est prévu pour différents matériels ou usage. Parmi les principaux on peut citer :\n",
    "\n",
    "- ![apple](images/apple.png \"Apple logo\") [MacOS](https://fr.wikipedia.org/wiki/MacOS) qui est installé sur les ordinateurs de la marque Apple\n",
    "- ![windows](images/windows.png \"Windows logo\") [Microsoft Windows](https://fr.wikipedia.org/wiki/Microsoft_Windows) principalement installé sur les ordinateurs de bureau dans l'industrie\n",
    "- ![android](images/android.png \"Android logo\") [Android](https://fr.wikipedia.org/wiki/Android) qui gère la plupart des smartphone du monde. Android est une variante de Linux\n",
    "- ![linux](images/linux.png \"Linux logo\") [Linux](https://fr.wikipedia.org/wiki/Linux) qui est un projet \n",
    "\n",
    "Voir [Statcounter](https://gs.statcounter.com/os-market-share) pour une distribution mondiale des principaux systèmes d'exploitation.\n",
    "\n",
    "Le système d'exploitation du RPi est **Linux**. "
   ]
  },
  {
   "cell_type": "code",
   "execution_count": null,
   "id": "45f5397d-cf6c-465a-a3df-0372c03a3315",
   "metadata": {},
   "outputs": [],
   "source": []
  }
 ],
 "metadata": {
  "kernelspec": {
   "display_name": "Python 3 (ipykernel)",
   "language": "python",
   "name": "python3"
  },
  "language_info": {
   "codemirror_mode": {
    "name": "ipython",
    "version": 3
   },
   "file_extension": ".py",
   "mimetype": "text/x-python",
   "name": "python",
   "nbconvert_exporter": "python",
   "pygments_lexer": "ipython3",
   "version": "3.9.2"
  }
 },
 "nbformat": 4,
 "nbformat_minor": 5
}
