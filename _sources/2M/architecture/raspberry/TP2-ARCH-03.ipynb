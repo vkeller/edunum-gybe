{
 "cells": [
  {
   "cell_type": "markdown",
   "id": "d9cf19eb-a26a-467f-9c40-f737abf24100",
   "metadata": {},
   "source": [
    "![network](images/network.jpg \"Mise en réseau\")\n",
    "\n",
    "# TP2-ARCH-03 : Mise en réseau"
   ]
  },
  {
   "cell_type": "markdown",
   "id": "53c935a6-1ee6-4aea-85bc-9600ecb51255",
   "metadata": {},
   "source": [
    "## Objectifs pédagogiques\n",
    "\n",
    "- Connaître les éléments matériels d'un réseau local (LAN)\n",
    "- Configurer un réseau IPv4 sur des RPi"
   ]
  },
  {
   "cell_type": "code",
   "execution_count": null,
   "id": "39f2afa0-ab70-43f6-8c79-d40966df10b0",
   "metadata": {},
   "outputs": [],
   "source": []
  }
 ],
 "metadata": {
  "kernelspec": {
   "display_name": "Python 3 (ipykernel)",
   "language": "python",
   "name": "python3"
  },
  "language_info": {
   "codemirror_mode": {
    "name": "ipython",
    "version": 3
   },
   "file_extension": ".py",
   "mimetype": "text/x-python",
   "name": "python",
   "nbconvert_exporter": "python",
   "pygments_lexer": "ipython3",
   "version": "3.9.2"
  }
 },
 "nbformat": 4,
 "nbformat_minor": 5
}
