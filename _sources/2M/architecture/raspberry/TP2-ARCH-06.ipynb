{
 "cells": [
  {
   "cell_type": "markdown",
   "id": "0f13a3ec-8336-4d5d-a5e2-1dffa7d4c214",
   "metadata": {},
   "source": [
    "![hackerspace](images/hackerspace.jpg \"Berlin hackerspace\")\n",
    "\n",
    "# TP2-ARCH-06 : RPi pour aller plus loin"
   ]
  },
  {
   "cell_type": "markdown",
   "id": "6ff7beda-f254-41e5-b5bb-bbb12638fee5",
   "metadata": {},
   "source": [
    "## Objectifs pédagogiques\n",
    "\n",
    "- développer un projet avec un Raspberry Pi installé et connecté à un réseau"
   ]
  },
  {
   "cell_type": "markdown",
   "id": "53927a61-4873-4df8-8b31-cc080ad444c1",
   "metadata": {},
   "source": [
    "## Station de jeux *old school*\n",
    "\n",
    "Transformez le RPi en console de jeux old school (y compris jeux en réseau)\n",
    "\n",
    "[Source](https://retropie.org.uk)"
   ]
  },
  {
   "cell_type": "markdown",
   "id": "c6c39cf9-67b5-4dea-b5c4-84f9c43f11ea",
   "metadata": {},
   "source": [
    "## Récupération et affichage des signaux ADS-B de l'aviation commerciale\n",
    "\n",
    "A l'aide du matériel adéquat (antenne et récepteur), affichez les signaux ADS-B des transpondeurs des avions aux environs du gymnase (rayon de plus de 600 Km) et affichez-les à l'écran en temps réel.\n",
    "\n",
    "[Source](https://www.raspberrypi.com/tutorials/build-your-own-raspberry-pi-flight-tracker/)"
   ]
  },
  {
   "cell_type": "markdown",
   "id": "0570d15b-3a74-4b2b-a434-6f367050882f",
   "metadata": {},
   "source": [
    "## Météo en temps réel grâce à Openweathermap\n",
    "\n",
    "[Openweathermap](https://openweathermap.org/) est une société privée qui fournit des informations météo en temps réel. Ces informations météo peuvent être accédées via une **API** (*Application Programming Interface*) qu'il est possible d'implémenter en Python ([voir ici par exemple](https://www.instructables.com/Get-Weather-Data-Using-Python-and-Openweather-API/)).\n",
    "\n",
    "Créez votre station météo à l'aide du Raspberry Pi"
   ]
  },
  {
   "cell_type": "code",
   "execution_count": null,
   "id": "2e99d756-ae30-4be1-823b-360015b6b0e9",
   "metadata": {},
   "outputs": [],
   "source": []
  }
 ],
 "metadata": {
  "kernelspec": {
   "display_name": "Python 3 (ipykernel)",
   "language": "python",
   "name": "python3"
  },
  "language_info": {
   "codemirror_mode": {
    "name": "ipython",
    "version": 3
   },
   "file_extension": ".py",
   "mimetype": "text/x-python",
   "name": "python",
   "nbconvert_exporter": "python",
   "pygments_lexer": "ipython3",
   "version": "3.9.2"
  }
 },
 "nbformat": 4,
 "nbformat_minor": 5
}
