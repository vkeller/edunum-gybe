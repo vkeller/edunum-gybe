{
 "cells": [
  {
   "cell_type": "markdown",
   "id": "80cf82a3-3435-46dd-8f64-8d5421338358",
   "metadata": {},
   "source": [
    "# TP2-LOGI-01 : Les logidules"
   ]
  },
  {
   "cell_type": "markdown",
   "id": "b1a68ed0-4eff-4a60-aaf8-4b5ef050bae4",
   "metadata": {},
   "source": [
    "## Objectifs pédagogiques\n",
    "\n",
    "- prise en main des logidules\n",
    "- connaître l'importance du Canton de Vaud dans le développement de l'informatique\n",
    "- construire des circuits logiques avec les logidules"
   ]
  },
  {
   "cell_type": "markdown",
   "id": "2ead3ab6-81cf-42d8-9623-fb5769ae69e2",
   "metadata": {},
   "source": [
    "## Bref historique\n",
    "\n",
    "L'[Ẽcole Polytechnique Fédérale de Lausanne](https://www.epfl.ch) (EPFL) a toujours été à la pointe de la recherche en informatique et en électronique en Suisse. Parmi les nombreux laboratoires de la [faculté IC](https://www.epfl.ch/schools/ic/fr/), se trouve le [laboratoire d'architecture des processeurs](https://www.epfl.ch/labs/lap/) dirigé par le Prof. Paolo Ienne. Le directeur de thèse du Prof. Paolo Ienne n'est personne d'autre que le Prof. Jean-Daniel Nicoud, directeur du **Laboratoire de Micro-Informatique** (LAMI). \n",
    "\n",
    "![jdn](images/jdn.jpg \"Jean-Daniel Nicoud\")\n",
    "\n",
    "Jean-Daniel Nicoud est né en 1938. Il est l'inventeur notamment de :\n",
    "\n",
    "1. la souris optique\n",
    "1. l'ordinateur SMAKY\n",
    "1. l'outil pédagogique LOGIDULES\n"
   ]
  },
  {
   "cell_type": "markdown",
   "id": "143e3505-d9a2-4b0f-81c1-ae64afa3e5b7",
   "metadata": {},
   "source": [
    "## Introduction aux logidules\n",
    "\n"
   ]
  },
  {
   "cell_type": "code",
   "execution_count": null,
   "id": "845030cb-6989-410f-92c2-f624d7aa5643",
   "metadata": {},
   "outputs": [],
   "source": []
  }
 ],
 "metadata": {
  "kernelspec": {
   "display_name": "Python 3 (ipykernel)",
   "language": "python",
   "name": "python3"
  },
  "language_info": {
   "codemirror_mode": {
    "name": "ipython",
    "version": 3
   },
   "file_extension": ".py",
   "mimetype": "text/x-python",
   "name": "python",
   "nbconvert_exporter": "python",
   "pygments_lexer": "ipython3",
   "version": "3.9.2"
  }
 },
 "nbformat": 4,
 "nbformat_minor": 5
}
