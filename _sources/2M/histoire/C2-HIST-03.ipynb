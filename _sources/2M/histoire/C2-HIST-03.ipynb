{
 "cells": [
  {
   "cell_type": "markdown",
   "id": "5cdff331-3769-40af-8472-4a7cb78effda",
   "metadata": {},
   "source": [
    "![applications](images/application.png \"Applications\")\n",
    "\n",
    "# C2-HIST-03 : Histoire de l'informatique : le logiciel"
   ]
  },
  {
   "cell_type": "markdown",
   "id": "0432fe20-73f3-438f-929a-c0122ad59c90",
   "metadata": {},
   "source": [
    "## Objectifs pédagogiques\n",
    "\n",
    "- comprendre les rôles des différents logiciels qui s'exécutent sur un ordinateur\n",
    "- connaître les principaux systèmes d'exploitation\n",
    "- connaître les principaux langages de programmation\n",
    "- mettre en perspective les modèles de licences des logiciels"
   ]
  },
  {
   "cell_type": "markdown",
   "id": "c0899cdf-cd54-4cf1-bcb8-9eeca6e7e8a0",
   "metadata": {},
   "source": [
    "## Pile technologique\n",
    "\n",
    "La **pile technologique** est l'ensemble des technologies logicielles utilisées par une seule application. \n",
    "\n",
    "![stack](images/OS_stack.png \"Pile basique\")"
   ]
  },
  {
   "cell_type": "markdown",
   "id": "4327dc2a-a71d-470d-a14c-3be450468ff2",
   "metadata": {},
   "source": [
    "## Système d'exploitation\n",
    "\n",
    "La pile technologique se construit toujours sur la couche **matérielle**. Le premier logiciel qui démarre sur un ordinateur est le **système d'exploitation**, il gère l'entier du matériel et reçoit les interactions des utilisateurs et du réseau. \n",
    "\n",
    "### Définition\n",
    "\n",
    "Un système d'exploitation, ou logiciel système, ou Operating System (OS), est un logiciel qui, dans un appareil électronique, pilote les dispositifs matériels et reçoit des instructions de l'utilisateur ou d'autres logiciels (ou applications). Ces logiciels doivent être adaptés à un système d'exploitation. ([source Futura sciences](https://www.futura-sciences.com/tech/definitions/informatique-systeme-exploitation-11820/))\n",
    "\n",
    "### 1940-1950\n",
    "\n",
    "Les [premiers ordinateurs](C2-HIST-02) ne possédaient pas de système d'exploitation. Ils étaient programmés directement sur l'électronique dont ils étaient composés en langage machine (en gros, des 0 et des 1).\n",
    "\n",
    "Les utilisateurs devaient posséder une grande connaissance technique.\n",
    "\n",
    "![consoleEniac](images/ENIAC_console.jpg \"Console de programmation de l'ENIAC\")\n",
    "\n",
    "Console de programmation de l'ENIAC ([source de l'image](https://www.thoughtframeworks.com/insights/blogs/the-eniac-storytime/))\n",
    "\n",
    "### années 1950 : batch \n",
    "\n",
    "Avec l'arrivée d'ordinateurs de plus en plus rapide est venu le besoin de gérer automatiquement les lots de programmes qui s'exécutent sur l'ordinateur. C'est ce que l'on appelle \n",
    "\n",
    "1. **gestion par batch**. \n",
    "\n",
    "A ce titre, le tout premier système d'exploitation est **GM-NAA I/O**. Un système d'exploitation développé par [General Motors](https://fr.wikipedia.org/wiki/General_Motors) pour l'IBM 704 en 1956.\n",
    "\n",
    "### années 1960 : multi-applications et multi-utilisateurs\n",
    "\n",
    "Un ordinateur avec un seul utilisateur en même temps n'utilise pas forcément l'entier du matériel de façon optimale. Raison pour laquelle les années 1960 voient arriver des systèmes d'exploitation permettant de partager :\n",
    "\n",
    "1. la machine : **multi-utilisateurs**, plusieurs utilisaturs différents sur une même machine\n",
    "1. le processeur : **multi-applications**, plusieurs applications qui peuvent s'exécuter sur le même ordinateur en partageant la mémoire et le temps de calcul. \n",
    "\n",
    "A ce titre, l'exemple le plus connu est **Multics** (pour *MULTIplexed Information and Computing Service*) en 1964. \n",
    "\n",
    "![multics](images/multics.png \"login MULTICS\")\n",
    "\n",
    "### années 1970 : UNIX\n",
    "\n",
    "Le système d'exploitation manque encore une fonctionalité importante : celle de pouvoir partager le processeur entre plusieurs applications de manière équitable. Une application tourne pendant un certain temps, puis s'arrête et une autre reprend le contrôle du processeur, puis cette seconde s'arrête et une troisième commence. Et ainsi de suite. C'est ce que l'on appelle le \n",
    "\n",
    "1. **multi-threading**\n",
    "\n",
    "Deux chercheurs de l'entreprise américaine [Bell Laboratories](https://fr.wikipedia.org/wiki/Laboratoires_Bell), **Ken Thompson** et **Dennis Ritchie** développent donc UNIX.\n",
    "\n",
    "![UNIX](images/UNIX.png \"Histoire de UNIX\")\n",
    "\n",
    "### années 1980 : ordinateurs personnels\n",
    "\n",
    "Les années 1980 voient se démocratiser l'informatique. Les ordinateurs arrivent vers le grand public. Avec eux, le besoin d'un système d'exploitation capable de s'exécuter avec différents types de constructeurs. En terme de capacités techniques, c'est un très grand retour en arrière. \n",
    "\n",
    "Les années 1980 marquent aussi l'arrivée d'une **interface graphique** au système d'exploitation ainsi que d'**applications systèmes** (comme des éditeurs.\n",
    "\n",
    "On notera deux grandes familles :\n",
    "\n",
    "1. **MS-DOS** et **Windows** (Microsoft) en 1985. Cette famille de systèmes ne possède pas l'entier des capacités de UNIX, et s'exécute sur les processeurs INTEL bon marché.\n",
    "1. **MacIntosh** (aujourd'hui Apple MacOS) en 1984. Cette famille de système s'exécute sur des processeurs Motorola bon marché.\n",
    "\n",
    "![IBM PC](images/IBM-286.jpg (IBM PC 80'))\n",
    "\n",
    "![macintosh](images/macintosh.jpg \"Macintosh 1984\")\n",
    "\n",
    "### années 1990 : Linux et le WWW\n",
    "\n",
    "Démocratisation de l'accès au réseau. C'est aussi le début de la démocratisation du **mouvement open-sources** (ou sources ouvertes); un modèle où le code source de l'application, du logiciel ou du **système d'exploitation** est ouvert et peut être **lu**, **modifié**, **compris** par tout le monde. \n",
    "\n",
    "1. Naissance du système d'exploitation en sources ouvertes **Linux**. Originellement développé par **Linus Torvalds**.\n",
    "\n",
    "![linus](images/linus.jpg \"Linus in 1992\")\n",
    "\n",
    "### années 2000 : mobilité (smartphones)\n",
    "\n",
    "Le 9 janvier 2007, l'entreprise américaine Apple présente son premier smartphone : [l'Iphone 1](https://fr.wikipedia.org/wiki/IPhone_2G). C'est un smartphone qui regroupe tous les éléments d'un ordinateur personnel (processeur, mémoire, écran, écran tactile, etc..). Il requiert donc un système d'exploitation, cela sera [iPhone OS 1](https://fr.wikipedia.org/wiki/IPhone_OS_1).\n",
    "\n",
    "Parallèlement, l'entreprise américaine Google achète en 2005 l'entreprise Android qui développait un système d'exploitation générique prévu pour les tablettes et certains objets connectés et basé sur **Linux**. La première version sort en septembre 2008. \n",
    "\n",
    "1. **iOS** pour les objets connectés et mobiles de la marque Apple\n",
    "1. **Android** pour tous les autres objets connectés et mobiles.\n",
    "\n",
    "### Utilisation aujourd'hui\n",
    "\n",
    "Aujourd'hui, les principaux systèmes d'exploitation sont les suivants :\n",
    "\n",
    "1. Android (Linux)\n",
    "1. Microsoft Windows\n",
    "1. iOS (Apple)\n",
    "1. OS X (Apple)\n",
    "1. Linux\n",
    "\n",
    "![OS2024](images/OS2024.png \"statistiques 2024\")\n",
    "\n",
    "Le [site statcounter.com](https://gs.statcounter.com/os-market-share) donne une statistique mondiale mise à jour"
   ]
  },
  {
   "cell_type": "markdown",
   "id": "51220e26-58a7-4911-a466-e3b1fe4f56ed",
   "metadata": {},
   "source": [
    "## Couches applicatives\n",
    "\n"
   ]
  },
  {
   "cell_type": "markdown",
   "id": "35514161-027c-4567-b4ce-f426228f8a12",
   "metadata": {},
   "source": [
    "### Exemple d'une pile technologique : un serveur Web sous Linux\n",
    "\n",
    "![linux web app](images/Linux_app_stack_wikipedia.png \"app stack\")"
   ]
  },
  {
   "cell_type": "markdown",
   "id": "2d351f3a-50b5-4381-a450-9151665cfda6",
   "metadata": {},
   "source": [
    "## Langages de programmation\n",
    "\n",
    "Du **système d'exploitation** aux **logiciels** en passant par les diverses **bibliothèques de fonctions** (**modules** sous Python) sont écrits à l'aide d'un langage de programmation. \n",
    "\n",
    "Quelques dates et langages :\n",
    "\n",
    "- Avant 1950 : aucun langage (à l'exception de [short code](https://en.wikipedia.org/wiki/Short_Code_(computer_language)), un langage plus évolué que le langage machine en 1949)\n",
    "- 1954 : **FORTRAN** inventé par **John Backus**. Ce langage (*FORmula TRANslator*) est encore largement utilisé aujourd'hui dans les applications scientifiques\n",
    "- 1970 : **C** inventé par **Ken Thompson** et **Dennis Ritchie** pour programmer **UNIX**\n",
    "- 1975 : **SmallTalk** est le premier langage **orienté objet**\n",
    "- 1978 : **SQL** qui n'est pas un langage de programmation à proprement parler mais fondamental pour accéder aux bases de données relationnelles\n",
    "- 1983 : **C++** : un langage proche de C dans sa syntaxe mais totalement orienté objets. \n",
    "- 1991 : **Python**\n",
    "- 1995 : **Java**\n",
    "- 1995 : **PHP** qui est le principal langage de programmation pour les sites internet\n",
    "\n"
   ]
  },
  {
   "cell_type": "markdown",
   "id": "56f3e59d-20e3-441c-b10e-2b0c2d4289ef",
   "metadata": {},
   "source": [
    "## Logiciels"
   ]
  },
  {
   "cell_type": "code",
   "execution_count": null,
   "id": "ea2eeff3-71eb-4f37-b38f-4513cd0a6c39",
   "metadata": {},
   "outputs": [],
   "source": []
  }
 ],
 "metadata": {
  "kernelspec": {
   "display_name": "Python 3 (ipykernel)",
   "language": "python",
   "name": "python3"
  },
  "language_info": {
   "codemirror_mode": {
    "name": "ipython",
    "version": 3
   },
   "file_extension": ".py",
   "mimetype": "text/x-python",
   "name": "python",
   "nbconvert_exporter": "python",
   "pygments_lexer": "ipython3",
   "version": "3.9.2"
  }
 },
 "nbformat": 4,
 "nbformat_minor": 5
}
