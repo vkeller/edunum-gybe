{
 "cells": [
  {
   "cell_type": "markdown",
   "id": "c05253d8-68a6-4c8c-9026-8ce10268f5bf",
   "metadata": {},
   "source": [
    "\n",
    "\n",
    "# C2-ALGO-05 : Introduction à la théorie des graphes"
   ]
  },
  {
   "cell_type": "markdown",
   "id": "485a58fe-6b91-45c5-af66-fccaecb61759",
   "metadata": {},
   "source": [
    "## Objectifs pédagogiques"
   ]
  },
  {
   "cell_type": "markdown",
   "id": "00494ff2-bdbc-4a2e-8489-3ca57d157643",
   "metadata": {},
   "source": [
    "## Exemple introductif\n",
    "\n",
    "Il est d'usage d'introduire la théorie des graphes en présentant le célèbre problème dit **des sept ponts de Königsberg**. \n",
    "\n",
    "![konigsberg](images/konigsberg.jpg \"les 7 ponts de Königsberg\")\n",
    "\n",
    "Le problème est le suivant : La ville de Königsberg (aujourd'hui [Kaliningrad](https://fr.wikipedia.org/wiki/K%C3%B6nigsberg)), du temps de [Leonhard Euler](https://fr.wikipedia.org/wiki/Leonhard_Euler) le célèbre mathématicien et physicien suisse qui l'a résolu, est construite dans l'estuaire du fleuve Pregolia sur 5 îles reliées par des ponts. Ces ponts étaient au nombre de 7 du temps d'Euler. Le problème consiste à partir d'un point de départ au choix, de passer **une et une seule fois** sur chacun des sept ponts et à revenir au point de départ.\n",
    "\n",
    "Solution : il n'existe pas de solution à ce problème. La démonstration (faite par Euler) dépasse largement le cadre de ce cours d'informatique"
   ]
  },
  {
   "cell_type": "markdown",
   "id": "d38dce0b-425e-44b3-baa5-965223e395a8",
   "metadata": {},
   "source": [
    "## Définition : graphe\n",
    "\n",
    "Un **graphe** est une structure composée de deux objets :\n",
    "\n",
    "1. Une liste de **sommets**. Un sommet peut avoir un **nom**\n",
    "1. Une liste d'**arêtes** qui relient les sommets. L'arête peut possèder un **poids** qui représente n'importe quelle grandeur (une longueur, un coût, etc..)\n",
    "\n",
    "La représentation courante est graphique avec des cercles pour les sommets et des lignes pour les arêtes. \n",
    "\n",
    "![graphe](images/graphe1.png \"Un graphe\")\n",
    "\n",
    "### Orientation\n",
    "\n",
    "Un graphe est dit **orienté** lorsque les arêtes sont des flèches avec une direction. \n",
    "\n",
    "![graphe2](images/graphe2.png \"Graphe orienté\")"
   ]
  },
  {
   "cell_type": "markdown",
   "id": "422d4d90-b9be-4fef-9fb8-c3174c7a9ae0",
   "metadata": {},
   "source": [
    "## Définition : matrice d'adjacence\n",
    "\n",
    "Lorsque le graphe est trop complexe pour être représenté graphiquement, on utilise un tableau. En mathématique, on parle de **matrice**. \n",
    "\n",
    "Une **matrice d'adjacence** pour un graphe à `n` sommets est un tableau de dimension `n x n` dont chaque élément qui ne se trouve pas sur la diagonale contient le poids de l'arête qui relie les deux sommets à l'intersection de la colonne et de la ligne. Si les arêtes ne possèdent pas de poids, alors on indiquera `1` si une arête existe, `0` sinon. \n",
    "\n",
    "### Exemple\n",
    "\n",
    "![graphe3](images/graphe3.png \"Graphique\")\n",
    "\n",
    "La matrice d'adjacence se présente alors ainsi :\n",
    "\n",
    "|   | **A**  | **B**  | **C**  | **D**  | **E**  |  **F** | **G**  | **H**  |\n",
    "|---|---|---|---|---|---|---|---|---|\n",
    "| **A**  |   | 3  | 0  | 10  | 0  | 0  | 0  | 0  |\n",
    "| **B**  | 3  |   | 8  | 0  | 0  | 0  | 12  | 0  |\n",
    "| **C**  | 0  | 8  |   | 4  | 2  | 3  | 0   | 0  |\n",
    "| **D**  | 10 | 0  | 4  |   | 5  | 0  | 0 | 0  |\n",
    "| **E**  | 0  | 0  | 2  | 5  |   | 4  | 0  | 0  |\n",
    "| **F**  | 0  | 0  | 3  | 0  | 4  |   | 1  | 7  |\n",
    "| **G**  | 0  | 12 | 0  | 0  | 0  | 1  |   | 5  |\n",
    "| **H**  | 0  | 0  | 0  | 0  | 0  | 7  | 5  |   |\n",
    "\n",
    "Mathématiquement on la présente ainsi :\n",
    "\n",
    "$$\\begin{pmatrix} & 3 & 0 & 10 & 0 & 0 & 0 & 0 \\\\ 3 &  & 8 & 0 & 0 & 0 & 12 & 0 \\\\ 0 & 8 &  & 4 & 2 & 3 & 0 & 0 \\\\ 10 & 0 & 4 &  & 5 & 0 & 0 & 0 \\\\ 0 & 0 & 2 & 5 &  & 4 & 0 & 0 \\\\ 0 & 0 & 3 & 0 & 4 &  & 1 & 7 \\\\ 0 & 12 & 0 & 0 & 0 & 1 &  & 5 \\\\ 0 & 0 & 0 & 0 & 0 & 7 & 5 & &  \\end{pmatrix}$$"
   ]
  },
  {
   "cell_type": "markdown",
   "id": "daf1a9ea-610e-4732-9af7-77f34f095374",
   "metadata": {},
   "source": [
    "## Utilisation des graphes\n",
    "\n",
    "Les graphes sont utilisés dans divers domaines :\n",
    "\n",
    "1. Les réseaux informatiques\n",
    "1. Les réseaux sociaux\n",
    "1. La cartographie\n",
    "1. Les réseaux de neurones (et donc l'IA)\n"
   ]
  },
  {
   "cell_type": "markdown",
   "id": "4375238e-e644-4277-b8da-1e6490e2bad8",
   "metadata": {},
   "source": [
    "## Quelques exemples\n",
    "\n",
    "### Les réseaux informatiques\n",
    "\n",
    "L'image ci-dessous représente le graphe des requêtes vers les sites tiers ainsi que les cookies déposés par ces derniers avec lesquels l'internaute a interagi. Il s'agit d'une extension libre du navigateur libre Firefox \n",
    "\n",
    "![lightbeam](images/lightbeam.png \"Lightbeam\")\n",
    "\n",
    "### La cartographie\n",
    "\n",
    "L'image ci-dessous représente une solution du célèbre *problème du voyageur de commerce* (Travaling Salesman Problem). L'idée est de trouver le chemin le plus court qui passe une seule fois par chacun des sommets (représentant ici les capitales des états amércains)\n",
    "\n",
    "![TSP](images/TSP.png \"Traveling Salesman Problem\")\n",
    "\n",
    "### Les réseaux de neurones\n",
    "\n",
    "L'image ci-dessous représente un réseau de neurones artificielles, l'un des composants de base vers la créations d'une intelligence artificielle.\n",
    "\n",
    "![RNN](images/RNN.png \"Réseaux de neurones\")\n"
   ]
  },
  {
   "cell_type": "code",
   "execution_count": null,
   "id": "edf1d864-5438-4310-b56b-3a384c36a6bd",
   "metadata": {},
   "outputs": [],
   "source": []
  }
 ],
 "metadata": {
  "kernelspec": {
   "display_name": "Python 3 (ipykernel)",
   "language": "python",
   "name": "python3"
  },
  "language_info": {
   "codemirror_mode": {
    "name": "ipython",
    "version": 3
   },
   "file_extension": ".py",
   "mimetype": "text/x-python",
   "name": "python",
   "nbconvert_exporter": "python",
   "pygments_lexer": "ipython3",
   "version": "3.9.2"
  }
 },
 "nbformat": 4,
 "nbformat_minor": 5
}
