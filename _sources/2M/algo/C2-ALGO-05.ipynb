{
 "cells": [
  {
   "cell_type": "markdown",
   "id": "c05253d8-68a6-4c8c-9026-8ce10268f5bf",
   "metadata": {},
   "source": [
    "\n",
    "\n",
    "# C2-ALGO-05 : Introduction à la théorie des graphes"
   ]
  },
  {
   "cell_type": "markdown",
   "id": "485a58fe-6b91-45c5-af66-fccaecb61759",
   "metadata": {},
   "source": [
    "## Objectifs pédagogiques\n",
    "\n",
    "- connaître les différentes utilisation des graphes dans l'informatique\n",
    "- connaître la définition d'un graphe\n",
    "- être capable de construire et lire une matrice d'adjacence\n",
    "- appliquer l'algorithme de Dijkstra du plus court chemin sur un graphe"
   ]
  },
  {
   "cell_type": "markdown",
   "id": "00494ff2-bdbc-4a2e-8489-3ca57d157643",
   "metadata": {},
   "source": [
    "## Exemple introductif\n",
    "\n",
    "Il est d'usage d'introduire la théorie des graphes en présentant le célèbre problème dit **des sept ponts de Königsberg**. \n",
    "\n",
    "![konigsberg](images/konigsberg.jpg \"les 7 ponts de Königsberg\")\n",
    "\n",
    "Le problème est le suivant : La ville de Königsberg (aujourd'hui [Kaliningrad](https://fr.wikipedia.org/wiki/K%C3%B6nigsberg)), du temps de [Leonhard Euler](https://fr.wikipedia.org/wiki/Leonhard_Euler) le célèbre mathématicien et physicien suisse qui l'a résolu, est construite dans l'estuaire du fleuve Pregolia sur 5 îles reliées par des ponts. Ces ponts étaient au nombre de 7 du temps d'Euler. Le problème consiste à partir d'un point de départ au choix, de passer **une et une seule fois** sur chacun des sept ponts et à revenir au point de départ.\n",
    "\n",
    "Solution : il n'existe pas de solution à ce problème. La démonstration (faite par Euler) dépasse largement le cadre de ce cours d'informatique"
   ]
  },
  {
   "cell_type": "markdown",
   "id": "daf1a9ea-610e-4732-9af7-77f34f095374",
   "metadata": {},
   "source": [
    "## Utilisation des graphes\n",
    "\n",
    "Les graphes sont utilisés dans divers domaines :\n",
    "\n",
    "1. Les réseaux informatiques\n",
    "1. Les réseaux sociaux\n",
    "1. La cartographie\n",
    "1. Les réseaux de neurones (et donc l'IA)\n"
   ]
  },
  {
   "cell_type": "markdown",
   "id": "4375238e-e644-4277-b8da-1e6490e2bad8",
   "metadata": {},
   "source": [
    "## Quelques exemples\n",
    "\n",
    "### Les réseaux informatiques\n",
    "\n",
    "L'image ci-dessous représente le graphe des requêtes vers les sites tiers ainsi que les cookies déposés par ces derniers avec lesquels l'internaute a interagi. Il s'agit d'une extension libre du navigateur libre Firefox \n",
    "\n",
    "![lightbeam](images/lightbeam.png \"Lightbeam\")\n",
    "\n",
    "### La cartographie\n",
    "\n",
    "L'image ci-dessous représente une solution du célèbre *problème du voyageur de commerce* (Travaling Salesman Problem). L'idée est de trouver le chemin le plus court qui passe une seule fois par chacun des sommets (représentant ici les capitales des états amércains)\n",
    "\n",
    "![TSP](images/TSP.png \"Traveling Salesman Problem\")\n",
    "\n",
    "### Les réseaux de neurones\n",
    "\n",
    "L'image ci-dessous représente un réseau de neurones artificielles, l'un des composants de base vers la créations d'une intelligence artificielle.\n",
    "\n",
    "![RNN](images/RNN.png \"Réseaux de neurones\")\n"
   ]
  },
  {
   "cell_type": "markdown",
   "id": "d38dce0b-425e-44b3-baa5-965223e395a8",
   "metadata": {},
   "source": [
    "## Définition : graphe\n",
    "\n",
    "Un **graphe** est une structure composée de deux objets :\n",
    "\n",
    "1. Une liste de **sommets**. Un sommet peut avoir un **nom**\n",
    "1. Une liste d'**arêtes** qui relient les sommets. L'arête peut possèder un **poids** qui représente n'importe quelle grandeur (une longueur, un coût, etc..)\n",
    "\n",
    "La représentation courante est graphique avec des cercles pour les sommets et des lignes pour les arêtes. \n",
    "\n",
    "![graphe](images/graphe1.png \"Un graphe\")\n",
    "\n",
    "### Orientation\n",
    "\n",
    "Un graphe est dit **orienté** lorsque les arêtes sont des flèches avec une direction. \n",
    "\n",
    "![graphe2](images/graphe2.png \"Graphe orienté\")"
   ]
  },
  {
   "cell_type": "markdown",
   "id": "422d4d90-b9be-4fef-9fb8-c3174c7a9ae0",
   "metadata": {},
   "source": [
    "## Définition : matrice d'adjacence\n",
    "\n",
    "Lorsque le graphe est trop complexe pour être représenté graphiquement, on utilise un tableau. En mathématique, on parle de **matrice**. \n",
    "\n",
    "Une **matrice d'adjacence** pour un graphe à `n` sommets est un tableau de dimension `n x n` dont chaque élément qui ne se trouve pas sur la diagonale contient le poids de l'arête qui relie les deux sommets à l'intersection de la colonne et de la ligne. Si les arêtes ne possèdent pas de poids, alors on indiquera `1` si une arête existe, `0` sinon. \n",
    "\n",
    "### Exemple\n",
    "\n",
    "![graphe3](images/graphe3.png \"Graphique\")\n",
    "\n",
    "La matrice d'adjacence se présente alors ainsi :\n",
    "\n",
    "|   | **A**  | **B**  | **C**  | **D**  | **E**  |  **F** | **G**  | **H**  |\n",
    "|---|---|---|---|---|---|---|---|---|\n",
    "| **A**  |   | 3  | 0  | 10  | 0  | 0  | 0  | 0  |\n",
    "| **B**  | 3  |   | 8  | 0  | 0  | 0  | 12  | 0  |\n",
    "| **C**  | 0  | 8  |   | 4  | 2  | 3  | 0   | 0  |\n",
    "| **D**  | 10 | 0  | 4  |   | 5  | 0  | 0 | 0  |\n",
    "| **E**  | 0  | 0  | 2  | 5  |   | 4  | 0  | 0  |\n",
    "| **F**  | 0  | 0  | 3  | 0  | 4  |   | 1  | 7  |\n",
    "| **G**  | 0  | 12 | 0  | 0  | 0  | 1  |   | 5  |\n",
    "| **H**  | 0  | 0  | 0  | 0  | 0  | 7  | 5  |   |\n",
    "\n",
    "Mathématiquement on la présente ainsi :\n",
    "\n",
    "$$\\begin{pmatrix} & 3 & 0 & 10 & 0 & 0 & 0 & 0 \\\\ 3 &  & 8 & 0 & 0 & 0 & 12 & 0 \\\\ 0 & 8 &  & 4 & 2 & 3 & 0 & 0 \\\\ 10 & 0 & 4 &  & 5 & 0 & 0 & 0 \\\\ 0 & 0 & 2 & 5 &  & 4 & 0 & 0 \\\\ 0 & 0 & 3 & 0 & 4 &  & 1 & 7 \\\\ 0 & 12 & 0 & 0 & 0 & 1 &  & 5 \\\\ 0 & 0 & 0 & 0 & 0 & 7 & 5 & &  \\end{pmatrix}$$"
   ]
  },
  {
   "cell_type": "markdown",
   "id": "7fae575e-0140-4ba2-922c-9fa5c3371678",
   "metadata": {},
   "source": [
    "## Exercice 1 : matrice d'adjacence\n",
    "\n",
    "Ecrivez la matrice d'adjacence du graphe suivant :\n",
    "\n",
    "![ex1](images/exercicegraphe1.png \"Exo 1\")"
   ]
  },
  {
   "cell_type": "markdown",
   "id": "92e90906-2c9b-48bd-96dd-bc8506f15e99",
   "metadata": {},
   "source": [
    "## Exercice 2 : chemin le plus court 1\n",
    "\n",
    "Quel est le chemin le plus court entre les sommets `D` et `H` ?"
   ]
  },
  {
   "cell_type": "markdown",
   "id": "e35419ef-968d-46d5-8407-8a12ccf5bd60",
   "metadata": {},
   "source": [
    "## Exercice 3 : chemin le plus cours 2 !\n",
    "\n",
    "Pour le trajet Tour Haldimand -> Tour de Sauvabelin, Google Maps propose\n",
    "\n",
    "- Bus 24 jusqu’à Ouchy (3’), M2 jusqu’à Sallaz (14’), puis à pied (16’)\n",
    "- Bus 21 jusqu’à Alpes (6’), bus 8 jusqu’à Bel Air (7’), bus 16 jusqu’à Sauvabelin (13’), puis à pied (5’)\n",
    "- Bus 21 jusqu’à Chauderon (18’), bus 16 jusqu’à Sauvabelin(16’), puis à pied (5’)\n",
    "- 1h15 à pied, ça fait du bien !\n",
    "- Quel trajet mettrait le moins de temps ?\n",
    "\n",
    "Faisons le graphe !\n",
    "\n",
    "![ex3](images/exercicegraphe3.png \"Exo \")"
   ]
  },
  {
   "cell_type": "markdown",
   "id": "9290ef92-d31f-45b9-89d5-680f5d12ecbf",
   "metadata": {},
   "source": [
    "## Algorithme de Dijkstra\n",
    "\n",
    "L'algorithme de Dijkstra consiste à partir d'un point (par exemple A) à trouver le chemin le plus court jusqu'à **couvrir** l'ensemble du graphe. \n",
    "\n",
    "On ne prend pas deux fois un chemin car on construit un **arbre couvrant**.\n",
    "\n",
    "![graphe4](images/exercicegraphe4.png \"Another graphe\")\n",
    "\n",
    "Dans cet exemple, il y a deux chemins qui partent de `A` et finissent à `G` de longueur 17 : `A-B-E-F-G` et `A-B-E-G`"
   ]
  },
  {
   "cell_type": "markdown",
   "id": "c6c3978d-e6b7-48c2-8751-534bd46ef5ee",
   "metadata": {},
   "source": [
    "## Exercice 4 : Dijkstra\n",
    "\n",
    "Construire l'arbre recouvrant dans le graphe suivant :\n",
    "\n",
    "![graphe5](images/exercicegraphe5.png \"Exo 5\")"
   ]
  },
  {
   "cell_type": "markdown",
   "id": "14fc6216-003e-4a09-bed2-01ede7ab97a8",
   "metadata": {},
   "source": [
    "## Exercice 5 : Villes suisses\n",
    "\n",
    "Sur ce graphe, on indique les distances entre quelques villes importantes en Suisse.\n",
    "\n",
    "Quel est le chemin le plus court entre Genève et Coire ?\n",
    "\n",
    "![exo5](images/exercicegraphe6.png \"Exo5\")"
   ]
  },
  {
   "cell_type": "markdown",
   "id": "5a1fabf4-75f3-4ab8-8176-0b9c3549583a",
   "metadata": {},
   "source": [
    "### Solution\n",
    "\n",
    "Voici la matrice d'adjacence entre les villes\n",
    "\n",
    "|   | **Lausanne**  | **Genève**  | **Neuchâtel**  | **Fribourg**  | **Berne**  |  **Zürich** | **Lugano**  | **Sion**  | **Bâle**  | **Schaffhouse**  | **St-Gall**  | **Coire**  |\n",
    "|---|---|---|---|---|---|---|---|---|---|---|---|---|\n",
    "| **Lausanne**  |  0 | 67  | 73  | 76  | 111  | 231  | 331  | 96  | 206  | 281  | 311  | 350  |\n",
    "| **Genève**  | 67  |  0 | 121  | 143  | 172  | 292  | 398  | 163  | 263  | 342  | 372  | 411  |\n",
    "| **Neuchâtel**  | 73  | 121  |  0 | 43  | 51  | 171  | 330   | 169  | 142  | 221  | 251  | 290  |\n",
    "| **Fribourg**  | 76 | 143  | 43  |  0 | 35  | 155  | 314 | 128  | 130  | 205  | 235  | 274  |\n",
    "| **Berne**  | 111  | 172  | 51  | 35  | 0  | 120  | 279  | 141  | 95  | 170  | 200  | 239  |\n",
    "| **Zürich**  | 231  | 292  | 171  | 155  | 120  | 0  | 207  | 261  | 87  | 50  | 80  | 119  |\n",
    "| **Lugano**  | 331  | 398 | 330  | 314  | 279  | 207  | 0  | 235  | 294  | 257  | 270  | 176  |\n",
    "| **Sion**  | 96  | 163  | 169  | 128  | 141  | 261  | 235  | 0  | 246  | 311  | 341  | 380  |\n",
    "| **Bâle**  | 206  | 263  | 142  | 130  | 95  | 87  | 294  | 236  | 0  | 99  | 167  | 206  |\n",
    "| **Schaffhouse**  | 281  | 342  | 221  | 205 | 170  | 50  | 257  | 311  | 99  | 0  | 84  | 169  |\n",
    "| **St-Gall**  | 311  | 372  | 251  | 235  | 200  | 80  | 270  | 341  | 167  | 84  | 0  | 94  |\n",
    "| **Coire**  | 350  | 411  | 290  | 274  | 239  | 119  | 176  |  380 | 206  | 169  | 94  | 0  |"
   ]
  },
  {
   "cell_type": "markdown",
   "id": "972fe68a-1b38-4846-b630-6a44c7b117f8",
   "metadata": {},
   "source": [
    "## Solution des exercices"
   ]
  },
  {
   "cell_type": "markdown",
   "id": "950882af-48bf-4dac-8d53-c33e1492d620",
   "metadata": {},
   "source": [
    "### Exercice 1\n",
    "\n",
    "La matrice d'ajacence est la suivante :\n",
    "\n",
    "|   | **A**  | **B**  | **C**  | **D**  | **E**  |  **F** | **G**  | **H**  |\n",
    "|---|---|---|---|---|---|---|---|---|\n",
    "| **A**  |   | 3  | 0  | 10  | 0  | 0  | 0  | 0  |\n",
    "| **B**  | 3  |   | 12  | 0  | 8  | 0  | 0  | 0  |\n",
    "| **C**  | 0  | 12  |   | 4  | 2  | 6  | 0   | 0  |\n",
    "| **D**  | 10 | 0  | 4  |   | 12  | 0  | 0 | 0  |\n",
    "| **E**  | 0  | 8  | 2  | 12  |   | 4  | 0  | 0  |\n",
    "| **F**  | 0  | 0  | 6  | 0  | 4  |   | 7  | 15  |\n",
    "| **G**  | 0  | 0 | 0  | 0  | 0  | 7  |   | 5  |\n",
    "| **H**  | 0  | 0  | 0  | 0  | 0  | 15  | 5  |   |"
   ]
  },
  {
   "cell_type": "markdown",
   "id": "c715f635-0b1d-4eef-b0bd-165615a95788",
   "metadata": {},
   "source": [
    "### Exerice 2 \n",
    "\n",
    "Voici une solution :\n",
    "\n",
    "![ex2sol](images/exercicegraphe2.png \"Solution exo2\")"
   ]
  },
  {
   "cell_type": "code",
   "execution_count": null,
   "id": "0b45a589-bf46-44b4-8f6f-7174bb78e606",
   "metadata": {},
   "outputs": [],
   "source": []
  }
 ],
 "metadata": {
  "kernelspec": {
   "display_name": "Python 3 (ipykernel)",
   "language": "python",
   "name": "python3"
  },
  "language_info": {
   "codemirror_mode": {
    "name": "ipython",
    "version": 3
   },
   "file_extension": ".py",
   "mimetype": "text/x-python",
   "name": "python",
   "nbconvert_exporter": "python",
   "pygments_lexer": "ipython3",
   "version": "3.9.2"
  }
 },
 "nbformat": 4,
 "nbformat_minor": 5
}
