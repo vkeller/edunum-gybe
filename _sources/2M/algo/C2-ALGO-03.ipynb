{
 "cells": [
  {
   "cell_type": "markdown",
   "id": "3948d4f8-2d4e-4621-ae6a-58d266918882",
   "metadata": {},
   "source": [
    "![exercer](images/exercer.jpg \"Exercer la complexité\")\n",
    "\n",
    "# C2-ALGO-03 : Complexité des algorithmes"
   ]
  },
  {
   "cell_type": "markdown",
   "id": "8aad67bb-382c-4281-85dd-3ed4cedc2186",
   "metadata": {},
   "source": [
    "## Objectifs pédagogiques\n",
    "\n",
    "- déduire la complexité temporelle de quelques algorithmes classiques"
   ]
  },
  {
   "cell_type": "markdown",
   "id": "9606c6de-91e0-4133-9fa6-e035a568363d",
   "metadata": {},
   "source": [
    "## Méthode\n",
    "\n",
    "- On calcule toujours la complexité **dans le pire des cas**\n",
    "- la complexité d'un algorithme est **indépendante** d'une implémentation quelconque et d'une machine quelconque\n",
    "- On utilise la notation de Landau *Big O* ( $f(n) = \\mathcal O (g(n))$. On s'intéresse au comportement asymptotique de la complexité. Soit le **terme dominant**\n",
    "    - Exemple : si le temps varie comme $f(n) = n^2 + 6n -3 = 0$ alors le comportement asymptotique de l'algorithme est $\\mathcal O (n^3)$\n",
    "- Chaque **opération** ou **instruction** vaut $1$ unité de temps :\n",
    "    - affectation d'une variable\n",
    "    - une entrée\n",
    "    - une sortie\n",
    "    - une comparaison (un test)\n",
    "    - etc..\n",
    "- Chaque **boucle** rajoute le nombre d'unité de temps correspondant à toutes les unités de temps consommées dans le corps de la boucle entre chaque bornes.\n",
    "- Chaque **fonction** rajoute le nombre d'unité de temps correspondant à toutes les unités de temps consommées dans la fonction\n",
    "- On fait varier la **taille** des entrées et on estime le nombre d'unités de temps."
   ]
  },
  {
   "cell_type": "markdown",
   "id": "127fd147-fafd-475a-bf07-5a413fb1712c",
   "metadata": {},
   "source": [
    "## Exercice 1 : Comportement asymptotique $\\mathcal O$\n",
    "\n",
    "Pour chaque fonction suivante, donnez la **classe de complexité** correspondante :\n",
    "\n",
    "- $f(n) = n^2 - 2n -56$\n",
    "- $f(n) = n - \\sqrt{n} +3$\n",
    "- $f(n) = n^4 - 3n^2 + log_2(n)$\n",
    "- $f(n) = n^{100} + 2^n - 4$\n",
    "- $f(n) = 3n~log_2(n) - 34$\n",
    "- $f(n) = n - 2n~log_2(n)$\n",
    "- $f(n) = 193000 - n!$"
   ]
  },
  {
   "cell_type": "markdown",
   "id": "3d47e7b1-6ab7-4294-9483-2bc6c1f90ecc",
   "metadata": {},
   "source": [
    "## Exercice 2 : Quelques algorithmes.\n",
    "\n",
    "Pour chacun des codes ou algorigrammes suivants :\n",
    "\n",
    "1. Décrivez en français ce que fait l'algorithme\n",
    "1. En suivant la méthode décrite plus haut, trouvez la complexité algorithmique"
   ]
  },
  {
   "cell_type": "markdown",
   "id": "fd324b36-9bc3-4572-9e84-c4fdef1121ee",
   "metadata": {},
   "source": [
    "### 2.2 : Crible"
   ]
  },
  {
   "cell_type": "code",
   "execution_count": 4,
   "id": "34f72c7d-49ee-467c-a09d-32e80cb99674",
   "metadata": {},
   "outputs": [
    {
     "name": "stdout",
     "output_type": "stream",
     "text": [
      "[0, 1, 2, 3, 5, 7, 11, 13, 17, 19, 23, 29, 31, 37, 41, 43, 47, 53, 59, 61, 67, 71, 73, 79, 83, 89, 97]\n"
     ]
    }
   ],
   "source": [
    "limite = 100\n",
    "tableau = []\n",
    "for i in range(limite):\n",
    "    tableau.append(True)\n",
    "entiers = []\n",
    "tableau[0] = True\n",
    "tableau[1] = True\n",
    "for i in range(2,limite,1):\n",
    "    if tableau[i] == True :\n",
    "        for j in range(i*i,limite,i):\n",
    "            tableau[j] = False\n",
    "for i in range(limite):\n",
    "    if tableau[i] == True:\n",
    "        entiers.append(i)\n",
    "print(entiers)"
   ]
  },
  {
   "cell_type": "markdown",
   "id": "f8bc8660-a62f-43f6-9b95-e1013238c93c",
   "metadata": {},
   "source": [
    "![eratocomplexe](graphs/erato.png \"Graphe de complexité pour le crible d'Eratosthène\")"
   ]
  },
  {
   "cell_type": "markdown",
   "id": "841a662d-f6f8-4e14-af97-dcec5a5b2a42",
   "metadata": {},
   "source": [
    "### Un algorithme de tri"
   ]
  },
  {
   "cell_type": "code",
   "execution_count": 3,
   "id": "f3fcf899-fdad-4a62-8170-87766b9bb79d",
   "metadata": {},
   "outputs": [
    {
     "name": "stdout",
     "output_type": "stream",
     "text": [
      "[3, 1, 3, 1, 6, 0, 0, 7, 7, 3]\n",
      "[0, 0, 1, 1, 3, 3, 3, 6, 7, 7]\n"
     ]
    }
   ],
   "source": [
    "import random\n",
    "nombres = []\n",
    "longueur = 10\n",
    "for i in range(longueur):\n",
    "    aleat = random.randint(0,longueur)\n",
    "    nombres.append(aleat)\n",
    "print(nombres)\n",
    "## Bubble sort itself\n",
    "for i in range(longueur,0,-1):\n",
    "    for j in range(0,i-1,1):\n",
    "        if nombres[j+1] < nombres[j]:\n",
    "            tmp = nombres[j+1]\n",
    "            nombres[j+1] = nombres[j]\n",
    "            nombres[j] = tmp\n",
    "print(nombres)"
   ]
  },
  {
   "cell_type": "markdown",
   "id": "fa13c9c2-3879-4cf4-8900-be61afe743cc",
   "metadata": {},
   "source": [
    "![bubblecompl](graphs/bubble.png \"Complexité temporelle bubble sort\")"
   ]
  },
  {
   "cell_type": "markdown",
   "id": "0c342add-989f-4a61-b387-8521b53db6ba",
   "metadata": {},
   "source": [
    "### Heron d'Alexandrie et ses racines"
   ]
  },
  {
   "cell_type": "markdown",
   "id": "c9737f39-ee41-48da-a217-4626cff1ef74",
   "metadata": {},
   "source": [
    "![Heron](../../1M/algo/cours/images/HeronAlexandrie.jpg \"Heron d'Alexandrie et ses racines\")"
   ]
  },
  {
   "cell_type": "code",
   "execution_count": null,
   "id": "240e3585-5f93-43bb-958e-743ec024ad64",
   "metadata": {},
   "outputs": [],
   "source": []
  }
 ],
 "metadata": {
  "kernelspec": {
   "display_name": "Python 3 (ipykernel)",
   "language": "python",
   "name": "python3"
  },
  "language_info": {
   "codemirror_mode": {
    "name": "ipython",
    "version": 3
   },
   "file_extension": ".py",
   "mimetype": "text/x-python",
   "name": "python",
   "nbconvert_exporter": "python",
   "pygments_lexer": "ipython3",
   "version": "3.9.2"
  }
 },
 "nbformat": 4,
 "nbformat_minor": 5
}
