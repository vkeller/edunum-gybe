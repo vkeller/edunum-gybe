{
 "cells": [
  {
   "cell_type": "markdown",
   "id": "3948d4f8-2d4e-4621-ae6a-58d266918882",
   "metadata": {},
   "source": [
    "![exercer](images/exercer.jpg \"Exercer la complexité\")\n",
    "\n",
    "# C2-ALGO-03 : Complexité des algorithmes (suite)"
   ]
  },
  {
   "cell_type": "markdown",
   "id": "8aad67bb-382c-4281-85dd-3ed4cedc2186",
   "metadata": {},
   "source": [
    "## Objectifs pédagogiques\n",
    "\n",
    "- déduire la complexité temporelle de quelques algorithmes classiques"
   ]
  },
  {
   "cell_type": "markdown",
   "id": "9606c6de-91e0-4133-9fa6-e035a568363d",
   "metadata": {},
   "source": [
    "## Méthode\n",
    "\n",
    "- On calcule toujours la complexité **dans le pire des cas**\n",
    "- la complexité d'un algorithme est **indépendante** d'une implémentation quelconque et d'une machine quelconque\n",
    "- On utilise la notation de Landau *Big O* ( $f(n) = \\mathcal O (g(n))$. On s'intéresse au comportement asymptotique de la complexité. Soit le **terme dominant**\n",
    "    - Exemple : si le temps varie comme $f(n) = n^3 + 6n -3 = 0$ alors le comportement asymptotique de l'algorithme est $\\mathcal O (n^3)$\n",
    "- Chaque **opération** ou **instruction** vaut $1$ unité de temps :\n",
    "    - affectation d'une variable\n",
    "    - une entrée\n",
    "    - une sortie\n",
    "    - une comparaison (un test)\n",
    "    - etc..\n",
    "- Chaque **boucle** rajoute le nombre d'unité de temps correspondant à toutes les unités de temps consommées dans le corps de la boucle entre chaque bornes.\n",
    "- Chaque **fonction** rajoute le nombre d'unité de temps correspondant à toutes les unités de temps consommées dans la fonction\n",
    "- On fait varier la **taille** des entrées et on estime le nombre d'unités de temps."
   ]
  },
  {
   "cell_type": "markdown",
   "id": "127fd147-fafd-475a-bf07-5a413fb1712c",
   "metadata": {},
   "source": [
    "## Exercice 1 : Comportement asymptotique $\\mathcal O$\n",
    "\n",
    "Pour chaque fonction suivante, donnez la **classe de complexité** correspondante :\n",
    "\n",
    "- $f(n) = 3n^2 + 2n + 56$\n",
    "- $f(n) = 4n + \\sqrt{n} + 3$\n",
    "- $f(n) = 2n^4 + 3n^2 + log_2(n)$\n",
    "- $f(n) = n^{100} + 2^n + 4$\n",
    "- $f(n) = 3n~log_2(n) + 34$\n",
    "- $f(n) = n + 2n~log_2(n)$\n",
    "- $f(n) = 193000 + n!$"
   ]
  },
  {
   "cell_type": "markdown",
   "id": "3d47e7b1-6ab7-4294-9483-2bc6c1f90ecc",
   "metadata": {},
   "source": [
    "## Exercice 2 : Quelques algorithmes.\n",
    "\n",
    "Pour chacun des codes ou algorigrammes suivants :\n",
    "\n",
    "1. Décrivez en français ce que fait l'algorithme\n",
    "1. En suivant la méthode décrite plus haut, trouvez la classe de complexité algorithmique"
   ]
  },
  {
   "cell_type": "markdown",
   "id": "fd324b36-9bc3-4572-9e84-c4fdef1121ee",
   "metadata": {},
   "source": [
    "### 2.1 : Crible"
   ]
  },
  {
   "cell_type": "code",
   "execution_count": 1,
   "id": "34f72c7d-49ee-467c-a09d-32e80cb99674",
   "metadata": {},
   "outputs": [
    {
     "name": "stdout",
     "output_type": "stream",
     "text": [
      "[0, 1, 2, 3, 5, 7, 11, 13, 17, 19, 23, 29, 31, 37, 41, 43, 47, 53, 59, 61, 67, 71, 73, 79, 83, 89, 97]\n"
     ]
    }
   ],
   "source": [
    "limite = 100\n",
    "tableau = []\n",
    "for i in range(limite):\n",
    "    tableau.append(True)\n",
    "premiers = []\n",
    "for i in range(2,limite,1):\n",
    "    if tableau[i] == True :\n",
    "        for j in range(i*i,limite,i):\n",
    "            tableau[j] = False\n",
    "for i in range(limite):\n",
    "    if tableau[i] == True:\n",
    "        premiers.append(i)\n",
    "print(premiers)"
   ]
  },
  {
   "cell_type": "markdown",
   "id": "f8bc8660-a62f-43f6-9b95-e1013238c93c",
   "metadata": {},
   "source": [
    "![eratocomplexe](graphs/erato.png \"Graphe de complexité pour le crible d'Eratosthène\")"
   ]
  },
  {
   "cell_type": "markdown",
   "id": "841a662d-f6f8-4e14-af97-dcec5a5b2a42",
   "metadata": {},
   "source": [
    "### 2.2 Un algorithme de tri"
   ]
  },
  {
   "cell_type": "code",
   "execution_count": 1,
   "id": "f3fcf899-fdad-4a62-8170-87766b9bb79d",
   "metadata": {},
   "outputs": [
    {
     "name": "stdout",
     "output_type": "stream",
     "text": [
      "[10, 5, 1, 2, 9, 2, 8, 9, 3, 3]\n",
      "[1, 2, 2, 3, 3, 5, 8, 9, 9, 10]\n"
     ]
    }
   ],
   "source": [
    "import random\n",
    "nombres = []\n",
    "longueur = 10\n",
    "for i in range(longueur):\n",
    "    aleat = random.randint(0,longueur)\n",
    "    nombres.append(aleat)\n",
    "print(nombres)\n",
    "for i in range(longueur,0,-1):\n",
    "    for j in range(0,i-1,1):\n",
    "        if nombres[j+1] < nombres[j]:\n",
    "            tmp = nombres[j+1]\n",
    "            nombres[j+1] = nombres[j]\n",
    "            nombres[j] = tmp\n",
    "print(nombres)"
   ]
  },
  {
   "cell_type": "markdown",
   "id": "fa13c9c2-3879-4cf4-8900-be61afe743cc",
   "metadata": {},
   "source": [
    "![bubblecompl](graphs/bubble.png \"Complexité temporelle bubble sort\")"
   ]
  },
  {
   "cell_type": "markdown",
   "id": "0c342add-989f-4a61-b387-8521b53db6ba",
   "metadata": {},
   "source": [
    "### 2.3 Heron d'Alexandrie et ses racines"
   ]
  },
  {
   "cell_type": "markdown",
   "id": "c9737f39-ee41-48da-a217-4626cff1ef74",
   "metadata": {},
   "source": [
    "![Heron](../../1M/algo/cours/images/HeronAlexandrie.jpg \"Heron d'Alexandrie et ses racines\")"
   ]
  },
  {
   "cell_type": "code",
   "execution_count": 5,
   "id": "240e3585-5f93-43bb-958e-743ec024ad64",
   "metadata": {},
   "outputs": [],
   "source": [
    "# Racine d'Heron d'Alexandrie monitoré\n",
    "# La racine à rechercher est fixée : 2.0\n",
    "# Vincent Keller, 2023\n",
    "import time\n",
    "a = 2.0\n",
    "limite = 1000000\n",
    "\n",
    "for i in range(1000000,limite,50000):\n",
    "    start = time.time()\n",
    "    lim = i\n",
    "    xn = a\n",
    "    for i in range(lim):\n",
    "        xnp1 = 0.5 * (xn + a/xn)\n",
    "        xn = xnp1\n",
    "    end = time.time()\n",
    "    print(i,\"\\t\",(end-start))\n"
   ]
  },
  {
   "cell_type": "markdown",
   "id": "74268ce5-2078-4c9c-a87c-eb8e2444dfc4",
   "metadata": {},
   "source": [
    "![racine](graphs/racine.png \"Complexité temporelle Racine D'Heron\")"
   ]
  },
  {
   "cell_type": "markdown",
   "id": "bba5fac3-4462-4629-9ac0-01b257525387",
   "metadata": {},
   "source": [
    "## Correction des exercices"
   ]
  },
  {
   "cell_type": "markdown",
   "id": "697e2f04-fae5-45d3-9e1d-25714ec78e8e",
   "metadata": {},
   "source": [
    "### 2.1 : le crible\n",
    "\n",
    "#### Description de l'algorithme en français\n",
    "\n",
    "Cet algorithme calcule les **nombres premiers** entre `1` et `limite` en supprimant tous les multiples d'un nombre premier trouvé. Ce nombre premier trouvé est l'index d'un tableau de booléens. Finalement, tous les nombres premiers sont placés dans une liste nommée `premiers`. Cet algorithme est appelé **crible d'Eratosthène**.\n",
    "\n",
    "#### Classe de complexité algorithmique\n",
    "\n",
    "On observe que la grandeur **qui varie** est la limite supérieure dénommée `limite`. On observe aussi que l'on a effectivement deux boucles imbriquées ce qui exmplique un comportement asymptotique quadratique $\\mathcal O (N^2)$ . La boucle interne (celle sur l'itérateur `j`) est de moins en moins significative à mesure que la boucle externe (celle sur l'itérateur `i`).\n",
    "\n",
    "Pour aller plus loin (facultatif) : [nombre de nombres premiers entre 0 et `limite`](https://fr.wikipedia.org/wiki/Th%C3%A9or%C3%A8me_des_nombres_premiers)"
   ]
  },
  {
   "cell_type": "markdown",
   "id": "40487a01-0a19-4f1d-a098-9ccbf6f563b6",
   "metadata": {},
   "source": [
    "### 2.2 : L'algorithme de tri\n",
    "\n",
    "#### Description de l'algorithme en français\n",
    "\n",
    "Cet algorithme trie les éléments d'une liste de nombres aléatoires en utilisant le **tri à bulles** : lorsqu'un nombre se retrouve être plus grand que celui qui le devance, alors on l'inverse et on passe au suivant.\n",
    "\n",
    "#### Classe de complexité algorithmique\n",
    "\n",
    "On observe que la grandeur **qui varie** est la longueur de la liste dénommée `longueur`. On observe que l'on a deux boucles imbriquées : l'une sur l'itérateur `i` et l'autre sur l'itérateur `j` qui encadrent un test conditionnel (si il faut inverser deux nombres ou pas). Dans le pire des cas (c'est-à-dire que la liste est triée \"à l'envers\"), alors la classe de complexité algorithmique est quadratique : $\\mathcal O (N^2)$"
   ]
  },
  {
   "cell_type": "markdown",
   "id": "81004fa7-93e5-4353-81ae-2b7f1bb73bd9",
   "metadata": {},
   "source": [
    "### 2.3 : Héron d'Alexandrie et ses racines\n",
    "\n",
    "#### Description de l'algorithme en français\n",
    "\n",
    "Cet algorithme calcule la racine d'un nombre `n`. Pour le faire, il demande une `limite` (borne supérieure d'une boucle) et va appliquer une formule mathématique décrite par l'algorigramme : \n",
    "\n",
    "```\n",
    "    xnp1 = 0.5 * (xn + n/xn)\n",
    "    xn = xnp1\n",
    "```\n",
    "\n",
    "\n",
    "#### Classe de complexité algorithmique\n",
    "\n",
    "On observe que la grandeur **qui varie** est la limite supérieure de la boucle `limite`. Il n'y a pas d'autre boucle imbriqueé. La classe de complexité est donc linéaire : $\\mathcal O (N)$"
   ]
  },
  {
   "cell_type": "code",
   "execution_count": null,
   "id": "bf47b0f3-9063-4122-8bb7-1c54b462162a",
   "metadata": {},
   "outputs": [],
   "source": []
  }
 ],
 "metadata": {
  "kernelspec": {
   "display_name": "Python 3 (ipykernel)",
   "language": "python",
   "name": "python3"
  },
  "language_info": {
   "codemirror_mode": {
    "name": "ipython",
    "version": 3
   },
   "file_extension": ".py",
   "mimetype": "text/x-python",
   "name": "python",
   "nbconvert_exporter": "python",
   "pygments_lexer": "ipython3",
   "version": "3.9.2"
  }
 },
 "nbformat": 4,
 "nbformat_minor": 5
}
