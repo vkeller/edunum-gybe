{
 "cells": [
  {
   "cell_type": "markdown",
   "id": "a02b2835-0afd-489f-b805-59b2c9d63687",
   "metadata": {},
   "source": [
    "# R1-ALGO-03 : Révision"
   ]
  },
  {
   "cell_type": "markdown",
   "id": "4dac267e-c50b-4f97-9f25-35d98c52580a",
   "metadata": {},
   "source": [
    "## Objectifs du test\n",
    "\n",
    "- Stratégie de résolution de problèmes\n",
    "- Gestion des erreurs\n",
    "- Graphes\n",
    "    - Algorithme de Dijkstra\n",
    "    - Algorithme glouton sur le voyageur de commerce"
   ]
  },
  {
   "cell_type": "markdown",
   "id": "32218c06-9493-46de-ae5d-1d4a492a3ebd",
   "metadata": {},
   "source": [
    "## Graphes\n",
    "\n",
    "![graphe](graphs/graphe.png)"
   ]
  },
  {
   "cell_type": "markdown",
   "id": "ece7ef8b-5346-4d1e-9701-e509afe45f9e",
   "metadata": {},
   "source": [
    "## Types d'erreurs\n",
    "\n",
    "- Quelles sont les trois types d'erreurs\n",
    "- Comment les détecter ?\n",
    "- Comment les corriger ?"
   ]
  },
  {
   "cell_type": "markdown",
   "id": "88715179-8c9b-4809-9261-4eac2e05bd51",
   "metadata": {},
   "source": [
    "## Stratégie de résolution\n",
    "\n",
    "- Quelles sont les étapes de résolution d'un problème \n",
    "    - Analyse algorithmique\n",
    "    - Programmation"
   ]
  },
  {
   "cell_type": "markdown",
   "id": "f4f3bc34-7462-4c11-81e6-02cce9febb8b",
   "metadata": {},
   "source": [
    "## Voyageur de commerce\n",
    "\n",
    "![corse1](images/corse1.jpg)\n",
    "\n",
    "![corse2](images/corse2.jpg)"
   ]
  },
  {
   "cell_type": "code",
   "execution_count": null,
   "id": "00c29feb-8847-4374-a36e-e356970879f1",
   "metadata": {},
   "outputs": [],
   "source": []
  }
 ],
 "metadata": {
  "kernelspec": {
   "display_name": "Python 3 (ipykernel)",
   "language": "python",
   "name": "python3"
  },
  "language_info": {
   "codemirror_mode": {
    "name": "ipython",
    "version": 3
   },
   "file_extension": ".py",
   "mimetype": "text/x-python",
   "name": "python",
   "nbconvert_exporter": "python",
   "pygments_lexer": "ipython3",
   "version": "3.9.2"
  }
 },
 "nbformat": 4,
 "nbformat_minor": 5
}
