{
 "cells": [
  {
   "cell_type": "markdown",
   "id": "1a2c6279-d49d-42fe-9c41-25a020971ecd",
   "metadata": {},
   "source": [
    "![businessman](images/businessman.jpg \"Businessman walking\")\n",
    "\n",
    "# C2-ALGO-06 : Théorie des graphes, le voyageur de commerce"
   ]
  },
  {
   "cell_type": "markdown",
   "id": "1e85c677-fd6d-4715-a23c-b98304852c7f",
   "metadata": {},
   "source": [
    "## Objectifs pédagogiques\n",
    "\n",
    "- connaître le problème du voyageur de commerce (TSP)\n",
    "- appliquer un algorithme glouton sur un graphe exemple du TSP"
   ]
  },
  {
   "cell_type": "markdown",
   "id": "f1772afd-c757-44a5-bbf0-a3d8f265a183",
   "metadata": {},
   "source": [
    "## Le problème du Voyageur de commerce\n",
    "\n",
    "Le problème du voyageur de commerce, ou *traveling salesman problem* (TSP) peut se définir ainsi pour les états-unis : \n",
    "\n",
    "![TSP](images/TSP.png \"Traveling Salesman Problem\")\n",
    "\n",
    "Le problème du voyageur de commerce se définit de la façon suivante. Etant donné un ensemble de villes, un voyageur de commerce (ou un commis voyageur) doit trouver le chemin le plus court passant par toutes les villes une seule fois. \n",
    "\n",
    "En terme de graphes, chaque ville est un sommet du graphe, chaque arête étant un chemin entre deux villes. Le graphe n'est pas forcément **totalement connecté**, c'est-à-dire que tous les sommets sont reliés à tous les sommets. "
   ]
  },
  {
   "cell_type": "markdown",
   "id": "54eea2af-8f1f-4db2-b067-a3f47f75e7a6",
   "metadata": {},
   "source": [
    "## Complexité du problème\n",
    "\n",
    "Il n'existe **aucun algorithme** qui permet de résoudre le TSP sans **calculer toutes les solutions possibles**. C'est donc un problème très difficile dont la complexité est $\\mathcal O (N!)$"
   ]
  },
  {
   "cell_type": "markdown",
   "id": "9d5def4b-d77e-4296-9880-e9cae4dcee6a",
   "metadata": {},
   "source": [
    "### Exemple sur le graphe des états-unis\n",
    "\n",
    "Sur la carte des états-unis *continentaux* (*Mainland* en anglais), c'est-à-dire les états encadrés à l'est par l'Océan Atlantique, le golfe du Mexique au sud-est, l'Océan Pacifique à l'ouest et le Canada au Nord, il y a `48` états. Les `2` restants sont les Îles Hawaï et l'Alaska. \n",
    "\n",
    "Données :\n",
    "\n",
    "- $48$ sommets complètement reliés (routes, trains, avions)\n",
    "- Nombre de chemins possibles : $48 ! = 12413915592536072670862289047373375038521486354677760000000000$, soit $1.2 * 10^{61}$\n",
    "\n",
    "Par hypothèse, imaginons qu'un ordinateur soit capable de calculer $10^9$ soit un milliard de chemins par seconde et que nous mettions tous les ordinateurs de la planète sur le calcul du voyageur de commerce sur les 48 capitales des états américains. On estime le nombre total d'ordinateurs dans le monde entre $5$ et $10$ milliards. Prenons la valeur supérieure soit $10^{10}$ (10 milliards) \n",
    "\n",
    "- $10^9$ milliards de chemins par seconde\n",
    "- $31536000$ secondes par année, donc $3.1 * 10^{17}$ chemins calculé par ordinateur chaque année\n",
    "- $10^{10}$ ordinateurs dans le monde (en 2023)\n",
    "- $3.1 * 10^{27}$ chemins calculés chaque année par tous les ordinateurs de la planète\n",
    "- Tous les chemins seront calculés après $10^{44}$ années\n",
    "- L'âge de l'Univers est estimé à $1.4 * 10^{10}$ (14 milliards d'années)"
   ]
  },
  {
   "cell_type": "markdown",
   "id": "2487256e-1e2f-4d11-88ff-9ea81a49617e",
   "metadata": {},
   "source": [
    "## Exercice 1 : Le voyageur de commerce (TSP)\n",
    "\n",
    "Depuis `Lausanne`, quel est le **meilleur itinéraire** qui passe par : `Neuchâtel`, `Bâle`, `Zürich` et `Sion` ?\n",
    "\n",
    "![exo7](images/exercicegraphe7.png \"Exo 6\")"
   ]
  },
  {
   "cell_type": "markdown",
   "id": "f3ba3afe-b61a-4b94-b742-b4e633fa7053",
   "metadata": {},
   "source": [
    "### Comment procéder ?\n",
    "\n",
    "Voici la matrice d'adjacence :\n",
    "\n",
    "|   | **Lausanne**  | **Nauchâtel**  | **Zürich**  | **Sion**  | **Bâle**  |\n",
    "|---|---|---|---|---|---|\n",
    "| **Lausanne**  | 0  | 73  | 233  | 96 | 200  |\n",
    "| **Neuchâtel**  | 73  | 0  | 171  | 169 | 142  |\n",
    "| **Zürich**  | 233  | 171  | 0  | 261 | 87  |\n",
    "| **Sion**  | 96  | 169  | 261  | 0 | 215  |\n",
    "| **Bâle**  | 200  | 142  |  87 | 215 |  0 |\n",
    "\n",
    "Si on calcule tous les itinéraires possibles :\n",
    "\n",
    "- Avec `4` candidates comme première étape, `3` comme seconde, `2` comme troisième et une dernière : $4! = 24$ possibilités\n",
    "- Mais tout est à double : donc `12`\n",
    "- Avec `12` villes : $\\frac{12 !}{2} = 239500800$ : 240 millions !\n",
    "- Complexité du TSP : $\\mathcal O (N!)$\n",
    "- Pas d'autre solution\n",
    "\n",
    "### Algorithme glouton : \"Greedy algorithms\"\n",
    "\n",
    "Un algorithme glouton est un algorothme qui choisi :\n",
    "\n",
    "1. Appliquer une solution localement valable\n",
    "1. Mesurer le résultat\n",
    "\n",
    "il permet d'approcher une solution à un problème complexe mais pas de trouver la **solution optimale**\n",
    "\n",
    "### Changer d'approche\n",
    "\n",
    "![glouton](images/exercicegraphe8.png \"Exo 8\")\n",
    "\n",
    "- Proposition : prendre le prochain plus court chemin vers une ville non visitée\n",
    "- Lausanne-Neuchâtel-Bâle-Zurich-Sion-Lausanne = 659km\n",
    "- C’est bien ?\n",
    "- Accessoirement ce chemin emprunte les 4 chemins les plus courts possibles entre 2 villes...\n",
    "\n",
    "![tab](images/graphetab.png \"Liste exhaustive\")\n",
    "\n",
    "**Gagnant improbable**\n",
    "\n",
    "1. Lausanne-Sion\n",
    "1. Sion-Bâle\n",
    "1. Bâle-Zurich\n",
    "1. Zurich-Neuchâtel\n",
    "1. Neuchâtel-Lausanne\n",
    "\n",
    "**Est-ce une bonne solution ?**\n",
    "\n",
    "- 2e meilleur\n",
    "- 17km de plus que le meilleur\n",
    "- 346 de moins que le pire !\n",
    "- En fait, oui c’est pas mal, mais c’était pas évident de le savoir"
   ]
  },
  {
   "cell_type": "markdown",
   "id": "b40288a8-677e-49df-ad62-e71398144b2a",
   "metadata": {},
   "source": [
    "## Exercice 2 : Simulateur TSP online\n",
    "\n",
    "Vous pouvez simuler le TSP sur le [site suivant](https://algorithms.discrete.ma.tum.de/graph-games/tsp-game/index_en.html)"
   ]
  }
 ],
 "metadata": {
  "kernelspec": {
   "display_name": "Python 3 (ipykernel)",
   "language": "python",
   "name": "python3"
  },
  "language_info": {
   "codemirror_mode": {
    "name": "ipython",
    "version": 3
   },
   "file_extension": ".py",
   "mimetype": "text/x-python",
   "name": "python",
   "nbconvert_exporter": "python",
   "pygments_lexer": "ipython3",
   "version": "3.9.2"
  }
 },
 "nbformat": 4,
 "nbformat_minor": 5
}
