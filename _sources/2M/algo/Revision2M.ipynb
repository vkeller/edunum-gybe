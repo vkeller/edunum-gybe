{
 "cells": [
  {
   "cell_type": "markdown",
   "id": "ab5996b1-e83c-4897-9219-d7f8cce20019",
   "metadata": {},
   "source": [
    "![revision algos - progr](images/revision.jpg \"Révision R2\")\n",
    "\n",
    "# R2-ALGO-01 : Révision Algo-Prog 1M"
   ]
  },
  {
   "cell_type": "markdown",
   "id": "2a6b7971-6102-468f-a5e8-35f96c88fc12",
   "metadata": {},
   "source": [
    "## Objectifs pédagogiques\n",
    "\n",
    "- consolider les concepts algorithmiques et leur implémentation en Python vus en 1M\n",
    "    - début et fin\n",
    "    - liaison\n",
    "    - instruction\n",
    "    - condition"
   ]
  },
  {
   "cell_type": "markdown",
   "id": "ed2fe922-1f64-4fe5-a661-215fa4b96a5b",
   "metadata": {},
   "source": []
  }
 ],
 "metadata": {
  "kernelspec": {
   "display_name": "Python 3 (ipykernel)",
   "language": "python",
   "name": "python3"
  },
  "language_info": {
   "codemirror_mode": {
    "name": "ipython",
    "version": 3
   },
   "file_extension": ".py",
   "mimetype": "text/x-python",
   "name": "python",
   "nbconvert_exporter": "python",
   "pygments_lexer": "ipython3",
   "version": "3.9.2"
  }
 },
 "nbformat": 4,
 "nbformat_minor": 5
}
