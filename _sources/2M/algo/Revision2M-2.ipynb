{
 "cells": [
  {
   "cell_type": "markdown",
   "id": "6ca33841-2ae1-4984-8369-54ff3ae829d5",
   "metadata": {},
   "source": [
    "![jass](images/jass.jpg \"jeu de jass\")\n",
    "\n",
    "# R2-ALGO-02 : Révision algorithmes "
   ]
  },
  {
   "cell_type": "markdown",
   "id": "a8807969-3df8-433d-911b-e5d847a8f55d",
   "metadata": {},
   "source": [
    "## Objectifs pédagogiques\n",
    "\n",
    "- "
   ]
  },
  {
   "cell_type": "markdown",
   "id": "6b5c428b-c57a-4598-b9a5-9a2f895f6a91",
   "metadata": {},
   "source": [
    "## Le jeu de Jass\n",
    "\n"
   ]
  }
 ],
 "metadata": {
  "kernelspec": {
   "display_name": "Python 3 (ipykernel)",
   "language": "python",
   "name": "python3"
  },
  "language_info": {
   "codemirror_mode": {
    "name": "ipython",
    "version": 3
   },
   "file_extension": ".py",
   "mimetype": "text/x-python",
   "name": "python",
   "nbconvert_exporter": "python",
   "pygments_lexer": "ipython3",
   "version": "3.9.2"
  }
 },
 "nbformat": 4,
 "nbformat_minor": 5
}
