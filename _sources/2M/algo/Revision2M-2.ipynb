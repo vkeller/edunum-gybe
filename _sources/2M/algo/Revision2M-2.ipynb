{
 "cells": [
  {
   "cell_type": "markdown",
   "id": "6ca33841-2ae1-4984-8369-54ff3ae829d5",
   "metadata": {},
   "source": [
    "![jass](images/jass.jpg \"jeu de jass\")\n",
    "\n",
    "# R2-ALGO-02 : Révision algorithmes (Tri)"
   ]
  },
  {
   "cell_type": "markdown",
   "id": "a8807969-3df8-433d-911b-e5d847a8f55d",
   "metadata": {},
   "source": [
    "## Objectifs pédagogiques\n",
    "\n",
    "- mettre en action les différents algorithmes de tri avec des cartes\n",
    "- formaliser certains algorithmes de tri en algorigrammes"
   ]
  },
  {
   "cell_type": "markdown",
   "id": "6b5c428b-c57a-4598-b9a5-9a2f895f6a91",
   "metadata": {},
   "source": [
    "## Le jeu de Jass\n",
    "\n",
    "Un jeu de cartes de jass se compose de :\n",
    "\n",
    "- 36 cartes:\n",
    "    - 9 hauteurs\n",
    "    - 4 couleurs : pique, coeur, carreau, trèfle\n",
    "- les hauteurs sont dans l'ordre :\n",
    "    1. le 6\n",
    "    1. le 7\n",
    "    1. le 8\n",
    "    1. le 9\n",
    "    1. le 10\n",
    "    1. le valet\n",
    "    1. la dame\n",
    "    1. le roi\n",
    "    1. l'as"
   ]
  },
  {
   "cell_type": "markdown",
   "id": "45a3be26-cdff-4c64-bd76-d69549da7317",
   "metadata": {},
   "source": [
    "## Exercice 1\n",
    "\n",
    "- Vous recevez un paquet de cartes\n",
    "- observez toutes les cartes"
   ]
  },
  {
   "cell_type": "markdown",
   "id": "849ef1f8-76fd-4eb7-8ee6-c1ab4b6da32a",
   "metadata": {},
   "source": [
    "## Exercice 2 (recherche d'une carte)\n",
    "\n",
    "- mélangez vos 9 cartes\n",
    "- placez-les sur la table devant vous **face cachée**\n",
    "- trouvez une méthode (un **algorithme**) pour recherchez la **plus haute** carte.\n",
    "- **ATTENTION : vous ne pouvez avoir plus de DEUX cartes retournées SIMULTANÉMENT**\n",
    "- dessinez l'algorigramme de votre méthode"
   ]
  },
  {
   "cell_type": "markdown",
   "id": "1d70c15f-4f87-483a-a1de-c96955b33349",
   "metadata": {},
   "source": [
    "## Exercice 3 (trier les cartes)\n",
    "\n",
    "- mélangez vos 9 cartes\n",
    "- placez-les sur la table devant vous **face cachée**\n",
    "- trouvez une méthode (un algorithme) pour trier les cartes de la **plus petite** à la **plus grande**\n",
    "- **ATTENTION : vous ne pouvez avoir plus de DEUX cartes retournées SIMULTANÉMENT**\n",
    "\n",
    "La méthode doit être régulière, c'est-à-dire que les *coups* (les intructions) possibles sont :\n",
    "   - échanger deux cartes\n",
    "   - déplacer une carte\n",
    "   - comparer deux cartes"
   ]
  },
  {
   "cell_type": "markdown",
   "id": "0df122ee-c9a5-4674-8370-67f00bc53034",
   "metadata": {},
   "source": [
    "## Tri à bulles\n",
    "\n",
    "L'algorithme parcourt le tableau et compare les éléments consécutifs. Lorsque deux éléments consécutifs ne sont pas dans l'ordre, ils sont permutés.\n",
    "\n",
    "Après un premier parcours complet du tableau, le plus grand élément est forcément en fin de tableau, à sa position définitive. En effet, aussitôt que le plus grand élément est rencontré durant le parcours, il est mal trié par rapport à tous les éléments suivants, donc permuté avec le suivant jusqu'à arriver à la fin du parcours.\n",
    "\n",
    "Après le premier parcours, le plus grand élément étant à sa position définitive, il n'a plus à être traité. Le reste du tableau est en revanche encore en désordre. Il faut donc le parcourir à nouveau, en s'arrêtant à l'avant-dernier élément. Après ce deuxième parcours, les deux plus grands éléments sont à leur position définitive. \n",
    "\n",
    "Il faut donc répéter les parcours du tableau, jusqu'à ce que les deux plus petits éléments soient placés à leur position définitive.\n",
    "\n",
    "[Lien sur une vidéo youtube](www.youtube.com/watch?v=ROalU379l3U)"
   ]
  },
  {
   "cell_type": "markdown",
   "id": "f5acceec-cc8c-4bea-85ed-e910cdea7747",
   "metadata": {},
   "source": [
    "## Tri sélection\n",
    "\n",
    "Le principe du tri par sélection est le suivant : \n",
    "\n",
    "- Rechercher le plus petit élément de la liste, et l'échanger avec l'élément d'indice 0 (le premier) ; \n",
    "- Rechercher le second plus petit élément du reste de la liste, et l'échanger avec l'élément d'indice 1 (le second) ; \n",
    "- Continuer de cette façon jusqu'à ce que le tableau soit entièrement trié. \n",
    "\n",
    "À tout moment, la liste d’éléments déjà parcourus (jusqu’à l’élément que l’on considère à un moment donné) est toujours bien triée. \n",
    "\n",
    "[Lien sur une vidéo](www.youtube.com/watch?v=ROalU379l3U)"
   ]
  },
  {
   "cell_type": "markdown",
   "id": "6716e31f-be7e-4a3b-bf9a-3175f406ac19",
   "metadata": {},
   "source": [
    "## Tri insertion\n",
    "\n",
    "Le principe du tri par insertion est le suivant : \n",
    " \n",
    "On parcourt la liste d’éléments à trier du deuxième au dernier élément.\n",
    "Pour chaque nouvel élément considéré:\n",
    "\n",
    "- On l’insère à l’emplacement correct dans la liste \n",
    "- Et on décale tous les nombres plus grands d'une case vers la droite.\n",
    "\n",
    "À tout moment, la liste d’éléments déjà parcourus (jusqu’à l’élément que l’on considère à un moment donné) est toujours bien triée. \n",
    "\n",
    "[Lien sur une vidéo youtube](www.youtube.com/watch?v=ROalU379l3U)"
   ]
  },
  {
   "cell_type": "markdown",
   "id": "d898bce0-d96c-49d3-ba2f-5f5ce68dc3fe",
   "metadata": {},
   "source": [
    "## Tri fusion\n",
    "\n",
    "Ce tri est basé sur la technique algorithmique diviser pour régner. On commence par subdiviser la liste en listes de plus en plus petites. On obtient des listes de taille 1 (un seul élément dans chaque liste)\n",
    "\n",
    "- On fusionne les listes, ce qui consiste à réunir deux listes triées en une seule.\n",
    "- On continue jusqu'à ce qu'on obtienne une seule liste.\n",
    "\n",
    "L'efficacité de l'algorithme vient du fait que deux listes triées peuvent être fusionnées en temps linéaire (c’est-à-dire un temps proportionnel à la taille des deux listes)\n",
    "\n",
    "[Lien sur une vidéo youtube](www.youtube.com/watch?v=ROalU379l3U)"
   ]
  },
  {
   "cell_type": "markdown",
   "id": "13d193e9-978d-4e31-9b91-97b3cc463121",
   "metadata": {
    "tags": []
   },
   "source": [
    "## Définition : mesure\n",
    "\n",
    "une **mesure** est l'action d'évaluer une grandeur d'après son rapport avec une grandeur de même espèce, prise comme unité et comme référence.\n",
    "\n",
    "[source](https://www.larousse.fr/dictionnaires/francais/mesure/50791)"
   ]
  },
  {
   "cell_type": "markdown",
   "id": "9dc9a81a-7815-43cc-ac15-55f860b21277",
   "metadata": {},
   "source": [
    "## Exercice 4 (comparaison des méthodes)\n",
    "\n",
    "Pour pouvoir comparer les méthodes (les algorithmes), il faut une **mesure**. Dans le cas des différents algorithmes de tri, nous choisissons le **nombre de comparaisons** entre deux cartes entre l'état `0` (lorsque les cartes sont mélangées jusqu'à l'état `1` (lorsque les cartes sont totalement triées).\n",
    "\n",
    "**Par groupes** remplissez le tableau suivant :\n",
    "\n",
    "| algorithme  | Nbr de comparaisons  |\n",
    "|---|---|\n",
    "| Tri à bulles  |   |\n",
    "| Tri sélection  |   |\n",
    "| Tri insertion  |   |\n",
    "| Tri fusion  |   |\n",
    "\n",
    "- un élève compte le nombre de comparaisons\n",
    "- l'autre élève compatiblise à chaque étape et note la somme finale dans le tableau"
   ]
  },
  {
   "cell_type": "markdown",
   "id": "abe81075-7b54-40be-b1b6-37ee86d7a1a1",
   "metadata": {},
   "source": [
    "## Simulateur en ligne\n",
    "\n",
    "[Lien vers la simulation visuelle de l'efficacité des algorithmes de tri](https://www.toptal.com/developers/sorting-algorithms)"
   ]
  },
  {
   "cell_type": "code",
   "execution_count": null,
   "id": "b5fdd33a-434b-4d84-af61-ed9f3a993f84",
   "metadata": {},
   "outputs": [],
   "source": []
  }
 ],
 "metadata": {
  "kernelspec": {
   "display_name": "Python 3 (ipykernel)",
   "language": "python",
   "name": "python3"
  },
  "language_info": {
   "codemirror_mode": {
    "name": "ipython",
    "version": 3
   },
   "file_extension": ".py",
   "mimetype": "text/x-python",
   "name": "python",
   "nbconvert_exporter": "python",
   "pygments_lexer": "ipython3",
   "version": "3.9.2"
  }
 },
 "nbformat": 4,
 "nbformat_minor": 5
}
