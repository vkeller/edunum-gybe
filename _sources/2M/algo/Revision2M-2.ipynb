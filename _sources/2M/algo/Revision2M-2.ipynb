{
 "cells": [
  {
   "cell_type": "markdown",
   "id": "27801e73-f001-4607-9625-8942c0697fb2",
   "metadata": {},
   "source": [
    "![vaches](images/vaches.jpg \"Vaches\")\n",
    "\n",
    "# R2-ALGO-02 : Révision algorithmes "
   ]
  },
  {
   "cell_type": "markdown",
   "id": "faaf05ff-3341-45c3-a0f0-85cec85cb6f1",
   "metadata": {},
   "source": [
    "## Objectifs pédagogiques\n",
    "\n",
    "- appliquer les concepts algorithmiques\n",
    "    - algorigrammes\n",
    "    - analyse du problème"
   ]
  },
  {
   "cell_type": "markdown",
   "id": "a209686a-8b3c-4606-aa3b-8b861207233d",
   "metadata": {},
   "source": [
    "## Le jeu\n",
    "\n",
    "![jeuferme](images/JeuDeLaFerme.png \"Jeu de la ferme\")"
   ]
  },
  {
   "cell_type": "markdown",
   "id": "70d18492-07d9-4162-8861-79d668293d65",
   "metadata": {},
   "source": [
    "## Règles du jeu\n",
    "\n",
    "Le jeu est composé de :\n",
    "\n",
    "- un plateau de jeu\n",
    "- un dé à 6 faces (6 couleurs : blanc, bleu, jaune, rouge, orange, vert)\n",
    "- une figurine de fermier\n",
    "- une figurine d'animal par joueuse et joueur (vache, mouton, cochon, etc..)\n",
    "\n",
    "Mise en place du jeu:\n",
    "\n",
    "- tous les animaux sont placés sur la ferme (grande case en bas à gauche)\n",
    "- le fermier est placé sur la ferme\n",
    "- on choisi qui commence par hasard (en lançant le dé, chaque joueur choisi une couleur)\n",
    "\n",
    "Tour de jeu :\n",
    "\n",
    "1. Le but du jeu est de ramener son animal à la ferme en ayant fait le tour\n",
    "1. Le joueur tire le dé. Si une fleur de la même couleur se trouve sur la case suivante, il a deux possibilités :\n",
    "    1. il avance son animal sur ladite case et passe le dé au joueur suivant\n",
    "    1. il tire une seconde fois le dé, si une fleur de la même couleur se trouve sur la case située à deux case de sa position, il y avance et passe le dé au joueur suivant. Sinon, il reste à sa position\n"
   ]
  },
  {
   "cell_type": "markdown",
   "id": "47d483ae-dcc0-4457-8853-82990eba142b",
   "metadata": {},
   "source": [
    "## Exercice 1 (10 minutes)\n",
    "\n",
    "Par groupes de 6 :\n",
    "\n",
    "1. Observez le plateau de jeu, notamment le nombre de fleurs sur chacune des cases\n",
    "1. Pouvez-vous imaginer une stratégie gagnante (même si le hasard joue un grand rôle avec le dé)\n",
    "1. **jouez au jeu de la ferme** en appliquant votre stratégie"
   ]
  },
  {
   "cell_type": "markdown",
   "id": "9618ca9b-91f6-4ef9-a246-3e1268bf9667",
   "metadata": {},
   "source": [
    "## Exercice 2\n",
    "\n",
    "Dessinez l'algorigramme correspondant à votre stratégie gagnante. "
   ]
  },
  {
   "cell_type": "markdown",
   "id": "031bb96b-288c-418c-aa09-b7d2c43ba1ab",
   "metadata": {},
   "source": [
    "## Exercice 3 (pour aller plus loin)\n",
    "\n",
    "- Quel sont les chances de gagner en fonction du nombre de fleurs sur la case suivante ? \n",
    "- Inscrivez ces probabilités dans un tableau"
   ]
  },
  {
   "cell_type": "code",
   "execution_count": null,
   "id": "b1479001-575c-4964-9b15-b5542f146120",
   "metadata": {},
   "outputs": [],
   "source": []
  }
 ],
 "metadata": {
  "kernelspec": {
   "display_name": "Python 3 (ipykernel)",
   "language": "python",
   "name": "python3"
  },
  "language_info": {
   "codemirror_mode": {
    "name": "ipython",
    "version": 3
   },
   "file_extension": ".py",
   "mimetype": "text/x-python",
   "name": "python",
   "nbconvert_exporter": "python",
   "pygments_lexer": "ipython3",
   "version": "3.9.2"
  }
 },
 "nbformat": 4,
 "nbformat_minor": 5
}
