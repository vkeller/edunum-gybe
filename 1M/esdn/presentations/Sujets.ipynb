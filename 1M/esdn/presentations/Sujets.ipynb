{
 "cells": [
  {
   "cell_type": "markdown",
   "id": "ed4fce8f-4973-4484-bc49-3cdeb69484f1",
   "metadata": {},
   "source": [
    "# Sujets ESDN"
   ]
  },
  {
   "cell_type": "markdown",
   "id": "d0363051-fa3f-4c3f-981f-e313b2294c18",
   "metadata": {},
   "source": [
    "## Quelques remarques\n",
    "\n",
    "### Médecine\n",
    "\n",
    "Avant un médecin touchait le patient, aujourd'hui le lien entre patient et médecin se déroule au travers d'écrans (le médecin n'a plus besoin d'avoir un contact direct avec le patient)."
   ]
  },
  {
   "cell_type": "markdown",
   "id": "b8a99438-b72f-40e4-876e-5fd7590fa12f",
   "metadata": {},
   "source": [
    "## Bibliographie\n",
    "\n",
    "1. Macaulay David, La civilisation perdue: naissance d'une archéologie, Paris, 1981\n",
    "1. ABBA en hologrammes [RTS Info](https://www.rts.ch/info/culture/musiques/13125602-abba-envoie-des-avatars-numeriques-en-concert-a-londres.html)\n",
    "1. Sarah Livingston, The outcomes of gaining digital skills for young people lives and wellbeing. A systematic evidence review, 2023. New Media & Society"
   ]
  },
  {
   "cell_type": "markdown",
   "id": "55540cb4-bf8e-4806-9c69-0ae6a5e164d1",
   "metadata": {},
   "source": [
    "## Citations\n",
    "\n",
    "- *Drôle d'époque où des ordinateurs demandent à des humains de prouver qu'ils ne sont pas des robots*"
   ]
  },
  {
   "cell_type": "markdown",
   "id": "8c95afc4-5a7e-44fc-8680-93f68c4e6b2a",
   "metadata": {},
   "source": [
    "## Bien-être et utilisation\n",
    "\n",
    "1. Utilisation passive (plutôt mal-être)\n",
    "1. Utilisation active (plutôt bien-être)"
   ]
  },
  {
   "cell_type": "markdown",
   "id": "3b573c0f-59c8-4ce7-9a00-77c218ec9160",
   "metadata": {},
   "source": [
    "## Outils\n",
    "\n",
    "- https://web.speakup.info/room\n",
    "    - test Anonyme et non anonmye\n",
    "    - likes et non like = non verbal (satisfaction)\n",
    "- jeu de cartes CIAO https://associationciao.ch/produit/jeu-de-cartes/\n",
    "- Jeunes et Médias (prévention et informations aux jeunes et aux parents sur les réseaux sociaux et en ligne) https://www.jeunesetmedias.ch\n",
    "- https://e-enfance.org/informer/reseaux-sociaux/\n",
    "- https://www.zhaw.ch/en/psychology/research/media-psychology/media-use/mike/\n",
    "- https://www.kinderschutz.ch/fr/parents-et-les-responsables-legaux/photos-d-enfants-sur-le-web\n",
    "- Internet Addiction Test Young, 1998) qui était à l'origine une plaisanterie !!!"
   ]
  },
  {
   "cell_type": "markdown",
   "id": "1b467d76-b8e8-400e-950b-5e072d9e8dee",
   "metadata": {},
   "source": [
    "## Anecdote sur l'addiction\n",
    "\n",
    "- ETML et filet de volayball (installation d'un filet, les ados ont progressivement laissé tomber leur tel)\n",
    "- Gymnase de Morges et couloirs en forme d'asile psychiatrique"
   ]
  },
  {
   "cell_type": "markdown",
   "id": "bea3921e-0051-4058-b811-6b81057a051a",
   "metadata": {},
   "source": [
    "## Addiction ?\n",
    "\n",
    "- attention à la définition !!! \n",
    "- exemple : \"addiction à Internet\" ne signifie pas grand chose\n",
    "- quels sont les critères d'évaluation\n",
    "- y a-t-il vraiment un problème ?"
   ]
  },
  {
   "cell_type": "code",
   "execution_count": null,
   "id": "256a2516-41e4-49eb-acd1-6af2cc9cb35a",
   "metadata": {},
   "outputs": [],
   "source": []
  }
 ],
 "metadata": {
  "kernelspec": {
   "display_name": "Python 3 (ipykernel)",
   "language": "python",
   "name": "python3"
  },
  "language_info": {
   "codemirror_mode": {
    "name": "ipython",
    "version": 3
   },
   "file_extension": ".py",
   "mimetype": "text/x-python",
   "name": "python",
   "nbconvert_exporter": "python",
   "pygments_lexer": "ipython3",
   "version": "3.9.2"
  }
 },
 "nbformat": 4,
 "nbformat_minor": 5
}
