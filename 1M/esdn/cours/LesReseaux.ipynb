{
 "cells": [
  {
   "cell_type": "markdown",
   "id": "19a1ec52-304e-4688-9117-d4ee47dd411a",
   "metadata": {},
   "source": [
    "![Zuboff](images/zuboff.jpg \"Shoshana Zuboff\")\n",
    "\n",
    "**Shoshona Zuboff** née en 1951, est universitaire, professeure émérite à Harvard, sociologue et femme de lettres américaine. Elle est l'auteur du livre [L'âge du capitalisme de surveillance](https://www.monde-diplomatique.fr/2019/01/ZUBOFF/59443) où elle y décrit l'impact du Big Data dans le capitalisme et qui vise à prédire et modifier le comportement humain dans le but de générer des revenus pour les entreprises qui mettent en place cette surveillance\n",
    "\n",
    "# TP ESDN1 : Les réseaux informatique"
   ]
  },
  {
   "cell_type": "markdown",
   "id": "c249e4c4-d562-493f-97a5-64f5565c7afc",
   "metadata": {},
   "source": [
    "## Objectifs\n",
    "\n",
    "- acquérir le vocabulaire informatique des réseaux\n",
    "- identifier les différents éléments d'un réseau informatique et les éventuelles faiblesses\n",
    "- distinguer la localisation des données transitant sur un réseau informatique"
   ]
  },
  {
   "cell_type": "markdown",
   "id": "b72a7533-6780-4cbf-b783-b2cd21bea049",
   "metadata": {},
   "source": [
    "## Les réseaux informatiques\n",
    "\n",
    "**Derrière l'écran, il y a une infrastructure**\n",
    "\n",
    "Un réseau informatique est une **infrastructure** qui permet à un ensemble de machines de **communiquer** entre elles des données informatiques. Ces données informatiques sont formées, comme nous l'avons vu, de bits. \n",
    "\n",
    "Ces machines peuvent être :\n",
    "\n",
    "- des serveurs web (comme [gymnase de Beaulieu](https://www.gymnasedebeaulieu.ch))\n",
    "- des serveurs mail (comme [Eduvaud](https://outlook.office.com))\n",
    "- des serveurs de fichiers (comme fs10 -> enseignement)\n",
    "- des ordinateurs de bureau comme la machine que vous utilisez actuellement\n",
    "- ou votre smartphone ...\n",
    "\n",
    "Ces machines sont reliées entre elles par toute une infrastructure **active** et **passive**. Un élément actif du réseau est un équipement qui est chargé d'assurer la répartition des signaux alors qu'un élément passif ne le sont pas (comme une antenne ou un câble réseau). \n",
    "\n",
    "### Réseau domestique\n",
    "\n",
    "Voici un réseau que vous connaissez bien, celui de votre maison.\n",
    "\n",
    "![](images/lan.png \"Réseau domestique\")\n",
    "\n"
   ]
  },
  {
   "cell_type": "markdown",
   "id": "6bc3bfbb-6896-4598-b4b3-f32725d188a9",
   "metadata": {},
   "source": [
    "## Exercice 1 : les différents éléments d'un réseau domestique\n",
    "\n",
    "Sur l'image, distinguez les \n",
    "\n",
    "- éléments actifs\n",
    "- éléments passifs\n",
    "\n",
    "avec leur nom"
   ]
  },
  {
   "cell_type": "markdown",
   "id": "952d30d3-5ed5-4c1e-958a-ca8031ccf536",
   "metadata": {},
   "source": [
    "## Exercice 2 Le réseau du gymnase\n",
    "\n",
    "A l'aide de google, ChatGPT ou n'importe quel outil de recherche que vous jugerez utile, identifiez et nommez les différents éléments physiques nécessaires au fonctionnement d'un réseau informatique plus grand tel que celui du gymnase de Beaulieu. \n",
    "\n",
    "Vous devez être capable de répondre aux questions suivantes :\n",
    "\n",
    "1. Qu'est-ce qu'un réseau filaire ?\n",
    "1. Les ordinateurs de la salle B-310 fonctionnent-ils en WIFI ou d'une façon différente ?\n",
    "1. Qu'est-ce qu'un switch ? Un hub ?\n",
    "1. Comment est connectée l'imprimante de la salle ?"
   ]
  },
  {
   "cell_type": "markdown",
   "id": "af8c33bd-7a4d-437f-a8b5-245ed9c2fe31",
   "metadata": {},
   "source": [
    "## Communiquer sur un réseau informatique\n",
    "\n",
    "Pour pouvoir communiquer, il faut se mettre d'accord sur des règles. C'est ce que l'on appelle un **protocole de communication** \n",
    "\n",
    "On peut faire une analogie avec un appel téléphonique qui doit suivre un certain nombre de règles:\n",
    "\n",
    "![tel](images/telephone.jpg \"Appel téléphonique\")"
   ]
  },
  {
   "cell_type": "markdown",
   "id": "9105a6f6-d0ab-40e2-872a-ec4406311e75",
   "metadata": {},
   "source": [
    "## Protocole par commutation de paquets\n",
    "\n",
    "Une donnée (data) transmise sur un réseau informatique peut-être :\n",
    "\n",
    "- une page web\n",
    "- un email\n",
    "- un message sur un réseau social\n",
    "- un son\n",
    "- un fichier texte\n",
    "- etc..\n",
    "\n",
    "est souvent de grande taille. Statistiquement (mathématiquement), plus la donnée est grande, plus il y a des risques pour qu'un élément réseau physique soit défaillant durant la transmission et que la transmission se finisse en échec.\n",
    "\n",
    "Pour résoudre ce problème, on a recourt à la **commutation de paquets** : une grande donnée (page web, image, email, etc..) est découpée en petits **paquets**. Chaque paquet peut prendre un chemin différent entre une **source** et un **destinataire**. C'est ensuite au destinataire de **recomposer** la donnée initiale.\n",
    "\n",
    "![packets-switching](images/packet-switching.png \"Commutation de paquets\")\n",
    "\n",
    "Chaque paquet est formé de la donnée brute et de **métadonnées** (une métadonnée est une donnée qui fournit de l'information sur une autre donnée) qui permet de :\n",
    "\n",
    "- l'acheminer entre une source et un destinataire\n",
    "- sa durée de vie (c'est-à-dire s'il peut être considéré comme perdu et devrait être renvoyé)\n",
    "- le type de service\n",
    "- et d'autres informations nécessaire\n",
    "\n",
    "L'un des protocoles encore largement utilisé est **Internet Protocol v4** (ou IPv4). Les paquets IPv4 sont formées d'un **en-tête** (ou *header*) qui contient toutes les métadonnées du paquet et des données brutes (**data**) que l'en-tête décrit.\n",
    "\n",
    "![IPv4 Header](images/ipv4.png \"IPv4 header\")"
   ]
  },
  {
   "cell_type": "markdown",
   "id": "cb2073b4-7482-4dc2-94bc-ba290bc31cb1",
   "metadata": {},
   "source": [
    "## Clients et serveurs\n",
    "\n",
    "L'adresse de la source et du destinataire sont les éléments centraux qui permettent de pouvoir acheminer un paquet d'un point A à un point B.  \n",
    "\n",
    "- La source (la machine qui envoie des données) est un **serveur**\n",
    "- Le destinataire (la machine qui reçoit des données) est un **client**\n",
    "\n",
    "![Client serveur](images/cs-model.png \"Architecture client serveur\")"
   ]
  },
  {
   "cell_type": "markdown",
   "id": "b08f2640-9b7f-4328-9cb0-13385e893137",
   "metadata": {},
   "source": [
    "## Exercice 3 (logiciel)\n",
    "\n",
    "1. Qu'est-ce qu'une URL ? \n",
    "1. Qu'est-ce qu'une adresse IP ?\n",
    "1. Recherchez l'adresse IP de votre ordinateur. Quelle similitudes avec l'adresse IP de vos voisins\n",
    "1. Pourquoi parle-t-il d'IPv4 ? Mobilisez les connaissances vues au cours pour répondre.\n",
    "\n",
    "Dans un navigateur web de votre préférence, connectez-vous aux URL écrites sur le tableau.\n",
    "\n",
    "1. A quel service correspondent ces adresses ?\n",
    "1. Où se situent les serveurs physiques ?"
   ]
  },
  {
   "cell_type": "markdown",
   "id": "2c987da8-bda1-4a48-aa4c-c00094a8e748",
   "metadata": {},
   "source": [
    "## Réseau de réseaux (Internet)\n",
    "\n",
    "Le réseau du gymnase est formé de plusieurs réseaux locaux (LAN)\n",
    "\n",
    "![lan](images/lan2.png \"Réseau LAN\").\n",
    "\n",
    "Internet n'est rien d'autre que l'interconnection de réseaux locaux. Cette interconnection se fait au travers d'un élément actif du réseau appelé **passerelle**.\n",
    "\n",
    "La passerelle est un point unique qui permet de **router** les paquets, c'est-à-dire de diriger ceux qui ne sont pas à destination d'une machine du réseau local, vers le réseau global.\n",
    "\n",
    "![routage](images/routage.png \"Routage\")"
   ]
  },
  {
   "cell_type": "markdown",
   "id": "a4ac9d53-43ad-4f7c-ad3e-6443a5f1060a",
   "metadata": {},
   "source": [
    "## Points de faiblesse\n",
    "\n"
   ]
  },
  {
   "cell_type": "markdown",
   "id": "e9312b04-1470-44f2-95e0-abcced8f38e1",
   "metadata": {},
   "source": [
    "## Et le secret dans tout cela ?\n",
    "\n"
   ]
  },
  {
   "cell_type": "markdown",
   "id": "8aa48dd0-c780-4b6e-84d0-e96f08af1e6d",
   "metadata": {},
   "source": [
    "## *Eteindre internet*"
   ]
  },
  {
   "cell_type": "markdown",
   "id": "a9f83700-b6a6-4d60-911c-07f89ba01823",
   "metadata": {},
   "source": [
    "## Pour aller plus loin\n",
    "\n",
    "[Netblocks](https://netblocks.org/)"
   ]
  },
  {
   "cell_type": "code",
   "execution_count": null,
   "id": "da995bad-0d8a-4f27-940a-748805a55457",
   "metadata": {},
   "outputs": [],
   "source": []
  }
 ],
 "metadata": {
  "kernelspec": {
   "display_name": "Python 3 (ipykernel)",
   "language": "python",
   "name": "python3"
  },
  "language_info": {
   "codemirror_mode": {
    "name": "ipython",
    "version": 3
   },
   "file_extension": ".py",
   "mimetype": "text/x-python",
   "name": "python",
   "nbconvert_exporter": "python",
   "pygments_lexer": "ipython3",
   "version": "3.9.2"
  }
 },
 "nbformat": 4,
 "nbformat_minor": 5
}
