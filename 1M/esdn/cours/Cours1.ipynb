{
 "cells": [
  {
   "cell_type": "markdown",
   "id": "909a42fb-e14e-4efd-b524-9004eee68906",
   "metadata": {},
   "source": [
    "![wired](images/wired.jpg \"Cypherpunks\")\n",
    "\n",
    "# Le mouvement Cyherpunk"
   ]
  },
  {
   "cell_type": "code",
   "execution_count": null,
   "id": "e3ea8e54-4915-4882-bb10-fa6a1d08e5e5",
   "metadata": {},
   "outputs": [],
   "source": []
  }
 ],
 "metadata": {
  "kernelspec": {
   "display_name": "Python 3 (ipykernel)",
   "language": "python",
   "name": "python3"
  },
  "language_info": {
   "codemirror_mode": {
    "name": "ipython",
    "version": 3
   },
   "file_extension": ".py",
   "mimetype": "text/x-python",
   "name": "python",
   "nbconvert_exporter": "python",
   "pygments_lexer": "ipython3",
   "version": "3.9.2"
  }
 },
 "nbformat": 4,
 "nbformat_minor": 5
}
