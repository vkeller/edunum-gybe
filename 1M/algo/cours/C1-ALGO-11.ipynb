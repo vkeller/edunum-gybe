{
 "cells": [
  {
   "cell_type": "markdown",
   "id": "66204db2-2e7c-4723-85b3-88f0be4eeebc",
   "metadata": {},
   "source": [
    "![ifthenelse](images/ifthenelse.png \"tests conditionnels\")\n",
    "\n",
    "# C1-ALGO-11 : Les tests conditionnels"
   ]
  },
  {
   "cell_type": "markdown",
   "id": "6524d279-d115-4cc5-8203-de3d19378fc2",
   "metadata": {},
   "source": [
    "## Objectifs pédagogiques\n",
    "\n",
    "- connaître les définitions des tests conditionnels\n",
    "- être capable de dessiner l'algorigramme correspondant\n",
    "- connaître la syntaxe Python pour\n",
    "    - les tests simples\n",
    "    - les tests complexes (imbriqués, plusieurs conditions)\n",
    "- appliquer sur des exemples"
   ]
  },
  {
   "cell_type": "markdown",
   "id": "52d59711-773b-42a9-b3d6-506530842bb5",
   "metadata": {},
   "source": [
    "## Introduction aux tests conditionnels en algorithmique\n",
    "\n",
    "Un test conditionnel est un **choix** dans un algorithme. Il est l'une des composantes principales de la définition d'un algorithme."
   ]
  },
  {
   "cell_type": "markdown",
   "id": "bbfb6f13-eb91-4d6a-a667-55961e0dd025",
   "metadata": {},
   "source": [
    "## Définition d'un test conditionnel\n",
    "\n",
    "Une **condition** est une expression qui peut prendre l'une des deux valeurs booléennes `True` ou `False`. \n",
    "\n",
    "Un **test conditionnel** (ou **instruction conditionnelle**) est une construction algorithmique qui effectue différentes actions, calculs ou opérations en fonction du résultat booléen de la **condition**. \n",
    "\n",
    "Le symbole utilisé dans les algorigrammes est le suivant :\n",
    "\n",
    "![condition](images/test_general.png \"true false\")"
   ]
  },
  {
   "cell_type": "markdown",
   "id": "5fb20e30-7e06-49df-b1ed-19564a8df394",
   "metadata": {},
   "source": [
    "## Exemples d'applications courantes des tests conditionnels dans la vie quotidienne et en informatique\n",
    "\n",
    "- Test de parité : est-ce qu'un nombre est pair ou impair\n",
    "- Test de l'âge : a-t-on l'âge requis pour entrer au cinéma\n",
    "- Test du nombre de places disponibles : y a-t-il encore des places disponibles pour l'achat d'un billet de concert ?\n",
    "- Test du mot de passe : le mot de passe \"1234\" est-il le bon mot de passe ?"
   ]
  },
  {
   "cell_type": "markdown",
   "id": "e0f374ba-e3ee-40ce-837b-dc16822c61e2",
   "metadata": {},
   "source": [
    "## Concepts fondamentaux des tests conditionnels\n",
    "\n",
    "Un test conditionnel se construit toujours avec une condition **au minimum**.\n",
    "\n",
    "### La structure `if`\n",
    "\n",
    "La structure `if` (*si* en frnçais) est fondamentale en algorithmique. Elle permet d'aiguiller, de choisir un chemin dans un algorithme en fonction d'une condition vraie ou fausse. \n",
    "\n",
    "En programmation, la structure `if` permet d'exécuter un bloc d'instructions si la **condition** est vraie. \n",
    "\n",
    "```\n",
    "if (condition est vraie) alors\n",
    "    exécuter un bloc\n",
    "```\n",
    "\n",
    "### La structure `if ... else`\n",
    "\n",
    "Il est possible d'ajouter à la condition `if` la condition opposée `else` et d'exécuter un autre bloc d'instructions si la condition est fausse:\n",
    "\n",
    "```\n",
    "if (condition est vraie) alors\n",
    "    exécuter un bloc\n",
    "else:\n",
    "    exécuter un autre bloc\n",
    "```"
   ]
  },
  {
   "cell_type": "markdown",
   "id": "4fd53f6b-65eb-4552-81ff-86fa25471f10",
   "metadata": {},
   "source": [
    "## Structures de contrôle conditionnelles avancées\n",
    "\n",
    "### Tests multiples `if ... elif .... else`\n",
    "\n",
    "Il est possible de tester **plusieurs conditions** dans une structure de contrôle et ainsi exécuter **autant de blocs différents** qu'il y a de **conditions vraies** :\n",
    "\n",
    "```\n",
    "if condition1 est vraie :\n",
    "    exécuter un bloc\n",
    "elif condition2 est vraie :\n",
    "    exécuter un autre bloc\n",
    "else : # (toutes les conditions sont fausses)\n",
    "    exécuter encore un autre bloc\n",
    "```\n",
    "\n",
    "### Tests imbriqués\n",
    "\n",
    "Lorsqu'une condition est vérifiée, alors il est possible de tester une autre condition dans le bloc d'instructions:\n",
    "\n",
    "```\n",
    "if (condition est vraie) alors\n",
    "    if (une autre condition) alors :\n",
    "        exécuter un bloc\n",
    "    else:\n",
    "        exécuter un autre bloc\n",
    "else:\n",
    "    exécuter encore un autre bloc si la première condition est fausse\n",
    "```\n",
    "\n",
    "En **Python** : attention à **l'indentation** des instructions"
   ]
  },
  {
   "cell_type": "markdown",
   "id": "45cc52cf-1627-43b7-bb3b-5fd8f379f4cb",
   "metadata": {},
   "source": [
    "## Comparaison des valeurs dans la condition\n",
    "\n",
    "Pour qu'une condition soit **vraie** (ou `True`), alors il s'agit de **comparer deux éléments**. \n",
    "\n",
    "Deux règles de base doivent être respectées impérativement. Les deux éléments à comparer doivent absolument :\n",
    "\n",
    "1. **être déclarée avant le test** : soit comme entrée, soit comme une instruction\n",
    "1. **être du même type**\n",
    "\n",
    "Le **type** est une caractéristique d'une grandeur (généralement une variable) qui en décrit sa nature. Par exemple (non exhaustifs) :\n",
    "\n",
    "- un **entier** (par exemple `1`, `6000`, etc..)\n",
    "- une **chaîne de caractères** (par exemple `Caroline`, `année`, ...)\n",
    "\n",
    "On ne peut pas comparer une châine de caractères avec un entier tout comme on *ne compare pas des pommes avec des poires*"
   ]
  },
  {
   "cell_type": "markdown",
   "id": "74b37333-750b-4b69-9709-3c687f2958dc",
   "metadata": {},
   "source": [
    "## Les 6 opérateurs de comparaison\n",
    "\n",
    "Pour comaprer deux grandeurs ou variables, il s'agit d'appliquer le résultat d'un **opérateur de comparaison**. Si l'on veut comparer les deux grandeurs `A` et `B` à l'aide d'un opérateur de comparaison, on écrira :\n",
    "\n",
    "```\n",
    "A operateur B\n",
    "```\n",
    "dont le résultat sera `True` ou `False`.\n",
    "\n",
    "Les 6 opérateurs de comparaison sont les suivants :\n",
    "\n",
    "| Opérateur logique  | Python  | Comparaison  |\n",
    "|---|---|---|\n",
    "| $a < b$  | `a < b`  | `a`est strictement plus petit que `b`  |\n",
    "| $a \\leq b$  | `a <= b`  | `a`est plus petit ou égal à `b`  |\n",
    "| $a > b$  | `a > b`  | `a`est strictement plus grand que `b`  |\n",
    "| $a \\geq b$  | `a >= b`  | `a`est plus grand ou égal à `b`  |\n",
    "| $a = b$  | `a == b`  | `a`est identique à `b`  |\n",
    "| $a \\neq b$  | `a != b`  | `a`est différent `b`  |\n",
    "\n",
    "Il n'en existe pas d'autre !"
   ]
  },
  {
   "cell_type": "markdown",
   "id": "04c1953c-6229-404f-91f3-c7bcc3747c78",
   "metadata": {},
   "source": [
    "## Exemples\n",
    "\n",
    "Voici une série d'exemples avec l'algorigramme et le code python correspondant"
   ]
  },
  {
   "cell_type": "markdown",
   "id": "8f12a509-4c9c-4378-ab04-9395d4083a85",
   "metadata": {},
   "source": [
    "### Test de parité\n",
    "\n",
    "![parite](images/parite.png \"test de parite\")"
   ]
  },
  {
   "cell_type": "code",
   "execution_count": 5,
   "id": "4084978a-6edb-4701-94ca-ba646e8c433f",
   "metadata": {},
   "outputs": [
    {
     "name": "stdin",
     "output_type": "stream",
     "text": [
      "Entrez un nombre :  34\n"
     ]
    },
    {
     "name": "stdout",
     "output_type": "stream",
     "text": [
      "34 est pair\n"
     ]
    }
   ],
   "source": [
    "N = int(input(\"Entrez un nombre : \"))\n",
    "if N%2 == 0:\n",
    "    print(N,\"est pair\")\n",
    "else:\n",
    "    print(N,\"est impair\")"
   ]
  },
  {
   "cell_type": "markdown",
   "id": "d0562592-4515-493b-8f63-b5aee0c4e0e6",
   "metadata": {},
   "source": [
    "### Test de l'âge\n",
    "\n",
    "![age](images/age.png \"Test de l'âge\")"
   ]
  },
  {
   "cell_type": "code",
   "execution_count": 2,
   "id": "671361f1-7e2f-4de7-b813-e7437a5099ec",
   "metadata": {},
   "outputs": [
    {
     "name": "stdin",
     "output_type": "stream",
     "text": [
      "Entrez votre âge :  17\n"
     ]
    },
    {
     "name": "stdout",
     "output_type": "stream",
     "text": [
      "Vous êtes mineur.e\n"
     ]
    }
   ],
   "source": [
    "age = int(input(\"Entrez votre âge : \"))\n",
    "if age >= 18 :\n",
    "    print(\"Vous êtes majeur.e\")\n",
    "else:\n",
    "    print(\"Vous êtes mineur.e\")"
   ]
  },
  {
   "cell_type": "markdown",
   "id": "bf85977c-75c8-4de8-8e0b-5203cea01df7",
   "metadata": {},
   "source": [
    "### Test du nombre de places disponibles\n",
    "\n",
    "![places](images/places.png \"Test des places dispo\")"
   ]
  },
  {
   "cell_type": "code",
   "execution_count": 3,
   "id": "53a42fdb-9a54-4c53-8d38-6cb9bc2ea786",
   "metadata": {},
   "outputs": [
    {
     "name": "stdin",
     "output_type": "stream",
     "text": [
      "Combien désirez-vous de places pour le concert :  45\n"
     ]
    },
    {
     "name": "stdout",
     "output_type": "stream",
     "text": [
      "Le nombre de places désirées 45 n'est pas disponible\n"
     ]
    }
   ],
   "source": [
    "Ndispo = 12\n",
    "Ndesirees = int(input(\"Combien désirez-vous de places pour le concert : \"))\n",
    "if Ndispo < Ndesirees:\n",
    "    print(\"Le nombre de places désirées\",Ndesirees,\"n'est pas disponible\")\n",
    "else:\n",
    "    print(\"Le nombre de places désirées\",Ndesirees,\"est disponible\")"
   ]
  },
  {
   "cell_type": "markdown",
   "id": "d65adc3c-19b1-4bfc-9741-f750b63161db",
   "metadata": {},
   "source": [
    "### Test du mot de passe\n",
    "\n",
    "![mdp](images/mdp.png)"
   ]
  },
  {
   "cell_type": "code",
   "execution_count": 4,
   "id": "0889987f-6ba0-4ea2-9687-9b778a898adb",
   "metadata": {},
   "outputs": [
    {
     "name": "stdin",
     "output_type": "stream",
     "text": [
      "Entrez votre mot de passe :  5678\n"
     ]
    },
    {
     "name": "stdout",
     "output_type": "stream",
     "text": [
      "Mot de passe incorrect !\n"
     ]
    }
   ],
   "source": [
    "MDP = \"1234\"\n",
    "tentative = input(\"Entrez votre mot de passe : \")\n",
    "if tentative == MDP:\n",
    "    print(\"Mot de passe correct !\")\n",
    "else:\n",
    "    print(\"Mot de passe incorrect !\")"
   ]
  },
  {
   "cell_type": "markdown",
   "id": "b55a2889-a0d4-46c2-8711-7baa78ab2ba4",
   "metadata": {},
   "source": [
    "## Exercice\n",
    "\n",
    "Dessinez l'algorigramme décrivant un appareil permettant de sélectionner la satisfaction du client :\n",
    "\n",
    "- Entrée : valeur du bouton\n",
    "- sortie : degré de satisfaction\n",
    "\n",
    "![satisfaction](images/satisfaction.jpg \"satisf\")"
   ]
  },
  {
   "cell_type": "code",
   "execution_count": null,
   "id": "6bc58c86-3719-4ec5-9046-e1f9407e9b3c",
   "metadata": {},
   "outputs": [],
   "source": []
  }
 ],
 "metadata": {
  "kernelspec": {
   "display_name": "Python 3 (ipykernel)",
   "language": "python",
   "name": "python3"
  },
  "language_info": {
   "codemirror_mode": {
    "name": "ipython",
    "version": 3
   },
   "file_extension": ".py",
   "mimetype": "text/x-python",
   "name": "python",
   "nbconvert_exporter": "python",
   "pygments_lexer": "ipython3",
   "version": "3.9.2"
  }
 },
 "nbformat": 4,
 "nbformat_minor": 5
}
