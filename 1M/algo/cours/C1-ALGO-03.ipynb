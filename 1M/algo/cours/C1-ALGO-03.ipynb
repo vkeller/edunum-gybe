{
 "cells": [
  {
   "cell_type": "markdown",
   "id": "ff84ad63-ce9b-4df8-847f-a89cfc6c1412",
   "metadata": {},
   "source": [
    "![allumette](images/allumette.jpg \"Allumette\")\n",
    "\n",
    "# C1-ALGO-03 : Les jeux de Nim"
   ]
  },
  {
   "cell_type": "markdown",
   "id": "d0ce4980-736e-4396-9630-4ad9361f157c",
   "metadata": {},
   "source": [
    "## Objectifs\n",
    "\n",
    "- trouver la seule solution pour gagner à un jeu de stratégie pure, à deux joueurs et à somme nulle\n",
    "- construire l'algorigramme correspondant"
   ]
  },
  {
   "cell_type": "markdown",
   "id": "bd3cf55e-b643-4f73-8de1-5634a65bf028",
   "metadata": {},
   "source": [
    "## Jeu de Nim\n",
    "\n",
    "Le jeu de Nim est un jeu de stratégie pure qui se joue à deux joueurs. Il y a toujours un gagnant et un perdant et le match nul est impossible. \n",
    "\n",
    "### Règles du jeu de Nim\n",
    "\n",
    "- un certain nombre d'allumettes sont placées entre les deux joueurs. C'est le **tas**.\n",
    "- à chaque tour, un joueur peut retirer **1, 2 ou 3** allumettes du tas. \n",
    "\n",
    "### Fin du jeu\n",
    "\n",
    "Deux possibilités :\n",
    "\n",
    "1. Le joueur qui prend la dernière allumette perd\n",
    "1. Le joueur qui prend la dernière allumette gagne"
   ]
  },
  {
   "cell_type": "markdown",
   "id": "33624310-4a2a-43c8-b7c4-725c780d8cca",
   "metadata": {},
   "source": [
    "## Exercice 1\n",
    "\n",
    "![nim1](images/nim1.png \"Nim 1\")\n",
    "\n",
    "Dans cet exemple, 16 allumettes ont été placées entre les deux joueurs\n",
    "\n",
    "### Consignes :\n",
    "\n",
    "Trouvez et expliquez, sous forme d'algorigramme, votre stratégie gagnante (si possible) pour ces 4 variantes :\n",
    "\n",
    "1. l'autre joueur commence et le joueur qui prend la dernière allumette gagne\n",
    "1. vous commencez et le joueur qui prend la dernière allumette gagne\n",
    "1. vous commencez et le joueur qui prend la dernière alleumete perd\n",
    "1. l'autre joueur commence et le joueur qui prend la dernière allumette perd"
   ]
  },
  {
   "cell_type": "markdown",
   "id": "b37b66d9-24b0-4451-8066-8eeb90a34afa",
   "metadata": {},
   "source": [
    "## Exercice 2 : Variante\n",
    "\n",
    "Une variante au jeu de Nim existe : celle dite du \"Jeu de Marienbad\".\n",
    "\n",
    "On dispose les 16 allumettes sur 4 rangées comme le dessin ci-dessous. A chaque tour, un joueur peut prendre autant d'allumettes qu'il désire mais toutes sur la même rangée. \n",
    "\n",
    "**Celui qui prend la dernière allumette a gagné**\n",
    "\n",
    "![nim2](images/nim2.png \"Nim2\")\n",
    "\n",
    "### Consignes\n",
    "\n",
    "1. Vous commencez\n",
    "1. Trouvez la stratégie gagnante"
   ]
  },
  {
   "cell_type": "markdown",
   "id": "077c4e4d-55e6-4230-bd06-37ad2c7b3082",
   "metadata": {},
   "source": [
    "## Correction exercice 1\n",
    "\n",
    "L'algorigramme pour le jeu de Nim est le suivant :\n",
    "\n",
    "![nim3](images/JeuDeNim.png \"algo nim 1\")"
   ]
  },
  {
   "cell_type": "markdown",
   "id": "f1fe9c50-0070-45b4-9032-0b915250e602",
   "metadata": {},
   "source": [
    "La version complète est la suivante (avec la possibilité de commencer ou de laisser l'adverssaire commencer)\n",
    "\n",
    "![nim4](images/JeuDeNimComplet.png \"algo nim 4\")"
   ]
  },
  {
   "cell_type": "markdown",
   "id": "6dc222a6-c287-4a26-be89-44c240f8a0ef",
   "metadata": {},
   "source": [
    "## Correction exercice 2\n",
    "\n",
    "Dans le jeu de Marienbad, la stratégie gagnante est la suivante :\n",
    "\n",
    "1. Toujours hériter d'une situation perdante\n",
    "1. La transformer an une situation gagnante\n",
    "\n",
    "Une situation gagnante se calcule simplement. Il faut additionner les nombre d'allumettes écrit en binaire mais osus forme dècimal. \n",
    "\n",
    "| Nombre d'allumettes  | Valeur en binaire |\n",
    "| :--------------- |:---------------| \n",
    "| 1  | `000`  |\n",
    "| 1  | `001`  |\n",
    "| 2  | `010`  |\n",
    "| 3  | `011`  |\n",
    "| 4  | `100`  |\n",
    "| 5  | `101`  |\n",
    "| 6  | `110`  |\n",
    "| 7  | `111`  |\n",
    "\n",
    "Exemple, s'il reste **1** allumette sur la première rangée, **0** sur la seconde, **5** sur la troisième et **5** sur la dernière, on additionne :\n",
    "\n",
    "```\n",
    "001\n",
    "000\n",
    "101\n",
    "101\n",
    "===\n",
    "203\n",
    "```\n",
    "\n",
    "Si tous les valeurs sont pair, alors la situation est **gagnante**. Sinon elle est perdante. Une situation gagnante ne peut pas retomber sur une situation gagnante. Quel que soit le coup, la situation suivante est perdante.\n",
    "\n",
    "![marienbad](images/marienbad.png \"Nim Marienbad\")"
   ]
  },
  {
   "cell_type": "code",
   "execution_count": null,
   "id": "7c70e98e-bf99-413e-b171-395c846216bf",
   "metadata": {},
   "outputs": [],
   "source": []
  }
 ],
 "metadata": {
  "kernelspec": {
   "display_name": "Python 3 (ipykernel)",
   "language": "python",
   "name": "python3"
  },
  "language_info": {
   "codemirror_mode": {
    "name": "ipython",
    "version": 3
   },
   "file_extension": ".py",
   "mimetype": "text/x-python",
   "name": "python",
   "nbconvert_exporter": "python",
   "pygments_lexer": "ipython3",
   "version": "3.9.2"
  }
 },
 "nbformat": 4,
 "nbformat_minor": 5
}
