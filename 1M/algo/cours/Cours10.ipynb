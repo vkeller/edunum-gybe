{
 "cells": [
  {
   "cell_type": "markdown",
   "id": "83a0e289-bca4-4785-96b8-8602853f91db",
   "metadata": {},
   "source": [
    "![colossus](images/colossus.jpg \"Colossus at Bletchley Park\")\n",
    "\n",
    "# Cours 10 : Introduction à la cryptographie"
   ]
  },
  {
   "cell_type": "markdown",
   "id": "8fb22ebb-9c83-420b-b7b3-8fd2312880da",
   "metadata": {},
   "source": [
    "## Objectifs\n",
    "\n",
    "- connaître le contexte historique de la cryptographie\n",
    "- comprendre les deux types de cryptographie:\n",
    "    - symétrique\n",
    "    - assymétrique\n",
    "- appliquer les concepts sur un exercice de cryptographie symétrique"
   ]
  },
  {
   "cell_type": "markdown",
   "id": "adc69d98-86c4-4865-9398-134d1924e865",
   "metadata": {},
   "source": [
    "## La cryptographie c'est quoi ?\n",
    "\n",
    "La cryptographie est l'une des deux branches de la **cryptologie** (l'autre étant la cryptanalyse), la *science du secret*. La cryprographie s'attache aux techniques permettant de protéger des messages en les rendant illisibles à un éventuel attaquant qui ne connaîtrait pas le **secret**. \n",
    "\n",
    "Le terme **cryptographie** a pour origine deux mots du Grec ancien : *crypto* qui signifie **caché** et *graphein* qui signifie **écrire**. C'est donc la science des écritures cachées.\n",
    "\n",
    "Le but de la cryptographie est donc d'assurer la sécurité des communications transmises sur un canal **public** en présence d'adversaires. Dans le monde de la cryptographie, on utilise souvent des personnages fictifs :\n",
    "\n",
    "1. **Alice** qui souhaite envoyer un message à \n",
    "1. **Bob** pendant que \n",
    "1. **Mallaury**, le méchant, essaie de le décrypter\n",
    "\n",
    "![Alice](images/alice.jpg \"Alice, Bob et Mallaury\")\n",
    "\n",
    "On a donc trois briques de base dans la cryptographie :\n",
    "\n",
    "- un **texte clair**\n",
    "- un **texte chiffré** (ou **texte caché**)\n",
    "- un **secret** qui permet de passer de l'un à l'autre"
   ]
  },
  {
   "cell_type": "markdown",
   "id": "5ad83e47-163d-46e3-b450-de915c9d323c",
   "metadata": {},
   "source": [
    "## Quelques repères historiques\n",
    "\n",
    "Depuis l'Antiquité, les humains ont cherché à protéger leurs communications. Les raisons étaients militaires, sociales ou même économiques. "
   ]
  },
  {
   "cell_type": "markdown",
   "id": "4c79293d-30e0-4207-aa41-c32ddba06939",
   "metadata": {},
   "source": [
    "\n",
    "### Dans l'Antiquité\n",
    "\n",
    "- **~XVIème siècle avant JC** : premier document chiffré : une tablette d'argile retrouvée en Irak sur laquelle un potier avait inscrit sa recette secrète en supprimant les consonnes et en modifiant l'orthographe de certains mots\n",
    "- **~VIIème siècle avant JC** : la technique dite **Grecque**. Les Grecs utilisaient une *scytale* (ou bâton de Plutarque), soit un morceau de bois sur lequel s'enroule une bandelette de cuir ou de papier et sur lequel on écrit un texte. En le déroulant, le message devient incompréhensible\n",
    "![scytale](images/scytale.png \"Bâton de Plutarque\")\n",
    "- **~Vème siècle avant JC** : les Hébreux utilisent une cryptographie par **substitution** : elle consiste à remplacer chaque lettre du texte clair par une autre lettre de l'alphabet : A devient Z, B devient Y, etc..\n",
    "- **Ier siècle avant JC** : Le code de César. Chaque lettre du texte clair est remplacée par une lettre décalée sur l'alphabet. Cette méthode est facilement cassable par une **analyse de fréquence**, mais les Romains comptaient sur le **faible taux d'alphabétisation** de l'Empire (ou de la République) pour garder les secrets."
   ]
  },
  {
   "cell_type": "markdown",
   "id": "87a73461-96c4-491a-bbf3-259c74f5c975",
   "metadata": {},
   "source": [
    "### Du Moyen-Âge à la première guerre mondiale\n",
    "\n",
    "Durant cette longue période, le taux d'alphabétisation augmente et les techniques de chiffrement se perfectionnent. On citera \n",
    "\n",
    "- **IXème siècle** : le savant arabe Al-Kindi décrit pour la première fois la technique de **l'analyse de fréquence** comme méthode de cassage\n",
    "- **1467** : le savant Italien Leon Battista Alberti expose pour la première fois le chiffrement polyalphabétique : chaque lettre du texte clair est remplacée par une autre de l'alphabet  et changer plusieurs fois l'alphabet de substitution à l'aide d'un disque à chiffrer. Cette méthode rend caduque l'analyse de fréquence\n",
    "- **1586** : le **chiffre de Vigenère** du nom d'un diplomate français est une technique qui permet de chiffrer un texte clair à l'aide d'une clef (un secret) par substitution polyalphabétique qui peut produire la même lettre chiffrée à partir de deux lettres claires distinctes\n",
    "- **XIXème siècle** : l'arrivée du télégraphe (d'abord optique dit *de Chappe* puis à impulsions électriques) ont rendu la cryptographie au premier plan. \n",
    "- **1883** : le Hollandais Auguste Kerckhoffs publie un ouvrage resté célèbre **La cryptographie militaire** avec la règle toujours en vigueur aujourd'hui : *la sécurité d'un système ne doit pas reposer sur le secret de la méthode de chiffrement*"
   ]
  },
  {
   "cell_type": "markdown",
   "id": "92ee7288-c51f-44ad-a3ec-d0b2ee892278",
   "metadata": {},
   "source": [
    "### Première guerre mondiale\n",
    "\n",
    "La première guerre mondiale est la victoire de la **cryptanalyse** sur la cryptographie. Les techniques de chiffrement étaient en place et les méthodes mathématiques permettant de les déchiffrer ont été améliorées. Les communications sont instantanées (radio) mais le déchiffrement, effectué à la main, est extrêmement lent. \n",
    "\n",
    "- **Le Télégramme Zimmermann** : Envoyé par l'Allemagne à son ambassade au Mexique et lui demandant de se mettre en contact avec le gouvernement mexicain en vue d'une alliance contre les USA. C'est ce télégramme qui a accéléré l'entrée en guerre des Etats-Uniens.\n",
    "\n",
    "![Zimmermann](images/Zimmermann.jpg \"Le télégramme Zimmermann\")\n",
    "\n",
    "### Seconde guerre mondiale\n",
    "\n",
    "La seconde guerre mondiale voit arriver les machines de cryptographie évoluées, mécanique ou électromécaniques comme la célèbre machine **Enigma**. Elle voit surtout arriver des **machines qui permettent d'effectuer de la cryptanalyse** : ce sont les premiers **ORDINATEURS**.\n",
    "\n",
    "- **La machine Enigma** : Chaque lettre est remplacée par une autre mais la substitution change d'une lettre à l'autre. Lorsqu'on appuie sur une touche de la machine, un circuit électrique est formé en passant dans des rotors. Le système est à la fois simple et complexe. Avec un même secret (une **clef**), on peut chiffrer et déchiffrer un message. La clef de chiffrement est transmise en début de message et est valable 24 heures. Il faut donc 24 heures pour déchiffrer un message, sinon celui-ci devient caduque.\n",
    "\n",
    "![Enigma](images/enigma.jpg \"Machine Enigma militaire\")\n",
    "\n",
    "- **La bombe** : afin de tester un maximum de combinaisons possibles, les Polonais ont mis en place une machine électromécanique en 1938 : la *bomba kryptologiczna* conçue par Marian Rejewski. Six bombes ont été construites et étaient capables de tester des milliers de combinaisons par minute ainsi que sélectionner des solutions viables. Les Polonais étaient capables de déchiffrer des messages des premières machines Enigma (avec 3 rotors). Mais dès la guerre déclarée (invasion de la Pologne), l'Allemagne nazie avait modifié ses procédures de cryptographie (en envoyant plus la clef en préambule).\n",
    "\n",
    "- **La bombe de Turing** : Construite par les Britanniques dans le complexe ultra-secret de **Bletchley Park** au Nord de Londres, elle fonctionnait sur le même principe que la machine polonaise mais avec une performance bien plus élevée. C'est le nom d'Allan Turing qui est resté mais il n'était pas le seul. Le groupe secret - le **Government Code and Cypher School** - était composé de centaines d'employés : des analystes, des interpérteurs, des traducteurs, des mathématiciens. On estime que les travaux de déchiffrement d'Enigma ont raccourci la seconde guerre mondiale de 2 ans.\n",
    "\n",
    "![bombe](images/bombe.jpg \"Une bombe de Turing reconstruite en 2006\")"
   ]
  },
  {
   "cell_type": "markdown",
   "id": "e7ba4e34-3e8f-4036-ad1e-5a2a69c7d5de",
   "metadata": {},
   "source": [
    "### Période moderne\n",
    "\n",
    "- **1949** : débuts de la **cryptographie à clef publique** par le mathématicien Claude Shannon\n",
    "- **Années 1970**: les ordinateurs permettent des avancées dans le domaine avec le Standard de Chiffrement Public (DES et AES), léchange de clefs publiques, le chiffrement assymétrique.\n",
    "- **1980** arrivée des **fonctions de hachage** (comme MD5) qui associent à n'importe quel texte une suite de données de taille arbitraire et dont la propriété principale est qu'elle n'est pas réversible. Ces fonctions de hachages permettent notamment de vérifier l'intégrité d'un message (à savoir qu'il  n'a pas été modifié durant sa transmission), ou de vérifier la validité d'un mot de passe. "
   ]
  },
  {
   "cell_type": "code",
   "execution_count": null,
   "id": "228ebf9f-736f-4a61-81e1-3929819a59a2",
   "metadata": {},
   "outputs": [],
   "source": []
  }
 ],
 "metadata": {
  "kernelspec": {
   "display_name": "Python 3 (ipykernel)",
   "language": "python",
   "name": "python3"
  },
  "language_info": {
   "codemirror_mode": {
    "name": "ipython",
    "version": 3
   },
   "file_extension": ".py",
   "mimetype": "text/x-python",
   "name": "python",
   "nbconvert_exporter": "python",
   "pygments_lexer": "ipython3",
   "version": "3.9.2"
  }
 },
 "nbformat": 4,
 "nbformat_minor": 5
}
