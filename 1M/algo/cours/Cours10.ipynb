{
 "cells": [
  {
   "cell_type": "markdown",
   "id": "83a0e289-bca4-4785-96b8-8602853f91db",
   "metadata": {},
   "source": [
    "![colossus](images/colossus.jpg \"Colossus at Bletchley Park\")\n",
    "\n",
    "# Cours 10 : Introduction à la cryptologie\n",
    "\n",
    "**Cryptologie = cryptographie + cryptanalyse**"
   ]
  },
  {
   "cell_type": "markdown",
   "id": "8fb22ebb-9c83-420b-b7b3-8fd2312880da",
   "metadata": {},
   "source": [
    "## Objectifs\n",
    "\n",
    "- connaître le contexte historique et l'émergence de l'informatique\n",
    "- connaître les deux axes de la cryptologie:\n",
    "    1. la cryptographie\n",
    "    1. la cryptanalyse\n",
    "- comprendre les deux types de cryptographie:\n",
    "    - symétrique\n",
    "    - assymétrique\n",
    "- appliquer les concepts sur un exercice de cryptographie symétrique\n",
    "- déduire les enjeux sociaux de la cryptologie\n",
    "\n",
    "**Durée : 2 périodes**"
   ]
  },
  {
   "cell_type": "markdown",
   "id": "adc69d98-86c4-4865-9398-134d1924e865",
   "metadata": {},
   "source": [
    "## La cryptographie c'est quoi ?\n",
    "\n",
    "La cryptographie est l'une des deux branches de la **cryptologie** (l'autre étant la cryptanalyse), la *science du secret*. La cryprographie s'attache aux techniques permettant de protéger des messages en les rendant illisibles à un éventuel attaquant qui ne connaîtrait pas le **secret**. \n",
    "\n",
    "Le terme **cryptographie** a pour origine deux mots du Grec ancien : *crypto* qui signifie **caché** et *graphein* qui signifie **écrire**. C'est donc la science des écritures cachées.\n",
    "\n",
    "Le but de la cryptographie est donc d'assurer la sécurité des communications transmises sur un canal **public** en présence d'adversaires. \n",
    "\n",
    "![crypto](images/crypto.jpg \"Principe de la cryptographie\")\n",
    "\n",
    "Dans le monde de la cryptographie, on utilise souvent des personnages fictifs :\n",
    "\n",
    "1. **Alice** qui souhaite envoyer un message à \n",
    "1. **Bob** pendant que \n",
    "1. **Mallaury**, le méchant, essaie de le décrypter\n",
    "\n",
    "![Alice](images/alice.jpg \"Alice, Bob et Mallaury\")\n",
    "\n",
    "On a donc trois briques de base dans la cryptographie :\n",
    "\n",
    "- un **texte clair**\n",
    "- un **texte chiffré** (ou **texte caché**)\n",
    "- un **secret** qui permet de passer de l'un à l'autre"
   ]
  },
  {
   "cell_type": "markdown",
   "id": "b892c962-318c-4f8e-9949-ef9b513b40c6",
   "metadata": {},
   "source": [
    "## La cryptanalyse c'est quoi ?\n",
    "\n",
    "La **cryptanalyse** est l'ensemble des techniques, méthodes et algorithmes qui permettent de retrouver le texte clair à partir du texte chiffré sans connaissance du **secret**"
   ]
  },
  {
   "cell_type": "markdown",
   "id": "5ad83e47-163d-46e3-b450-de915c9d323c",
   "metadata": {},
   "source": [
    "## Quelques repères historiques\n",
    "\n",
    "Depuis l'Antiquité, les humains ont cherché à protéger leurs communications. Les raisons étaients militaires, sociales ou même économiques. "
   ]
  },
  {
   "cell_type": "markdown",
   "id": "4c79293d-30e0-4207-aa41-c32ddba06939",
   "metadata": {},
   "source": [
    "\n",
    "### Dans l'Antiquité\n",
    "\n",
    "- **~XVIème siècle avant JC** : premier document chiffré : une tablette d'argile retrouvée en Irak sur laquelle un potier avait inscrit sa recette secrète en supprimant les consonnes et en modifiant l'orthographe de certains mots\n",
    "- **~VIIème siècle avant JC** : la technique dite **Grecque**. Les Grecs utilisaient une *scytale* (ou bâton de Plutarque), soit un morceau de bois sur lequel s'enroule une bandelette de cuir ou de papier et sur lequel on écrit un texte. En le déroulant, le message devient incompréhensible\n",
    "![scytale](images/scytale.png \"Bâton de Plutarque\")\n",
    "- **~Vème siècle avant JC** : les Hébreux utilisent une cryptographie par **substitution** : elle consiste à remplacer chaque lettre du texte clair par une autre lettre de l'alphabet : A devient Z, B devient Y, etc..\n",
    "- **Ier siècle avant JC** : Le code de César. Chaque lettre du texte clair est remplacée par une lettre décalée sur l'alphabet. Cette méthode est facilement cassable par une **analyse de fréquence**, mais les Romains comptaient sur le **faible taux d'alphabétisation** de l'Empire (ou de la République) pour garder les secrets."
   ]
  },
  {
   "cell_type": "markdown",
   "id": "87a73461-96c4-491a-bbf3-259c74f5c975",
   "metadata": {},
   "source": [
    "### Du Moyen-Âge à la première guerre mondiale\n",
    "\n",
    "Durant cette longue période, le taux d'alphabétisation augmente et les techniques de chiffrement se perfectionnent. On citera \n",
    "\n",
    "- **IXème siècle** : le savant arabe Al-Kindi décrit pour la première fois la technique de **l'analyse de fréquence** comme méthode de cassage\n",
    "- **1467** : le savant Italien Leon Battista Alberti expose pour la première fois le chiffrement polyalphabétique : chaque lettre du texte clair est remplacée par une autre de l'alphabet  et changer plusieurs fois l'alphabet de substitution à l'aide d'un disque à chiffrer. Cette méthode rend caduque l'analyse de fréquence\n",
    "- **1586** : le **chiffre de Vigenère** du nom d'un diplomate français est une technique qui permet de chiffrer un texte clair à l'aide d'une clef (un secret) par substitution polyalphabétique qui peut produire la même lettre chiffrée à partir de deux lettres claires distinctes\n",
    "- **XIXème siècle** : l'arrivée du télégraphe (d'abord optique dit *de Chappe* puis à impulsions électriques) ont rendu la cryptographie au premier plan. \n",
    "- **1883** : le Hollandais Auguste Kerckhoffs publie un ouvrage resté célèbre **La cryptographie militaire** avec la règle toujours en vigueur aujourd'hui : *la sécurité d'un système ne doit pas reposer sur le secret de la méthode de chiffrement*"
   ]
  },
  {
   "cell_type": "markdown",
   "id": "92ee7288-c51f-44ad-a3ec-d0b2ee892278",
   "metadata": {},
   "source": [
    "### Première guerre mondiale\n",
    "\n",
    "La première guerre mondiale est la victoire de la **cryptanalyse** sur la cryptographie. Les techniques de chiffrement étaient en place et les méthodes mathématiques permettant de les déchiffrer ont été améliorées. Les communications sont instantanées (radio) mais le déchiffrement, effectué à la main, est extrêmement lent. \n",
    "\n",
    "- **Le Télégramme Zimmermann** : Envoyé par l'Allemagne à son ambassade au Mexique et lui demandant de se mettre en contact avec le gouvernement mexicain en vue d'une alliance contre les USA. C'est ce télégramme qui a accéléré l'entrée en guerre des Etats-Uniens.\n",
    "\n",
    "![Zimmermann](images/Zimmermann.jpg \"Le télégramme Zimmermann\")\n",
    "\n",
    "### Seconde guerre mondiale\n",
    "\n",
    "La seconde guerre mondiale voit arriver les machines de cryptographie évoluées, mécanique ou électromécaniques comme la célèbre machine **Enigma**. Elle voit surtout arriver des **machines qui permettent d'effectuer de la cryptanalyse** : ce sont les premiers **ORDINATEURS**.\n",
    "\n",
    "- **La machine Enigma** : Chaque lettre est remplacée par une autre mais la substitution change d'une lettre à l'autre. Lorsqu'on appuie sur une touche de la machine, un circuit électrique est formé en passant dans des rotors. Le système est à la fois simple et complexe. Avec un même secret (une **clef**), on peut chiffrer et déchiffrer un message. La clef de chiffrement est transmise en début de message et est valable 24 heures. Il faut donc 24 heures pour déchiffrer un message, sinon celui-ci devient caduque.\n",
    "\n",
    "![Enigma](images/enigma.jpg \"Machine Enigma militaire\")\n",
    "\n",
    "- **La bombe** : afin de tester un maximum de combinaisons possibles, les Polonais ont mis en place une machine électromécanique en 1938 : la *bomba kryptologiczna* conçue par Marian Rejewski. Six bombes ont été construites et étaient capables de tester des milliers de combinaisons par minute ainsi que sélectionner des solutions viables. Les Polonais étaient capables de déchiffrer des messages des premières machines Enigma (avec 3 rotors). Mais dès la guerre déclarée (invasion de la Pologne), l'Allemagne nazie avait modifié ses procédures de cryptographie (en envoyant plus la clef en préambule).\n",
    "\n",
    "- **La bombe de Turing** : Construite par les Britanniques dans le complexe ultra-secret de **Bletchley Park** au Nord de Londres, elle fonctionnait sur le même principe que la machine polonaise mais avec une performance bien plus élevée. C'est le nom d'Allan Turing qui est resté mais il n'était pas le seul. Le groupe secret - le **Government Code and Cypher School** - était composé de centaines d'employés : des analystes, des interpérteurs, des traducteurs, des mathématiciens. On estime que les travaux de déchiffrement d'Enigma ont raccourci la seconde guerre mondiale de 2 ans.\n",
    "\n",
    "![bombe](images/bombe.jpg \"Une bombe de Turing reconstruite en 2006\")"
   ]
  },
  {
   "cell_type": "markdown",
   "id": "e7ba4e34-3e8f-4036-ad1e-5a2a69c7d5de",
   "metadata": {},
   "source": [
    "### Période moderne\n",
    "\n",
    "- **1949** : débuts de la **cryptographie à clef publique** par le mathématicien Claude Shannon\n",
    "- **Années 1970**: les ordinateurs permettent des avancées dans le domaine avec le Standard de Chiffrement Public (DES et AES), léchange de clefs publiques, le chiffrement assymétrique.\n",
    "- **1980** arrivée des **fonctions de hachage** (comme MD5) qui associent à n'importe quel texte une suite de données de taille arbitraire et dont la propriété principale est qu'elle n'est pas réversible. Ces fonctions de hachages permettent notamment de vérifier l'intégrité d'un message (à savoir qu'il  n'a pas été modifié durant sa transmission), ou de vérifier la validité d'un mot de passe. "
   ]
  },
  {
   "cell_type": "markdown",
   "id": "c53212b3-75ce-4100-9352-d3079276f053",
   "metadata": {},
   "source": [
    "## Caractéristiques de la cryptographie\n",
    "\n",
    "1. Confidentialité : garantir qu'un message n'est pas accessible par un tiers\n",
    "1. Intégrité : garantir que le contenu n'a pas été modifié\n",
    "1. Authentification : garantir l'identité à l'origine d'un message\n"
   ]
  },
  {
   "cell_type": "markdown",
   "id": "c0f2f1e9-c602-4c14-a12c-5b4502acf314",
   "metadata": {},
   "source": [
    "## Cryptographie symétrique\n",
    "\n",
    "### Définition\n",
    "\n",
    "La cryptographie **symétrique** (ou cryptographie **à clef secrète**) permet de **chiffrer** et de **déchiffrer** un message avec le **même secret**. \n",
    "\n",
    "### La clef secrète\n",
    "\n",
    "La **clef secrète** est l'élément principal de la cryptographie symétrique. Il s'agit d'une donnée qui est traitée par un algorithme et qui ne doit être connue que par l'émetteur et le destinataire d'un message. \n",
    "\n",
    "### Principe de Kerckhoffs\n",
    "\n",
    "![Kerckhoffs](images/Kerckhoffs.jpg \"August Kerckhoffs\")\n",
    "\n",
    "Auguste Kirckhoffs est un cryptologue militaire des Pays-Bas. En 1883, il publie un livre intitulé *la cryptographie militaire* qui fait toujours référence aujourd'hui. Ce livre traite des caractéristiques que devrait avoir un système sûr de niveau militaire. Dans le chapitre II (page 8 de la traduction, voir Références), il cite ainsi les 6 caractéristiques :\n",
    "\n",
    "1. Le système doit être matériellement, sinon mathématiquement indéchiffrable\n",
    "1. Il faut qu'il n'exige pas le secret, et qu'il puisse sans inconvénient tomber dans les mains de l'ennemi\n",
    "1. La clef doit pouvoir en être communiquée et retenue sans le secours de notes écrites, et être échangée ou modifiée au gré des correspondants\n",
    "1. Il faut qu'il soit applicable à la correspondance télégraphique\n",
    "1. Il faut qu'il soit portatif, et que son maniement ou son fonctionnement n'exige pas le concours de plusieurs personnes\n",
    "1. Enfin, il est nécessaire, vu les circonstances qui en commande l'application, que le système soit d'un usage facile, ne demandant ni tension de l'esprit, ni la connaissance d'une longue série de règles à observer\n",
    "\n",
    "L'algorithme qui régit la cryptographie symétrique doit respecter l'ensemble des caractéristiques du principe de Kirckhoffs.\n",
    "\n",
    "### Principaux algorithmes symétriques modernes\n",
    "\n",
    "- AES (Advanced Encryption Standard)\n",
    "- DES (Data Encryption Standard) démontré depuis les années 1990 cassable."
   ]
  },
  {
   "cell_type": "markdown",
   "id": "a41bea75-143e-4509-924f-a5a0cb23b2d0",
   "metadata": {},
   "source": [
    "## Cryptographie asymétrique\n",
    "\n",
    "![asymetrique](images/asymetrique.png \"Chiffrement asymétrique\")\n",
    "\n",
    "La cryptographie **asymétrique** permet de chiffrer et de déchiffrer un message avec **deux clefs distinctes**. \n",
    "\n",
    "- La première : la clef publique permet le **chiffrement**\n",
    "- La seconde : la clef privée qui permet le **déchiffrement**\n",
    "\n",
    "Les deux clefs sont créées par le destinataire. \n",
    "\n",
    "### L'analogie du coffre-fort\n",
    "\n",
    "Cette analogie, bien que simpliste, permet de comprendre le concept de cryptographie asymétrique. \n",
    "\n",
    "- Alice a choisi un coffre-fort dont elle seule possède la clef\n",
    "- Alice envoie le coffre-fort ouvert à Bob\n",
    "- Bob le reçoit et y place son message\n",
    "- Bob ferme le coffre-fort\n",
    "- Bonb envoie le coffre-fort fermé à Alice\n",
    "- Alice le reçoit et ouvre son coffre-fort pour lire le message\n",
    "\n",
    "### Principe de base : comment cela peut fonctionner ?\n",
    "\n",
    "La cryptographie asymétrique fonctionne sur le principe mathématique des **fonctions à sens unique** et des **trappes secrètes**. Les premières sont des fonctions telles qu'une fois appliquées, il est très *difficile* de retrouver le point de départ (le message clair). Les secondes permettent à ceux qui ont conçu la fonction à sens unique de déchiffrer le message grâce à un élément qu'il possède (la clef privée).\n",
    "\n",
    "L'une des principales fonctions à sens unique utilisée dans les algorithmes asymétriques est celle de la **factorisation d'un nombre entier** : étant donné deux nombres premiers (très grands) $p$ et $q$, il est extrêmement facile de calculer $z = p \\cdot q$. Connaissant $z$, il est extrêmement difficile de retrouver $p$ et $q$. Le célèbre **algorithme RSA** est construit sur cette fonction.\n",
    "\n",
    "### Chiffrement et déchiffrement\n",
    "\n",
    "Le système de clefs publique et privée permet de coder des chiffres. Mais il est relativement facile de créer un système de conversion de lettres en chiffres et qui permet de chiffrer n'importe quel caractère.  \n",
    "\n",
    "### Utilisations majeures\n",
    "\n",
    "1. La **confidentialité** des messages reçus. L'expéditeur est certain que seul le récepteur du message peut le déchiffrer avec sa clef publique\n",
    "\n",
    "1. Dans l'autre sens, on peut utiliser la clef privée pour chiffrer un message. Le récepteur peut utiliser la clef publique pour vérifier l'autenticité du message. Il s'agit de **l'authentification**\n",
    "\n",
    "### Exemples d'algorithmes asymétriques\n",
    "\n",
    "1. RSA (Rivest, Shamir et Adelman du nom de leurs concepteurs)\n",
    "1. DSA (Digital Signature Algorithm)"
   ]
  },
  {
   "cell_type": "markdown",
   "id": "7d78a634-5f71-43a1-b5e8-befd55f29890",
   "metadata": {},
   "source": [
    "## Les mots de passe : fonction de hachage cryptographique\n",
    "\n",
    "Lorsqu'on utilise un **mot de passe**, celui-ci est par définition secret. Même si le système sur lequel on se connecte (par exemple [eduvaud.ch](https://www.outlook.com) ) peut être de très grande confiance, il ne doit jamais stocker l'ensemble de ces mots de passe dans un fichier. C'est un point de faiblesse majeur si ce fichier est divulgué. \n",
    "\n",
    "Pour éviter ce problème, on recourt aux **fonctions de hachage cryptographique**. Une telle fonction associe à une donnée de taille arbitraire (par exemple un mot de passe), une *image* (une suite de caractères ou de bits) de taille fixe et dont la propriété essentielle est qu'il est pratiquement impossible à inverser; c'est-à-dire de retrouver la donnée initiale en fonction de l'image. La fonction de hachage possède les caractéristiques suivantes : \n",
    "- elle est déterministe (la même donnée initiale donnera toujours la même image), \n",
    "- l'image se calcule facilement, \n",
    "- il est impossible de retrouver la donnée à partir de l'image et \n",
    "- il est impossible de trouver deux messages différents ayant la même image\n",
    "\n",
    "### Exemples d'algorithmes de hachage\n",
    "\n",
    "- MD5\n",
    "- Md5sum\n",
    "- SHA"
   ]
  },
  {
   "cell_type": "markdown",
   "id": "7db3fa66-527a-49f4-8b62-ee897977eaeb",
   "metadata": {},
   "source": [
    "## Cryptanalyse\n",
    "\n",
    "La cryptanalyse est la science du **cassage de secret**. Il s'agit de l'ensemble des méthodes et techniques qui consistent à retrouver un texte clair à partir du texte chiffré. Les principales méthodes de cassage sont les suivantes :\n",
    "\n",
    "### Force brute\n",
    "\n",
    "La **force brute** consiste à tester l'ensemble des combinaisons, une à une. C'est l'attaque la plus simple en terme algorithmique, mais la plus coûteuse en terme de complexité. \n",
    "\n",
    "### Attaque par dictionnaire\n",
    "\n",
    "L'attaque **par dictionnaire** consiste à tester la validité d'une clef sur la base d'un dictionnaire, c'est-à-dire d'un ensemble de clefs potentielles. \n",
    "\n",
    "Le logiciel à sources ouvertes [John The Ripper](https://github.com/openwall/john) est un logiciel de cassage de mots de passes qui utilise l'attaque par dictionnaire. \n",
    "\n",
    "### Analyse fréquentielle\n",
    "\n",
    "L'attaque par analyse fréquentielle examine la fréquence d'apparition de lettres employées dans un texte chiffré et à la comparer avec les fréquences d'apparition des lettres dans une langue donnée.\n",
    "\n"
   ]
  },
  {
   "cell_type": "markdown",
   "id": "2fa01ffa-0149-4ee8-b320-be50a9c8da19",
   "metadata": {},
   "source": [
    "## Références pour aller plus loin\n",
    "\n",
    "- Auguste Kerckhoffs (1835-1903). « La cryptographie militaire », Journal des sciences militaires, vol. IX, p. 5-38, janvier 1883. Une version est disponible sur la [bibliothèque de Google](https://books.google.ch/books?hl=fr&lr=&id=VbQBAAAAYAAJ&oi=fnd&pg=PA1&dq=Kerckhoffs+Cryptographie+militaire+1883&ots=per75JvmC0&sig=omV5TQ8WIfxiZujqnxkY9O27QYw#v=onepage&q&f=false)\n",
    "- Jean-Philippe Javet, cours de mathématiques pour le gymnase de Morges, [chapitre sur la cryptographie](http://www.gymomath.ch/javmath/polycopie/OC%20Crypto.pdf)"
   ]
  },
  {
   "cell_type": "code",
   "execution_count": null,
   "id": "4e5d7b80-2b7c-449c-bbff-6ea81b22e19a",
   "metadata": {},
   "outputs": [],
   "source": []
  }
 ],
 "metadata": {
  "kernelspec": {
   "display_name": "Python 3 (ipykernel)",
   "language": "python",
   "name": "python3"
  },
  "language_info": {
   "codemirror_mode": {
    "name": "ipython",
    "version": 3
   },
   "file_extension": ".py",
   "mimetype": "text/x-python",
   "name": "python",
   "nbconvert_exporter": "python",
   "pygments_lexer": "ipython3",
   "version": "3.9.2"
  }
 },
 "nbformat": 4,
 "nbformat_minor": 5
}
