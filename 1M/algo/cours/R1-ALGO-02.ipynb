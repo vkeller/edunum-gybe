{
 "cells": [
  {
   "cell_type": "markdown",
   "id": "49b8a245-bce1-41b1-bf8c-a62b8508a41a",
   "metadata": {},
   "source": [
    "![rev](images/rev.jpg \"Révision algos - prog\")\n",
    "\n",
    "## R1-ALGO-02 : Révision Algorigramme + programmation"
   ]
  },
  {
   "cell_type": "markdown",
   "id": "e81d493a-256b-424a-8cdd-12719f786c80",
   "metadata": {},
   "source": [
    "## Objectifs pédagogiques\n",
    "\n",
    "- réviser le passage du formalisme algorigramme au formalisme programmation (et vice-versa) pour des problème simples"
   ]
  },
  {
   "cell_type": "markdown",
   "id": "69339bfa-7985-4561-bbf5-b75cf396dbce",
   "metadata": {},
   "source": [
    "## Exercice 1 : calcul de la somme des entiers pair\n",
    "\n",
    "**Problème :** on veut calculer la somme de tous les entiers pairs entre 2 et un `nombre` entier entré par l'utilisateur.\n",
    "\n",
    "**Entrée** : `nombre`\n",
    "\n",
    "**Sortie** : `moyenne`\n",
    "\n",
    "Dessinez l'algorigramme correspondant au programme suivant :"
   ]
  },
  {
   "cell_type": "code",
   "execution_count": 12,
   "id": "64d88f89-6008-4f87-bb82-f37571ecaafd",
   "metadata": {},
   "outputs": [
    {
     "name": "stdin",
     "output_type": "stream",
     "text": [
      "Entrez un nombre entier :  10\n"
     ]
    },
    {
     "name": "stdout",
     "output_type": "stream",
     "text": [
      "La somme des netiers pairs jusqu'à  4 est : 30\n"
     ]
    }
   ],
   "source": [
    "nombre = int(input(\"Entrez un nombre entier : \"))\n",
    "somme = 0\n",
    "\n",
    "for i in range(2, nombre + 1, 2):\n",
    "    somme = somme + i\n",
    "print(\"La somme des netiers pairs jusqu'à \",n, \"est :\",somme)"
   ]
  },
  {
   "cell_type": "markdown",
   "id": "1df063e8-5187-4323-97e9-43ebdf8f5066",
   "metadata": {},
   "source": [
    "## Exercice 2 : Vérification des nombres premiers\n",
    "\n",
    "**Problème :** On veut savoir si un `nombre` entier entré par l'utilisateur est premier ou pas. Pour ce faire, on calcule tous les restes de la division entière (le modulo) des diviseurs entre `2` et la racine du nombre entré. Si ce reste vaut `0` une seule fois, alors le nombre n'est pas premier. Sinon il est premier (divisble par lui et par 1)\n",
    "\n",
    "**Entrée** : `nombre`\n",
    "\n",
    "**Sortie** : `est premier` ou `n'est pas premier`\n",
    "\n",
    "Ecrivez le programme en Python de l'algorigramme suivant :\n",
    "\n",
    "![R1-ALGO-02_ex2](schemas/R1-ALGO-02_ex2.png \"Exo 2\")"
   ]
  },
  {
   "cell_type": "markdown",
   "id": "bc733d7a-079d-4019-b5fd-e2a01ee545fb",
   "metadata": {},
   "source": [
    "## Exercice 3 : Calcul d'une moyenne\n",
    "\n",
    "**Problème :** On veut calculer la moyenne de `nombre_de_nombres` valeurs `nombre`. On ne connaît pas à l'avance le nombre de valeurs qui seront entrées par l'utilisateur (boucle non bornée)\n",
    "\n",
    "**Entrée** : des valeurs de `nombre`\n",
    "\n",
    "**Sortie** : `moyenne`\n",
    "\n",
    "Dessinez l'algorigramme correspondant au programme suivant"
   ]
  },
  {
   "cell_type": "code",
   "execution_count": 16,
   "id": "b09532eb-f5f2-4fc6-8de7-1e97e6eea8a3",
   "metadata": {},
   "outputs": [
    {
     "name": "stdin",
     "output_type": "stream",
     "text": [
      "Entrez un nombre (négatif pour terminer) :  23\n",
      "Entrez un nombre (négatif pour terminer) :  24\n",
      "Entrez un nombre (négatif pour terminer) :  28.5\n",
      "Entrez un nombre (négatif pour terminer) :  -1\n"
     ]
    },
    {
     "name": "stdout",
     "output_type": "stream",
     "text": [
      "La moyenne est :  25.166666666666668\n"
     ]
    }
   ],
   "source": [
    "somme = 0\n",
    "nombre_de_nombres = 0\n",
    "nombre = 0\n",
    "\n",
    "while nombre >= 0:\n",
    "    nombre = float(input(\"Entrez un nombre (négatif pour terminer) : \"))\n",
    "    if nombre >= 0:\n",
    "        somme = somme + nombre\n",
    "        nombre_de_nombres = nombre_de_nombres + 1\n",
    "\n",
    "if nombre_de_nombres > 0:\n",
    "    moyenne = somme / nombre_de_nombres\n",
    "    print(\"La moyenne est : \",moyenne)\n",
    "else:\n",
    "    print(\"Aucun nombre saisi\")"
   ]
  },
  {
   "cell_type": "markdown",
   "id": "67e42df3-83b1-4eb0-8094-e638166e7518",
   "metadata": {},
   "source": [
    "## Exercice 4 : Calcul de la factorielle\n",
    "\n",
    "**Problème :** On veut calculer la factorielle ($f(x) = x! = x \\cdot (x-1)  \\cdot (x-2  \\cdot ...  \\cdot 1$)\n",
    "\n",
    "**Entrée** : `nombre`\n",
    "\n",
    "**Sortie** : `factorielle`\n",
    "\n",
    "Ecrivez le programme en Python de l'algorigramme suivant :\n",
    "\n",
    "![R1-ALGO-02_ex4](schemas/R1-ALGO-02_ex4.png)"
   ]
  },
  {
   "cell_type": "markdown",
   "id": "42fcb134-2476-479a-8e55-22deb4cff916",
   "metadata": {},
   "source": [
    "## Solutions"
   ]
  },
  {
   "cell_type": "markdown",
   "id": "6ba54db9-febd-41be-90c5-0206b745707a",
   "metadata": {},
   "source": [
    "### Exercice 1 (somme des entiers pairs)\n",
    "\n",
    "Un algorigramme :\n",
    "\n",
    "![R1-ALGO-02_ex1](schemas/R1-ALGO-02_ex1.png \"Exo 1\")"
   ]
  },
  {
   "cell_type": "code",
   "execution_count": 11,
   "id": "fae3994c-b983-4cdd-83a1-96e07d631b6a",
   "metadata": {},
   "outputs": [
    {
     "name": "stdin",
     "output_type": "stream",
     "text": [
      "Entrez un nombre entier :  13\n"
     ]
    },
    {
     "name": "stdout",
     "output_type": "stream",
     "text": [
      "La somme des netiers pairs jusqu'à  13 est : 42\n"
     ]
    }
   ],
   "source": [
    "nombre = int(input(\"Entrez un nombre entier : \"))\n",
    "somme = 0\n",
    "\n",
    "for i in range(2, nombre + 1, 2):\n",
    "    somme = somme + i\n",
    "print(\"La somme des netiers pairs jusqu'à \",nombre, \"est :\",somme)"
   ]
  },
  {
   "cell_type": "markdown",
   "id": "38309ca5-4d6e-442c-b349-390e3f54647a",
   "metadata": {},
   "source": [
    "### Exercice 2\n",
    "\n",
    "![R1-ALGO-02_ex2](schemas/R1-ALGO-02_ex2.png \"Exo 2\")"
   ]
  },
  {
   "cell_type": "code",
   "execution_count": 9,
   "id": "ca1f0dae-5d36-4963-bf2b-9a947f312d37",
   "metadata": {},
   "outputs": [
    {
     "name": "stdin",
     "output_type": "stream",
     "text": [
      "Entrez un nombre positif :  17\n"
     ]
    },
    {
     "name": "stdout",
     "output_type": "stream",
     "text": [
      "17  est un nombre premier\n"
     ]
    }
   ],
   "source": [
    "nombre = int(input(\"Entrez un nombre positif : \"))\n",
    "est_premier = True\n",
    "\n",
    "if nombre <= 1:\n",
    "    est_premier = False\n",
    "else:\n",
    "    diviseur = 2\n",
    "    while diviseur * diviseur <= nombre:\n",
    "        if nombre % diviseur == 0:\n",
    "            est_premier = False\n",
    "        diviseur = diviseur + 1\n",
    "if est_premier == True:\n",
    "    print(nombre,\" est un nombre premier\")\n",
    "else:\n",
    "    print(nombre, \" n'est pas un nombre premier\")"
   ]
  },
  {
   "cell_type": "markdown",
   "id": "32d54e71-3710-4ca2-90ab-1c6f9ae68185",
   "metadata": {},
   "source": [
    "### Exercice 3 (calcul de la moyenne)\n",
    "\n",
    "![R1-ALGO-02_ex3](schemas/R1-ALGO-02_ex3.png \"Exo 3\")"
   ]
  },
  {
   "cell_type": "code",
   "execution_count": 5,
   "id": "ba32366d-d7c1-436d-b8d2-300004dbd534",
   "metadata": {},
   "outputs": [
    {
     "name": "stdin",
     "output_type": "stream",
     "text": [
      "Entrez un nombre (négatif pour terminer) :  4.5\n",
      "Entrez un nombre (négatif pour terminer) :  5.5\n",
      "Entrez un nombre (négatif pour terminer) :  3.5\n",
      "Entrez un nombre (négatif pour terminer) :  -3\n"
     ]
    },
    {
     "name": "stdout",
     "output_type": "stream",
     "text": [
      "La moyenne est :  4.5\n"
     ]
    }
   ],
   "source": [
    "somme = 0\n",
    "nombre_de_nombres = 0\n",
    "nombre = 0\n",
    "\n",
    "while nombre >= 0:\n",
    "    nombre = float(input(\"Entrez un nombre (négatif pour terminer) : \"))\n",
    "    if nombre >= 0:\n",
    "        somme = somme + nombre\n",
    "        nombre_de_nombres = nombre_de_nombres + 1\n",
    "\n",
    "if nombre_de_nombres > 0:\n",
    "    moyenne = somme / nombre_de_nombres\n",
    "    print(\"La moyenne est : \",moyenne)\n",
    "else:\n",
    "    print(\"Aucun nombre saisi\")"
   ]
  },
  {
   "cell_type": "markdown",
   "id": "83e11e52-c2a9-4933-b944-ce44cedb7679",
   "metadata": {},
   "source": [
    "### Exercice 4 (factorielle)\n",
    "\n",
    "![R1-ALGO-02_ex4](schemas/R1-ALGO-02_ex4.png)"
   ]
  },
  {
   "cell_type": "code",
   "execution_count": 15,
   "id": "c07f98eb-ca59-41d8-8f13-688a12d8cebe",
   "metadata": {},
   "outputs": [
    {
     "name": "stdin",
     "output_type": "stream",
     "text": [
      "Entrez un nombre entier positif :  4\n"
     ]
    },
    {
     "name": "stdout",
     "output_type": "stream",
     "text": [
      "La factorielle de  4  est : 24\n"
     ]
    }
   ],
   "source": [
    "nombre = int(input(\"Entrez un nombre entier positif : \"))\n",
    "factorielle = 1\n",
    "\n",
    "if nombre < 0:\n",
    "    print(\"Erreur, le nombre doit être positif\")\n",
    "elif nombre == 0:\n",
    "    print(\"La factorielle de 0 est 1\")\n",
    "else:\n",
    "    for i in range(1,nombre+1, 1):\n",
    "        factorielle = factorielle * i\n",
    "    print(\"La factorielle de \",nombre,\" est :\",factorielle)"
   ]
  },
  {
   "cell_type": "code",
   "execution_count": null,
   "id": "f3310e57-79b0-4802-88d0-9a0164eb5f15",
   "metadata": {},
   "outputs": [],
   "source": []
  }
 ],
 "metadata": {
  "kernelspec": {
   "display_name": "Python 3 (ipykernel)",
   "language": "python",
   "name": "python3"
  },
  "language_info": {
   "codemirror_mode": {
    "name": "ipython",
    "version": 3
   },
   "file_extension": ".py",
   "mimetype": "text/x-python",
   "name": "python",
   "nbconvert_exporter": "python",
   "pygments_lexer": "ipython3",
   "version": "3.9.2"
  }
 },
 "nbformat": 4,
 "nbformat_minor": 5
}
