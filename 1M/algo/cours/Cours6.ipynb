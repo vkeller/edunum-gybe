{
 "cells": [
  {
   "cell_type": "markdown",
   "id": "94a9783c-0c69-4cd5-9a1f-632797b2cf81",
   "metadata": {},
   "source": [
    "![darwin](images/darwin.jpg \"Charles Darwin\")\n",
    "\n",
    "# C-ALGO-06 : Algorithmes évolutionnistes"
   ]
  },
  {
   "cell_type": "markdown",
   "id": "4a966233-cc55-4b1b-b86e-4ce63beb406a",
   "metadata": {},
   "source": [
    "## Objectifs pédagogiques\n",
    "\n",
    "- Appréhender certains algorithmes évolutionnistes\n",
    "- Appliquer un algorithme génétique à un problème"
   ]
  },
  {
   "cell_type": "code",
   "execution_count": null,
   "id": "c8bcaf8e-d2d1-4cc1-a939-da3569604f82",
   "metadata": {},
   "outputs": [],
   "source": []
  }
 ],
 "metadata": {
  "kernelspec": {
   "display_name": "Python 3 (ipykernel)",
   "language": "python",
   "name": "python3"
  },
  "language_info": {
   "codemirror_mode": {
    "name": "ipython",
    "version": 3
   },
   "file_extension": ".py",
   "mimetype": "text/x-python",
   "name": "python",
   "nbconvert_exporter": "python",
   "pygments_lexer": "ipython3",
   "version": "3.9.2"
  }
 },
 "nbformat": 4,
 "nbformat_minor": 5
}
