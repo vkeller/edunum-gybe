{
 "cells": [
  {
   "cell_type": "markdown",
   "id": "8f7cc974-910f-4606-844b-22ccb385e3e7",
   "metadata": {},
   "source": [
    "![BCU](images/BCU.jpg \"Bibliothèque\")\n",
    "\n",
    "# Cours 5 : Algorithmes classiques\n",
    "\n",
    "## Objectifs pédagogiques\n",
    "\n",
    "- connaître quelques classes d'algorithmes classiques:\n",
    "    - algorithmes de tri\n",
    "    - algorithmes de recherche"
   ]
  },
  {
   "cell_type": "markdown",
   "id": "8ee381ff-d7d8-42db-a76e-b8e82f838b28",
   "metadata": {},
   "source": [
    "## Introduction\n",
    "\n",
    "Être capable de programmer un ordinateur requiert deux éléments importants :\n",
    "\n",
    "1. Maîtriser un langage de programmation (par exemple Python)\n",
    "1. Avoir une connaissance des algorithmes classiques\n",
    "\n",
    "Par **algorithme classique** on entend des classes d'algorithmes qui ont été décrit il y a longtemps (parfois plusieurs siècles) et qui sont reconnus comme étant **la meilleure solution pour un problème donné** (voir [Cours 4](Cours4.ipynb))\n",
    "\n",
    "La **meilleure solution** peut signifier celle qui prendra *le moins de temps* ou celle qui utilisera *le moins de mémoire de l'ordinateur* (ou toute autre métrique). On parle alors de **complexité des algorithmes**."
   ]
  },
  {
   "cell_type": "markdown",
   "id": "676d0824-8883-4549-9c6c-522982e561be",
   "metadata": {},
   "source": [
    "## Algorithmes classiques : c'est quoi ?\n",
    "\n",
    "Un algorithme **classique** est un algorithme qui peut être écrit dans un langage de programmation et exécuté sur un ordinateur classique. Il possède les caractéristiques suivantes :\n",
    "\n",
    "1. il doit toujours se terminer après un nombre fini d’étapes\n",
    "1. chaque étape d’un algorithme doit être définie précisément, les actions à mener doivent être spécifiées rigoureusement et sans ambigüité pour chaque cas\n",
    "1. un algorithme a des entrées, zéro ou plus, quantités qui lui sont données avant ou pendant son exécution\n",
    "1. un algorithme a une ou plusieurs sorties, quantités qui ont une relation spécifiée avec les entrées\n",
    "1. les instructions doivent être suffisament basiques pour pouvoir être en principe exécutées de manière exacte, en un temps fini par une personne utilisant un papier et un crayon.\n",
    "\n",
    "On peut donner une liste d'algorithmes classiques :\n",
    "\n",
    "1. Algorithmes de recherche\n",
    "    - recherche dichotomique\n",
    "1. Algorithmes de tri\n",
    "    - tri par sélection\n",
    "    - tri à bulle\n",
    "    - tri rapide\n",
    "    - etc...\n",
    "1. Algorithmes de graphes (sur des structures de graphes)\n",
    "    - Problème du voyageur de commerce\n",
    "    - Plus court chemin\n",
    "1. Algorithmes mathématiques\n",
    "    - suite de Fibonacci\n",
    "    - Euclide\n",
    "1. Algorithmes dans le domaine de l'informatique pure\n",
    "    - cryptographie\n",
    "    - musique électronique\n",
    "    - génétiques\n",
    "    - analyse léxicale, syntaxique, sémantique\n",
    "\n",
    "Nous allons concentrer notre survol des algorithmes classiques sur les deux premiers : **algorithmes de recherche** et **algorithmes de tri**"
   ]
  },
  {
   "cell_type": "code",
   "execution_count": null,
   "id": "a9222798-2e0b-4130-941b-f58cdb843672",
   "metadata": {},
   "outputs": [],
   "source": []
  }
 ],
 "metadata": {
  "kernelspec": {
   "display_name": "Python 3 (ipykernel)",
   "language": "python",
   "name": "python3"
  },
  "language_info": {
   "codemirror_mode": {
    "name": "ipython",
    "version": 3
   },
   "file_extension": ".py",
   "mimetype": "text/x-python",
   "name": "python",
   "nbconvert_exporter": "python",
   "pygments_lexer": "ipython3",
   "version": "3.9.2"
  }
 },
 "nbformat": 4,
 "nbformat_minor": 5
}
