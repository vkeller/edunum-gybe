{
 "cells": [
  {
   "cell_type": "markdown",
   "id": "8f7cc974-910f-4606-844b-22ccb385e3e7",
   "metadata": {},
   "source": [
    "![BCU](images/BCU.jpg \"Bibliothèque\")\n",
    "\n",
    "# Cours 5 : Algorithmes classiques\n",
    "\n",
    "## Objectifs pédagogiques\n",
    "\n",
    "- connaître quelques classes d'algorithmes classiques:\n",
    "    - algorithmes de tri\n",
    "    - algorithmes de recherche"
   ]
  },
  {
   "cell_type": "markdown",
   "id": "b2c71fd3-9d48-4a88-8687-429c3f1cc820",
   "metadata": {},
   "source": [
    "## Algorithmes de recherche\n"
   ]
  },
  {
   "cell_type": "markdown",
   "id": "e74c845a-ee93-49cc-95a8-256bf78b8518",
   "metadata": {},
   "source": []
  }
 ],
 "metadata": {
  "kernelspec": {
   "display_name": "Python 3 (ipykernel)",
   "language": "python",
   "name": "python3"
  },
  "language_info": {
   "codemirror_mode": {
    "name": "ipython",
    "version": 3
   },
   "file_extension": ".py",
   "mimetype": "text/x-python",
   "name": "python",
   "nbconvert_exporter": "python",
   "pygments_lexer": "ipython3",
   "version": "3.9.2"
  }
 },
 "nbformat": 4,
 "nbformat_minor": 5
}
