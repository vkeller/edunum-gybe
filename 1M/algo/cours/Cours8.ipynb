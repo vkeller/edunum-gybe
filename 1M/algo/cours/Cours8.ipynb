{
 "cells": [
  {
   "cell_type": "markdown",
   "id": "d6d9d192-9197-4dea-83db-4cdd3060d7ac",
   "metadata": {},
   "source": [
    "![doomsday](images/doomsday.jpg \"Sixtine Michel Angelo\")\n",
    "\n",
    "# C-ALGO-08 : algorithme du jugement dernier (Doomsday algorithm)\n",
    "\n",
    "## Objectifs pédagogiques\n",
    "\n",
    "1. Appliquer un algorithme décrit par un algorigramme\n",
    "1. Dessiner un algorigramme sur la base d'un algorithme écrit en français"
   ]
  },
  {
   "cell_type": "markdown",
   "id": "fb9d3d07-53bb-4c78-affe-068c46ac2831",
   "metadata": {},
   "source": [
    "## Historique\n",
    "\n",
    "L'algorithme du jour du Jugement dernier, ou méthode des jours-pivots, ou méthode du clavedi, ou méthode de Conway (en anglais : Doomsday rule ou Doomsday algorithm), est une méthode de calcul du jour de la semaine correspondant à une date précise. Cet algorithme fut élaboré à l'origine par John Horton Conway (1937-2020), célèbre mathématicien britannique connu notamment pour être l'inventeur du Jeu de la vie."
   ]
  },
  {
   "cell_type": "markdown",
   "id": "f1a75ac4-ef8f-461d-ac4d-499603dbd0c7",
   "metadata": {},
   "source": [
    "## Algorithme du Jour du Jugement dernier\n",
    "\n",
    "Il se déroule en trois étapes :\n",
    "\n",
    "1. **Etape 1 :** Déterminer la balise du siècle\n",
    "1. **Etape 2 :** Calculer le jour-clé de l'année\n",
    "1. **Etape 3 :** Choisir le jour-pivot\n",
    "\n",
    "Pour la troisième étape, il s'agit d'avoir un sous-algorithme qui renvoie **Vrai** si l'année considérée est **bisextile**"
   ]
  },
  {
   "cell_type": "markdown",
   "id": "ae1ffe3b-2f32-4da3-87ea-61e9f4f3b3f6",
   "metadata": {},
   "source": [
    "## Algorithme : année bisextile\n",
    "\n",
    "- SI l'année est un multiple de 4 alors elle est bisextile\n",
    "    - SAUF si l'année est divisible par 100 MAIS pas par 400\n",
    "- SINON elle n'est pas bisextile\n",
    "\n",
    "![bisextile](images/bisextile.jpg \"Anne bisextile\")"
   ]
  },
  {
   "cell_type": "code",
   "execution_count": 5,
   "id": "41a9adc9-5a7d-4df6-bd14-aba8de8ab927",
   "metadata": {},
   "outputs": [
    {
     "name": "stdout",
     "output_type": "stream",
     "text": [
      "1964 est une année bisextile\n"
     ]
    }
   ],
   "source": [
    "annee = 1964\n",
    "\n",
    "if (annee%4 != 0) :\n",
    "    print(str(annee)+\" n'est pas une année bisextile\")\n",
    "else:\n",
    "    if (annee%100 != 0) :\n",
    "        if (annee%400 != 0) :\n",
    "            print(str(annee)+\" est une année bisextile\")\n",
    "        else:\n",
    "            print(str(annee)+\" n'est pas une année bisextile\")\n",
    "    else:\n",
    "        print(str(annee)+\" est une année bisextile\")"
   ]
  },
  {
   "cell_type": "markdown",
   "id": "f8487c65-dc4f-4ad0-9296-87cccfbd0d9d",
   "metadata": {},
   "source": [
    "## Etape 1 : Déterminer la balise du siècle\n",
    "\n",
    "Le cycle des dates et des jours de semaine du calendrier grégorien se reproduit à l'identique tous les 4 siècles\n",
    "\n",
    "| Siècles  | 1600<br>2000<br>2400<br>...<br> | 1700<br>2100<br>2500<br>...<br> | 1800<br>2200<br>2600<br>...<br> | 1900<br>2300<br>2700<br>...<br> |\n",
    "| :-----: | :-----: | :-----: | :-----: | :-----: |\n",
    "|  **Balise du siècle** | **2**  | **0**  | **5**  | **3**  |\n"
   ]
  },
  {
   "cell_type": "markdown",
   "id": "2ab2cc59-e2b4-48d6-be44-64199a23cf72",
   "metadata": {},
   "source": [
    "## Etape 2 : Calculer le jour-clé de l'année\n",
    "\n",
    "- l'année est donnée par ses deux derniers chiffres\n",
    "- le calcul se fait selon l'algorithme décrit par l'algorigramme suivant\n",
    "\n",
    "![doomsday](images/doomsday_2.png \"Doomsday\")\n",
    "\n",
    "Le chiffre obtenu à la fin de l'algorithme est un jour de semaine\n",
    "\n",
    "| Chiffre  | Jour  |\n",
    "|:--- | :--- |\n",
    "| 0  | Dimanche  |\n",
    "| 1  | Lundi  |\n",
    "| 2  | Mardi  |\n",
    "| 3  | Mercredi  |\n",
    "| 4  | Jeudi  |\n",
    "| 5  | Vendredi  |\n",
    "| 6  | Samedi  |\n"
   ]
  },
  {
   "cell_type": "markdown",
   "id": "441358b7-d9bb-4a5c-bbb3-bfbbd34daf48",
   "metadata": {},
   "source": [
    "## Etape 3 : Choisir un jour-pivot\n",
    "\n",
    "Une fois le jour-clé déterminé, on choisit un jour proche de celui recherché selon le tableau suivant. Il permettra de calculer facilement le jour de la semaine correspondant à la date recherchée.\n",
    "\n",
    "*Remarque* Si le jour-clé est un mardi, toutes les dates du tableau pour l'année considérée sont aussi un mardi.\n",
    "\n",
    "|  | Janvier | Février | Mars | Avril | Mai | Juin | Juillet | Août | Septembre | Octobre | Novembre | Décembre | \n",
    "| :-----: | :-----: | :-----: | :-----: | :-----: | :-----: | :-----: | :-----: | :-----: | :-----: | :-----: | :-----: | :-----: |\n",
    "| **Ordinaire** | **10**  | **28**  | **14**  | **4**  | **9**  | **6**  | **11**  | **8**  | **5**  | **10**  | **7**  | **12**  | \n",
    "| **Bisextile** | **11**  | **29**  | **14**  | **4**  | **9**  | **6**  | **11**  | **8**  | **5**  | **10**  | **7**  | **12**  |\n",
    "\n"
   ]
  },
  {
   "cell_type": "markdown",
   "id": "ec003333-84e1-4b3a-92db-c311646b5cc5",
   "metadata": {},
   "source": [
    "## Exemples\n",
    "\n",
    "### 18 janvier 1967\n",
    "\n",
    "- **Etape 1** \n",
    "    - 1900 correspond à la balise du siècle `3`\n",
    "- **Etape 2** \n",
    "    - `67` est impair, donc `67 + 11 = 78`\n",
    "    - `78 / 2 = 39`\n",
    "    - `39` est impair donc `39 + 11 = 50`\n",
    "    - `50 modulo 7 = 1`\n",
    "    - `7 - 1 = 6`\n",
    "    - `(6+3) modulo 7 = 9 modulo 7 = 2`\n",
    "    - `2` le jour-clé de l'année est un mardi\n",
    "- **Etape 3**\n",
    "    - 1967 est une année ordinaire\n",
    "    - le 10 janvier (jour-pivot) est un mardi.\n",
    "    - `10 + 7 = 17` est aussi un mardi. Le `18` est donc un mercredi"
   ]
  }
 ],
 "metadata": {
  "kernelspec": {
   "display_name": "Python 3 (ipykernel)",
   "language": "python",
   "name": "python3"
  },
  "language_info": {
   "codemirror_mode": {
    "name": "ipython",
    "version": 3
   },
   "file_extension": ".py",
   "mimetype": "text/x-python",
   "name": "python",
   "nbconvert_exporter": "python",
   "pygments_lexer": "ipython3",
   "version": "3.9.2"
  }
 },
 "nbformat": 4,
 "nbformat_minor": 5
}
