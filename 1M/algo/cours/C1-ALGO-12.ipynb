{
 "cells": [
  {
   "cell_type": "markdown",
   "id": "10b6cb7d-d0ae-4d1e-a1ee-57f51cd52fa5",
   "metadata": {},
   "source": [
    "![loop](images/loop.png \"Boucle\")\n",
    "\n",
    "# C1-ALGO-12 : Les boucles"
   ]
  },
  {
   "cell_type": "markdown",
   "id": "cc35c0de-d1ff-406e-975b-9677869ff206",
   "metadata": {},
   "source": [
    "## Objectifs pédagogiques\n",
    "\n",
    "- connaître les deux types de boucles en Python\n",
    "- savoir dessiner l'algorigramme d'une boucle `for` et `while`\n",
    "- appliquer sur des problèmes algorithmiques"
   ]
  },
  {
   "cell_type": "markdown",
   "id": "6a4a265b-d9fe-4d0b-82ca-6f3d4d6b2ec3",
   "metadata": {},
   "source": [
    "## Définition : une boucle\n",
    "\n",
    "Une **boucle** est une structure de contrôle qui permet de répéter un bloc d'instructions. "
   ]
  },
  {
   "cell_type": "markdown",
   "id": "7d42f4b9-7512-4cc4-b360-1c7761745d03",
   "metadata": {},
   "source": [
    "## Les deux types de boucles\n",
    "\n",
    "Il existe deux types de boucles (en Python) :\n",
    "\n",
    "1. les boucles **bornées** : `for`\n",
    "1. les boucles **non bornées** : `while`\n",
    "\n",
    "Quand choisir `for` ou `while` ?"
   ]
  },
  {
   "cell_type": "markdown",
   "id": "a8b869d7-cae6-432c-aa9e-55813249c875",
   "metadata": {},
   "source": [
    "## Boucle bornée : `for`\n",
    "\n",
    "Lorsque **le nombre de répétitions** est connu, alors la boucle est **bornée** et on l'écrira avec un bloc `for`:"
   ]
  },
  {
   "cell_type": "code",
   "execution_count": 3,
   "id": "770f14d8-0799-4f10-bdae-6cf07e19f442",
   "metadata": {},
   "outputs": [
    {
     "name": "stdout",
     "output_type": "stream",
     "text": [
      "i a pour valeur  0\n",
      "i a pour valeur  1\n",
      "i a pour valeur  2\n",
      "i a pour valeur  3\n"
     ]
    }
   ],
   "source": [
    "limite = 4\n",
    "for i in range(limite):\n",
    "    print(\"i a pour valeur \", i)"
   ]
  },
  {
   "cell_type": "markdown",
   "id": "54bca26e-7170-4ff2-8f4d-d86ad2336494",
   "metadata": {},
   "source": [
    "Toutes les instructions qui suivent les deux points `:` et qui sont séparées par quatre espaces (ou une tabulation sous Thonny) sont appelées **corps de la boucle**. \n",
    "\n",
    "On dit qu'à chaque exécution du corps de la boucle, on réalise une **itération**. \n",
    "\n",
    "La variable `i` qui prend les valeurs successivement de `0` à `limite-1` est appelée **itérateur** (parfois **compteur**). Il permet de numéroter les itérations."
   ]
  },
  {
   "cell_type": "markdown",
   "id": "b1956bca-00ee-42f3-86a0-7a2f4d26aa0b",
   "metadata": {},
   "source": [
    "### La fonction `range()`\n",
    "\n",
    "`range()` est une fonction qui retourne une **séquence de nombres**. Par défaut, elle commence à `0` et se termine avant une `limite` spécifiée en incrémentant de 1"
   ]
  },
  {
   "cell_type": "code",
   "execution_count": 6,
   "id": "c6c11cd3-4850-466f-9cd0-6dcc44e471ee",
   "metadata": {},
   "outputs": [
    {
     "name": "stdout",
     "output_type": "stream",
     "text": [
      "0\n",
      "1\n",
      "2\n",
      "3\n"
     ]
    }
   ],
   "source": [
    "perimetre = range(4)\n",
    "for i in perimetre:\n",
    "    print(i)"
   ]
  },
  {
   "cell_type": "markdown",
   "id": "c974c32f-e0d8-46f4-ac28-b510cc7ed38f",
   "metadata": {},
   "source": [
    "La signature de la fonction est :\n",
    "\n",
    "```\n",
    "range(start, stop, step)\n",
    "```\n",
    "\n",
    "où :\n",
    "\n",
    "- `start` est la borne inférieure (**comprise**) : *optionnel*\n",
    "- `stop` est la borne supérieure (**non-comprise**) : *obligatoire*\n",
    "- `step` est le pas : *optionnel*"
   ]
  },
  {
   "cell_type": "code",
   "execution_count": 7,
   "id": "06b4807c-aab6-4026-b6d2-aaf9fd97d7e0",
   "metadata": {},
   "outputs": [
    {
     "name": "stdout",
     "output_type": "stream",
     "text": [
      "3\n",
      "5\n",
      "7\n",
      "9\n"
     ]
    }
   ],
   "source": [
    "perim = range(3,10,2)\n",
    "for i in perim:\n",
    "    print(i)"
   ]
  },
  {
   "cell_type": "markdown",
   "id": "586a8cba-538a-4405-bf46-bc405f23435e",
   "metadata": {},
   "source": [
    "### `range(start,stop,step)` dans une boucle `for`\n",
    "\n",
    "A l'aide de la fonction `range(start, stop, step)` il est maintenant possible de préciser l'étendue du périmètre de la boucle bornée `for`."
   ]
  },
  {
   "cell_type": "code",
   "execution_count": 9,
   "id": "032662ab-7bb2-4083-a27c-578121ef95fa",
   "metadata": {},
   "outputs": [
    {
     "name": "stdout",
     "output_type": "stream",
     "text": [
      "4\n",
      "6\n",
      "8\n"
     ]
    }
   ],
   "source": [
    "for i in range(4,10,2):\n",
    "    print(i)"
   ]
  },
  {
   "cell_type": "markdown",
   "id": "bf93058c-dbf3-4bb4-83dd-69e05c4bd399",
   "metadata": {},
   "source": [
    "### Boucle `for` dans un algorigramme\n",
    "\n",
    "La boucle `for` avec la fonction `range(start, stop, step)` complète (telle que l'exemple ci-dessus) se dessine avec les symboles suivants :\n",
    "\n",
    "![bouclefor](schemas/bouclefor.png \"Boucle for complète\")"
   ]
  },
  {
   "cell_type": "markdown",
   "id": "4ca568f9-ad08-4377-ab7d-debf9948b6d7",
   "metadata": {},
   "source": [
    "## Boucle non-bornée : `while`\n",
    "\n",
    "Lorsque le **nombre de répétitions** n'est pas connu à **l'avance**, alors on choisira un bloc `while`:"
   ]
  },
  {
   "cell_type": "code",
   "execution_count": 2,
   "id": "cf787577-823a-48f3-a39c-0e9eed254cc4",
   "metadata": {},
   "outputs": [
    {
     "name": "stdout",
     "output_type": "stream",
     "text": [
      "x a pour valeur 1\n",
      "x a pour valeur 3\n",
      "x a pour valeur 5\n",
      "x a pour valeur 7\n",
      "x a pour valeur 9\n",
      "Fin\n"
     ]
    }
   ],
   "source": [
    "x = 1\n",
    "while x < 10:\n",
    "    print(\"x a pour valeur\", x)\n",
    "    x = x + 2\n",
    "print(\"Fin\")"
   ]
  },
  {
   "cell_type": "markdown",
   "id": "c39e85a2-f92a-486b-9d5a-7158cecab1f1",
   "metadata": {},
   "source": [
    "Toutes les instructions qui suivent les deux points `:` et qui séparées par quatre espaces (ou une tabulation sous Thonny) sont appelées **corps de la boucle while**.\n",
    "\n",
    "Le corps de la boucle sera répété **tant que la condition est vraie** :\n",
    "\n",
    "```\n",
    "while condition :\n",
    "    instruction1\n",
    "    instruction2\n",
    "    etc..\n",
    "```\n",
    "**Remarque** : si la condition est `False` au départ, alors le corps de la boucle ne sera jamais exécuté "
   ]
  },
  {
   "cell_type": "code",
   "execution_count": 3,
   "id": "ee20550d-fab5-4ab0-a81f-3a89f9506330",
   "metadata": {},
   "outputs": [
    {
     "name": "stdout",
     "output_type": "stream",
     "text": [
      "Fin\n"
     ]
    }
   ],
   "source": [
    "x = 20\n",
    "while x < 10:\n",
    "    print(\"x a pour valeur\", x)\n",
    "    x = x + 2\n",
    "print(\"Fin\")"
   ]
  },
  {
   "cell_type": "markdown",
   "id": "caec8a62-9901-4ce7-a79c-3f2db991e290",
   "metadata": {},
   "source": [
    "A l'opposé, si la condition est toujours vraie, alors le programme exécutera indéfiniment le corps de boucle. Ce cas est un exemple d'erreur algorithmique (un algorithme a toujours une fin.\n",
    "\n",
    "```\n",
    "x = 1\n",
    "while x < 10:\n",
    "    print(\"x a pour valeur\", x)\n",
    "print(\"Fin\")\n",
    "```"
   ]
  },
  {
   "cell_type": "markdown",
   "id": "0d2ca5a5-3ee8-49b5-a1c0-bb96a7c9d96c",
   "metadata": {},
   "source": [
    "### Boucle `while` dans un algorigramme\n",
    "\n",
    "La boucle `while` se dessine avec les symboles suivants :\n",
    "\n",
    "![bouclewhile](schemas/bouclewhile.png \"Boucle while\")"
   ]
  },
  {
   "cell_type": "markdown",
   "id": "a0960c0a-c2ed-4ad9-b10a-f8315ae897c8",
   "metadata": {},
   "source": [
    "## Transformation d'une boucle `for` en boucle `while`\n",
    "\n",
    "Il suffit de déclarer les variables de la fonction `range(start, stop, step)` ainsi que de l'itérateur.\n",
    "\n",
    "Exemple :"
   ]
  },
  {
   "cell_type": "code",
   "execution_count": 5,
   "id": "ecde96ae-321d-449a-b0c6-bcfde9812b96",
   "metadata": {},
   "outputs": [
    {
     "name": "stdout",
     "output_type": "stream",
     "text": [
      "1\n",
      "3\n",
      "5\n",
      "7\n",
      "9\n"
     ]
    }
   ],
   "source": [
    "for i in range(1,10,2):\n",
    "    print(i)"
   ]
  },
  {
   "cell_type": "markdown",
   "id": "5bd76a76-d175-4909-9d5a-849ff64c97ff",
   "metadata": {},
   "source": [
    "se transforme en la boucle `while` suivante :"
   ]
  },
  {
   "cell_type": "code",
   "execution_count": 4,
   "id": "562d66af-111e-4edd-a62d-792d2ed9253b",
   "metadata": {},
   "outputs": [
    {
     "name": "stdout",
     "output_type": "stream",
     "text": [
      "1\n",
      "3\n",
      "5\n",
      "7\n",
      "9\n"
     ]
    }
   ],
   "source": [
    "start = 1\n",
    "stop = 10\n",
    "step = 2\n",
    "i = start\n",
    "while (i < stop):\n",
    "    print(i)\n",
    "    i = i + step"
   ]
  },
  {
   "cell_type": "markdown",
   "id": "3b08cbf9-28fd-4f29-bb15-aaa70df2dcd1",
   "metadata": {},
   "source": [
    "## Exercices\n",
    "\n",
    "Pour chaque exercice, choissisez le **type de boucle** le plus adéquat (`for` ou `while`) puis :\n",
    "\n",
    "1. Dessinez l'algorigramme\n",
    "1. Ecrivez le code Python"
   ]
  },
  {
   "cell_type": "markdown",
   "id": "2ede128f-7e4a-4dd5-92e6-7ff57b7da7e3",
   "metadata": {},
   "source": [
    "## Exercice 1\n",
    "\n",
    "**Problème** : on aimerait écrire un jeu de devinette. Il s'agit de découvrir un nombre (variable `atrouver`de type entier) entre 1 et 100. Le joueur peut faire le nombre d'essais qu'il veut. Lorsqu'il a trouvé le nombre `atrouver`, le jeu se termine."
   ]
  },
  {
   "cell_type": "markdown",
   "id": "dd152f2e-1787-4a03-a2b3-619ca57087a7",
   "metadata": {},
   "source": [
    "## Exercice 2\n",
    "\n",
    "**Problème** : on aimerait afficher la somme des nombres impairs compris entre 125 et 1001 (compris)"
   ]
  },
  {
   "cell_type": "markdown",
   "id": "27db2963-bbe3-4d6a-b00b-22b8de5b3355",
   "metadata": {},
   "source": [
    "## Exercice 3\n",
    "\n",
    "**Problème** : on aimerait écrire un minuteur. Ce minuteur commence à la variable entière `duree` (nombre de secondes) et s'arrête à zéro. Attention, si l'utilisateur appuie sur un touche, le minuteur s'arrête et le programme s'arrête.  \n",
    "\n",
    "(Les instructions Python pour implémenter ce programme dépassent le cadre de ce cours. Restez-en à l'algorigramme)"
   ]
  },
  {
   "cell_type": "code",
   "execution_count": null,
   "id": "8b42bdce-4180-4351-bf3b-543e3e796067",
   "metadata": {},
   "outputs": [],
   "source": []
  }
 ],
 "metadata": {
  "kernelspec": {
   "display_name": "Python 3 (ipykernel)",
   "language": "python",
   "name": "python3"
  },
  "language_info": {
   "codemirror_mode": {
    "name": "ipython",
    "version": 3
   },
   "file_extension": ".py",
   "mimetype": "text/x-python",
   "name": "python",
   "nbconvert_exporter": "python",
   "pygments_lexer": "ipython3",
   "version": "3.9.2"
  }
 },
 "nbformat": 4,
 "nbformat_minor": 5
}
