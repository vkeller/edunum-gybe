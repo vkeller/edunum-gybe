{
 "cells": [
  {
   "cell_type": "markdown",
   "id": "7d8706d0-c4a9-4893-8126-b21ba9ef5502",
   "metadata": {},
   "source": [
    "![stgallenbahnhofsuhr](images/stgallen.jpg \"Gare de St-Gallen\")\n",
    "\n",
    "# Cours 9 : L'horologe de la gare de St-Gallen\n",
    "\n",
    "## Objectifs\n",
    "\n",
    "- Mobiliser les concepts de représentation numérique de l'information\n",
    "- Mobiliser la notation binaire\n",
    "- Appliquer un organigramme\n",
    "\n",
    "[Référence](https://www.bahnhofsuhrsg.ch/)"
   ]
  },
  {
   "cell_type": "markdown",
   "id": "8ce4f317-b855-4667-9df8-7d7e8d21391d",
   "metadata": {},
   "source": [
    "## Introduction\n",
    "\n",
    "L'horologe de la gare de St-Gall a été mise en service en 2018. \n",
    "\n",
    "De prime abord, il est très difficile de comprendre que c'est une horloge"
   ]
  },
  {
   "cell_type": "markdown",
   "id": "6033e6ec-d490-4dbc-a0d2-052c7b04e5dc",
   "metadata": {},
   "source": [
    "## Exercice 1\n",
    "\n",
    "Quelle heure est-il ?"
   ]
  },
  {
   "cell_type": "markdown",
   "id": "6ed7e933-cc6a-42d4-9460-6d1fbe488537",
   "metadata": {},
   "source": [
    "## Exercice 2\n",
    "\n",
    "Dessinez le motif qui apparaîtra à :\n",
    "\n",
    "- 10h45 et 12 secondes\n",
    "- minuit\n",
    "- 16h15 et 1 seconde"
   ]
  },
  {
   "cell_type": "markdown",
   "id": "85299a61-9750-4f85-824e-e1518e27ce16",
   "metadata": {},
   "source": [
    "## Exercice 3\n",
    "\n",
    "- Montrez que le nombre maximum de symboles allumés est de 14\n",
    "- Combien de fois cela arrive-t-il dans une journée ?"
   ]
  },
  {
   "cell_type": "markdown",
   "id": "cf3120c1-ff58-48e0-bb46-a344d4bc61f8",
   "metadata": {},
   "source": [
    "## Exercice 4\n",
    "\n",
    "Dessinez l'algorigramme qui prend en entrée l'heure écrite sous forme \"standard\" (ex: 13h45 et 12 secondes) et qui renvoie la valeur écrite sur l'horologe de la gare de St-Gall"
   ]
  },
  {
   "cell_type": "code",
   "execution_count": null,
   "id": "25473bd8-a1fe-4fa6-b6b7-6497fb9956e3",
   "metadata": {},
   "outputs": [],
   "source": []
  }
 ],
 "metadata": {
  "kernelspec": {
   "display_name": "Python 3 (ipykernel)",
   "language": "python",
   "name": "python3"
  },
  "language_info": {
   "codemirror_mode": {
    "name": "ipython",
    "version": 3
   },
   "file_extension": ".py",
   "mimetype": "text/x-python",
   "name": "python",
   "nbconvert_exporter": "python",
   "pygments_lexer": "ipython3",
   "version": "3.9.2"
  }
 },
 "nbformat": 4,
 "nbformat_minor": 5
}
