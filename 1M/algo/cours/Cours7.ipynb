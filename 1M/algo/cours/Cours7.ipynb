{
 "cells": [
  {
   "cell_type": "markdown",
   "id": "96f9a296-9564-4fc4-93f5-568f2f14f12d",
   "metadata": {},
   "source": [
    "![python](images/python3.jpg \"Programming Pythjon\")\n",
    "\n",
    "# Cours 7 : Des algorigrammes à leur programmation\n",
    "\n",
    "## Objectifs\n",
    "\n",
    "- Être capable de programmer un algorigramme simple en Python 3"
   ]
  },
  {
   "cell_type": "markdown",
   "id": "7d49b97d-149c-4696-b10e-c3ed9a23adc2",
   "metadata": {},
   "source": [
    "## Les structures de contrôle (CONDITIONS)\n",
    "\n"
   ]
  },
  {
   "cell_type": "markdown",
   "id": "eb91ba18-e00e-43a4-9c31-560332b0cc66",
   "metadata": {},
   "source": [
    "![condition](images/condition.jpg \"if then else\")\n",
    "\n",
    "En Python, une structure de contrôle, une condition s'écrit à l'aide des mots-clefs `if`,`else` :\n",
    "\n",
    "```\n",
    "if (condition == True) :\n",
    "    instruction 1\n",
    "else:\n",
    "    instruction 2\n",
    "```\n"
   ]
  },
  {
   "cell_type": "code",
   "execution_count": 1,
   "id": "33b894d9-3dcb-4913-bdf6-57d166262386",
   "metadata": {},
   "outputs": [
    {
     "name": "stdout",
     "output_type": "stream",
     "text": [
      "Vous êtes majeur\n"
     ]
    }
   ],
   "source": [
    "age = 18\n",
    "\n",
    "if (age < 18):\n",
    "    print('Vous êtes mineur')\n",
    "else:\n",
    "    print('Vous êtes majeur')"
   ]
  },
  {
   "cell_type": "markdown",
   "id": "e196c8f3-fb89-4606-b78d-b2a86a3cec9d",
   "metadata": {},
   "source": [
    "## Les structures répétitives (BOUCLES)\n",
    "\n",
    "Une **boucle** en programmation est une **structure de contrôle** permettant de répéter une ou plusieurs instructions sur la base d'une **condition booléenne** "
   ]
  },
  {
   "cell_type": "markdown",
   "id": "ce0b4523-ce40-49c5-a43d-cef5d77582ad",
   "metadata": {},
   "source": [
    "### Le nombre de répétitions est connnu : **FOR**\n",
    "\n",
    "![boucle_for](images/boucle_for.jpg \"for\")\n",
    "\n",
    "Une telle boucle se déclare en Python en utilisant le mot-clef `for` :\n",
    "\n",
    "```\n",
    "for index in [sequence]:\n",
    "    instruction 1\n",
    "```\n",
    "\n",
    "La `sequence` représente une suite d'index. Elle se déclare en Python à l'aide du mot-clef `range()` qui est une fonction qui retourne la séquence."
   ]
  },
  {
   "cell_type": "code",
   "execution_count": 7,
   "id": "83930647-91d3-47d7-b7e0-cd813b21aecd",
   "metadata": {},
   "outputs": [
    {
     "name": "stdout",
     "output_type": "stream",
     "text": [
      "0\n",
      "1\n",
      "2\n",
      "3\n",
      "4\n",
      "5\n",
      "6\n",
      "7\n",
      "8\n",
      "9\n"
     ]
    }
   ],
   "source": [
    "BorneInf = 0\n",
    "BorneSup = 10\n",
    "for i in range(BorneInf,BorneSup):\n",
    "    print(i)"
   ]
  },
  {
   "cell_type": "markdown",
   "id": "d81b7705-6f31-4367-b8c3-71c7be45c348",
   "metadata": {},
   "source": [
    "#### Ordre décroissant dans la séquence **range()**\n",
    "\n",
    "Il est évident qu'une boucle dont le nombre de répétitions est connue peut se faire dans l'ordre décroissant. \n",
    "\n",
    "![forDecroissant](images/boucle_for_decroissant.jpg \"for decroissant\")"
   ]
  },
  {
   "cell_type": "code",
   "execution_count": 8,
   "id": "be84028b-4de5-497f-972e-c55e26257f07",
   "metadata": {},
   "outputs": [
    {
     "name": "stdout",
     "output_type": "stream",
     "text": [
      "10\n",
      "9\n",
      "8\n",
      "7\n",
      "6\n",
      "5\n",
      "4\n",
      "3\n",
      "2\n",
      "1\n"
     ]
    }
   ],
   "source": [
    "BorneInf = 10\n",
    "BorneSup = 0\n",
    "for i in range(BorneInf,BorneSup,-1):\n",
    "    print(i)"
   ]
  },
  {
   "cell_type": "markdown",
   "id": "de2063b2-5032-49fa-9f33-d0a0fe41c666",
   "metadata": {},
   "source": [
    "### Le nombre de répétitions n'est pas connu : **WHILE**\n",
    "\n",
    "Il existe deux cas différents lorsque le nombre de répétitions n'est pas connu :\n",
    "\n",
    "1. répéter un ensemble d'instructions tant que la condition est vraie\n",
    "1. tant qu'une condition est vraie, alors on répète un ensemble d'instructions\n",
    "\n",
    "Les deux sont très proches. La petite différence est que la seconde **s'exécute au moins une fois**"
   ]
  },
  {
   "cell_type": "markdown",
   "id": "92c73151-cfcd-4535-919a-e58d369cc81c",
   "metadata": {},
   "source": [
    "### Répéter ... jusqu'à ...\n",
    "\n",
    "![while](images/while.jpg \"Boucle while\")\n",
    "\n",
    "en Python, une boucle de répétition tant que s'écrit avec le mot-clef `while` :\n",
    "\n",
    "```\n",
    "while condition :\n",
    "    instruction 1\n",
    "```"
   ]
  },
  {
   "cell_type": "code",
   "execution_count": 12,
   "id": "0169681e-c8a7-4ee3-8935-e7a31dab84a3",
   "metadata": {},
   "outputs": [
    {
     "name": "stdout",
     "output_type": "stream",
     "text": [
      "10\n",
      "9\n",
      "8\n",
      "7\n",
      "6\n",
      "5\n",
      "4\n",
      "3\n",
      "2\n",
      "1\n"
     ]
    }
   ],
   "source": [
    "i = 10\n",
    "while (i > 0) :\n",
    "    print(i)\n",
    "    i = i - 1"
   ]
  },
  {
   "cell_type": "markdown",
   "id": "30554825-3640-425a-8daf-3364a333e584",
   "metadata": {},
   "source": [
    "### tant que ... faire ... fin tant que\n",
    "\n",
    "En Python 3, il n'existe pas de construction formelle de ce type de boucle (ce qui est le cas dans d'autres langages). Il est par contre relativement aisé de la simuler aussi avec une boucle while.\n",
    "\n",
    "![while2](images/while2.jpg \"tant que\")\n",
    "\n",
    "```\n",
    "i = 10\n",
    "while True :\n",
    "    print(i)\n",
    "    i = i + 1\n",
    "    if (i == 2):\n",
    "        break\n",
    "```\n",
    "\n"
   ]
  },
  {
   "cell_type": "markdown",
   "id": "89658d8e-168f-4367-adbe-04ef0d963939",
   "metadata": {},
   "source": [
    "### ATTENTION : Boucles infinies\n",
    "\n",
    "Il est tout à fait possible d'écrire une boucle infinie. Cela signifie que le programme n'en sortira jamais et ne se terminera jamais. \n",
    "\n",
    "```\n",
    "while True:\n",
    "    instruction 1\n",
    "    instruction 2\n",
    "    etc..\n",
    "```\n",
    "\n",
    "Le seul moyen de quitter une boucle infinie est de **combiner une boucle while avec une condition de sortie à l'intérieur de la boucle** à l'aide du mot-clef `break`"
   ]
  },
  {
   "cell_type": "code",
   "execution_count": 13,
   "id": "c1a98b18-183a-4c70-b098-c74e72b5b8eb",
   "metadata": {},
   "outputs": [
    {
     "name": "stdout",
     "output_type": "stream",
     "text": [
      "1\n",
      "2\n",
      "3\n",
      "4\n",
      "5\n"
     ]
    }
   ],
   "source": [
    "x = 0\n",
    "while (x < 10):\n",
    "    x = x + 1\n",
    "    print(x)\n",
    "    if (x == 5) :\n",
    "        break\n",
    "        "
   ]
  },
  {
   "cell_type": "markdown",
   "id": "0c6adbbb-a3b9-4d04-b047-ddb7aa7c54c9",
   "metadata": {},
   "source": [
    "## Exercices\n",
    "\n",
    "Dans les algorithmes suivants, il vous est demandé de \n",
    "\n",
    "- dessiner l'algorigramme\n",
    "- écrire le code Python\n",
    "\n",
    "### Algorithme 1 : le four de cuisine\n",
    "\n",
    "Un four de cuisine possède un thermostat allant de 1 à 6. Les températures correspondantes sont les suivantes :\n",
    "\n",
    "| **Thermostat**  | 1  | 2  | 3  | 4  | 5  | 6  |\n",
    "|---|---|---|---|---|---|---|\n",
    "| **Température**  | 30°C  | 60°C  | 90°C  | 120°C  | 150°C  | 180°C  |\n",
    "\n",
    "La température du four augmente de 10 °C chaque minute.\n",
    "\n",
    "On aimerait pouvoir connaître le temps de préchauffage du four avant de pouvoir mettre sa pizza.\n",
    "\n",
    "### Algorithme 2 : le feu de signalisation\n",
    "\n",
    "Un feu de signalisation placé à un carrefour suit toujours le même cycle :\n",
    "\n",
    "1. Feu vert allumé, feu orange éteint, feu rouge éteint : **20 secondes**\n",
    "1. Feu vert éteint, feu orange allumé, feu rouge éteint : **5 secondes**\n",
    "1. Feu vert éteint, feu orange éteint, feu rouge allumé : **20 secondes**\n",
    "\n",
    "### Algorithme 3 : la piscine\n",
    "\n",
    "![piscine](https://vkeller.github.io/modulo-gybe/_images/piscine.jpg \"Piscine\")\n"
   ]
  },
  {
   "cell_type": "code",
   "execution_count": null,
   "id": "36f57887-6828-4c36-9f29-9df429a04800",
   "metadata": {},
   "outputs": [],
   "source": []
  }
 ],
 "metadata": {
  "kernelspec": {
   "display_name": "Python 3 (ipykernel)",
   "language": "python",
   "name": "python3"
  },
  "language_info": {
   "codemirror_mode": {
    "name": "ipython",
    "version": 3
   },
   "file_extension": ".py",
   "mimetype": "text/x-python",
   "name": "python",
   "nbconvert_exporter": "python",
   "pygments_lexer": "ipython3",
   "version": "3.9.2"
  }
 },
 "nbformat": 4,
 "nbformat_minor": 5
}
