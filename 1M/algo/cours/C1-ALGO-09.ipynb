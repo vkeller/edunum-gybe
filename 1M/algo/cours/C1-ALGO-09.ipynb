{
 "cells": [
  {
   "cell_type": "markdown",
   "id": "7d8706d0-c4a9-4893-8126-b21ba9ef5502",
   "metadata": {},
   "source": [
    "![stgallenbahnhofsuhr](images/stgallen.jpg \"Gare de St-Gallen\")\n",
    "\n",
    "# C1-ALGO-09 : L'horloge de la gare de St-Gallen"
   ]
  },
  {
   "cell_type": "markdown",
   "id": "9db0a2c8-8915-4bb7-bf61-74c620aefdf9",
   "metadata": {},
   "source": [
    "## Objectifs\n",
    "\n",
    "- Mobiliser les concepts de représentation numérique de l'information\n",
    "- Mobiliser la notation binaire\n",
    "- Appliquer un organigramme\n",
    "\n",
    "[Référence](https://www.bahnhofsuhrsg.ch/)"
   ]
  },
  {
   "cell_type": "markdown",
   "id": "8ce4f317-b855-4667-9df8-7d7e8d21391d",
   "metadata": {},
   "source": [
    "## Introduction\n",
    "\n",
    "L'horologe de la gare de St-Gall a été mise en service en 2018. \n",
    "\n",
    "De prime abord, il est très difficile de comprendre que c'est une horloge"
   ]
  },
  {
   "cell_type": "markdown",
   "id": "6033e6ec-d490-4dbc-a0d2-052c7b04e5dc",
   "metadata": {},
   "source": [
    "## Exercice 1\n",
    "\n",
    "Quelle heure est-il ?"
   ]
  },
  {
   "cell_type": "markdown",
   "id": "6ed7e933-cc6a-42d4-9460-6d1fbe488537",
   "metadata": {},
   "source": [
    "## Exercice 2\n",
    "\n",
    "Dessinez le motif qui apparaîtra à :\n",
    "\n",
    "- 10h45 et 12 secondes\n",
    "- minuit\n",
    "- 16h15 et 1 seconde"
   ]
  },
  {
   "cell_type": "markdown",
   "id": "85299a61-9750-4f85-824e-e1518e27ce16",
   "metadata": {},
   "source": [
    "## Exercice 3\n",
    "\n",
    "- Montrez que le nombre maximum de symboles allumés est de 14\n",
    "- Combien de fois cela arrive-t-il dans une journée ?"
   ]
  },
  {
   "cell_type": "markdown",
   "id": "cf3120c1-ff58-48e0-bb46-a344d4bc61f8",
   "metadata": {},
   "source": [
    "## Exercice 4\n",
    "\n",
    "Dessinez l'algorigramme qui prend en entrée l'heure écrite sous forme \"standard\" (ex: 13h45 et 12 secondes) et qui renvoie la valeur écrite sur l'horloge de la gare de St-Gall\n",
    "\n",
    "![horloge-st-gall-algo](images/horloge-st-gall.png \"Algorigramme pour les heures\")"
   ]
  },
  {
   "cell_type": "markdown",
   "id": "8825bca6-5d7a-430f-866a-8e0c86812a50",
   "metadata": {},
   "source": [
    "## (Pour aller beaucoup plus loin)\n",
    "\n",
    "Une fois l'algorigramme dessiné, on peut le coder en Python. Voici le code pour la conversion des heures en binaire (cela fonctionne aussi pour les minutes et les secondes mais `p = 5`)"
   ]
  },
  {
   "cell_type": "code",
   "execution_count": 2,
   "id": "5b0e1655-77c6-4ddd-8610-42a463899e33",
   "metadata": {},
   "outputs": [
    {
     "name": "stdin",
     "output_type": "stream",
     "text": [
      "heure    :  17\n"
     ]
    },
    {
     "name": "stdout",
     "output_type": "stream",
     "text": [
      "Lumière 4 ON\n",
      "Lumière 3 OFF\n",
      "Lumière 2 OFF\n",
      "Lumière 1 OFF\n",
      "Lumière 0 ON\n"
     ]
    }
   ],
   "source": [
    "h    = int(input(\"heure    : \"))\n",
    "p = 4\n",
    "while p >= 0 :\n",
    "    if h - 2**p >= 0:\n",
    "        print(\"Lumière\",p,\"ON\")\n",
    "        h = h - 2**p\n",
    "    else:\n",
    "        print(\"Lumière\",p,\"OFF\")\n",
    "    p = p - 1"
   ]
  },
  {
   "cell_type": "markdown",
   "id": "7ed14242-2ef6-455a-b124-5cf12edcde1e",
   "metadata": {},
   "source": [
    "Il est finalement possible d'utiliser la tortue pour dessiner les différents éléments et obtenir quelque chose qui simule complètement l'horloge de la gare de St-Gall (mais il faudra attendre la fin de la deuxième année pour acquérir toutes les compétences en programmation pour le faire)\n",
    "\n",
    "![st-gall-tortue](images/st-gall-tortue.png \"Simulation turtle de l'horloge de la gare de St-Gall\")"
   ]
  },
  {
   "cell_type": "code",
   "execution_count": null,
   "id": "0df3706e-64d5-4ee0-8612-b44509c93acc",
   "metadata": {},
   "outputs": [],
   "source": []
  }
 ],
 "metadata": {
  "kernelspec": {
   "display_name": "Python 3 (ipykernel)",
   "language": "python",
   "name": "python3"
  },
  "language_info": {
   "codemirror_mode": {
    "name": "ipython",
    "version": 3
   },
   "file_extension": ".py",
   "mimetype": "text/x-python",
   "name": "python",
   "nbconvert_exporter": "python",
   "pygments_lexer": "ipython3",
   "version": "3.9.2"
  }
 },
 "nbformat": 4,
 "nbformat_minor": 5
}
