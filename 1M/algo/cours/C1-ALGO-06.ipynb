{
 "cells": [
  {
   "cell_type": "markdown",
   "id": "94a9783c-0c69-4cd5-9a1f-632797b2cf81",
   "metadata": {},
   "source": [
    "![darwin](images/darwin.jpg \"Charles Darwin\")\n",
    "\n",
    "# C1-ALGO-06 : Algorithmes évolutionnistes"
   ]
  },
  {
   "cell_type": "markdown",
   "id": "4a966233-cc55-4b1b-b86e-4ce63beb406a",
   "metadata": {},
   "source": [
    "## Objectifs pédagogiques\n",
    "\n",
    "- Appréhender certains algorithmes évolutionnistes\n",
    "- Appliquer un algorithme génétique à un problème"
   ]
  },
  {
   "cell_type": "markdown",
   "id": "82bc9b31-e721-4494-90d9-f3521b5914fa",
   "metadata": {},
   "source": [
    "## Définition \n",
    "\n",
    "Les algorithmes évolutionnistes sont une classe d'algorithmes qui s'inspirent de la **théorie de l'évolution** de Charles Darwin. Cette classe d'algorithmes utilisent des processus qui imitent **le vivant**, notamment les trois grands mécanismes des êtres vivants :\n",
    "\n",
    "1. la reproduction\n",
    "1. la mutation\n",
    "1. la recombinaison\n",
    "\n",
    "Selon la théorie de l'évolution, sur une population donnée d'individus tous différents, ceux qui ont unt chance de transmettre leurs caractéristiques sont ceux qui sont les mieux adaptés à leur environnement. \n",
    "\n",
    "En algorithmique évolutionniste, un *individu* est une **solution possible**.\n",
    "\n",
    "La très grande difficulté de ces algorithmes est la capacité que doit avoir le processus pour **évaluer la qualité** d'une solution. Cela se fait grâce à une **fonction d'objectif** (*fitness function* en anglais)"
   ]
  },
  {
   "cell_type": "markdown",
   "id": "6a616965-46e9-4e88-98e4-124d0a2c7a4c",
   "metadata": {},
   "source": [
    "## Algorithmes évolutionnistes\n",
    "\n",
    "il existe plusieurs classes d'algorithmes évolutionnistes\n",
    "\n",
    "1. les stratégies d'évolution\n",
    "1. les algorithmes génétiques"
   ]
  },
  {
   "cell_type": "markdown",
   "id": "8af3ce1c-3a98-44aa-a1b2-3eac029c28b2",
   "metadata": {},
   "source": [
    "## Algorithmes génétiques\n",
    "\n",
    "Les algorithmes génétiques s'inspirent des mécanismes de la **génétique** et particulièrement ceux liés à l'Acide désoxyribonucléique (**ADN**). La théorie de l'évolution considère que la majorité des caractéristiques d'un être vivant est contenue dans la double hélice de l'ADN. \n",
    "\n",
    "![ADN](images/ADN.png \"ADN\")\n",
    "\n",
    "Voici un algorigramme d'un algorithme génétique :\n",
    "\n",
    "![algogen](images/algorigramme_genetique.png)"
   ]
  },
  {
   "cell_type": "markdown",
   "id": "966f1643-d04d-41d0-8002-c8a66c8751fc",
   "metadata": {},
   "source": [
    "## Algorithme génétique simple\n",
    "\n",
    "Dans cet exemple, nous souhaitons trouver la chaîne de bits ayant le plus de `1` pour une longueur fixe donnée."
   ]
  },
  {
   "cell_type": "markdown",
   "id": "e8ebae5f-2929-4b39-8c86-9ba5546284fb",
   "metadata": {},
   "source": [
    "## Références\n",
    "\n",
    "- Charles Darwin, *On the Origin of Species by Means of Natural Selection}*, 1859 : {cite}`darwin1859`\n",
    "- David Goldberg, *Genetic Algorithms in Search, Optimization, and Machine Learning* , 1989 : {cite}`goldberg89`"
   ]
  },
  {
   "cell_type": "code",
   "execution_count": null,
   "id": "f213f437-c75a-44bf-8319-84c695f33a7a",
   "metadata": {},
   "outputs": [],
   "source": []
  }
 ],
 "metadata": {
  "kernelspec": {
   "display_name": "Python 3 (ipykernel)",
   "language": "python",
   "name": "python3"
  },
  "language_info": {
   "codemirror_mode": {
    "name": "ipython",
    "version": 3
   },
   "file_extension": ".py",
   "mimetype": "text/x-python",
   "name": "python",
   "nbconvert_exporter": "python",
   "pygments_lexer": "ipython3",
   "version": "3.9.2"
  }
 },
 "nbformat": 4,
 "nbformat_minor": 5
}
