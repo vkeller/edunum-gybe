{
 "cells": [
  {
   "cell_type": "markdown",
   "id": "18a031d0-95be-4ca7-bcc4-61945cbd42b1",
   "metadata": {},
   "source": [
    "![search](images/aiguille.jpg \"search\")\n",
    "\n",
    "# C1-ALGO-05.01 Algorithmes classiques (Recherche)"
   ]
  },
  {
   "cell_type": "markdown",
   "id": "90a512fd-8461-4fd5-b007-725554424b10",
   "metadata": {},
   "source": [
    "## Algorithmes de recherche\n",
    "\n",
    "Un **algorithme de recherche** consiste à trouver une **cible** parmi une liste d'éléments. Par exemple : la liste est : `[1,4,67,34,109,69,23]` et la cible `69`. \n",
    "\n",
    "Les algorithmes de recherche peuvent se classer en deux catégories:\n",
    "\n",
    "1. Recherche dans des problèmes classiques\n",
    "1. Recherche dans des problèmes complexes\n",
    "\n",
    "S'agissant des **problèmes complexes**, les solutions dépassent le cadre de ce cours"
   ]
  },
  {
   "cell_type": "markdown",
   "id": "2b8a51dd-d7d7-4229-aefd-19f4ce61d372",
   "metadata": {
    "tags": []
   },
   "source": [
    "### Recherche séquentielle\n",
    "\n",
    "La recherche linéaire consiste à parcourir chaque élément de la liste et le comparer à la cible."
   ]
  },
  {
   "cell_type": "markdown",
   "id": "8234bce2-841a-4f52-9fb8-37efe149598c",
   "metadata": {},
   "source": [
    "### Recherche dichotomique\n",
    "\n",
    "La recherche dichotomique consiste à rechercher la cible dans la liste **triée** en divisant la liste par deux et en comparant la cible avec les deux éléments bornes des sous-listes. Si la cible est égale, l'algorithme s'arrête, sinon la recherche continue sur les moitiés de sous-listes."
   ]
  },
  {
   "cell_type": "markdown",
   "id": "51069698-0a21-4fe0-be7e-77ae828d9bc0",
   "metadata": {},
   "source": [
    "## A retenir\n",
    "\n",
    "Le **meilleur algorithme** pour rechercher une cible :\n",
    "\n",
    "- dans une liste **non triée** est d'ordre linéaire (il faut parcourir tous les éléments pour trouver la cible)\n",
    "- dans une liste **triée** est d'ordre logarithmique (on divise chaque fois par deux le nombre d'éléments pour trouver la cible)"
   ]
  },
  {
   "cell_type": "code",
   "execution_count": null,
   "id": "3a9e24fb-9bc9-4bbc-ad19-59e7b073224e",
   "metadata": {},
   "outputs": [],
   "source": []
  }
 ],
 "metadata": {
  "kernelspec": {
   "display_name": "Python 3 (ipykernel)",
   "language": "python",
   "name": "python3"
  },
  "language_info": {
   "codemirror_mode": {
    "name": "ipython",
    "version": 3
   },
   "file_extension": ".py",
   "mimetype": "text/x-python",
   "name": "python",
   "nbconvert_exporter": "python",
   "pygments_lexer": "ipython3",
   "version": "3.9.2"
  }
 },
 "nbformat": 4,
 "nbformat_minor": 5
}
