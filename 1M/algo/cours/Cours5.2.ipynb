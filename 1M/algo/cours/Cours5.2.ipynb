{
 "cells": [
  {
   "cell_type": "markdown",
   "id": "f7018a73-1875-4b4f-af33-ecfc661a34fd",
   "metadata": {},
   "source": [
    "![sort](images/tri.jpg \"sorting\")\n",
    "\n",
    "# Cours 5.2 Algorithmes classiques (Tri)\n",
    "\n",
    "## Objectifs pédagogiques :\n",
    "\n",
    "- comprendre ce qu'est le tri en algorithmique\n",
    "- connaître quelques algorithmes de tri classiques"
   ]
  },
  {
   "cell_type": "markdown",
   "id": "7f536310-5c11-41a9-b3d5-a4b2aef8f5e5",
   "metadata": {},
   "source": [
    "## Introduction\n",
    "\n",
    "L'une des classes d'algorithmes les plus courants sont ceux qui permettent de trier des objets. On utilise généralement un ordre **numérique** (du plus petit au plus grand) ou **lexicographique** (de la lettre A à la lettre Z)\n",
    "\n",
    "Les deux principales caractéristiques qui permettent de distinguer les différents algorithmes de tri sont **la complexité temporelle** (*combien de temps faut-il pour trier une liste ?*) et la **complexité spatiale** (*combien de mémoire ai-je besoin pour trier une liste ?*)"
   ]
  },
  {
   "cell_type": "markdown",
   "id": "fbafd950-c5a8-4bc8-980d-2b5feab17e7e",
   "metadata": {},
   "source": [
    "## Exemple introductif\n",
    "\n",
    "Voici une liste de nombres entier qu'il faut trier du plus petit au plus grand :\n",
    "\n",
    "`[23,45,14,9,245,56,81,11,6]`\n",
    "\n",
    "Décrivez votre méthode (votre algorithme) à l'aide d'un algorigramme"
   ]
  },
  {
   "cell_type": "markdown",
   "id": "889bf6cc-cf14-4a2c-9f9b-6408c46bc026",
   "metadata": {},
   "source": [
    "## Exemple introductif 2\n",
    "\n",
    "Voici une liste de mot qu'il s'agit de trier comme un dictionnaire:\n",
    "\n",
    "```\n",
    "zoologie\n",
    "alphabet\n",
    "romain\n",
    "fusain\n",
    "wagon\n",
    "locomotive\n",
    "largeur\n",
    "romantique\n",
    "fusée\n",
    "```\n",
    "\n",
    "Décrivez votre méthode (votre algorithme) à l'aide d'un algorigramme"
   ]
  },
  {
   "cell_type": "markdown",
   "id": "44e0a67d-04c5-4b31-83ba-0427fa90671e",
   "metadata": {},
   "source": [
    "## Tri par sélection\n",
    "\n",
    "C'est la méthode la plus naïve. On parcourt la liste de `n` élément, on cible **le plus grand** que l'on place en dernière position. Puis on parcourt la liste de `n-1` éléments, on cible **le plus grand restant** que l'on place en avant-dernière position et ainsi de suite."
   ]
  },
  {
   "cell_type": "code",
   "execution_count": null,
   "id": "cf9b6b0e-8e92-4947-b95d-30efcebee12e",
   "metadata": {},
   "outputs": [],
   "source": []
  }
 ],
 "metadata": {
  "kernelspec": {
   "display_name": "Python 3 (ipykernel)",
   "language": "python",
   "name": "python3"
  },
  "language_info": {
   "codemirror_mode": {
    "name": "ipython",
    "version": 3
   },
   "file_extension": ".py",
   "mimetype": "text/x-python",
   "name": "python",
   "nbconvert_exporter": "python",
   "pygments_lexer": "ipython3",
   "version": "3.9.2"
  }
 },
 "nbformat": 4,
 "nbformat_minor": 5
}
