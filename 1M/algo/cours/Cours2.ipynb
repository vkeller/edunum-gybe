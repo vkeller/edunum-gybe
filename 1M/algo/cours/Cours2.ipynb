{
 "cells": [
  {
   "cell_type": "markdown",
   "id": "7b76ba90-e8ee-48f0-ad25-e651ee2aa816",
   "metadata": {},
   "source": [
    "# Cours 2 : Des algorigrammes aux algorithmes"
   ]
  },
  {
   "cell_type": "markdown",
   "id": "e70ce9c7-fe65-4af1-9856-06e3b4572720",
   "metadata": {},
   "source": [
    "## Objectifs pédagogiques\n",
    "\n",
    "- déchiffrer un algorigramme et en déduire l'algorithme\n",
    "- dessiner un algorigramme à partir d'un algorithme simple"
   ]
  },
  {
   "cell_type": "markdown",
   "id": "d34e0119-f670-4775-ada5-c9aba4f1682a",
   "metadata": {},
   "source": [
    "## Doit-on être bon en maths pour être bon en algorithmique (et en programmation) ?\n",
    "\n",
    "**NON**. \n",
    "\n",
    "Et encore **NON** !\n",
    "\n",
    "Les compétences requises pour faire de l'algorithmique sont :\n",
    "\n",
    "1. Savoir expliquer : comment arriver à un résultat **sans la moindre ambigüité**\n",
    "1. Savoir formaliser son raisonnement\n",
    "1. Utiliser un langage simple (qu'il soit visuel, en langue française ou dans une autre langue, ou mathématique)\n",
    "1. Savoir concevoir et écrire (ou dessiner) la **séquence d'instructions qui décrit comment résoudre le problème**"
   ]
  },
  {
   "cell_type": "markdown",
   "id": "ff361ed6-ab48-431b-9a66-97b811c026fc",
   "metadata": {},
   "source": [
    "## Exercice 1 : construire des algorigrammes\n",
    "\n",
    "Voici quelques exemples d'algorithmes. Ecrivez l'algorigramme correspondant\n",
    "\n",
    "### Demande de rançon\n",
    "\n",
    "![rancon](images/rancon.jpg \"Demande de rançon\")\n",
    "\n",
    "### Donner son chemin à un touriste\n",
    "\n",
    "Comment expliquer à un touriste de passage comment aller de la Place Saint-François à la Cathédrale de Lausanne ?\n",
    "\n",
    "![carte](images/carte-lausanne.png \"Carte de Lausanne\")\n",
    "\n",
    "### Monter un meuble IKEA\n",
    "\n",
    "Quelles sont les étapes pour construire la célèbre étagère *Billy* du géeant suédois ?\n",
    "\n",
    "![IKEA](images/IKEA.jpg \"IKEA\")"
   ]
  },
  {
   "cell_type": "markdown",
   "id": "5e03c228-2a40-4545-9792-e0c66cdf2859",
   "metadata": {},
   "source": [
    "## Exercice 2 (plus difficile)\n",
    "\n",
    "Vous avez emprunté 100 CHF à une amie. Celle-ci vous demande de vous rembourser 10 CHF par mois jusqu'à extinction de la dette. Dessinez l'algorigramme"
   ]
  },
  {
   "cell_type": "markdown",
   "id": "6286795f-fe6a-4f2d-8538-469be76a41f7",
   "metadata": {},
   "source": [
    "## Exercice 3 (encore plus difficile)\n",
    "\n",
    "Reprenez la donnée de l'exercice 2. L'emprunt à votre amie n'est plus de 100 CHF, ni de 10 CHF de remboursement par mois, mais doit pouvoir être précisé à l'entrée de l'algorithme."
   ]
  },
  {
   "cell_type": "markdown",
   "id": "152d2d4f-8e9f-4b05-adf3-80fdea7e60ef",
   "metadata": {},
   "source": [
    "## Les 4 briques des algorithmes\n",
    "\n",
    "Tous les algorithmes existants sont basés sur 4 briques :\n",
    "\n",
    "1. La lecture et l'écriture (communication entre l'utilisateur et l'algorithme)\n",
    "1. L'affectation de variables\n",
    "1. Les tests\n",
    "1. Les boucles"
   ]
  },
  {
   "cell_type": "markdown",
   "id": "187c8a1d-8005-469f-94d1-107515dfbbe9",
   "metadata": {},
   "source": [
    "## Définition : algorithme récursif\n",
    "\n",
    "Un **algorithme récursif** est un algorithme qui fait appel à lui-même. En d'autres termes, l'algorithme résoud un problème en calculant des problèmes plus petits du même problème."
   ]
  },
  {
   "cell_type": "markdown",
   "id": "165331f5-9c40-4f35-95a9-cd7421d1d8df",
   "metadata": {
    "tags": []
   },
   "source": [
    "## Exercice 5 (un peu de maths)\n",
    "\n",
    "Dessinez l'algorigramme qui calcule la **suite de Fibonacci** définie par :\n",
    "\n",
    "1. $Fib_0 = 0$\n",
    "1. $Fib_1 = 1$\n",
    "1. $Fib_n = F_{n-1} + Fib_{n-2}$\n",
    "\n",
    "![fibo](images/fibo.png \"Fibonacci\")\n"
   ]
  },
  {
   "cell_type": "markdown",
   "id": "31c1e175-704b-4070-a4af-6bc6e2884c28",
   "metadata": {},
   "source": [
    "## Conjecture de Syracuse\n",
    "\n",
    "En mathématiques, une **conjecture** est un énoncé dont il n'existe pas de **démonstration**. Celle de Syracuse a fait beaucoup parler d'elle tant elle est **simplissime** dans sa formulation mais que personne n'a pu la démontrer depuis sa formulation en 1928.\n",
    "\n",
    "La conjecture de Syracuse fait appel à la récursivité.\n",
    "\n",
    "La conjecture se définit ainsi :\n",
    "\n",
    "1. ENTREE : n\n",
    "2. SI n est PAIR, alors n = n / 2\n",
    "3. SINON n = 3 * n + 1\n",
    "4. La suite se termine lorsqu'on a atteint n == 1 et boucle sur la suite (1,4,2,1,4,2,...)\n",
    "\n",
    "\n",
    "![syracuse](images/syracuse.png \"Conjecture de Syracuse\")"
   ]
  },
  {
   "cell_type": "code",
   "execution_count": null,
   "id": "190d0423-4284-42df-a439-c596fb223583",
   "metadata": {},
   "outputs": [],
   "source": []
  }
 ],
 "metadata": {
  "kernelspec": {
   "display_name": "Python 3 (ipykernel)",
   "language": "python",
   "name": "python3"
  },
  "language_info": {
   "codemirror_mode": {
    "name": "ipython",
    "version": 3
   },
   "file_extension": ".py",
   "mimetype": "text/x-python",
   "name": "python",
   "nbconvert_exporter": "python",
   "pygments_lexer": "ipython3",
   "version": "3.9.2"
  }
 },
 "nbformat": 4,
 "nbformat_minor": 5
}
