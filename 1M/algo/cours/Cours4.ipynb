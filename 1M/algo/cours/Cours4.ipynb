{
 "cells": [
  {
   "cell_type": "markdown",
   "id": "36725258-693b-4dd9-8294-3f0dc4cd2d6c",
   "metadata": {},
   "source": [
    "![complexite](images/complexite.png \"Complexite Big O\")\n",
    "\n",
    "# Cours 4 : Complexité dans les algorithmes"
   ]
  },
  {
   "cell_type": "markdown",
   "id": "c0ccf402-0e3e-4604-8c40-20e00d3beda5",
   "metadata": {},
   "source": [
    "## Objectifs\n",
    "\n",
    "- comprendre la complexité en temps et en espace des algorithmes\n",
    "- comprendre et appliquer la notation \"Big O\" sur un certain nombre d'algorithmes\n",
    "- connaître les différentes classes de complexité des algorithmes"
   ]
  },
  {
   "cell_type": "markdown",
   "id": "01776b68-b67d-424e-ab92-54e33562d928",
   "metadata": {},
   "source": [
    "## Définitions : Complexité en temps et en espace d'un algorithme\n",
    "\n",
    "La **complexité** d'un algorithme représente la quantité de **ressources nécessaires** pour exécuter l'ensemble des instructions en fonction de l'entrée fournie. Cette **complexité** se donne en **temps** ou en **espace** (quantité de mémoire nécessaire)\n",
    "\n",
    "### Complexité temporelle\n",
    "\n",
    "\n",
    "\n",
    "### Complexité spatiale\n",
    "\n",
    "### Meilleur et pire des cas : ordre de grandeur asymptotique"
   ]
  },
  {
   "cell_type": "markdown",
   "id": "447204e0-9cf3-4452-ab80-9c8c6d8fb699",
   "metadata": {},
   "source": [
    "## Notation : \"Grand O\" (\"Big O\" en anglais)"
   ]
  },
  {
   "cell_type": "markdown",
   "id": "ef338c98-91d3-4314-9830-9c3bd803a8d2",
   "metadata": {},
   "source": [
    "# Classe de complexité des algorithmes\n",
    "\n",
    "| $\\mathcal{O}{()}$ | classe |\n",
    "| :---: | :---: |\n",
    "| $\\mathcal{O}(1)$  | constante |\n",
    "| $\\mathcal{log(n)}(1)$  | logarithmique |\n",
    "| $\\mathcal{O}(n)$  | linéaire |\n",
    "| $\\mathcal{O}(n \\cdot log(n))$  | quasi-linéaire |\n",
    "| $\\mathcal{O}(n^2)$  | quadratique |\n",
    "| $\\mathcal{O}(n^3)$  | cubique |\n",
    "| $\\mathcal{O}(2^n)$  | exponentielle |\n",
    "| $\\mathcal{O}(n!)$  | factorielle |\n",
    "\n"
   ]
  },
  {
   "cell_type": "code",
   "execution_count": null,
   "id": "8c9a2e66-febd-4362-afbf-c2c3272d2f1f",
   "metadata": {},
   "outputs": [],
   "source": []
  }
 ],
 "metadata": {
  "kernelspec": {
   "display_name": "Python 3 (ipykernel)",
   "language": "python",
   "name": "python3"
  },
  "language_info": {
   "codemirror_mode": {
    "name": "ipython",
    "version": 3
   },
   "file_extension": ".py",
   "mimetype": "text/x-python",
   "name": "python",
   "nbconvert_exporter": "python",
   "pygments_lexer": "ipython3",
   "version": "3.9.2"
  }
 },
 "nbformat": 4,
 "nbformat_minor": 5
}
