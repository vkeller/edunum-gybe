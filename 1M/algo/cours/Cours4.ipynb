{
 "cells": [
  {
   "cell_type": "markdown",
   "id": "36725258-693b-4dd9-8294-3f0dc4cd2d6c",
   "metadata": {},
   "source": [
    "![complexite](images/complexite.png \"Complexite Big O\")\n",
    "\n",
    "# Cours 4 : Complexité dans les algorithmes"
   ]
  },
  {
   "cell_type": "markdown",
   "id": "c0ccf402-0e3e-4604-8c40-20e00d3beda5",
   "metadata": {},
   "source": [
    "## Objectifs\n",
    "\n",
    "- comprendre la complexité en temps et en espace des algorithmes\n",
    "- comprendre et appliquer la notation \"Big O\""
   ]
  },
  {
   "cell_type": "markdown",
   "id": "01776b68-b67d-424e-ab92-54e33562d928",
   "metadata": {},
   "source": [
    "## Définitions : Complexité en temps et en espace d'un algorithme\n",
    "\n",
    "### Complexité en temps\n",
    "\n",
    "### Complexité en espace\n",
    "\n"
   ]
  },
  {
   "cell_type": "markdown",
   "id": "447204e0-9cf3-4452-ab80-9c8c6d8fb699",
   "metadata": {},
   "source": [
    "## Notation : \"Big O\""
   ]
  },
  {
   "cell_type": "code",
   "execution_count": null,
   "id": "ee576113-5f9d-4efc-89e9-d3c6a7ccda43",
   "metadata": {},
   "outputs": [],
   "source": []
  }
 ],
 "metadata": {
  "kernelspec": {
   "display_name": "Python 3 (ipykernel)",
   "language": "python",
   "name": "python3"
  },
  "language_info": {
   "codemirror_mode": {
    "name": "ipython",
    "version": 3
   },
   "file_extension": ".py",
   "mimetype": "text/x-python",
   "name": "python",
   "nbconvert_exporter": "python",
   "pygments_lexer": "ipython3",
   "version": "3.9.2"
  }
 },
 "nbformat": 4,
 "nbformat_minor": 5
}
