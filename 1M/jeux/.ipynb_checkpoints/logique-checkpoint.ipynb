{
 "cells": [
  {
   "cell_type": "markdown",
   "id": "590d80cd-019e-4d04-8697-7527d975c384",
   "metadata": {},
   "source": [
    "![logique](images/logique.jpg \"logique\")\n",
    "\n",
    "# Quizz de logique"
   ]
  },
  {
   "cell_type": "markdown",
   "id": "42b8d9b0-7572-475d-b0e2-97e32a0f78b4",
   "metadata": {},
   "source": [
    "## Problème 1 : la ménagerie de Jeanne\n",
    "\n",
    "Jeanne adore les animaux, Elle en a plusieurs (plus de deux).\n",
    "\n",
    "- Tous sauf deux sont des chiens\n",
    "- Tous saux deux sont des chats\n",
    "- Tous sauf deux sont des perroquets\n",
    "\n",
    "Combien en a-t-elle ?"
   ]
  },
  {
   "cell_type": "markdown",
   "id": "2ab1f0d1-9c40-40d9-bfa6-1d7abe5f063b",
   "metadata": {},
   "source": [
    "## Problème 2 : Globe-trotteur\n",
    "\n",
    "Je reste dans mon coin et pourtant je parcours le monde\n",
    "\n",
    "Qui suis-je ?​"
   ]
  },
  {
   "cell_type": "markdown",
   "id": "62da4f56-86fd-47ce-ac41-d253e10426c4",
   "metadata": {},
   "source": [
    "## Problème 3 : La course cycliste\n",
    "\n",
    "Vous participez à une course cycliste. Vous dépassez le deuxième\n",
    "\n",
    "Vous devenez..."
   ]
  },
  {
   "cell_type": "markdown",
   "id": "0d193bbc-caee-4c86-a51a-5a36f0957939",
   "metadata": {},
   "source": [
    "## Problème 4 : Hannibal\n",
    "\n",
    "Voulant s'amuser avec sa dernière proie (vous !), Hannibal lui propose ceci : \"vous avez le droit à une seule et dernière déclaration. Si ce que vous dites et faux, je vous ferai cuire dans l'eau, en revanche, si ce que vous dites est vrai, vous serez cuit dans l'huile.\n",
    "\n",
    "Que dire si la proie c'est vous ?"
   ]
  },
  {
   "cell_type": "markdown",
   "id": "2448c2eb-848b-4b01-aa45-52867bc02589",
   "metadata": {},
   "source": [
    "## Problème 5 : L'enigme du Sud\n",
    "\n",
    "Un homme est dans une chambre ne donnant qu'au sud. Il voit passer un ours par la fenêtre.\n",
    "\n",
    "De quelle couleur est l'ours ?"
   ]
  },
  {
   "cell_type": "markdown",
   "id": "5fca1d13-6d80-49f9-9bde-c70d05fbadd6",
   "metadata": {},
   "source": [
    "## Problème 6 : Une journée en enfer\n",
    "\n",
    "Comment est-il possible, à l'aide d'une cruche de trois litre et une autre de cinq litres de mettre exactement 4 litres dans la cruche de cinq ?"
   ]
  },
  {
   "cell_type": "markdown",
   "id": "5f0a921d-3bf4-478c-b5d1-96420c0168f2",
   "metadata": {},
   "source": [
    "## Problème 7 : Le bus\n",
    "\n",
    "Dans quel sens le bus se dirige-t-il ?\n",
    "\n",
    "![bus](images/bus.jpg \"bus\")"
   ]
  },
  {
   "cell_type": "markdown",
   "id": "d392c294-698f-4c15-8865-22276524a6a1",
   "metadata": {},
   "source": [
    "## Problème 8 : Julien et ses chats\n",
    "\n",
    "Julien dit à 3 amis : \"Je peux vous dire que mon chat et noir ou gris ou blanc. Quand chacun de vous aura essayé, je vous donnerai mon avis sur vos suppositions et nous verrons qui peut en déduire la couleur\"\n",
    "\n",
    "- Le premier : \"Je parie qu'il n'est pas noir\"\n",
    "- Le second : \"Je parie qu'il est blanc ou gris\"\n",
    "- Le troisième: \"Je parie qu'il est blanc\"\n",
    "\n",
    "\"C'est bon. Il se trouve qu'au moins l'un de vous dit vrai et qu'au moins un s'est trompé\"."
   ]
  },
  {
   "cell_type": "markdown",
   "id": "d1ba39ce-6366-4769-b6b1-9e5196e8aaa2",
   "metadata": {},
   "source": [
    "## Problème 9 : Comment passer du coq à l'âne ?\n",
    "\n",
    "en ne changeant qu'une lettre à chaque ligne\n",
    "\n",
    "![coq](images/coq.jpg \"coq\")"
   ]
  },
  {
   "cell_type": "markdown",
   "id": "d8842606-5fe7-4a8d-a9ff-7f13f342d129",
   "metadata": {},
   "source": [
    "## Problème 10 : Voleur et menteur\n",
    "\n",
    "On a volé la Joconde ! On arrête 3 suspects : Robert, Hubert et Philibert.\n",
    "\n",
    "L'enquêteur les connît bien et sait qu'Hubert ne ment jamais, que Robert ment toujours et que Philibert dit parfois la vérité, parfois des mensonges.\n",
    "\n",
    "Voici leurs dépositions :\n",
    "\n",
    "- **Robert** : \"C'est moi qui ai fait le coup !\"\n",
    "- **Hubert** : \"C'est impossible que cela soit Philibert\"\n",
    "- **Philibert** : \"Encore un coup foireux de Robert\"\n",
    "\n",
    "Qui est le coupable ?"
   ]
  },
  {
   "cell_type": "markdown",
   "id": "fbcd5ec7-cda6-417b-851f-4cb1c97ff594",
   "metadata": {},
   "source": [
    "## Problème 11 : Libéré, délivré...\n",
    "\n",
    "Un directeur de prison dit à un detenu : \"si vous parvenez à passer qu'une seule fois et une seule par chacune des portes, vous êtes libéré\". Le détenu fût libéré.\n",
    "\n",
    "Comment a-t-il fait ?\n",
    "\n",
    "![prison](images/prison.jpg \"Prison\")"
   ]
  },
  {
   "cell_type": "markdown",
   "id": "4a704f09-de21-4a8c-9b20-72b267fae9d3",
   "metadata": {},
   "source": [
    "## Problème 12 : Dans le pétrin !\n",
    "\n",
    "Un boulanger possède 10 machines qui font des pains de 1 Kg. Une des machines est déréglée et produit des pains de 1.1 Kg. \n",
    "\n",
    "Est-il possible de repérer la machine avec une seule pesée ?"
   ]
  },
  {
   "cell_type": "markdown",
   "id": "40d5dab6-8c16-4c87-a247-28471512a263",
   "metadata": {},
   "source": [
    "## Solutions\n",
    "\n",
    "### Problème 1\n",
    "\n",
    "### Problème 2\n",
    "\n",
    "### Problème 3\n",
    "\n",
    "### Problème 4\n",
    "\n",
    "### Problème 5\n",
    "\n",
    "### Problème 6\n",
    "\n",
    "### Problème 7\n",
    "\n",
    "### Problème 8\n",
    "\n",
    "### Problème 9\n",
    "\n",
    "### Problème 10\n",
    "\n",
    "### Problème 11\n",
    "\n",
    "### Problème 12\n",
    "\n"
   ]
  },
  {
   "cell_type": "code",
   "execution_count": null,
   "id": "31fbd9c2-384c-4304-b20e-24fefc6c2f24",
   "metadata": {},
   "outputs": [],
   "source": []
  }
 ],
 "metadata": {
  "kernelspec": {
   "display_name": "Python 3 (ipykernel)",
   "language": "python",
   "name": "python3"
  },
  "language_info": {
   "codemirror_mode": {
    "name": "ipython",
    "version": 3
   },
   "file_extension": ".py",
   "mimetype": "text/x-python",
   "name": "python",
   "nbconvert_exporter": "python",
   "pygments_lexer": "ipython3",
   "version": "3.9.2"
  }
 },
 "nbformat": 4,
 "nbformat_minor": 5
}
