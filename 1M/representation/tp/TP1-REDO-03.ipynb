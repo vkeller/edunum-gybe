{
 "cells": [
  {
   "cell_type": "markdown",
   "id": "96244c7d-a70e-431c-9d50-68dfb18c4295",
   "metadata": {},
   "source": [
    "![matrosh](images/matroshka.png \"Poupee russe\")"
   ]
  },
  {
   "cell_type": "markdown",
   "id": "070975bc-c2d5-4440-81a0-ea2ed9b7679b",
   "metadata": {},
   "source": [
    "# TP1-REDO-03 : Compression de fichiers et types\n",
    "\n",
    "## Objectifs pédagogiques\n",
    "\n",
    "1. Comprendre le processus de compression sans perte avec le codage de Huffman\n",
    "1. Être capable d'estimer la taille d'un fichier en fonction de son type et de son codage\n",
    "1. Comprendre comment est construit un fichier en utilisant un éditeur hexadécimal\n"
   ]
  },
  {
   "cell_type": "markdown",
   "id": "e0cf3c86-61ed-4b13-a4d4-a28c5b96db12",
   "metadata": {},
   "source": [
    "## Introduction\n",
    "\n",
    "Réduire la taille de l'information à transmettre tout en s'assurant que l'on peut retrouver tout ou partie de l'information se fait tous les jours. \n",
    "\n",
    "### Exemple !\n",
    "\n",
    "![sms](images/twitter.png \"sms\")\n",
    "\n",
    "Laura a utilisé 26 lettres, 5 espaces et un emoji pour dire :\n",
    "\n",
    "**Je n'en peux plus ! Je suis dans le même état que Chrysippe de Soles, philosophe stoïcien du IIIème siècle avant Jésus-Christ après avoir vu un âne manger ses figues, mais la cause m'en a complètement échappé** \n",
    "\n",
    "qui est certes beaucoup plus poétique, mais qui prend 172 caractères, 36 espaces et des signes de ponctuation. "
   ]
  },
  {
   "cell_type": "markdown",
   "id": "b5223bb9-4a3a-42ac-b5c6-c4b0851f3d6c",
   "metadata": {},
   "source": [
    "## Définition : compression de donnée\n",
    "\n",
    "La **compression de données** est l'opération informatique $C()$ qui consiste à faire passer une suite de bits $X$ en en suite de bits $Y < X$ :\n",
    "\n",
    "$$\n",
    "Y \\leftarrow C(X)\n",
    "$$\n",
    "\n",
    "L'opération inverse $C^{-1}()$ est appelée **décompression de données**:\n",
    "\n",
    "$$\n",
    "X \\leftarrow C^{-1}(Y) = C^{-1}C(X))\n",
    "$$\n",
    "\n",
    "\n",
    "Il existe deux types de compressions de données :\n",
    "\n",
    "1. La **compression avec perte d'information** qui ne permet pas de retrouver, après décompression, la suite de bits non-compressée\n",
    "1. La **compression sans perte d'information** qui permet de retrouver, après décompression, l'entier de la suite de bits non-compressée\n"
   ]
  },
  {
   "cell_type": "markdown",
   "id": "c7947fdb-fb6c-48e6-9e5f-c517418a95b1",
   "metadata": {},
   "source": [
    "## Compression avec perte d'information\n",
    "\n",
    "La compression avec perte d'information est une opération complexe **qui dépasse le cadre de ce cours**. Elle fait appel à des outils mathématiques qui ne sont pas traités dans le cadre des études gymnasiales.\n",
    "\n",
    "(La compression avec perte d'information ne sera pas évaluée lors d'un test)"
   ]
  },
  {
   "cell_type": "markdown",
   "id": "6414e0e9-c85a-4822-b2e2-182b30985115",
   "metadata": {},
   "source": [
    "## Compression sans perte d'information\n",
    "\n",
    "Il en existe plusieurs. Nous allons aborder le codage de Huffman."
   ]
  },
  {
   "cell_type": "markdown",
   "id": "e019ca78-9c35-475f-b96a-2bde2d624175",
   "metadata": {
    "tags": []
   },
   "source": [
    "## Algorithme de Huffman\n",
    "\n",
    "Parmis les types de compression de donnée sans perte d'information, on trouve **l'algorithme de Huffman**. Il repose sur un modèle statistique."
   ]
  },
  {
   "cell_type": "markdown",
   "id": "6ec8b9ac-c242-45f5-bd90-1b6ec332a615",
   "metadata": {},
   "source": [
    "## Activité de magie\n",
    "\n",
    "Retrouver la lettre secrète.\n",
    "\n",
    "- Choisir une lettre parmi \"ABCDEFGHIJKLMNOP”\n",
    "- poser des questions binaires pour la retrouver. Une question binaire est une question qui se répond uniquement par **oui** ou par **non**.\n",
    "- Combien de questions doit-on poser pour retrouver la lettre ?"
   ]
  },
  {
   "cell_type": "markdown",
   "id": "4aa62c0b-f49a-4d68-a50b-04482aed986d",
   "metadata": {},
   "source": [
    "## Activité \"Singing in the rain\"\n",
    "\n",
    "Retrouver la lettre secrète plus rapidement.\n",
    "\n",
    "- choisir une lettre parmi la phrase \"SINGING IN THE RAIN\"\n",
    "- poser des questions binaires pour les retrouver.\n",
    "- Combien de questions doit-on poser ?\n",
    "\n",
    "![lettres](images/frequencelettres.png \"lettres\")"
   ]
  },
  {
   "cell_type": "markdown",
   "id": "6ddbc7ef-0b02-4816-aff5-7355dfe4d3c0",
   "metadata": {},
   "source": [
    "## Codage de Huffmann\n",
    "\n",
    "Dans un premier temps, il faut observer que les lettres apparaissent suivant une distribution différente. On compte donc le nombre d'apparitions de chacune des lettres:\n",
    "\n",
    "| **lettre**  | **I**  | **N**  | **G**  | **S**  | **T**  | **H**  | **E**  | **R**  | **A**  |\n",
    "|---|---|---|---|---|---|---|---|---|---|\n",
    "| nombre d'apparitions  | 4  | 4  | 2  | 1  | 1  | 1  | 1  | 1  | 1  |\n",
    "\n",
    "- Quelle est donc la première question à poser ?\n",
    "- Quelle est la seconde question à poser ?\n",
    "\n",
    "On procède de la même manière en divisant les lettres (dans leur ordre d'apparition). On obtient donc un nombre de questions différentes en fonction du nombre d'apparitions :\n",
    "\n",
    "| **lettre**  | **I**  | **N**  | **G**  | **S**  | **T**  | **H**  | **E**  | **R**  | **A**  |\n",
    "|---|---|---|---|---|---|---|---|---|---|\n",
    "| nombre d'apparitions  | 4  | 4  | 2  | 1  | 1  | 1  | 1  | 1  | 1  |\n",
    "| nombre de questions  | 2  | 2  | 3  | 4  | 4  | 4  | 4  | 4  | 4  |\n",
    "\n",
    "Finalement il faut encoder chaque lettre avec un nombre de bits variables. \n",
    "\n",
    "1. Chaque lettre est encodée avec un nombre de bits égal au nombre de questions binaires nécessaires pour deviner la lettre.\n",
    "2. Le mot de code associé à chaque lettre est la séquence de bits correspondant à la séquence de réponses obtenues lors du jeu (avec la correspondance oui=1 et non=0, par exemple).\n",
    "\n",
    "Ainsi, on obtient :\n",
    "\n",
    "| **lettre**  | **I**  | **N**  | **G**  | **S**  | **T**  | **H**  | **E**  | **R**  | **A**  |\n",
    "|---|---|---|---|---|---|---|---|---|---|\n",
    "| nombre d'apparitions  | 4  | 4  | 2  | 1  | 1  | 1  | 1  | 1  | 1  |\n",
    "| nombre de questions  | 2  | 2  | 3  | 4  | 4  | 4  | 4  | 4  | 4  |\n",
    "| lettre encodée en binaire  | 11  | 10  | 011  | 0101  | 0100  | 0011  | 0010  | 0001  | 0000  |\n",
    "\n",
    "On appelle cet encodage un **dictionnaire**. \n",
    "\n",
    "On observe finalement que la phrase \"SINGING IN THE RAIN\" s'encode par :\n",
    "\n",
    "```\n",
    "010111100111110011...\n",
    "```\n",
    "\n",
    "Si l'on lit cette séquence de gauche à droite, il y a toujours qu'une seule possibilité de décodage et donc on peut récupérer l'ensemble de la phrase."
   ]
  },
  {
   "cell_type": "markdown",
   "id": "9ba3404d-8cf6-4062-836e-ee15cb8d7836",
   "metadata": {},
   "source": [
    "## Taux de compression\n",
    "\n",
    "Si l'on code les 16 lettres avec 4 bits, la phrase \"SINGING IN THE RAIN\" contient $16 * 4 bits = 64 bits$. A l'aide du codage de Huffmann, on descend à $46 bits$. \n",
    "\n",
    "On peut donc calculer le **taux de compression** : $\\frac{64 - 46}{64} = \\frac{18}{64} \\approx 28 \\%$"
   ]
  },
  {
   "cell_type": "markdown",
   "id": "1c31f3f6-e8fa-465a-b518-ae3674af21ac",
   "metadata": {},
   "source": [
    "## Définition : Taille d'un fichier\n",
    "\n",
    "La taille d'un fichier mesure la quantité de données du fichier. Elle se mesure en **octets** (à laquelle on peut ajouter un suffixe). Alternativement, elle donne une idée de la quantité de stockage requise pour le stocker."
   ]
  },
  {
   "cell_type": "markdown",
   "id": "b6f9b04b-131d-44f5-af73-fbc46467d7d7",
   "metadata": {},
   "source": [
    "### Suffixes pour les grandes valeurs\n",
    "\n",
    "Dans le [Système international d'unités](https://www.bipm.org/documents/20126/41483022/SI-Brochure-9.pdf/fcf090b2-04e6-88cc-1149-c3e029ad8232), il est d'usage d'utiliser des préfixes que l'on ajoute avant l'unité.\n",
    "\n",
    "Ainsi :\n",
    "\n",
    "| Nom | Symbole (fr/en) | Valeur |\n",
    "| :-----: | :-----: | :-----: |\n",
    "| Kilooctet | ko (kB) | $10^{3}$ octets = 8 kb |\n",
    "| mégaoctet | Mo (MB) | $10^{6}$ octets = 8 Mb |\n",
    "| gigaoctet | Go (GB) | $10^{9}$ octets = 8 Gb |\n",
    "| téraoctet | To (TB) | $10^{12}$ octets = 8 Tb |\n",
    "| pétaoctet | Po (PB) | $10^{15}$ octets = 8 Pb |\n",
    "| exaoctet | Eo (EB) | $10^{18}$ octets = 8 Eb |\n",
    "| zettaoctet | Zo (ZB) | $10^{21}$ octets = 8 Zb |\n",
    "| yottaoctet | Yo (YB) | $10^{24}$ octets = 8 Yb |\n",
    "\n",
    "**Attention : lorsqu'on parle de capacité, on préférera le terme français \"octet\" plutôt que byte qui est phonétiquement trop proche de bit**"
   ]
  },
  {
   "cell_type": "markdown",
   "id": "1f93ceab-66d2-467b-b7e8-d8ce7748bbe0",
   "metadata": {},
   "source": [
    "## Estimation de la taille d'un fichier\n",
    "\n",
    "### Fichier texte ASCII\n",
    "\n",
    "On sait que chaque caractère ASCII est codé sur 7 bits. Mais un ordinateur **ne travaille qu'avec des octets**. Ainsi, en comptant le nombre de caractères d'un fichier, on peut estimer sa taille.\n",
    "\n",
    "Téléchargez le [fichier texte suivant](https://raw.githubusercontent.com/vkeller/modulo-gybe/main/1M/representation/tp/texte/AuClairDeLaLune.txt)\n",
    "\n",
    "*Terminal* : dans un terminal, on peut utiliser la fonction `wc` qui donne le nombre exact de caractères d'un fichier. Par exemple : `wc -c < AuClairDeLaLune.txt`\n",
    "\n",
    "### Fichier image PPM et PGM\n",
    "\n",
    "Sur un fichier en niveaux de gris (PGM) et en couleurs (PPM), la taille du fichier peut être estimée avec la taille de l'image ainsi que le mode de codage des couleurs ($[0,1]$ pour $P1$ donc 1 octet, $[0,...,255]$ pour $P2$ donc 1 octet, $[0,...,255;0,...,255;0,...,255]$ pour $P3$ donc 3 octets,\n",
    "\n",
    "\n",
    "### Fichier son\n",
    "\n",
    "Un fichier son non-compressé aura une taille multiple par la fréquence d'échantillonnage, la durée du morceau ainsi et le nombre de bits de la quantification."
   ]
  },
  {
   "cell_type": "markdown",
   "id": "2394823b-1223-48ae-abda-8530a822823c",
   "metadata": {},
   "source": [
    "## Plonger dans un fichier : éditer en hexadécimal\n",
    "\n",
    "- Prise en main d'un éditeur hexadécimal \n",
    "- Découvrir que tous les fichiers sont faits de bytes\n",
    "- Découvrir les types de fichiers et le magic number\n",
    "- Comprendre le lien entre extension de fichier et programme qui va ouvrir le fichier\n",
    "- Découvrir quels types de fichiers sont robustes face a une modification / perturbation arbitraire."
   ]
  },
  {
   "cell_type": "markdown",
   "id": "010268e4-e174-4d09-adde-128141e3afb0",
   "metadata": {},
   "source": [
    "## Contexte\n",
    "\n",
    "Lorsqu'un fichier est enregistré sur un medium (un disque dur ou une clef USB par exemple), un *lien* est aussi créé et qui permet de relier son emplacement physique sur le disque (son **adresse**) à la liste affichée par un explorateur de fichiers (le **Finder** par exemple). \n",
    "\n",
    "Imaginez-vous la situation suivante :\n",
    "\n",
    "Un truand a enregistré ses complices, il a créé un dossier `fichiers` des fichiers texte contenant l'ensemble de ses contacts, il a même photographié l'arrivage de produit stupéfiants. Prévoyant, il en a créé une archive `fichiers-zip` en prenant garde d'enlever les suffixes de tous les fichiers ce qui les rend illisibles par son ordinateur. \n",
    "\n",
    "Tous ces éléments sont compromettants. \n",
    "\n",
    "Le truand a été dénoncé. Il voit arriver la police par sa fenêtre. Il a juste le temps de placer son dossier à la corbeille et d'appuyer sur *vider la corbeille*\n",
    "\n",
    "Le **policier scientifique c'est maintenant vous**. Vous devez retrouver le contenu de tous les fichiers du truand. "
   ]
  },
  {
   "cell_type": "markdown",
   "id": "5f313044-1d3a-4987-967d-176a408b9747",
   "metadata": {},
   "source": [
    "## Exercice 1\n",
    "\n",
    "### Consignes\n",
    "\n",
    "Faites cet exercice par 2, sur un seul ordinateur, et discutez des résultats. A la fin, une discussion avec le reste du groupe où je vous demanderai ce que vous avez trouvé.\n",
    "\n",
    "Dans le finder affichez les extensions de fichier :\n",
    "\n",
    "![hexfiend](images/hexfiend1.png \"hexfiend1\")\n",
    "\n",
    "Téléchargez cette [archive](https://raw.githubusercontent.com/vkeller/modulo-gybe/main/1M/representation/tp/archives/fichiers.zip) et décompressez-la\n",
    "\n",
    "Pour chaque fichier:\n",
    "\n",
    "- Ouvrez le dans Hex Fiend\n",
    "- Essayez de déterminer de quel type de fichier il s'agit. Regardez vers le début du fichier. Si vous ne voyez pas immédiatement de quel type il pourrait choisir, aidez vous de cette page wikipédia : [Nombre magique](https://fr.wikipedia.org/wiki/Nombre_magique_(programmation)).\n",
    "- Renommez le fichier pour lui attribuer la bonne extension, par exemple fichier1.pptx\n",
    "- Double cliquez sur le fichier renommé pour vérifier si vous avez trouvé la bonne extension (si ça ne marche pas, c'est que vous n'avez pas le bon format ou la bonne extension)\n",
    "\n",
    "Note : si un fichier est trop difficile à identifier, passez alors au suivant.\n",
    "\n",
    "Ensuite, pour chaque fichier renommé :\n",
    "\n",
    "- Essayez d'éditer le contenu du fichier en remplaçant quelques bytes vers le milieu du fichier\n",
    "- Vérifiez ce qu'il se passe quand vous essayez maintenant d'ouvrir le fichier\n",
    "- Réessayez avec différents types de modifications\n",
    "     - supprimer un peu ou beaucoup de bytes\n",
    "     - dupliquer certaines parties 2, 3, 10 fois...\n",
    "- Notez ce qui se passe pour chaque type de fichier\n",
    "- Faites des suppositions sur pourquoi les différents types de fichiers réagissent différemment\n",
    "- A la fin : discussion avec le reste de la demi classe"
   ]
  },
  {
   "cell_type": "markdown",
   "id": "8974a189-3923-489d-afb8-9c67eaa36341",
   "metadata": {},
   "source": [
    "## Exercice 2 : manipuler du son\n",
    "\n",
    "Le format MP3 est un format de compression avec perte d'information. A l'origine, il a été développé pour la radiodiffusion (le *streaming*).\n",
    "\n",
    "1. Téléchargez les [trois fichiers son](https://github.com/vkeller/modulo-gybe/tree/main/1M/representation/tp/sons/CFF) présent sur le git\n",
    "1. A l'aide de HexFiend, identifiez le début et la fin de la musique\n",
    "1. A l'aide des opérations de copie et coller, reproduisez le jingle francophone 3 fois.\n",
    "1. Ouvrez les autres jingle (italophone et germanique) et créez un nouveau fichier contenant les trois à la suite à l'aide d'HexFiend"
   ]
  },
  {
   "cell_type": "markdown",
   "id": "0d2655d8-c178-478f-9dbb-15b09161112a",
   "metadata": {},
   "source": [
    "## Ressources supplémentaires\n",
    "\n"
   ]
  },
  {
   "cell_type": "code",
   "execution_count": 2,
   "id": "b62ef2c9-69a2-4829-8d48-b86f254a8092",
   "metadata": {},
   "outputs": [
    {
     "data": {
      "image/jpeg": "[encoded data removed]",
      "text/html": [
       "\n",
       "        <iframe\n",
       "            width=\"960\"\n",
       "            height=\"540\"\n",
       "            src=\"https://www.youtube.com/embed/K2IQLk-BGuk\"\n",
       "            frameborder=\"0\"\n",
       "            allowfullscreen\n",
       "            \n",
       "        ></iframe>\n",
       "        "
      ],
      "text/plain": [
       "<IPython.lib.display.YouTubeVideo at 0x7f40686bdd00>"
      ]
     },
     "execution_count": 2,
     "metadata": {},
     "output_type": "execute_result"
    }
   ],
   "source": [
    "from IPython.display import YouTubeVideo\n",
    "\n",
    "YouTubeVideo('K2IQLk-BGuk', width=960, height=540)"
   ]
  },
  {
   "cell_type": "code",
   "execution_count": null,
   "id": "6d225d2b-09ae-429c-abe8-49f3b23f0420",
   "metadata": {},
   "outputs": [],
   "source": []
  }
 ],
 "metadata": {
  "kernelspec": {
   "display_name": "Python 3 (ipykernel)",
   "language": "python",
   "name": "python3"
  },
  "language_info": {
   "codemirror_mode": {
    "name": "ipython",
    "version": 3
   },
   "file_extension": ".py",
   "mimetype": "text/x-python",
   "name": "python",
   "nbconvert_exporter": "python",
   "pygments_lexer": "ipython3",
   "version": "3.9.2"
  }
 },
 "nbformat": 4,
 "nbformat_minor": 5
}
