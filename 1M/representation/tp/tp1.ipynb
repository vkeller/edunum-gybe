{
 "cells": [
  {
   "cell_type": "markdown",
   "id": "d25f3357",
   "metadata": {},
   "source": [
    "# TP 1 : les images matricielles"
   ]
  },
  {
   "cell_type": "markdown",
   "id": "574aacbb",
   "metadata": {},
   "source": [
    "## Objectifs pédagogiques\n",
    "\n",
    "1. connaître la définition d'un pixel N/B et couleur\n",
    "1. connaître les caractéristiques d'une image matricielle\n",
    "1. créer une image matricielle N/B et couleur en format PGM et PPM"
   ]
  },
  {
   "cell_type": "markdown",
   "id": "ff77dd89",
   "metadata": {},
   "source": [
    "## Théorie"
   ]
  },
  {
   "cell_type": "markdown",
   "id": "36ab9358",
   "metadata": {},
   "source": [
    "### Définition d'un pixel\n",
    "\n",
    "**Définition :** un **pixel** (de l'anglais *picture element*) est l'unité de base d'une image numérique matricielle. \n",
    "\n",
    "On la présente habituellement comme un élément de surface."
   ]
  },
  {
   "cell_type": "markdown",
   "id": "2c60a600",
   "metadata": {},
   "source": [
    "### Définition : image matricielle\n",
    "\n",
    "**Définition :** une **image matricielle** est un tableau (une grille) de pixels (de l'objet mathématique *matrice*) classé sous la forme d'une carte (de l'anglais *bitmap*). Chaque pixel de l'image matricielle possède 2 caractéristiques : (1) sa **position** dans le tableau et (2) sa **couleur**\n",
    "\n",
    "![bitmap](images/bitmap.png \"bitmap exemple\")"
   ]
  },
  {
   "cell_type": "markdown",
   "id": "728982df",
   "metadata": {},
   "source": [
    "### Le format PGM/PPM\n",
    "\n",
    "Les formats **PGM** (de l'anglais *Portable Graymap*) pour les images **noir et blanc (N/B)** et **PPM** (de l'anglais *Portable Pixmap*) pour les images **couleur** sont des formats de fichiers graphiques premettant de décrire simplement une image matricielle. \n",
    "\n",
    "Dans ce travail pratique, nous allons utiliser la forme la plus simple de ces deux formats: le format texte.\n",
    "\n",
    "#### Composition d'un fichier PGM/PPM\n",
    "\n",
    "Les deux formats sont constitués de la même base : \n",
    "\n",
    "- un **en-tête** (de l'anglais *header*) qui permet de décrire les caractéristiques de l'images\n",
    "    - un mot magique (```P1``` pour les images noir/blanc, ```P2``` pour les images en niveaux de gris, ```P3``` pour les images couleur \n",
    "    - la taille de l'image en pixels (colonnes x lignes)\n",
    "    - le nombre de niveaux de gris/couleur par pixel\n",
    "- l'image elle-même décrite pixel par pixel\n",
    "    - les valeurs des pixels de l'image du coin en haut à gauche vers le coin en bas à droite\n",
    "\n",
    "#### Exemple d'une image N/B \n",
    "\n",
    "```\n",
    "P1\n",
    "# Un exemple bitmap de la lettre \"J\"\n",
    "7 10\n",
    "0 0 0 0 0 0 0\n",
    "0 0 0 0 0 1 0\n",
    "0 0 0 0 0 1 0\n",
    "0 0 0 0 0 1 0\n",
    "0 0 0 0 0 1 0\n",
    "0 0 0 0 0 1 0\n",
    "0 0 0 0 0 1 0\n",
    "0 1 0 0 0 1 0\n",
    "0 0 1 1 1 0 0\n",
    "0 0 0 0 0 0 0\n",
    "```\n",
    "\n",
    "Ce qui donne :\n",
    "\n",
    "![J](images/j.png \"lettre J\")\n",
    "\n",
    "#### Exemple d'une image en niveaux de gris\n",
    "\n",
    "```\n",
    "P2\n",
    "# Affiche le mot \"FEEP\" (exemple de la page principale de Netpbm à propos de PGM)\n",
    "24 7\n",
    "15\n",
    "0  0  0  0  0  0  0  0  0  0  0  0  0  0  0  0  0  0  0  0  0  0  0  0\n",
    "0  3  3  3  3  0  0  7  7  7  7  0  0 11 11 11 11  0  0 15 15 15 15  0\n",
    "0  3  0  0  0  0  0  7  0  0  0  0  0 11  0  0  0  0  0 15  0  0 15  0\n",
    "0  3  3  3  0  0  0  7  7  7  0  0  0 11 11 11  0  0  0 15 15 15 15  0\n",
    "0  3  0  0  0  0  0  7  0  0  0  0  0 11  0  0  0  0  0 15  0  0  0  0\n",
    "0  3  0  0  0  0  0  7  7  7  7  0  0 11 11 11 11  0  0 15  0  0  0  0\n",
    "0  0  0  0  0  0  0  0  0  0  0  0  0  0  0  0  0  0  0  0  0  0  0  0\n",
    "24 7\n",
    "```\n",
    "\n",
    "Ce qui donne :\n",
    "\n",
    "![feep](images/feep.png \"logo feep\")\n",
    "\n",
    "\n",
    "#### Exemple d'une image couleur en RGB\n",
    "\n",
    "```\n",
    "P3\n",
    "# Le P3 signifie que les couleurs sont en ASCII, et qu'elles sont en RGB.\n",
    "# Par 5 colonnes et 5 lignes:\n",
    "5 5\n",
    "# Ayant 255 pour valeur maximum:\n",
    "255\n",
    "\n",
    "255 0 0\n",
    "255 0 0\n",
    "255 0 0\n",
    "255 0 0\n",
    "255 0 0\n",
    "255 0 0\n",
    "255 0 0\n",
    "255 255 255\n",
    "255 0 0\n",
    "255 0 0\n",
    "255 0 0\n",
    "255 255 255\n",
    "255 255 255\n",
    "255 255 255\n",
    "255 0 0\n",
    "255 0 0\n",
    "255 0 0\n",
    "255 255 255\n",
    "255 0 0\n",
    "255 0 0\n",
    "255 0 0\n",
    "255 0 0\n",
    "255 0 0\n",
    "255 0 0\n",
    "255 0 0\n",
    "```\n",
    "Ce qui donne :\n",
    "\n",
    "![suisse](images/suisse.png \"drapeau suisse\")\n",
    "\n",
    "\n"
   ]
  },
  {
   "cell_type": "code",
   "execution_count": null,
   "id": "2e8ed9d3",
   "metadata": {},
   "outputs": [],
   "source": []
  }
 ],
 "metadata": {
  "kernelspec": {
   "display_name": "Python 3 (ipykernel)",
   "language": "python",
   "name": "python3"
  },
  "language_info": {
   "codemirror_mode": {
    "name": "ipython",
    "version": 3
   },
   "file_extension": ".py",
   "mimetype": "text/x-python",
   "name": "python",
   "nbconvert_exporter": "python",
   "pygments_lexer": "ipython3",
   "version": "3.9.2"
  }
 },
 "nbformat": 4,
 "nbformat_minor": 5
}
