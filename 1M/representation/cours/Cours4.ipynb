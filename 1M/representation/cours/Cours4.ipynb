{
 "cells": [
  {
   "cell_type": "markdown",
   "id": "378b800d-95d9-48e1-b90e-8bf066996b17",
   "metadata": {},
   "source": [
    "# Cours 4 : Opérations en binaire et en hexadécimal"
   ]
  },
  {
   "cell_type": "markdown",
   "id": "e2e58b96-379d-483d-863d-5af5a45aafc7",
   "metadata": {},
   "source": [
    "## Objectifs pédagogiques\n",
    "\n",
    "- être capable d'exécuter les opérations suivantes en binaire et en héxadécimal:\n",
    "    - addition\n",
    "    - soustraction\n",
    "    - multiplication\n",
    "    - division"
   ]
  },
  {
   "cell_type": "markdown",
   "id": "944c6ab0-e6ad-47a1-aa5d-1b761c971fbf",
   "metadata": {},
   "source": [
    "## Convention : les bases en indices\n",
    "\n",
    "Par convention, nous plaçons la base du nombre entier en **indice** de celui-ci :\n",
    "\n",
    "- $100_{10}$ signifie le nombre 100 en base 10\n",
    "- $100_{2}$ signfie le nombre 100 en base 2\n",
    "- $100_{16}$ signifie le nombre 100 en base 16\n",
    "\n"
   ]
  },
  {
   "cell_type": "markdown",
   "id": "f8f8bf55-7494-49b6-b7c6-cf82c230ce74",
   "metadata": {},
   "source": [
    "| Valeur décimale | Valeur binaire  | valeur héxadécimale  |\n",
    "|---|---|---|\n",
    "| $100_{10}$ | $1100100_{2}$  | $64_{16}$  |\n",
    "| $4_{10}$ | $100_{2}$  | $4_{16}$ |\n",
    "| $256_{10}$ | $100000000_{2}$ | $100_{16}$  |"
   ]
  },
  {
   "cell_type": "markdown",
   "id": "62b946f4-3014-47ac-9b6f-49f714eaa0cf",
   "metadata": {},
   "source": [
    "## Rappel : Notation de droite à gauche\n",
    "\n",
    "La position du chiffre correspond à la **puissance de la base**.\n",
    "\n",
    "### Base 10 (décimal)\n",
    "\n",
    "En décimal, il existe 10 symboles pour écrire les nombres entiers : $[0,1,2,3,4,5,6,7,8,9]$. Ainsi :\n",
    "\n",
    "| position | 7 | 6 | 5 | 4 | 3 | 2 | 1 | 0 |\n",
    "|:---:|:---:|:---:|:---:|:---:|:---:|:---:|:---:|:---:|\n",
    "| puissance | $10^7$ | $10^6$ | $10^5$| $10^4$ | $10^3$ | $10^2$ | $10^1$ | $10^0$ |\n",
    "| décimal | $10000000_{10}$ | $1000000_{10}$ | $100000_{10}$| $10000_{10}$ | $1000_{10}$ | $100_{10}$ | $10_{10}$ | $1_{10}$ |\n",
    "\n",
    "Ainsi, le nombre $2017$ lu de droite à gauche se calcule : $7*10^{0} + 1*10^{1} + 0*10^{2} + 2*10^{3} = 7 + 10 + 0 + 2000 = 2017$\n",
    "\n",
    "### Base 2 (binaire)\n",
    "\n",
    "En décimal, il existe 10 symboles pour écrire les nombres entiers : $[0,1,2,3,4,5,6,7,8,9]$. Ainsi :\n",
    "\n",
    "| position | 7 | 6 | 5 | 4 | 3 | 2 | 1 | 0 |\n",
    "|:---:|:---:|:---:|:---:|:---:|:---:|:---:|:---:|:---:|\n",
    "| puissance | $2^7$ | $2^6$ | $2^5$| $2^4$ | $2^3$ | $2^2$ | $2^1$ | $2^0$ |\n",
    "| binaire | $10000000_{2}$ | $1000000_{2}$ | $100000_{2}$| $10000_{2}$ | $1000_{2}$ | $100_{2}$ | $10_{2}$ | $1_{2}$ |\n",
    "| décimal | $128_{10}$ | $64_{10}$ | $32_{10}$| $16_{10}$ | $8_{10}$ | $4_{10}$ | $2_{10}$ | $1_{10}$ |\n",
    "\n",
    "Ainsi, le nombre $10101101$ lu de droite à gauche se calcule en base 10 : $1*2^{0} + 0*2^{1} + 1*2^{2} + 1*2^{3} + 0*2^{4} + 1*2^{5} + 0*2^{6} + 1*2^{7} = 1 + 0 + 4 + 8 + 0 + 32 + 0 + 128 = 173$"
   ]
  },
  {
   "cell_type": "code",
   "execution_count": null,
   "id": "bcf42b5d-a9e9-4715-baed-c6e3dd72e6a7",
   "metadata": {},
   "outputs": [],
   "source": []
  }
 ],
 "metadata": {
  "kernelspec": {
   "display_name": "Python 3 (ipykernel)",
   "language": "python",
   "name": "python3"
  },
  "language_info": {
   "codemirror_mode": {
    "name": "ipython",
    "version": 3
   },
   "file_extension": ".py",
   "mimetype": "text/x-python",
   "name": "python",
   "nbconvert_exporter": "python",
   "pygments_lexer": "ipython3",
   "version": "3.9.2"
  }
 },
 "nbformat": 4,
 "nbformat_minor": 5
}
