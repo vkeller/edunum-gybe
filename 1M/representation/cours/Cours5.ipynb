{
 "cells": [
  {
   "cell_type": "markdown",
   "id": "a617390d-d741-4bb2-b12e-205d6f19905b",
   "metadata": {},
   "source": [
    "# Cours 5 : représentation numérique : une synthèse"
   ]
  },
  {
   "cell_type": "markdown",
   "id": "9d6b00c3-e2dc-49fe-9e4b-a8b336f3d858",
   "metadata": {},
   "source": [
    "## Objectifs pédagogiques\n",
    "\n",
    "1. permettre à l'élève de rassembler les différentes représentations vues en cours et en TP\n",
    "1. "
   ]
  },
  {
   "cell_type": "code",
   "execution_count": null,
   "id": "1480a5aa-4baf-4f50-9952-bbb6921a211e",
   "metadata": {},
   "outputs": [],
   "source": []
  }
 ],
 "metadata": {
  "kernelspec": {
   "display_name": "Python 3 (ipykernel)",
   "language": "python",
   "name": "python3"
  },
  "language_info": {
   "codemirror_mode": {
    "name": "ipython",
    "version": 3
   },
   "file_extension": ".py",
   "mimetype": "text/x-python",
   "name": "python",
   "nbconvert_exporter": "python",
   "pygments_lexer": "ipython3",
   "version": "3.9.2"
  }
 },
 "nbformat": 4,
 "nbformat_minor": 5
}
