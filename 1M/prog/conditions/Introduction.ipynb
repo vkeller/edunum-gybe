{
 "cells": [
  {
   "cell_type": "markdown",
   "id": "7d78dfc8-4c6b-416e-b14b-3c974638f3fc",
   "metadata": {},
   "source": [
    "# Les tests conditionnels\n",
    "\n",
    "[![Test image](https://upload.wikimedia.org/wikipedia/commons/thumb/c/c5/If-Then-Else-diagram.svg/492px-If-Then-Else-diagram.svg.png)](https://commons.wikimedia.org)"
   ]
  },
  {
   "cell_type": "markdown",
   "id": "c0be75ce-df2d-4d32-bd58-f8f3dc38e3f2",
   "metadata": {},
   "source": [
    "## Instruction conditionnelle\n",
    "\n",
    "la structure est la suivante : SI ... ALORS ... SINON\n",
    "\n",
    "En python :\n",
    "\n",
    "```\n",
    "if condition :\n",
    "   instruction1\n",
    "else:\n",
    "   instruction2\n",
    "```\n",
    "La condition est un test. Un test compare deux valeurs et retourne VRAI ou FAUX. Par exemple :\n",
    "\n",
    "- si la variable a est plus grand que 4 alors ...\n",
    "- si la chaîne de caractères prenom est égal à 'Caroline' alors...\n",
    "\n",
    "Que l'on traduit en Python par :\n",
    "\n",
    "```\n",
    "if a > 4 :\n",
    "```\n",
    "et\n",
    "```\n",
    "if prenom == 'Caroline':\n",
    "```\n",
    "Attention à la notation, le mot en français \"ALORS\" se traduit par les deux points.\n",
    "\n",
    "Si un test est vrai, alors il existe son opposé qui est faux. Et vice-versa !\n",
    "\n",
    "- le test \"si la variable a est plus grand que 4\" est vrai, alors l'opposé est \"la variable a est plus petite ou égale à 4\"\n",
    "- le test \"si la chaîne de caractères prenom est égal à 'Caroline'\" est vrai, alors l'opposé est \"la chaîne de caractères prenom n'est pas égal à 'Caroline'\"\n",
    "\n",
    "En python cela se traduit par le mot-clef `else`.\n",
    "\n",
    "```\n",
    "if prenom == 'Caroline':\n",
    "   instruction...\n",
    "else:\n",
    "   autre instruction\n",
    "```\n",
    "Il est possible d'imbriquer plusieurs tests\n"
   ]
  },
  {
   "cell_type": "markdown",
   "id": "08bbdb88-946e-45d9-bf78-577ed1246aad",
   "metadata": {},
   "source": [
    "### Exercice 1\n",
    "\n",
    "Ecrire un programme qui vérifie qu'un nombre est pair (ou impair)"
   ]
  },
  {
   "cell_type": "markdown",
   "id": "da6688b2-c34b-4af4-a04e-3d9f271d5321",
   "metadata": {},
   "source": [
    "### Exercice 1 (bis)\n",
    "\n",
    "Ecrire un programme qui vérifie qu'un nombre est pair ET divisible par 5"
   ]
  },
  {
   "cell_type": "markdown",
   "id": "db939c34-8927-4dc6-b144-78ff07ad94f0",
   "metadata": {
    "tags": []
   },
   "source": [
    "## Plusieurs conditions dans un test : `elif` et opérateurs logiques `and`, `or`\n",
    "\n",
    "Lorsqu'il y a plusieurs conditions à remplir pour un test conditionnel, alors on peut utiliser les mot-clefs `elif` ou les opérateurs logiques `or` et `and`\n",
    "\n",
    "La clause `elif` teste une nouvelle condition si la première (if) est fausse. Si cette condition est fausse, alors Python pousuit sur `else`:\n",
    "\n",
    "```\n",
    "if condition :\n",
    "  instruction\n",
    "elif condition :\n",
    "  instruction\n",
    "else :\n",
    "  instruction\n",
    "```\n",
    "\n",
    "S'agissant des opérateurs logiques :\n",
    "\n",
    "Si un test requiert que deux tests soient vrais en même temps, on utilise `and` :\n",
    "\n",
    "```\n",
    "if condition1 and condition2 :\n",
    "    instruction\n",
    "```\n",
    "Si un test requiert que qu'un des deux tests soient vrais, alors on utilise `or`:\n",
    "\n",
    "```\n",
    "if condition1 or condition2 :\n",
    "    instruction\n",
    "\n",
    "```\n"
   ]
  },
  {
   "cell_type": "markdown",
   "id": "f66a2dac-5c05-43fc-a3e4-57979b5020d5",
   "metadata": {},
   "source": [
    "### Exercice 2\n",
    "\n",
    "- Ajoutez une question de type philosophie: \"La grande question sur la vie, l'univers et le reste\" dont la réponse est : A vous de trouver \n",
    "- Ajoutez une nouvelle catégorie de question de type psychologie en implémentant une nouvelle fonction quizz_psycho() sur le même modèle que les 2 autres. \n",
    "\n",
    "En modifiant le code suivant "
   ]
  },
  {
   "cell_type": "code",
   "execution_count": null,
   "id": "449478a6-3a77-453a-acbf-01054fa38227",
   "metadata": {},
   "outputs": [],
   "source": [
    "def quizz_info():\n",
    "    r = input(\"Qui est le meilleur prof: \\n 1 : M. Keller \\n 2: un autre ... \\n Votre réponse:\")\n",
    "    if r == '1':\n",
    "        print(\"Bonne réponse\")\n",
    "    else:\n",
    "        print(\"Mauvaise réponse\")\n",
    "\n",
    "def quizz_philo():\n",
    "    r = input(\"quizz philo\")\n",
    "    \n",
    "\n",
    "print(\"Quizz simple\")\n",
    "print(\"Jouons ? C'est parti...\")\n",
    "reponse = ''\n",
    "while reponse != 'q':\n",
    "    reponse = input(\"Choisissez votre question: \\n 1: informatique \\n 2: philo \\n Votre réponse ('q' pour quitter):\")\n",
    "    if (reponse == '1'):\n",
    "        quizz_info()\n",
    "    elif (reponse == '2'):\n",
    "        quizz_philo()\n",
    "    elif (reponse == 'q'):\n",
    "        print(\"Vous avez décidé de quitter\")\n",
    "    else:\n",
    "        print(reponse,\"invalide. Tapez 1 ou 2 ou q pour quitter\")\n"
   ]
  },
  {
   "cell_type": "markdown",
   "id": "f60a050b-61e9-4a7d-9999-291889b964d3",
   "metadata": {},
   "source": [
    "### Exercice 3\n",
    "\n",
    "Ecrire un programme qui vérifie qu'un nombre est divisible par 3 et par 7"
   ]
  },
  {
   "cell_type": "markdown",
   "id": "e2d54db2-d03c-4739-ac88-8f9f6510e3bc",
   "metadata": {},
   "source": [
    "### Exercice 4 La Piscine (tiré du concours Castor Informatique)\n",
    "\n",
    "![castor piscine](piscine.jpg \"Piscine\")\n",
    "\n",
    "Analysons les conditions d'entrée:\n",
    "\n",
    "- Si la personne est âgée de 8 ans ou plus\n",
    "- Si la personne a moins de 8 ans, alors elle doit être accompagnée par une personne de 10 ans ou plus\n",
    "\n",
    "Consigne :\n",
    "\n",
    "- Dessinez l'algorigramme\n",
    "- Ecrivez le programme en Python correspondant"
   ]
  }
 ],
 "metadata": {
  "kernelspec": {
   "display_name": "Python 3 (ipykernel)",
   "language": "python",
   "name": "python3"
  },
  "language_info": {
   "codemirror_mode": {
    "name": "ipython",
    "version": 3
   },
   "file_extension": ".py",
   "mimetype": "text/x-python",
   "name": "python",
   "nbconvert_exporter": "python",
   "pygments_lexer": "ipython3",
   "version": "3.9.2"
  }
 },
 "nbformat": 4,
 "nbformat_minor": 5
}
