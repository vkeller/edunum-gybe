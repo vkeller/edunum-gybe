{
 "cells": [
  {
   "cell_type": "markdown",
   "id": "afbd4fb2-101c-4c2b-87e4-904d55e68ae7",
   "metadata": {},
   "source": [
    "![datatypes](datatypes.png \"Types en Python\")\n",
    "\n",
    "# TP1-PROG-07 - Notions de types"
   ]
  },
  {
   "cell_type": "markdown",
   "id": "5e9f5b20-7a81-43cf-89b5-4c1aa96eac21",
   "metadata": {},
   "source": [
    "## Introduction\n",
    "\n",
    "Jusqu'à présent, nous avons écrit des programmes que l'on exécutait. Pour modifier la valeur d'une variable, nous la changions dans le programme, et nous exécutions à nouveau le programme.\n",
    "Exemple 1\n",
    "\n",
    "Concaténer de la variable a qui vaut \"Bonjour\" par la variable b qui vaut \" Caroline\" et affichage du résultat dans la variable c:\n",
    "\n",
    "```\n",
    "a = \"Bonjour\"\n",
    "b = \" Caroline\"\n",
    "c = a + b\n",
    "print(c)\n",
    "```\n",
    "\n",
    "Pour modifier ce programme avec b = \" Jean\", il fallait modifier le programme :\n",
    "\n",
    "```\n",
    "a = \"Bonjour\"\n",
    "b = \" Jean\"\n",
    "c = a + b\n",
    "print(c)\n",
    "```\n",
    "\n",
    "Ce n'est pas très interactif !\n",
    "\n",
    "Mais l'ordinateur sait nous parler avec la fonction `print()`."
   ]
  },
  {
   "cell_type": "markdown",
   "id": "4fd58553-caf4-45c5-afac-5c864d8a8b06",
   "metadata": {},
   "source": [
    "## Communiquer avec l'ordinateur\n",
    "\n",
    "Pour communiquer avec l'ordinateur, on utilise la fonction input() . Cette fonction place la valeur entrée par l'utilisateur du programme (vous !) dans une variable de type chaîne de caractères:\n",
    "\n",
    "```\n",
    "a = input()\n",
    "b = input()\n",
    "c = a + b\n",
    "print(c)\n",
    "```\n",
    "\n",
    "Déjà plus interactif ! Mais pas très causant. On peut donc placer un texte avant :\n",
    "\n",
    "```\n",
    "a = \"Bonjour\"\n",
    "b = input(\"Entrez votre prénom \")\n",
    "c = a + b\n",
    "print(c)\n",
    "```\n",
    "\n",
    "Ici on travaille avec des variable de type chaînes de caractères (des STRINGS) comme \"Bonjour\" entre guillemets.\n",
    "\n",
    "Il est possible de simplifier le programme puisque la variable c ne sert à rien :\n",
    "\n",
    "```\n",
    "a = \"Bonjour\"\n",
    "b = input(\"Entrez votre prénom \")\n",
    "print(a+b)\n",
    "```\n"
   ]
  },
  {
   "cell_type": "markdown",
   "id": "efcf6b6c-57e9-44ab-aeee-5cb5c8187804",
   "metadata": {},
   "source": [
    "## Exercice 1\n",
    "\n",
    "Est-ce que le programme suivant fonctionne (calcule votre fortune dans 365 jours à un taux de 2%) :\n",
    "\n",
    "```\n",
    "compte = input(\"Valeur de votre compte en banque (en CHF) \")\n",
    "compte365 = compte + (compte *0.02)\n",
    "print(\"Dans un an, vous aurez \",compte365)\n",
    "```"
   ]
  },
  {
   "cell_type": "markdown",
   "id": "724a53df-72e2-420b-a96c-0ee8d83b9d6c",
   "metadata": {},
   "source": [
    "## Passer d'un type à l'autre : le casting\n",
    "\n",
    "Python interdit de manipuler des données de type différentes.\n",
    "Passer d'un type à l'autre : Casting\n",
    "\n",
    "Il est possible de manipuler des données d'un type vers un autre. C'est le casting :\n",
    "\n",
    "- la fonction `str()` transforme n'importe quelle variable en type chaîne de caractères (string)\n",
    "- la fonction `int()` transforme n'importe quelle variable en type entier (int)\n",
    "- la fonction `float()` transforme n'importe quelle variable en type à virgule flottante (float)\n"
   ]
  },
  {
   "cell_type": "markdown",
   "id": "98ec7208-cc09-4347-b30e-002d05263668",
   "metadata": {},
   "source": [
    "## Exercice 2\n",
    "\n",
    "Transformer le type du compte pour que le programme fonctionne :\n",
    "\n",
    "```\n",
    "compte = input(\"Valeur de votre compte en banque (en CHF) \")\n",
    "compte365 = compte + (compte *0.02)\n",
    "print(\"Dans un an, vous aurez \",compte365)\n",
    "```"
   ]
  },
  {
   "cell_type": "markdown",
   "id": "7c0afaba-6649-4601-8a5d-c2d8a8a61ac4",
   "metadata": {},
   "source": [
    "## Exercice 3\n",
    "\n",
    "Quel est le type de :\n",
    "\n",
    "```\n",
    "a = 10\n",
    "b = 1.234\n",
    "c = True\n",
    "d = \"Hello\"\n",
    "e = '1'\n",
    "couleurs = ['red','blue','green']\n",
    "f = 2 + 3j\n",
    "```\n",
    "\n",
    "Pour déterminer les types de ces variables, vous pouvez utiliser la fonction `type()` our alors l'inspecteur d'objets et le listeur de variables sous Thonny (`Affichage -> Variables` et `Affichage > Inspecteur d'objets`sélectionnés)"
   ]
  },
  {
   "cell_type": "markdown",
   "id": "1e1ae096-47d7-4ad8-84cd-2b8952c3dff3",
   "metadata": {},
   "source": [
    "## Exercice 4\n",
    "\n",
    "Programmez une calculette qui multiplie deux nombres entrés par l'utilisateur avec la fonction input()"
   ]
  },
  {
   "cell_type": "markdown",
   "id": "2cfff263-6370-4401-9d3e-5da4c659112f",
   "metadata": {},
   "source": [
    "## Exercice 5\n",
    "\n",
    "Est-ce que votre calculette fonctionne avec des chiffres à virgule (float) ? Que faut-il modifier au programme pour qu'il accepte les nombres à virgule ?"
   ]
  },
  {
   "cell_type": "markdown",
   "id": "294bdab3-eab3-4366-83a9-b2a61ba1e9cf",
   "metadata": {},
   "source": [
    "## Exercice 5b : calculette\n",
    "\n",
    "Codez maintenant une calculatrice capable d'exécuter les 4 opérations de base (addition, soustraction, multiplication, division). Attention aux valeurs \"interdites\" (par exemple : une division par 0).\n",
    "\n",
    "Voici un algorigramme simplifié :\n",
    "\n",
    "![calculette](schemas/calculatrice.png \"Calculette\")"
   ]
  },
  {
   "cell_type": "markdown",
   "id": "33b66d0b-e933-47f1-a9ec-35323b2510da",
   "metadata": {},
   "source": [
    "## Exercice 6 : ma moyenne\n",
    "\n",
    "Écrivez un programme Python qui demande à l'utilisateur de saisir trois notes, stocke ces notes dans une liste, calcule la moyenne des notes à l'aide de la liste, puis affiche la moyenne avec deux décimales.\n",
    "Instructions :\n",
    "\n",
    "- Demandez à l'utilisateur de saisir les notes d'une discipline depuis le début de l'année.\n",
    "- Stockez ces notes dans une liste.\n",
    "- Calculez la moyenne des notes en utilisant la liste.\n",
    "- Affichez la moyenne avec deux décimales."
   ]
  },
  {
   "cell_type": "markdown",
   "id": "1bd9f205-6f20-43d3-8a5e-97bf0be5d8ac",
   "metadata": {},
   "source": [
    "## Exercice 7 (pour aller plus loin)\n",
    "\n",
    "Même donnée que l'exercice 6 mais avec toutes les disciplines. Vous devez obtenir la moyenne de chaque branche et la moyenne générale."
   ]
  },
  {
   "cell_type": "markdown",
   "id": "336d7f97-4616-4198-a30c-03c18cbdb59b",
   "metadata": {},
   "source": [
    "## Exercice 8 (pour aller encore plus loin)\n",
    "\n",
    "Implémentez l'algorithme dit de \"Promotion en 2M\" décrit lors du [cours d'algorithmique](https://vkeller.github.io/modulo-gybe/1M/algo/cours/Cours11.html) à votre calculateur de moyenne de l'exercice 6."
   ]
  },
  {
   "cell_type": "code",
   "execution_count": null,
   "id": "213f0f79-51ae-4221-9661-9884de2e502a",
   "metadata": {},
   "outputs": [],
   "source": []
  }
 ],
 "metadata": {
  "kernelspec": {
   "display_name": "Python 3 (ipykernel)",
   "language": "python",
   "name": "python3"
  },
  "language_info": {
   "codemirror_mode": {
    "name": "ipython",
    "version": 3
   },
   "file_extension": ".py",
   "mimetype": "text/x-python",
   "name": "python",
   "nbconvert_exporter": "python",
   "pygments_lexer": "ipython3",
   "version": "3.9.2"
  }
 },
 "nbformat": 4,
 "nbformat_minor": 5
}
