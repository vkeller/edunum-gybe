{
 "cells": [
  {
   "cell_type": "markdown",
   "id": "8011b187-ee26-4d32-b91e-26dca9c2020b",
   "metadata": {},
   "source": [
    "![clef](images/clef.jpg \"Clef de cryptage\")\n",
    "\n",
    "# TP CRYP01 : Introduction à la cryptographie\n",
    "\n",
    "## Objectifs\n",
    "\n",
    "- Modéliser une scytale\n",
    "- Implémenter le fonctionnement de la scytale:\n",
    "    - chiffrer un texte clair avec connaissance de la clef\n",
    "    - déchiffrer un texte crypté avec connaissance de la clef\n",
    "- Déchiffrer un texte crypté sans connaissance de la clef\n",
    "    - attaque par force brute\n",
    "    - reconnaissance de la langue\n",
    "    - élagage des solutions peu probables"
   ]
  },
  {
   "cell_type": "markdown",
   "id": "1ae67861-a915-4128-b5c1-15f0da205ec6",
   "metadata": {},
   "source": [
    "## Modélisation d'une scytale\n",
    "\n",
    "La [scytale](https://vkeller.github.io/modulo-gybe/1M/algo/cours/Cours10.html) est l'un des premiers dispositifs permettant de chiffrer ou déchiffrer un message. La méthode de chiffrement se fait **par transposition**.\n",
    "\n",
    "Concrètement, le message à crypter est écrit sur un rouleau de papier ou de cuir enroulé sur la **scytale** (ou **Bâton de Plutarque**) :\n",
    "\n",
    "```\n",
    "       | u | n | e | s | c | y |\n",
    "       | t | a | l | e | . | . |\n",
    "   | c | e | c | i | e | s |\n",
    "   | t | u | n | m | e | s |\n",
    "   | s | a | g | e | e | c |\n",
    "   | r | i | t | s | u | r |\n",
    "```\n",
    "\n",
    "\n",
    "Une fois déroulé, le message devient :\n",
    "\n",
    "```\n",
    "c t s r u t e u a i n a c n g t e l i m e s s e e e e u c . s s c r y .\n",
    "```\n",
    "\n",
    "Le **clé de codage**, c'est à dire le décalage sur la scytale vaut : `clef = 6`. Cette clef permet de chiffrer et déchiffrer le message clair et codé.\n",
    "\n",
    "### Décalage\n",
    "\n",
    "Le décalage (lié à la clef de codage/décodage) est lié au nombre de lettres que l'on peut inscrire sur le périmètre de la scytale. Par conséquent, la clef est directement liée au rayon de la scytale.\n",
    "\n",
    "### Attaque en force brute\n",
    "\n",
    "Si **on ne connaît pas la clef de codage/décodage**, le seul moyen de décoder le message est de tester **toutes les possibilités de décalage des lettres** et de reconnaître un éventuel message clair. \n",
    "\n",
    "C'est la technique de la **force brute**.\n",
    "\n",
    "### Analyse de la langue utilisée\n",
    "\n",
    "Pour pimenter la difficulté, les messages sont écrit dans des langues différentes. Dans ce TP, nous utiliserons le **français** et **l'anglais**. La question devient donc : si l'on ne connaît pas la clef, comment faire *comprendre* à l'ordinateur qu'une phrase décryptée est peut-être la solution de décodage ?\n",
    "\n",
    "Deux possibilités existent pour ce faire :\n",
    "\n",
    "1. Une **analyse fréquentielle** : on compare la fréquence de chaque lettre du message codé avec la fréquence d'utilisation des lettres de chacune des langues. On prend la plus proche.\n",
    "1. Une analyse par **apparition des mots les plus courants** des deux langues."
   ]
  },
  {
   "cell_type": "markdown",
   "id": "1459b8df-897a-4bdb-ac4c-6040b576a3ef",
   "metadata": {},
   "source": [
    "## Exercice 1 : déclarer les phrases claires\n",
    "\n",
    "Ouvrez l'IDE Python et créez un nouveau fichier `crypto.py`."
   ]
  },
  {
   "cell_type": "code",
   "execution_count": 1,
   "id": "7266d613-ef71-4ddd-8f7f-0864c32aefcf",
   "metadata": {},
   "outputs": [],
   "source": [
    "phrase_a_1 = \"Arise, you have nothing to lose but your barbed wire fences!\"\n",
    "phrase_a_2 = \"If privacy is outlawed, only outlaws will have privacy\"\n",
    "phrase_a_3 = \"Show me a person who has nothing to hide, and I’ll show you a person who is either exceedingly dull or an exhibitionist\"\n",
    "phrase_a_4 = \"One of the best ways to achieve justice is to expose injustice\"\n",
    "phrase_a_5 = \"I am a future-hacker ; I am trying to get root access to the future. I want to ride its system of thought\"\n",
    "phrase_a_6 = \"Girls need modems\"\n",
    "\n",
    "phrase_f_1 = \"La valeur d’un trésor réside dans son secret\"\n",
    "phrase_f_2 = \"La cryptographie est la forme la plus aboutie de l’action directe non-violente\"\n",
    "phrase_f_3 = \"L’argent c’est du temps, sauf si vous n’avez pas l’un ou l’autre\"\n",
    "phrase_f_4 = \"Un téléphone portable émet des signaux de localisation. Lorsqu’on a un téléphone portable, le réseau sait toujours où l’on se trouve\"\n",
    "phrase_f_5 = \"Si vous possédez une bibliothèque et un jardin, vous avez tout ce qu’il vous faut\"\n",
    "phrase_f_6 = \"Combien de vous n’ont pas violé de loi ce mois-ci ?\"\n",
    "phrase_f_7 = \"Si vous surveillez tout le monde, vous ne surveillez personne\""
   ]
  },
  {
   "cell_type": "markdown",
   "id": "4da50a59-72fe-4998-8b94-58ea391ab6d5",
   "metadata": {},
   "source": [
    "## Exercice 2 : Créez les datasets\n",
    "\n",
    "Ces ensembles de données permettront de tester les différentes fonctions de chiffrement et de déchiffrement"
   ]
  },
  {
   "cell_type": "code",
   "execution_count": 2,
   "id": "6fd84b0f-75ed-47b8-be37-0b53b5d9c828",
   "metadata": {},
   "outputs": [],
   "source": [
    "dataset_a = [phrase_a_1,phrase_a_2,phrase_a_3,phrase_a_4,phrase_a_5,phrase_a_6]\n",
    "dataset_f = [phrase_f_1,phrase_f_2,phrase_f_3,phrase_f_4,phrase_f_5,phrase_f_6,phrase_f_7]"
   ]
  },
  {
   "cell_type": "markdown",
   "id": "ffca4ef9-03fe-4dd6-8e46-c8e8d638af3f",
   "metadata": {},
   "source": [
    "## Exercice 3 : Construction de la fonction de chiffrement\n",
    "\n",
    "La signature de la fonction de chiffrement est la suivante :\n",
    "\n",
    "```\n",
    "# Fonction permettant de chiffrer un texte en clair\n",
    "# Argument 1 : le texte clair\n",
    "# Argument 2 : la clef de chiffrage\n",
    "# Retour     : le texte chiffré\n",
    "def chiffre(texte_clair,saut):\n",
    "```\n",
    "\n",
    "Elle prend en paramètre le texte clair à chiffrer ainsi que le clef de chiffrement. Et le retourne la phrase chiffrée. L'algorithme est donc :\n",
    "\n",
    "1. POUR toute lettre du `texte_clair` faire\n",
    "    1. calculer la position chiffrée `pos_c` : `pos_c = pos_c + clef`\n",
    "    1. SI on a atteint la fin du texte_clair `l`, alors incrémenter : `if (pos_c > l-1)`\n",
    "        1. `dec = dec + 1`\n",
    "        1. la position dans le texte chiffré devient la valeur de décrément : `pos_c = dec`\n",
    "    1. Ajouter la lettre chiffrée à la position `pos_c`dans le `texte_chiffre` : `texte_chiffre = texte_chiffre + texte_clair[pos_c]`\n",
    "1. retourner `texte_chiffre` : `return texte_chiffre`\n",
    "\n",
    "Sous forme d'algorigramme :\n",
    "\n",
    "![chiffrement](diags/chiffrement2.jpg \"Algorigramme de chiffrement\")"
   ]
  },
  {
   "cell_type": "code",
   "execution_count": 3,
   "id": "1d16ddb4-7987-4bf5-94f4-1e67f8319e61",
   "metadata": {},
   "outputs": [],
   "source": [
    "# Fonction permettant de chiffrer un texte en clair\n",
    "# Argument 1 : le texte clair\n",
    "# Argument 2 : la clef de chiffrage\n",
    "# Retour     : le texte chiffré\n",
    "def chiffre(texte_clair,clef):\n",
    "    texte_chiffre = ''\n",
    "    # la variable pos contient l'index (la position) dans le texte clair\n",
    "    pos = 0\n",
    "    # la variable dec contient l'incrément négatif lorsque la longueur du texte clair est atteinte\n",
    "    dec = 0\n",
    "    # la variable pos_c contient l'index (la position) dans le texte chiffré\n",
    "    pos_c = 0\n",
    "    # la variable l contient la longueur du texte clair\n",
    "    l = len(texte_clair)\n",
    "    # A REMPLIR ICI\n",
    "\n",
    "    return texte_chiffre  "
   ]
  },
  {
   "cell_type": "markdown",
   "id": "2b055a43-6581-4d61-8998-2ceb1b1b1aa2",
   "metadata": {},
   "source": [
    "## Exercice 4 : Construction de la fonction de déchiffrement\n",
    "\n",
    "La fonction de déchiffrement est parfaitement équivalente à la fonction de chiffrement. La seule différence est qu'elle prend en paramètre le `texte_chiffre` et que la position chiffrée `pos_c` devient la position dans le texte clair.\n",
    "\n",
    "**Attention** : on travaille ici avec une liste `ret` pour recréer le texte clair et initialisée à la longueur du texte chiffré, puisqu'**il n'est pas possible de changer un caractère dans une chaîne**. Le retour s'effectue avec la fonction `''.join(ret)` qui transforme une liste en chaîne de caractères. "
   ]
  },
  {
   "cell_type": "code",
   "execution_count": 4,
   "id": "5f394a16-022a-4bff-8ed7-730ae1b2ea89",
   "metadata": {},
   "outputs": [],
   "source": [
    "# Fonction permettant de déchiffrer un texte crypté\n",
    "# Argument 1 : le texte crypté\n",
    "# Argument 2 : la clef de chiffrage\n",
    "# Retour     : le texte déchiffré\n",
    "def dechiffre(texte_chiffre,clef):\n",
    "    # la variable l contient la longueur du texte chiffré\n",
    "    l = len(texte_chiffre)\n",
    "    # la variable pos continent l'index (la position) dans le texte chiffré\n",
    "    pos = 0\n",
    "    # la varibale pos_c contient l'index (la position) dans le texte clair\n",
    "    pos_c = 0\n",
    "    # la variable dec contient la valeur de l'incrément positif\n",
    "    dec = 0\n",
    "    # la variable ret est une liste de longueur l qui est vide et que l'on va remplir avec les lettre du texte chiffré\n",
    "    ret = ['' for _ in range(l)]\n",
    "\n",
    "    ## A REMPLIR ICI\n",
    "    \n",
    "    # on retourne une chaîne de caractères (''.join(ret) retourne la transformation de la liste en chaîne de caractères)\n",
    "    return ''.join(ret)"
   ]
  },
  {
   "cell_type": "markdown",
   "id": "1fec00cd-84e1-4e47-8aa7-28a34f8a8ddf",
   "metadata": {},
   "source": [
    "## Exercice 5 : Analyse linguistique du texte déchiffré\n",
    "\n",
    "Lorsqu'on a un très grand texte chiffré, la difficulté humaine lorsqu'on utilise la méthode de la force brute, est de devoir lire tous les résultats. Il peut y en avoir énormément et cela prend du temps. On peut demander à l'ordinateur de le faire à notre place.\n",
    "\n",
    "1. Analyser chaque sous-chaîne de caractère du texte décrypté\n",
    "1. Comparer avec un ensemble de mot très couramment utilisé dans les langues cibles.\n",
    "1. Si \"peu\" de mots apparaissent, la clef n'est *probablement* pas la bonne, sinon, on conserve la solution possible\n",
    "\n",
    "La fonction `analyse_langue(texte)` a la signature suivante :\n",
    "\n",
    "```\n",
    "# Fonction permettant de retourner la langue d'un texte donné en paramètre\n",
    "# sur la base d'une analyse de certains mots clefs\n",
    "# La liste des mots clefs est basée sur les classements internationaux (comme COCA)\n",
    "# Argument 1 : le texte clair\n",
    "# Retour     : une liste qui contient : [la langue possible, le nombre d'occurences des mots-clefs] \n",
    "def analyse_langue(texte):\n",
    "```\n",
    "\n",
    "elle doit permettre de trouver si le texte est en **français** ou en **anglais**, sans garantie d'exactitude. Il s'agit d'abord de définir une suite des mots les plus utilisés en français et en anglais. Une recherche internet devrait vous y aider."
   ]
  },
  {
   "cell_type": "code",
   "execution_count": 5,
   "id": "6c8ca893-0933-4f66-b24d-9244324f2ebf",
   "metadata": {},
   "outputs": [],
   "source": [
    "    mots_clefs_f = ['le','la','les','un','une','de','des','il','elle','et','non','est','on','vous','nous','se','pas','leur']\n",
    "    mots_clefs_a = ['the','be','to','of','and','in','that','have','it','for','not','is','if']"
   ]
  },
  {
   "cell_type": "markdown",
   "id": "94e74fcd-4be2-457d-ace7-1353290743e9",
   "metadata": {},
   "source": [
    "L'idée ensuite est d'analyser l'ensemble de la chaîne de caractère passée en paramètre `texte` et de compter les occurences de chacun des mots-clefs en français `nbr_f`, puis en anglais `nbr_a`. La méthode `texte.startwith(sousChaine,i)` permet de retourner `True` si la sous-chaîne de caractères `sousChaine` à rechercher dans la chaîne `texte` à l'index `i`:\n",
    "\n",
    "```\n",
    "if texte.startwith(mot_clefs_f[i],position) :\n",
    "    # on incrémente le nombre d'occurences françaises de 1\n",
    "    nbr_f = nbr_f + 1\n",
    "```\n",
    "\n",
    "\n",
    "On compare ensuite les deux valeurs :\n",
    "\n",
    "```\n",
    "if (nbf_f == nbr_a):\n",
    "#    on ne peut pas discriminer les deux langues, on retourne NULL:\n",
    "    langue = 'NULL'\n",
    "    retour = [langue,nbr_a]\n",
    "elif (nbr_f > nbr_a):\n",
    "#    le texte est en français\n",
    "    langue = 'FRA'\n",
    "    retour = [langue,nbr_f]\n",
    "else:\n",
    "#    le texte est en anglais\n",
    "    langue = 'ENG'\n",
    "    retour = [langue,nbr_a]\n",
    "```\n",
    "\n",
    "on retourne finalement la valeur de la liste avec le nombre d'occurences:\n",
    "\n",
    "```\n",
    "return retour\n",
    "```"
   ]
  },
  {
   "cell_type": "code",
   "execution_count": 6,
   "id": "4a8d6895-bfdb-44b1-b494-c14d80aa7649",
   "metadata": {},
   "outputs": [],
   "source": [
    "# Fonction permettant de retourner la langue d'un texte donné en paramètre\n",
    "# sur la base d'une analyse de certains mots clefs\n",
    "# La liste des mots clefs est basée sur les classements internationaux (comme COCA)\n",
    "# Argument 1 : le texte clair\n",
    "# Retour     : une liste qui contient : [la langue possible, le nombre d'occurences des mots-clefs] \n",
    "def analyse_langue(texte):\n",
    "    mots_clefs_f = ['le','la','les','un','une','de','des','il','elle','et','non','est','on','vous','nous','se','pas','leur']\n",
    "    mots_clefs_a = ['the','be','to','of','and','in','that','have','it','for','not','is','if']\n",
    "    retour = ['',0]\n",
    "    l = len(texte)\n",
    "    nbr_f = 0\n",
    "    nbr_a = 0\n",
    "    for mot_clef in mots_clefs_f:\n",
    "        ## A REMPLIR ICI\n",
    "        \n",
    "    for mot_clef in mots_clefs_a:\n",
    "        ## A REMPLIR ICI\n",
    "\n",
    "    if nbr_f == 0 and nbr_a == 0:\n",
    "        ## A REMPLIR ICI\n",
    "        \n",
    "    return retour"
   ]
  },
  {
   "cell_type": "markdown",
   "id": "79f543ef-f7da-45cc-bf01-827f94b26504",
   "metadata": {},
   "source": [
    "## Exercice 6 : Chiffrement et déchiffrement des datasets français et anglais\n",
    "\n",
    "Pour chiffrer et déchiffrer, nous choisissons des clefs de codage **aléatoirement** avec le module Python `random`. Il s'agit d'importer ce module en tout début de programme :\n",
    "\n",
    "```\n",
    "import random\n",
    "```\n",
    "\n",
    "Pour **tirer un entier au hasard**, on utilise la fonction \n",
    "\n",
    "```\n",
    "random.randint(debut, fin)\n",
    "```\n",
    "\n",
    "où `debut` est la borne inférieure, `fin` la borne supérieure (non comprise). Ainsi :\n",
    "\n",
    "```\n",
    "random.randint(3,100)\n",
    "```\n",
    "\n",
    "va tirer un entier **au hasard** compris entre `3` et `100`"
   ]
  },
  {
   "cell_type": "code",
   "execution_count": 7,
   "id": "c636588d-b94f-4d27-a70e-aacfb72593db",
   "metadata": {},
   "outputs": [
    {
     "data": {
      "text/plain": [
       "5"
      ]
     },
     "execution_count": 7,
     "metadata": {},
     "output_type": "execute_result"
    }
   ],
   "source": [
    "import random\n",
    "random.randint(3,100)"
   ]
  },
  {
   "cell_type": "code",
   "execution_count": 8,
   "id": "b0e93d8f-db62-495f-8ce8-75e26cbc3c0d",
   "metadata": {},
   "outputs": [
    {
     "name": "stdout",
     "output_type": "stream",
     "text": [
      "[Cyphered] 24   : Atwroii rsleeo ,sf eey nobcuue tsh !ayvoeu rn obtahribnegd  \n",
      "  [ANALYSED 24]   : Arise, you have nothing to lose but your barbed wire fences!\n",
      "[Cyphered] 12   : Iso rf nwi olivpuylart lcilo yvauhawtacelvydae ,w i sp\n",
      "  [ANALYSED 12]   : If privacy is outlawed, only outlaws will have privacy\n",
      "[Cyphered] 31   : Sgpyh e otrdwosu  olmhnlei   dwoaehr ,o p  aeainrns sd eo exnIih ’tiwlhbhleio rt s ihheoaoxnswci  esnyetoodtuih niagn l\n",
      "  [ANALYSED 31]   : Show me a person who has nothing to hide, and I’ll show you a person who is either exceedingly dull or an exhibitionist\n",
      "[Cyphered] 27   : Oinnejevu eso tfji uctsehtei cbee sits  wtaoy se xtpoo saec hi\n",
      "  [ANALYSED 27]   : One of the best ways to achieve justice is to expose injustice\n",
      "[Cyphered] 21   : I;rti  outaIorsm te  a .sama y  cIsftc turewetysamuisn rn toegt f- ot ht otaot hc hrokgeiuee dgrtfeh  u t\n",
      "  [ANALYSED 21]   : I am a future-hacker ; I am trying to get root access to the future. I want to ride its system of thought\n",
      "[Cyphered] 8   : Gesidr lmso dneem\n",
      "  [ANALYSED 8]   : Girls need modems\n"
     ]
    }
   ],
   "source": [
    "# Création des phrases chiffrées aléatoirement\n",
    "# Et déchiffrement SANS élagage\n",
    "for phrase in dataset_a:\n",
    "    longueur = len(phrase)\n",
    "    clef = random.randint(3,int(longueur/2))\n",
    "    texte_chiffre = chiffre(phrase,clef)\n",
    "    print('[Cyphered] '+str(clef)+\"   : \"+texte_chiffre)\n",
    "    texte_dechiffre = dechiffre(texte_chiffre,clef)\n",
    "    print('  [ANALYSED '+str(clef)+']   : '+texte_dechiffre)"
   ]
  },
  {
   "cell_type": "markdown",
   "id": "e4ec9524-c144-4268-b7e6-4cf30e51a835",
   "metadata": {},
   "source": [
    "## Exercice 7 : Application de la force brute\n",
    "\n",
    "A partir de la boucle précédente, calculer toutes les possibilités et clefs associées, c'est-à-dire **sans connaître la clef a priori**"
   ]
  },
  {
   "cell_type": "markdown",
   "id": "44d37a51-f39c-4ef5-88f9-4301c3b16535",
   "metadata": {},
   "source": [
    "## Exercice 8 : Décrypter un très long texte chiffré\n",
    "\n",
    "A l'aide des trois fonctions `chiffre(texte_clair,clef)`, `dechiffre(texte_chiffre,clef)` et `analyse_langue(texte)`, déchiffrez la phrase suivante :\n",
    "\n",
    "```\n",
    "phrase_chiffree = \"Lemasp  lccerr yycppottnoonggurr aadppehh iiceqr,uy eplsta o pgsrrciaimpeihnticieev  eudste i ellxi iséséctera iipteounurtre   dpdareno stc éolgd eeArsn  tdeietqs u diietn éfc oheritmf,af tràie omunensn  tccseo rnptfoaiuidrne  nudtneiege rlcélo,em sml uadn aiptcleau tpdiaeor nt3   sd5ée0cs0u  rcaiinsvséi ele,in sveaistrtio onln. s u Unan n dcseicser niénbleeés m mesénestmosbp lopetrnaitmn icaeivnpo airurex c eoauuy raraneitct o ruàer nsld auà   cplroays psctirobyglpreta oplgh’riiaenp vhpeioneut.ri  oLdnei  sdrseeismm pucllraeycrpe tmuoen-nemt o fndonera misueylsme b eodtle e d,ge lsla açb ulfrooecr kmdceeh  alpiaon tspe lrmuiosed ,eé rlunétemisel.ni tsLaéeiesr  est uedrce h dnceirsqy uptetasob glcreratyptphetisoe g,dr  aaapprhpgiaiqrluaeeî.st  uàt illai sféoeiss  aduajnosu rlde sh uéic rsiotnst  écgeyppetnideannst  alnet ifqruueist  edt  umnées olpoontgaumei ehniss.t oLier ep ldues  daénvceileonp peexmeemnptl.e  Dceopnunius  dle  Acnet itqyupiet éd,e  lcar ycprtyopgtroagprhaipeh iae  épteér mterto udveé  tdraannss mleat ttroem bdee sd  iunnf onrombaltei oéngsy pdtei emna nnioèmrmeé  sKéhcnuurmihsoétee.p  VIoIi,c iq uli’ hviisvtaoiitr ei lf ays cai neannvtier odne  3l a9 0c0r yapntso.g r aLpeh iree mqpulia cae mceonntd udiet  sayumxb omléetsh oddaenss  alv’ainncsécersi petti osno pdhei sKtnihquuméheost eupt inl’ias épeass  ppoouurr  loeb jcercytpitfa gdee  nduimsésriimquulee rm oddeesr nien.f o r mLaetsi ornasc,i nmeasi sa ndcei ernennefso rdcee rl al ecurry pattotgrraaipth ilei n gOuni sstaiiqtu eq.u eL el epsr etmeicehrn ieqxue\"\n",
    "```"
   ]
  },
  {
   "cell_type": "code",
   "execution_count": 9,
   "id": "5139973a-2318-43d1-b825-c5a1518c6dd5",
   "metadata": {},
   "outputs": [],
   "source": [
    "phrase_chiffree = \"Lemasp  lccerr yycppottnoonggurr aadppehh iiceqr,uy eplsta o pgsrrciaimpeihnticieev  eudste i ellxi iséséctera iipteounurtre   dpdareno stc éolgd eeArsn  tdeietqs u diietn éfc oheritmf,af tràie omunensn  tccseo rnptfoaiuidrne  nudtneiege rlcélo,em sml uadn aiptcleau tpdiaeor nt3   sd5ée0cs0u  rcaiinsvséi ele,in sveaistrtio onln. s u Unan n dcseicser niénbleeés m mesénestmosbp lopetrnaitmn icaeivnpo airurex c eoauuy raraneitct o ruàer nsld auà   cplroays psctirobyglpreta oplgh’riiaenp vhpeioneut.ri  oLdnei  sdrseeismm pucllraeycrpe tmuoen-nemt o fndonera misueylsme b eodtle e d,ge lsla açb ulfrooecr kmdceeh  alpiaon tspe lrmuiosed ,eé rlunétemisel.ni tsLaéeiesr  est uedrce h dnceirsqy uptetasob glcreratyptphetisoe g,dr  aaapprhpgiaiqrluaeeî.st  uàt illai sféoeiss  aduajnosu rlde sh uéic rsiotnst  écgeyppetnideannst  alnet ifqruueist  edt  umnées olpoontgaumei ehniss.t oLier ep ldues  daénvceileonp peexmeemnptl.e  Dceopnunius  dle  Acnet itqyupiet éd,e  lcar ycprtyopgtroagprhaipeh iae  épteér mterto udveé  tdraannss mleat ttroem bdee sd  iunnf onrombaltei oéngsy pdtei emna nnioèmrmeé  sKéhcnuurmihsoétee.p  VIoIi,c iq uli’ hviisvtaoiitr ei lf ays cai neannvtier odne  3l a9 0c0r yapntso.g r aLpeh iree mqpulia cae mceonntd udiet  sayumxb omléetsh oddaenss  alv’ainncsécersi petti osno pdhei sKtnihquuméheost eupt inl’ias épeass  ppoouurr  loeb jcercytpitfa gdee  nduimsésriimquulee rm oddeesr nien.f o r mLaetsi ornasc,i nmeasi sa ndcei ernennefso rdcee rl al ecurry pattotgrraaipth ilei n gOuni sstaiiqtu eq.u eL el epsr etmeicehrn ieqxue\""
   ]
  },
  {
   "cell_type": "markdown",
   "id": "5dc9cd15-6f28-4cff-8f3f-6b5e4cf5fd02",
   "metadata": {},
   "source": [
    "## Exercice 9 : Envoyer un message crypté\n",
    "\n",
    "Envoyez un email contenant un message chiffré à un ou une camarade de classe présent dans la salle sans lui dévoiler la clef et demandez-lui de le déchiffrer."
   ]
  }
 ],
 "metadata": {
  "kernelspec": {
   "display_name": "Python 3 (ipykernel)",
   "language": "python",
   "name": "python3"
  },
  "language_info": {
   "codemirror_mode": {
    "name": "ipython",
    "version": 3
   },
   "file_extension": ".py",
   "mimetype": "text/x-python",
   "name": "python",
   "nbconvert_exporter": "python",
   "pygments_lexer": "ipython3",
   "version": "3.9.2"
  }
 },
 "nbformat": 4,
 "nbformat_minor": 5
}
