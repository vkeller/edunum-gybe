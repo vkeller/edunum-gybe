{
 "cells": [
  {
   "cell_type": "markdown",
   "id": "important-embassy",
   "metadata": {},
   "source": [
    "![](img/assiettes.jpg \"pile\")\n",
    "\n",
    "# TP1-PROG-10 - Les Piles\n",
    "\n",
    "Les **piles** sont des structures de données proches des listes. Elles permettent de gérer l'arrivé et le départ de ses éléments."
   ]
  },
  {
   "cell_type": "markdown",
   "id": "confidential-occasion",
   "metadata": {},
   "source": [
    "## Définition : La pile\n",
    "\n",
    "La **pile** est une structure de données qui permet de gérer un ensemble d'éléments et leurs arrivées et départs dans le temps. \n",
    "\n",
    "Dans une pile d'assiettes, il est possible d'accéder uniquement à la dernière ajoutée: celle qui se trouve au sommet. \n",
    "\n",
    "Il n'est donc possible d'effectuer que les opérations suivantes :\n",
    "\n",
    "* créer une nouvelle pile vide\n",
    "* empiler un nouvel élément\n",
    "* récupérer un élément au sommet de la pile\n",
    "\n",
    "Dans une pile, **le dernier élément ajouté est le premier que l'on peut enlever**\n",
    "\n",
    "Cette structure s'appelle **LIFO** (*Last In First Out* en anglais)"
   ]
  },
  {
   "cell_type": "markdown",
   "id": "99d2d9bc-655d-4453-9159-41022d4cd1ee",
   "metadata": {},
   "source": [
    "## Les opérations sur une pile en Python"
   ]
  },
  {
   "cell_type": "markdown",
   "id": "latter-principle",
   "metadata": {},
   "source": [
    "### Ajouter un élément\n",
    "\n",
    "On ajoute un élément avec la fonction `append()` et on le supprime avec la fonction `pop()`. Simulons une pile avec des livres que nous avons sur notre bureau.\n",
    "\n",
    "Commençons avec une pile vide."
   ]
  },
  {
   "cell_type": "code",
   "execution_count": 29,
   "id": "wound-neutral",
   "metadata": {},
   "outputs": [],
   "source": [
    "pile = []"
   ]
  },
  {
   "cell_type": "markdown",
   "id": "behavioral-hollow",
   "metadata": {},
   "source": [
    "Nous allons maintenant ajouter 3 livres sur la pile, en utilisant la fonction `append()`."
   ]
  },
  {
   "cell_type": "code",
   "execution_count": 30,
   "id": "sticky-ultimate",
   "metadata": {},
   "outputs": [],
   "source": [
    "pile.append('Zola')\n",
    "pile.append('Balzac')\n",
    "pile.append('Hugo')"
   ]
  },
  {
   "cell_type": "markdown",
   "id": "demonstrated-ocean",
   "metadata": {},
   "source": [
    "Voici la pile actuelle"
   ]
  },
  {
   "cell_type": "code",
   "execution_count": 31,
   "id": "micro-progressive",
   "metadata": {},
   "outputs": [
    {
     "data": {
      "text/plain": [
       "['Zola', 'Balzac', 'Hugo']"
      ]
     },
     "execution_count": 31,
     "metadata": {},
     "output_type": "execute_result"
    }
   ],
   "source": [
    "pile"
   ]
  },
  {
   "cell_type": "markdown",
   "id": "arabic-invitation",
   "metadata": {},
   "source": [
    "### Enlever un élément\n",
    "\n",
    "Dans une pile, le seul livre qui peut être enlevé est le dernier ajouté. Nous utilisons la fonction `pop()` pour enlever un livre."
   ]
  },
  {
   "cell_type": "code",
   "execution_count": 4,
   "id": "valuable-bradley",
   "metadata": {},
   "outputs": [
    {
     "data": {
      "text/plain": [
       "'Hugo'"
      ]
     },
     "execution_count": 4,
     "metadata": {},
     "output_type": "execute_result"
    }
   ],
   "source": [
    "pile.pop()"
   ]
  },
  {
   "cell_type": "markdown",
   "id": "mounted-nomination",
   "metadata": {},
   "source": [
    "Mettons 3 autres livres sur la pile."
   ]
  },
  {
   "cell_type": "code",
   "execution_count": 5,
   "id": "failing-conditions",
   "metadata": {},
   "outputs": [],
   "source": [
    "pile.append('Frisch')\n",
    "pile.append('Murakami')\n",
    "pile.append('Higgins')"
   ]
  },
  {
   "cell_type": "markdown",
   "id": "chief-python",
   "metadata": {},
   "source": [
    "Enlevons-en un."
   ]
  },
  {
   "cell_type": "code",
   "execution_count": 6,
   "id": "seeing-suffering",
   "metadata": {},
   "outputs": [
    {
     "data": {
      "text/plain": [
       "'Higgins'"
      ]
     },
     "execution_count": 6,
     "metadata": {},
     "output_type": "execute_result"
    }
   ],
   "source": [
    "pile.pop()"
   ]
  },
  {
   "cell_type": "markdown",
   "id": "quick-edwards",
   "metadata": {},
   "source": [
    "Combien de livres restent sur la pile ?"
   ]
  },
  {
   "cell_type": "code",
   "execution_count": 7,
   "id": "convenient-conjunction",
   "metadata": {},
   "outputs": [
    {
     "data": {
      "text/plain": [
       "4"
      ]
     },
     "execution_count": 7,
     "metadata": {},
     "output_type": "execute_result"
    }
   ],
   "source": [
    "len(pile)"
   ]
  },
  {
   "cell_type": "markdown",
   "id": "funded-incidence",
   "metadata": {},
   "source": [
    "Lesquels?"
   ]
  },
  {
   "cell_type": "code",
   "execution_count": 8,
   "id": "daily-worse",
   "metadata": {},
   "outputs": [
    {
     "data": {
      "text/plain": [
       "['Zola', 'Balzac', 'Frisch', 'Murakami']"
      ]
     },
     "execution_count": 8,
     "metadata": {},
     "output_type": "execute_result"
    }
   ],
   "source": [
    "pile"
   ]
  },
  {
   "cell_type": "markdown",
   "id": "gothic-montana",
   "metadata": {},
   "source": [
    "## Exercice 1  : Fonctions d'ajout et de suppression\n",
    "\n",
    "Il est possible de simplifier les deux **primitives** \n",
    "\n",
    "1. ajouter un élément\n",
    "1. enlever un élément\n",
    "\n",
    "à l'aide d'une fonction (un sous-programme). Chaque fonction prendra comme **argument** une pile. Cela permet \n",
    "\n",
    "- de pouvoir gérer plusieurs piles en même temps\n",
    "- de s'affranchir de la notion d'index\n",
    "\n",
    "A vous de définir les deux fonctions ayant les signatures suivantes :"
   ]
  },
  {
   "cell_type": "code",
   "execution_count": 1,
   "id": "9598b1af-3884-45de-8fc1-caebdc221892",
   "metadata": {},
   "outputs": [],
   "source": [
    "def ajouter(pile,element):\n",
    "    # Modifier la méthode suivante\n",
    "    pile.extend(element)"
   ]
  },
  {
   "cell_type": "code",
   "execution_count": 2,
   "id": "a2c100bc-4bc5-453f-82b1-fd97af79367f",
   "metadata": {},
   "outputs": [],
   "source": [
    "def supprimer(pile):\n",
    "    # modifier les méthodes suivantes\n",
    "    element = pile[len(pile)]\n",
    "    print(\"Element supprimé : \",element)\n",
    "    pile.pop(1)"
   ]
  },
  {
   "cell_type": "markdown",
   "id": "a1de7a70-e773-4c35-8906-0f2c187b9c2f",
   "metadata": {},
   "source": [
    "Indication : Pour atteindre le dernier élément ajouté à la pile, il faut analyser le nombre d'éléments dans la pile et la correspondance avec l'index (`longueur - 1`)"
   ]
  },
  {
   "cell_type": "markdown",
   "id": "latin-karma",
   "metadata": {},
   "source": [
    "## Afficher les éléments\n",
    "\n",
    "Essayons d'afficher la pile des livres."
   ]
  },
  {
   "cell_type": "code",
   "execution_count": 9,
   "id": "residential-species",
   "metadata": {},
   "outputs": [
    {
     "name": "stdout",
     "output_type": "stream",
     "text": [
      "Zola\n",
      "Balzac\n",
      "Frisch\n",
      "Murakami\n"
     ]
    }
   ],
   "source": [
    "for livre in pile:\n",
    "    print(livre)"
   ]
  },
  {
   "cell_type": "markdown",
   "id": "answering-bookmark",
   "metadata": {},
   "source": [
    "Le problème avec cette façon d'imprimer c'est que la pile n'est pas dans le bon ordre. Nous pouvons utiliser l'opérateur de tranche `[::-1]` pour inverser l'ordre d'une liste."
   ]
  },
  {
   "cell_type": "code",
   "execution_count": 10,
   "id": "hispanic-syntax",
   "metadata": {},
   "outputs": [
    {
     "name": "stdout",
     "output_type": "stream",
     "text": [
      "Murakami\n",
      "Frisch\n",
      "Balzac\n",
      "Zola\n"
     ]
    }
   ],
   "source": [
    "for livre in pile[::-1]:\n",
    "    print(livre)"
   ]
  },
  {
   "cell_type": "markdown",
   "id": "eb1d89be-5a72-4824-b5c8-95f57c221762",
   "metadata": {},
   "source": [
    "## Exercice 1bis (facultatif) : Fonction d'affichage de l'état de la pile\n",
    "\n",
    "Ecrivez une fonction qui affiche l'état d'une pile donnée en argument. L'affichage se fera selon l'ordre \"logique\" (le premier élément ajouté se trouve au bas de la pile)"
   ]
  },
  {
   "cell_type": "markdown",
   "id": "activated-consideration",
   "metadata": {},
   "source": [
    "## Exercice 2 : Tour de Hanoï\n",
    "\n",
    "Connaissez-vous l'**énigme des Tours de Hanoï** ? C'est un jeu de réflexion qui consiste à déplacer des disques de diamètre différent d'une tour de départ à une tour d'arrivée en utilisant une tour intéremédiaire. Visuellement, l'état de départ ressemble à ceci :\n",
    "\n",
    "![hanoi_debut](img/hanoi_debut.png \"Tour de Hanoï\")\n",
    "\n",
    "Et l'objectif est d'arriver sur la tour de droite en passant par celle du milieu. L'entier de la solution est la suivante :\n",
    "\n",
    "![hanoi](img/hanoi3.png \"Tour de Hanoï\")\n",
    "\n",
    "1. Décrivez l'algorithme de la solution avec un algorigramme (sur papier)\n",
    "    1. Observez les différences (nombre de disques pair, impair) et similitudes (déplacements)\n",
    "1. Implémentez une fonction `deplacer(pileDepart, pileArrivee)` qui permet de déplacer nu disque\n",
    "    1. Définissez 3 piles : `p1`, `p2` et `p3`\n",
    "    1. Utilisez vos fonctions `ajouter(pile, element)`, `supprimer(pile)` et `afficher(pile)` de l'exercice 1\n",
    "1. Implémentez l'algorithme pour résoudre le problème des tours de Hanoï\n",
    "1. Vérifiez que votre algorithme fonctionne avec un nombre quelconque de disques"
   ]
  },
  {
   "cell_type": "code",
   "execution_count": null,
   "id": "05cf2ff4-2922-497c-a001-27b285aea0c4",
   "metadata": {},
   "outputs": [],
   "source": []
  }
 ],
 "metadata": {
  "kernelspec": {
   "display_name": "Python 3 (ipykernel)",
   "language": "python",
   "name": "python3"
  },
  "language_info": {
   "codemirror_mode": {
    "name": "ipython",
    "version": 3
   },
   "file_extension": ".py",
   "mimetype": "text/x-python",
   "name": "python",
   "nbconvert_exporter": "python",
   "pygments_lexer": "ipython3",
   "version": "3.9.2"
  }
 },
 "nbformat": 4,
 "nbformat_minor": 5
}
