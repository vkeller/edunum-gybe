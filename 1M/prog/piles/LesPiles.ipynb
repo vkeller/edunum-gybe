{
 "cells": [
  {
   "cell_type": "markdown",
   "id": "important-embassy",
   "metadata": {},
   "source": [
    "![](img/assiettes.jpg \"pile\")\n",
    "\n",
    "# TP1-PROG-09 - Les Piles\n",
    "\n",
    "Les **piles** sont des structures de données proches des listes. Elles permettent de gérer l'arrivé et le départ de ses éléments."
   ]
  },
  {
   "cell_type": "markdown",
   "id": "confidential-occasion",
   "metadata": {},
   "source": [
    "## Définition : La pile\n",
    "\n",
    "La **pile** est une structure de données qui permet de gérer un ensemble d'éléments et leurs arrivées et départs dans le temps. \n",
    "\n",
    "Dans une pile d'assiettes, il est possible d'accéder uniquement à la dernière ajoutée: celle qui se trouve au sommet. \n",
    "\n",
    "Il n'est donc possible d'effectuer que les opérations suivantes :\n",
    "\n",
    "* créer une nouvelle pile vide\n",
    "* empiler un nouvel élément\n",
    "* récupérer un élément au sommet de la pile\n",
    "\n",
    "Dans une pile, **le dernier élément ajouté est le premier que l'on peut enlever**\n",
    "\n",
    "Cette structure s'appelle **LIFO** (*Last In First Out* en anglais)"
   ]
  },
  {
   "cell_type": "markdown",
   "id": "99d2d9bc-655d-4453-9159-41022d4cd1ee",
   "metadata": {},
   "source": [
    "## Les opérations sur une pile en Python"
   ]
  },
  {
   "cell_type": "markdown",
   "id": "latter-principle",
   "metadata": {},
   "source": [
    "### Ajouter un élément\n",
    "\n",
    "On ajoute un élément avec la fonction `append()` et on le supprime avec la fonction `pop()`. Simulons une pile avec des livres que nous avons sur notre bureau.\n",
    "\n",
    "Commençons avec une pile vide."
   ]
  },
  {
   "cell_type": "code",
   "execution_count": 29,
   "id": "wound-neutral",
   "metadata": {},
   "outputs": [],
   "source": [
    "pile = []"
   ]
  },
  {
   "cell_type": "markdown",
   "id": "behavioral-hollow",
   "metadata": {},
   "source": [
    "Nous allons maintenant ajouter 3 livres sur la pile, en utilisant la fonction `append()`."
   ]
  },
  {
   "cell_type": "code",
   "execution_count": 30,
   "id": "sticky-ultimate",
   "metadata": {},
   "outputs": [],
   "source": [
    "pile.append('Zola')\n",
    "pile.append('Balzac')\n",
    "pile.append('Hugo')"
   ]
  },
  {
   "cell_type": "markdown",
   "id": "demonstrated-ocean",
   "metadata": {},
   "source": [
    "Voici la pile actuelle"
   ]
  },
  {
   "cell_type": "code",
   "execution_count": 31,
   "id": "micro-progressive",
   "metadata": {},
   "outputs": [
    {
     "data": {
      "text/plain": [
       "['Zola', 'Balzac', 'Hugo']"
      ]
     },
     "execution_count": 31,
     "metadata": {},
     "output_type": "execute_result"
    }
   ],
   "source": [
    "pile"
   ]
  },
  {
   "cell_type": "markdown",
   "id": "arabic-invitation",
   "metadata": {},
   "source": [
    "### Enlever un élément\n",
    "\n",
    "Dans une pile, le seul livre qui peut être enlevé est le dernier ajouté. Nous utilisons la fonction `pop()` pour enlever un livre."
   ]
  },
  {
   "cell_type": "code",
   "execution_count": 4,
   "id": "valuable-bradley",
   "metadata": {},
   "outputs": [
    {
     "data": {
      "text/plain": [
       "'Hugo'"
      ]
     },
     "execution_count": 4,
     "metadata": {},
     "output_type": "execute_result"
    }
   ],
   "source": [
    "pile.pop()"
   ]
  },
  {
   "cell_type": "markdown",
   "id": "mounted-nomination",
   "metadata": {},
   "source": [
    "Mettons 3 autres livres sur la pile."
   ]
  },
  {
   "cell_type": "code",
   "execution_count": 5,
   "id": "failing-conditions",
   "metadata": {},
   "outputs": [],
   "source": [
    "pile.append('Frisch')\n",
    "pile.append('Murakami')\n",
    "pile.append('Higgins')"
   ]
  },
  {
   "cell_type": "markdown",
   "id": "chief-python",
   "metadata": {},
   "source": [
    "Enlevons-en un."
   ]
  },
  {
   "cell_type": "code",
   "execution_count": 6,
   "id": "seeing-suffering",
   "metadata": {},
   "outputs": [
    {
     "data": {
      "text/plain": [
       "'Higgins'"
      ]
     },
     "execution_count": 6,
     "metadata": {},
     "output_type": "execute_result"
    }
   ],
   "source": [
    "pile.pop()"
   ]
  },
  {
   "cell_type": "markdown",
   "id": "quick-edwards",
   "metadata": {},
   "source": [
    "Combien de livres restent sur la pile ?"
   ]
  },
  {
   "cell_type": "code",
   "execution_count": 7,
   "id": "convenient-conjunction",
   "metadata": {},
   "outputs": [
    {
     "data": {
      "text/plain": [
       "4"
      ]
     },
     "execution_count": 7,
     "metadata": {},
     "output_type": "execute_result"
    }
   ],
   "source": [
    "len(pile)"
   ]
  },
  {
   "cell_type": "markdown",
   "id": "funded-incidence",
   "metadata": {},
   "source": [
    "Lesquels?"
   ]
  },
  {
   "cell_type": "code",
   "execution_count": 8,
   "id": "daily-worse",
   "metadata": {},
   "outputs": [
    {
     "data": {
      "text/plain": [
       "['Zola', 'Balzac', 'Frisch', 'Murakami']"
      ]
     },
     "execution_count": 8,
     "metadata": {},
     "output_type": "execute_result"
    }
   ],
   "source": [
    "pile"
   ]
  },
  {
   "cell_type": "markdown",
   "id": "gothic-montana",
   "metadata": {},
   "source": [
    "### Exercice 1  \n",
    "\n",
    "Enlevez d'abord un livre et ajoutez ensuite deux nouveaux livres à vous."
   ]
  },
  {
   "cell_type": "markdown",
   "id": "latin-karma",
   "metadata": {},
   "source": [
    "## Afficher les éléments\n",
    "\n",
    "Essayons d'afficher la pile des livres."
   ]
  },
  {
   "cell_type": "code",
   "execution_count": 9,
   "id": "residential-species",
   "metadata": {},
   "outputs": [
    {
     "name": "stdout",
     "output_type": "stream",
     "text": [
      "Zola\n",
      "Balzac\n",
      "Frisch\n",
      "Murakami\n"
     ]
    }
   ],
   "source": [
    "for livre in pile:\n",
    "    print(livre)"
   ]
  },
  {
   "cell_type": "markdown",
   "id": "answering-bookmark",
   "metadata": {},
   "source": [
    "Le problème avec cette façon d'imprimer c'est que la pile n'est pas dans le bon ordre. Nous pouvons utiliser l'opérateur de tranche `[::-1]` pour inverser l'ordre d'une liste."
   ]
  },
  {
   "cell_type": "code",
   "execution_count": 10,
   "id": "hispanic-syntax",
   "metadata": {},
   "outputs": [
    {
     "name": "stdout",
     "output_type": "stream",
     "text": [
      "Murakami\n",
      "Frisch\n",
      "Balzac\n",
      "Zola\n"
     ]
    }
   ],
   "source": [
    "for livre in pile[::-1]:\n",
    "    print(livre)"
   ]
  },
  {
   "cell_type": "markdown",
   "id": "activated-consideration",
   "metadata": {},
   "source": [
    "## Exercice 2 : Tour de Hanoï\n",
    "\n",
    "Connaissez-vous l'**énigme des Tours de Hanoï** ? C'est un jeu de réflexion qui consiste à déplacer des disques de diamètre différent d'une tour de départ à une tour d'arrivée en utilisant une tour intéremédiaire. Visuellement, l'état de départ ressemble à ceci :\n",
    "\n",
    "![hanoi_debut](img/hanoi_debut.png \"Tour de Hanoï\")\n",
    "\n",
    "Et l'objectif est d'arriver sur la tour de droite en passant par celle du milieu. L'entier de la solution est la suivante :\n",
    "\n",
    "![hanoi](img/hanoi3.png \"Tour de Hanoï\")\n",
    "\n",
    "1. Décrivez l'algorithme de la solution avec un algorigramme (sur papier)\n",
    "1. Implémentez l'algorithme pour résoudre le problème des tours de Hanoï (avec 4 disques)\n",
    "    1. Utilisez trois piles\n",
    "1. Vérifiez que votre algorithme fonctionne avec un nombre quelconque de disques\n",
    "\n",
    "(Rappel : affichez la pile qui reste avec l'opérateur de tranche `[::-1]`.)"
   ]
  }
 ],
 "metadata": {
  "kernelspec": {
   "display_name": "Python 3 (ipykernel)",
   "language": "python",
   "name": "python3"
  },
  "language_info": {
   "codemirror_mode": {
    "name": "ipython",
    "version": 3
   },
   "file_extension": ".py",
   "mimetype": "text/x-python",
   "name": "python",
   "nbconvert_exporter": "python",
   "pygments_lexer": "ipython3",
   "version": "3.9.2"
  }
 },
 "nbformat": 4,
 "nbformat_minor": 5
}
