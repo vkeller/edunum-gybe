{
 "cells": [
  {
   "cell_type": "markdown",
   "id": "026cf8cd",
   "metadata": {},
   "source": [
    "![escargot](images/escargot.jpg \"Scheck\")\n",
    "\n",
    "# TP-PROG-04 - Dessiner des spirales\n",
    "\n",
    "**Objectif :** \n",
    "\n",
    "- approfondir le concept de fonction et de boucles\n",
    "- introduire et tester la récursivité\n"
   ]
  },
  {
   "cell_type": "markdown",
   "id": "3a4fef19-cb6d-4a3c-89c1-5bb7a297a3d1",
   "metadata": {},
   "source": [
    "## Définition d’une spirales\n",
    "\n",
    "Une spirale est un objet formé de segments dont la longueur augmente à chaque itération\n",
    "\n",
    "\n",
    "## Exercice 1\n",
    "\n",
    "Ecrivez un programme qui dessine une spirale qui commence avec une longueur de segment de 2 et qui augmente chaque fois de 1. L’angle choisi est de 30"
   ]
  },
  {
   "cell_type": "markdown",
   "id": "c7476084-c821-42f5-a871-2b6287f034d9",
   "metadata": {},
   "source": [
    "## Exercice 2\n",
    "\n",
    "Modifiez votre programme en écrivant une fonction spirale() qui reprend chaque étape du programme principal"
   ]
  },
  {
   "cell_type": "markdown",
   "id": "1229aab3-6495-4951-815a-e995bb0916cd",
   "metadata": {},
   "source": [
    "\n",
    "## Exercice 3\n",
    "\n",
    "Réécrivez votre fonction spirale() avec un paramètre (le nombre de segments)\n",
    "\n",
    "```\n",
    "def spirale(nbr):\n",
    "```"
   ]
  },
  {
   "cell_type": "markdown",
   "id": "85ff346b-7eb0-475d-80f4-ca22f15673f9",
   "metadata": {},
   "source": [
    "## Exercice 4\n",
    "\n",
    "Ecrivez une fonction spirale(nbr,angle) avec deux paramètres : le nombre de segments et l’angle."
   ]
  },
  {
   "cell_type": "markdown",
   "id": "0ab1fa7d-6a69-4121-b70a-53c4600365dc",
   "metadata": {},
   "source": [
    "## Exercice 5 (a step forward)\n",
    "\n",
    "Est-il possible d’améliorer la courbure de la spirale et donc d’affiner le segment en arc de cercle ?\n",
    "\n",
    "**Indications :**\n",
    "\n",
    "On peut utiliser la fonction `circle()` qui prend en paramètre deux nombres : \n",
    "\n",
    "```\n",
    "t.circle(rayon, angle)\n",
    "```"
   ]
  },
  {
   "cell_type": "markdown",
   "id": "fd06e795-9a6d-422a-bac0-741c8a8938bc",
   "metadata": {},
   "source": [
    "## Exercice 6 (Très difficile)\n",
    "\n",
    "La suite de Fibonacci (Leonardo Fibonacci, né en 1170 à Pise en Italie et mort dans cette même ville en 1250) est une suite définie par la relation suivante :\n",
    "\n",
    "```\n",
    "fib(0) = 1\n",
    "fib(1) = 1\n",
    "fib(n) = fib(n-2) + fib(n-1)\n",
    "```\n",
    "on appelle ce type de relation : une **suite récursive**\n",
    "\n",
    "Les premiers éléments de la suite de Fibonacci sont : `1,1,2,3,5,8,13,...`\n",
    "\n",
    "En **informatique**, cela se défini par une fonction **qui s'appelle elle-même**\n",
    "\n",
    "### Exercice 6.1\n",
    "\n",
    "Ecrivez une fonction `def fib(n):` récursive qui produit la suite de Fibonacci\n",
    "\n",
    "### Exercice 6.2\n",
    "\n",
    "Utilisez la fonction `fib(n)` pour dessiner une spirale de Fibonacci (le rayon est constitué de la suite de Fibonacci)"
   ]
  },
  {
   "cell_type": "code",
   "execution_count": null,
   "id": "09004db8-6f7e-454b-9763-d7150b4d3153",
   "metadata": {},
   "outputs": [],
   "source": []
  }
 ],
 "metadata": {
  "kernelspec": {
   "display_name": "Python 3 (ipykernel)",
   "language": "python",
   "name": "python3"
  },
  "language_info": {
   "codemirror_mode": {
    "name": "ipython",
    "version": 3
   },
   "file_extension": ".py",
   "mimetype": "text/x-python",
   "name": "python",
   "nbconvert_exporter": "python",
   "pygments_lexer": "ipython3",
   "version": "3.9.2"
  }
 },
 "nbformat": 4,
 "nbformat_minor": 5
}
