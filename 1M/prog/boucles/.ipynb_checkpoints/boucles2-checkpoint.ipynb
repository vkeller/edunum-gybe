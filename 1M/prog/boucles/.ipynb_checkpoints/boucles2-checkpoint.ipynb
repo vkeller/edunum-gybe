{
 "cells": [
  {
   "cell_type": "markdown",
   "id": "026cf8cd",
   "metadata": {},
   "source": [
    "# Dessiner des spirales\n",
    "\n",
    "**Objectif :** approfondir le concept de fonction et de boucles\n",
    "\n",
    "## Définition d’une spirales\n",
    "\n",
    "Une spirale est un objet formé de segments dont la longueur augmente à chaque itération\n",
    "\n",
    "\n",
    "## Exercice 1\n",
    "\n",
    "Ecrivez un programme qui dessine une spirale qui commence avec une longueur de segment de 2 et qui augmente chaque fois de 1. L’angle choisi est de 30\n",
    "\n",
    "## Exercice 2\n",
    "\n",
    "Modifiez votre programme en écrivant une fonction spirale() qui reprend chaque étape du programme principal\n",
    "\n",
    "## Exercice 3\n",
    "\n",
    "Réécrivez votre fonction spirale() avec une boucle jusqu’à 20\n",
    "\n",
    "## Exercice 4\n",
    "\n",
    "Ecrivez une fonction spirale(ns,angle) avec deux paramètres : le nombre de segments et l’angle.\n",
    "\n",
    "## Exercice 5 (a step forward)\n",
    "\n",
    "Est-il possible d’améliorer la courbure de la spirale et donc d’affiner le segment en arc de cercle ?\n",
    "\n",
    "**Indications :**\n",
    "\n",
    "Il s’agit de réfléchir au dessin de l’arc de spirale (avec une boucle)\n",
    "\n",
    "La fonction origine() suivante permet de faire revenir la tortue à l’origine :"
   ]
  },
  {
   "cell_type": "code",
   "execution_count": 2,
   "id": "7746cb9a",
   "metadata": {},
   "outputs": [],
   "source": [
    "def origine():\n",
    "    t.penup()\n",
    "    t.goto(0,0)\n",
    "    t.setheading(0)\n",
    "    t.pendown()\n"
   ]
  },
  {
   "cell_type": "code",
   "execution_count": null,
   "id": "63d64e6d",
   "metadata": {},
   "outputs": [],
   "source": []
  }
 ],
 "metadata": {
  "kernelspec": {
   "display_name": "Python 3",
   "language": "python",
   "name": "python3"
  },
  "language_info": {
   "codemirror_mode": {
    "name": "ipython",
    "version": 3
   },
   "file_extension": ".py",
   "mimetype": "text/x-python",
   "name": "python",
   "nbconvert_exporter": "python",
   "pygments_lexer": "ipython3",
   "version": "3.7.3"
  }
 },
 "nbformat": 4,
 "nbformat_minor": 5
}
