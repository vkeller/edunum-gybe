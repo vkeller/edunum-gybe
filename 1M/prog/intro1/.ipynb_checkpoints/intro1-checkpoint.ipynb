{
 "cells": [
  {
   "cell_type": "markdown",
   "id": "b34a075f",
   "metadata": {},
   "source": [
    "## Introduction : La tortue\n",
    "\n",
    "Nous utilisons le module `turtle` de Python pour cette introduction\n",
    "\n",
    "**Objectifs**\n",
    "\n",
    "1. Développement de mon premier programme en Python"
   ]
  },
  {
   "cell_type": "markdown",
   "id": "eeef70e7",
   "metadata": {},
   "source": [
    "### Importation du module turtle"
   ]
  },
  {
   "cell_type": "code",
   "execution_count": 1,
   "id": "1cf36b58",
   "metadata": {},
   "outputs": [],
   "source": [
    "from turtle import *"
   ]
  },
  {
   "cell_type": "markdown",
   "id": "0c1e88ff",
   "metadata": {},
   "source": [
    "Créer une nouvelle tortue que nous nommons `t`\n",
    "\n",
    "(Cette opération ouvre une nouvelle fenêtre)"
   ]
  },
  {
   "cell_type": "code",
   "execution_count": 2,
   "id": "b72f6dd2",
   "metadata": {},
   "outputs": [],
   "source": [
    "t = Turtle()"
   ]
  },
  {
   "cell_type": "markdown",
   "id": "a3d1eaea",
   "metadata": {},
   "source": [
    "La tortue est capable de faire plusieurs mouvements. Chaque mouvement est un appel à une fonction :\n",
    "\n",
    "- aller en avant de `x`  pixels : `t.forward(x)`\n",
    "- aller en arrière de `x` pixels : `t.back(x)`\n",
    "- tourner à droite de `x` degrés : `t.right(x)`\n",
    "- tourner à gauche de `x` degrés : `t.left(x)`\n",
    "\n",
    "On peut changer les caractéristiques du stylo :\n",
    "\n",
    "- sa couleur : `t.pencolor('couleur')` par exemple `t.pencolor('red')` en rouge\n",
    "- son épaisseur de `e` pixels : `t.pensize(e)`\n",
    "\n",
    "Finalement on peut effacer ce que l’on a dessiné avec la fonction `t.clear()`"
   ]
  },
  {
   "cell_type": "markdown",
   "id": "15145eea",
   "metadata": {},
   "source": [
    "## Dessiner des formes géometriques"
   ]
  },
  {
   "cell_type": "markdown",
   "id": "72f06c19",
   "metadata": {},
   "source": [
    "### Example 1 : Dessiner un triangle\n",
    "\n",
    "Le code suivant dessine un triangle équilatéral de côté 100 pixels en bleu avec une épaisseur de 4 pixels"
   ]
  },
  {
   "cell_type": "code",
   "execution_count": 6,
   "id": "15511517",
   "metadata": {},
   "outputs": [],
   "source": [
    "t.clear()\n",
    "t.pencolor('blue')\n",
    "t.pensize(4)\n",
    "t.forward(100)\n",
    "t.left(120)\n",
    "t.forward(100)\n",
    "t.left(120)\n",
    "t.forward(100)\n",
    "t.left(120)"
   ]
  },
  {
   "cell_type": "markdown",
   "id": "044e59a3",
   "metadata": {},
   "source": [
    "### Exercice 1\n",
    "\n",
    "En utilisant les diverses fonctions de la tortue, dessinez :\n",
    "\n",
    "- un carré de 150 pixels de côté en rouge avec une épaisseur de 2\n",
    "- un losange vert d’épaisseur 3 avec des angles de 30° et 120°"
   ]
  },
  {
   "cell_type": "markdown",
   "id": "cdea448d",
   "metadata": {},
   "source": [
    "## Nouvelles fonctions de la tortue\n",
    "\n",
    "Deux nouvelles fonctions sont ajoutées :\n",
    "\n",
    "- lever le stylo : `t.penup()`\n",
    "- abaisser le stylo : `t.pendown()`\n",
    "\n",
    "Ces deux nouvelles fonctions nous permettent de créer des formes séparées"
   ]
  },
  {
   "cell_type": "markdown",
   "id": "0d4087a3",
   "metadata": {},
   "source": [
    "### Example 2\n",
    "\n",
    "Dessiner deux triangles équilatéraux de 100 pixels de côté et séparés de 50 pixels :"
   ]
  },
  {
   "cell_type": "code",
   "execution_count": null,
   "id": "e6401351",
   "metadata": {},
   "outputs": [],
   "source": [
    "t.clear()\n",
    "t.pencolor('blue')\n",
    "t.pensize(4)\n",
    "\n",
    "t.forward(100)\n",
    "t.left(120)\n",
    "t.forward(100)\n",
    "t.left(120)\n",
    "t.forward(100)\n",
    "t.left(120)\n",
    "\n",
    "t.penup()\n",
    "t.forward(150)\n",
    "t.pendown()\n",
    "\n",
    "t.forward(100)\n",
    "t.left(120)\n",
    "t.forward(100)\n",
    "t.left(120)\n",
    "t.forward(100)\n",
    "t.left(120)"
   ]
  }
 ],
 "metadata": {
  "kernelspec": {
   "display_name": "Python 3",
   "language": "python",
   "name": "python3"
  },
  "language_info": {
   "codemirror_mode": {
    "name": "ipython",
    "version": 3
   },
   "file_extension": ".py",
   "mimetype": "text/x-python",
   "name": "python",
   "nbconvert_exporter": "python",
   "pygments_lexer": "ipython3",
   "version": "3.7.3"
  }
 },
 "nbformat": 4,
 "nbformat_minor": 5
}
