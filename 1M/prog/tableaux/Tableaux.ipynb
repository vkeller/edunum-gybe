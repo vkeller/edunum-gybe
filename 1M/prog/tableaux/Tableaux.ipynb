{
 "cells": [
  {
   "cell_type": "markdown",
   "id": "ef52317a",
   "metadata": {},
   "source": [
    "![](img/cff-general.jpg)\n",
    "\n",
    "# Tableaux"
   ]
  },
  {
   "cell_type": "markdown",
   "id": "ee01fa17-7375-48ce-8c56-992ec47f2276",
   "metadata": {},
   "source": [
    "## Objectifs\n",
    "\n",
    "- Manipuler les listes en Python\n",
    "- Créer, modifier, supprimer des listes 1D et 2D\n",
    "- Appliquer sur la gestion d'un horaire automatique d'une gare CFF"
   ]
  },
  {
   "cell_type": "markdown",
   "id": "ecb6c04f-a4e4-4ea9-936a-047dac8f02b0",
   "metadata": {},
   "source": [
    "## Tableau 1D : les listes\n",
    "\n",
    "En Python, on décrit une liste avec les éléments qui le composent. Ces éléments sont des variables qui peuvent être de n'importe quel type. \n",
    "\n",
    "Une **liste** est caractérisée par :\n",
    "\n",
    "- est délimitée par des crochets `[]`, et\n",
    "- ses éléments sont séparés par une virgule `,`"
   ]
  },
  {
   "cell_type": "markdown",
   "id": "6e9492be-25aa-4205-b01b-605a22f091d9",
   "metadata": {},
   "source": [
    "### Création d'une liste vide\n",
    "\n",
    "```\n",
    "# Création d'une liste vide\n",
    "uneListe = []\n",
    "```"
   ]
  },
  {
   "cell_type": "markdown",
   "id": "a7a543ed-93c4-443a-b3bd-06235814df84",
   "metadata": {},
   "source": [
    "### Accéder aux éléments d'une liste\n",
    "\n",
    "On accède aux éléments de la liste avec **l'index** de l'élément. Le premier index est toujours `0`. Par exemple:"
   ]
  },
  {
   "cell_type": "code",
   "execution_count": 1,
   "id": "6f8b34b7-094f-403d-9f1c-06a568fe97c0",
   "metadata": {},
   "outputs": [
    {
     "name": "stdout",
     "output_type": "stream",
     "text": [
      "une chaîne de caractères\n"
     ]
    }
   ],
   "source": [
    "# Création d'une liste avec une chaîne de caractères, un entier et un float\n",
    "uneListe = ['une chaîne de caractères',4,3.14]\n",
    "\n",
    "# On accède au premier élément avec :\n",
    "uneListe[0]\n",
    "\n",
    "# On imprime le premier élément :\n",
    "print(uneListe[0])"
   ]
  },
  {
   "cell_type": "code",
   "execution_count": 2,
   "id": "551d1b0d-acb1-42a2-a3fa-c2e1b682169c",
   "metadata": {},
   "outputs": [
    {
     "name": "stdout",
     "output_type": "stream",
     "text": [
      "4\n"
     ]
    }
   ],
   "source": [
    "# On imprime le second élément :\n",
    "print(uneListe[1])"
   ]
  },
  {
   "cell_type": "code",
   "execution_count": 3,
   "id": "6622704e-acd9-4e5e-9fef-f8d05a79ffdb",
   "metadata": {},
   "outputs": [
    {
     "name": "stdout",
     "output_type": "stream",
     "text": [
      "3.14\n"
     ]
    }
   ],
   "source": [
    "# On imprime le troisième élément :\n",
    "print(uneListe[2])"
   ]
  },
  {
   "cell_type": "markdown",
   "id": "0a00fa1c",
   "metadata": {},
   "source": [
    "### Longueur d'une liste\n",
    "\n",
    "La fonction `len(list)` retourne la longueur de la liste `list`"
   ]
  },
  {
   "cell_type": "code",
   "execution_count": 4,
   "id": "4a5415de",
   "metadata": {
    "collapsed": false,
    "jupyter": {
     "outputs_hidden": false
    }
   },
   "outputs": [
    {
     "data": {
      "text/plain": [
       "3"
      ]
     },
     "execution_count": 4,
     "metadata": {},
     "output_type": "execute_result"
    }
   ],
   "source": [
    "len(uneListe)"
   ]
  },
  {
   "cell_type": "markdown",
   "id": "9dc2902b-5d3a-4413-b008-4b38e17c68b4",
   "metadata": {},
   "source": [
    "### Ajout d'un élément à la liste\n",
    "\n",
    "Pour ajouter un nouvel élément à la liste, il existe deux façon :\n",
    "\n",
    "1. pour ajouter un élément à la **fin de la liste** on utilise la **méthode** (c'est comme une fonction) `uneListe.append()`\n",
    "1. pour ajouter un élément `element` à la **position** `i`, on utilise la fonction `uneListe.insert(i, element)`"
   ]
  },
  {
   "cell_type": "code",
   "execution_count": 5,
   "id": "e74d695f-7601-4099-81ff-18e09c4f32b3",
   "metadata": {},
   "outputs": [
    {
     "name": "stdout",
     "output_type": "stream",
     "text": [
      "['une chaîne de caractères', 4, 3.14, 'salut']\n",
      "['une chaîne de caractères', 4, 0.618, 3.14, 'salut']\n"
     ]
    }
   ],
   "source": [
    "# Ajouter la chaîne de caractères 'salut' à la fin de la liste\n",
    "uneListe.append('salut')\n",
    "# Afficher la liste\n",
    "print(uneListe)\n",
    "# Ajouter le valeur `0.618' à la position 2 (soit entre 4 et 3.14)\n",
    "uneListe.insert(2,0.618)\n",
    "# Afficher la liste une seconde fois\n",
    "print(uneListe)"
   ]
  },
  {
   "cell_type": "markdown",
   "id": "e0e0b69c-c8d2-4665-968b-32cdbdf00cd8",
   "metadata": {},
   "source": [
    "### Modification d'un élément de la liste\n",
    "\n",
    "On peut modifier un élément en y accédant à l'aide de l'indice `i`"
   ]
  },
  {
   "cell_type": "code",
   "execution_count": 6,
   "id": "2fa12721-0525-4f40-93c5-7b6b2f12923d",
   "metadata": {},
   "outputs": [
    {
     "name": "stdout",
     "output_type": "stream",
     "text": [
      "['une chaîne de caractères', 4, 0.618, 6.18, 'salut']\n"
     ]
    }
   ],
   "source": [
    "## Modification de 3.14 en 6.28\n",
    "uneListe[3] = 6.18\n",
    "# Affichage de la liste\n",
    "print(uneListe)"
   ]
  },
  {
   "cell_type": "markdown",
   "id": "9f825b6c-f9aa-43e3-85a4-b02bc2d22724",
   "metadata": {},
   "source": [
    "### Enlever des éléments d'une liste\n",
    "\n",
    "On peut enlever des éléments avec les méthodes suivantes : \n",
    "\n",
    "* `list.remove(x)` si l'élément `x` existe\n",
    "* `list.pop()` le dernier élément\n",
    "* `list.clear()` tous les éléments"
   ]
  },
  {
   "cell_type": "code",
   "execution_count": 7,
   "id": "6cb2c7b7-003d-47c1-ae44-45c1a0a8427e",
   "metadata": {},
   "outputs": [
    {
     "name": "stdout",
     "output_type": "stream",
     "text": [
      "['une chaîne de caractères', 4, 6.18, 'salut']\n"
     ]
    }
   ],
   "source": [
    "# Suppression de 0.618\n",
    "uneListe.remove(0.618)\n",
    "# Affichage de la liste\n",
    "print(uneListe)"
   ]
  },
  {
   "cell_type": "code",
   "execution_count": 8,
   "id": "dd7ff8d6-9c77-42a3-a687-9bc8b7b5bb62",
   "metadata": {},
   "outputs": [
    {
     "name": "stdout",
     "output_type": "stream",
     "text": [
      "['une chaîne de caractères', 4, 6.18]\n"
     ]
    }
   ],
   "source": [
    "# Suppression du dernier élément\n",
    "uneListe.pop()\n",
    "# Affichage de la liste\n",
    "print(uneListe)"
   ]
  },
  {
   "cell_type": "code",
   "execution_count": 9,
   "id": "8107302d-fc02-4fe9-9632-6fb71057b5ef",
   "metadata": {},
   "outputs": [
    {
     "name": "stdout",
     "output_type": "stream",
     "text": [
      "[]\n"
     ]
    }
   ],
   "source": [
    "# Effacement de tous les éléments de la liste\n",
    "uneListe.clear()\n",
    "# Affichage de la liste vide\n",
    "print(uneListe)"
   ]
  },
  {
   "cell_type": "markdown",
   "id": "29b1e87d",
   "metadata": {},
   "source": [
    "## Affichage de l'horaire des trains en gare\n",
    "\n",
    "Un horaire CFF est un tableau en 2 dimensions. Chaque ligne de ce tableau représente un train. Chaque train a les caractéristiques suivantes :\n",
    "\n",
    "* un type (un RER, un Interregio, un Intercity, etc..)\n",
    "* une heure de départ\n",
    "* la gare de destination\n",
    "* une voie d'arrivée\n",
    "\n",
    "Un train est donc une **liste 1D**\n",
    "\n",
    "L'horaire affiché est donc une **liste de listes 1D**, à savoir un **tableau en deux dimensions**.\n",
    "\n",
    "En informatique, on parle d'un **tableau 2D** ou tableau à deux dimensions. Chaque **colonne** représente les caractéristiques d'un train (type, heure de départ, destination, etc..) et chaque ligne représente un train."
   ]
  },
  {
   "cell_type": "markdown",
   "id": "0706d25c",
   "metadata": {},
   "source": [
    "### Création de l'horaire \n",
    "\n",
    "L'**horaire** est constitué d'une **liste de listes 1D**. \n",
    "\n",
    "Chaque `train` est une **liste 1D** qui possède autant d'éléments qu'il y a de caractéristiques dans l'horaire, séparées par une virgule `,` :\n",
    "\n",
    "- type (`str`)\n",
    "- heure de départ (`str`)\n",
    "- destination (`str`)\n",
    "- la voie sur laquelle il va arriver (`int`)\n"
   ]
  },
  {
   "cell_type": "code",
   "execution_count": 10,
   "id": "802e6845",
   "metadata": {
    "tags": []
   },
   "outputs": [],
   "source": [
    "train1 = ['S22', '8h47', 'Vufflens-la-Ville', 1]\n",
    "train2 = ['S2', '8h51', 'Aigle', 4]\n",
    "train3 =  ['S4', '8h55', 'Palézieux', 3]"
   ]
  },
  {
   "cell_type": "markdown",
   "id": "b0abdf8e",
   "metadata": {},
   "source": [
    "### Exercice 1  \n",
    "\n",
    "Définissez la liste `train4` selon l'horaire affiché par l'image : c'est un S1 à destination de Lausanne qui arrive sur la voie 4 à 8h57 "
   ]
  },
  {
   "cell_type": "markdown",
   "id": "6b041edf",
   "metadata": {},
   "source": [
    "### Création de l'horaire\n",
    "\n",
    "L'horaire est un tableau en 2 dimensions donc une **liste de listes**."
   ]
  },
  {
   "cell_type": "code",
   "execution_count": 11,
   "id": "1171b7c7",
   "metadata": {
    "collapsed": false,
    "jupyter": {
     "outputs_hidden": false
    }
   },
   "outputs": [
    {
     "data": {
      "text/plain": [
       "[['S22', '8h47', 'Vufflens-la-Ville', 1],\n",
       " ['S2', '8h51', 'Aigle', 4],\n",
       " ['S4', '8h55', 'Palézieux', 3]]"
      ]
     },
     "execution_count": 11,
     "metadata": {},
     "output_type": "execute_result"
    }
   ],
   "source": [
    "# Création de l'horaire avec les trois trains\n",
    "horaire = [train1, train2, train3]\n",
    "horaire"
   ]
  },
  {
   "cell_type": "markdown",
   "id": "fcf25514",
   "metadata": {},
   "source": [
    "### Exercice 3 : ajout d'un train à l'horaire\n",
    "\n",
    "Créez l'horaire avec les 4 trains `train1`, `train2`, `train3`, `train4`"
   ]
  },
  {
   "cell_type": "markdown",
   "id": "92e6049f",
   "metadata": {},
   "source": [
    "### Accèder aux éléments de l'horaire (les trains)\n",
    "\n",
    "Avec une liste de liste, il faut donner **deux indices**. Le premier correspond à un élément de l'horaire."
   ]
  },
  {
   "cell_type": "code",
   "execution_count": 12,
   "id": "f997ca16-a36b-48f8-85df-3a2f2a3b51c7",
   "metadata": {},
   "outputs": [
    {
     "name": "stdout",
     "output_type": "stream",
     "text": [
      "['S2', '8h51', 'Aigle', 4]\n"
     ]
    }
   ],
   "source": [
    "# Affichage du train2 (S2 de 8h51 en direction d'Aigle sur voie 4)\n",
    "print(horaire[1])"
   ]
  },
  {
   "cell_type": "markdown",
   "id": "33163ba0-0061-49c9-8cc1-33856cfbb1bb",
   "metadata": {},
   "source": [
    "Le second indice correspond à un élément à l'intérieur de la liste définie. Ainsi, pour obtenir uniquement l'heure, on choisira le second élément de la liste."
   ]
  },
  {
   "cell_type": "code",
   "execution_count": 13,
   "id": "09f32737",
   "metadata": {
    "collapsed": false,
    "jupyter": {
     "outputs_hidden": false
    }
   },
   "outputs": [
    {
     "name": "stdout",
     "output_type": "stream",
     "text": [
      "Aigle\n"
     ]
    }
   ],
   "source": [
    "# Affichage de la destination du train 2:\n",
    "print(horaire[1][2])"
   ]
  },
  {
   "cell_type": "markdown",
   "id": "57cffa9a",
   "metadata": {},
   "source": [
    "On accède de même aux éléments de la ligne `horaire[1]`\n",
    "\n",
    "L'élément `horaire[1][2]` correspond au troisième élément de la liste `horaire[1]`, donc la destination"
   ]
  },
  {
   "cell_type": "code",
   "execution_count": 14,
   "id": "e5b9b265",
   "metadata": {
    "collapsed": false,
    "jupyter": {
     "outputs_hidden": false
    }
   },
   "outputs": [
    {
     "data": {
      "text/plain": [
       "'Aigle'"
      ]
     },
     "execution_count": 14,
     "metadata": {},
     "output_type": "execute_result"
    }
   ],
   "source": [
    "horaire[1][2]"
   ]
  },
  {
   "cell_type": "markdown",
   "id": "1e03b2de",
   "metadata": {},
   "source": [
    "### Exercice 3 : accéder à un élément dans le tableau d'affichage\n",
    "\n",
    "- Affichez l'heure de départ du troisième train dans le tableau.\n",
    "- Affichez la destination du premier train\n",
    "- Affichez la voie d'arrivée du second train"
   ]
  },
  {
   "cell_type": "markdown",
   "id": "b3866e8a",
   "metadata": {},
   "source": [
    "## Accéder à une plage\n",
    "\n",
    "On peut accéder à une plage d'éléments. La plage entre le premier et le deuxième élément s'écrit `horaire[0:2]`"
   ]
  },
  {
   "cell_type": "code",
   "execution_count": 15,
   "id": "c2309882",
   "metadata": {
    "collapsed": false,
    "jupyter": {
     "outputs_hidden": false
    }
   },
   "outputs": [
    {
     "data": {
      "text/plain": [
       "[['S22', '8h47', 'Vufflens-la-Ville', 1], ['S2', '8h51', 'Aigle', 4]]"
      ]
     },
     "execution_count": 15,
     "metadata": {},
     "output_type": "execute_result"
    }
   ],
   "source": [
    "horaire[0:2]"
   ]
  },
  {
   "cell_type": "markdown",
   "id": "ea0b6aaa",
   "metadata": {},
   "source": [
    "Avec une boucle `for` nous pouvons itérer sur la liste et afficher les trains ligne par ligne."
   ]
  },
  {
   "cell_type": "code",
   "execution_count": 16,
   "id": "3322104e",
   "metadata": {
    "collapsed": false,
    "jupyter": {
     "outputs_hidden": false
    }
   },
   "outputs": [
    {
     "name": "stdout",
     "output_type": "stream",
     "text": [
      "['S22', '8h47', 'Vufflens-la-Ville', 1]\n",
      "['S2', '8h51', 'Aigle', 4]\n"
     ]
    }
   ],
   "source": [
    "for train in horaire[0:2]:\n",
    "    print(train)"
   ]
  },
  {
   "cell_type": "markdown",
   "id": "7b97cce9",
   "metadata": {},
   "source": [
    "### Exercice 4 : Affichage d'une plage de l'horaire\n",
    "\n",
    "- Affichez les lignes 3-4 de l'horaire.\n",
    "\n",
    "**Remarque** : il existe une seconde possibilité en utilisant une boucle `for i in range(4)`"
   ]
  },
  {
   "cell_type": "markdown",
   "id": "3d357db1",
   "metadata": {},
   "source": [
    "## Ajouter un nouveau train à l'horaire\n",
    "\n",
    "**Rappel** : on ajoute une nouvelle ligne à la fin avec la fonction `list.append()` :"
   ]
  },
  {
   "cell_type": "code",
   "execution_count": 17,
   "id": "0eb7093e",
   "metadata": {
    "collapsed": false,
    "jupyter": {
     "outputs_hidden": false
    }
   },
   "outputs": [
    {
     "name": "stdout",
     "output_type": "stream",
     "text": [
      "['S22', '8h47', 'Vufflens-la-Ville', 1]\n",
      "['S2', '8h51', 'Aigle', 4]\n",
      "['S4', '8h55', 'Palézieux', 3]\n",
      "['RE', '8h58', 'Annemasse', 2]\n"
     ]
    }
   ],
   "source": [
    "# Création d'un nouveau train\n",
    "train5 =  ['RE', '8h58', 'Annemasse', 2]\n",
    "# Ajout de ce train à l'horaire\n",
    "horaire.append(train5)\n",
    "# Affichage de l'horaire\n",
    "for train in horaire:\n",
    "    print(train)"
   ]
  },
  {
   "cell_type": "markdown",
   "id": "f376d04a",
   "metadata": {},
   "source": [
    "On peut ajouter une nouvelle ligne à la position `i` avec la fonction `list.insert(i, element)`"
   ]
  },
  {
   "cell_type": "code",
   "execution_count": 18,
   "id": "bb221afd",
   "metadata": {
    "collapsed": false,
    "jupyter": {
     "outputs_hidden": false
    }
   },
   "outputs": [
    {
     "name": "stdout",
     "output_type": "stream",
     "text": [
      "['S22', '8h47', 'Vufflens-la-Ville', 1]\n",
      "['S2', '8h51', 'Aigle', 4]\n",
      "['S4', '8h55', 'Palézieux', 3]\n",
      "['S1', '8h57', 'Lausanne', 4]\n",
      "['RE', '8h58', 'Annemasse', 2]\n"
     ]
    }
   ],
   "source": [
    "train6 =  ['S1', '8h57', 'Lausanne', 4]\n",
    "horaire.insert(3, train6)\n",
    "for train in horaire:\n",
    "    print(train)"
   ]
  },
  {
   "cell_type": "markdown",
   "id": "e8c24a56-95e4-4479-a24e-af8fdc1c42f1",
   "metadata": {},
   "source": [
    "### Modification des informations\n",
    "\n",
    "En cet hiver difficile, la ligne de contact souffre. Le train S4 pour Palézieux aura 30 minutes de retard. Il faut modifier l'entrée et ajouter l'information"
   ]
  },
  {
   "cell_type": "code",
   "execution_count": 19,
   "id": "6191a81a-61af-4bff-934a-2eb1043c8eb9",
   "metadata": {},
   "outputs": [
    {
     "name": "stdout",
     "output_type": "stream",
     "text": [
      "['S22', '8h47', 'Vufflens-la-Ville', 1]\n",
      "['S2', '8h51', 'Aigle', 4]\n",
      "['S4', '8h55 + 30min', 'Palézieux', 3, 'Problème sur la ligne de contact']\n",
      "['S1', '8h57', 'Lausanne', 4]\n",
      "['RE', '8h58', 'Annemasse', 2]\n"
     ]
    }
   ],
   "source": [
    "## Modification de l'horaire du S4\n",
    "horaire[2][1] = '8h55 + 30min'\n",
    "## Ajout de l'information\n",
    "horaire[2].append('Problème sur la ligne de contact')\n",
    "## Affichage de l'horaire\n",
    "for train in horaire:\n",
    "    print(train)"
   ]
  },
  {
   "cell_type": "markdown",
   "id": "eddc40ae",
   "metadata": {},
   "source": [
    "### Suppression de train\n",
    "\n",
    "A mesure que le temps passe, les trains entrent en gare, prennent des voyageurs et en laissent descendre d'autres, puis repartent verts leurs destinations. Il faut donc les supprimer de l'horaire\n",
    "\n",
    "**Rappel**:\n",
    "\n",
    "* `list.remove(x)` si l'élément `x` existe\n",
    "* `list.pop()` le dernier élément\n",
    "* `list.clear()` tous les éléments\n",
    "\n",
    "On enlève l'élément `train5` :"
   ]
  },
  {
   "cell_type": "code",
   "execution_count": 20,
   "id": "2cc120b7",
   "metadata": {
    "collapsed": false,
    "jupyter": {
     "outputs_hidden": false
    }
   },
   "outputs": [
    {
     "name": "stdout",
     "output_type": "stream",
     "text": [
      "['S22', '8h47', 'Vufflens-la-Ville', 1]\n",
      "['S2', '8h51', 'Aigle', 4]\n",
      "['S4', '8h55 + 30min', 'Palézieux', 3, 'Problème sur la ligne de contact']\n",
      "['S1', '8h57', 'Lausanne', 4]\n"
     ]
    }
   ],
   "source": [
    "# Suppression du train numéro 5\n",
    "horaire.remove(train5)\n",
    "# Affichage de l'horaire\n",
    "for train in horaire:\n",
    "    print(train)"
   ]
  },
  {
   "cell_type": "code",
   "execution_count": 21,
   "id": "2378a294",
   "metadata": {
    "collapsed": false,
    "jupyter": {
     "outputs_hidden": false
    }
   },
   "outputs": [
    {
     "name": "stdout",
     "output_type": "stream",
     "text": [
      "['S22', '8h47', 'Vufflens-la-Ville', 1]\n",
      "['S2', '8h51', 'Aigle', 4]\n",
      "['S4', '8h55 + 30min', 'Palézieux', 3, 'Problème sur la ligne de contact']\n"
     ]
    }
   ],
   "source": [
    "# Suppression du dernier train\n",
    "horaire.pop()\n",
    "# affichage de l'horaire\n",
    "for train in horaire:\n",
    "    print(train)"
   ]
  },
  {
   "cell_type": "code",
   "execution_count": 22,
   "id": "0a8021eb",
   "metadata": {
    "collapsed": false,
    "jupyter": {
     "outputs_hidden": false
    }
   },
   "outputs": [],
   "source": [
    "# Effacement de tous les trains. Nous sommes en fin de service\n",
    "horaire.clear()\n",
    "# Affichage de l'horaire\n",
    "for train in horaire:\n",
    "    print(train)"
   ]
  },
  {
   "cell_type": "markdown",
   "id": "e80e106c",
   "metadata": {},
   "source": [
    "## Exercice 5\n",
    "\n",
    "Voici votre horaire de départ."
   ]
  },
  {
   "cell_type": "code",
   "execution_count": 23,
   "id": "13be94a2",
   "metadata": {
    "collapsed": false,
    "jupyter": {
     "outputs_hidden": false
    }
   },
   "outputs": [
    {
     "name": "stdout",
     "output_type": "stream",
     "text": [
      "['S22', '8h47', 'Vufflens-la-Ville', 1]\n",
      "['S2', '8h51', 'Aigle', 4]\n",
      "['S4', '8h55', 'Palézieux', 3]\n",
      "['S1', '8h57', 'Lausanne', 4]\n",
      "['RE', '8h58', 'Annemasse', 2]\n"
     ]
    }
   ],
   "source": [
    "# Création des trains\n",
    "train1 = ['S22', '8h47', 'Vufflens-la-Ville', 1]\n",
    "train2 = ['S2', '8h51', 'Aigle', 4]\n",
    "train3 = ['S4', '8h55', 'Palézieux', 3]\n",
    "train4 = ['S1', '8h57', 'Lausanne', 4]\n",
    "train5 = ['RE','8h58','Annemasse',2]\n",
    "\n",
    "horaire = [train1, train2, train3, train4, train5]\n",
    "# Affichage de l'horaire\n",
    "for train in horaire:\n",
    "    print(train)"
   ]
  },
  {
   "cell_type": "markdown",
   "id": "5fa7fd69",
   "metadata": {},
   "source": [
    "1. Ajoutez à l'horaire le régional S1 pour Bussigny qui part à 9h01 sur voie 1\n",
    "1. Il est 8h50, le régional S22 pour Bussigny et Vufflens-la-Ville est parti. Supprimez-le de l'horaire\n",
    "1. Un problème sur la ligne entre Vevey et Lausanne provoque un retard de 20 minutes. Ajoutez cette information pour le RE de 8h58 pour Annemasse"
   ]
  },
  {
   "cell_type": "markdown",
   "id": "19e008c8-099e-4e8d-957b-69d5ead81c9c",
   "metadata": {
    "jupyter": {
     "outputs_hidden": true
    }
   },
   "source": [
    "## Exercice 6 (Affichage des quais)\n",
    "\n",
    "Chaque quai possède un **afficheur de quai**. Cet afficheur de quai utilise les mêmes informations que l'horaire complet. En utilisant un test conditionnel, affichez uniquement les trains qui partent du quai 4."
   ]
  },
  {
   "cell_type": "markdown",
   "id": "ebe34370-8c48-4bd9-8dcb-43d10eeef620",
   "metadata": {},
   "source": [
    "## Exercice 7 (Annonce vocale)\n",
    "\n",
    "Il est possible de *faire parler* votre ordinateur. En important le module:\n",
    "\n",
    "```\n",
    "from os import system\n",
    "```\n",
    "\n",
    "et en appelant la fonction `system(string)` où `string` est une chaîne de caractère qui commence par `say`, vous pouvez simuler les annonces en gare. Par exemple:\n",
    "\n",
    "```\n",
    "from os import system\n",
    "train1 = ['S22', '8h47', 'Vufflens-la-Ville', 1]\n",
    "annonce1 = 'say '+'Arrivée, sur voie '+str(train1[3])+', du train '+train1[0]+', à destination de '+train1[2]+'. Départ '+train1[1]\n",
    "system(annonce1)\n",
    "```\n",
    "\n",
    "Annoncez les trains arrivant sur voie 4"
   ]
  },
  {
   "cell_type": "markdown",
   "id": "f4dac902-d576-4d94-88ac-927017a8f739",
   "metadata": {},
   "source": [
    "## Exercice 8 : Annonce vocale complète (avec jingle)\n",
    "\n",
    "Il est finalement possible de faire jouer le jingle des CFF avant l'annonce en important le module `playsound` :\n",
    "\n",
    "```\n",
    "import playsound\n",
    "```\n",
    "puis de donner le chemin (le *path*) du fichier `.mp3` à jouer :\n",
    "\n",
    "```\n",
    "playsound.playsound(path, True)\n",
    "```\n",
    "\n",
    "Pour faire cela, il vous faut télécharger sur votre ordinateur, **au même emplacement que votre programme python** les fichiers MP3 des jingles : [version romande](sons/bahn_cff_f.mp3), [version tessinoise](sons/bahn_ffs_i.mp3) et la [version suisse-allemande](sons/bahn_sbb_d.mp3)"
   ]
  },
  {
   "cell_type": "code",
   "execution_count": 24,
   "id": "268dfb6d-00ef-4cea-83a7-9f27890f7ed2",
   "metadata": {
    "tags": []
   },
   "outputs": [
    {
     "name": "stderr",
     "output_type": "stream",
     "text": [
      "sh: 1: say: not found\n"
     ]
    },
    {
     "data": {
      "text/plain": [
       "32512"
      ]
     },
     "execution_count": 24,
     "metadata": {},
     "output_type": "execute_result"
    }
   ],
   "source": [
    "import playsound\n",
    "from os import system\n",
    "playsound.playsound('sons/bahn_cff_f.mp3', True)\n",
    "train1 = ['S22', '8h47', 'Vufflens-la-Ville', 1]\n",
    "annonce1 = 'say '+'Arrivée, sur voie '+str(train1[3])+', du train '+train1[0]+', à destination de '+train1[2]+'. Départ '+train1[1]\n",
    "system(annonce1)"
   ]
  },
  {
   "cell_type": "code",
   "execution_count": null,
   "id": "67c27d45-29b5-4cce-b047-b9c03c4885e1",
   "metadata": {},
   "outputs": [],
   "source": []
  }
 ],
 "metadata": {
  "kernelspec": {
   "display_name": "Python 3 (ipykernel)",
   "language": "python",
   "name": "python3"
  },
  "language_info": {
   "codemirror_mode": {
    "name": "ipython",
    "version": 3
   },
   "file_extension": ".py",
   "mimetype": "text/x-python",
   "name": "python",
   "nbconvert_exporter": "python",
   "pygments_lexer": "ipython3",
   "version": "3.9.2"
  }
 },
 "nbformat": 4,
 "nbformat_minor": 5
}
