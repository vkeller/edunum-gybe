{
 "cells": [
  {
   "cell_type": "markdown",
   "id": "ef52317a",
   "metadata": {},
   "source": [
    "![](img/cff-general.jpg)\n",
    "\n",
    "# TP1-PROG-08 - Les listes (tableaux)"
   ]
  },
  {
   "cell_type": "markdown",
   "id": "ee01fa17-7375-48ce-8c56-992ec47f2276",
   "metadata": {},
   "source": [
    "## Objectifs\n",
    "\n",
    "- Manipuler les listes en Python\n",
    "- Créer, modifier, supprimer des listes 1D et 2D\n",
    "- Appliquer sur la gestion d'un horaire automatique d'une gare CFF"
   ]
  },
  {
   "cell_type": "markdown",
   "id": "ecb6c04f-a4e4-4ea9-936a-047dac8f02b0",
   "metadata": {},
   "source": [
    "## Les listes\n",
    "\n",
    "En Python, une **liste** est une **structure de donnée**. On peut le voir comme un **tableu en une dimension** (ou **Tableau 1D**)\n",
    "\n",
    "Elle est caractérisée par :\n",
    "\n",
    "- des crochets `[]`, et\n",
    "- ses éléments (**variables** ou **valeurs**) sont séparés par une virgule `,`\n",
    "\n",
    "Chaque élément de la liste se distingue par sa **valeur** et son **index**. L'index décrit la **position** de l'élément dans la liste. Le premier élément a l'index `0`, puis le second `1` et ainsi de suite.\n",
    "\n",
    "Il y a donc une syntaxe pour chacune des opérations suivantes :\n",
    "\n",
    "1. créer une liste vide\n",
    "1. ajouter un élément à une liste\n",
    "1. accéder et modifier un élément à une liste\n",
    "1. enlever un élément à une liste"
   ]
  },
  {
   "cell_type": "markdown",
   "id": "6e9492be-25aa-4205-b01b-605a22f091d9",
   "metadata": {},
   "source": [
    "### Créer une liste vide\n",
    "\n",
    "Pour créer une liste vide, on affecte à une variable un objet liste vide "
   ]
  },
  {
   "cell_type": "code",
   "execution_count": 41,
   "id": "a1021e33-8bf2-4c35-859c-0d9584a0689d",
   "metadata": {},
   "outputs": [],
   "source": [
    "# Créer une liste vide\n",
    "uneListe = []"
   ]
  },
  {
   "cell_type": "markdown",
   "id": "9dc2902b-5d3a-4413-b008-4b38e17c68b4",
   "metadata": {},
   "source": [
    "### Ajouter un élément à une liste\n",
    "\n",
    "Pour ajouter un nouvel élément `element` à la liste, il existe deux façon :\n",
    "\n",
    "1. A la **fin de la liste** : on utilise la **méthode** (c'est comme une fonction) `uneListe.append(element)`\n",
    "1. A l'**index** `i`, on utilise la fonction `uneListe.insert(i, element)`"
   ]
  },
  {
   "cell_type": "code",
   "execution_count": 26,
   "id": "e74d695f-7601-4099-81ff-18e09c4f32b3",
   "metadata": {},
   "outputs": [
    {
     "name": "stdout",
     "output_type": "stream",
     "text": [
      "['salut']\n",
      "['salut', 0.618]\n"
     ]
    }
   ],
   "source": [
    "# Ajouter la chaîne de caractères 'salut' à la fin de la liste\n",
    "uneListe.append('salut')\n",
    "# Afficher la liste\n",
    "print(uneListe)\n",
    "# Ajouter le valeur `0.618' à l'index 1\n",
    "uneListe.insert(1,0.618)\n",
    "# Afficher la liste une seconde fois\n",
    "print(uneListe)"
   ]
  },
  {
   "cell_type": "markdown",
   "id": "a7a543ed-93c4-443a-b3bd-06235814df84",
   "metadata": {},
   "source": [
    "### Accéder aux éléments d'une liste\n",
    "\n",
    "On accède aux éléments de la liste avec **l'index** de l'élément. Le premier index est toujours `0`. Par exemple:"
   ]
  },
  {
   "cell_type": "code",
   "execution_count": 27,
   "id": "6f8b34b7-094f-403d-9f1c-06a568fe97c0",
   "metadata": {},
   "outputs": [
    {
     "name": "stdout",
     "output_type": "stream",
     "text": [
      "une chaîne de caractères\n"
     ]
    }
   ],
   "source": [
    "# Création d'une liste avec une chaîne de caractères, un entier et un float\n",
    "uneListe = ['une chaîne de caractères',4,3.14]\n",
    "\n",
    "# On accède au deuxième élément avec :\n",
    "uneListe[1]\n",
    "\n",
    "# On imprime le deuxième élément :\n",
    "print(uneListe[0])"
   ]
  },
  {
   "cell_type": "code",
   "execution_count": 28,
   "id": "551d1b0d-acb1-42a2-a3fa-c2e1b682169c",
   "metadata": {},
   "outputs": [
    {
     "name": "stdout",
     "output_type": "stream",
     "text": [
      "une chaîne de caractères\n"
     ]
    }
   ],
   "source": [
    "# On imprime le premier élément :\n",
    "print(uneListe[0])"
   ]
  },
  {
   "cell_type": "code",
   "execution_count": 29,
   "id": "6622704e-acd9-4e5e-9fef-f8d05a79ffdb",
   "metadata": {},
   "outputs": [
    {
     "name": "stdout",
     "output_type": "stream",
     "text": [
      "3.14\n"
     ]
    }
   ],
   "source": [
    "# On imprime le troisième élément :\n",
    "print(uneListe[2])"
   ]
  },
  {
   "cell_type": "markdown",
   "id": "e0e0b69c-c8d2-4665-968b-32cdbdf00cd8",
   "metadata": {},
   "source": [
    "### Modification d'un élément de la liste\n",
    "\n",
    "On peut modifier un élément en y accédant à l'aide de l'indice `i` comme on accède à l'élément à l'index `i`"
   ]
  },
  {
   "cell_type": "code",
   "execution_count": 30,
   "id": "2fa12721-0525-4f40-93c5-7b6b2f12923d",
   "metadata": {},
   "outputs": [
    {
     "name": "stdout",
     "output_type": "stream",
     "text": [
      "['une chaîne de caractères', 4, 6.18]\n"
     ]
    }
   ],
   "source": [
    "## Modification de 3.14 en 6.28\n",
    "uneListe[2] = 6.18\n",
    "# Affichage de la liste\n",
    "print(uneListe)"
   ]
  },
  {
   "cell_type": "markdown",
   "id": "9f825b6c-f9aa-43e3-85a4-b02bc2d22724",
   "metadata": {},
   "source": [
    "### Enlever un élément à une liste\n",
    "\n",
    "On peut enlever des éléments avec les méthodes suivantes : \n",
    "\n",
    "* `list.remove(x)` si l'élément `x` existe\n",
    "* `list.pop()` le dernier élément\n",
    "* `list.clear()` tous les éléments"
   ]
  },
  {
   "cell_type": "code",
   "execution_count": 31,
   "id": "6cb2c7b7-003d-47c1-ae44-45c1a0a8427e",
   "metadata": {},
   "outputs": [
    {
     "name": "stdout",
     "output_type": "stream",
     "text": [
      "['une chaîne de caractères', 4]\n"
     ]
    }
   ],
   "source": [
    "# Suppression de 0.618\n",
    "uneListe.remove(6.18)\n",
    "# Affichage de la liste\n",
    "print(uneListe)"
   ]
  },
  {
   "cell_type": "code",
   "execution_count": 32,
   "id": "dd7ff8d6-9c77-42a3-a687-9bc8b7b5bb62",
   "metadata": {},
   "outputs": [
    {
     "name": "stdout",
     "output_type": "stream",
     "text": [
      "['une chaîne de caractères']\n"
     ]
    }
   ],
   "source": [
    "# Suppression du dernier élément\n",
    "uneListe.pop()\n",
    "# Affichage de la liste\n",
    "print(uneListe)"
   ]
  },
  {
   "cell_type": "code",
   "execution_count": 33,
   "id": "8107302d-fc02-4fe9-9632-6fb71057b5ef",
   "metadata": {},
   "outputs": [
    {
     "name": "stdout",
     "output_type": "stream",
     "text": [
      "[]\n"
     ]
    }
   ],
   "source": [
    "# Effacement de tous les éléments de la liste\n",
    "uneListe.clear()\n",
    "# Affichage de la liste vide\n",
    "print(uneListe)"
   ]
  },
  {
   "cell_type": "markdown",
   "id": "0a00fa1c",
   "metadata": {
    "tags": []
   },
   "source": [
    "### Longueur d'une liste\n",
    "\n",
    "La fonction `len(list)` retourne la longueur de la liste `list`"
   ]
  },
  {
   "cell_type": "code",
   "execution_count": 34,
   "id": "4a5415de",
   "metadata": {
    "collapsed": false,
    "jupyter": {
     "outputs_hidden": false
    }
   },
   "outputs": [
    {
     "data": {
      "text/plain": [
       "3"
      ]
     },
     "execution_count": 34,
     "metadata": {},
     "output_type": "execute_result"
    }
   ],
   "source": [
    "uneListe = ['une chaîne de caractères',4,3.14]\n",
    "\n",
    "len(uneListe)"
   ]
  },
  {
   "cell_type": "markdown",
   "id": "29b1e87d",
   "metadata": {},
   "source": [
    "## Affichage de l'horaire des trains en gare\n",
    "\n",
    "Un horaire CFF est un tableau en 2 dimensions. Chaque ligne de ce tableau représente un train. Chaque train a les caractéristiques suivantes :\n",
    "\n",
    "* un type (un RER, un Interregio, un Intercity, etc..)\n",
    "* une heure de départ\n",
    "* la gare de destination\n",
    "* une voie d'arrivée\n",
    "\n",
    "Un train peut donc se modéliser à l'aide d'une **liste**"
   ]
  },
  {
   "cell_type": "markdown",
   "id": "0706d25c",
   "metadata": {},
   "source": [
    "### Création des trains\n",
    "\n",
    "Chaque `train` est une **liste** qui possède autant d'éléments qu'il y a de caractéristiques dans l'horaire, séparées par une virgule `,` :\n",
    "\n",
    "- type (`str`)\n",
    "- heure de départ (`str`)\n",
    "- destination (`str`)\n",
    "- la voie sur laquelle il va arriver (`int`)"
   ]
  },
  {
   "cell_type": "code",
   "execution_count": 35,
   "id": "802e6845",
   "metadata": {
    "tags": []
   },
   "outputs": [],
   "source": [
    "train1 = ['S22', '8h47', 'Vufflens-la-Ville', 1]\n",
    "train2 = ['S2', '8h51', 'Aigle', 4]\n",
    "train3 =  ['S4', '8h55', 'Palézieux', 3]"
   ]
  },
  {
   "cell_type": "markdown",
   "id": "b0abdf8e",
   "metadata": {},
   "source": [
    "## Exercice 1  : Ajout d'un train\n",
    "\n",
    "Définissez la liste `train4` selon l'horaire affiché par l'image : c'est un S1 à destination de Lausanne qui arrive sur la voie 4 à 8h57 "
   ]
  },
  {
   "cell_type": "markdown",
   "id": "6b041edf",
   "metadata": {},
   "source": [
    "## Horaire CFF : définition\n",
    "\n",
    "L'horaire à modéliser est une **liste de listes** : chaque `element` de la liste est une liste. \n",
    "\n",
    "En informatique, on parle d'un **tableau 2D** ou tableau à deux dimensions. Chaque **colonne** représente les caractéristiques d'un train (type, heure de départ, destination, etc..) et chaque ligne représente un train."
   ]
  },
  {
   "cell_type": "markdown",
   "id": "fcf25514",
   "metadata": {},
   "source": [
    "## Exercice 2 : création de l'horaire\n",
    "\n",
    "A l'aide des fonctions de création et d'ajout, créez une variable `horaire` qui contient les quatre variables créées à l'exercice 1."
   ]
  },
  {
   "cell_type": "markdown",
   "id": "92e6049f",
   "metadata": {},
   "source": [
    "## Exercice 3 : Affichez un train\n",
    "\n",
    "A l'aide de la fonction d'accès à un élément de la liste `horaire`, affichez le train qui part à 8h55."
   ]
  },
  {
   "cell_type": "markdown",
   "id": "33163ba0-0061-49c9-8cc1-33856cfbb1bb",
   "metadata": {},
   "source": [
    "## Exercice 4 : Affichez une destination\n",
    "\n",
    "A l'exercice précédent, vous avez affiché une liste qui contient 4 éléments : c'est un train. Il est maintenant possible d'afficher un seul élément de cette liste à l'aide de la fonction d'accès à un élément.\n",
    "\n",
    "1. stockez le train qui se trouve à la position 2 dans une variable `tchoutchou` (de type liste)\n",
    "1. affichez la destination à l'aide de la position dans cette variable"
   ]
  },
  {
   "cell_type": "markdown",
   "id": "1e03b2de",
   "metadata": {},
   "source": [
    "## Exercice 5 : accéder à un élément dans le tableau d'affichage\n",
    "\n",
    "En utilisant **uniquement** la variable `horaire` :\n",
    "\n",
    "- Affichez l'heure de départ du troisième train dans le tableau.\n",
    "- Affichez la destination du premier train\n",
    "- Affichez la voie d'arrivée du second train\n",
    "\n",
    "Cet exercice demande un peu de réflexion : vous manipulez la variable `horaire` qui est une liste de listes ! Il vous faut donc accéder à l'élément qui se trouve en troisième position dans la liste qui se trouve en deuxième position dans la liste de listes."
   ]
  },
  {
   "cell_type": "markdown",
   "id": "3d357db1",
   "metadata": {},
   "source": [
    "## Exercice 6 : ajouter un train\n",
    "\n",
    "Ajoutez à votre horaire le S1 pour Lausanne en voie 4 qui part à 8h57"
   ]
  },
  {
   "cell_type": "markdown",
   "id": "e8c24a56-95e4-4479-a24e-af8fdc1c42f1",
   "metadata": {},
   "source": [
    "## Exercice 7 : perturbations !\n",
    "\n",
    "En cet hiver difficile, la ligne de contact souffre. Le train S4 pour Palézieux aura 20 minutes de retard. Il faut modifier l'entrée et ajouter une information dans la colonne **remarques** de l'horaire. Attention : uniquement pour ce train -là ! \n",
    "\n",
    "Le résultat devrait être :\n",
    "\n",
    "```\n",
    "['S4', '8h55 + 20min', 'Palézieux', 3, 'Problème sur la ligne de contact']\n",
    "```\n",
    "\n",
    "Modifiez donc votre horaire en utilisant uniquement la variable `horaire`"
   ]
  },
  {
   "cell_type": "markdown",
   "id": "eddc40ae",
   "metadata": {},
   "source": [
    "## Exercice 8 : \"Mince ! J'ai raté mon train\"\n",
    "\n",
    "A mesure que le temps passe, les trains entrent en gare, prennent des voyageurs et en laissent descendre d'autres, puis repartent vers leur destination. Il faut donc les supprimer de l'horaire affiché en gare.\n",
    "\n",
    "Supprimez le premier train de l'horaire (celui qui se trouve à l'index `0`"
   ]
  },
  {
   "cell_type": "markdown",
   "id": "b3866e8a",
   "metadata": {},
   "source": [
    "## Affichage de l'horaire complet\n",
    "\n",
    "Si notre horaire est construit ainsi :"
   ]
  },
  {
   "cell_type": "code",
   "execution_count": 44,
   "id": "30eefe0c-e070-422c-b1e2-eda4cb6d33cc",
   "metadata": {},
   "outputs": [],
   "source": [
    "train1 = ['S22', '8h47', 'Vufflens-la-Ville', 1]\n",
    "train2 = ['S2', '8h51', 'Aigle', 4]\n",
    "train3 = ['S4', '8h55', 'Palézieux', 3]\n",
    "train4 = ['S1', '8h57', 'Lausanne', 4]\n",
    "\n",
    "horaire = []\n",
    "\n",
    "horaire.append(train1)\n",
    "horaire.append(train2)\n",
    "horaire.append(train3)\n",
    "horaire.append(train4)"
   ]
  },
  {
   "cell_type": "markdown",
   "id": "95620ebf-041d-4ec8-9280-77e6db2e56d9",
   "metadata": {},
   "source": [
    "on peut afficher l'entier de l'horaire dans la console sous une forme agréable à l'aide d'une boucle `for` ."
   ]
  },
  {
   "cell_type": "code",
   "execution_count": 45,
   "id": "3322104e",
   "metadata": {
    "collapsed": false,
    "jupyter": {
     "outputs_hidden": false
    }
   },
   "outputs": [
    {
     "name": "stdout",
     "output_type": "stream",
     "text": [
      "['S22', '8h47', 'Vufflens-la-Ville', 1]\n",
      "['S2', '8h51', 'Aigle', 4]\n",
      "['S4', '8h55', 'Palézieux', 3]\n",
      "['S1', '8h57', 'Lausanne', 4]\n"
     ]
    }
   ],
   "source": [
    "for i in range(len(horaire)):\n",
    "    print(horaire[i])"
   ]
  },
  {
   "cell_type": "markdown",
   "id": "19e008c8-099e-4e8d-957b-69d5ead81c9c",
   "metadata": {
    "jupyter": {
     "outputs_hidden": true
    }
   },
   "source": [
    "## Exercice 9 L'affichage sur les quais\n",
    "\n",
    "Chaque quai possède un **afficheur de quai**. Cet afficheur de quai utilise les mêmes informations que l'horaire complet. En utilisant un test conditionnel `if`, affichez uniquement les trains qui partent du quai 4."
   ]
  },
  {
   "cell_type": "markdown",
   "id": "ebe34370-8c48-4bd9-8dcb-43d10eeef620",
   "metadata": {},
   "source": [
    "## Exercice 10 : Simone et l'annonce vocale\n",
    "\n",
    "Il est possible de *faire parler* votre ordinateur. En important le module:\n",
    "\n",
    "```\n",
    "from os import system\n",
    "```\n",
    "\n",
    "et en appelant la fonction `system(string)` où `string` est une chaîne de caractère qui commence par `say`, vous pouvez simuler les annonces en gare. Par exemple:\n",
    "\n",
    "```\n",
    "from os import system\n",
    "train1 = ['S22', '8h47', 'Vufflens-la-Ville', 1]\n",
    "annonce1 = 'say '+'Arrivée, sur voie '+str(train1[3])+', du train '+train1[0]+', à destination de '+train1[2]+'. Départ '+train1[1]\n",
    "system(annonce1)\n",
    "```\n",
    "\n",
    "Annoncez les trains arrivant sur voie 4"
   ]
  },
  {
   "cell_type": "markdown",
   "id": "f4dac902-d576-4d94-88ac-927017a8f739",
   "metadata": {},
   "source": [
    "## Exercice 11 : Annonce vocale complète (avec jingle)\n",
    "\n",
    "Il est finalement possible de faire jouer le jingle des CFF avant l'annonce en important le module `playsound` :\n",
    "\n",
    "```\n",
    "import playsound\n",
    "```\n",
    "puis de donner le chemin (le *path*) du fichier `.mp3` à jouer :\n",
    "\n",
    "```\n",
    "playsound.playsound(path, True)\n",
    "```\n",
    "\n",
    "Pour faire cela, il vous faut télécharger sur votre ordinateur, **au même emplacement que votre programme python** les fichiers MP3 des jingles : [version romande](https://github.com/vkeller/modulo-gybe/blob/main/1M/prog/tableaux/sons/bahn_cff_f.mp3), [version tessinoise](https://github.com/vkeller/modulo-gybe/blob/main/1M/prog/tableaux/sons/bahn_ffs_i.mp3) et la [version suisse-allemande](https://github.com/vkeller/modulo-gybe/blob/main/1M/prog/tableaux/sons/bahn_sbb_d.mp3). **Attention à leur donner le bon nom !!!**\n",
    "\n",
    "**Conseil** Afin de jouer le jingle **puis** l'annonce, il faut placer un petit retard. Ceci est fait avec la fonction `time.sleep(2.4)` qui fait *dormir le programme* pendant le jeu du jingle. Cette fonction provient du module `sleep`"
   ]
  },
  {
   "cell_type": "code",
   "execution_count": 2,
   "id": "268dfb6d-00ef-4cea-83a7-9f27890f7ed2",
   "metadata": {
    "tags": []
   },
   "outputs": [
    {
     "name": "stderr",
     "output_type": "stream",
     "text": [
      "sh: 1: say: not found\n"
     ]
    },
    {
     "data": {
      "text/plain": [
       "32512"
      ]
     },
     "execution_count": 2,
     "metadata": {},
     "output_type": "execute_result"
    }
   ],
   "source": [
    "import os\n",
    "import pygame\n",
    "import time\n",
    "pygame.mixer.init()\n",
    "pygame.mixer.music.load('sons/bahn_cff_f.mp3')\n",
    "pygame.mixer.music.play()\n",
    "time.sleep(2.5)\n",
    "train1 = ['S22', '8h47', 'Vufflens-la-Ville', 1]\n",
    "annonce1 = 'say '+'Voie '+str(train1[3])+', arrivée du train '+train1[0]+', à destination de '+train1[2]+'. Départ '+train1[1]\n",
    "os.system(annonce1)"
   ]
  },
  {
   "cell_type": "code",
   "execution_count": null,
   "id": "67c27d45-29b5-4cce-b047-b9c03c4885e1",
   "metadata": {},
   "outputs": [],
   "source": []
  }
 ],
 "metadata": {
  "kernelspec": {
   "display_name": "Python 3 (ipykernel)",
   "language": "python",
   "name": "python3"
  },
  "language_info": {
   "codemirror_mode": {
    "name": "ipython",
    "version": 3
   },
   "file_extension": ".py",
   "mimetype": "text/x-python",
   "name": "python",
   "nbconvert_exporter": "python",
   "pygments_lexer": "ipython3",
   "version": "3.9.2"
  }
 },
 "nbformat": 4,
 "nbformat_minor": 5
}
