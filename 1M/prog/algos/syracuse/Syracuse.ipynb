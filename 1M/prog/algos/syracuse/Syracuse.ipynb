{
 "cells": [
  {
   "cell_type": "markdown",
   "id": "c9632d28-4db8-49b8-8f8c-574eaed0da6f",
   "metadata": {},
   "source": [
    "# Conjecture de Syracuse\n",
    "\n",
    "Programmer la conjecture de Syracuse en Python.\n",
    "\n",
    "- avec un programme standard\n",
    "- avec un programme récursif\n",
    "\n",
    "Rappel :\n",
    "\n",
    "1. ENTREE : n\n",
    "2. SI n est PAIR, alors n = n / 2\n",
    "3. SINON n = 3 * n + 1\n",
    "4. La suite se termine lorsqu'on a atteint n == 1 et boucle sur la suite (1,4,2,1,4,2,...)\n"
   ]
  },
  {
   "cell_type": "code",
   "execution_count": null,
   "id": "5531756f-a85b-46d7-a3bb-73b65b1d3e25",
   "metadata": {},
   "outputs": [],
   "source": []
  }
 ],
 "metadata": {
  "kernelspec": {
   "display_name": "Python 3 (ipykernel)",
   "language": "python",
   "name": "python3"
  },
  "language_info": {
   "codemirror_mode": {
    "name": "ipython",
    "version": 3
   },
   "file_extension": ".py",
   "mimetype": "text/x-python",
   "name": "python",
   "nbconvert_exporter": "python",
   "pygments_lexer": "ipython3",
   "version": "3.9.2"
  }
 },
 "nbformat": 4,
 "nbformat_minor": 5
}
