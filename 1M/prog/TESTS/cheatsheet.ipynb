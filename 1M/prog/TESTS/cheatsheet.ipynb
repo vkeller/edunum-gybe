{
 "cells": [
  {
   "cell_type": "markdown",
   "id": "3213abaa-851e-4247-9a4b-7fda8d503550",
   "metadata": {},
   "source": [
    "# Cheat sheet : Formalisme algorigrammes - language Python"
   ]
  },
  {
   "cell_type": "markdown",
   "id": "bdffad0e-6300-4f97-92af-bac0168369ad",
   "metadata": {},
   "source": [
    "## Début de programme ou de fonction\n",
    "\n",
    "![debut](images/debut.jpg \"debut\")\n",
    "\n",
    "Début de **programme** : c'est la première ligne (numéro `0`)\n",
    "\n",
    "Début de **fonction** :\n",
    "\n",
    "```python\n",
    "def maFonction(argument1, argument2):\n",
    "```\n",
    "\n",
    "## Input/Output\n",
    "\n",
    "![io](images/io.jpg \"Input Output\")\n",
    "\n",
    "**Entrée**:\n",
    "\n",
    "```python\n",
    "maVariable = input(\"Entrez une valeur : \")\n",
    "```\n",
    "\n",
    "le **type** de `maVariable` est `str` (une chaîne de caractères)\n",
    "\n",
    "**Sortie**:\n",
    "\n",
    "```python\n",
    "print(\"Hello world\")\n",
    "```\n",
    "\n",
    "## Instruction\n",
    "\n",
    "![io](images/instruction.jpg \"Instruction\")\n",
    "\n",
    "Une instruction est une ligne du programme ou de la fonction qui n'est pas un **commentaire** (commençant par le signe `#`) ni une ligne blanche\n",
    "\n",
    "## Test conditionnel\n",
    "\n",
    "![condition](images/condition.jpg \"Test conditionnel\")\n",
    "\n",
    "Le test conditionnel s'utilise avec la structure `if` (obligatoire), `elif` (facultatif) et `else` (facultatif). \n",
    "\n",
    "Exemple : la variable x est-elle plus grande que 4 ?\n",
    "\n",
    "```python\n",
    "if x > 4 :\n",
    "    print(\"x est plus grand que 4\")\n",
    "else:\n",
    "    print(\"x est plus petit ou égal à 4\")\n",
    "```\n",
    "\n",
    "## Fin de programme ou de fonction\n",
    "\n",
    "![fin](images/fin.jpg \"fin\")\n",
    "\n",
    "Fin de **programme** : c'est la dernière ligne du programme\n",
    "\n",
    "Fin de **fonction** : c'est lorsque l'indentation (les 4 caractères ESPACE ou TABULATION) revient le plus à gauche\n",
    "\n",
    "Exemple :\n",
    "\n",
    "```python\n",
    "def maFonction(argument1, argument2):\n",
    "    instruction1\n",
    "    instruction2\n",
    "# La fin de la fonction est atteinte ici, le programme principal continue\n",
    "instruction3\n",
    "```\n"
   ]
  },
  {
   "cell_type": "markdown",
   "id": "faf29eab-ffc4-44e0-8827-808f8cba77dd",
   "metadata": {},
   "source": [
    "## Boucles\n",
    "\n",
    "La boucle s'exprime sous la forme d'un test conditionnel sur la valeur de la variable *incrément* :\n",
    "\n",
    "![boucle](images/boucle.jpg \"Boucle\")\n",
    "\n",
    "En Python on utilise la fonction `range(borneInf, borneSup, increment)` (où `bornInf` facultatif est la borne inférieure à partir de laquelle on compte, `borneSup` obligatoire est la borne supérieur **non comprise** jusqu'où on compte et `increment` facultatif le pas de comptage)."
   ]
  },
  {
   "cell_type": "markdown",
   "id": "5a050d49-b574-4c02-a87c-ed4f32bd6a16",
   "metadata": {},
   "source": [
    "### Exemple 1\n",
    "\n",
    "On veut compter de 0 à 6 (non compris)"
   ]
  },
  {
   "cell_type": "code",
   "execution_count": 1,
   "id": "71ed8cb6-c20b-40bf-91fe-0f029aaa631e",
   "metadata": {},
   "outputs": [
    {
     "name": "stdout",
     "output_type": "stream",
     "text": [
      "0\n",
      "1\n",
      "2\n",
      "3\n",
      "4\n",
      "5\n"
     ]
    }
   ],
   "source": [
    "for var in range(6):\n",
    "    print(var)"
   ]
  },
  {
   "cell_type": "markdown",
   "id": "27bff407-3c44-433e-a4e8-17fc87b495f5",
   "metadata": {},
   "source": [
    "### Exemple 2\n",
    "\n",
    "On veut compter de 4 à 10 (non compris)"
   ]
  },
  {
   "cell_type": "code",
   "execution_count": 2,
   "id": "8aec9f7c-5895-4d09-ac36-e73060aeaa0d",
   "metadata": {},
   "outputs": [
    {
     "name": "stdout",
     "output_type": "stream",
     "text": [
      "4\n",
      "5\n",
      "6\n",
      "7\n",
      "8\n",
      "9\n"
     ]
    }
   ],
   "source": [
    "for var in range(4,10):\n",
    "    print(var)"
   ]
  },
  {
   "cell_type": "markdown",
   "id": "bf434032-27a9-4766-9722-4aea71a1ca66",
   "metadata": {},
   "source": [
    "### Exemple 3\n",
    "\n",
    "On veut compter de 7 à 17 (compris) avec un pas de 2, donc seulement les nombres impairs :"
   ]
  },
  {
   "cell_type": "code",
   "execution_count": 3,
   "id": "504eef69-5012-4f8b-8202-00f359501bdf",
   "metadata": {},
   "outputs": [
    {
     "name": "stdout",
     "output_type": "stream",
     "text": [
      "7\n",
      "9\n",
      "11\n",
      "13\n",
      "15\n",
      "17\n"
     ]
    }
   ],
   "source": [
    "for var in range(7,18,2):\n",
    "    print(var)"
   ]
  },
  {
   "cell_type": "code",
   "execution_count": null,
   "id": "71a41d72-3a7e-4ea6-b2dc-693404517a38",
   "metadata": {},
   "outputs": [],
   "source": []
  }
 ],
 "metadata": {
  "kernelspec": {
   "display_name": "Python 3 (ipykernel)",
   "language": "python",
   "name": "python3"
  },
  "language_info": {
   "codemirror_mode": {
    "name": "ipython",
    "version": 3
   },
   "file_extension": ".py",
   "mimetype": "text/x-python",
   "name": "python",
   "nbconvert_exporter": "python",
   "pygments_lexer": "ipython3",
   "version": "3.9.2"
  }
 },
 "nbformat": 4,
 "nbformat_minor": 5
}
