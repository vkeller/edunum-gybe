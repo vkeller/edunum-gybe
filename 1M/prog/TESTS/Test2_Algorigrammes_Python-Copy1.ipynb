{
 "cells": [
  {
   "cell_type": "markdown",
   "id": "0a6fe342-0b1b-4246-a928-62f6338fae2f",
   "metadata": {},
   "source": [
    "# Test 2 : Algorigrammes - Python (Serie B)"
   ]
  },
  {
   "cell_type": "markdown",
   "id": "354d6fb2-6d2c-464c-a9d1-b9247c1b7736",
   "metadata": {},
   "source": [
    "### Nom : {-}"
   ]
  },
  {
   "cell_type": "markdown",
   "id": "69127122-f4b8-448c-bd72-22147eddde1c",
   "metadata": {},
   "source": [
    "### Prénom : {-}"
   ]
  },
  {
   "cell_type": "markdown",
   "id": "ef74e463-8ec2-40f0-a3ff-62524b26c1bb",
   "metadata": {},
   "source": [
    "### Classe : {-}"
   ]
  },
  {
   "cell_type": "markdown",
   "id": "03124bf6-5582-479e-b587-a54e97a18ead",
   "metadata": {},
   "source": [
    "### Nombres de points : {-}"
   ]
  },
  {
   "cell_type": "markdown",
   "id": "a814604d-50d2-4cad-9826-105410290f25",
   "metadata": {},
   "source": [
    "### NOTE : {-}"
   ]
  },
  {
   "cell_type": "markdown",
   "id": "39f09460-6065-4d99-8446-c573248720d2",
   "metadata": {},
   "source": [
    "## Consignes\n",
    "\n",
    "- Rendre cette feuille remplie au maître\n",
    "- Rendre sur Moodle le programme Python\n",
    "- Temps : 45 minutes"
   ]
  },
  {
   "cell_type": "markdown",
   "id": "5ddd9cf1-5e5a-4609-9c51-e9c74af3bc6f",
   "metadata": {},
   "source": [
    "## Exercice 1\n",
    "\n",
    "Considérez l'algorigramme suivant :\n",
    "\n",
    "\n",
    "1. Calculez (**à la main**) le résultat de l'exécution de l'algorithme avec les valeurs suivantes :\n",
    "    - **limite = 3**\n",
    "    - **limite = 4**\n",
    "1. Ecrivez le programme en Python et sauvez-le avec le nom **ex1_VotreNom.py**\n",
    "1. Executez votre programme avec les valeurs suivantes :\n",
    "    - **limite = 1000**\n",
    "    - **limite = 10000000**\n"
   ]
  },
  {
   "cell_type": "markdown",
   "id": "4d7e7ae0-6cb9-4dc3-93f9-948b18f75248",
   "metadata": {},
   "source": [
    "## Exercice 2\n",
    "\n",
    "> *Un père a 30 ans et sa fille a 3 ans. Dans combien de temps l'âge du père sera le double de celui de sa fille ?*\n",
    "\n",
    "1. Dessinez un algorigramme qui permet de résoudre l'enigme suivante avec un ordinateur\n",
    "1. Quelle est la réponse ?"
   ]
  },
  {
   "cell_type": "code",
   "execution_count": null,
   "id": "36e049e9-88bb-4d13-bd8d-373999ed908e",
   "metadata": {},
   "outputs": [],
   "source": []
  }
 ],
 "metadata": {
  "kernelspec": {
   "display_name": "Python 3 (ipykernel)",
   "language": "python",
   "name": "python3"
  },
  "language_info": {
   "codemirror_mode": {
    "name": "ipython",
    "version": 3
   },
   "file_extension": ".py",
   "mimetype": "text/x-python",
   "name": "python",
   "nbconvert_exporter": "python",
   "pygments_lexer": "ipython3",
   "version": "3.9.2"
  }
 },
 "nbformat": 4,
 "nbformat_minor": 5
}
