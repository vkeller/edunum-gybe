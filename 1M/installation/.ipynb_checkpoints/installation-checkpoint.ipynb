{
 "cells": [
  {
   "cell_type": "markdown",
   "id": "afa6d3ae",
   "metadata": {},
   "source": [
    "# Environnement de développement"
   ]
  },
  {
   "cell_type": "markdown",
   "id": "3f3e7de5",
   "metadata": {},
   "source": [
    "Un *environnement de développement* ("
   ]
  }
 ],
 "metadata": {
  "kernelspec": {
   "display_name": "Python 3",
   "language": "python",
   "name": "python3"
  },
  "language_info": {
   "codemirror_mode": {
    "name": "ipython",
    "version": 3
   },
   "file_extension": ".py",
   "mimetype": "text/x-python",
   "name": "python",
   "nbconvert_exporter": "python",
   "pygments_lexer": "ipython3",
   "version": "3.7.3"
  }
 },
 "nbformat": 4,
 "nbformat_minor": 5
}
