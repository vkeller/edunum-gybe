{
 "cells": [
  {
   "cell_type": "markdown",
   "id": "e1da23d7-3c80-4b5a-bbcc-472595a0259c",
   "metadata": {},
   "source": [
    "![couteau](images/couteau.jpg)\n",
    "\n",
    "# Outils utiles pour le cours d'informatique\n",
    "\n",
    "Il existe quantité d'outils utiles pour le cours d'informatique. Comme précisé dans [la page de généralités](generalites.ipynb), chaque citation vers un résultat doit être *sourcé* ou *référencé* (y compris pour les intelligences artificielles génératives. Voici une liste vers des outils qui peuvent se révéler sources d'information utiles pour le travail durant les cours, les travaux pratiques et le travail à la  maison en cours d'informatique\n",
    "\n",
    "**Cette liste n'est pas exhaustive et est continuellement mise à jour**"
   ]
  },
  {
   "cell_type": "markdown",
   "id": "d0250a5d-d482-4117-b915-141d0b6bb337",
   "metadata": {},
   "source": [
    "## IA génératives pour la programmation\n",
    "\n",
    "Pour vous aider dans votre progression en programmation (lors de révisions), il existe des IA génératives qui peuvent jouer le rôle d'un assistant. Citons\n",
    "\n",
    "- [ZZZCode.AI](https://zzzcode.ai/) est une intelligence artificielle générative qui permet de :\n",
    "    1. Générer du code Python à partir d'un prompt proche de ChatGPT\n",
    "    1. Corriger du code Python avec des commentaires en français expliquant chaque erreur (bug) et le moyen de la corriger \n",
    "- [ChatGPT](https://chatgpt.com/) n'est pas aussi orienté que ZZCode.AI mais peut être un bon point de départ"
   ]
  },
  {
   "cell_type": "markdown",
   "id": "fc055e7c-4a73-460a-9de5-3d9597e27cea",
   "metadata": {},
   "source": [
    "### Comment *bien utiliser* une IA générative pour le coding\n",
    "\n",
    "Comme toutes les IA génératives, le coeur d'un bon résultat est la qualité des **prompts** utilisés. Par construction, une IA générative permet d'affiner les réponses par des interactions avec l'utilisatrice ou l'utilisateur. \n",
    "\n",
    "Demandons à Google Gemini quelles sont les 10 règles d'or faisant partie des bonnes pratiques pour un résultat proche des attentes d'un utilisateur :\n",
    "\n",
    "`Quelles sont les 5 règles d'or pour une bonne utilisation d'une intelligence artificielle avec des résultats correspondant aux attentes de l'utilisateur ?`\n",
    "\n",
    "> 1. **Sois clair dans tes demandes**: Plus tu es précis, meilleures seront mes réponses. Par exemple, au lieu de demander \"dis-moi quelque chose\", tu peux demander \"explique-moi la théorie de la relativité d'Einstein en termes simples\".\n",
    "> 1. **Varie tes questions**: J'aime apprendre de nouvelles choses ! Pose-moi des questions sur différents sujets, et je ferai de mon mieux pour y répondre.\n",
    "> 1. **Donne-moi du contexte**: Plus je connais le contexte de ta question, mieux je peux y répondre. Par exemple, si tu me demandes \"qui est cet acteur ?\", précise dans quel film tu l'as vu.\n",
    "> 1. **N'hésite pas à me corriger**: Si je fais une erreur, dis-le-moi ! C'est grâce à tes retours que je peux m'améliorer.\n",
    "> 1. **Amuse-toi ! L'intelligence artificielle**, c'est aussi pour s'amuser. Tu peux me demander de raconter une blague, d'écrire un poème ou de composer une musique.\n",
    "\n",
    "A noter que le quatrième point est un enjeu social majeur : l'outil est gratuit, c'est vous qui le nourrissez."
   ]
  },
  {
   "cell_type": "markdown",
   "id": "209c473d-9434-4ac7-986f-b129c632830d",
   "metadata": {},
   "source": [
    "## Outils de recherche\n",
    "\n",
    "- [La suite de recherche Google](https://www.google.ch). Notamment : \n",
    "    1. [Google Image](https://www.google.ch/imghp?hl=fr&ogbl) qui permet de rechercher des images en précisant le type de licence (propriétaire ou [creative commons](https://creativecommons.org/))\n",
    "    1. [Google Scholar](https://scholar.google.com/) qui permet de parcourir les revues scientifiques. Attention à vérifier la qualité de la publication (notamment que les articles ont été évalués par des pairs)\n",
    "- [Renouvaud](https://renouvaud1.primo.exlibrisgroup.com/discovery/search?vid=41BCULAUSA_LIB:VU2) qui permet de rechercher des ouvrages, articles et thèses dans le catalogue de la Bibliothèque Cantonale et Universitaire\n",
    "- [Scriptorium](https://scriptorium.bcu-lausanne.ch/page/home) : permet de rechercher un article ancien dans la plupart des journaux publiés dans le Canton de Vaud"
   ]
  },
  {
   "cell_type": "markdown",
   "id": "cc395f5d-f9e9-43ff-9544-75da75730b9e",
   "metadata": {},
   "source": [
    "### Comment *bien utiliser* un outil de recherche ?\n",
    "\n",
    "Il est souvent tentant de placer dans la barre de recherche un mot à chercher et de sélectionner le premier résultat. **Il n'y a rien de plus faux** dans l'utilisation et les outils d'intelligence articielle génératives le montrent. Prenons l'exemple de Google. Voici ce que répond [Google Gemini AI](), l'application dIA générative de Google lorsqu'on lui demande `Peux-tu me donner les 10 règles principales de recherche sur le moteur Google`:\n",
    "\n",
    "> Absolument ! Voici 10 règles principales à garder en tête lorsque vous effectuez des recherches sur Google :\n",
    "> Les 10 règles d'or pour une recherche efficace sur Google\n",
    "\n",
    "> 1. **Soyez précis**: Plus votre requête est spécifique, plus les résultats seront pertinents. Au lieu de taper \"chaussures\", essayez \"chaussures de randonnée femme taille 40\".\n",
    "> 1. **Utilisez les guillemets**: Pour rechercher une phrase exacte, enfermez-la entre guillemets. Par exemple, \"meilleure recette de gâteau au chocolat\".\n",
    "> 1. **Utilisez les opérateurs booléens**:\n",
    ">      - **AND**: Pour combiner plusieurs mots clés (par exemple, \"voyage AND Paris\").\n",
    ">      - **OR**: Pour inclure plusieurs mots clés alternatifs (par exemple, \"hôtel OR auberge\").\n",
    ">      - **NOT**: Pour exclure un mot clé (par exemple, \"vélo NOT électrique\").\n",
    "> 1. **Exploitez les caractères génériques**: L'astérisque (*) remplace zéro ou plusieurs caractères (par exemple, \"recettes de *cake\").\n",
    "> 1. **Utilisez les opérateurs de site**: Pour limiter la recherche à un site spécifique (par exemple, \"site:wikipedia.org théorie de la relativité\").\n",
    "> 1. **Recherchez des types de fichiers**: Spécifiez le format de fichier désiré (par exemple, \"fichier pdf cours de français\").\n",
    "> 1. **Utilisez les outils de recherche avancés**: Google propose une interface plus complète pour affiner vos recherches (accessible via \"Outils\").\n",
    "> 1. **Vérifiez les sources**: Évaluez la crédibilité des sites qui apparaissent dans les résultats. Privilégiez les sources officielles, les institutions reconnues et les sites d'actualité fiables.\n",
    "> 1. **Utilisez les synonymes**: Si vous ne trouvez pas les résultats souhaités, essayez d'utiliser des synonymes.\n",
    "> 1. **Affinez votre recherche progressivement**: Si les premiers résultats ne sont pas satisfaisants, modifiez votre requête en ajoutant ou en supprimant des mots clés.\n",
    "\n"
   ]
  },
  {
   "cell_type": "code",
   "execution_count": null,
   "id": "72635d8d-7a57-4e7d-9eca-bab478bdc9d1",
   "metadata": {},
   "outputs": [],
   "source": []
  }
 ],
 "metadata": {
  "kernelspec": {
   "display_name": "Python 3 (ipykernel)",
   "language": "python",
   "name": "python3"
  },
  "language_info": {
   "codemirror_mode": {
    "name": "ipython",
    "version": 3
   },
   "file_extension": ".py",
   "mimetype": "text/x-python",
   "name": "python",
   "nbconvert_exporter": "python",
   "pygments_lexer": "ipython3",
   "version": "3.9.2"
  }
 },
 "nbformat": 4,
 "nbformat_minor": 5
}
