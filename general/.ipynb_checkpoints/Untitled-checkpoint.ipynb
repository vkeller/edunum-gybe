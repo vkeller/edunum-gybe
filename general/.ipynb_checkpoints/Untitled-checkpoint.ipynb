{
 "cells": [
  {
   "cell_type": "markdown",
   "id": "563c2ea4-81af-4c26-86f5-4ed6199e880a",
   "metadata": {},
   "source": [
    "# Généralités"
   ]
  },
  {
   "cell_type": "markdown",
   "id": "b63bdd8f-cda3-47a5-9c55-d9c80f690b2b",
   "metadata": {},
   "source": [
    "## IA générative"
   ]
  },
  {
   "cell_type": "code",
   "execution_count": null,
   "id": "3d9f03af-a07c-4966-8f28-644e570342b7",
   "metadata": {},
   "outputs": [],
   "source": []
  }
 ],
 "metadata": {
  "kernelspec": {
   "display_name": "Python 3 (ipykernel)",
   "language": "python",
   "name": "python3"
  },
  "language_info": {
   "codemirror_mode": {
    "name": "ipython",
    "version": 3
   },
   "file_extension": ".py",
   "mimetype": "text/x-python",
   "name": "python",
   "nbconvert_exporter": "python",
   "pygments_lexer": "ipython3",
   "version": "3.9.2"
  }
 },
 "nbformat": 4,
 "nbformat_minor": 5
}
