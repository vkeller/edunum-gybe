{
 "cells": [
  {
   "cell_type": "markdown",
   "id": "563c2ea4-81af-4c26-86f5-4ed6199e880a",
   "metadata": {},
   "source": [
    "![success](images/success.jpg \"Succès\")\n",
    "\n",
    "# Esprit critique, fraude, plagiat et ChatGPT\n",
    "\n",
    "Vous trouverez ici quelques conseils et mises en garde pour le succès de vos études en informatique."
   ]
  },
  {
   "cell_type": "markdown",
   "id": "f09cbb43-d3e3-4364-98dd-c54f713de3b7",
   "metadata": {},
   "source": [
    "# Démarche scientifique et esprit critique\n",
    "\n",
    "Toutes les disciplines enseignées au gymnase, de la première année à la dernière, reposent sur une méthode scientifique établie: théorie, prédiction, expérience et vérification. Cela est vrai pour les sciences humaines ou les sciences dites *dures* telle qu'est la **science informatique**, objet de ce cours. \n",
    "\n",
    "Sans entrer dans les détails philosophiques de la démarche scientifique, on peut la résumer à un cycle (source : wikipedia) :\n",
    "\n",
    "![methode](images/methode.jpg \"Méthode scientifique\")\n",
    "\n",
    "Le but du gymnase est de transmettre des connaissances. C'est généralement à l'Université que l'on produit de nouvelles connaissances par la **recherche scientifique**. L'acquisition des connaissances par les élèves du gymnase demande d'appliquer une démarche scientifique à l'objet d'études. \n",
    "\n",
    "L'**esprit critique** vise à analyser des faits, des hypothèses en appliquant un **raisonnement rigoureux et honnête**. La **pensée magique**, les **croyances** n'ont pas leur place ici. "
   ]
  },
  {
   "cell_type": "markdown",
   "id": "b63bdd8f-cda3-47a5-9c55-d9c80f690b2b",
   "metadata": {},
   "source": [
    "# Fraude et plagiat\n",
    "\n",
    "Qui dit rigueur et honnêté, dit aussi **rejet de la faute et du plagiat**. D'une part parce que ceux-ci sont sévèrement punis par le [réglement du gymnase de Beaulieu](https://www.gymnasedebeaulieu.ch/wp-content/uploads/2017/07/RI-gy-Beaulieu-2011-05.15.pdf) ainsi que par le [réglement des gymnases](https://www.gymnasedebeaulieu.ch/wp-content/uploads/2022/08/RGY_avec-commentaires_01.08.2022.pdf) mais surtout parce qu'ils tendent à éloigner l'élève de l'acquisition des connaissances.\n",
    "\n",
    "## La fraude\n",
    "\n",
    "La fraude consiste à tromper de manière délibérée. \n",
    "\n",
    "## Le plagiat\n",
    "\n",
    "Le plagiat consiste à s'approprier des idées, des raisonnements ou le travail d'une ou d'un autre sans l'avoir explicitement **cité**. "
   ]
  },
  {
   "cell_type": "markdown",
   "id": "c591776a-a31b-4591-8756-132e1fd2868b",
   "metadata": {},
   "source": [
    "# Intelligence artificielle générative\n",
    "\n",
    "Une **Intelligence Artificielle Générative** (*IAg*) est un type d'intelligence artificielle qui permet de générer de nouveaux contenus en fonction d'interactions (et d'historique) avec un utilisateur. Une intelligence artificielle est construite sur un réseau de neurones artificielles qui a été entraîné avec des quantités gigantesques de données (*big data*) récupérées sur le réseau des réseaux, parfois de manière illégale."
   ]
  },
  {
   "cell_type": "markdown",
   "id": "f081195e-7442-4b71-85e4-662a9733f0ab",
   "metadata": {},
   "source": [
    "## ChatGPT\n",
    "\n",
    "Parmi toutes les IAg accessibles gratuitement ou au travers d'un abonnement de quelques dollars par mois, existe la plus connue - et sans doute la plus utilisée - [ChatGPT](https://openai.com/chatgpt). ChatGPT est capable de transformer un texte en une image, un nouveau texte, un code informatique, une traduction, etc.."
   ]
  },
  {
   "cell_type": "markdown",
   "id": "7cc6157c-b229-4054-b1f9-5f2db0cbe966",
   "metadata": {},
   "source": [
    "## Est-ce interdit de l'utiliser au gymnase ?\n",
    "\n",
    "**NON, NON, NON et encore NON**. C'est un outil formidable qui peut permettre d'accélérer les apprentissages. **S'il est correctement utilisé**, c'est-à-dire si on est capable de :\n",
    "\n",
    "1. Donner les bons *prompts* (le texte qui sera analysé par ChatGPT)\n",
    "1. Avoir un esprit critique sur la réponse\n",
    "\n",
    "Exemple de prompt : \"Par quel chemin dois-je passer pour aller du gymnase de Beaulieu au MacDonalds de Saint-Laurent ?\"\n",
    "\n",
    "Et voici le résultat :\n",
    "\n",
    "![macdo](images/macdo.jpg)\n",
    "\n",
    "Relevez les erreurs !\n",
    "\n",
    "![macdotraceerreurserreurs](images/trace.jpg)\n",
    "\n",
    "Dans cet exemple, les erreurs vous paraissent **évidentes** parce que vous avez une connaissance *a priori* de la topologie de la ville de Lausanne et que pour aller du Gymnase de Beaulieu (situé au Maupas) au Macdo de Saint-Laurent, il vous suffit d'aller tout droit sur le Maupas. Vous utilisez votre esprit critique. Vous mobilisez vos compétences déjà acquises. \n",
    "\n",
    "Imaginez que vous preniez pour argent comptant ce que vous renvoie ChatGPT sur un sujet dont vous n'avez pas ou peu de connaissances ?"
   ]
  },
  {
   "cell_type": "markdown",
   "id": "dd7e4ae0-c08b-4ce0-88f8-bf29f916b400",
   "metadata": {},
   "source": [
    "## Et dans le cadre du cours d'informatique ?\n",
    "\n",
    "L'une des choses que ChatGPT sait bien exécuter, c'est de produire du code informatique jusqu'à un niveau intermédiaire. Au-delà, ce sont des compétences de vraies programmeuses et programmeurs qui sont requises (et donc des années de formation et d'expérience). \n",
    "\n",
    "Par exemple :\n",
    "\n",
    "![chatgptpython](images/chatgpt.jpg)"
   ]
  },
  {
   "cell_type": "markdown",
   "id": "7acb4c9e-0a67-4247-a70a-554c9209c1b7",
   "metadata": {},
   "source": [
    "Cela produit le code Python suivant :"
   ]
  },
  {
   "cell_type": "code",
   "execution_count": 1,
   "id": "5dfc0174-59d8-4a03-994c-93dbcb7af7f8",
   "metadata": {},
   "outputs": [
    {
     "name": "stdout",
     "output_type": "stream",
     "text": [
      "Les solutions de l'équation sont : (2.0, 1.0)\n"
     ]
    }
   ],
   "source": [
    "import math\n",
    "\n",
    "def solve_quadratic(a, b, c):\n",
    "    # Calculer le discriminant\n",
    "    discriminant = b**2 - 4*a*c\n",
    "    \n",
    "    if discriminant > 0:\n",
    "        # Deux solutions réelles\n",
    "        root1 = (-b + math.sqrt(discriminant)) / (2*a)\n",
    "        root2 = (-b - math.sqrt(discriminant)) / (2*a)\n",
    "        return root1, root2\n",
    "    elif discriminant == 0:\n",
    "        # Une solution réelle\n",
    "        root = -b / (2*a)\n",
    "        return root,\n",
    "    else:\n",
    "        # Pas de solution réelle\n",
    "        return None\n",
    "\n",
    "# Exemple d'utilisation\n",
    "a = 1\n",
    "b = -3\n",
    "c = 2\n",
    "\n",
    "solutions = solve_quadratic(a, b, c)\n",
    "\n",
    "if solutions:\n",
    "    print(f\"Les solutions de l'équation sont : {solutions}\")\n",
    "else:\n",
    "    print(\"Il n'y a pas de solution réelle pour cette équation.\")"
   ]
  },
  {
   "cell_type": "markdown",
   "id": "26abf9ae-d3a4-4b5e-bbd5-266754cab7a3",
   "metadata": {},
   "source": [
    "## Impacts sur le cours d'informatique\n",
    "\n",
    "Il y en a essentiellement **DEUX** :\n",
    "\n",
    "1. Je ne vous donnerai pas de devoir à faire à la maison et à rendre pour correction lorsque ChatGPT peut vous le produire en quelques secondes. Je ne suis pas payé pour corriger des sorties de ChatGPT, je suis payé pour vous amener en deuxième année avec un solide bagage en science informatqiue.\n",
    "1. C'est vous qui pouvez utiliser ChatGPT pour vous produire des exercices, proposer des solutions pour correction voir même des quizz à la maison pour que vous puissiez progresser. \n",
    "\n",
    "Il est évident que je suis à disposition pour répondre à toutes les questions que vous pouvez vous poser lorsque vous utilisez ChatGPT, y compris sur ses réponses. "
   ]
  },
  {
   "cell_type": "markdown",
   "id": "5fd8eecc-2464-4ee8-bb73-69f116d11bb0",
   "metadata": {},
   "source": [
    "# IAg, fraude et plagiat\n",
    "\n",
    "Pour nouer la gerbe, l'utilisation d'une intelligence artificielle générative telle que ChatGPT est encouragé dans le cadre du cours d'informatique. Lorsqu'une IAg est utilisée, alors elle doit être explicitement citée comme telle (entre guillemets dans le texte) **avec l'entier des prompts qui ont mené à la citation**. \n",
    "\n",
    "Exemple :\n",
    "\n",
    "> (...) Nous partirons de cette définition de la **science informatique** : \"La science informatique est l'étude des systèmes de traitement de l'information, couvrant la programmation, les algorithmes, l'IA, les réseaux et la sécurité, pour concevoir, analyser et optimiser les systèmes informatiques.\" $^1$\n",
    ">\n",
    "> $^1$ *ChatGPT version 3.5*. Prompts utilisés : \"Définition de science informatique\" puis \"Je souhaite une définition de la science informatique en 200 caractères\"\n",
    "\n",
    "Dans ce cours, toute infraction à cette obligation mène à **la note de 1**. "
   ]
  },
  {
   "cell_type": "code",
   "execution_count": null,
   "id": "d2ba333e-9222-43d4-8a8c-0c9e817783af",
   "metadata": {},
   "outputs": [],
   "source": []
  }
 ],
 "metadata": {
  "kernelspec": {
   "display_name": "Python 3 (ipykernel)",
   "language": "python",
   "name": "python3"
  },
  "language_info": {
   "codemirror_mode": {
    "name": "ipython",
    "version": 3
   },
   "file_extension": ".py",
   "mimetype": "text/x-python",
   "name": "python",
   "nbconvert_exporter": "python",
   "pygments_lexer": "ipython3",
   "version": "3.9.2"
  }
 },
 "nbformat": 4,
 "nbformat_minor": 5
}
